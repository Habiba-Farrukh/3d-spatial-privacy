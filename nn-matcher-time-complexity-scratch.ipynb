{
 "cells": [
  {
   "cell_type": "code",
   "execution_count": 1,
   "metadata": {},
   "outputs": [],
   "source": [
    "%matplotlib inline\n",
    "\n",
    "import numpy as np\n",
    "import sys\n",
    "import os\n",
    "import matplotlib.pyplot as plt\n",
    "import math\n",
    "import pickle\n",
    "import pandas as pd\n",
    "import scipy.io\n",
    "import time\n",
    "import h5py\n",
    "import bz2\n",
    "import multiprocessing as mp\n",
    "\n",
    "\n",
    "from mpl_toolkits.mplot3d import Axes3D\n",
    "from matplotlib.colors import ListedColormap, LinearSegmentedColormap\n",
    "from mpl_toolkits.axes_grid1.axes_divider import make_axes_locatable\n",
    "\n",
    "from numpy import linalg as LA\n",
    "from scipy.spatial import Delaunay\n",
    "from sklearn.neighbors import NearestNeighbors, KDTree\n",
    "\n",
    "from sklearn.metrics import f1_score\n",
    "from sklearn.metrics import precision_score\n",
    "from sklearn.metrics import recall_score\n",
    "from sklearn.metrics import matthews_corrcoef\n",
    "\n",
    "#sys.path.insert(0, \"../\")\n",
    "from info3d import *\n",
    "from nn_matchers import *"
   ]
  },
  {
   "cell_type": "markdown",
   "metadata": {},
   "source": [
    "# Extracting the point collection and the descriptors"
   ]
  },
  {
   "cell_type": "code",
   "execution_count": 2,
   "metadata": {},
   "outputs": [],
   "source": [
    "with open('point_collection/new_contiguous_point_collection.pickle','rb') as f: \n",
    "    new_contiguous_point_collection = pickle.load(f)\n",
    "    \n",
    "with open('descriptors/new_complete_res5_4by5_descriptors.pickle','rb') as f:\n",
    "    descriptors = pickle.load(f)\n",
    "    \n",
    "with open('descriptors/new_complete_RANSAC_res5_4by5_descriptors.pickle','rb') as f:\n",
    "    ransac_descriptors = pickle.load(f)\n",
    "    \n",
    "with open('descriptors/new_complete_res5_4by5_descriptors_test1.pickle','rb') as f:\n",
    "    descriptorsT1 = pickle.load(f)\n",
    "    \n",
    "results_path = 'testing_results'\n",
    "\n",
    "if not os.path.exists(results_path): os.mkdir(results_path)"
   ]
  },
  {
   "cell_type": "code",
   "execution_count": 5,
   "metadata": {},
   "outputs": [
    {
     "name": "stdout",
     "output_type": "stream",
     "text": [
      "Done with Reception-Data61-L5.obj in 35.92829871177673 seconds.\n",
      "  (40491, 6) (67174, 3)\n",
      "  (3817, 6) (3817, 20)\n",
      "Done with Driveway.obj in 74.54228663444519 seconds.\n",
      "  (56926, 6) (88560, 3)\n",
      "  (4864, 6) (4864, 20)\n",
      "Done with Apartment.obj in 127.77676129341125 seconds.\n",
      "  (72859, 6) (126700, 3)\n",
      "  (6097, 6) (6097, 20)\n",
      "Done with Workstations-Data61-L4.obj in 145.21020936965942 seconds.\n",
      "  (73215, 6) (121972, 3)\n",
      "  (7064, 6) (7064, 20)\n",
      "Done with Kitchen-Data61-L4.obj in 265.8257749080658 seconds.\n",
      "  (102337, 6) (176558, 3)\n",
      "  (9871, 6) (9871, 20)\n",
      "Done with HallWayToKitchen-Data61-L4.obj in 18.013182163238525 seconds.\n",
      "  (26398, 6) (44989, 3)\n",
      "  (2983, 6) (2983, 20)\n",
      "Done with StairWell-Data61-L4.obj in 162.20634531974792 seconds.\n",
      "  (77903, 6) (129848, 3)\n",
      "  (7647, 6) (7647, 20)\n"
     ]
    }
   ],
   "source": [
    "# Get descriptors using the new descrioptor extraction method.\n",
    "\n",
    "descriptorsT1 = []\n",
    "\n",
    "for object_name, pointCloud, triangles in new_contiguous_point_collection:\n",
    "            \n",
    "    t0 = time.time()\n",
    "    \n",
    "    try:\n",
    "        t_descriptors, t_keypoints, t_d_c, _, _ = getSpinImageDescriptorsTest1(\n",
    "            pointCloud,\n",
    "            down_resolution = 7,\n",
    "            cylindrical_quantization = [4,5]\n",
    "        )\n",
    "        #print(\"Got the true descriptors\",t_descriptors.shape,t_keypoints.shape)\n",
    "    except Exception as ex:\n",
    "        print(ex)\n",
    "        print(\"Error getting the true descriptors of\",object_name,\"with size\",pointCloud.shape)\n",
    "\n",
    "\n",
    "    print(\"Done with\",object_name,\"in\",time.time()-t0,\"seconds.\")\n",
    "    print(\" \",pointCloud.shape,triangles.shape)\n",
    "    print(\" \",t_keypoints.shape,t_descriptors.shape)\n",
    "        \n",
    "    descriptorsT1.append([\n",
    "        object_name,\n",
    "        t_descriptors,\n",
    "        t_keypoints,\n",
    "        t_d_c\n",
    "    ])\n",
    "    \n",
    "with open('descriptors/new_complete_res5_4by5_descriptors_test1.pickle','wb') as f:\n",
    "    pickle.dump(descriptorsT1,f)"
   ]
  },
  {
   "cell_type": "code",
   "execution_count": 3,
   "metadata": {},
   "outputs": [
    {
     "data": {
      "text/plain": [
       "(1000, 300)"
      ]
     },
     "execution_count": 3,
     "metadata": {},
     "output_type": "execute_result"
    }
   ],
   "source": [
    "# We'll use only a 300 samples for this.\n",
    "with open('sample_points.pickle','rb') as f:\n",
    "    sample_points = pickle.load(f)\n",
    "    \n",
    "sample_points_300 = np.random.choice(1000,300,False)\n",
    "\n",
    "len(sample_points), len(sample_points_300)"
   ]
  },
  {
   "cell_type": "markdown",
   "metadata": {},
   "source": [
    "# Step 1.1: Raw spaces (validation)"
   ]
  },
  {
   "cell_type": "code",
   "execution_count": 4,
   "metadata": {},
   "outputs": [
    {
     "data": {
      "image/png": "[encoded data removed]",
      "text/plain": [
       "<Figure size 432x288 with 1 Axes>"
      ]
     },
     "metadata": {
      "needs_background": "light"
     },
     "output_type": "display_data"
    }
   ],
   "source": [
    "with open('testing_results/partial/raw_evaluation_properties.pickle','rb') as f:\n",
    "    raw_evaluation_properties = pickle.load(f)\n",
    "    \n",
    "plt.grid(alpha = 0.7)\n",
    "plt.ylim(0.1,100)\n",
    "plt.xlim(5,2000)\n",
    "plt.xlabel(\"Number of keypoints\", fontsize = 14)\n",
    "plt.ylabel(\"Inference Processing time (s)\", fontsize = 14)\n",
    "plt.xticks([10,100,1000],[10,100,1000])\n",
    "\n",
    "overall_simp_properties = []\n",
    "\n",
    "for radius, properties in raw_evaluation_properties:\n",
    "    #properties = np.asarray(properties)\n",
    "    simp_properties = []\n",
    "    for ratio_s, index_s, score_s, proc_time in properties:\n",
    "        simp_properties.append([\n",
    "            radius, \n",
    "            ratio_s[0],\n",
    "            proc_time\n",
    "        ])\n",
    "        \n",
    "    \n",
    "    simp_properties = np.asarray(simp_properties)\n",
    "    plt.scatter(\n",
    "        simp_properties[:,1],\n",
    "        simp_properties[:,2],\n",
    "        #facecolors = 'none',\n",
    "        linewidth = 2,\n",
    "        label = str(radius)\n",
    "    )\n",
    "    \n",
    "    overall_simp_properties.append([\n",
    "        radius,\n",
    "        np.mean(simp_properties[:,1]),\n",
    "        np.std(simp_properties[:,1]),\n",
    "        np.mean(simp_properties[:,2]),\n",
    "        np.std(simp_properties[:,2])\n",
    "    ])\n",
    "\n",
    "plt.xscale('log')\n",
    "plt.yscale('log')\n",
    "plt.legend()\n",
    "    \n",
    "#radius, properties[1]\n",
    "overall_simp_properties =np.asarray(overall_simp_properties)"
   ]
  },
  {
   "cell_type": "code",
   "execution_count": 9,
   "metadata": {
    "scrolled": true
   },
   "outputs": [
    {
     "name": "stdout",
     "output_type": "stream",
     "text": [
      "radius = 0.25\n"
     ]
    },
    {
     "name": "stderr",
     "output_type": "stream",
     "text": [
      "/srv/jaybie/archive/spatial-privacy-master/nn_matchers.py:688: FutureWarning: in the future insert will treat boolean arrays and array-likes as a boolean index instead of casting it to integer\n",
      "  good_matches_kp_idx = np.insert(good_matches[good_matches_ref_kp],True,good_matches_ref_kp)\n"
     ]
    },
    {
     "name": "stdout",
     "output_type": "stream",
     "text": [
      "   0.25 : Done with 2, in 0.531 seconds. Error rate 0.500\n",
      "   (12, 7) (12, 7, 2) (12, 7, 2) in 0.257 seconds\n"
     ]
    },
    {
     "name": "stderr",
     "output_type": "stream",
     "text": [
      "/srv/jaybie/archive/spatial-privacy-master/nn_matchers.py:688: FutureWarning: in the future insert will treat boolean arrays and array-likes as a boolean index instead of casting it to integer\n",
      "  good_matches_kp_idx = np.insert(good_matches[good_matches_ref_kp],True,good_matches_ref_kp)\n",
      "/home/jaybie/.conda/envs/3d_env/lib/python3.7/site-packages/numpy/core/fromnumeric.py:3118: RuntimeWarning: Mean of empty slice.\n",
      "  out=out, **kwargs)\n",
      "/home/jaybie/.conda/envs/3d_env/lib/python3.7/site-packages/numpy/core/_methods.py:78: RuntimeWarning: invalid value encountered in true_divide\n",
      "  ret, rcount, out=ret, casting='unsafe', subok=False)\n"
     ]
    },
    {
     "name": "stdout",
     "output_type": "stream",
     "text": [
      "   0.25 : Done with 68, in 17.081 seconds. Error rate 0.809\n",
      "   (8, 7) (8, 7, 2) (8, 7, 2) in 0.244 seconds\n"
     ]
    },
    {
     "name": "stderr",
     "output_type": "stream",
     "text": [
      "/srv/jaybie/archive/spatial-privacy-master/nn_matchers.py:688: FutureWarning: in the future insert will treat boolean arrays and array-likes as a boolean index instead of casting it to integer\n",
      "  good_matches_kp_idx = np.insert(good_matches[good_matches_ref_kp],True,good_matches_ref_kp)\n",
      "/home/jaybie/.conda/envs/3d_env/lib/python3.7/site-packages/numpy/core/fromnumeric.py:3118: RuntimeWarning: Mean of empty slice.\n",
      "  out=out, **kwargs)\n",
      "/home/jaybie/.conda/envs/3d_env/lib/python3.7/site-packages/numpy/core/_methods.py:78: RuntimeWarning: invalid value encountered in true_divide\n",
      "  ret, rcount, out=ret, casting='unsafe', subok=False)\n"
     ]
    },
    {
     "name": "stdout",
     "output_type": "stream",
     "text": [
      "   0.25 : Done with 134, in 16.951 seconds. Error rate 0.828\n",
      "   (12, 7) (12, 7, 2) (12, 7, 2) in 0.244 seconds\n"
     ]
    },
    {
     "name": "stderr",
     "output_type": "stream",
     "text": [
      "/srv/jaybie/archive/spatial-privacy-master/nn_matchers.py:688: FutureWarning: in the future insert will treat boolean arrays and array-likes as a boolean index instead of casting it to integer\n",
      "  good_matches_kp_idx = np.insert(good_matches[good_matches_ref_kp],True,good_matches_ref_kp)\n",
      "/home/jaybie/.conda/envs/3d_env/lib/python3.7/site-packages/numpy/core/fromnumeric.py:3118: RuntimeWarning: Mean of empty slice.\n",
      "  out=out, **kwargs)\n",
      "/home/jaybie/.conda/envs/3d_env/lib/python3.7/site-packages/numpy/core/_methods.py:78: RuntimeWarning: invalid value encountered in true_divide\n",
      "  ret, rcount, out=ret, casting='unsafe', subok=False)\n"
     ]
    },
    {
     "name": "stdout",
     "output_type": "stream",
     "text": [
      "   0.25 : Done with 200, in 17.055 seconds. Error rate 0.835\n",
      "   (7, 7) (7, 7, 2) (7, 7, 2) in 0.265 seconds\n"
     ]
    },
    {
     "name": "stderr",
     "output_type": "stream",
     "text": [
      "/srv/jaybie/archive/spatial-privacy-master/nn_matchers.py:688: FutureWarning: in the future insert will treat boolean arrays and array-likes as a boolean index instead of casting it to integer\n",
      "  good_matches_kp_idx = np.insert(good_matches[good_matches_ref_kp],True,good_matches_ref_kp)\n",
      "/home/jaybie/.conda/envs/3d_env/lib/python3.7/site-packages/numpy/core/fromnumeric.py:3118: RuntimeWarning: Mean of empty slice.\n",
      "  out=out, **kwargs)\n",
      "/home/jaybie/.conda/envs/3d_env/lib/python3.7/site-packages/numpy/core/_methods.py:78: RuntimeWarning: invalid value encountered in true_divide\n",
      "  ret, rcount, out=ret, casting='unsafe', subok=False)\n"
     ]
    },
    {
     "name": "stdout",
     "output_type": "stream",
     "text": [
      "   0.25 : Done with 266, in 17.222 seconds. Error rate 0.823\n",
      "   (9, 7) (9, 7, 2) (9, 7, 2) in 0.248 seconds\n",
      "0.25  Total Time to match 78.109 seconds.\n",
      "radius = 0.75\n"
     ]
    },
    {
     "name": "stderr",
     "output_type": "stream",
     "text": [
      "/srv/jaybie/archive/spatial-privacy-master/nn_matchers.py:688: FutureWarning: in the future insert will treat boolean arrays and array-likes as a boolean index instead of casting it to integer\n",
      "  good_matches_kp_idx = np.insert(good_matches[good_matches_ref_kp],True,good_matches_ref_kp)\n"
     ]
    },
    {
     "name": "stdout",
     "output_type": "stream",
     "text": [
      "   0.75 : Done with 2, in 0.676 seconds. Error rate 0.500\n",
      "   (62, 7) (62, 7, 2) (62, 7, 2) in 0.365 seconds\n"
     ]
    },
    {
     "name": "stderr",
     "output_type": "stream",
     "text": [
      "/srv/jaybie/archive/spatial-privacy-master/nn_matchers.py:688: FutureWarning: in the future insert will treat boolean arrays and array-likes as a boolean index instead of casting it to integer\n",
      "  good_matches_kp_idx = np.insert(good_matches[good_matches_ref_kp],True,good_matches_ref_kp)\n"
     ]
    },
    {
     "name": "stdout",
     "output_type": "stream",
     "text": [
      "   0.75 : Done with 68, in 26.819 seconds. Error rate 0.750\n",
      "   (123, 7) (123, 7, 2) (123, 7, 2) in 0.548 seconds\n"
     ]
    },
    {
     "name": "stderr",
     "output_type": "stream",
     "text": [
      "/srv/jaybie/archive/spatial-privacy-master/nn_matchers.py:688: FutureWarning: in the future insert will treat boolean arrays and array-likes as a boolean index instead of casting it to integer\n",
      "  good_matches_kp_idx = np.insert(good_matches[good_matches_ref_kp],True,good_matches_ref_kp)\n"
     ]
    },
    {
     "name": "stdout",
     "output_type": "stream",
     "text": [
      "   0.75 : Done with 134, in 27.820 seconds. Error rate 0.739\n",
      "   (70, 7) (70, 7, 2) (70, 7, 2) in 0.377 seconds\n"
     ]
    },
    {
     "name": "stderr",
     "output_type": "stream",
     "text": [
      "/srv/jaybie/archive/spatial-privacy-master/nn_matchers.py:688: FutureWarning: in the future insert will treat boolean arrays and array-likes as a boolean index instead of casting it to integer\n",
      "  good_matches_kp_idx = np.insert(good_matches[good_matches_ref_kp],True,good_matches_ref_kp)\n"
     ]
    },
    {
     "name": "stdout",
     "output_type": "stream",
     "text": [
      "   0.75 : Done with 200, in 26.024 seconds. Error rate 0.765\n",
      "   (31, 7) (31, 7, 2) (31, 7, 2) in 0.307 seconds\n"
     ]
    },
    {
     "name": "stderr",
     "output_type": "stream",
     "text": [
      "/srv/jaybie/archive/spatial-privacy-master/nn_matchers.py:688: FutureWarning: in the future insert will treat boolean arrays and array-likes as a boolean index instead of casting it to integer\n",
      "  good_matches_kp_idx = np.insert(good_matches[good_matches_ref_kp],True,good_matches_ref_kp)\n"
     ]
    },
    {
     "name": "stdout",
     "output_type": "stream",
     "text": [
      "   0.75 : Done with 266, in 26.214 seconds. Error rate 0.778\n",
      "   (40, 7) (40, 7, 2) (40, 7, 2) in 0.299 seconds\n",
      "0.75  Total Time to match 125.245 seconds.\n",
      "radius = 1.25\n",
      "   1.25 : Done with 2, in 1.301 seconds. Error rate 1.000\n",
      "   (147, 7) (147, 7, 2) (147, 7, 2) in 0.581 seconds\n"
     ]
    },
    {
     "name": "stderr",
     "output_type": "stream",
     "text": [
      "/srv/jaybie/archive/spatial-privacy-master/nn_matchers.py:688: FutureWarning: in the future insert will treat boolean arrays and array-likes as a boolean index instead of casting it to integer\n",
      "  good_matches_kp_idx = np.insert(good_matches[good_matches_ref_kp],True,good_matches_ref_kp)\n"
     ]
    },
    {
     "name": "stdout",
     "output_type": "stream",
     "text": [
      "   1.25 : Done with 68, in 52.120 seconds. Error rate 0.676\n",
      "   (269, 7) (269, 7, 2) (269, 7, 2) in 0.994 seconds\n"
     ]
    },
    {
     "name": "stderr",
     "output_type": "stream",
     "text": [
      "/srv/jaybie/archive/spatial-privacy-master/nn_matchers.py:688: FutureWarning: in the future insert will treat boolean arrays and array-likes as a boolean index instead of casting it to integer\n",
      "  good_matches_kp_idx = np.insert(good_matches[good_matches_ref_kp],True,good_matches_ref_kp)\n"
     ]
    },
    {
     "name": "stdout",
     "output_type": "stream",
     "text": [
      "   1.25 : Done with 134, in 56.438 seconds. Error rate 0.590\n",
      "   (227, 7) (227, 7, 2) (227, 7, 2) in 0.826 seconds\n"
     ]
    },
    {
     "name": "stderr",
     "output_type": "stream",
     "text": [
      "/srv/jaybie/archive/spatial-privacy-master/nn_matchers.py:688: FutureWarning: in the future insert will treat boolean arrays and array-likes as a boolean index instead of casting it to integer\n",
      "  good_matches_kp_idx = np.insert(good_matches[good_matches_ref_kp],True,good_matches_ref_kp)\n"
     ]
    },
    {
     "name": "stdout",
     "output_type": "stream",
     "text": [
      "   1.25 : Done with 200, in 52.694 seconds. Error rate 0.620\n",
      "   (120, 7) (120, 7, 2) (120, 7, 2) in 0.537 seconds\n"
     ]
    },
    {
     "name": "stderr",
     "output_type": "stream",
     "text": [
      "/srv/jaybie/archive/spatial-privacy-master/nn_matchers.py:688: FutureWarning: in the future insert will treat boolean arrays and array-likes as a boolean index instead of casting it to integer\n",
      "  good_matches_kp_idx = np.insert(good_matches[good_matches_ref_kp],True,good_matches_ref_kp)\n"
     ]
    },
    {
     "name": "stdout",
     "output_type": "stream",
     "text": [
      "   1.25 : Done with 266, in 51.836 seconds. Error rate 0.628\n",
      "   (144, 7) (144, 7, 2) (144, 7, 2) in 0.568 seconds\n",
      "1.25  Total Time to match 253.001 seconds.\n",
      "radius = 1.75\n"
     ]
    },
    {
     "name": "stderr",
     "output_type": "stream",
     "text": [
      "/srv/jaybie/archive/spatial-privacy-master/nn_matchers.py:688: FutureWarning: in the future insert will treat boolean arrays and array-likes as a boolean index instead of casting it to integer\n",
      "  good_matches_kp_idx = np.insert(good_matches[good_matches_ref_kp],True,good_matches_ref_kp)\n"
     ]
    },
    {
     "name": "stdout",
     "output_type": "stream",
     "text": [
      "   1.75 : Done with 2, in 2.123 seconds. Error rate 0.500\n",
      "   (246, 7) (246, 7, 2) (246, 7, 2) in 0.871 seconds\n"
     ]
    },
    {
     "name": "stderr",
     "output_type": "stream",
     "text": [
      "/srv/jaybie/archive/spatial-privacy-master/nn_matchers.py:688: FutureWarning: in the future insert will treat boolean arrays and array-likes as a boolean index instead of casting it to integer\n",
      "  good_matches_kp_idx = np.insert(good_matches[good_matches_ref_kp],True,good_matches_ref_kp)\n"
     ]
    },
    {
     "name": "stdout",
     "output_type": "stream",
     "text": [
      "   1.75 : Done with 68, in 98.406 seconds. Error rate 0.412\n",
      "   (512, 7) (512, 7, 2) (512, 7, 2) in 1.889 seconds\n"
     ]
    },
    {
     "name": "stderr",
     "output_type": "stream",
     "text": [
      "/srv/jaybie/archive/spatial-privacy-master/nn_matchers.py:688: FutureWarning: in the future insert will treat boolean arrays and array-likes as a boolean index instead of casting it to integer\n",
      "  good_matches_kp_idx = np.insert(good_matches[good_matches_ref_kp],True,good_matches_ref_kp)\n"
     ]
    },
    {
     "name": "stdout",
     "output_type": "stream",
     "text": [
      "   1.75 : Done with 134, in 111.217 seconds. Error rate 0.373\n",
      "   (392, 7) (392, 7, 2) (392, 7, 2) in 1.403 seconds\n"
     ]
    },
    {
     "name": "stderr",
     "output_type": "stream",
     "text": [
      "/srv/jaybie/archive/spatial-privacy-master/nn_matchers.py:688: FutureWarning: in the future insert will treat boolean arrays and array-likes as a boolean index instead of casting it to integer\n",
      "  good_matches_kp_idx = np.insert(good_matches[good_matches_ref_kp],True,good_matches_ref_kp)\n"
     ]
    },
    {
     "name": "stdout",
     "output_type": "stream",
     "text": [
      "   1.75 : Done with 200, in 101.859 seconds. Error rate 0.430\n",
      "   (283, 7) (283, 7, 2) (283, 7, 2) in 1.109 seconds\n"
     ]
    },
    {
     "name": "stderr",
     "output_type": "stream",
     "text": [
      "/srv/jaybie/archive/spatial-privacy-master/nn_matchers.py:688: FutureWarning: in the future insert will treat boolean arrays and array-likes as a boolean index instead of casting it to integer\n",
      "  good_matches_kp_idx = np.insert(good_matches[good_matches_ref_kp],True,good_matches_ref_kp)\n"
     ]
    },
    {
     "name": "stdout",
     "output_type": "stream",
     "text": [
      "   1.75 : Done with 266, in 99.304 seconds. Error rate 0.436\n",
      "   (361, 7) (361, 7, 2) (361, 7, 2) in 1.253 seconds\n",
      "1.75  Total Time to match 488.616 seconds.\n",
      "radius = 2.25\n"
     ]
    },
    {
     "name": "stderr",
     "output_type": "stream",
     "text": [
      "/srv/jaybie/archive/spatial-privacy-master/nn_matchers.py:688: FutureWarning: in the future insert will treat boolean arrays and array-likes as a boolean index instead of casting it to integer\n",
      "  good_matches_kp_idx = np.insert(good_matches[good_matches_ref_kp],True,good_matches_ref_kp)\n"
     ]
    },
    {
     "name": "stdout",
     "output_type": "stream",
     "text": [
      "   2.25 : Done with 2, in 3.931 seconds. Error rate 0.500\n",
      "   (368, 7) (368, 7, 2) (368, 7, 2) in 1.465 seconds\n"
     ]
    },
    {
     "name": "stderr",
     "output_type": "stream",
     "text": [
      "/srv/jaybie/archive/spatial-privacy-master/nn_matchers.py:688: FutureWarning: in the future insert will treat boolean arrays and array-likes as a boolean index instead of casting it to integer\n",
      "  good_matches_kp_idx = np.insert(good_matches[good_matches_ref_kp],True,good_matches_ref_kp)\n"
     ]
    },
    {
     "name": "stdout",
     "output_type": "stream",
     "text": [
      "   2.25 : Done with 68, in 175.529 seconds. Error rate 0.324\n",
      "   (698, 7) (698, 7, 2) (698, 7, 2) in 2.739 seconds\n"
     ]
    },
    {
     "name": "stderr",
     "output_type": "stream",
     "text": [
      "/srv/jaybie/archive/spatial-privacy-master/nn_matchers.py:688: FutureWarning: in the future insert will treat boolean arrays and array-likes as a boolean index instead of casting it to integer\n",
      "  good_matches_kp_idx = np.insert(good_matches[good_matches_ref_kp],True,good_matches_ref_kp)\n"
     ]
    },
    {
     "name": "stdout",
     "output_type": "stream",
     "text": [
      "   2.25 : Done with 134, in 192.895 seconds. Error rate 0.343\n",
      "   (507, 7) (507, 7, 2) (507, 7, 2) in 1.842 seconds\n"
     ]
    },
    {
     "name": "stderr",
     "output_type": "stream",
     "text": [
      "/srv/jaybie/archive/spatial-privacy-master/nn_matchers.py:688: FutureWarning: in the future insert will treat boolean arrays and array-likes as a boolean index instead of casting it to integer\n",
      "  good_matches_kp_idx = np.insert(good_matches[good_matches_ref_kp],True,good_matches_ref_kp)\n"
     ]
    },
    {
     "name": "stdout",
     "output_type": "stream",
     "text": [
      "   2.25 : Done with 200, in 183.871 seconds. Error rate 0.315\n",
      "   (478, 7) (478, 7, 2) (478, 7, 2) in 2.126 seconds\n"
     ]
    },
    {
     "name": "stderr",
     "output_type": "stream",
     "text": [
      "/srv/jaybie/archive/spatial-privacy-master/nn_matchers.py:688: FutureWarning: in the future insert will treat boolean arrays and array-likes as a boolean index instead of casting it to integer\n",
      "  good_matches_kp_idx = np.insert(good_matches[good_matches_ref_kp],True,good_matches_ref_kp)\n"
     ]
    },
    {
     "name": "stdout",
     "output_type": "stream",
     "text": [
      "   2.25 : Done with 266, in 170.641 seconds. Error rate 0.323\n",
      "   (581, 7) (581, 7, 2) (581, 7, 2) in 2.161 seconds\n",
      "2.25  Total Time to match 860.632 seconds.\n",
      "radius = 2.75\n"
     ]
    },
    {
     "name": "stderr",
     "output_type": "stream",
     "text": [
      "/srv/jaybie/archive/spatial-privacy-master/nn_matchers.py:688: FutureWarning: in the future insert will treat boolean arrays and array-likes as a boolean index instead of casting it to integer\n",
      "  good_matches_kp_idx = np.insert(good_matches[good_matches_ref_kp],True,good_matches_ref_kp)\n"
     ]
    },
    {
     "name": "stdout",
     "output_type": "stream",
     "text": [
      "   2.75 : Done with 2, in 5.644 seconds. Error rate 0.000\n",
      "   (454, 7) (454, 7, 2) (454, 7, 2) in 1.651 seconds\n"
     ]
    },
    {
     "name": "stderr",
     "output_type": "stream",
     "text": [
      "/srv/jaybie/archive/spatial-privacy-master/nn_matchers.py:688: FutureWarning: in the future insert will treat boolean arrays and array-likes as a boolean index instead of casting it to integer\n",
      "  good_matches_kp_idx = np.insert(good_matches[good_matches_ref_kp],True,good_matches_ref_kp)\n"
     ]
    },
    {
     "name": "stdout",
     "output_type": "stream",
     "text": [
      "   2.75 : Done with 68, in 282.151 seconds. Error rate 0.324\n",
      "   (1040, 7) (1040, 7, 2) (1040, 7, 2) in 4.353 seconds\n"
     ]
    },
    {
     "name": "stderr",
     "output_type": "stream",
     "text": [
      "/srv/jaybie/archive/spatial-privacy-master/nn_matchers.py:688: FutureWarning: in the future insert will treat boolean arrays and array-likes as a boolean index instead of casting it to integer\n",
      "  good_matches_kp_idx = np.insert(good_matches[good_matches_ref_kp],True,good_matches_ref_kp)\n"
     ]
    },
    {
     "name": "stdout",
     "output_type": "stream",
     "text": [
      "   2.75 : Done with 134, in 303.052 seconds. Error rate 0.306\n",
      "   (639, 7) (639, 7, 2) (639, 7, 2) in 2.393 seconds\n"
     ]
    },
    {
     "name": "stderr",
     "output_type": "stream",
     "text": [
      "/srv/jaybie/archive/spatial-privacy-master/nn_matchers.py:688: FutureWarning: in the future insert will treat boolean arrays and array-likes as a boolean index instead of casting it to integer\n",
      "  good_matches_kp_idx = np.insert(good_matches[good_matches_ref_kp],True,good_matches_ref_kp)\n"
     ]
    },
    {
     "name": "stdout",
     "output_type": "stream",
     "text": [
      "   2.75 : Done with 200, in 286.387 seconds. Error rate 0.315\n",
      "   (710, 7) (710, 7, 2) (710, 7, 2) in 3.705 seconds\n"
     ]
    },
    {
     "name": "stderr",
     "output_type": "stream",
     "text": [
      "/srv/jaybie/archive/spatial-privacy-master/nn_matchers.py:688: FutureWarning: in the future insert will treat boolean arrays and array-likes as a boolean index instead of casting it to integer\n",
      "  good_matches_kp_idx = np.insert(good_matches[good_matches_ref_kp],True,good_matches_ref_kp)\n"
     ]
    },
    {
     "name": "stdout",
     "output_type": "stream",
     "text": [
      "   2.75 : Done with 266, in 269.816 seconds. Error rate 0.308\n",
      "   (762, 7) (762, 7, 2) (762, 7, 2) in 3.167 seconds\n",
      "2.75  Total Time to match 1364.204 seconds.\n"
     ]
    }
   ],
   "source": [
    "descriptors = descriptors\n",
    "\n",
    "#keypoint_cap = 100\n",
    "\n",
    "partial_results_path = os.path.join(results_path,\"partial_exp_try\")\n",
    "\n",
    "if not os.path.exists(partial_results_path): os.mkdir(partial_results_path)\n",
    "    \n",
    "exp_raw_eval_propeties = []\n",
    "\n",
    "for radius in np.arange(0.25,3.1,0.5):\n",
    "    \n",
    "    t0 = time.time()\n",
    "    t1 = time.time()\n",
    "        \n",
    "    partial_scores_pool = []\n",
    "    per_radius_properties = []\n",
    "    \n",
    "    print(\"radius =\",radius)\n",
    "    \n",
    "    for s_i in sample_points_300:\n",
    "        \n",
    "        t3 = time.time()\n",
    "        \n",
    "        obj_, object_name, original_vertex = sample_points[s_i]\n",
    "        \n",
    "        pointCloud = []\n",
    "        \n",
    "        try:\n",
    "            object_, pointCloud_, tri_ = new_contiguous_point_collection[int(obj_)]\n",
    "            \n",
    "            ransac_nbrs = NearestNeighbors(n_neighbors=min(20000,len(pointCloud_)), algorithm='kd_tree').fit(pointCloud_[:,:3])\n",
    "            \n",
    "            dist_, ind_ = ransac_nbrs.kneighbors([original_vertex[:3]])\n",
    "            pointCloud =  pointCloud_[ind_[0,np.where(dist_[0,:]<=radius)[0]]]\n",
    "        except:\n",
    "            print(\"Can't get partial samples for\",obj_meta[0])\n",
    "            continue\n",
    "            \n",
    "        #if len(gen_planes) == 0: continue\n",
    "        if len(pointCloud) == 0: continue\n",
    "\n",
    "        local_keypoint_matches = []\n",
    "\n",
    "        try:\n",
    "            obj_meta, diff_ratios, diff_indexs, diff_scores, local_keypoint_matches = get_score_kdtree_lean(\n",
    "                [obj_, object_name, original_vertex], \n",
    "                pointCloud, \n",
    "                descriptors,\n",
    "                #keypoint_cap,\n",
    "                #strict_cap = True,\n",
    "                desc_new = True\n",
    "            )\n",
    "            \n",
    "        except Exception as ex:\n",
    "            print(ex)\n",
    "            print(\"skipped\",object_name)\n",
    "            continue\n",
    "        \n",
    "        if len(local_keypoint_matches) == 0: \n",
    "            print(0,\"skipped\",object_name)\n",
    "            continue\n",
    "            \n",
    "        t4 = time.time()\n",
    "\n",
    "        partial_scores_pool.append([\n",
    "            [obj_, object_name, original_vertex], \n",
    "            diff_ratios,\n",
    "            diff_indexs,\n",
    "            diff_scores,\n",
    "            local_keypoint_matches\n",
    "        ])\n",
    "                \n",
    "        per_radius_properties.append([\n",
    "            diff_ratios.shape,\n",
    "            diff_indexs.shape,\n",
    "            diff_scores.shape,\n",
    "            t4 - t3\n",
    "        ])\n",
    "\n",
    "        if len(partial_scores_pool) % 66 == 2:\n",
    "            \n",
    "            partial_errors_pool = NN_matcher(partial_scores_pool)\n",
    "            print(\"  \",radius,\": Done with {}, in {:.3f} seconds. Error rate {:.3f}\".format(\n",
    "                len(partial_scores_pool),\n",
    "                time.time()-t1,\n",
    "                np.sum(partial_errors_pool[:,1])/len(partial_scores_pool)\n",
    "            ))\n",
    "            print(\"  \",\n",
    "                  diff_ratios.shape,\n",
    "                  diff_indexs.shape,\n",
    "                  diff_scores.shape,\n",
    "                  \"in {:.3f} seconds\".format(t4 - t3)\n",
    "                 )\n",
    "                 \n",
    "            with bz2.BZ2File(partial_results_path+'/raw_{}_partial_scores.pickle.bz2'.format(radius), 'w') as bz2_f:\n",
    "                pickle.dump(partial_scores_pool, bz2_f)\n",
    "            \n",
    "            t1  = time.time()\n",
    "            \n",
    "    exp_raw_eval_propeties.append([\n",
    "        radius,\n",
    "        per_radius_properties\n",
    "    ])\n",
    "    \n",
    "    with open(partial_results_path+'/raw_eval_properties.pickle', 'wb') as f:\n",
    "        pickle.dump(exp_raw_eval_propeties, f)\n",
    "\n",
    "    print(radius,\" Total Time to match {:.3f} seconds.\".format(time.time()-t0))\n",
    "    \n",
    "    #print(len(partial_lengths))\n",
    "       "
   ]
  },
  {
   "cell_type": "code",
   "execution_count": 10,
   "metadata": {
    "scrolled": true
   },
   "outputs": [
    {
     "name": "stdout",
     "output_type": "stream",
     "text": [
      "radius = 0.25\n",
      "   0.25 : Done with 2, in 0.528 seconds. Error rate 1.000\n",
      "   (12, 7) (12, 7, 2) (12, 7, 2) in 0.280 seconds\n"
     ]
    },
    {
     "name": "stderr",
     "output_type": "stream",
     "text": [
      "/srv/jaybie/archive/spatial-privacy-master/nn_matchers.py:688: FutureWarning: in the future insert will treat boolean arrays and array-likes as a boolean index instead of casting it to integer\n",
      "  good_matches_kp_idx = np.insert(good_matches[good_matches_ref_kp],True,good_matches_ref_kp)\n",
      "/home/jaybie/.conda/envs/3d_env/lib/python3.7/site-packages/numpy/core/fromnumeric.py:3118: RuntimeWarning: Mean of empty slice.\n",
      "  out=out, **kwargs)\n",
      "/home/jaybie/.conda/envs/3d_env/lib/python3.7/site-packages/numpy/core/_methods.py:78: RuntimeWarning: invalid value encountered in true_divide\n",
      "  ret, rcount, out=ret, casting='unsafe', subok=False)\n"
     ]
    },
    {
     "name": "stdout",
     "output_type": "stream",
     "text": [
      "   0.25 : Done with 68, in 17.817 seconds. Error rate 0.779\n",
      "   (10, 7) (10, 7, 2) (10, 7, 2) in 0.261 seconds\n"
     ]
    },
    {
     "name": "stderr",
     "output_type": "stream",
     "text": [
      "/srv/jaybie/archive/spatial-privacy-master/nn_matchers.py:688: FutureWarning: in the future insert will treat boolean arrays and array-likes as a boolean index instead of casting it to integer\n",
      "  good_matches_kp_idx = np.insert(good_matches[good_matches_ref_kp],True,good_matches_ref_kp)\n",
      "/home/jaybie/.conda/envs/3d_env/lib/python3.7/site-packages/numpy/core/fromnumeric.py:3118: RuntimeWarning: Mean of empty slice.\n",
      "  out=out, **kwargs)\n",
      "/home/jaybie/.conda/envs/3d_env/lib/python3.7/site-packages/numpy/core/_methods.py:78: RuntimeWarning: invalid value encountered in true_divide\n",
      "  ret, rcount, out=ret, casting='unsafe', subok=False)\n"
     ]
    },
    {
     "name": "stdout",
     "output_type": "stream",
     "text": [
      "   0.25 : Done with 134, in 17.719 seconds. Error rate 0.806\n",
      "   (8, 7) (8, 7, 2) (8, 7, 2) in 0.240 seconds\n"
     ]
    },
    {
     "name": "stderr",
     "output_type": "stream",
     "text": [
      "/srv/jaybie/archive/spatial-privacy-master/nn_matchers.py:688: FutureWarning: in the future insert will treat boolean arrays and array-likes as a boolean index instead of casting it to integer\n",
      "  good_matches_kp_idx = np.insert(good_matches[good_matches_ref_kp],True,good_matches_ref_kp)\n",
      "/home/jaybie/.conda/envs/3d_env/lib/python3.7/site-packages/numpy/core/fromnumeric.py:3118: RuntimeWarning: Mean of empty slice.\n",
      "  out=out, **kwargs)\n",
      "/home/jaybie/.conda/envs/3d_env/lib/python3.7/site-packages/numpy/core/_methods.py:78: RuntimeWarning: invalid value encountered in true_divide\n",
      "  ret, rcount, out=ret, casting='unsafe', subok=False)\n"
     ]
    },
    {
     "name": "stdout",
     "output_type": "stream",
     "text": [
      "   0.25 : Done with 200, in 17.533 seconds. Error rate 0.820\n",
      "   (7, 7) (7, 7, 2) (7, 7, 2) in 0.262 seconds\n"
     ]
    },
    {
     "name": "stderr",
     "output_type": "stream",
     "text": [
      "/srv/jaybie/archive/spatial-privacy-master/nn_matchers.py:688: FutureWarning: in the future insert will treat boolean arrays and array-likes as a boolean index instead of casting it to integer\n",
      "  good_matches_kp_idx = np.insert(good_matches[good_matches_ref_kp],True,good_matches_ref_kp)\n",
      "/home/jaybie/.conda/envs/3d_env/lib/python3.7/site-packages/numpy/core/fromnumeric.py:3118: RuntimeWarning: Mean of empty slice.\n",
      "  out=out, **kwargs)\n",
      "/home/jaybie/.conda/envs/3d_env/lib/python3.7/site-packages/numpy/core/_methods.py:78: RuntimeWarning: invalid value encountered in true_divide\n",
      "  ret, rcount, out=ret, casting='unsafe', subok=False)\n"
     ]
    },
    {
     "name": "stdout",
     "output_type": "stream",
     "text": [
      "   0.25 : Done with 266, in 17.563 seconds. Error rate 0.820\n",
      "   (11, 7) (11, 7, 2) (11, 7, 2) in 0.272 seconds\n",
      "0.25  Total Time to match 80.943 seconds.\n",
      "radius = 0.75\n",
      "   0.75 : Done with 2, in 0.857 seconds. Error rate 1.000\n",
      "   (69, 7) (69, 7, 2) (69, 7, 2) in 0.449 seconds\n"
     ]
    },
    {
     "name": "stderr",
     "output_type": "stream",
     "text": [
      "/srv/jaybie/archive/spatial-privacy-master/nn_matchers.py:688: FutureWarning: in the future insert will treat boolean arrays and array-likes as a boolean index instead of casting it to integer\n",
      "  good_matches_kp_idx = np.insert(good_matches[good_matches_ref_kp],True,good_matches_ref_kp)\n"
     ]
    },
    {
     "name": "stdout",
     "output_type": "stream",
     "text": [
      "   0.75 : Done with 68, in 28.838 seconds. Error rate 0.794\n",
      "   (116, 7) (116, 7, 2) (116, 7, 2) in 0.609 seconds\n"
     ]
    },
    {
     "name": "stderr",
     "output_type": "stream",
     "text": [
      "/srv/jaybie/archive/spatial-privacy-master/nn_matchers.py:688: FutureWarning: in the future insert will treat boolean arrays and array-likes as a boolean index instead of casting it to integer\n",
      "  good_matches_kp_idx = np.insert(good_matches[good_matches_ref_kp],True,good_matches_ref_kp)\n"
     ]
    },
    {
     "name": "stdout",
     "output_type": "stream",
     "text": [
      "   0.75 : Done with 134, in 28.608 seconds. Error rate 0.791\n",
      "   (87, 7) (87, 7, 2) (87, 7, 2) in 0.416 seconds\n"
     ]
    },
    {
     "name": "stderr",
     "output_type": "stream",
     "text": [
      "/srv/jaybie/archive/spatial-privacy-master/nn_matchers.py:688: FutureWarning: in the future insert will treat boolean arrays and array-likes as a boolean index instead of casting it to integer\n",
      "  good_matches_kp_idx = np.insert(good_matches[good_matches_ref_kp],True,good_matches_ref_kp)\n"
     ]
    },
    {
     "name": "stdout",
     "output_type": "stream",
     "text": [
      "   0.75 : Done with 200, in 28.022 seconds. Error rate 0.800\n",
      "   (29, 7) (29, 7, 2) (29, 7, 2) in 0.310 seconds\n"
     ]
    },
    {
     "name": "stderr",
     "output_type": "stream",
     "text": [
      "/srv/jaybie/archive/spatial-privacy-master/nn_matchers.py:688: FutureWarning: in the future insert will treat boolean arrays and array-likes as a boolean index instead of casting it to integer\n",
      "  good_matches_kp_idx = np.insert(good_matches[good_matches_ref_kp],True,good_matches_ref_kp)\n",
      "/home/jaybie/.conda/envs/3d_env/lib/python3.7/site-packages/numpy/core/fromnumeric.py:3118: RuntimeWarning: Mean of empty slice.\n",
      "  out=out, **kwargs)\n",
      "/home/jaybie/.conda/envs/3d_env/lib/python3.7/site-packages/numpy/core/_methods.py:78: RuntimeWarning: invalid value encountered in true_divide\n",
      "  ret, rcount, out=ret, casting='unsafe', subok=False)\n"
     ]
    },
    {
     "name": "stdout",
     "output_type": "stream",
     "text": [
      "   0.75 : Done with 266, in 27.605 seconds. Error rate 0.801\n",
      "   (36, 7) (36, 7, 2) (36, 7, 2) in 0.313 seconds\n",
      "0.75  Total Time to match 131.775 seconds.\n",
      "radius = 1.25\n"
     ]
    },
    {
     "name": "stderr",
     "output_type": "stream",
     "text": [
      "/srv/jaybie/archive/spatial-privacy-master/nn_matchers.py:688: FutureWarning: in the future insert will treat boolean arrays and array-likes as a boolean index instead of casting it to integer\n",
      "  good_matches_kp_idx = np.insert(good_matches[good_matches_ref_kp],True,good_matches_ref_kp)\n"
     ]
    },
    {
     "name": "stdout",
     "output_type": "stream",
     "text": [
      "   1.25 : Done with 2, in 1.533 seconds. Error rate 0.500\n",
      "   (151, 7) (151, 7, 2) (151, 7, 2) in 0.737 seconds\n"
     ]
    },
    {
     "name": "stderr",
     "output_type": "stream",
     "text": [
      "/srv/jaybie/archive/spatial-privacy-master/nn_matchers.py:688: FutureWarning: in the future insert will treat boolean arrays and array-likes as a boolean index instead of casting it to integer\n",
      "  good_matches_kp_idx = np.insert(good_matches[good_matches_ref_kp],True,good_matches_ref_kp)\n"
     ]
    },
    {
     "name": "stdout",
     "output_type": "stream",
     "text": [
      "   1.25 : Done with 68, in 55.950 seconds. Error rate 0.456\n",
      "   (282, 7) (282, 7, 2) (282, 7, 2) in 1.063 seconds\n"
     ]
    },
    {
     "name": "stderr",
     "output_type": "stream",
     "text": [
      "/srv/jaybie/archive/spatial-privacy-master/nn_matchers.py:688: FutureWarning: in the future insert will treat boolean arrays and array-likes as a boolean index instead of casting it to integer\n",
      "  good_matches_kp_idx = np.insert(good_matches[good_matches_ref_kp],True,good_matches_ref_kp)\n"
     ]
    },
    {
     "name": "stdout",
     "output_type": "stream",
     "text": [
      "   1.25 : Done with 134, in 60.294 seconds. Error rate 0.500\n",
      "   (223, 7) (223, 7, 2) (223, 7, 2) in 0.965 seconds\n"
     ]
    },
    {
     "name": "stderr",
     "output_type": "stream",
     "text": [
      "/srv/jaybie/archive/spatial-privacy-master/nn_matchers.py:688: FutureWarning: in the future insert will treat boolean arrays and array-likes as a boolean index instead of casting it to integer\n",
      "  good_matches_kp_idx = np.insert(good_matches[good_matches_ref_kp],True,good_matches_ref_kp)\n"
     ]
    },
    {
     "name": "stdout",
     "output_type": "stream",
     "text": [
      "   1.25 : Done with 200, in 55.578 seconds. Error rate 0.505\n",
      "   (128, 7) (128, 7, 2) (128, 7, 2) in 0.546 seconds\n"
     ]
    },
    {
     "name": "stderr",
     "output_type": "stream",
     "text": [
      "/srv/jaybie/archive/spatial-privacy-master/nn_matchers.py:688: FutureWarning: in the future insert will treat boolean arrays and array-likes as a boolean index instead of casting it to integer\n",
      "  good_matches_kp_idx = np.insert(good_matches[good_matches_ref_kp],True,good_matches_ref_kp)\n"
     ]
    },
    {
     "name": "stdout",
     "output_type": "stream",
     "text": [
      "   1.25 : Done with 266, in 55.648 seconds. Error rate 0.500\n",
      "   (170, 7) (170, 7, 2) (170, 7, 2) in 0.606 seconds\n",
      "1.25  Total Time to match 268.866 seconds.\n",
      "radius = 1.75\n"
     ]
    },
    {
     "name": "stderr",
     "output_type": "stream",
     "text": [
      "/srv/jaybie/archive/spatial-privacy-master/nn_matchers.py:688: FutureWarning: in the future insert will treat boolean arrays and array-likes as a boolean index instead of casting it to integer\n",
      "  good_matches_kp_idx = np.insert(good_matches[good_matches_ref_kp],True,good_matches_ref_kp)\n"
     ]
    },
    {
     "name": "stdout",
     "output_type": "stream",
     "text": [
      "   1.75 : Done with 2, in 2.405 seconds. Error rate 0.500\n",
      "   (275, 7) (275, 7, 2) (275, 7, 2) in 0.959 seconds\n"
     ]
    },
    {
     "name": "stderr",
     "output_type": "stream",
     "text": [
      "/srv/jaybie/archive/spatial-privacy-master/nn_matchers.py:688: FutureWarning: in the future insert will treat boolean arrays and array-likes as a boolean index instead of casting it to integer\n",
      "  good_matches_kp_idx = np.insert(good_matches[good_matches_ref_kp],True,good_matches_ref_kp)\n"
     ]
    },
    {
     "name": "stdout",
     "output_type": "stream",
     "text": [
      "   1.75 : Done with 68, in 105.453 seconds. Error rate 0.368\n",
      "   (528, 7) (528, 7, 2) (528, 7, 2) in 2.126 seconds\n"
     ]
    },
    {
     "name": "stderr",
     "output_type": "stream",
     "text": [
      "/srv/jaybie/archive/spatial-privacy-master/nn_matchers.py:688: FutureWarning: in the future insert will treat boolean arrays and array-likes as a boolean index instead of casting it to integer\n",
      "  good_matches_kp_idx = np.insert(good_matches[good_matches_ref_kp],True,good_matches_ref_kp)\n"
     ]
    },
    {
     "name": "stdout",
     "output_type": "stream",
     "text": [
      "   1.75 : Done with 134, in 116.750 seconds. Error rate 0.328\n",
      "   (354, 7) (354, 7, 2) (354, 7, 2) in 1.361 seconds\n"
     ]
    },
    {
     "name": "stderr",
     "output_type": "stream",
     "text": [
      "/srv/jaybie/archive/spatial-privacy-master/nn_matchers.py:688: FutureWarning: in the future insert will treat boolean arrays and array-likes as a boolean index instead of casting it to integer\n",
      "  good_matches_kp_idx = np.insert(good_matches[good_matches_ref_kp],True,good_matches_ref_kp)\n"
     ]
    },
    {
     "name": "stdout",
     "output_type": "stream",
     "text": [
      "   1.75 : Done with 200, in 106.955 seconds. Error rate 0.305\n",
      "   (290, 7) (290, 7, 2) (290, 7, 2) in 1.192 seconds\n"
     ]
    },
    {
     "name": "stderr",
     "output_type": "stream",
     "text": [
      "/srv/jaybie/archive/spatial-privacy-master/nn_matchers.py:688: FutureWarning: in the future insert will treat boolean arrays and array-likes as a boolean index instead of casting it to integer\n",
      "  good_matches_kp_idx = np.insert(good_matches[good_matches_ref_kp],True,good_matches_ref_kp)\n"
     ]
    },
    {
     "name": "stdout",
     "output_type": "stream",
     "text": [
      "   1.75 : Done with 266, in 103.877 seconds. Error rate 0.274\n",
      "   (352, 7) (352, 7, 2) (352, 7, 2) in 1.251 seconds\n",
      "1.75  Total Time to match 511.225 seconds.\n",
      "radius = 2.25\n"
     ]
    },
    {
     "name": "stderr",
     "output_type": "stream",
     "text": [
      "/srv/jaybie/archive/spatial-privacy-master/nn_matchers.py:688: FutureWarning: in the future insert will treat boolean arrays and array-likes as a boolean index instead of casting it to integer\n",
      "  good_matches_kp_idx = np.insert(good_matches[good_matches_ref_kp],True,good_matches_ref_kp)\n"
     ]
    },
    {
     "name": "stdout",
     "output_type": "stream",
     "text": [
      "   2.25 : Done with 2, in 3.887 seconds. Error rate 0.500\n",
      "   (354, 7) (354, 7, 2) (354, 7, 2) in 1.387 seconds\n"
     ]
    },
    {
     "name": "stderr",
     "output_type": "stream",
     "text": [
      "/srv/jaybie/archive/spatial-privacy-master/nn_matchers.py:688: FutureWarning: in the future insert will treat boolean arrays and array-likes as a boolean index instead of casting it to integer\n",
      "  good_matches_kp_idx = np.insert(good_matches[good_matches_ref_kp],True,good_matches_ref_kp)\n"
     ]
    },
    {
     "name": "stdout",
     "output_type": "stream",
     "text": [
      "   2.25 : Done with 68, in 181.438 seconds. Error rate 0.191\n",
      "   (728, 7) (728, 7, 2) (728, 7, 2) in 2.926 seconds\n"
     ]
    },
    {
     "name": "stderr",
     "output_type": "stream",
     "text": [
      "/srv/jaybie/archive/spatial-privacy-master/nn_matchers.py:688: FutureWarning: in the future insert will treat boolean arrays and array-likes as a boolean index instead of casting it to integer\n",
      "  good_matches_kp_idx = np.insert(good_matches[good_matches_ref_kp],True,good_matches_ref_kp)\n"
     ]
    },
    {
     "name": "stdout",
     "output_type": "stream",
     "text": [
      "   2.25 : Done with 134, in 200.081 seconds. Error rate 0.209\n",
      "   (482, 7) (482, 7, 2) (482, 7, 2) in 1.905 seconds\n"
     ]
    },
    {
     "ename": "KeyboardInterrupt",
     "evalue": "",
     "output_type": "error",
     "traceback": [
      "\u001b[0;31m---------------------------------------------------------------------------\u001b[0m",
      "\u001b[0;31mKeyboardInterrupt\u001b[0m                         Traceback (most recent call last)",
      "\u001b[0;32m<ipython-input-10-1af942379b9b>\u001b[0m in \u001b[0;36m<module>\u001b[0;34m\u001b[0m\n\u001b[1;32m     50\u001b[0m                 \u001b[0;31m#keypoint_cap,\u001b[0m\u001b[0;34m\u001b[0m\u001b[0;34m\u001b[0m\u001b[0;34m\u001b[0m\u001b[0m\n\u001b[1;32m     51\u001b[0m                 \u001b[0;31m#strict_cap = True,\u001b[0m\u001b[0;34m\u001b[0m\u001b[0;34m\u001b[0m\u001b[0;34m\u001b[0m\u001b[0m\n\u001b[0;32m---> 52\u001b[0;31m                 \u001b[0mdesc_new\u001b[0m \u001b[0;34m=\u001b[0m \u001b[0;32mTrue\u001b[0m\u001b[0;34m\u001b[0m\u001b[0;34m\u001b[0m\u001b[0m\n\u001b[0m\u001b[1;32m     53\u001b[0m             )\n\u001b[1;32m     54\u001b[0m \u001b[0;34m\u001b[0m\u001b[0m\n",
      "\u001b[0;32m/srv/jaybie/archive/spatial-privacy-master/nn_matchers.py\u001b[0m in \u001b[0;36mget_score_kdtree_lean\u001b[0;34m(obj_meta, pointcloud, descriptors, key_cap, strict_cap, desc_new)\u001b[0m\n\u001b[1;32m    136\u001b[0m                 \u001b[0mcylindrical_quantization\u001b[0m \u001b[0;34m=\u001b[0m \u001b[0;34m[\u001b[0m\u001b[0;36m4\u001b[0m\u001b[0;34m,\u001b[0m\u001b[0;36m5\u001b[0m\u001b[0;34m]\u001b[0m\u001b[0;34m,\u001b[0m\u001b[0;34m\u001b[0m\u001b[0;34m\u001b[0m\u001b[0m\n\u001b[1;32m    137\u001b[0m                 \u001b[0mkey_cap\u001b[0m \u001b[0;34m=\u001b[0m \u001b[0mkey_cap\u001b[0m\u001b[0;34m,\u001b[0m\u001b[0;34m\u001b[0m\u001b[0;34m\u001b[0m\u001b[0m\n\u001b[0;32m--> 138\u001b[0;31m                 \u001b[0mstrict_cap\u001b[0m \u001b[0;34m=\u001b[0m \u001b[0mstrict_cap\u001b[0m\u001b[0;34m\u001b[0m\u001b[0;34m\u001b[0m\u001b[0m\n\u001b[0m\u001b[1;32m    139\u001b[0m             )\n\u001b[1;32m    140\u001b[0m         \u001b[0;32melse\u001b[0m\u001b[0;34m:\u001b[0m\u001b[0;34m\u001b[0m\u001b[0;34m\u001b[0m\u001b[0m\n",
      "\u001b[0;32m/srv/jaybie/archive/spatial-privacy-master/info3d.py\u001b[0m in \u001b[0;36mgetSpinImageDescriptorsTest1\u001b[0;34m(_point_cloud, resolution, normalize, down_resolution, local_radius, cylindrical_quantization, verbose, old, key_cap, strict_cap)\u001b[0m\n\u001b[1;32m   1501\u001b[0m \u001b[0;34m\u001b[0m\u001b[0m\n\u001b[1;32m   1502\u001b[0m \u001b[0;34m\u001b[0m\u001b[0m\n\u001b[0;32m-> 1503\u001b[0;31m         \u001b[0md_a\u001b[0m \u001b[0;34m=\u001b[0m \u001b[0mcylindrical_quantization\u001b[0m\u001b[0;34m[\u001b[0m\u001b[0;36m0\u001b[0m\u001b[0;34m]\u001b[0m\u001b[0;34m*\u001b[0m\u001b[0mLA\u001b[0m\u001b[0;34m.\u001b[0m\u001b[0mnorm\u001b[0m\u001b[0;34m(\u001b[0m\u001b[0mk_ps\u001b[0m\u001b[0;34m,\u001b[0m\u001b[0maxis\u001b[0m\u001b[0;34m=\u001b[0m\u001b[0;36m1\u001b[0m\u001b[0;34m)\u001b[0m\u001b[0;34m*\u001b[0m\u001b[0mnp\u001b[0m\u001b[0;34m.\u001b[0m\u001b[0msin\u001b[0m\u001b[0;34m(\u001b[0m\u001b[0mtheta\u001b[0m\u001b[0;34m)\u001b[0m\u001b[0;34m\u001b[0m\u001b[0;34m\u001b[0m\u001b[0m\n\u001b[0m\u001b[1;32m   1504\u001b[0m         d_b = np.clip(cylindrical_quantization[1]*0.5*LA.norm(k_ps,axis=1)*np.cos(theta)+cylindrical_quantization[1]*0.5,\n\u001b[1;32m   1505\u001b[0m                       0,cylindrical_quantization[1]-1)\n",
      "\u001b[0;32m~/.conda/envs/3d_env/lib/python3.7/site-packages/numpy/linalg/linalg.py\u001b[0m in \u001b[0;36mnorm\u001b[0;34m(x, ord, axis, keepdims)\u001b[0m\n\u001b[1;32m   2479\u001b[0m             \u001b[0;31m# special case for speedup\u001b[0m\u001b[0;34m\u001b[0m\u001b[0;34m\u001b[0m\u001b[0;34m\u001b[0m\u001b[0m\n\u001b[1;32m   2480\u001b[0m             \u001b[0ms\u001b[0m \u001b[0;34m=\u001b[0m \u001b[0;34m(\u001b[0m\u001b[0mx\u001b[0m\u001b[0;34m.\u001b[0m\u001b[0mconj\u001b[0m\u001b[0;34m(\u001b[0m\u001b[0;34m)\u001b[0m \u001b[0;34m*\u001b[0m \u001b[0mx\u001b[0m\u001b[0;34m)\u001b[0m\u001b[0;34m.\u001b[0m\u001b[0mreal\u001b[0m\u001b[0;34m\u001b[0m\u001b[0;34m\u001b[0m\u001b[0m\n\u001b[0;32m-> 2481\u001b[0;31m             \u001b[0;32mreturn\u001b[0m \u001b[0msqrt\u001b[0m\u001b[0;34m(\u001b[0m\u001b[0madd\u001b[0m\u001b[0;34m.\u001b[0m\u001b[0mreduce\u001b[0m\u001b[0;34m(\u001b[0m\u001b[0ms\u001b[0m\u001b[0;34m,\u001b[0m \u001b[0maxis\u001b[0m\u001b[0;34m=\u001b[0m\u001b[0maxis\u001b[0m\u001b[0;34m,\u001b[0m \u001b[0mkeepdims\u001b[0m\u001b[0;34m=\u001b[0m\u001b[0mkeepdims\u001b[0m\u001b[0;34m)\u001b[0m\u001b[0;34m)\u001b[0m\u001b[0;34m\u001b[0m\u001b[0;34m\u001b[0m\u001b[0m\n\u001b[0m\u001b[1;32m   2482\u001b[0m         \u001b[0;32melse\u001b[0m\u001b[0;34m:\u001b[0m\u001b[0;34m\u001b[0m\u001b[0;34m\u001b[0m\u001b[0m\n\u001b[1;32m   2483\u001b[0m             \u001b[0;32mtry\u001b[0m\u001b[0;34m:\u001b[0m\u001b[0;34m\u001b[0m\u001b[0;34m\u001b[0m\u001b[0m\n",
      "\u001b[0;31mKeyboardInterrupt\u001b[0m: "
     ]
    }
   ],
   "source": [
    "descriptors = descriptorsT1\n",
    "\n",
    "#keypoint_cap = 100\n",
    "\n",
    "partial_results_path = os.path.join(results_path,\"partial_exp_try\")\n",
    "\n",
    "if not os.path.exists(partial_results_path): os.mkdir(partial_results_path)\n",
    "    \n",
    "exp_raw_eval_propeties = []\n",
    "\n",
    "for radius in np.arange(0.25,3.1,0.5):\n",
    "    \n",
    "    t0 = time.time()\n",
    "    t1 = time.time()\n",
    "        \n",
    "    partial_scores_pool = []\n",
    "    per_radius_properties = []\n",
    "    \n",
    "    print(\"radius =\",radius)\n",
    "    \n",
    "    for s_i in sample_points_300:\n",
    "        \n",
    "        t3 = time.time()\n",
    "        \n",
    "        obj_, object_name, original_vertex = sample_points[s_i]\n",
    "        \n",
    "        pointCloud = []\n",
    "        \n",
    "        try:\n",
    "            object_, pointCloud_, tri_ = new_contiguous_point_collection[int(obj_)]\n",
    "            \n",
    "            ransac_nbrs = NearestNeighbors(n_neighbors=min(20000,len(pointCloud_)), algorithm='kd_tree').fit(pointCloud_[:,:3])\n",
    "            \n",
    "            dist_, ind_ = ransac_nbrs.kneighbors([original_vertex[:3]])\n",
    "            pointCloud =  pointCloud_[ind_[0,np.where(dist_[0,:]<=radius)[0]]]\n",
    "        except:\n",
    "            print(\"Can't get partial samples for\",obj_meta[0])\n",
    "            continue\n",
    "            \n",
    "        #if len(gen_planes) == 0: continue\n",
    "        if len(pointCloud) == 0: continue\n",
    "\n",
    "        local_keypoint_matches = []\n",
    "\n",
    "        try:\n",
    "            obj_meta, diff_ratios, diff_indexs, diff_scores, local_keypoint_matches = get_score_kdtree_lean(\n",
    "                [obj_, object_name, original_vertex], \n",
    "                pointCloud, \n",
    "                descriptors,\n",
    "                #keypoint_cap,\n",
    "                #strict_cap = True,\n",
    "                desc_new = True\n",
    "            )\n",
    "            \n",
    "        except Exception as ex:\n",
    "            print(ex)\n",
    "            print(\"skipped\",object_name)\n",
    "            continue\n",
    "        \n",
    "        if len(local_keypoint_matches) == 0: \n",
    "            print(0,\"skipped\",object_name)\n",
    "            continue\n",
    "            \n",
    "        t4 = time.time()\n",
    "\n",
    "        partial_scores_pool.append([\n",
    "            [obj_, object_name, original_vertex], \n",
    "            diff_ratios,\n",
    "            diff_indexs,\n",
    "            diff_scores,\n",
    "            local_keypoint_matches\n",
    "        ])\n",
    "                \n",
    "        per_radius_properties.append([\n",
    "            diff_ratios.shape,\n",
    "            diff_indexs.shape,\n",
    "            diff_scores.shape,\n",
    "            t4 - t3\n",
    "        ])\n",
    "\n",
    "        if len(partial_scores_pool) % 66 == 2:\n",
    "            \n",
    "            partial_errors_pool = NN_matcher(partial_scores_pool)\n",
    "            print(\"  \",radius,\": Done with {}, in {:.3f} seconds. Error rate {:.3f}\".format(\n",
    "                len(partial_scores_pool),\n",
    "                time.time()-t1,\n",
    "                np.sum(partial_errors_pool[:,1])/len(partial_scores_pool)\n",
    "            ))\n",
    "            print(\"  \",\n",
    "                  diff_ratios.shape,\n",
    "                  diff_indexs.shape,\n",
    "                  diff_scores.shape,\n",
    "                  \"in {:.3f} seconds\".format(t4 - t3)\n",
    "                 )\n",
    "                 \n",
    "            with bz2.BZ2File(partial_results_path+'/raw_{}_partial_scores_T1.pickle.bz2'.format(radius), 'w') as bz2_f:\n",
    "                pickle.dump(partial_scores_pool, bz2_f)\n",
    "            \n",
    "            t1  = time.time()\n",
    "            \n",
    "    exp_raw_eval_propeties.append([\n",
    "        radius,\n",
    "        per_radius_properties\n",
    "    ])\n",
    "    \n",
    "    with open(partial_results_path+'/raw_eval_properties_T1.pickle', 'wb') as f:\n",
    "        pickle.dump(exp_raw_eval_propeties, f)\n",
    "\n",
    "    print(radius,\" Total Time to match {:.3f} seconds.\".format(time.time()-t0))\n",
    "    \n",
    "    #print(len(partial_lengths))\n",
    "       "
   ]
  },
  {
   "cell_type": "code",
   "execution_count": 4,
   "metadata": {
    "scrolled": true
   },
   "outputs": [
    {
     "name": "stdout",
     "output_type": "stream",
     "text": [
      "radius = 0.25\n",
      "   0.25 : Done with 2, in 0.671 seconds. Error rate 1.000\n",
      "   (17, 7) (17, 7, 2) (17, 7, 2) in 0.307 seconds\n"
     ]
    },
    {
     "name": "stderr",
     "output_type": "stream",
     "text": [
      "/srv/jaybie/archive/spatial-privacy-master/nn_matchers.py:690: FutureWarning: in the future insert will treat boolean arrays and array-likes as a boolean index instead of casting it to integer\n",
      "  good_matches_kp_idx = np.insert(good_matches[good_matches_ref_kp],True,good_matches_ref_kp)\n",
      "/home/jaybie/.conda/envs/3d_env/lib/python3.7/site-packages/numpy/core/fromnumeric.py:3118: RuntimeWarning: Mean of empty slice.\n",
      "  out=out, **kwargs)\n",
      "/home/jaybie/.conda/envs/3d_env/lib/python3.7/site-packages/numpy/core/_methods.py:78: RuntimeWarning: invalid value encountered in true_divide\n",
      "  ret, rcount, out=ret, casting='unsafe', subok=False)\n"
     ]
    },
    {
     "name": "stdout",
     "output_type": "stream",
     "text": [
      "   0.25 : Done with 68, in 19.380 seconds. Error rate 0.779\n",
      "   (9, 7) (9, 7, 2) (9, 7, 2) in 0.272 seconds\n"
     ]
    },
    {
     "name": "stderr",
     "output_type": "stream",
     "text": [
      "/srv/jaybie/archive/spatial-privacy-master/nn_matchers.py:690: FutureWarning: in the future insert will treat boolean arrays and array-likes as a boolean index instead of casting it to integer\n",
      "  good_matches_kp_idx = np.insert(good_matches[good_matches_ref_kp],True,good_matches_ref_kp)\n",
      "/home/jaybie/.conda/envs/3d_env/lib/python3.7/site-packages/numpy/core/fromnumeric.py:3118: RuntimeWarning: Mean of empty slice.\n",
      "  out=out, **kwargs)\n",
      "/home/jaybie/.conda/envs/3d_env/lib/python3.7/site-packages/numpy/core/_methods.py:78: RuntimeWarning: invalid value encountered in true_divide\n",
      "  ret, rcount, out=ret, casting='unsafe', subok=False)\n"
     ]
    },
    {
     "name": "stdout",
     "output_type": "stream",
     "text": [
      "   0.25 : Done with 134, in 19.630 seconds. Error rate 0.806\n",
      "   (12, 7) (12, 7, 2) (12, 7, 2) in 0.289 seconds\n"
     ]
    },
    {
     "name": "stderr",
     "output_type": "stream",
     "text": [
      "/srv/jaybie/archive/spatial-privacy-master/nn_matchers.py:690: FutureWarning: in the future insert will treat boolean arrays and array-likes as a boolean index instead of casting it to integer\n",
      "  good_matches_kp_idx = np.insert(good_matches[good_matches_ref_kp],True,good_matches_ref_kp)\n",
      "/home/jaybie/.conda/envs/3d_env/lib/python3.7/site-packages/numpy/core/fromnumeric.py:3118: RuntimeWarning: Mean of empty slice.\n",
      "  out=out, **kwargs)\n",
      "/home/jaybie/.conda/envs/3d_env/lib/python3.7/site-packages/numpy/core/_methods.py:78: RuntimeWarning: invalid value encountered in true_divide\n",
      "  ret, rcount, out=ret, casting='unsafe', subok=False)\n"
     ]
    },
    {
     "name": "stdout",
     "output_type": "stream",
     "text": [
      "   0.25 : Done with 200, in 18.437 seconds. Error rate 0.825\n",
      "   (12, 7) (12, 7, 2) (12, 7, 2) in 0.275 seconds\n"
     ]
    },
    {
     "name": "stderr",
     "output_type": "stream",
     "text": [
      "/srv/jaybie/archive/spatial-privacy-master/nn_matchers.py:690: FutureWarning: in the future insert will treat boolean arrays and array-likes as a boolean index instead of casting it to integer\n",
      "  good_matches_kp_idx = np.insert(good_matches[good_matches_ref_kp],True,good_matches_ref_kp)\n",
      "/home/jaybie/.conda/envs/3d_env/lib/python3.7/site-packages/numpy/core/fromnumeric.py:3118: RuntimeWarning: Mean of empty slice.\n",
      "  out=out, **kwargs)\n",
      "/home/jaybie/.conda/envs/3d_env/lib/python3.7/site-packages/numpy/core/_methods.py:78: RuntimeWarning: invalid value encountered in true_divide\n",
      "  ret, rcount, out=ret, casting='unsafe', subok=False)\n"
     ]
    },
    {
     "name": "stdout",
     "output_type": "stream",
     "text": [
      "   0.25 : Done with 266, in 19.493 seconds. Error rate 0.816\n",
      "   (12, 7) (12, 7, 2) (12, 7, 2) in 0.287 seconds\n",
      "0.25  Total Time to match 88.467 seconds.\n",
      "radius = 0.75\n",
      "   0.75 : Done with 2, in 1.039 seconds. Error rate 1.000\n",
      "   (114, 7) (114, 7, 2) (114, 7, 2) in 0.547 seconds\n"
     ]
    },
    {
     "name": "stderr",
     "output_type": "stream",
     "text": [
      "/srv/jaybie/archive/spatial-privacy-master/nn_matchers.py:690: FutureWarning: in the future insert will treat boolean arrays and array-likes as a boolean index instead of casting it to integer\n",
      "  good_matches_kp_idx = np.insert(good_matches[good_matches_ref_kp],True,good_matches_ref_kp)\n"
     ]
    },
    {
     "name": "stdout",
     "output_type": "stream",
     "text": [
      "   0.75 : Done with 68, in 31.322 seconds. Error rate 0.706\n",
      "   (77, 7) (77, 7, 2) (77, 7, 2) in 0.483 seconds\n"
     ]
    },
    {
     "name": "stderr",
     "output_type": "stream",
     "text": [
      "/srv/jaybie/archive/spatial-privacy-master/nn_matchers.py:690: FutureWarning: in the future insert will treat boolean arrays and array-likes as a boolean index instead of casting it to integer\n",
      "  good_matches_kp_idx = np.insert(good_matches[good_matches_ref_kp],True,good_matches_ref_kp)\n"
     ]
    },
    {
     "name": "stdout",
     "output_type": "stream",
     "text": [
      "   0.75 : Done with 134, in 29.690 seconds. Error rate 0.694\n",
      "   (76, 7) (76, 7, 2) (76, 7, 2) in 0.446 seconds\n"
     ]
    },
    {
     "name": "stderr",
     "output_type": "stream",
     "text": [
      "/srv/jaybie/archive/spatial-privacy-master/nn_matchers.py:690: FutureWarning: in the future insert will treat boolean arrays and array-likes as a boolean index instead of casting it to integer\n",
      "  good_matches_kp_idx = np.insert(good_matches[good_matches_ref_kp],True,good_matches_ref_kp)\n"
     ]
    },
    {
     "name": "stdout",
     "output_type": "stream",
     "text": [
      "   0.75 : Done with 200, in 32.911 seconds. Error rate 0.680\n",
      "   (76, 7) (76, 7, 2) (76, 7, 2) in 0.434 seconds\n"
     ]
    },
    {
     "name": "stderr",
     "output_type": "stream",
     "text": [
      "/srv/jaybie/archive/spatial-privacy-master/nn_matchers.py:690: FutureWarning: in the future insert will treat boolean arrays and array-likes as a boolean index instead of casting it to integer\n",
      "  good_matches_kp_idx = np.insert(good_matches[good_matches_ref_kp],True,good_matches_ref_kp)\n"
     ]
    },
    {
     "name": "stdout",
     "output_type": "stream",
     "text": [
      "   0.75 : Done with 266, in 30.563 seconds. Error rate 0.673\n",
      "   (118, 7) (118, 7, 2) (118, 7, 2) in 0.657 seconds\n",
      "0.75  Total Time to match 147.866 seconds.\n",
      "radius = 1.25\n"
     ]
    },
    {
     "name": "stderr",
     "output_type": "stream",
     "text": [
      "/srv/jaybie/archive/spatial-privacy-master/nn_matchers.py:690: FutureWarning: in the future insert will treat boolean arrays and array-likes as a boolean index instead of casting it to integer\n",
      "  good_matches_kp_idx = np.insert(good_matches[good_matches_ref_kp],True,good_matches_ref_kp)\n"
     ]
    },
    {
     "name": "stdout",
     "output_type": "stream",
     "text": [
      "   1.25 : Done with 2, in 2.434 seconds. Error rate 0.000\n",
      "   (263, 7) (263, 7, 2) (263, 7, 2) in 1.311 seconds\n"
     ]
    },
    {
     "name": "stderr",
     "output_type": "stream",
     "text": [
      "/srv/jaybie/archive/spatial-privacy-master/nn_matchers.py:690: FutureWarning: in the future insert will treat boolean arrays and array-likes as a boolean index instead of casting it to integer\n",
      "  good_matches_kp_idx = np.insert(good_matches[good_matches_ref_kp],True,good_matches_ref_kp)\n"
     ]
    },
    {
     "name": "stdout",
     "output_type": "stream",
     "text": [
      "   1.25 : Done with 68, in 63.270 seconds. Error rate 0.029\n",
      "   (325, 7) (325, 7, 2) (325, 7, 2) in 1.369 seconds\n"
     ]
    },
    {
     "name": "stderr",
     "output_type": "stream",
     "text": [
      "/srv/jaybie/archive/spatial-privacy-master/nn_matchers.py:690: FutureWarning: in the future insert will treat boolean arrays and array-likes as a boolean index instead of casting it to integer\n",
      "  good_matches_kp_idx = np.insert(good_matches[good_matches_ref_kp],True,good_matches_ref_kp)\n"
     ]
    },
    {
     "name": "stdout",
     "output_type": "stream",
     "text": [
      "   1.25 : Done with 134, in 57.283 seconds. Error rate 0.052\n",
      "   (201, 7) (201, 7, 2) (201, 7, 2) in 1.045 seconds\n"
     ]
    },
    {
     "name": "stderr",
     "output_type": "stream",
     "text": [
      "/srv/jaybie/archive/spatial-privacy-master/nn_matchers.py:690: FutureWarning: in the future insert will treat boolean arrays and array-likes as a boolean index instead of casting it to integer\n",
      "  good_matches_kp_idx = np.insert(good_matches[good_matches_ref_kp],True,good_matches_ref_kp)\n"
     ]
    },
    {
     "name": "stdout",
     "output_type": "stream",
     "text": [
      "   1.25 : Done with 200, in 68.419 seconds. Error rate 0.045\n",
      "   (181, 7) (181, 7, 2) (181, 7, 2) in 0.782 seconds\n"
     ]
    },
    {
     "name": "stderr",
     "output_type": "stream",
     "text": [
      "/srv/jaybie/archive/spatial-privacy-master/nn_matchers.py:690: FutureWarning: in the future insert will treat boolean arrays and array-likes as a boolean index instead of casting it to integer\n",
      "  good_matches_kp_idx = np.insert(good_matches[good_matches_ref_kp],True,good_matches_ref_kp)\n"
     ]
    },
    {
     "name": "stdout",
     "output_type": "stream",
     "text": [
      "   1.25 : Done with 266, in 63.171 seconds. Error rate 0.053\n",
      "   (375, 7) (375, 7, 2) (375, 7, 2) in 1.975 seconds\n",
      "1.25  Total Time to match 304.944 seconds.\n",
      "radius = 1.75\n"
     ]
    },
    {
     "name": "stderr",
     "output_type": "stream",
     "text": [
      "/srv/jaybie/archive/spatial-privacy-master/nn_matchers.py:690: FutureWarning: in the future insert will treat boolean arrays and array-likes as a boolean index instead of casting it to integer\n",
      "  good_matches_kp_idx = np.insert(good_matches[good_matches_ref_kp],True,good_matches_ref_kp)\n"
     ]
    },
    {
     "name": "stdout",
     "output_type": "stream",
     "text": [
      "   1.75 : Done with 2, in 4.273 seconds. Error rate 0.000\n",
      "   (495, 7) (495, 7, 2) (495, 7, 2) in 2.440 seconds\n"
     ]
    },
    {
     "name": "stderr",
     "output_type": "stream",
     "text": [
      "/srv/jaybie/archive/spatial-privacy-master/nn_matchers.py:690: FutureWarning: in the future insert will treat boolean arrays and array-likes as a boolean index instead of casting it to integer\n",
      "  good_matches_kp_idx = np.insert(good_matches[good_matches_ref_kp],True,good_matches_ref_kp)\n"
     ]
    },
    {
     "name": "stdout",
     "output_type": "stream",
     "text": [
      "   1.75 : Done with 68, in 116.701 seconds. Error rate 0.000\n",
      "   (592, 7) (592, 7, 2) (592, 7, 2) in 2.711 seconds\n"
     ]
    },
    {
     "name": "stderr",
     "output_type": "stream",
     "text": [
      "/srv/jaybie/archive/spatial-privacy-master/nn_matchers.py:690: FutureWarning: in the future insert will treat boolean arrays and array-likes as a boolean index instead of casting it to integer\n",
      "  good_matches_kp_idx = np.insert(good_matches[good_matches_ref_kp],True,good_matches_ref_kp)\n"
     ]
    },
    {
     "name": "stdout",
     "output_type": "stream",
     "text": [
      "   1.75 : Done with 134, in 109.933 seconds. Error rate 0.007\n",
      "   (343, 7) (343, 7, 2) (343, 7, 2) in 1.727 seconds\n"
     ]
    },
    {
     "name": "stderr",
     "output_type": "stream",
     "text": [
      "/srv/jaybie/archive/spatial-privacy-master/nn_matchers.py:690: FutureWarning: in the future insert will treat boolean arrays and array-likes as a boolean index instead of casting it to integer\n",
      "  good_matches_kp_idx = np.insert(good_matches[good_matches_ref_kp],True,good_matches_ref_kp)\n"
     ]
    },
    {
     "name": "stdout",
     "output_type": "stream",
     "text": [
      "   1.75 : Done with 200, in 127.120 seconds. Error rate 0.010\n",
      "   (333, 7) (333, 7, 2) (333, 7, 2) in 1.337 seconds\n"
     ]
    },
    {
     "name": "stderr",
     "output_type": "stream",
     "text": [
      "/srv/jaybie/archive/spatial-privacy-master/nn_matchers.py:690: FutureWarning: in the future insert will treat boolean arrays and array-likes as a boolean index instead of casting it to integer\n",
      "  good_matches_kp_idx = np.insert(good_matches[good_matches_ref_kp],True,good_matches_ref_kp)\n"
     ]
    },
    {
     "name": "stdout",
     "output_type": "stream",
     "text": [
      "   1.75 : Done with 266, in 118.857 seconds. Error rate 0.008\n",
      "   (792, 7) (792, 7, 2) (792, 7, 2) in 4.419 seconds\n",
      "1.75  Total Time to match 570.659 seconds.\n",
      "radius = 2.25\n"
     ]
    },
    {
     "name": "stderr",
     "output_type": "stream",
     "text": [
      "/srv/jaybie/archive/spatial-privacy-master/nn_matchers.py:690: FutureWarning: in the future insert will treat boolean arrays and array-likes as a boolean index instead of casting it to integer\n",
      "  good_matches_kp_idx = np.insert(good_matches[good_matches_ref_kp],True,good_matches_ref_kp)\n"
     ]
    },
    {
     "name": "stdout",
     "output_type": "stream",
     "text": [
      "   2.25 : Done with 2, in 8.333 seconds. Error rate 0.000\n",
      "   (873, 7) (873, 7, 2) (873, 7, 2) in 4.856 seconds\n"
     ]
    },
    {
     "ename": "KeyboardInterrupt",
     "evalue": "",
     "output_type": "error",
     "traceback": [
      "\u001b[0;31m---------------------------------------------------------------------------\u001b[0m",
      "\u001b[0;31mKeyboardInterrupt\u001b[0m                         Traceback (most recent call last)",
      "\u001b[0;32m<ipython-input-4-fc707c637a4b>\u001b[0m in \u001b[0;36m<module>\u001b[0;34m\u001b[0m\n\u001b[1;32m     51\u001b[0m                 \u001b[0;31m#keypoint_cap,\u001b[0m\u001b[0;34m\u001b[0m\u001b[0;34m\u001b[0m\u001b[0;34m\u001b[0m\u001b[0m\n\u001b[1;32m     52\u001b[0m                 \u001b[0;31m#strict_cap = True,\u001b[0m\u001b[0;34m\u001b[0m\u001b[0;34m\u001b[0m\u001b[0;34m\u001b[0m\u001b[0m\n\u001b[0;32m---> 53\u001b[0;31m                 \u001b[0mdesc_new\u001b[0m \u001b[0;34m=\u001b[0m \u001b[0;32mTrue\u001b[0m\u001b[0;34m\u001b[0m\u001b[0;34m\u001b[0m\u001b[0m\n\u001b[0m\u001b[1;32m     54\u001b[0m             )\n\u001b[1;32m     55\u001b[0m \u001b[0;34m\u001b[0m\u001b[0m\n",
      "\u001b[0;32m/srv/jaybie/archive/spatial-privacy-master/nn_matchers.py\u001b[0m in \u001b[0;36mget_score_kdtree_lean\u001b[0;34m(obj_meta, pointcloud, descriptors, key_cap, strict_cap, desc_new, old)\u001b[0m\n\u001b[1;32m    138\u001b[0m                 \u001b[0mkey_cap\u001b[0m \u001b[0;34m=\u001b[0m \u001b[0mkey_cap\u001b[0m\u001b[0;34m,\u001b[0m\u001b[0;34m\u001b[0m\u001b[0;34m\u001b[0m\u001b[0m\n\u001b[1;32m    139\u001b[0m                 \u001b[0mstrict_cap\u001b[0m \u001b[0;34m=\u001b[0m \u001b[0mstrict_cap\u001b[0m\u001b[0;34m,\u001b[0m\u001b[0;34m\u001b[0m\u001b[0;34m\u001b[0m\u001b[0m\n\u001b[0;32m--> 140\u001b[0;31m                 \u001b[0mold\u001b[0m \u001b[0;34m=\u001b[0m \u001b[0mold\u001b[0m\u001b[0;34m\u001b[0m\u001b[0;34m\u001b[0m\u001b[0m\n\u001b[0m\u001b[1;32m    141\u001b[0m             )\n\u001b[1;32m    142\u001b[0m         \u001b[0;32melse\u001b[0m\u001b[0;34m:\u001b[0m\u001b[0;34m\u001b[0m\u001b[0;34m\u001b[0m\u001b[0m\n",
      "\u001b[0;32m/srv/jaybie/archive/spatial-privacy-master/info3d.py\u001b[0m in \u001b[0;36mgetSpinImageDescriptorsTest1\u001b[0;34m(_point_cloud, resolution, normalize, down_resolution, local_radius, cylindrical_quantization, verbose, old, key_cap, strict_cap)\u001b[0m\n\u001b[1;32m   1492\u001b[0m \u001b[0;34m\u001b[0m\u001b[0m\n\u001b[1;32m   1493\u001b[0m         \u001b[0mk_ps\u001b[0m \u001b[0;34m=\u001b[0m \u001b[0mother_pc\u001b[0m\u001b[0;34m[\u001b[0m\u001b[0;34m:\u001b[0m\u001b[0;34m,\u001b[0m\u001b[0;34m:\u001b[0m\u001b[0;36m3\u001b[0m\u001b[0;34m]\u001b[0m \u001b[0;34m-\u001b[0m \u001b[0mc_p\u001b[0m\u001b[0;34m[\u001b[0m\u001b[0;34m:\u001b[0m\u001b[0;36m3\u001b[0m\u001b[0;34m]\u001b[0m \u001b[0;31m# point (vertex) differences; M\u001b[0m\u001b[0;34m\u001b[0m\u001b[0;34m\u001b[0m\u001b[0m\n\u001b[0;32m-> 1494\u001b[0;31m         \u001b[0mk_ps\u001b[0m \u001b[0;34m=\u001b[0m \u001b[0mnp\u001b[0m\u001b[0;34m.\u001b[0m\u001b[0mdelete\u001b[0m\u001b[0;34m(\u001b[0m\u001b[0mk_ps\u001b[0m\u001b[0;34m,\u001b[0m\u001b[0mnp\u001b[0m\u001b[0;34m.\u001b[0m\u001b[0mwhere\u001b[0m\u001b[0;34m(\u001b[0m\u001b[0mLA\u001b[0m\u001b[0;34m.\u001b[0m\u001b[0mnorm\u001b[0m\u001b[0;34m(\u001b[0m\u001b[0mk_ps\u001b[0m\u001b[0;34m,\u001b[0m\u001b[0maxis\u001b[0m\u001b[0;34m=\u001b[0m\u001b[0;36m1\u001b[0m\u001b[0;34m)\u001b[0m\u001b[0;34m==\u001b[0m\u001b[0;36m0\u001b[0m\u001b[0;34m)\u001b[0m\u001b[0;34m[\u001b[0m\u001b[0;36m0\u001b[0m\u001b[0;34m]\u001b[0m\u001b[0;34m,\u001b[0m\u001b[0;36m0\u001b[0m\u001b[0;34m)\u001b[0m \u001b[0;31m# removing itself; M-1\u001b[0m\u001b[0;34m\u001b[0m\u001b[0;34m\u001b[0m\u001b[0m\n\u001b[0m\u001b[1;32m   1495\u001b[0m \u001b[0;34m\u001b[0m\u001b[0m\n\u001b[1;32m   1496\u001b[0m         \u001b[0;31m#if localize:\u001b[0m\u001b[0;34m\u001b[0m\u001b[0;34m\u001b[0m\u001b[0;34m\u001b[0m\u001b[0m\n",
      "\u001b[0;32m~/.conda/envs/3d_env/lib/python3.7/site-packages/numpy/linalg/linalg.py\u001b[0m in \u001b[0;36mnorm\u001b[0;34m(x, ord, axis, keepdims)\u001b[0m\n\u001b[1;32m   2479\u001b[0m             \u001b[0;31m# special case for speedup\u001b[0m\u001b[0;34m\u001b[0m\u001b[0;34m\u001b[0m\u001b[0;34m\u001b[0m\u001b[0m\n\u001b[1;32m   2480\u001b[0m             \u001b[0ms\u001b[0m \u001b[0;34m=\u001b[0m \u001b[0;34m(\u001b[0m\u001b[0mx\u001b[0m\u001b[0;34m.\u001b[0m\u001b[0mconj\u001b[0m\u001b[0;34m(\u001b[0m\u001b[0;34m)\u001b[0m \u001b[0;34m*\u001b[0m \u001b[0mx\u001b[0m\u001b[0;34m)\u001b[0m\u001b[0;34m.\u001b[0m\u001b[0mreal\u001b[0m\u001b[0;34m\u001b[0m\u001b[0;34m\u001b[0m\u001b[0m\n\u001b[0;32m-> 2481\u001b[0;31m             \u001b[0;32mreturn\u001b[0m \u001b[0msqrt\u001b[0m\u001b[0;34m(\u001b[0m\u001b[0madd\u001b[0m\u001b[0;34m.\u001b[0m\u001b[0mreduce\u001b[0m\u001b[0;34m(\u001b[0m\u001b[0ms\u001b[0m\u001b[0;34m,\u001b[0m \u001b[0maxis\u001b[0m\u001b[0;34m=\u001b[0m\u001b[0maxis\u001b[0m\u001b[0;34m,\u001b[0m \u001b[0mkeepdims\u001b[0m\u001b[0;34m=\u001b[0m\u001b[0mkeepdims\u001b[0m\u001b[0;34m)\u001b[0m\u001b[0;34m)\u001b[0m\u001b[0;34m\u001b[0m\u001b[0;34m\u001b[0m\u001b[0m\n\u001b[0m\u001b[1;32m   2482\u001b[0m         \u001b[0;32melse\u001b[0m\u001b[0;34m:\u001b[0m\u001b[0;34m\u001b[0m\u001b[0;34m\u001b[0m\u001b[0m\n\u001b[1;32m   2483\u001b[0m             \u001b[0;32mtry\u001b[0m\u001b[0;34m:\u001b[0m\u001b[0;34m\u001b[0m\u001b[0;34m\u001b[0m\u001b[0m\n",
      "\u001b[0;31mKeyboardInterrupt\u001b[0m: "
     ]
    }
   ],
   "source": [
    "descriptors = descriptors\n",
    "\n",
    "#keypoint_cap = 100\n",
    "\n",
    "partial_results_path = os.path.join(results_path,\"partial_exp_try\")\n",
    "\n",
    "if not os.path.exists(partial_results_path): os.mkdir(partial_results_path)\n",
    "    \n",
    "exp_raw_eval_propeties = []\n",
    "\n",
    "for radius in np.arange(0.25,3.1,0.5):\n",
    "    \n",
    "    t0 = time.time()\n",
    "    t1 = time.time()\n",
    "        \n",
    "    partial_scores_pool = []\n",
    "    per_radius_properties = []\n",
    "    \n",
    "    print(\"radius =\",radius)\n",
    "    \n",
    "    for s_i in sample_points_300:\n",
    "        \n",
    "        t3 = time.time()\n",
    "        \n",
    "        obj_, object_name, original_vertex = sample_points[s_i]\n",
    "        \n",
    "        pointCloud = []\n",
    "        \n",
    "        try:\n",
    "            object_, pointCloud_, tri_ = new_contiguous_point_collection[int(obj_)]\n",
    "            \n",
    "            ransac_nbrs = NearestNeighbors(n_neighbors=min(20000,len(pointCloud_)), algorithm='kd_tree').fit(pointCloud_[:,:3])\n",
    "            \n",
    "            dist_, ind_ = ransac_nbrs.kneighbors([original_vertex[:3]])\n",
    "            pointCloud =  pointCloud_[ind_[0,np.where(dist_[0,:]<=radius)[0]]]\n",
    "        except:\n",
    "            print(\"Can't get partial samples for\",obj_meta[0])\n",
    "            continue\n",
    "            \n",
    "        #if len(gen_planes) == 0: continue\n",
    "        if len(pointCloud) == 0: continue\n",
    "\n",
    "        local_keypoint_matches = []\n",
    "\n",
    "        try:\n",
    "            obj_meta, diff_ratios, diff_indexs, diff_scores, local_keypoint_matches = get_score_kdtree_lean(\n",
    "                [obj_, object_name, original_vertex], \n",
    "                pointCloud, \n",
    "                descriptors,\n",
    "                old=True,\n",
    "                #keypoint_cap,\n",
    "                #strict_cap = True,\n",
    "                desc_new = True\n",
    "            )\n",
    "            \n",
    "        except Exception as ex:\n",
    "            print(ex)\n",
    "            print(\"skipped\",object_name)\n",
    "            continue\n",
    "        \n",
    "        if len(local_keypoint_matches) == 0: \n",
    "            print(0,\"skipped\",object_name)\n",
    "            continue\n",
    "            \n",
    "        t4 = time.time()\n",
    "\n",
    "        partial_scores_pool.append([\n",
    "            [obj_, object_name, original_vertex], \n",
    "            diff_ratios,\n",
    "            diff_indexs,\n",
    "            diff_scores,\n",
    "            local_keypoint_matches\n",
    "        ])\n",
    "                \n",
    "        per_radius_properties.append([\n",
    "            diff_ratios.shape,\n",
    "            diff_indexs.shape,\n",
    "            diff_scores.shape,\n",
    "            t4 - t3\n",
    "        ])\n",
    "\n",
    "        if len(partial_scores_pool) % 66 == 2:\n",
    "            \n",
    "            partial_errors_pool = NN_matcher(partial_scores_pool)\n",
    "            print(\"  \",radius,\": Done with {}, in {:.3f} seconds. Error rate {:.3f}\".format(\n",
    "                len(partial_scores_pool),\n",
    "                time.time()-t1,\n",
    "                np.sum(partial_errors_pool[:,1])/len(partial_scores_pool)\n",
    "            ))\n",
    "            print(\"  \",\n",
    "                  diff_ratios.shape,\n",
    "                  diff_indexs.shape,\n",
    "                  diff_scores.shape,\n",
    "                  \"in {:.3f} seconds\".format(t4 - t3)\n",
    "                 )\n",
    "                 \n",
    "            with bz2.BZ2File(partial_results_path+'/raw_{}_partial_scores_T1.pickle.bz2'.format(radius), 'w') as bz2_f:\n",
    "                pickle.dump(partial_scores_pool, bz2_f)\n",
    "            \n",
    "            t1  = time.time()\n",
    "            \n",
    "    exp_raw_eval_propeties.append([\n",
    "        radius,\n",
    "        per_radius_properties\n",
    "    ])\n",
    "    \n",
    "    with open(partial_results_path+'/raw_eval_properties_T1.pickle', 'wb') as f:\n",
    "        pickle.dump(exp_raw_eval_propeties, f)\n",
    "\n",
    "    print(radius,\" Total Time to match {:.3f} seconds.\".format(time.time()-t0))\n",
    "    \n",
    "    #print(len(partial_lengths))\n",
    "       "
   ]
  },
  {
   "cell_type": "code",
   "execution_count": null,
   "metadata": {},
   "outputs": [],
   "source": []
  },
  {
   "cell_type": "markdown",
   "metadata": {},
   "source": [
    "# Step 1.2: RANSAC-generalized spaces validation"
   ]
  },
  {
   "cell_type": "code",
   "execution_count": 5,
   "metadata": {
    "scrolled": true
   },
   "outputs": [
    {
     "name": "stdout",
     "output_type": "stream",
     "text": [
      "radius = 0.25\n",
      "   0.25 : Done with 2, in 0.777 seconds. Error rate 1.000\n",
      "   (17, 7) (17, 7, 2) (17, 7, 2) in 0.373 seconds\n"
     ]
    },
    {
     "name": "stderr",
     "output_type": "stream",
     "text": [
      "/srv/jaybie/archive/spatial-privacy-master/nn_matchers.py:690: FutureWarning: in the future insert will treat boolean arrays and array-likes as a boolean index instead of casting it to integer\n",
      "  good_matches_kp_idx = np.insert(good_matches[good_matches_ref_kp],True,good_matches_ref_kp)\n",
      "/home/jaybie/.conda/envs/3d_env/lib/python3.7/site-packages/numpy/core/fromnumeric.py:3118: RuntimeWarning: Mean of empty slice.\n",
      "  out=out, **kwargs)\n",
      "/home/jaybie/.conda/envs/3d_env/lib/python3.7/site-packages/numpy/core/_methods.py:78: RuntimeWarning: invalid value encountered in true_divide\n",
      "  ret, rcount, out=ret, casting='unsafe', subok=False)\n"
     ]
    },
    {
     "name": "stdout",
     "output_type": "stream",
     "text": [
      "   0.25 : Done with 68, in 19.025 seconds. Error rate 0.809\n",
      "   (11, 7) (11, 7, 2) (11, 7, 2) in 0.283 seconds\n"
     ]
    },
    {
     "name": "stderr",
     "output_type": "stream",
     "text": [
      "/srv/jaybie/archive/spatial-privacy-master/nn_matchers.py:690: FutureWarning: in the future insert will treat boolean arrays and array-likes as a boolean index instead of casting it to integer\n",
      "  good_matches_kp_idx = np.insert(good_matches[good_matches_ref_kp],True,good_matches_ref_kp)\n",
      "/home/jaybie/.conda/envs/3d_env/lib/python3.7/site-packages/numpy/core/fromnumeric.py:3118: RuntimeWarning: Mean of empty slice.\n",
      "  out=out, **kwargs)\n",
      "/home/jaybie/.conda/envs/3d_env/lib/python3.7/site-packages/numpy/core/_methods.py:78: RuntimeWarning: invalid value encountered in true_divide\n",
      "  ret, rcount, out=ret, casting='unsafe', subok=False)\n"
     ]
    },
    {
     "name": "stdout",
     "output_type": "stream",
     "text": [
      "   0.25 : Done with 134, in 18.826 seconds. Error rate 0.828\n",
      "   (17, 7) (17, 7, 2) (17, 7, 2) in 0.303 seconds\n"
     ]
    },
    {
     "name": "stderr",
     "output_type": "stream",
     "text": [
      "/srv/jaybie/archive/spatial-privacy-master/nn_matchers.py:690: FutureWarning: in the future insert will treat boolean arrays and array-likes as a boolean index instead of casting it to integer\n",
      "  good_matches_kp_idx = np.insert(good_matches[good_matches_ref_kp],True,good_matches_ref_kp)\n",
      "/home/jaybie/.conda/envs/3d_env/lib/python3.7/site-packages/numpy/core/fromnumeric.py:3118: RuntimeWarning: Mean of empty slice.\n",
      "  out=out, **kwargs)\n",
      "/home/jaybie/.conda/envs/3d_env/lib/python3.7/site-packages/numpy/core/_methods.py:78: RuntimeWarning: invalid value encountered in true_divide\n",
      "  ret, rcount, out=ret, casting='unsafe', subok=False)\n"
     ]
    },
    {
     "name": "stdout",
     "output_type": "stream",
     "text": [
      "   0.25 : Done with 200, in 19.579 seconds. Error rate 0.810\n",
      "   (11, 7) (11, 7, 2) (11, 7, 2) in 0.294 seconds\n"
     ]
    },
    {
     "name": "stderr",
     "output_type": "stream",
     "text": [
      "/srv/jaybie/archive/spatial-privacy-master/nn_matchers.py:690: FutureWarning: in the future insert will treat boolean arrays and array-likes as a boolean index instead of casting it to integer\n",
      "  good_matches_kp_idx = np.insert(good_matches[good_matches_ref_kp],True,good_matches_ref_kp)\n",
      "/home/jaybie/.conda/envs/3d_env/lib/python3.7/site-packages/numpy/core/fromnumeric.py:3118: RuntimeWarning: Mean of empty slice.\n",
      "  out=out, **kwargs)\n",
      "/home/jaybie/.conda/envs/3d_env/lib/python3.7/site-packages/numpy/core/_methods.py:78: RuntimeWarning: invalid value encountered in true_divide\n",
      "  ret, rcount, out=ret, casting='unsafe', subok=False)\n"
     ]
    },
    {
     "name": "stdout",
     "output_type": "stream",
     "text": [
      "   0.25 : Done with 266, in 19.472 seconds. Error rate 0.835\n",
      "   (12, 7) (12, 7, 2) (12, 7, 2) in 0.273 seconds\n",
      "0.25  Total Time to match 87.076 seconds.\n",
      "radius = 0.75\n"
     ]
    },
    {
     "name": "stderr",
     "output_type": "stream",
     "text": [
      "/srv/jaybie/archive/spatial-privacy-master/nn_matchers.py:690: FutureWarning: in the future insert will treat boolean arrays and array-likes as a boolean index instead of casting it to integer\n",
      "  good_matches_kp_idx = np.insert(good_matches[good_matches_ref_kp],True,good_matches_ref_kp)\n"
     ]
    },
    {
     "name": "stdout",
     "output_type": "stream",
     "text": [
      "   0.75 : Done with 2, in 1.075 seconds. Error rate 0.500\n",
      "   (109, 7) (109, 7, 2) (109, 7, 2) in 0.618 seconds\n"
     ]
    },
    {
     "name": "stderr",
     "output_type": "stream",
     "text": [
      "/srv/jaybie/archive/spatial-privacy-master/nn_matchers.py:690: FutureWarning: in the future insert will treat boolean arrays and array-likes as a boolean index instead of casting it to integer\n",
      "  good_matches_kp_idx = np.insert(good_matches[good_matches_ref_kp],True,good_matches_ref_kp)\n"
     ]
    },
    {
     "name": "stdout",
     "output_type": "stream",
     "text": [
      "   0.75 : Done with 68, in 31.363 seconds. Error rate 0.721\n",
      "   (71, 7) (71, 7, 2) (71, 7, 2) in 0.396 seconds\n"
     ]
    },
    {
     "name": "stderr",
     "output_type": "stream",
     "text": [
      "/srv/jaybie/archive/spatial-privacy-master/nn_matchers.py:690: FutureWarning: in the future insert will treat boolean arrays and array-likes as a boolean index instead of casting it to integer\n",
      "  good_matches_kp_idx = np.insert(good_matches[good_matches_ref_kp],True,good_matches_ref_kp)\n"
     ]
    },
    {
     "name": "stdout",
     "output_type": "stream",
     "text": [
      "   0.75 : Done with 134, in 29.595 seconds. Error rate 0.791\n",
      "   (79, 7) (79, 7, 2) (79, 7, 2) in 0.502 seconds\n"
     ]
    },
    {
     "name": "stderr",
     "output_type": "stream",
     "text": [
      "/srv/jaybie/archive/spatial-privacy-master/nn_matchers.py:690: FutureWarning: in the future insert will treat boolean arrays and array-likes as a boolean index instead of casting it to integer\n",
      "  good_matches_kp_idx = np.insert(good_matches[good_matches_ref_kp],True,good_matches_ref_kp)\n"
     ]
    },
    {
     "name": "stdout",
     "output_type": "stream",
     "text": [
      "   0.75 : Done with 200, in 32.069 seconds. Error rate 0.775\n",
      "   (78, 7) (78, 7, 2) (78, 7, 2) in 0.412 seconds\n"
     ]
    },
    {
     "name": "stderr",
     "output_type": "stream",
     "text": [
      "/srv/jaybie/archive/spatial-privacy-master/nn_matchers.py:690: FutureWarning: in the future insert will treat boolean arrays and array-likes as a boolean index instead of casting it to integer\n",
      "  good_matches_kp_idx = np.insert(good_matches[good_matches_ref_kp],True,good_matches_ref_kp)\n"
     ]
    },
    {
     "name": "stdout",
     "output_type": "stream",
     "text": [
      "   0.75 : Done with 266, in 30.311 seconds. Error rate 0.774\n",
      "   (99, 7) (99, 7, 2) (99, 7, 2) in 0.492 seconds\n",
      "0.75  Total Time to match 146.450 seconds.\n",
      "radius = 1.25\n"
     ]
    },
    {
     "name": "stderr",
     "output_type": "stream",
     "text": [
      "/srv/jaybie/archive/spatial-privacy-master/nn_matchers.py:690: FutureWarning: in the future insert will treat boolean arrays and array-likes as a boolean index instead of casting it to integer\n",
      "  good_matches_kp_idx = np.insert(good_matches[good_matches_ref_kp],True,good_matches_ref_kp)\n"
     ]
    },
    {
     "name": "stdout",
     "output_type": "stream",
     "text": [
      "   1.25 : Done with 2, in 2.303 seconds. Error rate 0.500\n",
      "   (262, 7) (262, 7, 2) (262, 7, 2) in 1.317 seconds\n"
     ]
    },
    {
     "name": "stderr",
     "output_type": "stream",
     "text": [
      "/srv/jaybie/archive/spatial-privacy-master/nn_matchers.py:690: FutureWarning: in the future insert will treat boolean arrays and array-likes as a boolean index instead of casting it to integer\n",
      "  good_matches_kp_idx = np.insert(good_matches[good_matches_ref_kp],True,good_matches_ref_kp)\n"
     ]
    },
    {
     "name": "stdout",
     "output_type": "stream",
     "text": [
      "   1.25 : Done with 68, in 60.481 seconds. Error rate 0.412\n",
      "   (308, 7) (308, 7, 2) (308, 7, 2) in 1.210 seconds\n"
     ]
    },
    {
     "name": "stderr",
     "output_type": "stream",
     "text": [
      "/srv/jaybie/archive/spatial-privacy-master/nn_matchers.py:690: FutureWarning: in the future insert will treat boolean arrays and array-likes as a boolean index instead of casting it to integer\n",
      "  good_matches_kp_idx = np.insert(good_matches[good_matches_ref_kp],True,good_matches_ref_kp)\n"
     ]
    },
    {
     "name": "stdout",
     "output_type": "stream",
     "text": [
      "   1.25 : Done with 134, in 55.021 seconds. Error rate 0.455\n",
      "   (224, 7) (224, 7, 2) (224, 7, 2) in 1.038 seconds\n"
     ]
    },
    {
     "name": "stderr",
     "output_type": "stream",
     "text": [
      "/srv/jaybie/archive/spatial-privacy-master/nn_matchers.py:690: FutureWarning: in the future insert will treat boolean arrays and array-likes as a boolean index instead of casting it to integer\n",
      "  good_matches_kp_idx = np.insert(good_matches[good_matches_ref_kp],True,good_matches_ref_kp)\n"
     ]
    },
    {
     "name": "stdout",
     "output_type": "stream",
     "text": [
      "   1.25 : Done with 200, in 66.280 seconds. Error rate 0.445\n",
      "   (177, 7) (177, 7, 2) (177, 7, 2) in 0.697 seconds\n"
     ]
    },
    {
     "name": "stderr",
     "output_type": "stream",
     "text": [
      "/srv/jaybie/archive/spatial-privacy-master/nn_matchers.py:690: FutureWarning: in the future insert will treat boolean arrays and array-likes as a boolean index instead of casting it to integer\n",
      "  good_matches_kp_idx = np.insert(good_matches[good_matches_ref_kp],True,good_matches_ref_kp)\n"
     ]
    },
    {
     "name": "stdout",
     "output_type": "stream",
     "text": [
      "   1.25 : Done with 266, in 61.973 seconds. Error rate 0.440\n",
      "   (385, 7) (385, 7, 2) (385, 7, 2) in 1.887 seconds\n",
      "1.25  Total Time to match 295.875 seconds.\n",
      "radius = 1.75\n"
     ]
    },
    {
     "name": "stderr",
     "output_type": "stream",
     "text": [
      "/srv/jaybie/archive/spatial-privacy-master/nn_matchers.py:690: FutureWarning: in the future insert will treat boolean arrays and array-likes as a boolean index instead of casting it to integer\n",
      "  good_matches_kp_idx = np.insert(good_matches[good_matches_ref_kp],True,good_matches_ref_kp)\n"
     ]
    },
    {
     "name": "stdout",
     "output_type": "stream",
     "text": [
      "   1.75 : Done with 2, in 4.135 seconds. Error rate 0.000\n",
      "   (470, 7) (470, 7, 2) (470, 7, 2) in 2.445 seconds\n"
     ]
    },
    {
     "name": "stderr",
     "output_type": "stream",
     "text": [
      "/srv/jaybie/archive/spatial-privacy-master/nn_matchers.py:690: FutureWarning: in the future insert will treat boolean arrays and array-likes as a boolean index instead of casting it to integer\n",
      "  good_matches_kp_idx = np.insert(good_matches[good_matches_ref_kp],True,good_matches_ref_kp)\n"
     ]
    },
    {
     "name": "stdout",
     "output_type": "stream",
     "text": [
      "   1.75 : Done with 68, in 110.500 seconds. Error rate 0.250\n",
      "   (579, 7) (579, 7, 2) (579, 7, 2) in 2.567 seconds\n"
     ]
    },
    {
     "name": "stderr",
     "output_type": "stream",
     "text": [
      "/srv/jaybie/archive/spatial-privacy-master/nn_matchers.py:690: FutureWarning: in the future insert will treat boolean arrays and array-likes as a boolean index instead of casting it to integer\n",
      "  good_matches_kp_idx = np.insert(good_matches[good_matches_ref_kp],True,good_matches_ref_kp)\n"
     ]
    },
    {
     "name": "stdout",
     "output_type": "stream",
     "text": [
      "   1.75 : Done with 134, in 103.800 seconds. Error rate 0.246\n",
      "   (378, 7) (378, 7, 2) (378, 7, 2) in 1.653 seconds\n"
     ]
    },
    {
     "name": "stderr",
     "output_type": "stream",
     "text": [
      "/srv/jaybie/archive/spatial-privacy-master/nn_matchers.py:690: FutureWarning: in the future insert will treat boolean arrays and array-likes as a boolean index instead of casting it to integer\n",
      "  good_matches_kp_idx = np.insert(good_matches[good_matches_ref_kp],True,good_matches_ref_kp)\n"
     ]
    },
    {
     "name": "stdout",
     "output_type": "stream",
     "text": [
      "   1.75 : Done with 200, in 125.508 seconds. Error rate 0.280\n",
      "   (355, 7) (355, 7, 2) (355, 7, 2) in 1.331 seconds\n"
     ]
    },
    {
     "name": "stderr",
     "output_type": "stream",
     "text": [
      "/srv/jaybie/archive/spatial-privacy-master/nn_matchers.py:690: FutureWarning: in the future insert will treat boolean arrays and array-likes as a boolean index instead of casting it to integer\n",
      "  good_matches_kp_idx = np.insert(good_matches[good_matches_ref_kp],True,good_matches_ref_kp)\n"
     ]
    },
    {
     "name": "stdout",
     "output_type": "stream",
     "text": [
      "   1.75 : Done with 266, in 120.603 seconds. Error rate 0.267\n",
      "   (774, 7) (774, 7, 2) (774, 7, 2) in 4.328 seconds\n",
      "1.75  Total Time to match 559.062 seconds.\n",
      "radius = 2.25\n"
     ]
    },
    {
     "name": "stderr",
     "output_type": "stream",
     "text": [
      "/srv/jaybie/archive/spatial-privacy-master/nn_matchers.py:690: FutureWarning: in the future insert will treat boolean arrays and array-likes as a boolean index instead of casting it to integer\n",
      "  good_matches_kp_idx = np.insert(good_matches[good_matches_ref_kp],True,good_matches_ref_kp)\n"
     ]
    },
    {
     "name": "stdout",
     "output_type": "stream",
     "text": [
      "   2.25 : Done with 2, in 8.006 seconds. Error rate 0.000\n",
      "   (829, 7) (829, 7, 2) (829, 7, 2) in 4.648 seconds\n"
     ]
    },
    {
     "name": "stderr",
     "output_type": "stream",
     "text": [
      "/srv/jaybie/archive/spatial-privacy-master/nn_matchers.py:690: FutureWarning: in the future insert will treat boolean arrays and array-likes as a boolean index instead of casting it to integer\n",
      "  good_matches_kp_idx = np.insert(good_matches[good_matches_ref_kp],True,good_matches_ref_kp)\n"
     ]
    },
    {
     "name": "stdout",
     "output_type": "stream",
     "text": [
      "   2.25 : Done with 68, in 188.782 seconds. Error rate 0.088\n",
      "   (907, 7) (907, 7, 2) (907, 7, 2) in 4.507 seconds\n"
     ]
    },
    {
     "name": "stderr",
     "output_type": "stream",
     "text": [
      "/srv/jaybie/archive/spatial-privacy-master/nn_matchers.py:690: FutureWarning: in the future insert will treat boolean arrays and array-likes as a boolean index instead of casting it to integer\n",
      "  good_matches_kp_idx = np.insert(good_matches[good_matches_ref_kp],True,good_matches_ref_kp)\n"
     ]
    },
    {
     "name": "stdout",
     "output_type": "stream",
     "text": [
      "   2.25 : Done with 134, in 178.880 seconds. Error rate 0.119\n",
      "   (530, 7) (530, 7, 2) (530, 7, 2) in 2.259 seconds\n"
     ]
    },
    {
     "name": "stderr",
     "output_type": "stream",
     "text": [
      "/srv/jaybie/archive/spatial-privacy-master/nn_matchers.py:690: FutureWarning: in the future insert will treat boolean arrays and array-likes as a boolean index instead of casting it to integer\n",
      "  good_matches_kp_idx = np.insert(good_matches[good_matches_ref_kp],True,good_matches_ref_kp)\n"
     ]
    },
    {
     "name": "stdout",
     "output_type": "stream",
     "text": [
      "   2.25 : Done with 200, in 213.575 seconds. Error rate 0.130\n",
      "   (586, 7) (586, 7, 2) (586, 7, 2) in 2.396 seconds\n"
     ]
    },
    {
     "name": "stderr",
     "output_type": "stream",
     "text": [
      "/srv/jaybie/archive/spatial-privacy-master/nn_matchers.py:690: FutureWarning: in the future insert will treat boolean arrays and array-likes as a boolean index instead of casting it to integer\n",
      "  good_matches_kp_idx = np.insert(good_matches[good_matches_ref_kp],True,good_matches_ref_kp)\n"
     ]
    },
    {
     "name": "stdout",
     "output_type": "stream",
     "text": [
      "   2.25 : Done with 266, in 215.736 seconds. Error rate 0.132\n",
      "   (1278, 7) (1278, 7, 2) (1278, 7, 2) in 8.503 seconds\n",
      "2.25  Total Time to match 962.243 seconds.\n",
      "radius = 2.75\n"
     ]
    },
    {
     "name": "stderr",
     "output_type": "stream",
     "text": [
      "/srv/jaybie/archive/spatial-privacy-master/nn_matchers.py:690: FutureWarning: in the future insert will treat boolean arrays and array-likes as a boolean index instead of casting it to integer\n",
      "  good_matches_kp_idx = np.insert(good_matches[good_matches_ref_kp],True,good_matches_ref_kp)\n"
     ]
    },
    {
     "name": "stdout",
     "output_type": "stream",
     "text": [
      "   2.75 : Done with 2, in 13.553 seconds. Error rate 0.000\n",
      "   (1417, 7) (1417, 7, 2) (1417, 7, 2) in 9.291 seconds\n"
     ]
    },
    {
     "name": "stderr",
     "output_type": "stream",
     "text": [
      "/srv/jaybie/archive/spatial-privacy-master/nn_matchers.py:690: FutureWarning: in the future insert will treat boolean arrays and array-likes as a boolean index instead of casting it to integer\n",
      "  good_matches_kp_idx = np.insert(good_matches[good_matches_ref_kp],True,good_matches_ref_kp)\n"
     ]
    },
    {
     "name": "stdout",
     "output_type": "stream",
     "text": [
      "   2.75 : Done with 68, in 294.573 seconds. Error rate 0.103\n",
      "   (1221, 7) (1221, 7, 2) (1221, 7, 2) in 6.326 seconds\n"
     ]
    },
    {
     "name": "stderr",
     "output_type": "stream",
     "text": [
      "/srv/jaybie/archive/spatial-privacy-master/nn_matchers.py:690: FutureWarning: in the future insert will treat boolean arrays and array-likes as a boolean index instead of casting it to integer\n",
      "  good_matches_kp_idx = np.insert(good_matches[good_matches_ref_kp],True,good_matches_ref_kp)\n"
     ]
    },
    {
     "name": "stdout",
     "output_type": "stream",
     "text": [
      "   2.75 : Done with 134, in 276.200 seconds. Error rate 0.119\n",
      "   (772, 7) (772, 7, 2) (772, 7, 2) in 3.687 seconds\n"
     ]
    },
    {
     "name": "stderr",
     "output_type": "stream",
     "text": [
      "/srv/jaybie/archive/spatial-privacy-master/nn_matchers.py:690: FutureWarning: in the future insert will treat boolean arrays and array-likes as a boolean index instead of casting it to integer\n",
      "  good_matches_kp_idx = np.insert(good_matches[good_matches_ref_kp],True,good_matches_ref_kp)\n"
     ]
    },
    {
     "name": "stdout",
     "output_type": "stream",
     "text": [
      "   2.75 : Done with 200, in 334.204 seconds. Error rate 0.145\n",
      "   (825, 7) (825, 7, 2) (825, 7, 2) in 3.973 seconds\n"
     ]
    },
    {
     "name": "stderr",
     "output_type": "stream",
     "text": [
      "/srv/jaybie/archive/spatial-privacy-master/nn_matchers.py:690: FutureWarning: in the future insert will treat boolean arrays and array-likes as a boolean index instead of casting it to integer\n",
      "  good_matches_kp_idx = np.insert(good_matches[good_matches_ref_kp],True,good_matches_ref_kp)\n"
     ]
    },
    {
     "name": "stdout",
     "output_type": "stream",
     "text": [
      "   2.75 : Done with 266, in 330.388 seconds. Error rate 0.143\n",
      "   (1493, 7) (1493, 7, 2) (1493, 7, 2) in 11.342 seconds\n",
      "2.75  Total Time to match 1491.959 seconds.\n"
     ]
    }
   ],
   "source": [
    "#descriptors = new_trytest_descriptors\n",
    "\n",
    "keypoint_cap = 100\n",
    "\n",
    "partial_results_path = os.path.join(results_path,\"partial_exp_try\")\n",
    "\n",
    "if not os.path.exists(partial_results_path): os.mkdir(partial_results_path)\n",
    "    \n",
    "exp_eval_propeties = []\n",
    "\n",
    "for radius in np.arange(0.25,3.1,0.5):\n",
    "    \n",
    "    t0 = time.time()\n",
    "    t1 = time.time()\n",
    "    \n",
    "    partial_scores_pool = []\n",
    "    per_radius_properties = []\n",
    "    \n",
    "    print(\"radius =\",radius)\n",
    "    \n",
    "    for s_i in sample_points_300:\n",
    "        \n",
    "        t3 = time.time()\n",
    "        \n",
    "        obj_, object_name, original_vertex = sample_points[s_i]\n",
    "        \n",
    "        pointCloud = []\n",
    "        \n",
    "        try:\n",
    "            trial = np.random.randint(5)\n",
    "            \n",
    "            with open(\"../ransac_pc/ransac_point_collection_{}.pickle\".format(trial),'rb') as f:\n",
    "                ransac_trial_point_collection = pickle.load(f)\n",
    "\n",
    "            object_, pointCloud_, tri_ = ransac_trial_point_collection[int(obj_)]\n",
    "            \n",
    "            ransac_nbrs = NearestNeighbors(n_neighbors=min(20000,len(pointCloud_)), algorithm='kd_tree').fit(pointCloud_[:,:3])\n",
    "            \n",
    "            dist_, ind_ = ransac_nbrs.kneighbors([original_vertex[:3]])\n",
    "            pointCloud =  pointCloud_[ind_[0,np.where(dist_[0,:]<=radius)[0]]]\n",
    "        except:\n",
    "            print(\"Can't get ransac samples for\",trial,obj_meta[0],dist_.shape,ind_.shape)\n",
    "            continue\n",
    "            \n",
    "        #if len(gen_planes) == 0: continue\n",
    "        if len(pointCloud) == 0: continue\n",
    "\n",
    "        local_keypoint_matches = []\n",
    "\n",
    "        try:\n",
    "            obj_meta, diff_ratios, diff_indexs, diff_scores, local_keypoint_matches = get_score_kdtree_lean(\n",
    "                [obj_, object_name, original_vertex], \n",
    "                pointCloud, \n",
    "                descriptors,\n",
    "                old=True,\n",
    "                #key_cap=keypoint_cap,\n",
    "                #strict_cap=True,\n",
    "                desc_new=True\n",
    "            )\n",
    "            \n",
    "        except Exception as ex:\n",
    "            print(ex)\n",
    "            print(\"skipped\",object_name)\n",
    "            continue\n",
    "        \n",
    "        if len(local_keypoint_matches) == 0: \n",
    "            print(\"skipped\",object_name)\n",
    "            continue\n",
    "\n",
    "        t4 = time.time()\n",
    "\n",
    "        partial_scores_pool.append([\n",
    "            [obj_, object_name, original_vertex], \n",
    "            diff_ratios,\n",
    "            diff_indexs,\n",
    "            diff_scores,\n",
    "            local_keypoint_matches\n",
    "        ])\n",
    "                \n",
    "        per_radius_properties.append([\n",
    "            diff_ratios.shape,\n",
    "            diff_indexs.shape,\n",
    "            diff_scores.shape,\n",
    "            t4 - t3\n",
    "        ])\n",
    "\n",
    "        if len(partial_scores_pool) % 66 == 2:\n",
    "            \n",
    "            partial_errors_pool = NN_matcher(partial_scores_pool)\n",
    "            print(\"  \",radius,\": Done with {}, in {:.3f} seconds. Error rate {:.3f}\".format(\n",
    "                len(partial_scores_pool),\n",
    "                time.time()-t1,\n",
    "                np.sum(partial_errors_pool[:,1])/len(partial_scores_pool)\n",
    "            ))\n",
    "            print(\"  \",\n",
    "                  diff_ratios.shape,\n",
    "                  diff_indexs.shape,\n",
    "                  diff_scores.shape,\n",
    "                  \"in {:.3f} seconds\".format(t4 - t3)\n",
    "                 )\n",
    "                        \n",
    "            with bz2.BZ2File(partial_results_path+'/ransac_{}_partial_scores.pickle.bz2'.format(radius, keypoint_cap), 'w') as bz2_f:\n",
    "                pickle.dump(partial_scores_pool, bz2_f)\n",
    "                \n",
    "            t1  = time.time()\n",
    "            \n",
    "    exp_eval_propeties.append([\n",
    "        radius,\n",
    "        per_radius_properties\n",
    "    ])\n",
    "    \n",
    "    with open(partial_results_path+'/ransac_eval_properties_{}.pickle'.format(keypoint_cap), 'wb') as f:\n",
    "        pickle.dump(exp_eval_propeties, f)\n",
    "\n",
    "    print(radius,\" Total Time to match {:.3f} seconds.\".format(time.time()-t0))\n",
    "    \n",
    "\n",
    "    #print(len(partial_lengths))\n",
    "       "
   ]
  },
  {
   "cell_type": "code",
   "execution_count": 7,
   "metadata": {
    "scrolled": true
   },
   "outputs": [
    {
     "name": "stdout",
     "output_type": "stream",
     "text": [
      "radius = 1.25\n"
     ]
    },
    {
     "name": "stderr",
     "output_type": "stream",
     "text": [
      "/srv/jaybie/archive/spatial-privacy-master/nn_matchers.py:670: FutureWarning: in the future insert will treat boolean arrays and array-likes as a boolean index instead of casting it to integer\n",
      "  good_matches_kp_idx = np.insert(good_matches[good_matches_ref_kp],True,good_matches_ref_kp)\n"
     ]
    },
    {
     "name": "stdout",
     "output_type": "stream",
     "text": [
      "   1.25 : Done with 2, in 4.017 seconds. Error rate 0.500\n",
      "   (100, 7) (100, 7, 2) (100, 7, 2) in 2.760 seconds\n"
     ]
    },
    {
     "name": "stderr",
     "output_type": "stream",
     "text": [
      "/srv/jaybie/archive/spatial-privacy-master/nn_matchers.py:670: FutureWarning: in the future insert will treat boolean arrays and array-likes as a boolean index instead of casting it to integer\n",
      "  good_matches_kp_idx = np.insert(good_matches[good_matches_ref_kp],True,good_matches_ref_kp)\n"
     ]
    },
    {
     "name": "stdout",
     "output_type": "stream",
     "text": [
      "   1.25 : Done with 68, in 409.002 seconds. Error rate 0.618\n",
      "   (100, 7) (100, 7, 2) (100, 7, 2) in 5.801 seconds\n"
     ]
    },
    {
     "name": "stderr",
     "output_type": "stream",
     "text": [
      "/srv/jaybie/archive/spatial-privacy-master/nn_matchers.py:670: FutureWarning: in the future insert will treat boolean arrays and array-likes as a boolean index instead of casting it to integer\n",
      "  good_matches_kp_idx = np.insert(good_matches[good_matches_ref_kp],True,good_matches_ref_kp)\n"
     ]
    },
    {
     "name": "stdout",
     "output_type": "stream",
     "text": [
      "   1.25 : Done with 134, in 378.619 seconds. Error rate 0.612\n",
      "   (100, 7) (100, 7, 2) (100, 7, 2) in 2.161 seconds\n"
     ]
    },
    {
     "name": "stderr",
     "output_type": "stream",
     "text": [
      "/srv/jaybie/archive/spatial-privacy-master/nn_matchers.py:670: FutureWarning: in the future insert will treat boolean arrays and array-likes as a boolean index instead of casting it to integer\n",
      "  good_matches_kp_idx = np.insert(good_matches[good_matches_ref_kp],True,good_matches_ref_kp)\n"
     ]
    },
    {
     "name": "stdout",
     "output_type": "stream",
     "text": [
      "   1.25 : Done with 200, in 330.606 seconds. Error rate 0.635\n",
      "   (100, 7) (100, 7, 2) (100, 7, 2) in 7.172 seconds\n"
     ]
    },
    {
     "name": "stderr",
     "output_type": "stream",
     "text": [
      "/srv/jaybie/archive/spatial-privacy-master/nn_matchers.py:670: FutureWarning: in the future insert will treat boolean arrays and array-likes as a boolean index instead of casting it to integer\n",
      "  good_matches_kp_idx = np.insert(good_matches[good_matches_ref_kp],True,good_matches_ref_kp)\n"
     ]
    },
    {
     "name": "stdout",
     "output_type": "stream",
     "text": [
      "   1.25 : Done with 266, in 346.869 seconds. Error rate 0.628\n",
      "   (100, 7) (100, 7, 2) (100, 7, 2) in 2.470 seconds\n",
      "1.25  Total Time to match 1611.411 seconds.\n",
      "radius = 1.75\n"
     ]
    },
    {
     "name": "stderr",
     "output_type": "stream",
     "text": [
      "/srv/jaybie/archive/spatial-privacy-master/nn_matchers.py:670: FutureWarning: in the future insert will treat boolean arrays and array-likes as a boolean index instead of casting it to integer\n",
      "  good_matches_kp_idx = np.insert(good_matches[good_matches_ref_kp],True,good_matches_ref_kp)\n"
     ]
    },
    {
     "name": "stdout",
     "output_type": "stream",
     "text": [
      "   1.75 : Done with 2, in 13.056 seconds. Error rate 0.500\n",
      "   (100, 7) (100, 7, 2) (100, 7, 2) in 9.381 seconds\n"
     ]
    },
    {
     "name": "stderr",
     "output_type": "stream",
     "text": [
      "/srv/jaybie/archive/spatial-privacy-master/nn_matchers.py:670: FutureWarning: in the future insert will treat boolean arrays and array-likes as a boolean index instead of casting it to integer\n",
      "  good_matches_kp_idx = np.insert(good_matches[good_matches_ref_kp],True,good_matches_ref_kp)\n"
     ]
    },
    {
     "name": "stdout",
     "output_type": "stream",
     "text": [
      "   1.75 : Done with 68, in 752.585 seconds. Error rate 0.603\n",
      "   (100, 7) (100, 7, 2) (100, 7, 2) in 8.762 seconds\n"
     ]
    },
    {
     "name": "stderr",
     "output_type": "stream",
     "text": [
      "/srv/jaybie/archive/spatial-privacy-master/nn_matchers.py:670: FutureWarning: in the future insert will treat boolean arrays and array-likes as a boolean index instead of casting it to integer\n",
      "  good_matches_kp_idx = np.insert(good_matches[good_matches_ref_kp],True,good_matches_ref_kp)\n"
     ]
    },
    {
     "name": "stdout",
     "output_type": "stream",
     "text": [
      "   1.75 : Done with 134, in 726.312 seconds. Error rate 0.582\n",
      "   (100, 7) (100, 7, 2) (100, 7, 2) in 3.305 seconds\n"
     ]
    },
    {
     "name": "stderr",
     "output_type": "stream",
     "text": [
      "/srv/jaybie/archive/spatial-privacy-master/nn_matchers.py:670: FutureWarning: in the future insert will treat boolean arrays and array-likes as a boolean index instead of casting it to integer\n",
      "  good_matches_kp_idx = np.insert(good_matches[good_matches_ref_kp],True,good_matches_ref_kp)\n"
     ]
    },
    {
     "name": "stdout",
     "output_type": "stream",
     "text": [
      "   1.75 : Done with 200, in 717.337 seconds. Error rate 0.550\n",
      "   (100, 7) (100, 7, 2) (100, 7, 2) in 10.682 seconds\n"
     ]
    },
    {
     "name": "stderr",
     "output_type": "stream",
     "text": [
      "/srv/jaybie/archive/spatial-privacy-master/nn_matchers.py:670: FutureWarning: in the future insert will treat boolean arrays and array-likes as a boolean index instead of casting it to integer\n",
      "  good_matches_kp_idx = np.insert(good_matches[good_matches_ref_kp],True,good_matches_ref_kp)\n"
     ]
    },
    {
     "name": "stdout",
     "output_type": "stream",
     "text": [
      "   1.75 : Done with 266, in 709.352 seconds. Error rate 0.549\n",
      "   (100, 7) (100, 7, 2) (100, 7, 2) in 6.094 seconds\n",
      "1.75  Total Time to match 3191.538 seconds.\n",
      "radius = 2.25\n"
     ]
    },
    {
     "name": "stderr",
     "output_type": "stream",
     "text": [
      "/srv/jaybie/archive/spatial-privacy-master/nn_matchers.py:670: FutureWarning: in the future insert will treat boolean arrays and array-likes as a boolean index instead of casting it to integer\n",
      "  good_matches_kp_idx = np.insert(good_matches[good_matches_ref_kp],True,good_matches_ref_kp)\n"
     ]
    },
    {
     "name": "stdout",
     "output_type": "stream",
     "text": [
      "   2.25 : Done with 2, in 26.231 seconds. Error rate 0.000\n",
      "   (100, 7) (100, 7, 2) (100, 7, 2) in 18.652 seconds\n"
     ]
    },
    {
     "name": "stderr",
     "output_type": "stream",
     "text": [
      "/srv/jaybie/archive/spatial-privacy-master/nn_matchers.py:670: FutureWarning: in the future insert will treat boolean arrays and array-likes as a boolean index instead of casting it to integer\n",
      "  good_matches_kp_idx = np.insert(good_matches[good_matches_ref_kp],True,good_matches_ref_kp)\n"
     ]
    },
    {
     "name": "stdout",
     "output_type": "stream",
     "text": [
      "   2.25 : Done with 68, in 1174.840 seconds. Error rate 0.441\n",
      "   (100, 7) (100, 7, 2) (100, 7, 2) in 12.820 seconds\n"
     ]
    },
    {
     "name": "stderr",
     "output_type": "stream",
     "text": [
      "/srv/jaybie/archive/spatial-privacy-master/nn_matchers.py:670: FutureWarning: in the future insert will treat boolean arrays and array-likes as a boolean index instead of casting it to integer\n",
      "  good_matches_kp_idx = np.insert(good_matches[good_matches_ref_kp],True,good_matches_ref_kp)\n"
     ]
    },
    {
     "name": "stdout",
     "output_type": "stream",
     "text": [
      "   2.25 : Done with 134, in 1239.254 seconds. Error rate 0.418\n",
      "   (100, 7) (100, 7, 2) (100, 7, 2) in 5.743 seconds\n"
     ]
    },
    {
     "name": "stderr",
     "output_type": "stream",
     "text": [
      "/srv/jaybie/archive/spatial-privacy-master/nn_matchers.py:670: FutureWarning: in the future insert will treat boolean arrays and array-likes as a boolean index instead of casting it to integer\n",
      "  good_matches_kp_idx = np.insert(good_matches[good_matches_ref_kp],True,good_matches_ref_kp)\n"
     ]
    },
    {
     "name": "stdout",
     "output_type": "stream",
     "text": [
      "   2.25 : Done with 200, in 1258.419 seconds. Error rate 0.395\n",
      "   (100, 7) (100, 7, 2) (100, 7, 2) in 20.545 seconds\n"
     ]
    },
    {
     "name": "stderr",
     "output_type": "stream",
     "text": [
      "/srv/jaybie/archive/spatial-privacy-master/nn_matchers.py:670: FutureWarning: in the future insert will treat boolean arrays and array-likes as a boolean index instead of casting it to integer\n",
      "  good_matches_kp_idx = np.insert(good_matches[good_matches_ref_kp],True,good_matches_ref_kp)\n"
     ]
    },
    {
     "name": "stdout",
     "output_type": "stream",
     "text": [
      "   2.25 : Done with 266, in 1202.143 seconds. Error rate 0.406\n",
      "   (100, 7) (100, 7, 2) (100, 7, 2) in 9.065 seconds\n",
      "2.25  Total Time to match 5400.502 seconds.\n",
      "radius = 2.75\n"
     ]
    },
    {
     "name": "stderr",
     "output_type": "stream",
     "text": [
      "/srv/jaybie/archive/spatial-privacy-master/nn_matchers.py:670: FutureWarning: in the future insert will treat boolean arrays and array-likes as a boolean index instead of casting it to integer\n",
      "  good_matches_kp_idx = np.insert(good_matches[good_matches_ref_kp],True,good_matches_ref_kp)\n"
     ]
    },
    {
     "name": "stdout",
     "output_type": "stream",
     "text": [
      "   2.75 : Done with 2, in 42.231 seconds. Error rate 0.000\n",
      "   (100, 7) (100, 7, 2) (100, 7, 2) in 29.020 seconds\n"
     ]
    },
    {
     "name": "stderr",
     "output_type": "stream",
     "text": [
      "/srv/jaybie/archive/spatial-privacy-master/nn_matchers.py:670: FutureWarning: in the future insert will treat boolean arrays and array-likes as a boolean index instead of casting it to integer\n",
      "  good_matches_kp_idx = np.insert(good_matches[good_matches_ref_kp],True,good_matches_ref_kp)\n"
     ]
    },
    {
     "name": "stdout",
     "output_type": "stream",
     "text": [
      "   2.75 : Done with 68, in 1854.659 seconds. Error rate 0.441\n",
      "   (100, 7) (100, 7, 2) (100, 7, 2) in 15.640 seconds\n"
     ]
    },
    {
     "name": "stderr",
     "output_type": "stream",
     "text": [
      "/srv/jaybie/archive/spatial-privacy-master/nn_matchers.py:670: FutureWarning: in the future insert will treat boolean arrays and array-likes as a boolean index instead of casting it to integer\n",
      "  good_matches_kp_idx = np.insert(good_matches[good_matches_ref_kp],True,good_matches_ref_kp)\n",
      "/srv/jaybie/archive/spatial-privacy-master/nn_matchers.py:648: RuntimeWarning: invalid value encountered in true_divide\n",
      "  similarity_of_angle = np.sum(np.multiply(unq_diff_qry_kps,unq_diff_ref_kps), axis = -1)/np.multiply(Norm_unq_diff_qry_kps,Norm_unq_diff_ref_kps)\n",
      "/srv/jaybie/archive/spatial-privacy-master/nn_matchers.py:658: RuntimeWarning: invalid value encountered in greater\n",
      "  good_match_threshold*np.ones(similarity_of_shape.shape)\n",
      "/srv/jaybie/archive/spatial-privacy-master/nn_matchers.py:665: RuntimeWarning: invalid value encountered in greater\n",
      "  good_match_threshold*np.ones(similarity_of_shape.shape)\n"
     ]
    },
    {
     "name": "stdout",
     "output_type": "stream",
     "text": [
      "   2.75 : Done with 134, in 1872.096 seconds. Error rate 0.478\n",
      "   (100, 7) (100, 7, 2) (100, 7, 2) in 9.049 seconds\n"
     ]
    },
    {
     "name": "stderr",
     "output_type": "stream",
     "text": [
      "/srv/jaybie/archive/spatial-privacy-master/nn_matchers.py:670: FutureWarning: in the future insert will treat boolean arrays and array-likes as a boolean index instead of casting it to integer\n",
      "  good_matches_kp_idx = np.insert(good_matches[good_matches_ref_kp],True,good_matches_ref_kp)\n",
      "/srv/jaybie/archive/spatial-privacy-master/nn_matchers.py:648: RuntimeWarning: invalid value encountered in true_divide\n",
      "  similarity_of_angle = np.sum(np.multiply(unq_diff_qry_kps,unq_diff_ref_kps), axis = -1)/np.multiply(Norm_unq_diff_qry_kps,Norm_unq_diff_ref_kps)\n",
      "/srv/jaybie/archive/spatial-privacy-master/nn_matchers.py:658: RuntimeWarning: invalid value encountered in greater\n",
      "  good_match_threshold*np.ones(similarity_of_shape.shape)\n",
      "/srv/jaybie/archive/spatial-privacy-master/nn_matchers.py:665: RuntimeWarning: invalid value encountered in greater\n",
      "  good_match_threshold*np.ones(similarity_of_shape.shape)\n"
     ]
    },
    {
     "name": "stdout",
     "output_type": "stream",
     "text": [
      "   2.75 : Done with 200, in 1921.080 seconds. Error rate 0.475\n",
      "   (100, 7) (100, 7, 2) (100, 7, 2) in 29.955 seconds\n"
     ]
    },
    {
     "name": "stderr",
     "output_type": "stream",
     "text": [
      "/srv/jaybie/archive/spatial-privacy-master/nn_matchers.py:670: FutureWarning: in the future insert will treat boolean arrays and array-likes as a boolean index instead of casting it to integer\n",
      "  good_matches_kp_idx = np.insert(good_matches[good_matches_ref_kp],True,good_matches_ref_kp)\n",
      "/srv/jaybie/archive/spatial-privacy-master/nn_matchers.py:648: RuntimeWarning: invalid value encountered in true_divide\n",
      "  similarity_of_angle = np.sum(np.multiply(unq_diff_qry_kps,unq_diff_ref_kps), axis = -1)/np.multiply(Norm_unq_diff_qry_kps,Norm_unq_diff_ref_kps)\n",
      "/srv/jaybie/archive/spatial-privacy-master/nn_matchers.py:658: RuntimeWarning: invalid value encountered in greater\n",
      "  good_match_threshold*np.ones(similarity_of_shape.shape)\n",
      "/srv/jaybie/archive/spatial-privacy-master/nn_matchers.py:665: RuntimeWarning: invalid value encountered in greater\n",
      "  good_match_threshold*np.ones(similarity_of_shape.shape)\n"
     ]
    },
    {
     "name": "stdout",
     "output_type": "stream",
     "text": [
      "   2.75 : Done with 266, in 1710.505 seconds. Error rate 0.432\n",
      "   (100, 7) (100, 7, 2) (100, 7, 2) in 10.554 seconds\n",
      "2.75  Total Time to match 8095.553 seconds.\n"
     ]
    }
   ],
   "source": [
    "# Old NN-matcher\n",
    "descriptors = descriptors\n",
    "\n",
    "keypoint_cap = 100\n",
    "\n",
    "partial_results_path = os.path.join(results_path,\"partial_exp\")\n",
    "\n",
    "if not os.path.exists(partial_results_path): os.mkdir(partial_results_path)\n",
    "    \n",
    "exp_eval_propeties = []\n",
    "\n",
    "for radius in np.arange(1.25,3.1,0.5):\n",
    "    \n",
    "    t0 = time.time()\n",
    "    t1 = time.time()\n",
    "    \n",
    "    partial_scores_pool = []\n",
    "    per_radius_properties = []\n",
    "    \n",
    "    print(\"radius =\",radius)\n",
    "    \n",
    "    for s_i in sample_points_300:\n",
    "        \n",
    "        t3 = time.time()\n",
    "        \n",
    "        obj_, object_name, original_vertex = sample_points[s_i]\n",
    "        \n",
    "        pointCloud = []\n",
    "        \n",
    "        try:\n",
    "            trial = np.random.randint(5)\n",
    "            \n",
    "            with open(\"../ransac_pc/ransac_point_collection_{}.pickle\".format(trial),'rb') as f:\n",
    "                ransac_trial_point_collection = pickle.load(f)\n",
    "\n",
    "            object_, pointCloud_, tri_ = ransac_trial_point_collection[int(obj_)]\n",
    "            \n",
    "            ransac_nbrs = NearestNeighbors(n_neighbors=min(20000,len(pointCloud_)), algorithm='kd_tree').fit(pointCloud_[:,:3])\n",
    "            \n",
    "            dist_, ind_ = ransac_nbrs.kneighbors([original_vertex[:3]])\n",
    "            pointCloud =  pointCloud_[ind_[0,np.where(dist_[0,:]<=radius)[0]]]\n",
    "        except:\n",
    "            print(\"Can't get ransac samples for\",trial,obj_meta[0],dist_.shape,ind_.shape)\n",
    "            continue\n",
    "            \n",
    "        #if len(gen_planes) == 0: continue\n",
    "        if len(pointCloud) == 0: continue\n",
    "\n",
    "        local_keypoint_matches = []\n",
    "\n",
    "        try:\n",
    "            obj_meta, diff_ratios, diff_indexs, diff_scores, local_keypoint_matches = get_score_kdtree_lean(\n",
    "                [obj_, object_name, original_vertex], \n",
    "                pointCloud, \n",
    "                descriptors,\n",
    "                key_cap=keypoint_cap,\n",
    "                strict_cap=True,\n",
    "                desc_new=True\n",
    "            )\n",
    "            \n",
    "        except Exception as ex:\n",
    "            print(ex)\n",
    "            print(\"skipped\",object_name)\n",
    "            continue\n",
    "        \n",
    "        if len(local_keypoint_matches) == 0: \n",
    "            print(\"skipped\",object_name)\n",
    "            continue\n",
    "\n",
    "        t4 = time.time()\n",
    "\n",
    "        partial_scores_pool.append([\n",
    "            [obj_, object_name, original_vertex], \n",
    "            diff_ratios,\n",
    "            diff_indexs,\n",
    "            diff_scores,\n",
    "            local_keypoint_matches\n",
    "        ])\n",
    "                \n",
    "        per_radius_properties.append([\n",
    "            diff_ratios.shape,\n",
    "            diff_indexs.shape,\n",
    "            diff_scores.shape,\n",
    "            t4 - t3\n",
    "        ])\n",
    "\n",
    "        if len(partial_scores_pool) % 66 == 2:\n",
    "            \n",
    "            partial_errors_pool = NN_matcher(partial_scores_pool)\n",
    "            print(\"  \",radius,\": Done with {}, in {:.3f} seconds. Error rate {:.3f}\".format(\n",
    "                len(partial_scores_pool),\n",
    "                time.time()-t1,\n",
    "                np.sum(partial_errors_pool[:,1])/len(partial_scores_pool)\n",
    "            ))\n",
    "            print(\"  \",\n",
    "                  diff_ratios.shape,\n",
    "                  diff_indexs.shape,\n",
    "                  diff_scores.shape,\n",
    "                  \"in {:.3f} seconds\".format(t4 - t3)\n",
    "                 )\n",
    "                        \n",
    "            with bz2.BZ2File('testing_results/partial_exp/ransac_{}_partial_scores_cap_{}.pickle.bz2'.format(radius, keypoint_cap), 'w') as bz2_f:\n",
    "                pickle.dump(partial_scores_pool, bz2_f)\n",
    "                \n",
    "            t1  = time.time()\n",
    "            \n",
    "    exp_eval_propeties.append([\n",
    "        radius,\n",
    "        per_radius_properties\n",
    "    ])\n",
    "    \n",
    "    with open('testing_results/partial_exp/ransac_eval_properties_{}.pickle'.format(keypoint_cap), 'wb') as f:\n",
    "        pickle.dump(exp_eval_propeties, f)\n",
    "\n",
    "    print(radius,\" Total Time to match {:.3f} seconds.\".format(time.time()-t0))\n",
    "    \n",
    "\n",
    "    #print(len(partial_lengths))\n",
    "       "
   ]
  },
  {
   "cell_type": "code",
   "execution_count": null,
   "metadata": {
    "scrolled": true
   },
   "outputs": [
    {
     "name": "stdout",
     "output_type": "stream",
     "text": [
      "radius = 0.25\n",
      "30    0.25 : Done with 2, in 0.569 seconds. Error rate 1.000\n",
      "   (11, 7) (11, 7, 2) (11, 7, 2) extrated in 0.036 seconds, inferred in 0.222 seconds\n"
     ]
    },
    {
     "name": "stderr",
     "output_type": "stream",
     "text": [
      "/srv/jaybie/archive/spatial-privacy-master/nn_matchers.py:670: FutureWarning: in the future insert will treat boolean arrays and array-likes as a boolean index instead of casting it to integer\n",
      "  good_matches_kp_idx = np.insert(good_matches[good_matches_ref_kp],True,good_matches_ref_kp)\n",
      "/home/jaybie/.conda/envs/3d_env/lib/python3.7/site-packages/numpy/core/fromnumeric.py:3118: RuntimeWarning: Mean of empty slice.\n",
      "  out=out, **kwargs)\n",
      "/home/jaybie/.conda/envs/3d_env/lib/python3.7/site-packages/numpy/core/_methods.py:78: RuntimeWarning: invalid value encountered in true_divide\n",
      "  ret, rcount, out=ret, casting='unsafe', subok=False)\n"
     ]
    },
    {
     "name": "stdout",
     "output_type": "stream",
     "text": [
      "30    0.25 : Done with 68, in 21.763 seconds. Error rate 0.926\n",
      "   (18, 7) (18, 7, 2) (18, 7, 2) extrated in 0.035 seconds, inferred in 0.384 seconds\n"
     ]
    },
    {
     "name": "stderr",
     "output_type": "stream",
     "text": [
      "/srv/jaybie/archive/spatial-privacy-master/nn_matchers.py:670: FutureWarning: in the future insert will treat boolean arrays and array-likes as a boolean index instead of casting it to integer\n",
      "  good_matches_kp_idx = np.insert(good_matches[good_matches_ref_kp],True,good_matches_ref_kp)\n",
      "/home/jaybie/.conda/envs/3d_env/lib/python3.7/site-packages/numpy/core/fromnumeric.py:3118: RuntimeWarning: Mean of empty slice.\n",
      "  out=out, **kwargs)\n",
      "/home/jaybie/.conda/envs/3d_env/lib/python3.7/site-packages/numpy/core/_methods.py:78: RuntimeWarning: invalid value encountered in true_divide\n",
      "  ret, rcount, out=ret, casting='unsafe', subok=False)\n"
     ]
    },
    {
     "name": "stdout",
     "output_type": "stream",
     "text": [
      "30    0.25 : Done with 134, in 26.178 seconds. Error rate 0.910\n",
      "   (13, 7) (13, 7, 2) (13, 7, 2) extrated in 0.040 seconds, inferred in 0.271 seconds\n"
     ]
    },
    {
     "name": "stderr",
     "output_type": "stream",
     "text": [
      "/srv/jaybie/archive/spatial-privacy-master/nn_matchers.py:670: FutureWarning: in the future insert will treat boolean arrays and array-likes as a boolean index instead of casting it to integer\n",
      "  good_matches_kp_idx = np.insert(good_matches[good_matches_ref_kp],True,good_matches_ref_kp)\n",
      "/home/jaybie/.conda/envs/3d_env/lib/python3.7/site-packages/numpy/core/fromnumeric.py:3118: RuntimeWarning: Mean of empty slice.\n",
      "  out=out, **kwargs)\n",
      "/home/jaybie/.conda/envs/3d_env/lib/python3.7/site-packages/numpy/core/_methods.py:78: RuntimeWarning: invalid value encountered in true_divide\n",
      "  ret, rcount, out=ret, casting='unsafe', subok=False)\n"
     ]
    },
    {
     "name": "stdout",
     "output_type": "stream",
     "text": [
      "30    0.25 : Done with 200, in 32.469 seconds. Error rate 0.900\n",
      "   (18, 7) (18, 7, 2) (18, 7, 2) extrated in 0.039 seconds, inferred in 0.304 seconds\n"
     ]
    },
    {
     "name": "stderr",
     "output_type": "stream",
     "text": [
      "/srv/jaybie/archive/spatial-privacy-master/nn_matchers.py:670: FutureWarning: in the future insert will treat boolean arrays and array-likes as a boolean index instead of casting it to integer\n",
      "  good_matches_kp_idx = np.insert(good_matches[good_matches_ref_kp],True,good_matches_ref_kp)\n",
      "/home/jaybie/.conda/envs/3d_env/lib/python3.7/site-packages/numpy/core/fromnumeric.py:3118: RuntimeWarning: Mean of empty slice.\n",
      "  out=out, **kwargs)\n",
      "/home/jaybie/.conda/envs/3d_env/lib/python3.7/site-packages/numpy/core/_methods.py:78: RuntimeWarning: invalid value encountered in true_divide\n",
      "  ret, rcount, out=ret, casting='unsafe', subok=False)\n"
     ]
    },
    {
     "name": "stdout",
     "output_type": "stream",
     "text": [
      "30    0.25 : Done with 266, in 35.957 seconds. Error rate 0.883\n",
      "   (9, 7) (9, 7, 2) (9, 7, 2) extrated in 0.050 seconds, inferred in 0.241 seconds\n",
      "30 0.25  Total Time to match 137.291 seconds.\n",
      "radius = 0.75\n",
      "30    0.75 : Done with 2, in 1.144 seconds. Error rate 1.000\n",
      "   (30, 7) (30, 7, 2) (30, 7, 2) extrated in 0.037 seconds, inferred in 0.587 seconds\n"
     ]
    },
    {
     "name": "stderr",
     "output_type": "stream",
     "text": [
      "/srv/jaybie/archive/spatial-privacy-master/nn_matchers.py:670: FutureWarning: in the future insert will treat boolean arrays and array-likes as a boolean index instead of casting it to integer\n",
      "  good_matches_kp_idx = np.insert(good_matches[good_matches_ref_kp],True,good_matches_ref_kp)\n",
      "/home/jaybie/.conda/envs/3d_env/lib/python3.7/site-packages/numpy/core/fromnumeric.py:3118: RuntimeWarning: Mean of empty slice.\n",
      "  out=out, **kwargs)\n",
      "/home/jaybie/.conda/envs/3d_env/lib/python3.7/site-packages/numpy/core/_methods.py:78: RuntimeWarning: invalid value encountered in true_divide\n",
      "  ret, rcount, out=ret, casting='unsafe', subok=False)\n"
     ]
    },
    {
     "name": "stdout",
     "output_type": "stream",
     "text": [
      "30    0.75 : Done with 68, in 117.597 seconds. Error rate 0.838\n",
      "   (30, 7) (30, 7, 2) (30, 7, 2) extrated in 0.039 seconds, inferred in 2.307 seconds\n"
     ]
    },
    {
     "name": "stderr",
     "output_type": "stream",
     "text": [
      "/srv/jaybie/archive/spatial-privacy-master/nn_matchers.py:670: FutureWarning: in the future insert will treat boolean arrays and array-likes as a boolean index instead of casting it to integer\n",
      "  good_matches_kp_idx = np.insert(good_matches[good_matches_ref_kp],True,good_matches_ref_kp)\n",
      "/home/jaybie/.conda/envs/3d_env/lib/python3.7/site-packages/numpy/core/fromnumeric.py:3118: RuntimeWarning: Mean of empty slice.\n",
      "  out=out, **kwargs)\n",
      "/home/jaybie/.conda/envs/3d_env/lib/python3.7/site-packages/numpy/core/_methods.py:78: RuntimeWarning: invalid value encountered in true_divide\n",
      "  ret, rcount, out=ret, casting='unsafe', subok=False)\n"
     ]
    },
    {
     "name": "stdout",
     "output_type": "stream",
     "text": [
      "30    0.75 : Done with 134, in 115.996 seconds. Error rate 0.858\n",
      "   (30, 7) (30, 7, 2) (30, 7, 2) extrated in 0.034 seconds, inferred in 0.534 seconds\n"
     ]
    },
    {
     "name": "stderr",
     "output_type": "stream",
     "text": [
      "/srv/jaybie/archive/spatial-privacy-master/nn_matchers.py:670: FutureWarning: in the future insert will treat boolean arrays and array-likes as a boolean index instead of casting it to integer\n",
      "  good_matches_kp_idx = np.insert(good_matches[good_matches_ref_kp],True,good_matches_ref_kp)\n",
      "/home/jaybie/.conda/envs/3d_env/lib/python3.7/site-packages/numpy/core/fromnumeric.py:3118: RuntimeWarning: Mean of empty slice.\n",
      "  out=out, **kwargs)\n",
      "/home/jaybie/.conda/envs/3d_env/lib/python3.7/site-packages/numpy/core/_methods.py:78: RuntimeWarning: invalid value encountered in true_divide\n",
      "  ret, rcount, out=ret, casting='unsafe', subok=False)\n"
     ]
    },
    {
     "name": "stdout",
     "output_type": "stream",
     "text": [
      "30    0.75 : Done with 200, in 128.594 seconds. Error rate 0.830\n",
      "   (30, 7) (30, 7, 2) (30, 7, 2) extrated in 0.036 seconds, inferred in 2.144 seconds\n"
     ]
    }
   ],
   "source": [
    "descriptors = descriptors\n",
    "\n",
    "for keypoint_cap in [30,50,70]:\n",
    "\n",
    "#keypoint_cap = 100\n",
    "\n",
    "    partial_results_path = os.path.join(results_path,\"partial_capped_\"+str(keypoint_cap))\n",
    "\n",
    "    if not os.path.exists(partial_results_path): os.mkdir(partial_results_path)\n",
    "\n",
    "    exp_eval_propeties = []\n",
    "\n",
    "    for radius in np.arange(0.25,3.1,0.5):\n",
    "\n",
    "        t0 = time.time()\n",
    "        t1 = time.time()\n",
    "\n",
    "        partial_scores_pool = []\n",
    "        per_radius_properties = []\n",
    "\n",
    "        print(\"radius =\",radius)\n",
    "\n",
    "        for s_i in sample_points_300:\n",
    "\n",
    "            t3 = time.time()\n",
    "\n",
    "            obj_, object_name, original_vertex = sample_points[s_i]\n",
    "\n",
    "            pointCloud = []\n",
    "\n",
    "            try:\n",
    "                trial = np.random.randint(5)\n",
    "\n",
    "                with open(\"../ransac_pc/ransac_point_collection_{}.pickle\".format(trial),'rb') as f:\n",
    "                    ransac_trial_point_collection = pickle.load(f)\n",
    "\n",
    "                object_, pointCloud_, tri_ = ransac_trial_point_collection[int(obj_)]\n",
    "\n",
    "                ransac_nbrs = NearestNeighbors(n_neighbors=min(20000,len(pointCloud_)), algorithm='kd_tree').fit(pointCloud_[:,:3])\n",
    "\n",
    "                dist_, ind_ = ransac_nbrs.kneighbors([original_vertex[:3]])\n",
    "                pointCloud =  pointCloud_[ind_[0,np.where(dist_[0,:]<=radius)[0]]]\n",
    "            except:\n",
    "                print(\"Can't get ransac samples for\",trial,obj_meta[0],dist_.shape,ind_.shape)\n",
    "                continue\n",
    "\n",
    "            t4 = time.time()\n",
    "\n",
    "            #if len(gen_planes) == 0: continue\n",
    "            if len(pointCloud) == 0: continue\n",
    "\n",
    "            local_keypoint_matches = []\n",
    "\n",
    "            try:\n",
    "                obj_meta, diff_ratios, diff_indexs, diff_scores, local_keypoint_matches = get_score_kdtree_lean(\n",
    "                    [obj_, object_name, original_vertex], \n",
    "                    pointCloud, \n",
    "                    descriptors,\n",
    "                    key_cap=keypoint_cap,\n",
    "                    strict_cap=True\n",
    "                )\n",
    "\n",
    "            except Exception as ex:\n",
    "                print(ex)\n",
    "                print(\"skipped\",object_name)\n",
    "                continue\n",
    "\n",
    "            if len(local_keypoint_matches) == 0: \n",
    "                print(\"skipped\",object_name)\n",
    "                continue\n",
    "\n",
    "            t5 = time.time()\n",
    "\n",
    "            partial_scores_pool.append([\n",
    "                [obj_, object_name, original_vertex], \n",
    "                diff_ratios,\n",
    "                diff_indexs,\n",
    "                diff_scores,\n",
    "                local_keypoint_matches\n",
    "            ])\n",
    "\n",
    "            per_radius_properties.append([\n",
    "                diff_ratios.shape,\n",
    "                diff_indexs.shape,\n",
    "                diff_scores.shape,\n",
    "                [t5 - t4, t4 -t3] # inference time, extraction time\n",
    "            ])\n",
    "\n",
    "            if len(partial_scores_pool) % 66 == 2:\n",
    "\n",
    "                partial_errors_pool = NN_matcher(partial_scores_pool)\n",
    "                print(keypoint_cap,\"  \",radius,\": Done with {}, in {:.3f} seconds. Error rate {:.3f}\".format(\n",
    "                    len(partial_scores_pool),\n",
    "                    time.time()-t1,\n",
    "                    np.sum(partial_errors_pool[:,1])/len(partial_scores_pool)\n",
    "                ))\n",
    "                print(\"  \",\n",
    "                      diff_ratios.shape,\n",
    "                      diff_indexs.shape,\n",
    "                      diff_scores.shape,\n",
    "                      \"extrated in {:.3f} seconds, inferred in {:.3f} seconds\".format(t4 - t3, t5 - t4)\n",
    "                     )\n",
    "\n",
    "                t1  = time.time()\n",
    "                \n",
    "            with bz2.BZ2File('testing_results/partial_capped_{}/ransac_{}_partial_scores_cap.pickle.bz2'.format(keypoint_cap, radius), 'w') as bz2_f:\n",
    "                pickle.dump(partial_scores_pool, bz2_f)\n",
    "\n",
    "        exp_eval_propeties.append([\n",
    "            radius,\n",
    "            per_radius_properties\n",
    "        ])\n",
    "\n",
    "        with open('testing_results/partial_capped_{}/ransac_eval_properties.pickle'.format(keypoint_cap), 'wb') as f:\n",
    "            pickle.dump(exp_eval_propeties,f)\n",
    "\n",
    "        print(keypoint_cap,radius,\" Total Time to match {:.3f} seconds.\".format(time.time()-t0))\n"
   ]
  },
  {
   "cell_type": "markdown",
   "metadata": {},
   "source": [
    "# Step 1.3: Results"
   ]
  },
  {
   "cell_type": "code",
   "execution_count": 22,
   "metadata": {
    "scrolled": true
   },
   "outputs": [
    {
     "name": "stdout",
     "output_type": "stream",
     "text": [
      "30 0.25 (Ransac) P1 Error Rate: 0.868421052631579\n",
      "   (Ransac) P2 Error Rate: 6.211 (± 3.706)\n",
      "30 0.75 (Ransac) P1 Error Rate: 0.8270676691729323\n",
      "   (Ransac) P2 Error Rate: 5.604 (± 3.458)\n",
      "30 1.25 (Ransac) P1 Error Rate: 0.6804511278195489\n",
      "   (Ransac) P2 Error Rate: 3.332 (± 3.071)\n",
      "30 1.75 (Ransac) P1 Error Rate: 0.6729323308270677\n",
      "   (Ransac) P2 Error Rate: 3.200 (± 2.610)\n",
      "30 2.25 (Ransac) P1 Error Rate: 0.6578947368421053\n",
      "   (Ransac) P2 Error Rate: 3.206 (± 2.604)\n",
      "30 2.75 (Ransac) P1 Error Rate: 0.6278195488721805\n",
      "   (Ransac) P2 Error Rate: 3.069 (± 2.401)\n",
      "50 0.25 (Ransac) P1 Error Rate: 0.8721804511278195\n",
      "   (Ransac) P2 Error Rate: 6.589 (± 3.350)\n",
      "50 0.75 (Ransac) P1 Error Rate: 0.8270676691729323\n",
      "   (Ransac) P2 Error Rate: 4.527 (± 3.210)\n",
      "50 1.25 (Ransac) P1 Error Rate: 0.6992481203007519\n",
      "   (Ransac) P2 Error Rate: 3.644 (± 3.384)\n",
      "50 1.75 (Ransac) P1 Error Rate: 0.5601503759398496\n",
      "   (Ransac) P2 Error Rate: 3.200 (± 3.030)\n",
      "50 2.25 (Ransac) P1 Error Rate: 0.5413533834586466\n",
      "   (Ransac) P2 Error Rate: 2.433 (± 2.013)\n",
      "50 2.75 (Ransac) P1 Error Rate: 0.5451127819548872\n",
      "   (Ransac) P2 Error Rate: 3.616 (± 2.736)\n",
      "70 0.25 (Ransac) P1 Error Rate: 0.868421052631579\n",
      "   (Ransac) P2 Error Rate: 5.990 (± 2.732)\n",
      "70 0.75 (Ransac) P1 Error Rate: 0.8045112781954887\n",
      "   (Ransac) P2 Error Rate: 4.485 (± 3.519)\n",
      "70 1.25 (Ransac) P1 Error Rate: 0.6541353383458647\n",
      "   (Ransac) P2 Error Rate: 3.071 (± 2.834)\n",
      "70 1.75 (Ransac) P1 Error Rate: 0.5639097744360902\n",
      "   (Ransac) P2 Error Rate: 2.697 (± 2.754)\n",
      "70 2.25 (Ransac) P1 Error Rate: 0.49624060150375937\n",
      "   (Ransac) P2 Error Rate: 2.472 (± 2.049)\n",
      "70 2.75 (Ransac) P1 Error Rate: 0.518796992481203\n",
      "   (Ransac) P2 Error Rate: 2.589 (± 2.017)\n"
     ]
    }
   ],
   "source": [
    "results_partials_caps = []\n",
    "\n",
    "\n",
    "for keypoint_cap in [30,50,70]:\n",
    "\n",
    "    ransac_errors = []\n",
    "\n",
    "    for radius in np.arange(0.25, 3.1, 0.5):\n",
    "\n",
    "        try:\n",
    "            with bz2.BZ2File('testing_results/partial_capped_{}/ransac_{}_partial_scores_cap.pickle.bz2'.format(keypoint_cap, radius), 'r') as bz2_f:\n",
    "                partial_scores_pool = pickle.load(bz2_f) \n",
    "\n",
    "        except:\n",
    "            print(\"Error getting Raw scores for\",radius)\n",
    "            continue\n",
    "\n",
    "        partial_errors_pool = NN_matcher(partial_scores_pool)\n",
    "        correct_interspace_labels_idxs = np.where(partial_errors_pool[:,1]==0)[0]\n",
    "        intraspace_errors  = partial_errors_pool[correct_interspace_labels_idxs,2]\n",
    "\n",
    "        print(keypoint_cap,radius,\"(Ransac) P1 Error Rate:\",np.sum(partial_errors_pool[:,1])/len(partial_scores_pool)) \n",
    "        print(\"   (Ransac) P2 Error Rate: {:.3f} (± {:.3f})\".format(np.nanmean(intraspace_errors),np.nanstd(intraspace_errors))) \n",
    "\n",
    "        ransac_errors.append([\n",
    "            radius,\n",
    "            np.sum(partial_errors_pool[:,1])/len(partial_scores_pool),\n",
    "            np.nanmean(intraspace_errors),\n",
    "            np.nanstd(intraspace_errors)\n",
    "        ])\n",
    "        \n",
    "    with open('testing_results/partial_capped_{}/ransac_eval_properties.pickle'.format(keypoint_cap), 'rb') as f:\n",
    "        exp_eval_propeties = pickle.load(f)\n",
    "        \n",
    "    overall_simp_properties = []\n",
    "\n",
    "    for radius, properties in exp_eval_propeties:\n",
    "        \n",
    "        properties = np.asarray(properties)\n",
    "\n",
    "        simp_properties = []\n",
    "\n",
    "        for ratio_s, index_s, score_s, [proc_time, extrct_time] in properties:\n",
    "            simp_properties.append([\n",
    "                radius, \n",
    "                ratio_s[0],\n",
    "                proc_time,\n",
    "                extrct_time\n",
    "            ])\n",
    "\n",
    "        simp_properties = np.asarray(simp_properties)\n",
    "        \n",
    "        overall_simp_properties.append([\n",
    "            radius,\n",
    "            np.mean(simp_properties[:,1]),\n",
    "            np.std(simp_properties[:,1]),\n",
    "            np.mean(simp_properties[:,2]),\n",
    "            np.std(simp_properties[:,2]),\n",
    "            np.mean(simp_properties[:,3]),\n",
    "            np.std(simp_properties[:,3])\n",
    "        ])\n",
    "                \n",
    "    results_partials_caps.append([\n",
    "        keypoint_cap,\n",
    "        np.asarray(ransac_errors),\n",
    "        np.asarray(overall_simp_properties)\n",
    "    ])\n",
    "    \n",
    "with open('testing_results/partial_exp/results_partials_caps.pickle', 'wb') as f:\n",
    "    pickle.dump(results_partials_caps,f)\n",
    "    "
   ]
  },
  {
   "cell_type": "code",
   "execution_count": 25,
   "metadata": {},
   "outputs": [
    {
     "data": {
      "text/plain": [
       "Text(0.5, 1.0, 'NN-matcher')"
      ]
     },
     "execution_count": 25,
     "metadata": {},
     "output_type": "execute_result"
    },
    {
     "data": {
      "image/png": "[encoded data removed]",
      "text/plain": [
       "<Figure size 540x504 with 3 Axes>"
      ]
     },
     "metadata": {
      "needs_background": "light"
     },
     "output_type": "display_data"
    }
   ],
   "source": [
    "fig=plt.figure(figsize=(7.5, 7))\n",
    "\n",
    "markersize = 7\n",
    "linewidth = 1.5\n",
    "\n",
    "ax2 = fig.add_subplot(212)#, sharex = ax1) \n",
    "\n",
    "ax2.grid(alpha = 0.7)\n",
    "ax2.set_ylim(-0.25,10.25)\n",
    "ax2.set_xlim(0,3)\n",
    "ax2.set_ylabel(\"INTRA-space Privacy (m)\", fontsize = 14);\n",
    "ax2.set_xlabel(\"Partial Radius (m)\", fontsize = 14);\n",
    "\n",
    "ax1 = fig.add_subplot(211, sharex = ax2) \n",
    "\n",
    "ax1.grid(alpha = 0.7)\n",
    "ax1.set_ylim(-0.025,1.025)\n",
    "ax1.set_xlim(0,3.0)\n",
    "ax1.set_ylabel(\"INTER-space Privacy\", fontsize = 14);\n",
    "#ax1.set_xlabel(\"Partial Radius\", fontsize = 14);\n",
    "\n",
    "ax3 = ax1.twinx()\n",
    "ax3.set_ylim(-1.25,51.25);\n",
    "#ax1.set_xlim(0,2.0)\n",
    "ax3.set_ylabel(\"Inference Latency (s)\", fontsize = 14, color = 'darkgreen');\n",
    "\n",
    "with open('testing_results/partial_exp/results_partials_caps.pickle', 'rb') as f:\n",
    "    results_partials_caps = pickle.load(f)\n",
    "    \n",
    "for cap, ransac_errors, properties in results_partials_caps:\n",
    "\n",
    "    ax2.plot(\n",
    "        ransac_errors[:,0],\n",
    "        ransac_errors[:,2],\n",
    "        '-.s',\n",
    "        linewidth = linewidth,\n",
    "        fillstyle = 'none',\n",
    "        mew = linewidth,markersize = markersize,\n",
    "        label = str(cap)\n",
    "    )\n",
    "\n",
    "    ax1.plot(\n",
    "        ransac_errors[:,0],\n",
    "        ransac_errors[:,1],\n",
    "        \"-s\",\n",
    "        linewidth = linewidth,\n",
    "        fillstyle = 'none',\n",
    "        mew = linewidth,markersize = markersize,\n",
    "        label = str(cap)\n",
    "    )\n",
    "\n",
    "    ax3.errorbar(\n",
    "        properties[:,0],\n",
    "        properties[:,3],\n",
    "        properties[:,4],\n",
    "        marker = 's',\n",
    "        alpha = 0.7,\n",
    "        markersize = markersize-1,\n",
    "        linestyle = '-.',\n",
    "        fillstyle = 'bottom',\n",
    "        #color = 'tab:green',\n",
    "        capsize = markersize/2,\n",
    "        label = str(cap)+\", Latency\"\n",
    "    );\n",
    "\n",
    "ax2.legend(loc = \"center left\", ncol = 1,fontsize = 8);#, bbox_to_anchor=(1.1, 1.5));\n",
    "ax1.legend(loc = \"center left\", ncol = 1, fontsize = 8);# bbox_to_anchor=(1.1, 1.5));\n",
    "#handles, labels = ax1.get_legend_handles_labels()\n",
    "\n",
    "handles.append(p3), labels.append(\"Latency, Generalized\")\n",
    "#ax1.legend(handles, labels,loc = 'upper center', fontsize = 10)\n",
    "ax3.legend(loc = 'upper center', ncol = 1, fontsize = 8)\n",
    "#ax1.set_xlabel(\"Partial Radius\")\n",
    "\n",
    "plt.title(\"NN-matcher\")\n",
    "\n",
    "#plt.savefig('plots/one-time-partials-spaces.png', format='png', dpi=300,bbox_inches = 'tight')\n"
   ]
  },
  {
   "cell_type": "code",
   "execution_count": 13,
   "metadata": {},
   "outputs": [
    {
     "data": {
      "text/plain": [
       "Text(0.5, 1.0, 'NN-matcher')"
      ]
     },
     "execution_count": 13,
     "metadata": {},
     "output_type": "execute_result"
    },
    {
     "data": {
      "image/png": "[encoded data removed]",
      "text/plain": [
       "<Figure size 540x504 with 3 Axes>"
      ]
     },
     "metadata": {
      "needs_background": "light"
     },
     "output_type": "display_data"
    }
   ],
   "source": [
    "fig=plt.figure(figsize=(7.5, 7))\n",
    "\n",
    "with open('testing_results/partial/results_partials_nn_matcher.pickle', 'rb') as f:\n",
    "    results_partials = pickle.load(f)\n",
    "\n",
    "RawNN = np.asarray(results_partials[0])\n",
    "RansacNN = np.asarray(results_partials[1])\n",
    "linewidth = 2.0\n",
    "markersize = 2.0\n",
    "\n",
    "ax2 = fig.add_subplot(212)#, sharex = ax1) \n",
    "\n",
    "ax2.grid(alpha = 0.7)\n",
    "ax2.set_ylim(-0.25,10.25)\n",
    "ax2.set_xlim(0,3)\n",
    "\n",
    "ax2.set_ylabel(\"INTRA-space Privacy (m)\", fontsize = 14);\n",
    "ax2.set_xlabel(\"Partial Radius (m)\", fontsize = 14);\n",
    "#ax2.set_yticklabels(fontsize = 16)\n",
    "#ax2.set_xticklabels(fontsize = 16)\n",
    "\n",
    "#plt.minorticks_on()\n",
    "\n",
    "ax2.plot(\n",
    "    RawNN[:,0],\n",
    "    RawNN[:,2], \n",
    "    linewidth = linewidth, \n",
    "    marker = 'o',fillstyle = 'none',\n",
    "    mew = linewidth,markersize = markersize,\n",
    "    label = \"$\\Pi_2$, Raw\"\n",
    ")\n",
    "ax2.plot(\n",
    "    RansacNN[:,0],\n",
    "    RansacNN[:,2],\n",
    "    '-.s',\n",
    "    linewidth = linewidth,\n",
    "    fillstyle = 'none',\n",
    "    mew = linewidth,markersize = markersize,\n",
    "    label = \"$\\Pi_2$, Generalized\"\n",
    ")\n",
    "\n",
    "ax2.legend(loc = \"upper right\", ncol = 1, fontsize = 10);#, bbox_to_anchor=(1.1, 1.5));\n",
    "\n",
    "ax1 = fig.add_subplot(211, sharex = ax2) \n",
    "\n",
    "ax1.grid(alpha = 0.7)\n",
    "ax1.set_ylim(-0.025,1.025)\n",
    "ax1.set_xlim(0,3.0)\n",
    "ax1.set_ylabel(\"INTER-space Privacy\", fontsize = 14);\n",
    "#ax1.set_xlabel(\"Partial Radius\", fontsize = 14);\n",
    "\n",
    "markersize = 7\n",
    "linewidth = 1.5\n",
    "\n",
    "p1 = ax1.plot(\n",
    "    RawNN[:,0],RawNN[:,1],\n",
    "    \":o\",\n",
    "    linewidth = linewidth,fillstyle = 'left',\n",
    "    mew = linewidth,markersize = markersize,\n",
    "    label = \"$\\Pi_1$, Raw\"\n",
    ")\n",
    "p2 = ax1.plot(\n",
    "    RansacNN[:,0],\n",
    "    RansacNN[:,1],\n",
    "    \"-s\",\n",
    "    linewidth = linewidth,\n",
    "    fillstyle = 'none',\n",
    "    mew = linewidth,markersize = markersize,\n",
    "    label = \"$\\Pi_1$, Generalized\"\n",
    ")\n",
    "\n",
    "ax1.legend(loc = \"upper right\", ncol = 1, fontsize = 10);# bbox_to_anchor=(1.1, 1.5));\n",
    "handles, labels = ax1.get_legend_handles_labels()\n",
    "\n",
    "ax3 = ax1.twinx()\n",
    "ax3.set_ylim(-1.25,51.25);\n",
    "#ax1.set_xlim(0,2.0)\n",
    "ax3.set_ylabel(\"Inference Latency (s)\", fontsize = 14, color = 'darkgreen');\n",
    "\n",
    "p3 = ax3.errorbar(\n",
    "    overall_simp_properties[:,0],\n",
    "    overall_simp_properties[:,3],\n",
    "    overall_simp_properties[:,4],\n",
    "    marker = 's',\n",
    "    alpha = 0.7,\n",
    "    markersize = markersize-1,\n",
    "    linestyle = '-.',\n",
    "    fillstyle = 'bottom',\n",
    "    color = 'tab:green',\n",
    "    capsize = markersize/2,\n",
    "    label = \"Latency\"\n",
    ");\n",
    "\n",
    "handles.append(p3), labels.append(\"Latency, Generalized\")\n",
    "ax1.legend(handles, labels,loc = 'upper center', fontsize = 10)\n",
    "#ax1.set_xlabel(\"Partial Radius\")\n",
    "\n",
    "plt.title(\"NN-matcher\")\n",
    "\n",
    "#plt.savefig('plots/one-time-partials-spaces.png', format='png', dpi=300,bbox_inches = 'tight')\n"
   ]
  },
  {
   "cell_type": "markdown",
   "metadata": {},
   "source": [
    "# Functions"
   ]
  },
  {
   "cell_type": "code",
   "execution_count": 35,
   "metadata": {},
   "outputs": [],
   "source": [
    "\n",
    "def getQuantizedPointCloudOnlyTEST(_point_cloud,scale = 5, verbose = False):\n",
    "    \n",
    "    np_pointCloud = np.asarray(np.copy(_point_cloud))\n",
    "    \n",
    "    round_new_pointcloud_only = (1.0/scale)*np.around(scale*_point_cloud[:,:3],decimals=0)\n",
    "    unq_round_new_pointcloud, indices = np.unique(round_new_pointcloud_only,axis = 0, return_index = True)\n",
    "    \n",
    "    #print()\n",
    "    n_pointCloud = np.hstack((unq_round_new_pointcloud, np_pointCloud[indices,3:]))\n",
    "        \n",
    "    return n_pointCloud\n"
   ]
  },
  {
   "cell_type": "code",
   "execution_count": 36,
   "metadata": {},
   "outputs": [],
   "source": [
    "# Getting the \"spin image\" descriptors for a given point cloud    \n",
    "def getSpinImageDescriptorsTest(_point_cloud,\n",
    "                            resolution = 20,\n",
    "                            normalize = True,\n",
    "                            down_resolution = 3, #keypoint resolution\n",
    "                            #localize = False,\n",
    "                            local_radius = 1.0,\n",
    "                            cylindrical_quantization = [10,20],\n",
    "                            verbose = False,\n",
    "                            old = False,\n",
    "                            key_cap = 50, \n",
    "                            strict_cap = False\n",
    "                           ):\n",
    "    \n",
    "    np_pointCloud = np.asarray(np.copy(_point_cloud))\n",
    "    other_pc = np.copy(np_pointCloud)\n",
    "    \n",
    "    t0 = time.time()\n",
    "    \n",
    "    if old:\n",
    "        chosen_points = OLDgetQuantizedPointCloudOnly(np_pointCloud,down_resolution,verbose=verbose)\n",
    "        if verbose: print(\"Old:\",chosen_points.shape)\n",
    "    else:\n",
    "        chosen_points = getQuantizedPointCloudOnlyTEST(np_pointCloud,down_resolution,verbose=verbose)\n",
    "        if verbose: print(\"New:\",chosen_points.shape)\n",
    "\n",
    "    chosen_points = np.delete(chosen_points,np.where(LA.norm(chosen_points[:,3:],axis=1)== 0)[0],0)\n",
    "    \n",
    "    t1 = time.time()\n",
    "    \n",
    "    if strict_cap and len(chosen_points) > key_cap:\n",
    "        chosen_points = chosen_points[np.random.choice(len(chosen_points),key_cap)]\n",
    "        if verbose: print(\"Capped chosen points to\", key_cap)\n",
    "    \n",
    "    \"\"\"\n",
    "    if verbose:\n",
    "        unique_normals = np.unique(chosen_points[:,3:],axis=0)\n",
    "\n",
    "        for normal in unique_normals:\n",
    "\n",
    "            if np.round(np.abs(np.dot(normal,[0,1,0]))) == 0:\n",
    "                print(\"  IN Complete\",object_name,\"Vertical\",np.abs(np.dot(normal,[0,1,0])),normal,LA.norm(normal,2))\n",
    "                print(\"  IN Chosen Points before:\",chosen_points.shape)\n",
    "                #vertical = True\n",
    "\n",
    "    \"\"\"\n",
    "    \n",
    "    view_invariant_descriptor_cylinders = np.zeros(\n",
    "        (np.append(len(chosen_points),\n",
    "                   np.asarray(cylindrical_quantization)\n",
    "                   #np.asarray(cylindrical_quantization*0.5*resolution,dtype = np.uint32)\n",
    "                   #[int(resolution*cylindrical_quantization[0]),int(resolution*cylindrical_quantization[1])]\n",
    "                  )\n",
    "        ), dtype=np.float16)\n",
    "    #    shape is (number of points, number of a bins, number of b bins)\n",
    "    #print(view_invariant_descriptor_cylinders.shape)\n",
    "\n",
    "    for i,c_p in enumerate(chosen_points):\n",
    "\n",
    "        k_ps = other_pc[:,:3] - c_p[:3] # point (vertex) differences\n",
    "        k_ps = np.delete(k_ps,np.where(LA.norm(k_ps,axis=1)==0)[0],0) # removing itself\n",
    "\n",
    "        #if localize:\n",
    "        #    k_ps = np.delete(k_ps,np.where(LA.norm(k_ps,axis=1)>local_radius)[0],0)\n",
    "\n",
    "        theta = np.arccos(np.clip(np.sum(c_p[3:]*k_ps,axis=1)/(LA.norm(c_p[3:])*LA.norm(k_ps,axis=1)),-1,1))# normal at keypoint\n",
    "\n",
    "        d_a = cylindrical_quantization[0]*LA.norm(k_ps,axis=1)*np.sin(theta)\n",
    "        d_b = np.clip(cylindrical_quantization[1]*0.5*LA.norm(k_ps,axis=1)*np.cos(theta)+cylindrical_quantization[1]*0.5,\n",
    "                      0,cylindrical_quantization[1]-1)\n",
    "        \n",
    "        # removing the points that are outside of the spin region\n",
    "        k_ps = np.delete(k_ps,np.where(d_a>=cylindrical_quantization[0]-1)[0],0)\n",
    "        d_b = np.delete(d_b,np.where(d_a>=cylindrical_quantization[0]-1)[0],0)\n",
    "        d_a = np.delete(d_a,np.where(d_a>=cylindrical_quantization[0]-1)[0],0)\n",
    "\n",
    "        k_ps = np.delete(k_ps,np.where(d_b>=cylindrical_quantization[1]-1)[0],0)\n",
    "        d_a = np.delete(d_a,np.where(d_b>=cylindrical_quantization[1]-1)[0],0)\n",
    "        d_b = np.delete(d_b,np.where(d_b>=cylindrical_quantization[1]-1)[0],0)\n",
    "        \n",
    "        a = np.ceil(np.clip(d_a,0,cylindrical_quantization[0]-1))\n",
    "        b = np.ceil(np.clip(d_b,0,cylindrical_quantization[1]-1))\n",
    "\n",
    "        for k,_ in enumerate(k_ps):\n",
    "            \n",
    "            if LA.norm(k_ps[k]) == 0:\n",
    "                continue\n",
    "\n",
    "            # skip points that are beyond the scope of the pre-defined descriptor\n",
    "            if d_a[k] >= cylindrical_quantization[0]-1 or d_b[k] >= cylindrical_quantization[1]-1:\n",
    "                continue\n",
    "            if d_a[k]>a[k] or d_b[k]>b[k]:\n",
    "                continue\n",
    "            diff_a = a[k]-d_a[k]\n",
    "            diff_b = b[k]-d_b[k]\n",
    "            \n",
    "            if diff_a > 1 or diff_b > 1:# or diff_a == 0 or diff_b == 0:\n",
    "                continue\n",
    "                \n",
    "            view_invariant_descriptor_cylinders[i,int(a[k]),int(b[k])] += (diff_a)*(diff_b)\n",
    "            view_invariant_descriptor_cylinders[i,int(a[k])-1,int(b[k])] += (1-diff_a)*(diff_b)\n",
    "            view_invariant_descriptor_cylinders[i,int(a[k]),int(b[k])-1] += (diff_a)*(1-diff_b)\n",
    "            view_invariant_descriptor_cylinders[i,int(a[k])-1,int(b[k])-1] += (1-diff_a)*(1-diff_b)\n",
    "\n",
    "    view_invariant_descriptors = []\n",
    "\n",
    "    for descriptors in view_invariant_descriptor_cylinders:\n",
    "        if normalize: # max-normalization\n",
    "            if np.amax(descriptors) == 0:\n",
    "                pass\n",
    "            else:\n",
    "                descriptors = descriptors/np.amax(descriptors)\n",
    "        view_invariant_descriptors.append(descriptors.flatten('C'))\n",
    "\n",
    "    t2 = time.time()\n",
    "    #print(\"Time to get spin image descriptors\",time.time()-t0)\n",
    "        #print(view_invariant_descriptors.shape)\n",
    "    \"\"\"    \n",
    "    if verbose:\n",
    "        unique_normals = np.unique(chosen_points[:,3:],axis=0)\n",
    "        print(\"  IN Chosen Points after:\",chosen_points.shape)\n",
    "\n",
    "        for normal in unique_normals:\n",
    "\n",
    "            if np.round(np.abs(np.dot(normal,[0,1,0]))) == 0:\n",
    "                print(\"  IN Chosen\",object_name,\"Vertical\",np.abs(np.dot(normal,[0,1,0])),normal,LA.norm(normal,2))\n",
    "    \"\"\"    \n",
    "    view_invariant_descriptors = np.asarray(view_invariant_descriptors)\n",
    "    \n",
    "    if verbose: \n",
    "        print(\"  desc shape:\",view_invariant_descriptor_cylinders.shape, \" kp's shape\",chosen_points.shape)\n",
    "        print(\"  To get keypoints {:.3f} seconds, to get descriptors {:.3f} seconds\".format(t1-t0,t2-t1))\n",
    "    \n",
    "    return view_invariant_descriptors, chosen_points, view_invariant_descriptor_cylinders, t1-t0, t2- t1\n"
   ]
  },
  {
   "cell_type": "code",
   "execution_count": 88,
   "metadata": {},
   "outputs": [],
   "source": [
    "# Getting the \"spin image\" descriptors for a given point cloud    \n",
    "def getSpinImageDescriptorsTest1(_point_cloud,\n",
    "                            resolution = 20,\n",
    "                            normalize = True,\n",
    "                            down_resolution = 3, #keypoint resolution\n",
    "                            #localize = False,\n",
    "                            local_radius = 1.0,\n",
    "                            cylindrical_quantization = [10,20],\n",
    "                            verbose = False,\n",
    "                            old = False,\n",
    "                            key_cap = 50, \n",
    "                            strict_cap = False\n",
    "                           ):\n",
    "    \n",
    "    np_pointCloud = np.asarray(np.copy(_point_cloud))\n",
    "    other_pc = np.copy(np_pointCloud)\n",
    "    \n",
    "    t0 = time.time()\n",
    "    \n",
    "    if old:\n",
    "        chosen_points = OLDgetQuantizedPointCloudOnly(np_pointCloud,down_resolution,verbose=verbose)\n",
    "        if verbose: print(\"Old:\",chosen_points.shape)\n",
    "    else:\n",
    "        chosen_points = getQuantizedPointCloudOnlyTEST(np_pointCloud,down_resolution,verbose=verbose)\n",
    "        if verbose: print(\"New:\",chosen_points.shape)\n",
    "\n",
    "    chosen_points = np.delete(chosen_points,np.where(LA.norm(chosen_points[:,3:],axis=1)== 0)[0],0)\n",
    "    \n",
    "    t1 = time.time()\n",
    "    \n",
    "    if strict_cap and len(chosen_points) > key_cap:\n",
    "        chosen_points = chosen_points[np.random.choice(len(chosen_points),key_cap)]\n",
    "        if verbose: print(\"Capped chosen points to\", key_cap)\n",
    "    \n",
    "    \"\"\"\n",
    "    if verbose:\n",
    "        unique_normals = np.unique(chosen_points[:,3:],axis=0)\n",
    "\n",
    "        for normal in unique_normals:\n",
    "\n",
    "            if np.round(np.abs(np.dot(normal,[0,1,0]))) == 0:\n",
    "                print(\"  IN Complete\",object_name,\"Vertical\",np.abs(np.dot(normal,[0,1,0])),normal,LA.norm(normal,2))\n",
    "                print(\"  IN Chosen Points before:\",chosen_points.shape)\n",
    "                #vertical = True\n",
    "\n",
    "    \"\"\"\n",
    "    \n",
    "    view_invariant_descriptor_cylinders = np.zeros(\n",
    "        (np.append(len(chosen_points),\n",
    "                   np.asarray(cylindrical_quantization)\n",
    "                   #np.asarray(cylindrical_quantization*0.5*resolution,dtype = np.uint32)\n",
    "                   #[int(resolution*cylindrical_quantization[0]),int(resolution*cylindrical_quantization[1])]\n",
    "                  )\n",
    "        ), dtype=np.float16)\n",
    "    #    shape is (number of points, number of a bins, number of b bins)\n",
    "    #print(view_invariant_descriptor_cylinders.shape)\n",
    "    \n",
    "    # N  = len(chosen points), M = len(other pc)\n",
    "\n",
    "    for i,c_p in enumerate(chosen_points):\n",
    "\n",
    "        k_ps = other_pc[:,:3] - c_p[:3] # point (vertex) differences; M\n",
    "        k_ps = np.delete(k_ps,np.where(LA.norm(k_ps,axis=1)==0)[0],0) # removing itself; M-1\n",
    "\n",
    "        #if localize:\n",
    "        #    k_ps = np.delete(k_ps,np.where(LA.norm(k_ps,axis=1)>local_radius)[0],0)\n",
    "\n",
    "        # len(theta) = M-1\n",
    "        theta = np.arccos(np.clip(np.sum(c_p[3:]*k_ps,axis=1)/(LA.norm(c_p[3:])*LA.norm(k_ps,axis=1)),-1,1))# normal at keypoint\n",
    "\n",
    "        \n",
    "        d_a = cylindrical_quantization[0]*LA.norm(k_ps,axis=1)*np.sin(theta)\n",
    "        d_b = np.clip(cylindrical_quantization[1]*0.5*LA.norm(k_ps,axis=1)*np.cos(theta)+cylindrical_quantization[1]*0.5,\n",
    "                      0,cylindrical_quantization[1]-1)\n",
    "        \n",
    "        # removing the points that are outside of the spin region\n",
    "        k_ps = np.delete(k_ps,np.where(d_a>=cylindrical_quantization[0]-1)[0],0)\n",
    "        d_b = np.delete(d_b,np.where(d_a>=cylindrical_quantization[0]-1)[0],0)\n",
    "        d_a = np.delete(d_a,np.where(d_a>=cylindrical_quantization[0]-1)[0],0)\n",
    "\n",
    "        k_ps = np.delete(k_ps,np.where(d_b>=cylindrical_quantization[1]-1)[0],0)\n",
    "        d_a = np.delete(d_a,np.where(d_b>=cylindrical_quantization[1]-1)[0],0)\n",
    "        d_b = np.delete(d_b,np.where(d_b>=cylindrical_quantization[1]-1)[0],0)\n",
    "        \n",
    "        a = np.asarray(np.ceil(np.clip(d_a,0,cylindrical_quantization[0]-1)), dtype = np.uint)\n",
    "        b = np.asarray(np.ceil(np.clip(d_b,0,cylindrical_quantization[1]-1)), dtype = np.uint)\n",
    "\n",
    "        \"\"\"for k,_ in enumerate(k_ps):\n",
    "            \n",
    "            if LA.norm(k_ps[k]) == 0:\n",
    "                continue\n",
    "\n",
    "            # skip points that are beyond the scope of the pre-defined descriptor\n",
    "            if d_a[k] >= cylindrical_quantization[0]-1 or d_b[k] >= cylindrical_quantization[1]-1:\n",
    "                continue\n",
    "            if d_a[k]>a[k] or d_b[k]>b[k]:\n",
    "                continue\n",
    "            diff_a = a[k]-d_a[k]\n",
    "            diff_b = b[k]-d_b[k]\n",
    "            \n",
    "            if diff_a > 1 or diff_b > 1:# or diff_a == 0 or diff_b == 0:\n",
    "                continue\n",
    "                \n",
    "            view_invariant_descriptor_cylinders[i,int(a[k]),int(b[k])] += (diff_a)*(diff_b)\n",
    "            view_invariant_descriptor_cylinders[i,int(a[k])-1,int(b[k])] += (1-diff_a)*(diff_b)\n",
    "            view_invariant_descriptor_cylinders[i,int(a[k]),int(b[k])-1] += (diff_a)*(1-diff_b)\n",
    "            view_invariant_descriptor_cylinders[i,int(a[k])-1,int(b[k])-1] += (1-diff_a)*(1-diff_b)\n",
    "        \"\"\"\n",
    "        # len(diff_*) ≤ M-1; where M = len(other pc)\n",
    "        diff_a = a-d_a\n",
    "        diff_b = b-d_b\n",
    "        \n",
    "        submap = np.zeros(\n",
    "            (len(diff_a),\n",
    "             cylindrical_quantization[0],\n",
    "             cylindrical_quantization[1]),\n",
    "            dtype=np.float16\n",
    "        )\n",
    "        \n",
    "        submap[np.arange(len(diff_a)),a,b] += (diff_a)*(diff_b)\n",
    "        submap[np.arange(len(diff_a)),a-1,b] += (1-diff_a)*(diff_b)\n",
    "        submap[np.arange(len(diff_a)),a,b-1] += (diff_a)*(1-diff_b)\n",
    "        submap[np.arange(len(diff_a)),a-1,b-1] += (1-diff_a)*(1-diff_b)\n",
    "        \n",
    "        view_invariant_descriptor_cylinders[i] += np.sum(submap, axis = 0)\n",
    "        \n",
    "        #view_invariant_descriptor_cylinders[i,int(a[k]),int(b[k])] += (diff_a)*(diff_b)\n",
    "        #view_invariant_descriptor_cylinders[i,int(a[k])-1,int(b[k])] += (1-diff_a)*(diff_b)\n",
    "        #view_invariant_descriptor_cylinders[i,int(a[k]),int(b[k])-1] += (diff_a)*(1-diff_b)\n",
    "        #view_invariant_descriptor_cylinders[i,int(a[k])-1,int(b[k])-1] += (1-diff_a)*(1-diff_b)        \n",
    "        \n",
    "    view_invariant_descriptors = []\n",
    "\n",
    "    for descriptors in view_invariant_descriptor_cylinders:\n",
    "        if normalize: # max-normalization\n",
    "            if np.amax(descriptors) == 0:\n",
    "                pass\n",
    "            else:\n",
    "                descriptors = descriptors/np.amax(descriptors)\n",
    "        view_invariant_descriptors.append(descriptors.flatten('C'))\n",
    "\n",
    "    t2 = time.time()\n",
    "    #print(\"Time to get spin image descriptors\",time.time()-t0)\n",
    "        #print(view_invariant_descriptors.shape)\n",
    "    \"\"\"    \n",
    "    if verbose:\n",
    "        unique_normals = np.unique(chosen_points[:,3:],axis=0)\n",
    "        print(\"  IN Chosen Points after:\",chosen_points.shape)\n",
    "\n",
    "        for normal in unique_normals:\n",
    "\n",
    "            if np.round(np.abs(np.dot(normal,[0,1,0]))) == 0:\n",
    "                print(\"  IN Chosen\",object_name,\"Vertical\",np.abs(np.dot(normal,[0,1,0])),normal,LA.norm(normal,2))\n",
    "    \"\"\"    \n",
    "    view_invariant_descriptors = np.asarray(view_invariant_descriptors)\n",
    "    \n",
    "    if verbose: \n",
    "        print(\"  desc shape:\",view_invariant_descriptor_cylinders.shape, \" kp's shape\",chosen_points.shape)\n",
    "        print(\"  To get keypoints {:.3f} seconds, to get descriptors {:.3f} seconds\".format(t1-t0,t2-t1))\n",
    "    \n",
    "    return view_invariant_descriptors, chosen_points, view_invariant_descriptor_cylinders, t1-t0, t2- t1\n"
   ]
  },
  {
   "cell_type": "code",
   "execution_count": 45,
   "metadata": {},
   "outputs": [],
   "source": [
    "# Getting the \"spin image\" descriptors for a given point cloud    \n",
    "def getSpinImageDescriptorsTryTest(_point_cloud,\n",
    "                            resolution = 20,\n",
    "                            normalize = True,\n",
    "                            down_resolution = 3, #keypoint resolution\n",
    "                            #localize = False,\n",
    "                            local_radius = 1.0,\n",
    "                            cylindrical_quantization = [10,20],\n",
    "                            verbose = False,\n",
    "                            old = False,\n",
    "                            key_cap = 50, \n",
    "                            strict_cap = False\n",
    "                           ):\n",
    "    \n",
    "    np_pointCloud = np.asarray(np.copy(_point_cloud))\n",
    "    other_pc = np.copy(np_pointCloud)\n",
    "    \n",
    "    t0 = time.time()\n",
    "    \n",
    "    if old:\n",
    "        chosen_points = OLDgetQuantizedPointCloudOnly(np_pointCloud,down_resolution,verbose=verbose)\n",
    "        if verbose: print(\"Old:\",chosen_points.shape)\n",
    "    else:\n",
    "        chosen_points = getQuantizedPointCloudOnlyTEST(np_pointCloud,down_resolution,verbose=verbose)\n",
    "        if verbose: print(\"New:\",chosen_points.shape)\n",
    "\n",
    "    chosen_points = np.delete(chosen_points,np.where(LA.norm(chosen_points[:,3:],axis=1)== 0)[0],0)\n",
    "    \n",
    "    t1 = time.time()\n",
    "    \n",
    "    if strict_cap and len(chosen_points) > key_cap:\n",
    "        chosen_points = chosen_points[np.random.choice(len(chosen_points),key_cap)]\n",
    "        if verbose: print(\"Capped chosen points to\", key_cap)\n",
    "    \n",
    "    \"\"\"\n",
    "    if verbose:\n",
    "        unique_normals = np.unique(chosen_points[:,3:],axis=0)\n",
    "\n",
    "        for normal in unique_normals:\n",
    "\n",
    "            if np.round(np.abs(np.dot(normal,[0,1,0]))) == 0:\n",
    "                print(\"  IN Complete\",object_name,\"Vertical\",np.abs(np.dot(normal,[0,1,0])),normal,LA.norm(normal,2))\n",
    "                print(\"  IN Chosen Points before:\",chosen_points.shape)\n",
    "                #vertical = True\n",
    "\n",
    "    \"\"\"\n",
    "    \n",
    "    view_invariant_descriptor_cylinders = np.zeros(\n",
    "        (np.append(len(chosen_points),\n",
    "                   np.asarray(cylindrical_quantization)\n",
    "                   #np.asarray(cylindrical_quantization*0.5*resolution,dtype = np.uint32)\n",
    "                   #[int(resolution*cylindrical_quantization[0]),int(resolution*cylindrical_quantization[1])]\n",
    "                  )\n",
    "        ), dtype=np.float16)\n",
    "    #    shape is (number of points, number of a bins, number of b bins)\n",
    "    #print(view_invariant_descriptor_cylinders.shape)\n",
    "    \n",
    "    #for i,c_p in enumerate(chosen_points):\n",
    "\n",
    "    k_ps = other_pc[:,np.newaxis,:3] - chosen_points[np.newaxis,:,:3] # point (vertex) differences\n",
    "    #k_ps = np.delete(k_ps,np.where(LA.norm(k_ps,axis=-1)==0)[0],0) # removing itself\n",
    "    \n",
    "    if verbose: print(\"Chosen points:\",chosen_points.shape, \"Other PC: \", other_pc.shape, \"KP shape:\",k_ps.shape)\n",
    "\n",
    "    theta = np.arccos(np.clip(np.sum(chosen_points[np.newaxis,:,:3]*k_ps,axis=-1)/(LA.norm(chosen_points[np.newaxis,:,:3])*LA.norm(k_ps,axis=-1)),-1,1))# normal at keypoint\n",
    "    d_a = cylindrical_quantization[0]*LA.norm(k_ps,axis=-1)*np.sin(theta)\n",
    "    d_b = np.clip(cylindrical_quantization[1]*0.5*LA.norm(k_ps,axis=-1)*np.cos(theta)+cylindrical_quantization[1]*0.5,\n",
    "                  0,cylindrical_quantization[1]-1)\n",
    "    \n",
    "    if verbose: print(\"Theta:\",theta.shape, \"D_a\", d_a.shape, \"D_b\", d_b.shape)\n",
    "    \n",
    "    i_a = np.ceil(d_a)\n",
    "    i_b = np.ceil(d_b)\n",
    "\n",
    "    diff_a = i_a - d_a\n",
    "    diff_b = i_b - d_b\n",
    "        \n",
    "    if verbose: print(\"KP shape:\",k_ps.shape, \"new _a\", diff_a.shape, \"new _b\", diff_b.shape, \"mult shape\", mult.shape)\n",
    "    \n",
    "    \"\"\"\n",
    "            view_invariant_descriptor_cylinders[i,int(a[k]),int(b[k])] += (diff_a)*(diff_b)\n",
    "            view_invariant_descriptor_cylinders[i,int(a[k])-1,int(b[k])] += (1-diff_a)*(diff_b)\n",
    "            view_invariant_descriptor_cylinders[i,int(a[k]),int(b[k])-1] += (diff_a)*(1-diff_b)\n",
    "            view_invariant_descriptor_cylinders[i,int(a[k])-1,int(b[k])-1] += (1-diff_a)*(1-diff_b)\n",
    "    \"\"\"\n",
    "\n",
    "    for k, k_p in enumerate(k_ps):\n",
    "\n",
    "        submap = np.zeros((len(chosen_points),\n",
    "            max(cylindrical_quantization[0]+4,int(max(d_a[k]))),\n",
    "            max(cylindrical_quantization[1]+4,int(max(d_b[k])))\n",
    "        ))\n",
    "\n",
    "        \"\"\"\n",
    "        a_i = np.clip(np.searchsorted(np.arange(max(cylindrical_quantization[0]+3,int(max(i_a[k])))),i_a[k],side=\"right\")-1,0,cylindrical_quantization[0]+2)\n",
    "        b_i = np.clip(np.searchsorted(np.arange(max(cylindrical_quantization[1]+3,int(max(i_b[k])))),i_b[k],side=\"right\")-1,0,cylindrical_quantization[1]+2)\n",
    "        a_i_s = np.clip(np.searchsorted(np.arange(max(cylindrical_quantization[0]+3,int(max(i_a[k])))),i_a[k]-1,side=\"right\")-1,0,cylindrical_quantization[0]+2)\n",
    "        b_i_s = np.clip(np.searchsorted(np.arange(max(cylindrical_quantization[1]+3,int(max(i_b[k])))),i_b[k]-1,side=\"right\")-1,0,cylindrical_quantization[1]+2)\n",
    "        \"\"\"\n",
    "\n",
    "        a_i = np.clip(np.asarray(i_a[k],dtype = np.uint32),0,cylindrical_quantization[0]+2)\n",
    "        b_i = np.clip(np.asarray(i_b[k],dtype = np.uint32),0,cylindrical_quantization[1]+2)\n",
    "        a_i_s = np.clip(np.asarray(i_a[k]-1,dtype = np.uint32),0,cylindrical_quantization[0]+2)\n",
    "        b_i_s = np.clip(np.asarray(i_b[k]-1,dtype = np.uint32),0,cylindrical_quantization[1]+2)\n",
    "        \n",
    "        submap[np.arange(len(chosen_points)),a_i,b_i] += diff_a[k]*diff_b[k]    \n",
    "        submap[np.arange(len(chosen_points)),a_i_s,b_i] += (1-diff_a[k])*diff_b[k]\n",
    "        submap[np.arange(len(chosen_points)),a_i,b_i_s] += diff_a[k]*(1-diff_b[k])\n",
    "        submap[np.arange(len(chosen_points)),a_i_s,b_i_s] += (1-diff_a[k])*(1-diff_b[k])\n",
    "\n",
    "        view_invariant_descriptor_cylinders += submap[:,:cylindrical_quantization[0],:cylindrical_quantization[1]]\n",
    "\n",
    "    view_invariant_descriptors = []\n",
    "\n",
    "    for descriptors in view_invariant_descriptor_cylinders:\n",
    "        if normalize: # max-normalization\n",
    "            if np.amax(descriptors) == 0:\n",
    "                pass\n",
    "            else:\n",
    "                descriptors = descriptors/np.amax(descriptors)\n",
    "        view_invariant_descriptors.append(descriptors.flatten('C'))\n",
    "\n",
    "    t2 = time.time()\n",
    "    #print(\"Time to get spin image descriptors\",time.time()-t0)\n",
    "        #print(view_invariant_descriptors.shape)\n",
    "    \"\"\"    \n",
    "    if verbose:\n",
    "        unique_normals = np.unique(chosen_points[:,3:],axis=0)\n",
    "        print(\"  IN Chosen Points after:\",chosen_points.shape)\n",
    "\n",
    "        for normal in unique_normals:\n",
    "\n",
    "            if np.round(np.abs(np.dot(normal,[0,1,0]))) == 0:\n",
    "                print(\"  IN Chosen\",object_name,\"Vertical\",np.abs(np.dot(normal,[0,1,0])),normal,LA.norm(normal,2))\n",
    "    \"\"\"    \n",
    "    view_invariant_descriptors = np.asarray(view_invariant_descriptors)\n",
    "    \n",
    "    if verbose: \n",
    "        print(\"\\n  desc shape:\",view_invariant_descriptor_cylinders.shape, \" kp's shape\",chosen_points.shape)\n",
    "        print(\"  To get keypoints {:.3f} seconds, to get descriptors {:.3f} seconds\".format(t1-t0,t2-t1))\n",
    "    \n",
    "    return view_invariant_descriptors, chosen_points, view_invariant_descriptor_cylinders, t1-t0, t2- t1\n"
   ]
  },
  {
   "cell_type": "code",
   "execution_count": 90,
   "metadata": {},
   "outputs": [
    {
     "name": "stdout",
     "output_type": "stream",
     "text": [
      "New: (580, 6)\n",
      "  desc shape: (579, 4, 5)  kp's shape (579, 6)\n",
      "  To get keypoints 0.019 seconds, to get descriptors 27.613 seconds\n"
     ]
    },
    {
     "data": {
      "text/plain": [
       "<matplotlib.image.AxesImage at 0x7f449b257150>"
      ]
     },
     "execution_count": 90,
     "metadata": {},
     "output_type": "execute_result"
    },
    {
     "data": {
      "image/png": "[encoded data removed]",
      "text/plain": [
       "<Figure size 432x288 with 1 Axes>"
      ]
     },
     "metadata": {
      "needs_background": "light"
     },
     "output_type": "display_data"
    }
   ],
   "source": [
    "p_descriptors, p_keypoints, p_d_c, kp_time, desc_time = getSpinImageDescriptorsTest(\n",
    "    pointCloud,\n",
    "    down_resolution = 5,\n",
    "    cylindrical_quantization = [4,5],\n",
    "    verbose=True\n",
    ")\n",
    "plt.imshow(np.asarray(p_descriptors,dtype = np.float32).T)\n",
    "#plt.colorbar()"
   ]
  },
  {
   "cell_type": "code",
   "execution_count": 92,
   "metadata": {},
   "outputs": [
    {
     "name": "stdout",
     "output_type": "stream",
     "text": [
      "New: (580, 6)\n",
      "  desc shape: (579, 4, 5)  kp's shape (579, 6)\n",
      "  To get keypoints 0.016 seconds, to get descriptors 2.099 seconds\n"
     ]
    },
    {
     "data": {
      "text/plain": [
       "<matplotlib.image.AxesImage at 0x7f449a336a90>"
      ]
     },
     "execution_count": 92,
     "metadata": {},
     "output_type": "execute_result"
    },
    {
     "data": {
      "image/png": "[encoded data removed]",
      "text/plain": [
       "<Figure size 432x288 with 1 Axes>"
      ]
     },
     "metadata": {
      "needs_background": "light"
     },
     "output_type": "display_data"
    }
   ],
   "source": [
    "p_descriptors1, p_keypoints1, p_d_c1, kp_time, desc_time = getSpinImageDescriptorsTest1(\n",
    "    pointCloud,\n",
    "    down_resolution = 5,\n",
    "    cylindrical_quantization = [4,5],\n",
    "    verbose=True\n",
    ")\n",
    "plt.imshow(np.asarray(p_descriptors,dtype = np.float32).T)\n",
    "#plt.colorbar()"
   ]
  },
  {
   "cell_type": "code",
   "execution_count": 93,
   "metadata": {},
   "outputs": [
    {
     "data": {
      "text/plain": [
       "array([[0., 0., 0., ..., 0., 0., 0.],\n",
       "       [0., 0., 0., ..., 0., 0., 0.],\n",
       "       [0., 0., 0., ..., 0., 0., 0.],\n",
       "       ...,\n",
       "       [0., 0., 0., ..., 0., 0., 0.],\n",
       "       [0., 0., 0., ..., 0., 0., 0.],\n",
       "       [0., 0., 0., ..., 0., 0., 0.]], dtype=float16)"
      ]
     },
     "execution_count": 93,
     "metadata": {},
     "output_type": "execute_result"
    }
   ],
   "source": [
    "np.p_descriptors - p_descriptors1"
   ]
  },
  {
   "cell_type": "code",
   "execution_count": 48,
   "metadata": {},
   "outputs": [
    {
     "name": "stdout",
     "output_type": "stream",
     "text": [
      "New: (580, 6)\n",
      "Chosen points: (579, 6) Other PC:  (7789, 6) KP shape: (7789, 579, 3)\n",
      "Theta: (7789, 579) D_a (7789, 579) D_b (7789, 579)\n",
      "KP shape: (7789, 579, 3) new _a (7789, 579) new _b (7789, 579) mult shape (7789, 579)\n",
      "\n",
      "  desc shape: (579, 4, 5)  kp's shape (579, 6)\n",
      "  To get keypoints 0.008 seconds, to get descriptors 4.545 seconds\n"
     ]
    },
    {
     "data": {
      "text/plain": [
       "<matplotlib.image.AxesImage at 0x7f44fc585c90>"
      ]
     },
     "execution_count": 48,
     "metadata": {},
     "output_type": "execute_result"
    },
    {
     "data": {
      "image/png": "[encoded data removed]",
      "text/plain": [
       "<Figure size 432x288 with 1 Axes>"
      ]
     },
     "metadata": {
      "needs_background": "light"
     },
     "output_type": "display_data"
    }
   ],
   "source": [
    "p_descriptors, p_keypoints, p_d_c, kp_time, desc_time = getSpinImageDescriptorsTryTest(\n",
    "    pointCloud,\n",
    "    down_resolution = 5,\n",
    "    cylindrical_quantization = [4,5],\n",
    "    verbose=True\n",
    ")\n",
    "plt.imshow(np.asarray(p_descriptors,dtype = np.float32).T)\n",
    "#plt.colorbar()"
   ]
  },
  {
   "cell_type": "code",
   "execution_count": 49,
   "metadata": {},
   "outputs": [
    {
     "name": "stdout",
     "output_type": "stream",
     "text": [
      "Chosen points: (579, 6) Other PC:  (7789, 6) KP shape: (7789, 579, 3)\n",
      "Theta: (7789, 579) D_a (7789, 579) D_b (7789, 579)\n",
      "KP shape: (7789, 579, 3) new _a (7789, 579) new _b (7789, 579) mult shape (7789, 579)\n"
     ]
    },
    {
     "data": {
      "text/plain": [
       "array([[0.30916797, 0.19664068],\n",
       "       [0.58485011, 0.39599987]])"
      ]
     },
     "execution_count": 49,
     "metadata": {},
     "output_type": "execute_result"
    }
   ],
   "source": [
    "# Getting the \"spin image\" descriptors for a given point cloud    \n",
    "_point_cloud = pointCloud#,\n",
    "resolution = 20#,\n",
    "normalize = True#,\n",
    "down_resolution = 5#3, #keypoint resolution\n",
    "#localize = False,\n",
    "local_radius = 1.0#,\n",
    "cylindrical_quantization = [4,5]#[10,20],\n",
    "verbose = False\n",
    "old = False\n",
    "key_cap = 50 \n",
    "strict_cap = False\n",
    "    \n",
    "np_pointCloud = np.asarray(np.copy(_point_cloud))\n",
    "other_pc = np.copy(np_pointCloud)\n",
    "\n",
    "t0 = time.time()\n",
    "\n",
    "if old:\n",
    "    chosen_points = OLDgetQuantizedPointCloudOnly(np_pointCloud,down_resolution,verbose=verbose)\n",
    "    if verbose: print(\"Old:\",chosen_points.shape)\n",
    "else:\n",
    "    chosen_points = getQuantizedPointCloudOnlyTEST(np_pointCloud,down_resolution,verbose=verbose)\n",
    "    if verbose: print(\"New:\",chosen_points.shape)\n",
    "\n",
    "chosen_points = np.delete(chosen_points,np.where(LA.norm(chosen_points[:,3:],axis=1)== 0)[0],0)\n",
    "\n",
    "t1 = time.time()\n",
    "\n",
    "if strict_cap and len(chosen_points) > key_cap:\n",
    "    chosen_points = chosen_points[np.random.choice(len(chosen_points),key_cap)]\n",
    "    if verbose: print(\"Capped chosen points to\", key_cap)\n",
    "\n",
    "\n",
    "view_invariant_descriptor_cylinders = np.zeros(\n",
    "    (np.append(len(chosen_points),\n",
    "               np.asarray(cylindrical_quantization)\n",
    "               #np.asarray(cylindrical_quantization*0.5*resolution,dtype = np.uint32)\n",
    "               #[int(resolution*cylindrical_quantization[0]),int(resolution*cylindrical_quantization[1])]\n",
    "              )\n",
    "    ), dtype=np.float16)\n",
    "#    shape is (number of points, number of a bins, number of b bins)\n",
    "#print(view_invariant_descriptor_cylinders.shape)\n",
    "\n",
    "#for i,c_p in enumerate(chosen_points):\n",
    "\n",
    "k_ps = other_pc[:,np.newaxis,:3] - chosen_points[np.newaxis,:,:3] # point (vertex) differences\n",
    "#k_ps = np.delete(k_ps,np.where(LA.norm(k_ps,axis=-1)==0)[0],0) # removing itself\n",
    "print(\"Chosen points:\",chosen_points.shape, \"Other PC: \", other_pc.shape, \"KP shape:\",k_ps.shape)\n",
    "\n",
    "theta = np.arccos(np.clip(np.sum(chosen_points[np.newaxis,:,:3]*k_ps,axis=-1)/(LA.norm(chosen_points[np.newaxis,:,:3])*LA.norm(k_ps,axis=-1)),-1,1))# normal at keypoint\n",
    "d_a = cylindrical_quantization[0]*LA.norm(k_ps,axis=-1)*np.sin(theta)\n",
    "d_b = np.clip(cylindrical_quantization[1]*0.5*LA.norm(k_ps,axis=-1)*np.cos(theta)+cylindrical_quantization[1]*0.5,\n",
    "              0,cylindrical_quantization[1]-1)\n",
    "\n",
    "print(\"Theta:\",theta.shape, \"D_a\", d_a.shape, \"D_b\", d_b.shape)\n",
    "\n",
    "i_a = np.ceil(d_a)\n",
    "i_b = np.ceil(d_b)\n",
    "\n",
    "diff_a = i_a - d_a\n",
    "diff_b = i_b - d_b\n",
    "\n",
    "mult = diff_a*diff_b\n",
    "\n",
    "print(\"KP shape:\",k_ps.shape, \"new _a\", diff_a.shape, \"new _b\", diff_b.shape, \"mult shape\", mult.shape)\n",
    "\n",
    "\"\"\"\n",
    "    for k,_ in enumerate(k_ps):\n",
    "\n",
    "        if LA.norm(k_ps[k]) == 0:\n",
    "            continue\n",
    "\n",
    "        # skip points that are beyond the scope of the pre-defined descriptor\n",
    "        if d_a[k] >= cylindrical_quantization[0]-1 or d_b[k] >= cylindrical_quantization[1]-1:\n",
    "            continue\n",
    "        if d_a[k]>a[k] or d_b[k]>b[k]:\n",
    "            continue\n",
    "        diff_a = a[k]-d_a[k]\n",
    "        diff_b = b[k]-d_b[k]\n",
    "        if diff_a > 1 or diff_b > 1:# or diff_a == 0 or diff_b == 0:\n",
    "            continue\n",
    "\n",
    "        view_invariant_descriptor_cylinders[i,int(a[k]),int(b[k])] += (diff_a)*(diff_b)\n",
    "        view_invariant_descriptor_cylinders[i,int(a[k])-1,int(b[k])] += (1-diff_a)*(diff_b)\n",
    "        view_invariant_descriptor_cylinders[i,int(a[k]),int(b[k])-1] += (diff_a)*(1-diff_b)\n",
    "        view_invariant_descriptor_cylinders[i,int(a[k])-1,int(b[k])-1] += (1-diff_a)*(1-diff_b)\n",
    "\"\"\"\n",
    "\n",
    "#np.take(diff_a*diff_b, [[0, 1], [2, 3]])\n"
   ]
  },
  {
   "cell_type": "code",
   "execution_count": 82,
   "metadata": {
    "scrolled": true
   },
   "outputs": [
    {
     "data": {
      "text/plain": [
       "(array([  79623.,  501119.,  881461., 1026427.,  855857.,  590778.,\n",
       "         349131.,  161703.,   57249.,    6483.]),\n",
       " array([0.25925793, 0.32520802, 0.39115811, 0.4571082 , 0.52305829,\n",
       "        0.58900838, 0.65495847, 0.72090856, 0.78685865, 0.85280874,\n",
       "        0.91875882]),\n",
       " <a list of 10 Patch objects>)"
      ]
     },
     "execution_count": 82,
     "metadata": {},
     "output_type": "execute_result"
    },
    {
     "data": {
      "image/png": "[encoded data removed]",
      "text/plain": [
       "<Figure size 432x288 with 1 Axes>"
      ]
     },
     "metadata": {
      "needs_background": "light"
     },
     "output_type": "display_data"
    }
   ],
   "source": [
    "plt.hist(diff_b.flatten())"
   ]
  },
  {
   "cell_type": "code",
   "execution_count": 71,
   "metadata": {},
   "outputs": [
    {
     "data": {
      "text/plain": [
       "(array([0.45406726, 0.65380133, 0.00831416]),\n",
       " array([0.56631146, 0.56799954, 0.58975342]),\n",
       " array([0.25714349, 0.37135886, 0.0049033 ]))"
      ]
     },
     "execution_count": 71,
     "metadata": {},
     "output_type": "execute_result"
    }
   ],
   "source": [
    "1-diff_a[0][:3], diff_b[0][:3], ((1-diff_a[0])*(diff_b[0]))[:3]"
   ]
  },
  {
   "cell_type": "code",
   "execution_count": 83,
   "metadata": {},
   "outputs": [
    {
     "name": "stdout",
     "output_type": "stream",
     "text": [
      "(579,) (579,) (579,) (579,) (7789, 579) (7789, 579) (7789, 579, 3)\n"
     ]
    }
   ],
   "source": [
    "view_invariant_descriptor_cylinders = np.zeros(\n",
    "    (np.append(len(chosen_points),\n",
    "               np.asarray(cylindrical_quantization)\n",
    "              )\n",
    "    ), dtype=np.float16)\n",
    "\n",
    "\"\"\"\n",
    "        view_invariant_descriptor_cylinders[i,int(a[k]),int(b[k])] += (diff_a)*(diff_b)\n",
    "        view_invariant_descriptor_cylinders[i,int(a[k])-1,int(b[k])] += (1-diff_a)*(diff_b)\n",
    "        view_invariant_descriptor_cylinders[i,int(a[k]),int(b[k])-1] += (diff_a)*(1-diff_b)\n",
    "        view_invariant_descriptor_cylinders[i,int(a[k])-1,int(b[k])-1] += (1-diff_a)*(1-diff_b)\n",
    "\"\"\"\n",
    "\n",
    "for k, k_p in enumerate(k_ps):\n",
    "    \n",
    "    submap = np.zeros((len(chosen_points),\n",
    "        max(cylindrical_quantization[0]+4,int(max(d_a[k]))),\n",
    "        max(cylindrical_quantization[1]+4,int(max(d_b[k])))\n",
    "    ))\n",
    "    \n",
    "    \"\"\"\n",
    "    a_i = np.clip(np.searchsorted(np.arange(max(cylindrical_quantization[0]+3,int(max(i_a[k])))),i_a[k],side=\"right\")-1,0,cylindrical_quantization[0]+2)\n",
    "    b_i = np.clip(np.searchsorted(np.arange(max(cylindrical_quantization[1]+3,int(max(i_b[k])))),i_b[k],side=\"right\")-1,0,cylindrical_quantization[1]+2)\n",
    "    a_i_s = np.clip(np.searchsorted(np.arange(max(cylindrical_quantization[0]+3,int(max(i_a[k])))),i_a[k]-1,side=\"right\")-1,0,cylindrical_quantization[0]+2)\n",
    "    b_i_s = np.clip(np.searchsorted(np.arange(max(cylindrical_quantization[1]+3,int(max(i_b[k])))),i_b[k]-1,side=\"right\")-1,0,cylindrical_quantization[1]+2)\n",
    "    \"\"\"\n",
    "    \n",
    "    a_i = np.clip(np.asarray(i_a[k],dtype = np.uint32),0,cylindrical_quantization[0]+2)\n",
    "    b_i = np.clip(np.asarray(i_a[k],dtype = np.uint32),0,cylindrical_quantization[1]+2)\n",
    "    a_i_s = np.clip(np.asarray(i_a[k]-1,dtype = np.uint32),0,cylindrical_quantization[0]+2)\n",
    "    b_i_s = np.clip(np.asarray(i_a[k]-1,dtype = np.uint32),0,cylindrical_quantization[1]+2)\n",
    "\n",
    "    if k == 0: print(i_a[k].shape, i_b[k].shape, a_i.shape, b_i.shape, diff_a.shape, diff_b.shape, k_ps.shape)\n",
    "\n",
    "    submap[np.arange(len(chosen_points)),a_i,b_i] += diff_a[k]*diff_b[k]    \n",
    "    submap[np.arange(len(chosen_points)),a_i_s,b_i] += (1-diff_a[k])*diff_b[k]\n",
    "    submap[np.arange(len(chosen_points)),a_i,b_i_s] += diff_a[k]*(1-diff_b[k])\n",
    "    submap[np.arange(len(chosen_points)),a_i_s,b_i_s] += (1-diff_a[k])*(1-diff_b[k])\n",
    "    \n",
    "    view_invariant_descriptor_cylinders += submap[:,:cylindrical_quantization[0],:cylindrical_quantization[1]]\n"
   ]
  },
  {
   "cell_type": "code",
   "execution_count": 68,
   "metadata": {},
   "outputs": [
    {
     "data": {
      "text/plain": [
       "(6, 1, 6, 0)"
      ]
     },
     "execution_count": 68,
     "metadata": {},
     "output_type": "execute_result"
    },
    {
     "data": {
      "image/png": "[encoded data removed]",
      "text/plain": [
       "<Figure size 432x288 with 2 Axes>"
      ]
     },
     "metadata": {
      "needs_background": "light"
     },
     "output_type": "display_data"
    }
   ],
   "source": [
    "plt.imshow(submap[4])\n",
    "plt.colorbar()\n",
    "max(a_i), min(a_i), max(a_i_s), min(a_i_s)"
   ]
  },
  {
   "cell_type": "code",
   "execution_count": 24,
   "metadata": {},
   "outputs": [],
   "source": [
    "\n",
    "\n",
    "\"\"\"\n",
    "        view_invariant_descriptor_cylinders[i,int(a[k]),int(b[k])] += (diff_a)*(diff_b)\n",
    "        view_invariant_descriptor_cylinders[i,int(a[k])-1,int(b[k])] += (1-diff_a)*(diff_b)\n",
    "        view_invariant_descriptor_cylinders[i,int(a[k]),int(b[k])-1] += (diff_a)*(1-diff_b)\n",
    "        view_invariant_descriptor_cylinders[i,int(a[k])-1,int(b[k])-1] += (1-diff_a)*(1-diff_b)\n",
    "\"\"\"\n",
    "\n",
    "for k, k_p in enumerate(k_ps):\n",
    "    \n",
    "    submap = np.zeros((len(chosen_points),\n",
    "        max(cylindrical_quantization[0]+4,int(max(d_a[k]))),\n",
    "        max(cylindrical_quantization[1]+4,int(max(d_b[k])))\n",
    "    ))\n",
    "    \n",
    "    a_i = np.clip(np.searchsorted(np.arange(max(cylindrical_quantization[0]+3,int(max(i_a[k])))),i_a[k],side=\"right\")-1,0,cylindrical_quantization[0]+2)\n",
    "    b_i = np.clip(np.searchsorted(np.arange(max(cylindrical_quantization[1]+3,int(max(i_b[k])))),i_b[k],side=\"right\")-1,0,cylindrical_quantization[1]+2)\n",
    "    a_i_s = np.clip(np.searchsorted(np.arange(max(cylindrical_quantization[0]+3,int(max(i_a[k])))),i_a[k]-1,side=\"right\")-1,0,cylindrical_quantization[0]+2)\n",
    "    b_i_s = np.clip(np.searchsorted(np.arange(max(cylindrical_quantization[1]+3,int(max(i_b[k])))),i_b[k]-1,side=\"right\")-1,0,cylindrical_quantization[1]+2)\n",
    "\n",
    "    submap[np.arange(len(chosen_points)),a_i,b_i] += diff_a[k]*diff_b[k]    \n",
    "    submap[np.arange(len(chosen_points)),a_i_s,b_i] += (1-diff_a[k])*diff_b[k]\n",
    "    submap[np.arange(len(chosen_points)),a_i,b_i_s] += diff_a[k]*(1-diff_b[k])\n",
    "    submap[np.arange(len(chosen_points)),a_i_s,b_i_s] += (1-diff_a[k])*(1-diff_b[k])\n",
    "    \n",
    "    view_invariant_descriptor_cylinders += submap[:,:cylindrical_quantization[0],:cylindrical_quantization[1]]\n"
   ]
  },
  {
   "cell_type": "code",
   "execution_count": 16,
   "metadata": {},
   "outputs": [
    {
     "ename": "IndexError",
     "evalue": "index 8 is out of bounds for axis 1 with size 8",
     "output_type": "error",
     "traceback": [
      "\u001b[0;31m---------------------------------------------------------------------------\u001b[0m",
      "\u001b[0;31mIndexError\u001b[0m                                Traceback (most recent call last)",
      "\u001b[0;32m<ipython-input-16-a79720711194>\u001b[0m in \u001b[0;36m<module>\u001b[0;34m\u001b[0m\n\u001b[1;32m     24\u001b[0m     \u001b[0mb_i_s\u001b[0m \u001b[0;34m=\u001b[0m \u001b[0mnp\u001b[0m\u001b[0;34m.\u001b[0m\u001b[0msearchsorted\u001b[0m\u001b[0;34m(\u001b[0m\u001b[0mnp\u001b[0m\u001b[0;34m.\u001b[0m\u001b[0marange\u001b[0m\u001b[0;34m(\u001b[0m\u001b[0mmax\u001b[0m\u001b[0;34m(\u001b[0m\u001b[0mcylindrical_quantization\u001b[0m\u001b[0;34m[\u001b[0m\u001b[0;36m1\u001b[0m\u001b[0;34m]\u001b[0m\u001b[0;34m+\u001b[0m\u001b[0;36m2\u001b[0m\u001b[0;34m,\u001b[0m\u001b[0mint\u001b[0m\u001b[0;34m(\u001b[0m\u001b[0mmax\u001b[0m\u001b[0;34m(\u001b[0m\u001b[0mi_b\u001b[0m\u001b[0;34m[\u001b[0m\u001b[0mk\u001b[0m\u001b[0;34m]\u001b[0m\u001b[0;34m)\u001b[0m\u001b[0;34m)\u001b[0m\u001b[0;34m)\u001b[0m\u001b[0;34m)\u001b[0m\u001b[0;34m,\u001b[0m\u001b[0md_b\u001b[0m\u001b[0;34m[\u001b[0m\u001b[0mk\u001b[0m\u001b[0;34m]\u001b[0m\u001b[0;34m-\u001b[0m\u001b[0;36m1\u001b[0m\u001b[0;34m,\u001b[0m\u001b[0mside\u001b[0m\u001b[0;34m=\u001b[0m\u001b[0;34m\"left\"\u001b[0m\u001b[0;34m)\u001b[0m\u001b[0;34m-\u001b[0m\u001b[0;36m1\u001b[0m\u001b[0;34m\u001b[0m\u001b[0;34m\u001b[0m\u001b[0m\n\u001b[1;32m     25\u001b[0m \u001b[0;34m\u001b[0m\u001b[0m\n\u001b[0;32m---> 26\u001b[0;31m     \u001b[0msubmap\u001b[0m\u001b[0;34m[\u001b[0m\u001b[0mnp\u001b[0m\u001b[0;34m.\u001b[0m\u001b[0marange\u001b[0m\u001b[0;34m(\u001b[0m\u001b[0mlen\u001b[0m\u001b[0;34m(\u001b[0m\u001b[0mchosen_points\u001b[0m\u001b[0;34m)\u001b[0m\u001b[0;34m)\u001b[0m\u001b[0;34m,\u001b[0m\u001b[0ma_i\u001b[0m\u001b[0;34m,\u001b[0m\u001b[0mb_i\u001b[0m\u001b[0;34m]\u001b[0m \u001b[0;34m+=\u001b[0m \u001b[0mdiff_a\u001b[0m\u001b[0;34m[\u001b[0m\u001b[0mk\u001b[0m\u001b[0;34m]\u001b[0m\u001b[0;34m*\u001b[0m\u001b[0mdiff_b\u001b[0m\u001b[0;34m[\u001b[0m\u001b[0mk\u001b[0m\u001b[0;34m]\u001b[0m\u001b[0;34m\u001b[0m\u001b[0;34m\u001b[0m\u001b[0m\n\u001b[0m\u001b[1;32m     27\u001b[0m     \u001b[0msubmap\u001b[0m\u001b[0;34m[\u001b[0m\u001b[0mnp\u001b[0m\u001b[0;34m.\u001b[0m\u001b[0marange\u001b[0m\u001b[0;34m(\u001b[0m\u001b[0mlen\u001b[0m\u001b[0;34m(\u001b[0m\u001b[0mchosen_points\u001b[0m\u001b[0;34m)\u001b[0m\u001b[0;34m)\u001b[0m\u001b[0;34m,\u001b[0m\u001b[0ma_i_s\u001b[0m\u001b[0;34m,\u001b[0m\u001b[0mb_i\u001b[0m\u001b[0;34m]\u001b[0m \u001b[0;34m+=\u001b[0m \u001b[0;34m(\u001b[0m\u001b[0;36m1\u001b[0m\u001b[0;34m-\u001b[0m\u001b[0mdiff_a\u001b[0m\u001b[0;34m[\u001b[0m\u001b[0mk\u001b[0m\u001b[0;34m]\u001b[0m\u001b[0;34m)\u001b[0m\u001b[0;34m*\u001b[0m\u001b[0mdiff_b\u001b[0m\u001b[0;34m[\u001b[0m\u001b[0mk\u001b[0m\u001b[0;34m]\u001b[0m\u001b[0;34m\u001b[0m\u001b[0;34m\u001b[0m\u001b[0m\n\u001b[1;32m     28\u001b[0m     \u001b[0msubmap\u001b[0m\u001b[0;34m[\u001b[0m\u001b[0mnp\u001b[0m\u001b[0;34m.\u001b[0m\u001b[0marange\u001b[0m\u001b[0;34m(\u001b[0m\u001b[0mlen\u001b[0m\u001b[0;34m(\u001b[0m\u001b[0mchosen_points\u001b[0m\u001b[0;34m)\u001b[0m\u001b[0;34m)\u001b[0m\u001b[0;34m,\u001b[0m\u001b[0ma_i\u001b[0m\u001b[0;34m,\u001b[0m\u001b[0mb_i_s\u001b[0m\u001b[0;34m]\u001b[0m \u001b[0;34m+=\u001b[0m \u001b[0mdiff_a\u001b[0m\u001b[0;34m[\u001b[0m\u001b[0mk\u001b[0m\u001b[0;34m]\u001b[0m\u001b[0;34m*\u001b[0m\u001b[0;34m(\u001b[0m\u001b[0;36m1\u001b[0m\u001b[0;34m-\u001b[0m\u001b[0mdiff_b\u001b[0m\u001b[0;34m[\u001b[0m\u001b[0mk\u001b[0m\u001b[0;34m]\u001b[0m\u001b[0;34m)\u001b[0m\u001b[0;34m\u001b[0m\u001b[0;34m\u001b[0m\u001b[0m\n",
      "\u001b[0;31mIndexError\u001b[0m: index 8 is out of bounds for axis 1 with size 8"
     ]
    }
   ],
   "source": [
    "\n",
    "\"\"\"\n",
    "        view_invariant_descriptor_cylinders[i,int(a[k]),int(b[k])] += (diff_a)*(diff_b)\n",
    "        view_invariant_descriptor_cylinders[i,int(a[k])-1,int(b[k])] += (1-diff_a)*(diff_b)\n",
    "        view_invariant_descriptor_cylinders[i,int(a[k]),int(b[k])-1] += (diff_a)*(1-diff_b)\n",
    "        view_invariant_descriptor_cylinders[i,int(a[k])-1,int(b[k])-1] += (1-diff_a)*(1-diff_b)\n",
    "\"\"\"\n",
    "\n",
    "for k, k_p in enumerate(k_ps):\n",
    "    \n",
    "    submap = np.zeros((len(chosen_points),\n",
    "        max(cylindrical_quantization[0]+4,int(max(d_a[k]))),\n",
    "        max(cylindrical_quantization[1]+4,int(max(d_b[k])))\n",
    "    ))\n",
    "    \n",
    "    a_i = np.searchsorted(np.arange(max(cylindrical_quantization[0]+2,int(max(i_a[k])))),d_a[k],side=\"left\")-1\n",
    "    b_i = np.searchsorted(np.arange(max(cylindrical_quantization[1]+2,int(max(i_b[k])))),d_b[k],side=\"left\")-1\n",
    "    a_i_s = np.searchsorted(np.arange(max(cylindrical_quantization[0]+2,int(max(i_a[k])))),d_a[k]-1,side=\"left\")-1\n",
    "    b_i_s = np.searchsorted(np.arange(max(cylindrical_quantization[1]+2,int(max(i_b[k])))),d_b[k]-1,side=\"left\")-1\n",
    "\n",
    "    submap[np.arange(len(chosen_points)),a_i,b_i] += diff_a[k]*diff_b[k]    \n",
    "    submap[np.arange(len(chosen_points)),a_i_s,b_i] += (1-diff_a[k])*diff_b[k]\n",
    "    submap[np.arange(len(chosen_points)),a_i,b_i_s] += diff_a[k]*(1-diff_b[k])\n",
    "    submap[np.arange(len(chosen_points)),a_i_s,b_i_s] += (1-diff_a[k])*(1-diff_b[k])\n",
    "    \n",
    "    view_invariant_descriptor_cylinders += submap[:,:cylindrical_quantization[0],:cylindrical_quantization[1]]\n"
   ]
  },
  {
   "cell_type": "code",
   "execution_count": 69,
   "metadata": {},
   "outputs": [
    {
     "data": {
      "text/plain": [
       "array([[0., 0., 0., 0., 0., 0., 0., 0., 0.],\n",
       "       [0., 0., 0., 0., 0., 0., 0., 0., 0.],\n",
       "       [0., 0., 0., 0., 0., 0., 0., 0., 0.],\n",
       "       [0., 0., 0., 0., 0., 0., 0., 0., 0.],\n",
       "       [0., 0., 0., 0., 0., 0., 0., 0., 0.],\n",
       "       [0., 0., 0., 0., 0., 0., 0., 0., 0.],\n",
       "       [0., 0., 0., 0., 0., 0., 0., 1., 0.],\n",
       "       [0., 0., 0., 0., 0., 0., 0., 0., 0.],\n",
       "       [0., 0., 0., 0., 0., 0., 0., 0., 0.],\n",
       "       [0., 0., 0., 0., 0., 0., 0., 0., 0.],\n",
       "       [0., 0., 0., 0., 0., 0., 0., 0., 0.],\n",
       "       [0., 0., 0., 0., 0., 0., 0., 0., 0.]])"
      ]
     },
     "execution_count": 69,
     "metadata": {},
     "output_type": "execute_result"
    }
   ],
   "source": [
    "submap[4]"
   ]
  },
  {
   "cell_type": "code",
   "execution_count": 193,
   "metadata": {},
   "outputs": [
    {
     "data": {
      "text/plain": [
       "((124,), 4.326178217974423, (124,), 2.629131477519797)"
      ]
     },
     "execution_count": 193,
     "metadata": {},
     "output_type": "execute_result"
    }
   ],
   "source": [
    "d_a[0].shape, max(d_a[0]), d_b[0].shape, max(d_b[0])"
   ]
  },
  {
   "cell_type": "code",
   "execution_count": 203,
   "metadata": {},
   "outputs": [
    {
     "data": {
      "text/plain": [
       "4"
      ]
     },
     "execution_count": 203,
     "metadata": {},
     "output_type": "execute_result"
    }
   ],
   "source": [
    "int(max(d_a[0]))"
   ]
  },
  {
   "cell_type": "code",
   "execution_count": 143,
   "metadata": {},
   "outputs": [],
   "source": [
    "column_data = ['a', 'b', 'c', 'd', 'e', 'f', 'x']\n",
    "data = [['a', 'b', 'c'],\n",
    "        ['d', 'c'],\n",
    "        ['e', 'f', 'd', 'x']]\n",
    "\n",
    "lens = [len(item) for item in data]\n",
    "R = np.repeat(np.arange(len(lens)),lens)\n",
    "C = np.searchsorted(column_data,np.concatenate(data))\n",
    "\n",
    "out = np.zeros((len(data), len(column_data)))\n",
    "out[R,C] = 1"
   ]
  },
  {
   "cell_type": "code",
   "execution_count": 147,
   "metadata": {},
   "outputs": [
    {
     "data": {
      "text/plain": [
       "array(['a', 'b', 'c', 'd', 'c', 'e', 'f', 'd', 'x'], dtype='<U1')"
      ]
     },
     "execution_count": 147,
     "metadata": {},
     "output_type": "execute_result"
    }
   ],
   "source": [
    "np.concatenate(data)"
   ]
  },
  {
   "cell_type": "code",
   "execution_count": 117,
   "metadata": {},
   "outputs": [
    {
     "data": {
      "text/plain": [
       "((3240,), (3240,))"
      ]
     },
     "execution_count": 117,
     "metadata": {},
     "output_type": "execute_result"
    }
   ],
   "source": [
    "x ,y  = np.where(pointCloud[:,3:]<1.0)\n",
    "x.shape, y.shape"
   ]
  },
  {
   "cell_type": "code",
   "execution_count": 118,
   "metadata": {},
   "outputs": [
    {
     "data": {
      "text/plain": [
       "((1080, 6), (3240,))"
      ]
     },
     "execution_count": 118,
     "metadata": {},
     "output_type": "execute_result"
    }
   ],
   "source": [
    "pointCloud.shape,pointCloud[x,y].shape"
   ]
  },
  {
   "cell_type": "code",
   "execution_count": 67,
   "metadata": {},
   "outputs": [
    {
     "data": {
      "text/plain": [
       "('PC shape:', (1080, 6), 'New kp shape:', (124, 6), 'Old kp shape:', (133, 6))"
      ]
     },
     "execution_count": 67,
     "metadata": {},
     "output_type": "execute_result"
    }
   ],
   "source": [
    "quantized_Test = getQuantizedPointCloudOnlyTEST(pointCloud,5)\n",
    "quantized_Old = getQuantizedPointCloudOnly(pointCloud,5)\n",
    "\"PC shape:\",pointCloud.shape, \"New kp shape:\",quantized_Test.shape, \"Old kp shape:\", quantized_Old.shape"
   ]
  },
  {
   "cell_type": "code",
   "execution_count": 52,
   "metadata": {},
   "outputs": [
    {
     "data": {
      "text/plain": [
       "(array([[-5.58563555, -0.21339713, -3.11286824,  0.89479535, -0.04303407,\n",
       "         -0.44439775],\n",
       "        [-5.57791604, -0.21144887, -3.09751366,  0.89479535, -0.04303407,\n",
       "         -0.44439775],\n",
       "        [-5.58693416, -0.22115395, -3.11473186,  0.89479535, -0.04303407,\n",
       "         -0.44439775],\n",
       "        [-5.58373302, -0.25518917, -3.10499049,  0.89479535, -0.04303407,\n",
       "         -0.44439775],\n",
       "        [-5.62056684, -0.25756632, -3.08486649,  0.97723587,  0.13053232,\n",
       "         -0.16724644]]),\n",
       " array([[-5.8       ,  0.        , -3.4       ,  0.89479535, -0.04303407,\n",
       "         -0.44439775],\n",
       "        [-5.8       ,  0.2       , -4.        ,  0.0275722 ,  0.98900503,\n",
       "         -0.14528874],\n",
       "        [-5.8       ,  0.2       , -3.8       ,  0.0275722 ,  0.98900503,\n",
       "         -0.14528874],\n",
       "        [-5.8       ,  0.2       , -3.6       ,  0.89479535, -0.04303407,\n",
       "         -0.44439775],\n",
       "        [-5.8       ,  0.2       , -3.4       ,  0.89479535, -0.04303407,\n",
       "         -0.44439775]]),\n",
       " array([[-5.58563555, -0.21339713, -3.11286824,  0.89479535, -0.04303407,\n",
       "         -0.44439775],\n",
       "        [-5.57791604, -0.21144887, -3.09751366,  0.89479535, -0.04303407,\n",
       "         -0.44439775],\n",
       "        [-5.62056684, -0.25756632, -3.08486649,  0.97723587,  0.13053232,\n",
       "         -0.16724644],\n",
       "        [-5.53707516, -0.1922239 , -3.18228465,  0.83952084,  0.3733022 ,\n",
       "          0.3947787 ],\n",
       "        [-5.55635854, -0.21149161, -3.20673876,  0.12265613,  0.1463527 ,\n",
       "         -0.98159888]]))"
      ]
     },
     "execution_count": 52,
     "metadata": {},
     "output_type": "execute_result"
    }
   ],
   "source": [
    "pointCloud[:5], quantized_Test[:5], quantized_Old[:5]"
   ]
  },
  {
   "cell_type": "code",
   "execution_count": 55,
   "metadata": {},
   "outputs": [
    {
     "data": {
      "text/plain": [
       "(1080, 6)"
      ]
     },
     "execution_count": 55,
     "metadata": {},
     "output_type": "execute_result"
    }
   ],
   "source": [
    "pointCloud.shape"
   ]
  },
  {
   "cell_type": "code",
   "execution_count": null,
   "metadata": {},
   "outputs": [],
   "source": []
  }
 ],
 "metadata": {
  "kernelspec": {
   "display_name": "Python [conda env:.conda-3d_env] *",
   "language": "python",
   "name": "conda-env-.conda-3d_env-py"
  },
  "language_info": {
   "codemirror_mode": {
    "name": "ipython",
    "version": 3
   },
   "file_extension": ".py",
   "mimetype": "text/x-python",
   "name": "python",
   "nbconvert_exporter": "python",
   "pygments_lexer": "ipython3",
   "version": "3.7.4"
  }
 },
 "nbformat": 4,
 "nbformat_minor": 2
}
