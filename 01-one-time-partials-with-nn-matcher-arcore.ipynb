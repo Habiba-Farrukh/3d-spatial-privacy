{
 "cells": [
  {
   "cell_type": "code",
   "execution_count": 1,
   "metadata": {},
   "outputs": [],
   "source": [
    "%matplotlib inline\n",
    "\n",
    "import numpy as np\n",
    "import sys\n",
    "import os\n",
    "import matplotlib.pyplot as plt\n",
    "import math\n",
    "import pickle\n",
    "import pandas as pd\n",
    "import scipy.io\n",
    "import time\n",
    "import h5py\n",
    "import bz2\n",
    "import multiprocessing as mp\n",
    "\n",
    "\n",
    "from mpl_toolkits.mplot3d import Axes3D\n",
    "from matplotlib.colors import ListedColormap, LinearSegmentedColormap\n",
    "from mpl_toolkits.axes_grid1.axes_divider import make_axes_locatable\n",
    "\n",
    "from numpy import linalg as LA\n",
    "from scipy.spatial import Delaunay\n",
    "from sklearn.neighbors import NearestNeighbors, KDTree\n",
    "\n",
    "from sklearn.metrics import f1_score\n",
    "from sklearn.metrics import precision_score\n",
    "from sklearn.metrics import recall_score\n",
    "from sklearn.metrics import matthews_corrcoef\n",
    "\n",
    "#sys.path.insert(0, \"../\")\n",
    "from info3d import *\n",
    "from nn_matchers import *"
   ]
  },
  {
   "cell_type": "markdown",
   "metadata": {},
   "source": [
    "# Extracting the point collection and the descriptors"
   ]
  },
  {
   "cell_type": "code",
   "execution_count": 20,
   "metadata": {},
   "outputs": [],
   "source": [
    "\"\"\"with open('point_collection/new_contiguous_point_collection.pickle','rb') as f: \n",
    "    new_contiguous_point_collection = pickle.load(f)\n",
    "    \n",
    "with open('descriptors/new_complete_res5_4by5_descriptors.pickle','rb') as f:\n",
    "    descriptors = pickle.load(f)\n",
    "    \n",
    "with open('descriptors/new_complete_RANSAC_res5_4by5_descriptors.pickle','rb') as f:\n",
    "    ransac_descriptors = pickle.load(f)\n",
    "\"\"\"\n",
    "with open('../../spatial-privacy/descriptors/chosen_arcore_res5_4by5_descriptors_complete.pickle','rb') as f:\n",
    "    arcore_descriptors = pickle.load(f)\n",
    "\n",
    "RESULTS_FOLDER=\"testing_results/nn_matcher_arcore/\"\n",
    "if not os.path.exists(RESULTS_FOLDER): os.mkdir(RESULTS_FOLDER)   "
   ]
  },
  {
   "cell_type": "code",
   "execution_count": 21,
   "metadata": {},
   "outputs": [
    {
     "name": "stdout",
     "output_type": "stream",
     "text": [
      "0 reception : chosen 3 with 5 planes 2020.01.14.12.17.08\n",
      "1 driveway : chosen 4 with 8 planes 2020.02.17.09.52.08\n",
      "2 apartment : chosen 2 with 8 planes 2020.02.17.09.45.56\n",
      "3 workstation : chosen 4 with 4 planes 2020.01.14.11.21.11\n",
      "4 kitchen : chosen 2 with 4 planes 2020.01.14.14.06.43\n",
      "5 hallway : chosen 0 with 3 planes 2020.01.14.12.08.32\n",
      "6 stairwell : chosen 0 with 2 planes 2020.01.14.14.20.59\n"
     ]
    },
    {
     "data": {
      "text/plain": [
       "(7, 7)"
      ]
     },
     "execution_count": 21,
     "metadata": {},
     "output_type": "execute_result"
    }
   ],
   "source": [
    "\n",
    "with open('../../spatial-privacy/point_collection/2_filled_quaternion_vertical_correction_arcore_point_cloud_collection_complete.pickle','rb') as f: \n",
    "    arcore_point_cloud_collection = pickle.load(f)\n",
    "    \n",
    "with open('sample_arcore_points.pickle','rb') as f:\n",
    "    sample_arcore_points = pickle.load(f)\n",
    "    \n",
    "arcore_spaces = [[],[],[],[],[],[],[]]\n",
    "    \n",
    "for [obj_num, name, timestamp], t_pointCloud, triangles in arcore_point_cloud_collection:\n",
    "    \n",
    "    unique_normals = np.unique(np.around(t_pointCloud[:,3:],decimals = 2),axis = 0)\n",
    "    \n",
    "    #print(obj_num, name, timestamp, len(unique_normals))\n",
    "    try:\n",
    "        arcore_spaces[int(obj_num)].append([\n",
    "            [obj_num, name, timestamp],\n",
    "            t_pointCloud, \n",
    "            triangles,\n",
    "            len(unique_normals)\n",
    "        ])\n",
    "    except:\n",
    "        continue\n",
    "        \n",
    "\n",
    "chosen_arcore_spaces = []\n",
    "\n",
    "for space in arcore_spaces:\n",
    "    \n",
    "    per_space_values = []\n",
    "    \n",
    "    per_sample_most_planes = 0\n",
    "    max_num_normals = 0\n",
    "\n",
    "    for i_s, [[obj_num, obj_name, timestamp] , t_pointCloud, triangles, num_normals] in enumerate(space):\n",
    "\n",
    "        if num_normals > max_num_normals: \n",
    "            max_num_normals = num_normals\n",
    "            per_sample_most_planes = i_s\n",
    "            \n",
    "    print(obj_num,obj_name,\": chosen\", per_sample_most_planes, \"with\",max_num_normals,\"planes\",timestamp)\n",
    "            \n",
    "    chosen_arcore_spaces.append(space[per_sample_most_planes])\n",
    "    \n",
    "len(arcore_spaces),len(chosen_arcore_spaces)\n"
   ]
  },
  {
   "cell_type": "markdown",
   "metadata": {},
   "source": [
    "# Step 1.2: ARcore spaces validation"
   ]
  },
  {
   "cell_type": "code",
   "execution_count": 25,
   "metadata": {
    "scrolled": true
   },
   "outputs": [
    {
     "name": "stdout",
     "output_type": "stream",
     "text": [
      "radius = 0.25\n",
      "   0.25 : Done with 2, in 0.094 seconds. Error rate 0.500\n",
      "   (8, 7) (8, 7, 2) (8, 7, 2) in 0.048 seconds\n"
     ]
    },
    {
     "name": "stderr",
     "output_type": "stream",
     "text": [
      "/srv/jaybie/archive/spatial-privacy-master/nn_matchers.py:690: FutureWarning: in the future insert will treat boolean arrays and array-likes as a boolean index instead of casting it to integer\n",
      "  if i_o != np.argmax(weighted_scores): #!= i_o:\n",
      "/home/jaybie/.conda/envs/3d_env/lib/python3.7/site-packages/ipykernel_launcher.py:68: RuntimeWarning: Mean of empty slice\n",
      "/srv/jaybie/archive/spatial-privacy-master/nn_matchers.py:690: FutureWarning: in the future insert will treat boolean arrays and array-likes as a boolean index instead of casting it to integer\n",
      "  if i_o != np.argmax(weighted_scores): #!= i_o:\n",
      "/home/jaybie/.conda/envs/3d_env/lib/python3.7/site-packages/ipykernel_launcher.py:68: RuntimeWarning: Mean of empty slice\n"
     ]
    },
    {
     "name": "stdout",
     "output_type": "stream",
     "text": [
      "   0.25 : Done with 68, in 2.864 seconds. Error rate 0.868\n",
      "   (8, 7) (8, 7, 2) (8, 7, 2) in 0.049 seconds\n"
     ]
    },
    {
     "name": "stderr",
     "output_type": "stream",
     "text": [
      "/srv/jaybie/archive/spatial-privacy-master/nn_matchers.py:690: FutureWarning: in the future insert will treat boolean arrays and array-likes as a boolean index instead of casting it to integer\n",
      "  if i_o != np.argmax(weighted_scores): #!= i_o:\n",
      "/home/jaybie/.conda/envs/3d_env/lib/python3.7/site-packages/ipykernel_launcher.py:68: RuntimeWarning: Mean of empty slice\n"
     ]
    },
    {
     "name": "stdout",
     "output_type": "stream",
     "text": [
      "   0.25 : Done with 134, in 2.912 seconds. Error rate 0.843\n",
      "   (9, 7) (9, 7, 2) (9, 7, 2) in 0.065 seconds\n"
     ]
    },
    {
     "name": "stderr",
     "output_type": "stream",
     "text": [
      "/srv/jaybie/archive/spatial-privacy-master/nn_matchers.py:690: FutureWarning: in the future insert will treat boolean arrays and array-likes as a boolean index instead of casting it to integer\n",
      "  if i_o != np.argmax(weighted_scores): #!= i_o:\n",
      "/home/jaybie/.conda/envs/3d_env/lib/python3.7/site-packages/ipykernel_launcher.py:68: RuntimeWarning: Mean of empty slice\n"
     ]
    },
    {
     "name": "stdout",
     "output_type": "stream",
     "text": [
      "   0.25 : Done with 200, in 2.937 seconds. Error rate 0.850\n",
      "   (9, 7) (9, 7, 2) (9, 7, 2) in 0.051 seconds\n"
     ]
    },
    {
     "name": "stderr",
     "output_type": "stream",
     "text": [
      "/srv/jaybie/archive/spatial-privacy-master/nn_matchers.py:690: FutureWarning: in the future insert will treat boolean arrays and array-likes as a boolean index instead of casting it to integer\n",
      "  if i_o != np.argmax(weighted_scores): #!= i_o:\n",
      "/home/jaybie/.conda/envs/3d_env/lib/python3.7/site-packages/ipykernel_launcher.py:68: RuntimeWarning: Mean of empty slice\n"
     ]
    },
    {
     "name": "stdout",
     "output_type": "stream",
     "text": [
      "   0.25 : Done with 266, in 3.062 seconds. Error rate 0.853\n",
      "   (10, 7) (10, 7, 2) (10, 7, 2) in 0.035 seconds\n"
     ]
    },
    {
     "name": "stderr",
     "output_type": "stream",
     "text": [
      "/srv/jaybie/archive/spatial-privacy-master/nn_matchers.py:690: FutureWarning: in the future insert will treat boolean arrays and array-likes as a boolean index instead of casting it to integer\n",
      "  if i_o != np.argmax(weighted_scores): #!= i_o:\n",
      "/home/jaybie/.conda/envs/3d_env/lib/python3.7/site-packages/ipykernel_launcher.py:68: RuntimeWarning: Mean of empty slice\n"
     ]
    },
    {
     "name": "stdout",
     "output_type": "stream",
     "text": [
      "   0.25 : Done with 332, in 2.826 seconds. Error rate 0.846\n",
      "   (8, 7) (8, 7, 2) (8, 7, 2) in 0.034 seconds\n"
     ]
    },
    {
     "name": "stderr",
     "output_type": "stream",
     "text": [
      "/srv/jaybie/archive/spatial-privacy-master/nn_matchers.py:690: FutureWarning: in the future insert will treat boolean arrays and array-likes as a boolean index instead of casting it to integer\n",
      "  if i_o != np.argmax(weighted_scores): #!= i_o:\n",
      "/home/jaybie/.conda/envs/3d_env/lib/python3.7/site-packages/ipykernel_launcher.py:68: RuntimeWarning: Mean of empty slice\n"
     ]
    },
    {
     "name": "stdout",
     "output_type": "stream",
     "text": [
      "   0.25 : Done with 398, in 2.861 seconds. Error rate 0.837\n",
      "   (9, 7) (9, 7, 2) (9, 7, 2) in 0.037 seconds\n"
     ]
    },
    {
     "name": "stderr",
     "output_type": "stream",
     "text": [
      "/srv/jaybie/archive/spatial-privacy-master/nn_matchers.py:690: FutureWarning: in the future insert will treat boolean arrays and array-likes as a boolean index instead of casting it to integer\n",
      "  if i_o != np.argmax(weighted_scores): #!= i_o:\n",
      "/home/jaybie/.conda/envs/3d_env/lib/python3.7/site-packages/ipykernel_launcher.py:68: RuntimeWarning: Mean of empty slice\n"
     ]
    },
    {
     "name": "stdout",
     "output_type": "stream",
     "text": [
      "   0.25 : Done with 464, in 3.176 seconds. Error rate 0.845\n",
      "   (8, 7) (8, 7, 2) (8, 7, 2) in 0.045 seconds\n"
     ]
    },
    {
     "name": "stderr",
     "output_type": "stream",
     "text": [
      "/srv/jaybie/archive/spatial-privacy-master/nn_matchers.py:690: FutureWarning: in the future insert will treat boolean arrays and array-likes as a boolean index instead of casting it to integer\n",
      "  if i_o != np.argmax(weighted_scores): #!= i_o:\n",
      "/home/jaybie/.conda/envs/3d_env/lib/python3.7/site-packages/ipykernel_launcher.py:68: RuntimeWarning: Mean of empty slice\n"
     ]
    },
    {
     "name": "stdout",
     "output_type": "stream",
     "text": [
      "   0.25 : Done with 530, in 3.101 seconds. Error rate 0.845\n",
      "   (7, 7) (7, 7, 2) (7, 7, 2) in 0.050 seconds\n"
     ]
    },
    {
     "name": "stderr",
     "output_type": "stream",
     "text": [
      "/srv/jaybie/archive/spatial-privacy-master/nn_matchers.py:690: FutureWarning: in the future insert will treat boolean arrays and array-likes as a boolean index instead of casting it to integer\n",
      "  if i_o != np.argmax(weighted_scores): #!= i_o:\n",
      "/home/jaybie/.conda/envs/3d_env/lib/python3.7/site-packages/ipykernel_launcher.py:68: RuntimeWarning: Mean of empty slice\n"
     ]
    },
    {
     "name": "stdout",
     "output_type": "stream",
     "text": [
      "   0.25 : Done with 596, in 3.226 seconds. Error rate 0.849\n",
      "   (9, 7) (9, 7, 2) (9, 7, 2) in 0.037 seconds\n"
     ]
    },
    {
     "name": "stderr",
     "output_type": "stream",
     "text": [
      "/srv/jaybie/archive/spatial-privacy-master/nn_matchers.py:690: FutureWarning: in the future insert will treat boolean arrays and array-likes as a boolean index instead of casting it to integer\n",
      "  if i_o != np.argmax(weighted_scores): #!= i_o:\n",
      "/home/jaybie/.conda/envs/3d_env/lib/python3.7/site-packages/ipykernel_launcher.py:68: RuntimeWarning: Mean of empty slice\n"
     ]
    },
    {
     "name": "stdout",
     "output_type": "stream",
     "text": [
      "   0.25 : Done with 662, in 3.023 seconds. Error rate 0.840\n",
      "   (12, 7) (12, 7, 2) (12, 7, 2) in 0.038 seconds\n"
     ]
    },
    {
     "name": "stderr",
     "output_type": "stream",
     "text": [
      "/srv/jaybie/archive/spatial-privacy-master/nn_matchers.py:690: FutureWarning: in the future insert will treat boolean arrays and array-likes as a boolean index instead of casting it to integer\n",
      "  if i_o != np.argmax(weighted_scores): #!= i_o:\n",
      "/home/jaybie/.conda/envs/3d_env/lib/python3.7/site-packages/ipykernel_launcher.py:68: RuntimeWarning: Mean of empty slice\n"
     ]
    },
    {
     "name": "stdout",
     "output_type": "stream",
     "text": [
      "   0.25 : Done with 728, in 3.175 seconds. Error rate 0.845\n",
      "   (8, 7) (8, 7, 2) (8, 7, 2) in 0.047 seconds\n"
     ]
    },
    {
     "name": "stderr",
     "output_type": "stream",
     "text": [
      "/srv/jaybie/archive/spatial-privacy-master/nn_matchers.py:690: FutureWarning: in the future insert will treat boolean arrays and array-likes as a boolean index instead of casting it to integer\n",
      "  if i_o != np.argmax(weighted_scores): #!= i_o:\n",
      "/home/jaybie/.conda/envs/3d_env/lib/python3.7/site-packages/ipykernel_launcher.py:68: RuntimeWarning: Mean of empty slice\n"
     ]
    },
    {
     "name": "stdout",
     "output_type": "stream",
     "text": [
      "   0.25 : Done with 794, in 3.267 seconds. Error rate 0.843\n",
      "   (8, 7) (8, 7, 2) (8, 7, 2) in 0.047 seconds\n"
     ]
    },
    {
     "name": "stderr",
     "output_type": "stream",
     "text": [
      "/srv/jaybie/archive/spatial-privacy-master/nn_matchers.py:690: FutureWarning: in the future insert will treat boolean arrays and array-likes as a boolean index instead of casting it to integer\n",
      "  if i_o != np.argmax(weighted_scores): #!= i_o:\n",
      "/home/jaybie/.conda/envs/3d_env/lib/python3.7/site-packages/ipykernel_launcher.py:68: RuntimeWarning: Mean of empty slice\n"
     ]
    },
    {
     "name": "stdout",
     "output_type": "stream",
     "text": [
      "   0.25 : Done with 860, in 3.310 seconds. Error rate 0.847\n",
      "   (7, 7) (7, 7, 2) (7, 7, 2) in 0.061 seconds\n"
     ]
    },
    {
     "name": "stderr",
     "output_type": "stream",
     "text": [
      "/srv/jaybie/archive/spatial-privacy-master/nn_matchers.py:690: FutureWarning: in the future insert will treat boolean arrays and array-likes as a boolean index instead of casting it to integer\n",
      "  if i_o != np.argmax(weighted_scores): #!= i_o:\n",
      "/home/jaybie/.conda/envs/3d_env/lib/python3.7/site-packages/ipykernel_launcher.py:68: RuntimeWarning: Mean of empty slice\n"
     ]
    },
    {
     "name": "stdout",
     "output_type": "stream",
     "text": [
      "   0.25 : Done with 926, in 3.419 seconds. Error rate 0.851\n",
      "   (11, 7) (11, 7, 2) (11, 7, 2) in 0.052 seconds\n"
     ]
    },
    {
     "name": "stderr",
     "output_type": "stream",
     "text": [
      "/srv/jaybie/archive/spatial-privacy-master/nn_matchers.py:690: FutureWarning: in the future insert will treat boolean arrays and array-likes as a boolean index instead of casting it to integer\n",
      "  if i_o != np.argmax(weighted_scores): #!= i_o:\n",
      "/home/jaybie/.conda/envs/3d_env/lib/python3.7/site-packages/ipykernel_launcher.py:68: RuntimeWarning: Mean of empty slice\n"
     ]
    },
    {
     "name": "stdout",
     "output_type": "stream",
     "text": [
      "   0.25 : Done with 992, in 3.373 seconds. Error rate 0.850\n",
      "   (6, 7) (6, 7, 2) (6, 7, 2) in 0.038 seconds\n",
      "0.25  Total Time to match 55.388 seconds.\n",
      "radius = 0.5\n",
      "   0.5 : Done with 2, in 0.120 seconds. Error rate 1.000\n",
      "   (22, 7) (22, 7, 2) (22, 7, 2) in 0.054 seconds\n"
     ]
    },
    {
     "name": "stderr",
     "output_type": "stream",
     "text": [
      "/srv/jaybie/archive/spatial-privacy-master/nn_matchers.py:690: FutureWarning: in the future insert will treat boolean arrays and array-likes as a boolean index instead of casting it to integer\n",
      "  if i_o != np.argmax(weighted_scores): #!= i_o:\n"
     ]
    },
    {
     "name": "stdout",
     "output_type": "stream",
     "text": [
      "   0.5 : Done with 68, in 4.076 seconds. Error rate 0.868\n",
      "   (17, 7) (17, 7, 2) (17, 7, 2) in 0.056 seconds\n"
     ]
    },
    {
     "name": "stderr",
     "output_type": "stream",
     "text": [
      "/srv/jaybie/archive/spatial-privacy-master/nn_matchers.py:690: FutureWarning: in the future insert will treat boolean arrays and array-likes as a boolean index instead of casting it to integer\n",
      "  if i_o != np.argmax(weighted_scores): #!= i_o:\n"
     ]
    },
    {
     "name": "stdout",
     "output_type": "stream",
     "text": [
      "   0.5 : Done with 134, in 4.241 seconds. Error rate 0.896\n",
      "   (31, 7) (31, 7, 2) (31, 7, 2) in 0.092 seconds\n"
     ]
    },
    {
     "name": "stderr",
     "output_type": "stream",
     "text": [
      "/srv/jaybie/archive/spatial-privacy-master/nn_matchers.py:690: FutureWarning: in the future insert will treat boolean arrays and array-likes as a boolean index instead of casting it to integer\n",
      "  if i_o != np.argmax(weighted_scores): #!= i_o:\n",
      "/home/jaybie/.conda/envs/3d_env/lib/python3.7/site-packages/ipykernel_launcher.py:68: RuntimeWarning: Mean of empty slice\n"
     ]
    },
    {
     "name": "stdout",
     "output_type": "stream",
     "text": [
      "   0.5 : Done with 200, in 4.102 seconds. Error rate 0.855\n",
      "   (29, 7) (29, 7, 2) (29, 7, 2) in 0.072 seconds\n"
     ]
    },
    {
     "name": "stderr",
     "output_type": "stream",
     "text": [
      "/srv/jaybie/archive/spatial-privacy-master/nn_matchers.py:690: FutureWarning: in the future insert will treat boolean arrays and array-likes as a boolean index instead of casting it to integer\n",
      "  if i_o != np.argmax(weighted_scores): #!= i_o:\n",
      "/home/jaybie/.conda/envs/3d_env/lib/python3.7/site-packages/ipykernel_launcher.py:68: RuntimeWarning: Mean of empty slice\n"
     ]
    },
    {
     "name": "stdout",
     "output_type": "stream",
     "text": [
      "   0.5 : Done with 266, in 4.089 seconds. Error rate 0.838\n",
      "   (26, 7) (26, 7, 2) (26, 7, 2) in 0.057 seconds\n"
     ]
    },
    {
     "name": "stderr",
     "output_type": "stream",
     "text": [
      "/srv/jaybie/archive/spatial-privacy-master/nn_matchers.py:690: FutureWarning: in the future insert will treat boolean arrays and array-likes as a boolean index instead of casting it to integer\n",
      "  if i_o != np.argmax(weighted_scores): #!= i_o:\n",
      "/home/jaybie/.conda/envs/3d_env/lib/python3.7/site-packages/ipykernel_launcher.py:68: RuntimeWarning: Mean of empty slice\n"
     ]
    },
    {
     "name": "stdout",
     "output_type": "stream",
     "text": [
      "   0.5 : Done with 332, in 4.630 seconds. Error rate 0.849\n",
      "   (25, 7) (25, 7, 2) (25, 7, 2) in 0.058 seconds\n"
     ]
    },
    {
     "name": "stderr",
     "output_type": "stream",
     "text": [
      "/srv/jaybie/archive/spatial-privacy-master/nn_matchers.py:690: FutureWarning: in the future insert will treat boolean arrays and array-likes as a boolean index instead of casting it to integer\n",
      "  if i_o != np.argmax(weighted_scores): #!= i_o:\n",
      "/home/jaybie/.conda/envs/3d_env/lib/python3.7/site-packages/ipykernel_launcher.py:68: RuntimeWarning: Mean of empty slice\n"
     ]
    },
    {
     "name": "stdout",
     "output_type": "stream",
     "text": [
      "   0.5 : Done with 398, in 4.789 seconds. Error rate 0.837\n",
      "   (34, 7) (34, 7, 2) (34, 7, 2) in 0.074 seconds\n"
     ]
    },
    {
     "name": "stderr",
     "output_type": "stream",
     "text": [
      "/srv/jaybie/archive/spatial-privacy-master/nn_matchers.py:690: FutureWarning: in the future insert will treat boolean arrays and array-likes as a boolean index instead of casting it to integer\n",
      "  if i_o != np.argmax(weighted_scores): #!= i_o:\n",
      "/home/jaybie/.conda/envs/3d_env/lib/python3.7/site-packages/ipykernel_launcher.py:68: RuntimeWarning: Mean of empty slice\n"
     ]
    },
    {
     "name": "stdout",
     "output_type": "stream",
     "text": [
      "   0.5 : Done with 464, in 5.204 seconds. Error rate 0.849\n",
      "   (26, 7) (26, 7, 2) (26, 7, 2) in 0.069 seconds\n"
     ]
    },
    {
     "name": "stderr",
     "output_type": "stream",
     "text": [
      "/srv/jaybie/archive/spatial-privacy-master/nn_matchers.py:690: FutureWarning: in the future insert will treat boolean arrays and array-likes as a boolean index instead of casting it to integer\n",
      "  if i_o != np.argmax(weighted_scores): #!= i_o:\n",
      "/home/jaybie/.conda/envs/3d_env/lib/python3.7/site-packages/ipykernel_launcher.py:68: RuntimeWarning: Mean of empty slice\n"
     ]
    },
    {
     "name": "stdout",
     "output_type": "stream",
     "text": [
      "   0.5 : Done with 530, in 4.932 seconds. Error rate 0.851\n",
      "   (25, 7) (25, 7, 2) (25, 7, 2) in 0.071 seconds\n"
     ]
    },
    {
     "name": "stderr",
     "output_type": "stream",
     "text": [
      "/srv/jaybie/archive/spatial-privacy-master/nn_matchers.py:690: FutureWarning: in the future insert will treat boolean arrays and array-likes as a boolean index instead of casting it to integer\n",
      "  if i_o != np.argmax(weighted_scores): #!= i_o:\n",
      "/home/jaybie/.conda/envs/3d_env/lib/python3.7/site-packages/ipykernel_launcher.py:68: RuntimeWarning: Mean of empty slice\n"
     ]
    },
    {
     "name": "stdout",
     "output_type": "stream",
     "text": [
      "   0.5 : Done with 596, in 4.305 seconds. Error rate 0.854\n",
      "   (27, 7) (27, 7, 2) (27, 7, 2) in 0.054 seconds\n"
     ]
    },
    {
     "name": "stderr",
     "output_type": "stream",
     "text": [
      "/srv/jaybie/archive/spatial-privacy-master/nn_matchers.py:690: FutureWarning: in the future insert will treat boolean arrays and array-likes as a boolean index instead of casting it to integer\n",
      "  if i_o != np.argmax(weighted_scores): #!= i_o:\n",
      "/home/jaybie/.conda/envs/3d_env/lib/python3.7/site-packages/ipykernel_launcher.py:68: RuntimeWarning: Mean of empty slice\n"
     ]
    },
    {
     "name": "stdout",
     "output_type": "stream",
     "text": [
      "   0.5 : Done with 662, in 4.360 seconds. Error rate 0.855\n",
      "   (31, 7) (31, 7, 2) (31, 7, 2) in 0.059 seconds\n"
     ]
    },
    {
     "name": "stderr",
     "output_type": "stream",
     "text": [
      "/srv/jaybie/archive/spatial-privacy-master/nn_matchers.py:690: FutureWarning: in the future insert will treat boolean arrays and array-likes as a boolean index instead of casting it to integer\n",
      "  if i_o != np.argmax(weighted_scores): #!= i_o:\n",
      "/home/jaybie/.conda/envs/3d_env/lib/python3.7/site-packages/ipykernel_launcher.py:68: RuntimeWarning: Mean of empty slice\n"
     ]
    },
    {
     "name": "stdout",
     "output_type": "stream",
     "text": [
      "   0.5 : Done with 728, in 4.506 seconds. Error rate 0.864\n",
      "   (26, 7) (26, 7, 2) (26, 7, 2) in 0.066 seconds\n"
     ]
    },
    {
     "name": "stderr",
     "output_type": "stream",
     "text": [
      "/srv/jaybie/archive/spatial-privacy-master/nn_matchers.py:690: FutureWarning: in the future insert will treat boolean arrays and array-likes as a boolean index instead of casting it to integer\n",
      "  if i_o != np.argmax(weighted_scores): #!= i_o:\n",
      "/home/jaybie/.conda/envs/3d_env/lib/python3.7/site-packages/ipykernel_launcher.py:68: RuntimeWarning: Mean of empty slice\n"
     ]
    },
    {
     "name": "stdout",
     "output_type": "stream",
     "text": [
      "   0.5 : Done with 794, in 4.285 seconds. Error rate 0.864\n",
      "   (26, 7) (26, 7, 2) (26, 7, 2) in 0.073 seconds\n"
     ]
    },
    {
     "name": "stderr",
     "output_type": "stream",
     "text": [
      "/srv/jaybie/archive/spatial-privacy-master/nn_matchers.py:690: FutureWarning: in the future insert will treat boolean arrays and array-likes as a boolean index instead of casting it to integer\n",
      "  if i_o != np.argmax(weighted_scores): #!= i_o:\n",
      "/home/jaybie/.conda/envs/3d_env/lib/python3.7/site-packages/ipykernel_launcher.py:68: RuntimeWarning: Mean of empty slice\n"
     ]
    },
    {
     "name": "stdout",
     "output_type": "stream",
     "text": [
      "   0.5 : Done with 860, in 4.606 seconds. Error rate 0.864\n",
      "   (20, 7) (20, 7, 2) (20, 7, 2) in 0.052 seconds\n"
     ]
    },
    {
     "name": "stderr",
     "output_type": "stream",
     "text": [
      "/srv/jaybie/archive/spatial-privacy-master/nn_matchers.py:690: FutureWarning: in the future insert will treat boolean arrays and array-likes as a boolean index instead of casting it to integer\n",
      "  if i_o != np.argmax(weighted_scores): #!= i_o:\n",
      "/home/jaybie/.conda/envs/3d_env/lib/python3.7/site-packages/ipykernel_launcher.py:68: RuntimeWarning: Mean of empty slice\n"
     ]
    },
    {
     "name": "stdout",
     "output_type": "stream",
     "text": [
      "   0.5 : Done with 926, in 4.413 seconds. Error rate 0.861\n",
      "   (29, 7) (29, 7, 2) (29, 7, 2) in 0.068 seconds\n"
     ]
    },
    {
     "name": "stderr",
     "output_type": "stream",
     "text": [
      "/srv/jaybie/archive/spatial-privacy-master/nn_matchers.py:690: FutureWarning: in the future insert will treat boolean arrays and array-likes as a boolean index instead of casting it to integer\n",
      "  if i_o != np.argmax(weighted_scores): #!= i_o:\n",
      "/home/jaybie/.conda/envs/3d_env/lib/python3.7/site-packages/ipykernel_launcher.py:68: RuntimeWarning: Mean of empty slice\n"
     ]
    },
    {
     "name": "stdout",
     "output_type": "stream",
     "text": [
      "   0.5 : Done with 992, in 4.526 seconds. Error rate 0.860\n",
      "   (25, 7) (25, 7, 2) (25, 7, 2) in 0.054 seconds\n",
      "0.5  Total Time to match 83.971 seconds.\n",
      "radius = 0.75\n",
      "   0.75 : Done with 2, in 0.190 seconds. Error rate 1.000\n",
      "   (49, 7) (49, 7, 2) (49, 7, 2) in 0.086 seconds\n"
     ]
    },
    {
     "name": "stderr",
     "output_type": "stream",
     "text": [
      "/srv/jaybie/archive/spatial-privacy-master/nn_matchers.py:690: FutureWarning: in the future insert will treat boolean arrays and array-likes as a boolean index instead of casting it to integer\n",
      "  if i_o != np.argmax(weighted_scores): #!= i_o:\n"
     ]
    },
    {
     "name": "stdout",
     "output_type": "stream",
     "text": [
      "   0.75 : Done with 68, in 6.380 seconds. Error rate 0.882\n",
      "   (41, 7) (41, 7, 2) (41, 7, 2) in 0.075 seconds\n"
     ]
    },
    {
     "name": "stderr",
     "output_type": "stream",
     "text": [
      "/srv/jaybie/archive/spatial-privacy-master/nn_matchers.py:690: FutureWarning: in the future insert will treat boolean arrays and array-likes as a boolean index instead of casting it to integer\n",
      "  if i_o != np.argmax(weighted_scores): #!= i_o:\n"
     ]
    },
    {
     "name": "stdout",
     "output_type": "stream",
     "text": [
      "   0.75 : Done with 134, in 6.638 seconds. Error rate 0.858\n",
      "   (57, 7) (57, 7, 2) (57, 7, 2) in 0.155 seconds\n"
     ]
    },
    {
     "name": "stderr",
     "output_type": "stream",
     "text": [
      "/srv/jaybie/archive/spatial-privacy-master/nn_matchers.py:690: FutureWarning: in the future insert will treat boolean arrays and array-likes as a boolean index instead of casting it to integer\n",
      "  if i_o != np.argmax(weighted_scores): #!= i_o:\n"
     ]
    },
    {
     "name": "stdout",
     "output_type": "stream",
     "text": [
      "   0.75 : Done with 200, in 6.468 seconds. Error rate 0.830\n",
      "   (70, 7) (70, 7, 2) (70, 7, 2) in 0.128 seconds\n"
     ]
    },
    {
     "name": "stderr",
     "output_type": "stream",
     "text": [
      "/srv/jaybie/archive/spatial-privacy-master/nn_matchers.py:690: FutureWarning: in the future insert will treat boolean arrays and array-likes as a boolean index instead of casting it to integer\n",
      "  if i_o != np.argmax(weighted_scores): #!= i_o:\n"
     ]
    },
    {
     "name": "stdout",
     "output_type": "stream",
     "text": [
      "   0.75 : Done with 266, in 6.729 seconds. Error rate 0.846\n",
      "   (63, 7) (63, 7, 2) (63, 7, 2) in 0.107 seconds\n"
     ]
    },
    {
     "name": "stderr",
     "output_type": "stream",
     "text": [
      "/srv/jaybie/archive/spatial-privacy-master/nn_matchers.py:690: FutureWarning: in the future insert will treat boolean arrays and array-likes as a boolean index instead of casting it to integer\n",
      "  if i_o != np.argmax(weighted_scores): #!= i_o:\n"
     ]
    },
    {
     "name": "stdout",
     "output_type": "stream",
     "text": [
      "   0.75 : Done with 332, in 6.542 seconds. Error rate 0.861\n",
      "   (49, 7) (49, 7, 2) (49, 7, 2) in 0.080 seconds\n"
     ]
    },
    {
     "name": "stderr",
     "output_type": "stream",
     "text": [
      "/srv/jaybie/archive/spatial-privacy-master/nn_matchers.py:690: FutureWarning: in the future insert will treat boolean arrays and array-likes as a boolean index instead of casting it to integer\n",
      "  if i_o != np.argmax(weighted_scores): #!= i_o:\n"
     ]
    },
    {
     "name": "stdout",
     "output_type": "stream",
     "text": [
      "   0.75 : Done with 398, in 6.615 seconds. Error rate 0.857\n",
      "   (53, 7) (53, 7, 2) (53, 7, 2) in 0.092 seconds\n"
     ]
    },
    {
     "name": "stderr",
     "output_type": "stream",
     "text": [
      "/srv/jaybie/archive/spatial-privacy-master/nn_matchers.py:690: FutureWarning: in the future insert will treat boolean arrays and array-likes as a boolean index instead of casting it to integer\n",
      "  if i_o != np.argmax(weighted_scores): #!= i_o:\n",
      "/home/jaybie/.conda/envs/3d_env/lib/python3.7/site-packages/ipykernel_launcher.py:68: RuntimeWarning: Mean of empty slice\n"
     ]
    },
    {
     "name": "stdout",
     "output_type": "stream",
     "text": [
      "   0.75 : Done with 464, in 7.153 seconds. Error rate 0.849\n",
      "   (61, 7) (61, 7, 2) (61, 7, 2) in 0.102 seconds\n"
     ]
    },
    {
     "name": "stderr",
     "output_type": "stream",
     "text": [
      "/srv/jaybie/archive/spatial-privacy-master/nn_matchers.py:690: FutureWarning: in the future insert will treat boolean arrays and array-likes as a boolean index instead of casting it to integer\n",
      "  if i_o != np.argmax(weighted_scores): #!= i_o:\n",
      "/home/jaybie/.conda/envs/3d_env/lib/python3.7/site-packages/ipykernel_launcher.py:68: RuntimeWarning: Mean of empty slice\n"
     ]
    },
    {
     "name": "stdout",
     "output_type": "stream",
     "text": [
      "   0.75 : Done with 530, in 7.136 seconds. Error rate 0.853\n",
      "   (39, 7) (39, 7, 2) (39, 7, 2) in 0.078 seconds\n"
     ]
    },
    {
     "name": "stderr",
     "output_type": "stream",
     "text": [
      "/srv/jaybie/archive/spatial-privacy-master/nn_matchers.py:690: FutureWarning: in the future insert will treat boolean arrays and array-likes as a boolean index instead of casting it to integer\n",
      "  if i_o != np.argmax(weighted_scores): #!= i_o:\n",
      "/home/jaybie/.conda/envs/3d_env/lib/python3.7/site-packages/ipykernel_launcher.py:68: RuntimeWarning: Mean of empty slice\n"
     ]
    },
    {
     "name": "stdout",
     "output_type": "stream",
     "text": [
      "   0.75 : Done with 596, in 6.975 seconds. Error rate 0.857\n",
      "   (50, 7) (50, 7, 2) (50, 7, 2) in 0.080 seconds\n"
     ]
    },
    {
     "name": "stderr",
     "output_type": "stream",
     "text": [
      "/srv/jaybie/archive/spatial-privacy-master/nn_matchers.py:690: FutureWarning: in the future insert will treat boolean arrays and array-likes as a boolean index instead of casting it to integer\n",
      "  if i_o != np.argmax(weighted_scores): #!= i_o:\n",
      "/home/jaybie/.conda/envs/3d_env/lib/python3.7/site-packages/ipykernel_launcher.py:68: RuntimeWarning: Mean of empty slice\n"
     ]
    },
    {
     "name": "stdout",
     "output_type": "stream",
     "text": [
      "   0.75 : Done with 662, in 6.766 seconds. Error rate 0.858\n",
      "   (50, 7) (50, 7, 2) (50, 7, 2) in 0.086 seconds\n"
     ]
    },
    {
     "name": "stderr",
     "output_type": "stream",
     "text": [
      "/srv/jaybie/archive/spatial-privacy-master/nn_matchers.py:690: FutureWarning: in the future insert will treat boolean arrays and array-likes as a boolean index instead of casting it to integer\n",
      "  if i_o != np.argmax(weighted_scores): #!= i_o:\n",
      "/home/jaybie/.conda/envs/3d_env/lib/python3.7/site-packages/ipykernel_launcher.py:68: RuntimeWarning: Mean of empty slice\n"
     ]
    },
    {
     "name": "stdout",
     "output_type": "stream",
     "text": [
      "   0.75 : Done with 728, in 7.259 seconds. Error rate 0.853\n",
      "   (49, 7) (49, 7, 2) (49, 7, 2) in 0.098 seconds\n"
     ]
    },
    {
     "name": "stderr",
     "output_type": "stream",
     "text": [
      "/srv/jaybie/archive/spatial-privacy-master/nn_matchers.py:690: FutureWarning: in the future insert will treat boolean arrays and array-likes as a boolean index instead of casting it to integer\n",
      "  if i_o != np.argmax(weighted_scores): #!= i_o:\n",
      "/home/jaybie/.conda/envs/3d_env/lib/python3.7/site-packages/ipykernel_launcher.py:68: RuntimeWarning: Mean of empty slice\n"
     ]
    },
    {
     "name": "stdout",
     "output_type": "stream",
     "text": [
      "   0.75 : Done with 794, in 7.075 seconds. Error rate 0.843\n",
      "   (65, 7) (65, 7, 2) (65, 7, 2) in 0.144 seconds\n"
     ]
    },
    {
     "name": "stderr",
     "output_type": "stream",
     "text": [
      "/srv/jaybie/archive/spatial-privacy-master/nn_matchers.py:690: FutureWarning: in the future insert will treat boolean arrays and array-likes as a boolean index instead of casting it to integer\n",
      "  if i_o != np.argmax(weighted_scores): #!= i_o:\n",
      "/home/jaybie/.conda/envs/3d_env/lib/python3.7/site-packages/ipykernel_launcher.py:68: RuntimeWarning: Mean of empty slice\n"
     ]
    },
    {
     "name": "stdout",
     "output_type": "stream",
     "text": [
      "   0.75 : Done with 860, in 7.260 seconds. Error rate 0.842\n",
      "   (26, 7) (26, 7, 2) (26, 7, 2) in 0.065 seconds\n"
     ]
    },
    {
     "name": "stderr",
     "output_type": "stream",
     "text": [
      "/srv/jaybie/archive/spatial-privacy-master/nn_matchers.py:690: FutureWarning: in the future insert will treat boolean arrays and array-likes as a boolean index instead of casting it to integer\n",
      "  if i_o != np.argmax(weighted_scores): #!= i_o:\n",
      "/home/jaybie/.conda/envs/3d_env/lib/python3.7/site-packages/ipykernel_launcher.py:68: RuntimeWarning: Mean of empty slice\n"
     ]
    },
    {
     "name": "stdout",
     "output_type": "stream",
     "text": [
      "   0.75 : Done with 926, in 7.404 seconds. Error rate 0.840\n",
      "   (62, 7) (62, 7, 2) (62, 7, 2) in 0.130 seconds\n"
     ]
    },
    {
     "name": "stderr",
     "output_type": "stream",
     "text": [
      "/srv/jaybie/archive/spatial-privacy-master/nn_matchers.py:690: FutureWarning: in the future insert will treat boolean arrays and array-likes as a boolean index instead of casting it to integer\n",
      "  if i_o != np.argmax(weighted_scores): #!= i_o:\n",
      "/home/jaybie/.conda/envs/3d_env/lib/python3.7/site-packages/ipykernel_launcher.py:68: RuntimeWarning: Mean of empty slice\n"
     ]
    },
    {
     "name": "stdout",
     "output_type": "stream",
     "text": [
      "   0.75 : Done with 992, in 7.386 seconds. Error rate 0.840\n",
      "   (37, 7) (37, 7, 2) (37, 7, 2) in 0.076 seconds\n",
      "0.75  Total Time to match 132.530 seconds.\n",
      "radius = 1.0\n",
      "   1.0 : Done with 2, in 0.321 seconds. Error rate 1.000\n",
      "   (88, 7) (88, 7, 2) (88, 7, 2) in 0.145 seconds\n"
     ]
    },
    {
     "name": "stderr",
     "output_type": "stream",
     "text": [
      "/srv/jaybie/archive/spatial-privacy-master/nn_matchers.py:690: FutureWarning: in the future insert will treat boolean arrays and array-likes as a boolean index instead of casting it to integer\n",
      "  if i_o != np.argmax(weighted_scores): #!= i_o:\n"
     ]
    },
    {
     "name": "stdout",
     "output_type": "stream",
     "text": [
      "   1.0 : Done with 68, in 10.275 seconds. Error rate 0.779\n",
      "   (61, 7) (61, 7, 2) (61, 7, 2) in 0.116 seconds\n"
     ]
    },
    {
     "name": "stderr",
     "output_type": "stream",
     "text": [
      "/srv/jaybie/archive/spatial-privacy-master/nn_matchers.py:690: FutureWarning: in the future insert will treat boolean arrays and array-likes as a boolean index instead of casting it to integer\n",
      "  if i_o != np.argmax(weighted_scores): #!= i_o:\n"
     ]
    },
    {
     "name": "stdout",
     "output_type": "stream",
     "text": [
      "   1.0 : Done with 134, in 11.279 seconds. Error rate 0.799\n",
      "   (122, 7) (122, 7, 2) (122, 7, 2) in 0.320 seconds\n"
     ]
    },
    {
     "name": "stderr",
     "output_type": "stream",
     "text": [
      "/srv/jaybie/archive/spatial-privacy-master/nn_matchers.py:690: FutureWarning: in the future insert will treat boolean arrays and array-likes as a boolean index instead of casting it to integer\n",
      "  if i_o != np.argmax(weighted_scores): #!= i_o:\n"
     ]
    },
    {
     "name": "stdout",
     "output_type": "stream",
     "text": [
      "   1.0 : Done with 200, in 10.935 seconds. Error rate 0.805\n",
      "   (92, 7) (92, 7, 2) (92, 7, 2) in 0.199 seconds\n"
     ]
    },
    {
     "name": "stderr",
     "output_type": "stream",
     "text": [
      "/srv/jaybie/archive/spatial-privacy-master/nn_matchers.py:690: FutureWarning: in the future insert will treat boolean arrays and array-likes as a boolean index instead of casting it to integer\n",
      "  if i_o != np.argmax(weighted_scores): #!= i_o:\n"
     ]
    },
    {
     "name": "stdout",
     "output_type": "stream",
     "text": [
      "   1.0 : Done with 266, in 11.791 seconds. Error rate 0.823\n",
      "   (107, 7) (107, 7, 2) (107, 7, 2) in 0.214 seconds\n"
     ]
    },
    {
     "name": "stderr",
     "output_type": "stream",
     "text": [
      "/srv/jaybie/archive/spatial-privacy-master/nn_matchers.py:690: FutureWarning: in the future insert will treat boolean arrays and array-likes as a boolean index instead of casting it to integer\n",
      "  if i_o != np.argmax(weighted_scores): #!= i_o:\n"
     ]
    },
    {
     "name": "stdout",
     "output_type": "stream",
     "text": [
      "   1.0 : Done with 332, in 11.565 seconds. Error rate 0.828\n",
      "   (84, 7) (84, 7, 2) (84, 7, 2) in 0.146 seconds\n"
     ]
    },
    {
     "name": "stderr",
     "output_type": "stream",
     "text": [
      "/srv/jaybie/archive/spatial-privacy-master/nn_matchers.py:690: FutureWarning: in the future insert will treat boolean arrays and array-likes as a boolean index instead of casting it to integer\n",
      "  if i_o != np.argmax(weighted_scores): #!= i_o:\n"
     ]
    },
    {
     "name": "stdout",
     "output_type": "stream",
     "text": [
      "   1.0 : Done with 398, in 11.179 seconds. Error rate 0.829\n",
      "   (87, 7) (87, 7, 2) (87, 7, 2) in 0.160 seconds\n"
     ]
    },
    {
     "name": "stderr",
     "output_type": "stream",
     "text": [
      "/srv/jaybie/archive/spatial-privacy-master/nn_matchers.py:690: FutureWarning: in the future insert will treat boolean arrays and array-likes as a boolean index instead of casting it to integer\n",
      "  if i_o != np.argmax(weighted_scores): #!= i_o:\n"
     ]
    },
    {
     "name": "stdout",
     "output_type": "stream",
     "text": [
      "   1.0 : Done with 464, in 12.028 seconds. Error rate 0.836\n",
      "   (90, 7) (90, 7, 2) (90, 7, 2) in 0.173 seconds\n"
     ]
    },
    {
     "name": "stderr",
     "output_type": "stream",
     "text": [
      "/srv/jaybie/archive/spatial-privacy-master/nn_matchers.py:690: FutureWarning: in the future insert will treat boolean arrays and array-likes as a boolean index instead of casting it to integer\n",
      "  if i_o != np.argmax(weighted_scores): #!= i_o:\n"
     ]
    },
    {
     "name": "stdout",
     "output_type": "stream",
     "text": [
      "   1.0 : Done with 530, in 12.353 seconds. Error rate 0.838\n",
      "   (86, 7) (86, 7, 2) (86, 7, 2) in 0.156 seconds\n"
     ]
    },
    {
     "name": "stderr",
     "output_type": "stream",
     "text": [
      "/srv/jaybie/archive/spatial-privacy-master/nn_matchers.py:690: FutureWarning: in the future insert will treat boolean arrays and array-likes as a boolean index instead of casting it to integer\n",
      "  if i_o != np.argmax(weighted_scores): #!= i_o:\n"
     ]
    },
    {
     "name": "stdout",
     "output_type": "stream",
     "text": [
      "   1.0 : Done with 596, in 11.658 seconds. Error rate 0.844\n",
      "   (66, 7) (66, 7, 2) (66, 7, 2) in 0.111 seconds\n"
     ]
    },
    {
     "name": "stderr",
     "output_type": "stream",
     "text": [
      "/srv/jaybie/archive/spatial-privacy-master/nn_matchers.py:690: FutureWarning: in the future insert will treat boolean arrays and array-likes as a boolean index instead of casting it to integer\n",
      "  if i_o != np.argmax(weighted_scores): #!= i_o:\n"
     ]
    },
    {
     "name": "stdout",
     "output_type": "stream",
     "text": [
      "   1.0 : Done with 662, in 11.725 seconds. Error rate 0.846\n",
      "   (87, 7) (87, 7, 2) (87, 7, 2) in 0.153 seconds\n"
     ]
    },
    {
     "name": "stderr",
     "output_type": "stream",
     "text": [
      "/srv/jaybie/archive/spatial-privacy-master/nn_matchers.py:690: FutureWarning: in the future insert will treat boolean arrays and array-likes as a boolean index instead of casting it to integer\n",
      "  if i_o != np.argmax(weighted_scores): #!= i_o:\n"
     ]
    },
    {
     "name": "stdout",
     "output_type": "stream",
     "text": [
      "   1.0 : Done with 728, in 11.616 seconds. Error rate 0.853\n",
      "   (89, 7) (89, 7, 2) (89, 7, 2) in 0.163 seconds\n"
     ]
    },
    {
     "name": "stderr",
     "output_type": "stream",
     "text": [
      "/srv/jaybie/archive/spatial-privacy-master/nn_matchers.py:690: FutureWarning: in the future insert will treat boolean arrays and array-likes as a boolean index instead of casting it to integer\n",
      "  if i_o != np.argmax(weighted_scores): #!= i_o:\n"
     ]
    },
    {
     "name": "stdout",
     "output_type": "stream",
     "text": [
      "   1.0 : Done with 794, in 11.184 seconds. Error rate 0.848\n",
      "   (93, 7) (93, 7, 2) (93, 7, 2) in 0.203 seconds\n"
     ]
    },
    {
     "name": "stderr",
     "output_type": "stream",
     "text": [
      "/srv/jaybie/archive/spatial-privacy-master/nn_matchers.py:690: FutureWarning: in the future insert will treat boolean arrays and array-likes as a boolean index instead of casting it to integer\n",
      "  if i_o != np.argmax(weighted_scores): #!= i_o:\n"
     ]
    },
    {
     "name": "stdout",
     "output_type": "stream",
     "text": [
      "   1.0 : Done with 860, in 11.603 seconds. Error rate 0.840\n",
      "   (61, 7) (61, 7, 2) (61, 7, 2) in 0.108 seconds\n"
     ]
    },
    {
     "name": "stderr",
     "output_type": "stream",
     "text": [
      "/srv/jaybie/archive/spatial-privacy-master/nn_matchers.py:690: FutureWarning: in the future insert will treat boolean arrays and array-likes as a boolean index instead of casting it to integer\n",
      "  if i_o != np.argmax(weighted_scores): #!= i_o:\n"
     ]
    },
    {
     "name": "stdout",
     "output_type": "stream",
     "text": [
      "   1.0 : Done with 926, in 11.699 seconds. Error rate 0.835\n",
      "   (96, 7) (96, 7, 2) (96, 7, 2) in 0.206 seconds\n"
     ]
    },
    {
     "name": "stderr",
     "output_type": "stream",
     "text": [
      "/srv/jaybie/archive/spatial-privacy-master/nn_matchers.py:690: FutureWarning: in the future insert will treat boolean arrays and array-likes as a boolean index instead of casting it to integer\n",
      "  if i_o != np.argmax(weighted_scores): #!= i_o:\n"
     ]
    },
    {
     "name": "stdout",
     "output_type": "stream",
     "text": [
      "   1.0 : Done with 992, in 11.451 seconds. Error rate 0.832\n",
      "   (54, 7) (54, 7, 2) (54, 7, 2) in 0.100 seconds\n",
      "1.0  Total Time to match 218.461 seconds.\n",
      "radius = 1.25\n",
      "   1.25 : Done with 2, in 0.442 seconds. Error rate 1.000\n",
      "   (126, 7) (126, 7, 2) (126, 7, 2) in 0.207 seconds\n"
     ]
    },
    {
     "name": "stderr",
     "output_type": "stream",
     "text": [
      "/srv/jaybie/archive/spatial-privacy-master/nn_matchers.py:690: FutureWarning: in the future insert will treat boolean arrays and array-likes as a boolean index instead of casting it to integer\n",
      "  if i_o != np.argmax(weighted_scores): #!= i_o:\n"
     ]
    },
    {
     "name": "stdout",
     "output_type": "stream",
     "text": [
      "   1.25 : Done with 68, in 14.960 seconds. Error rate 0.735\n",
      "   (87, 7) (87, 7, 2) (87, 7, 2) in 0.143 seconds\n"
     ]
    },
    {
     "name": "stderr",
     "output_type": "stream",
     "text": [
      "/srv/jaybie/archive/spatial-privacy-master/nn_matchers.py:690: FutureWarning: in the future insert will treat boolean arrays and array-likes as a boolean index instead of casting it to integer\n",
      "  if i_o != np.argmax(weighted_scores): #!= i_o:\n"
     ]
    },
    {
     "name": "stdout",
     "output_type": "stream",
     "text": [
      "   1.25 : Done with 134, in 16.720 seconds. Error rate 0.769\n",
      "   (158, 7) (158, 7, 2) (158, 7, 2) in 0.439 seconds\n"
     ]
    },
    {
     "name": "stderr",
     "output_type": "stream",
     "text": [
      "/srv/jaybie/archive/spatial-privacy-master/nn_matchers.py:690: FutureWarning: in the future insert will treat boolean arrays and array-likes as a boolean index instead of casting it to integer\n",
      "  if i_o != np.argmax(weighted_scores): #!= i_o:\n"
     ]
    },
    {
     "name": "stdout",
     "output_type": "stream",
     "text": [
      "   1.25 : Done with 200, in 16.380 seconds. Error rate 0.785\n",
      "   (170, 7) (170, 7, 2) (170, 7, 2) in 0.377 seconds\n"
     ]
    },
    {
     "name": "stderr",
     "output_type": "stream",
     "text": [
      "/srv/jaybie/archive/spatial-privacy-master/nn_matchers.py:690: FutureWarning: in the future insert will treat boolean arrays and array-likes as a boolean index instead of casting it to integer\n",
      "  if i_o != np.argmax(weighted_scores): #!= i_o:\n"
     ]
    },
    {
     "name": "stdout",
     "output_type": "stream",
     "text": [
      "   1.25 : Done with 266, in 16.422 seconds. Error rate 0.782\n",
      "   (169, 7) (169, 7, 2) (169, 7, 2) in 0.333 seconds\n"
     ]
    },
    {
     "name": "stderr",
     "output_type": "stream",
     "text": [
      "/srv/jaybie/archive/spatial-privacy-master/nn_matchers.py:690: FutureWarning: in the future insert will treat boolean arrays and array-likes as a boolean index instead of casting it to integer\n",
      "  if i_o != np.argmax(weighted_scores): #!= i_o:\n"
     ]
    },
    {
     "name": "stdout",
     "output_type": "stream",
     "text": [
      "   1.25 : Done with 332, in 16.585 seconds. Error rate 0.786\n",
      "   (126, 7) (126, 7, 2) (126, 7, 2) in 0.236 seconds\n"
     ]
    },
    {
     "name": "stderr",
     "output_type": "stream",
     "text": [
      "/srv/jaybie/archive/spatial-privacy-master/nn_matchers.py:690: FutureWarning: in the future insert will treat boolean arrays and array-likes as a boolean index instead of casting it to integer\n",
      "  if i_o != np.argmax(weighted_scores): #!= i_o:\n"
     ]
    },
    {
     "name": "stdout",
     "output_type": "stream",
     "text": [
      "   1.25 : Done with 398, in 16.451 seconds. Error rate 0.794\n",
      "   (111, 7) (111, 7, 2) (111, 7, 2) in 0.217 seconds\n"
     ]
    },
    {
     "name": "stderr",
     "output_type": "stream",
     "text": [
      "/srv/jaybie/archive/spatial-privacy-master/nn_matchers.py:690: FutureWarning: in the future insert will treat boolean arrays and array-likes as a boolean index instead of casting it to integer\n",
      "  if i_o != np.argmax(weighted_scores): #!= i_o:\n"
     ]
    },
    {
     "name": "stdout",
     "output_type": "stream",
     "text": [
      "   1.25 : Done with 464, in 18.089 seconds. Error rate 0.795\n",
      "   (122, 7) (122, 7, 2) (122, 7, 2) in 0.230 seconds\n"
     ]
    },
    {
     "name": "stderr",
     "output_type": "stream",
     "text": [
      "/srv/jaybie/archive/spatial-privacy-master/nn_matchers.py:690: FutureWarning: in the future insert will treat boolean arrays and array-likes as a boolean index instead of casting it to integer\n",
      "  if i_o != np.argmax(weighted_scores): #!= i_o:\n"
     ]
    },
    {
     "name": "stdout",
     "output_type": "stream",
     "text": [
      "   1.25 : Done with 530, in 18.466 seconds. Error rate 0.791\n",
      "   (123, 7) (123, 7, 2) (123, 7, 2) in 0.208 seconds\n"
     ]
    },
    {
     "name": "stderr",
     "output_type": "stream",
     "text": [
      "/srv/jaybie/archive/spatial-privacy-master/nn_matchers.py:690: FutureWarning: in the future insert will treat boolean arrays and array-likes as a boolean index instead of casting it to integer\n",
      "  if i_o != np.argmax(weighted_scores): #!= i_o:\n"
     ]
    },
    {
     "name": "stdout",
     "output_type": "stream",
     "text": [
      "   1.25 : Done with 596, in 17.067 seconds. Error rate 0.795\n",
      "   (116, 7) (116, 7, 2) (116, 7, 2) in 0.182 seconds\n"
     ]
    },
    {
     "name": "stderr",
     "output_type": "stream",
     "text": [
      "/srv/jaybie/archive/spatial-privacy-master/nn_matchers.py:690: FutureWarning: in the future insert will treat boolean arrays and array-likes as a boolean index instead of casting it to integer\n",
      "  if i_o != np.argmax(weighted_scores): #!= i_o:\n"
     ]
    },
    {
     "name": "stdout",
     "output_type": "stream",
     "text": [
      "   1.25 : Done with 662, in 17.297 seconds. Error rate 0.804\n",
      "   (139, 7) (139, 7, 2) (139, 7, 2) in 0.246 seconds\n"
     ]
    },
    {
     "name": "stderr",
     "output_type": "stream",
     "text": [
      "/srv/jaybie/archive/spatial-privacy-master/nn_matchers.py:690: FutureWarning: in the future insert will treat boolean arrays and array-likes as a boolean index instead of casting it to integer\n",
      "  if i_o != np.argmax(weighted_scores): #!= i_o:\n"
     ]
    },
    {
     "name": "stdout",
     "output_type": "stream",
     "text": [
      "   1.25 : Done with 728, in 17.850 seconds. Error rate 0.806\n",
      "   (132, 7) (132, 7, 2) (132, 7, 2) in 0.229 seconds\n"
     ]
    },
    {
     "name": "stderr",
     "output_type": "stream",
     "text": [
      "/srv/jaybie/archive/spatial-privacy-master/nn_matchers.py:690: FutureWarning: in the future insert will treat boolean arrays and array-likes as a boolean index instead of casting it to integer\n",
      "  if i_o != np.argmax(weighted_scores): #!= i_o:\n"
     ]
    },
    {
     "name": "stdout",
     "output_type": "stream",
     "text": [
      "   1.25 : Done with 794, in 17.606 seconds. Error rate 0.802\n",
      "   (137, 7) (137, 7, 2) (137, 7, 2) in 0.328 seconds\n"
     ]
    },
    {
     "name": "stderr",
     "output_type": "stream",
     "text": [
      "/srv/jaybie/archive/spatial-privacy-master/nn_matchers.py:690: FutureWarning: in the future insert will treat boolean arrays and array-likes as a boolean index instead of casting it to integer\n",
      "  if i_o != np.argmax(weighted_scores): #!= i_o:\n"
     ]
    },
    {
     "name": "stdout",
     "output_type": "stream",
     "text": [
      "   1.25 : Done with 860, in 18.029 seconds. Error rate 0.800\n",
      "   (80, 7) (80, 7, 2) (80, 7, 2) in 0.141 seconds\n"
     ]
    },
    {
     "name": "stderr",
     "output_type": "stream",
     "text": [
      "/srv/jaybie/archive/spatial-privacy-master/nn_matchers.py:690: FutureWarning: in the future insert will treat boolean arrays and array-likes as a boolean index instead of casting it to integer\n",
      "  if i_o != np.argmax(weighted_scores): #!= i_o:\n"
     ]
    },
    {
     "name": "stdout",
     "output_type": "stream",
     "text": [
      "   1.25 : Done with 926, in 18.263 seconds. Error rate 0.800\n",
      "   (129, 7) (129, 7, 2) (129, 7, 2) in 0.283 seconds\n"
     ]
    },
    {
     "name": "stderr",
     "output_type": "stream",
     "text": [
      "/srv/jaybie/archive/spatial-privacy-master/nn_matchers.py:690: FutureWarning: in the future insert will treat boolean arrays and array-likes as a boolean index instead of casting it to integer\n",
      "  if i_o != np.argmax(weighted_scores): #!= i_o:\n"
     ]
    },
    {
     "name": "stdout",
     "output_type": "stream",
     "text": [
      "   1.25 : Done with 992, in 16.893 seconds. Error rate 0.799\n",
      "   (74, 7) (74, 7, 2) (74, 7, 2) in 0.124 seconds\n",
      "1.25  Total Time to match 324.191 seconds.\n",
      "radius = 1.5\n",
      "   1.5 : Done with 2, in 0.722 seconds. Error rate 1.000\n",
      "   (192, 7) (192, 7, 2) (192, 7, 2) in 0.374 seconds\n"
     ]
    },
    {
     "name": "stderr",
     "output_type": "stream",
     "text": [
      "/srv/jaybie/archive/spatial-privacy-master/nn_matchers.py:690: FutureWarning: in the future insert will treat boolean arrays and array-likes as a boolean index instead of casting it to integer\n",
      "  if i_o != np.argmax(weighted_scores): #!= i_o:\n"
     ]
    },
    {
     "name": "stdout",
     "output_type": "stream",
     "text": [
      "   1.5 : Done with 68, in 22.930 seconds. Error rate 0.735\n",
      "   (119, 7) (119, 7, 2) (119, 7, 2) in 0.206 seconds\n"
     ]
    },
    {
     "name": "stderr",
     "output_type": "stream",
     "text": [
      "/srv/jaybie/archive/spatial-privacy-master/nn_matchers.py:690: FutureWarning: in the future insert will treat boolean arrays and array-likes as a boolean index instead of casting it to integer\n",
      "  if i_o != np.argmax(weighted_scores): #!= i_o:\n"
     ]
    },
    {
     "name": "stdout",
     "output_type": "stream",
     "text": [
      "   1.5 : Done with 134, in 25.648 seconds. Error rate 0.761\n",
      "   (192, 7) (192, 7, 2) (192, 7, 2) in 0.640 seconds\n"
     ]
    },
    {
     "name": "stderr",
     "output_type": "stream",
     "text": [
      "/srv/jaybie/archive/spatial-privacy-master/nn_matchers.py:690: FutureWarning: in the future insert will treat boolean arrays and array-likes as a boolean index instead of casting it to integer\n",
      "  if i_o != np.argmax(weighted_scores): #!= i_o:\n"
     ]
    },
    {
     "name": "stdout",
     "output_type": "stream",
     "text": [
      "   1.5 : Done with 200, in 25.734 seconds. Error rate 0.790\n",
      "   (196, 7) (196, 7, 2) (196, 7, 2) in 0.548 seconds\n"
     ]
    },
    {
     "name": "stderr",
     "output_type": "stream",
     "text": [
      "/srv/jaybie/archive/spatial-privacy-master/nn_matchers.py:690: FutureWarning: in the future insert will treat boolean arrays and array-likes as a boolean index instead of casting it to integer\n",
      "  if i_o != np.argmax(weighted_scores): #!= i_o:\n"
     ]
    },
    {
     "name": "stdout",
     "output_type": "stream",
     "text": [
      "   1.5 : Done with 266, in 26.188 seconds. Error rate 0.801\n",
      "   (234, 7) (234, 7, 2) (234, 7, 2) in 0.549 seconds\n"
     ]
    },
    {
     "name": "stderr",
     "output_type": "stream",
     "text": [
      "/srv/jaybie/archive/spatial-privacy-master/nn_matchers.py:690: FutureWarning: in the future insert will treat boolean arrays and array-likes as a boolean index instead of casting it to integer\n",
      "  if i_o != np.argmax(weighted_scores): #!= i_o:\n"
     ]
    },
    {
     "name": "stdout",
     "output_type": "stream",
     "text": [
      "   1.5 : Done with 332, in 26.122 seconds. Error rate 0.810\n",
      "   (165, 7) (165, 7, 2) (165, 7, 2) in 0.360 seconds\n"
     ]
    },
    {
     "name": "stderr",
     "output_type": "stream",
     "text": [
      "/srv/jaybie/archive/spatial-privacy-master/nn_matchers.py:690: FutureWarning: in the future insert will treat boolean arrays and array-likes as a boolean index instead of casting it to integer\n",
      "  if i_o != np.argmax(weighted_scores): #!= i_o:\n"
     ]
    },
    {
     "name": "stdout",
     "output_type": "stream",
     "text": [
      "   1.5 : Done with 398, in 24.785 seconds. Error rate 0.812\n",
      "   (149, 7) (149, 7, 2) (149, 7, 2) in 0.349 seconds\n"
     ]
    },
    {
     "name": "stderr",
     "output_type": "stream",
     "text": [
      "/srv/jaybie/archive/spatial-privacy-master/nn_matchers.py:690: FutureWarning: in the future insert will treat boolean arrays and array-likes as a boolean index instead of casting it to integer\n",
      "  if i_o != np.argmax(weighted_scores): #!= i_o:\n"
     ]
    },
    {
     "name": "stdout",
     "output_type": "stream",
     "text": [
      "   1.5 : Done with 464, in 27.360 seconds. Error rate 0.800\n",
      "   (194, 7) (194, 7, 2) (194, 7, 2) in 0.390 seconds\n"
     ]
    },
    {
     "name": "stderr",
     "output_type": "stream",
     "text": [
      "/srv/jaybie/archive/spatial-privacy-master/nn_matchers.py:690: FutureWarning: in the future insert will treat boolean arrays and array-likes as a boolean index instead of casting it to integer\n",
      "  if i_o != np.argmax(weighted_scores): #!= i_o:\n"
     ]
    },
    {
     "name": "stdout",
     "output_type": "stream",
     "text": [
      "   1.5 : Done with 530, in 28.846 seconds. Error rate 0.796\n",
      "   (167, 7) (167, 7, 2) (167, 7, 2) in 0.314 seconds\n"
     ]
    },
    {
     "name": "stderr",
     "output_type": "stream",
     "text": [
      "/srv/jaybie/archive/spatial-privacy-master/nn_matchers.py:690: FutureWarning: in the future insert will treat boolean arrays and array-likes as a boolean index instead of casting it to integer\n",
      "  if i_o != np.argmax(weighted_scores): #!= i_o:\n"
     ]
    },
    {
     "name": "stdout",
     "output_type": "stream",
     "text": [
      "   1.5 : Done with 596, in 27.261 seconds. Error rate 0.792\n",
      "   (148, 7) (148, 7, 2) (148, 7, 2) in 0.274 seconds\n"
     ]
    },
    {
     "name": "stderr",
     "output_type": "stream",
     "text": [
      "/srv/jaybie/archive/spatial-privacy-master/nn_matchers.py:690: FutureWarning: in the future insert will treat boolean arrays and array-likes as a boolean index instead of casting it to integer\n",
      "  if i_o != np.argmax(weighted_scores): #!= i_o:\n"
     ]
    },
    {
     "name": "stdout",
     "output_type": "stream",
     "text": [
      "   1.5 : Done with 662, in 26.868 seconds. Error rate 0.796\n",
      "   (178, 7) (178, 7, 2) (178, 7, 2) in 0.369 seconds\n"
     ]
    },
    {
     "name": "stderr",
     "output_type": "stream",
     "text": [
      "/srv/jaybie/archive/spatial-privacy-master/nn_matchers.py:690: FutureWarning: in the future insert will treat boolean arrays and array-likes as a boolean index instead of casting it to integer\n",
      "  if i_o != np.argmax(weighted_scores): #!= i_o:\n",
      "/home/jaybie/.conda/envs/3d_env/lib/python3.7/site-packages/ipykernel_launcher.py:68: RuntimeWarning: Mean of empty slice\n"
     ]
    },
    {
     "name": "stdout",
     "output_type": "stream",
     "text": [
      "   1.5 : Done with 728, in 25.851 seconds. Error rate 0.798\n",
      "   (155, 7) (155, 7, 2) (155, 7, 2) in 0.302 seconds\n"
     ]
    },
    {
     "name": "stderr",
     "output_type": "stream",
     "text": [
      "/srv/jaybie/archive/spatial-privacy-master/nn_matchers.py:690: FutureWarning: in the future insert will treat boolean arrays and array-likes as a boolean index instead of casting it to integer\n",
      "  if i_o != np.argmax(weighted_scores): #!= i_o:\n",
      "/home/jaybie/.conda/envs/3d_env/lib/python3.7/site-packages/ipykernel_launcher.py:68: RuntimeWarning: Mean of empty slice\n"
     ]
    },
    {
     "name": "stdout",
     "output_type": "stream",
     "text": [
      "   1.5 : Done with 794, in 26.117 seconds. Error rate 0.793\n",
      "   (200, 7) (200, 7, 2) (200, 7, 2) in 0.546 seconds\n"
     ]
    },
    {
     "name": "stderr",
     "output_type": "stream",
     "text": [
      "/srv/jaybie/archive/spatial-privacy-master/nn_matchers.py:690: FutureWarning: in the future insert will treat boolean arrays and array-likes as a boolean index instead of casting it to integer\n",
      "  if i_o != np.argmax(weighted_scores): #!= i_o:\n",
      "/home/jaybie/.conda/envs/3d_env/lib/python3.7/site-packages/ipykernel_launcher.py:68: RuntimeWarning: Mean of empty slice\n"
     ]
    },
    {
     "name": "stdout",
     "output_type": "stream",
     "text": [
      "   1.5 : Done with 860, in 27.149 seconds. Error rate 0.780\n",
      "   (107, 7) (107, 7, 2) (107, 7, 2) in 0.215 seconds\n"
     ]
    },
    {
     "name": "stderr",
     "output_type": "stream",
     "text": [
      "/srv/jaybie/archive/spatial-privacy-master/nn_matchers.py:690: FutureWarning: in the future insert will treat boolean arrays and array-likes as a boolean index instead of casting it to integer\n",
      "  if i_o != np.argmax(weighted_scores): #!= i_o:\n",
      "/home/jaybie/.conda/envs/3d_env/lib/python3.7/site-packages/ipykernel_launcher.py:68: RuntimeWarning: Mean of empty slice\n"
     ]
    },
    {
     "name": "stdout",
     "output_type": "stream",
     "text": [
      "   1.5 : Done with 926, in 27.159 seconds. Error rate 0.779\n",
      "   (233, 7) (233, 7, 2) (233, 7, 2) in 0.521 seconds\n"
     ]
    },
    {
     "name": "stderr",
     "output_type": "stream",
     "text": [
      "/srv/jaybie/archive/spatial-privacy-master/nn_matchers.py:690: FutureWarning: in the future insert will treat boolean arrays and array-likes as a boolean index instead of casting it to integer\n",
      "  if i_o != np.argmax(weighted_scores): #!= i_o:\n",
      "/home/jaybie/.conda/envs/3d_env/lib/python3.7/site-packages/ipykernel_launcher.py:68: RuntimeWarning: Mean of empty slice\n"
     ]
    },
    {
     "name": "stdout",
     "output_type": "stream",
     "text": [
      "   1.5 : Done with 992, in 25.273 seconds. Error rate 0.775\n",
      "   (101, 7) (101, 7, 2) (101, 7, 2) in 0.168 seconds\n",
      "1.5  Total Time to match 484.518 seconds.\n",
      "radius = 1.75\n",
      "   1.75 : Done with 2, in 0.942 seconds. Error rate 1.000\n",
      "   (234, 7) (234, 7, 2) (234, 7, 2) in 0.512 seconds\n"
     ]
    },
    {
     "name": "stderr",
     "output_type": "stream",
     "text": [
      "/srv/jaybie/archive/spatial-privacy-master/nn_matchers.py:690: FutureWarning: in the future insert will treat boolean arrays and array-likes as a boolean index instead of casting it to integer\n",
      "  if i_o != np.argmax(weighted_scores): #!= i_o:\n"
     ]
    },
    {
     "name": "stdout",
     "output_type": "stream",
     "text": [
      "   1.75 : Done with 68, in 32.670 seconds. Error rate 0.794\n",
      "   (153, 7) (153, 7, 2) (153, 7, 2) in 0.263 seconds\n"
     ]
    },
    {
     "name": "stderr",
     "output_type": "stream",
     "text": [
      "/srv/jaybie/archive/spatial-privacy-master/nn_matchers.py:690: FutureWarning: in the future insert will treat boolean arrays and array-likes as a boolean index instead of casting it to integer\n",
      "  if i_o != np.argmax(weighted_scores): #!= i_o:\n"
     ]
    },
    {
     "name": "stdout",
     "output_type": "stream",
     "text": [
      "   1.75 : Done with 134, in 37.220 seconds. Error rate 0.724\n",
      "   (244, 7) (244, 7, 2) (244, 7, 2) in 0.932 seconds\n"
     ]
    },
    {
     "name": "stderr",
     "output_type": "stream",
     "text": [
      "/srv/jaybie/archive/spatial-privacy-master/nn_matchers.py:690: FutureWarning: in the future insert will treat boolean arrays and array-likes as a boolean index instead of casting it to integer\n",
      "  if i_o != np.argmax(weighted_scores): #!= i_o:\n"
     ]
    },
    {
     "name": "stdout",
     "output_type": "stream",
     "text": [
      "   1.75 : Done with 200, in 37.422 seconds. Error rate 0.760\n",
      "   (342, 7) (342, 7, 2) (342, 7, 2) in 1.049 seconds\n"
     ]
    },
    {
     "name": "stderr",
     "output_type": "stream",
     "text": [
      "/srv/jaybie/archive/spatial-privacy-master/nn_matchers.py:690: FutureWarning: in the future insert will treat boolean arrays and array-likes as a boolean index instead of casting it to integer\n",
      "  if i_o != np.argmax(weighted_scores): #!= i_o:\n"
     ]
    },
    {
     "name": "stdout",
     "output_type": "stream",
     "text": [
      "   1.75 : Done with 266, in 37.371 seconds. Error rate 0.756\n",
      "   (228, 7) (228, 7, 2) (228, 7, 2) in 0.591 seconds\n"
     ]
    },
    {
     "name": "stderr",
     "output_type": "stream",
     "text": [
      "/srv/jaybie/archive/spatial-privacy-master/nn_matchers.py:690: FutureWarning: in the future insert will treat boolean arrays and array-likes as a boolean index instead of casting it to integer\n",
      "  if i_o != np.argmax(weighted_scores): #!= i_o:\n"
     ]
    },
    {
     "name": "stdout",
     "output_type": "stream",
     "text": [
      "   1.75 : Done with 332, in 35.614 seconds. Error rate 0.765\n",
      "   (207, 7) (207, 7, 2) (207, 7, 2) in 0.471 seconds\n"
     ]
    },
    {
     "name": "stderr",
     "output_type": "stream",
     "text": [
      "/srv/jaybie/archive/spatial-privacy-master/nn_matchers.py:690: FutureWarning: in the future insert will treat boolean arrays and array-likes as a boolean index instead of casting it to integer\n",
      "  if i_o != np.argmax(weighted_scores): #!= i_o:\n"
     ]
    },
    {
     "name": "stdout",
     "output_type": "stream",
     "text": [
      "   1.75 : Done with 398, in 34.365 seconds. Error rate 0.774\n",
      "   (194, 7) (194, 7, 2) (194, 7, 2) in 0.491 seconds\n"
     ]
    },
    {
     "name": "stderr",
     "output_type": "stream",
     "text": [
      "/srv/jaybie/archive/spatial-privacy-master/nn_matchers.py:690: FutureWarning: in the future insert will treat boolean arrays and array-likes as a boolean index instead of casting it to integer\n",
      "  if i_o != np.argmax(weighted_scores): #!= i_o:\n"
     ]
    },
    {
     "name": "stdout",
     "output_type": "stream",
     "text": [
      "   1.75 : Done with 464, in 38.093 seconds. Error rate 0.767\n",
      "   (201, 7) (201, 7, 2) (201, 7, 2) in 0.415 seconds\n"
     ]
    },
    {
     "name": "stderr",
     "output_type": "stream",
     "text": [
      "/srv/jaybie/archive/spatial-privacy-master/nn_matchers.py:690: FutureWarning: in the future insert will treat boolean arrays and array-likes as a boolean index instead of casting it to integer\n",
      "  if i_o != np.argmax(weighted_scores): #!= i_o:\n"
     ]
    },
    {
     "name": "stdout",
     "output_type": "stream",
     "text": [
      "   1.75 : Done with 530, in 40.084 seconds. Error rate 0.757\n",
      "   (246, 7) (246, 7, 2) (246, 7, 2) in 0.447 seconds\n"
     ]
    },
    {
     "name": "stderr",
     "output_type": "stream",
     "text": [
      "/srv/jaybie/archive/spatial-privacy-master/nn_matchers.py:690: FutureWarning: in the future insert will treat boolean arrays and array-likes as a boolean index instead of casting it to integer\n",
      "  if i_o != np.argmax(weighted_scores): #!= i_o:\n"
     ]
    },
    {
     "name": "stdout",
     "output_type": "stream",
     "text": [
      "   1.75 : Done with 596, in 37.479 seconds. Error rate 0.758\n",
      "   (151, 7) (151, 7, 2) (151, 7, 2) in 0.284 seconds\n"
     ]
    },
    {
     "name": "stderr",
     "output_type": "stream",
     "text": [
      "/srv/jaybie/archive/spatial-privacy-master/nn_matchers.py:690: FutureWarning: in the future insert will treat boolean arrays and array-likes as a boolean index instead of casting it to integer\n",
      "  if i_o != np.argmax(weighted_scores): #!= i_o:\n"
     ]
    },
    {
     "name": "stdout",
     "output_type": "stream",
     "text": [
      "   1.75 : Done with 662, in 36.048 seconds. Error rate 0.752\n",
      "   (236, 7) (236, 7, 2) (236, 7, 2) in 0.502 seconds\n"
     ]
    },
    {
     "name": "stderr",
     "output_type": "stream",
     "text": [
      "/srv/jaybie/archive/spatial-privacy-master/nn_matchers.py:690: FutureWarning: in the future insert will treat boolean arrays and array-likes as a boolean index instead of casting it to integer\n",
      "  if i_o != np.argmax(weighted_scores): #!= i_o:\n"
     ]
    },
    {
     "name": "stdout",
     "output_type": "stream",
     "text": [
      "   1.75 : Done with 728, in 36.008 seconds. Error rate 0.749\n",
      "   (184, 7) (184, 7, 2) (184, 7, 2) in 0.365 seconds\n"
     ]
    },
    {
     "name": "stderr",
     "output_type": "stream",
     "text": [
      "/srv/jaybie/archive/spatial-privacy-master/nn_matchers.py:690: FutureWarning: in the future insert will treat boolean arrays and array-likes as a boolean index instead of casting it to integer\n",
      "  if i_o != np.argmax(weighted_scores): #!= i_o:\n"
     ]
    },
    {
     "name": "stdout",
     "output_type": "stream",
     "text": [
      "   1.75 : Done with 794, in 35.678 seconds. Error rate 0.743\n",
      "   (265, 7) (265, 7, 2) (265, 7, 2) in 0.801 seconds\n"
     ]
    },
    {
     "name": "stderr",
     "output_type": "stream",
     "text": [
      "/srv/jaybie/archive/spatial-privacy-master/nn_matchers.py:690: FutureWarning: in the future insert will treat boolean arrays and array-likes as a boolean index instead of casting it to integer\n",
      "  if i_o != np.argmax(weighted_scores): #!= i_o:\n"
     ]
    },
    {
     "name": "stdout",
     "output_type": "stream",
     "text": [
      "   1.75 : Done with 860, in 36.626 seconds. Error rate 0.738\n",
      "   (144, 7) (144, 7, 2) (144, 7, 2) in 0.243 seconds\n"
     ]
    },
    {
     "name": "stderr",
     "output_type": "stream",
     "text": [
      "/srv/jaybie/archive/spatial-privacy-master/nn_matchers.py:690: FutureWarning: in the future insert will treat boolean arrays and array-likes as a boolean index instead of casting it to integer\n",
      "  if i_o != np.argmax(weighted_scores): #!= i_o:\n"
     ]
    },
    {
     "name": "stdout",
     "output_type": "stream",
     "text": [
      "   1.75 : Done with 926, in 36.839 seconds. Error rate 0.742\n",
      "   (273, 7) (273, 7, 2) (273, 7, 2) in 0.643 seconds\n"
     ]
    },
    {
     "name": "stderr",
     "output_type": "stream",
     "text": [
      "/srv/jaybie/archive/spatial-privacy-master/nn_matchers.py:690: FutureWarning: in the future insert will treat boolean arrays and array-likes as a boolean index instead of casting it to integer\n",
      "  if i_o != np.argmax(weighted_scores): #!= i_o:\n"
     ]
    },
    {
     "name": "stdout",
     "output_type": "stream",
     "text": [
      "   1.75 : Done with 992, in 33.007 seconds. Error rate 0.745\n",
      "   (156, 7) (156, 7, 2) (156, 7, 2) in 0.246 seconds\n",
      "1.75  Total Time to match 661.693 seconds.\n",
      "radius = 2.0\n",
      "   2.0 : Done with 2, in 1.189 seconds. Error rate 1.000\n",
      "   (323, 7) (323, 7, 2) (323, 7, 2) in 0.751 seconds\n"
     ]
    },
    {
     "name": "stderr",
     "output_type": "stream",
     "text": [
      "/srv/jaybie/archive/spatial-privacy-master/nn_matchers.py:690: FutureWarning: in the future insert will treat boolean arrays and array-likes as a boolean index instead of casting it to integer\n",
      "  if i_o != np.argmax(weighted_scores): #!= i_o:\n"
     ]
    },
    {
     "name": "stdout",
     "output_type": "stream",
     "text": [
      "   2.0 : Done with 68, in 42.972 seconds. Error rate 0.706\n",
      "   (193, 7) (193, 7, 2) (193, 7, 2) in 0.333 seconds\n"
     ]
    },
    {
     "name": "stderr",
     "output_type": "stream",
     "text": [
      "/srv/jaybie/archive/spatial-privacy-master/nn_matchers.py:690: FutureWarning: in the future insert will treat boolean arrays and array-likes as a boolean index instead of casting it to integer\n",
      "  if i_o != np.argmax(weighted_scores): #!= i_o:\n"
     ]
    },
    {
     "name": "stdout",
     "output_type": "stream",
     "text": [
      "   2.0 : Done with 134, in 48.182 seconds. Error rate 0.731\n",
      "   (284, 7) (284, 7, 2) (284, 7, 2) in 1.236 seconds\n"
     ]
    },
    {
     "name": "stderr",
     "output_type": "stream",
     "text": [
      "/srv/jaybie/archive/spatial-privacy-master/nn_matchers.py:690: FutureWarning: in the future insert will treat boolean arrays and array-likes as a boolean index instead of casting it to integer\n",
      "  if i_o != np.argmax(weighted_scores): #!= i_o:\n"
     ]
    },
    {
     "name": "stdout",
     "output_type": "stream",
     "text": [
      "   2.0 : Done with 200, in 48.093 seconds. Error rate 0.700\n",
      "   (345, 7) (345, 7, 2) (345, 7, 2) in 1.191 seconds\n"
     ]
    },
    {
     "name": "stderr",
     "output_type": "stream",
     "text": [
      "/srv/jaybie/archive/spatial-privacy-master/nn_matchers.py:690: FutureWarning: in the future insert will treat boolean arrays and array-likes as a boolean index instead of casting it to integer\n",
      "  if i_o != np.argmax(weighted_scores): #!= i_o:\n"
     ]
    },
    {
     "name": "stdout",
     "output_type": "stream",
     "text": [
      "   2.0 : Done with 266, in 50.454 seconds. Error rate 0.714\n",
      "   (331, 7) (331, 7, 2) (331, 7, 2) in 0.870 seconds\n"
     ]
    },
    {
     "name": "stderr",
     "output_type": "stream",
     "text": [
      "/srv/jaybie/archive/spatial-privacy-master/nn_matchers.py:690: FutureWarning: in the future insert will treat boolean arrays and array-likes as a boolean index instead of casting it to integer\n",
      "  if i_o != np.argmax(weighted_scores): #!= i_o:\n"
     ]
    },
    {
     "name": "stdout",
     "output_type": "stream",
     "text": [
      "   2.0 : Done with 332, in 48.463 seconds. Error rate 0.717\n",
      "   (252, 7) (252, 7, 2) (252, 7, 2) in 0.607 seconds\n"
     ]
    },
    {
     "name": "stderr",
     "output_type": "stream",
     "text": [
      "/srv/jaybie/archive/spatial-privacy-master/nn_matchers.py:690: FutureWarning: in the future insert will treat boolean arrays and array-likes as a boolean index instead of casting it to integer\n",
      "  if i_o != np.argmax(weighted_scores): #!= i_o:\n"
     ]
    },
    {
     "name": "stdout",
     "output_type": "stream",
     "text": [
      "   2.0 : Done with 398, in 47.264 seconds. Error rate 0.724\n",
      "   (242, 7) (242, 7, 2) (242, 7, 2) in 0.685 seconds\n"
     ]
    },
    {
     "name": "stderr",
     "output_type": "stream",
     "text": [
      "/srv/jaybie/archive/spatial-privacy-master/nn_matchers.py:690: FutureWarning: in the future insert will treat boolean arrays and array-likes as a boolean index instead of casting it to integer\n",
      "  if i_o != np.argmax(weighted_scores): #!= i_o:\n"
     ]
    },
    {
     "name": "stdout",
     "output_type": "stream",
     "text": [
      "   2.0 : Done with 464, in 54.486 seconds. Error rate 0.722\n",
      "   (209, 7) (209, 7, 2) (209, 7, 2) in 0.453 seconds\n"
     ]
    },
    {
     "name": "stderr",
     "output_type": "stream",
     "text": [
      "/srv/jaybie/archive/spatial-privacy-master/nn_matchers.py:690: FutureWarning: in the future insert will treat boolean arrays and array-likes as a boolean index instead of casting it to integer\n",
      "  if i_o != np.argmax(weighted_scores): #!= i_o:\n"
     ]
    },
    {
     "name": "stdout",
     "output_type": "stream",
     "text": [
      "   2.0 : Done with 530, in 57.287 seconds. Error rate 0.730\n",
      "   (234, 7) (234, 7, 2) (234, 7, 2) in 0.452 seconds\n"
     ]
    },
    {
     "name": "stderr",
     "output_type": "stream",
     "text": [
      "/srv/jaybie/archive/spatial-privacy-master/nn_matchers.py:690: FutureWarning: in the future insert will treat boolean arrays and array-likes as a boolean index instead of casting it to integer\n",
      "  if i_o != np.argmax(weighted_scores): #!= i_o:\n"
     ]
    },
    {
     "name": "stdout",
     "output_type": "stream",
     "text": [
      "   2.0 : Done with 596, in 52.986 seconds. Error rate 0.730\n",
      "   (200, 7) (200, 7, 2) (200, 7, 2) in 0.387 seconds\n"
     ]
    },
    {
     "name": "stderr",
     "output_type": "stream",
     "text": [
      "/srv/jaybie/archive/spatial-privacy-master/nn_matchers.py:690: FutureWarning: in the future insert will treat boolean arrays and array-likes as a boolean index instead of casting it to integer\n",
      "  if i_o != np.argmax(weighted_scores): #!= i_o:\n"
     ]
    },
    {
     "name": "stdout",
     "output_type": "stream",
     "text": [
      "   2.0 : Done with 662, in 50.263 seconds. Error rate 0.725\n",
      "   (295, 7) (295, 7, 2) (295, 7, 2) in 0.685 seconds\n"
     ]
    },
    {
     "name": "stderr",
     "output_type": "stream",
     "text": [
      "/srv/jaybie/archive/spatial-privacy-master/nn_matchers.py:690: FutureWarning: in the future insert will treat boolean arrays and array-likes as a boolean index instead of casting it to integer\n",
      "  if i_o != np.argmax(weighted_scores): #!= i_o:\n"
     ]
    },
    {
     "name": "stdout",
     "output_type": "stream",
     "text": [
      "   2.0 : Done with 728, in 48.801 seconds. Error rate 0.728\n",
      "   (234, 7) (234, 7, 2) (234, 7, 2) in 0.497 seconds\n"
     ]
    },
    {
     "name": "stderr",
     "output_type": "stream",
     "text": [
      "/srv/jaybie/archive/spatial-privacy-master/nn_matchers.py:690: FutureWarning: in the future insert will treat boolean arrays and array-likes as a boolean index instead of casting it to integer\n",
      "  if i_o != np.argmax(weighted_scores): #!= i_o:\n"
     ]
    },
    {
     "name": "stdout",
     "output_type": "stream",
     "text": [
      "   2.0 : Done with 794, in 51.894 seconds. Error rate 0.727\n",
      "   (338, 7) (338, 7, 2) (338, 7, 2) in 1.171 seconds\n"
     ]
    },
    {
     "name": "stderr",
     "output_type": "stream",
     "text": [
      "/srv/jaybie/archive/spatial-privacy-master/nn_matchers.py:690: FutureWarning: in the future insert will treat boolean arrays and array-likes as a boolean index instead of casting it to integer\n",
      "  if i_o != np.argmax(weighted_scores): #!= i_o:\n"
     ]
    },
    {
     "name": "stdout",
     "output_type": "stream",
     "text": [
      "   2.0 : Done with 860, in 54.134 seconds. Error rate 0.723\n",
      "   (151, 7) (151, 7, 2) (151, 7, 2) in 0.290 seconds\n"
     ]
    },
    {
     "name": "stderr",
     "output_type": "stream",
     "text": [
      "/srv/jaybie/archive/spatial-privacy-master/nn_matchers.py:690: FutureWarning: in the future insert will treat boolean arrays and array-likes as a boolean index instead of casting it to integer\n",
      "  if i_o != np.argmax(weighted_scores): #!= i_o:\n"
     ]
    },
    {
     "name": "stdout",
     "output_type": "stream",
     "text": [
      "   2.0 : Done with 926, in 51.597 seconds. Error rate 0.728\n",
      "   (370, 7) (370, 7, 2) (370, 7, 2) in 0.957 seconds\n"
     ]
    },
    {
     "name": "stderr",
     "output_type": "stream",
     "text": [
      "/srv/jaybie/archive/spatial-privacy-master/nn_matchers.py:690: FutureWarning: in the future insert will treat boolean arrays and array-likes as a boolean index instead of casting it to integer\n",
      "  if i_o != np.argmax(weighted_scores): #!= i_o:\n"
     ]
    },
    {
     "name": "stdout",
     "output_type": "stream",
     "text": [
      "   2.0 : Done with 992, in 46.937 seconds. Error rate 0.726\n",
      "   (199, 7) (199, 7, 2) (199, 7, 2) in 0.341 seconds\n",
      "2.0  Total Time to match 900.310 seconds.\n",
      "radius = 2.25\n",
      "   2.25 : Done with 2, in 1.608 seconds. Error rate 1.000\n",
      "   (393, 7) (393, 7, 2) (393, 7, 2) in 1.018 seconds\n"
     ]
    },
    {
     "name": "stderr",
     "output_type": "stream",
     "text": [
      "/srv/jaybie/archive/spatial-privacy-master/nn_matchers.py:690: FutureWarning: in the future insert will treat boolean arrays and array-likes as a boolean index instead of casting it to integer\n",
      "  if i_o != np.argmax(weighted_scores): #!= i_o:\n"
     ]
    },
    {
     "name": "stdout",
     "output_type": "stream",
     "text": [
      "   2.25 : Done with 68, in 59.083 seconds. Error rate 0.750\n",
      "   (257, 7) (257, 7, 2) (257, 7, 2) in 0.507 seconds\n"
     ]
    },
    {
     "name": "stderr",
     "output_type": "stream",
     "text": [
      "/srv/jaybie/archive/spatial-privacy-master/nn_matchers.py:690: FutureWarning: in the future insert will treat boolean arrays and array-likes as a boolean index instead of casting it to integer\n",
      "  if i_o != np.argmax(weighted_scores): #!= i_o:\n"
     ]
    },
    {
     "name": "stdout",
     "output_type": "stream",
     "text": [
      "   2.25 : Done with 134, in 63.643 seconds. Error rate 0.716\n",
      "   (457, 7) (457, 7, 2) (457, 7, 2) in 2.204 seconds\n"
     ]
    },
    {
     "name": "stderr",
     "output_type": "stream",
     "text": [
      "/srv/jaybie/archive/spatial-privacy-master/nn_matchers.py:690: FutureWarning: in the future insert will treat boolean arrays and array-likes as a boolean index instead of casting it to integer\n",
      "  if i_o != np.argmax(weighted_scores): #!= i_o:\n"
     ]
    },
    {
     "name": "stdout",
     "output_type": "stream",
     "text": [
      "   2.25 : Done with 200, in 65.105 seconds. Error rate 0.740\n",
      "   (432, 7) (432, 7, 2) (432, 7, 2) in 1.728 seconds\n"
     ]
    },
    {
     "name": "stderr",
     "output_type": "stream",
     "text": [
      "/srv/jaybie/archive/spatial-privacy-master/nn_matchers.py:690: FutureWarning: in the future insert will treat boolean arrays and array-likes as a boolean index instead of casting it to integer\n",
      "  if i_o != np.argmax(weighted_scores): #!= i_o:\n"
     ]
    },
    {
     "name": "stdout",
     "output_type": "stream",
     "text": [
      "   2.25 : Done with 266, in 66.529 seconds. Error rate 0.741\n",
      "   (338, 7) (338, 7, 2) (338, 7, 2) in 0.927 seconds\n"
     ]
    },
    {
     "name": "stderr",
     "output_type": "stream",
     "text": [
      "/srv/jaybie/archive/spatial-privacy-master/nn_matchers.py:690: FutureWarning: in the future insert will treat boolean arrays and array-likes as a boolean index instead of casting it to integer\n",
      "  if i_o != np.argmax(weighted_scores): #!= i_o:\n"
     ]
    },
    {
     "name": "stdout",
     "output_type": "stream",
     "text": [
      "   2.25 : Done with 332, in 65.484 seconds. Error rate 0.744\n",
      "   (254, 7) (254, 7, 2) (254, 7, 2) in 0.666 seconds\n"
     ]
    },
    {
     "name": "stderr",
     "output_type": "stream",
     "text": [
      "/srv/jaybie/archive/spatial-privacy-master/nn_matchers.py:690: FutureWarning: in the future insert will treat boolean arrays and array-likes as a boolean index instead of casting it to integer\n",
      "  if i_o != np.argmax(weighted_scores): #!= i_o:\n"
     ]
    },
    {
     "name": "stdout",
     "output_type": "stream",
     "text": [
      "   2.25 : Done with 398, in 63.237 seconds. Error rate 0.756\n",
      "   (304, 7) (304, 7, 2) (304, 7, 2) in 1.000 seconds\n"
     ]
    },
    {
     "name": "stderr",
     "output_type": "stream",
     "text": [
      "/srv/jaybie/archive/spatial-privacy-master/nn_matchers.py:690: FutureWarning: in the future insert will treat boolean arrays and array-likes as a boolean index instead of casting it to integer\n",
      "  if i_o != np.argmax(weighted_scores): #!= i_o:\n"
     ]
    },
    {
     "name": "stdout",
     "output_type": "stream",
     "text": [
      "   2.25 : Done with 464, in 73.664 seconds. Error rate 0.744\n",
      "   (230, 7) (230, 7, 2) (230, 7, 2) in 0.536 seconds\n"
     ]
    },
    {
     "name": "stderr",
     "output_type": "stream",
     "text": [
      "/srv/jaybie/archive/spatial-privacy-master/nn_matchers.py:690: FutureWarning: in the future insert will treat boolean arrays and array-likes as a boolean index instead of casting it to integer\n",
      "  if i_o != np.argmax(weighted_scores): #!= i_o:\n"
     ]
    },
    {
     "name": "stdout",
     "output_type": "stream",
     "text": [
      "   2.25 : Done with 530, in 77.642 seconds. Error rate 0.738\n",
      "   (344, 7) (344, 7, 2) (344, 7, 2) in 0.691 seconds\n"
     ]
    },
    {
     "name": "stderr",
     "output_type": "stream",
     "text": [
      "/srv/jaybie/archive/spatial-privacy-master/nn_matchers.py:690: FutureWarning: in the future insert will treat boolean arrays and array-likes as a boolean index instead of casting it to integer\n",
      "  if i_o != np.argmax(weighted_scores): #!= i_o:\n"
     ]
    },
    {
     "name": "stdout",
     "output_type": "stream",
     "text": [
      "   2.25 : Done with 596, in 77.498 seconds. Error rate 0.733\n",
      "   (219, 7) (219, 7, 2) (219, 7, 2) in 0.489 seconds\n"
     ]
    },
    {
     "name": "stderr",
     "output_type": "stream",
     "text": [
      "/srv/jaybie/archive/spatial-privacy-master/nn_matchers.py:690: FutureWarning: in the future insert will treat boolean arrays and array-likes as a boolean index instead of casting it to integer\n",
      "  if i_o != np.argmax(weighted_scores): #!= i_o:\n"
     ]
    },
    {
     "name": "stdout",
     "output_type": "stream",
     "text": [
      "   2.25 : Done with 662, in 65.648 seconds. Error rate 0.725\n",
      "   (326, 7) (326, 7, 2) (326, 7, 2) in 0.769 seconds\n"
     ]
    },
    {
     "name": "stderr",
     "output_type": "stream",
     "text": [
      "/srv/jaybie/archive/spatial-privacy-master/nn_matchers.py:690: FutureWarning: in the future insert will treat boolean arrays and array-likes as a boolean index instead of casting it to integer\n",
      "  if i_o != np.argmax(weighted_scores): #!= i_o:\n"
     ]
    },
    {
     "name": "stdout",
     "output_type": "stream",
     "text": [
      "   2.25 : Done with 728, in 65.306 seconds. Error rate 0.731\n",
      "   (279, 7) (279, 7, 2) (279, 7, 2) in 0.656 seconds\n"
     ]
    },
    {
     "name": "stderr",
     "output_type": "stream",
     "text": [
      "/srv/jaybie/archive/spatial-privacy-master/nn_matchers.py:690: FutureWarning: in the future insert will treat boolean arrays and array-likes as a boolean index instead of casting it to integer\n",
      "  if i_o != np.argmax(weighted_scores): #!= i_o:\n"
     ]
    },
    {
     "name": "stdout",
     "output_type": "stream",
     "text": [
      "   2.25 : Done with 794, in 70.466 seconds. Error rate 0.727\n",
      "   (584, 7) (584, 7, 2) (584, 7, 2) in 2.316 seconds\n"
     ]
    },
    {
     "name": "stderr",
     "output_type": "stream",
     "text": [
      "/srv/jaybie/archive/spatial-privacy-master/nn_matchers.py:690: FutureWarning: in the future insert will treat boolean arrays and array-likes as a boolean index instead of casting it to integer\n",
      "  if i_o != np.argmax(weighted_scores): #!= i_o:\n"
     ]
    },
    {
     "name": "stdout",
     "output_type": "stream",
     "text": [
      "   2.25 : Done with 860, in 69.549 seconds. Error rate 0.722\n",
      "   (200, 7) (200, 7, 2) (200, 7, 2) in 0.357 seconds\n"
     ]
    },
    {
     "name": "stderr",
     "output_type": "stream",
     "text": [
      "/srv/jaybie/archive/spatial-privacy-master/nn_matchers.py:690: FutureWarning: in the future insert will treat boolean arrays and array-likes as a boolean index instead of casting it to integer\n",
      "  if i_o != np.argmax(weighted_scores): #!= i_o:\n"
     ]
    },
    {
     "name": "stdout",
     "output_type": "stream",
     "text": [
      "   2.25 : Done with 926, in 68.889 seconds. Error rate 0.719\n",
      "   (437, 7) (437, 7, 2) (437, 7, 2) in 1.264 seconds\n"
     ]
    },
    {
     "name": "stderr",
     "output_type": "stream",
     "text": [
      "/srv/jaybie/archive/spatial-privacy-master/nn_matchers.py:690: FutureWarning: in the future insert will treat boolean arrays and array-likes as a boolean index instead of casting it to integer\n",
      "  if i_o != np.argmax(weighted_scores): #!= i_o:\n"
     ]
    },
    {
     "name": "stdout",
     "output_type": "stream",
     "text": [
      "   2.25 : Done with 992, in 63.927 seconds. Error rate 0.722\n",
      "   (242, 7) (242, 7, 2) (242, 7, 2) in 0.449 seconds\n",
      "2.25  Total Time to match 1194.683 seconds.\n",
      "radius = 2.5\n",
      "   2.5 : Done with 2, in 2.079 seconds. Error rate 1.000\n",
      "   (466, 7) (466, 7, 2) (466, 7, 2) in 1.315 seconds\n"
     ]
    },
    {
     "name": "stderr",
     "output_type": "stream",
     "text": [
      "/srv/jaybie/archive/spatial-privacy-master/nn_matchers.py:690: FutureWarning: in the future insert will treat boolean arrays and array-likes as a boolean index instead of casting it to integer\n",
      "  if i_o != np.argmax(weighted_scores): #!= i_o:\n"
     ]
    },
    {
     "name": "stdout",
     "output_type": "stream",
     "text": [
      "   2.5 : Done with 68, in 76.586 seconds. Error rate 0.706\n",
      "   (308, 7) (308, 7, 2) (308, 7, 2) in 0.669 seconds\n"
     ]
    },
    {
     "name": "stderr",
     "output_type": "stream",
     "text": [
      "/srv/jaybie/archive/spatial-privacy-master/nn_matchers.py:690: FutureWarning: in the future insert will treat boolean arrays and array-likes as a boolean index instead of casting it to integer\n",
      "  if i_o != np.argmax(weighted_scores): #!= i_o:\n"
     ]
    },
    {
     "name": "stdout",
     "output_type": "stream",
     "text": [
      "   2.5 : Done with 134, in 80.860 seconds. Error rate 0.679\n",
      "   (434, 7) (434, 7, 2) (434, 7, 2) in 2.544 seconds\n"
     ]
    },
    {
     "name": "stderr",
     "output_type": "stream",
     "text": [
      "/srv/jaybie/archive/spatial-privacy-master/nn_matchers.py:690: FutureWarning: in the future insert will treat boolean arrays and array-likes as a boolean index instead of casting it to integer\n",
      "  if i_o != np.argmax(weighted_scores): #!= i_o:\n"
     ]
    },
    {
     "name": "stdout",
     "output_type": "stream",
     "text": [
      "   2.5 : Done with 200, in 84.423 seconds. Error rate 0.695\n",
      "   (582, 7) (582, 7, 2) (582, 7, 2) in 2.638 seconds\n"
     ]
    },
    {
     "name": "stderr",
     "output_type": "stream",
     "text": [
      "/srv/jaybie/archive/spatial-privacy-master/nn_matchers.py:690: FutureWarning: in the future insert will treat boolean arrays and array-likes as a boolean index instead of casting it to integer\n",
      "  if i_o != np.argmax(weighted_scores): #!= i_o:\n"
     ]
    },
    {
     "name": "stdout",
     "output_type": "stream",
     "text": [
      "   2.5 : Done with 266, in 88.189 seconds. Error rate 0.699\n",
      "   (387, 7) (387, 7, 2) (387, 7, 2) in 1.116 seconds\n"
     ]
    },
    {
     "name": "stderr",
     "output_type": "stream",
     "text": [
      "/srv/jaybie/archive/spatial-privacy-master/nn_matchers.py:690: FutureWarning: in the future insert will treat boolean arrays and array-likes as a boolean index instead of casting it to integer\n",
      "  if i_o != np.argmax(weighted_scores): #!= i_o:\n"
     ]
    },
    {
     "name": "stdout",
     "output_type": "stream",
     "text": [
      "   2.5 : Done with 332, in 81.290 seconds. Error rate 0.720\n",
      "   (340, 7) (340, 7, 2) (340, 7, 2) in 0.897 seconds\n"
     ]
    },
    {
     "name": "stderr",
     "output_type": "stream",
     "text": [
      "/srv/jaybie/archive/spatial-privacy-master/nn_matchers.py:690: FutureWarning: in the future insert will treat boolean arrays and array-likes as a boolean index instead of casting it to integer\n",
      "  if i_o != np.argmax(weighted_scores): #!= i_o:\n"
     ]
    },
    {
     "name": "stdout",
     "output_type": "stream",
     "text": [
      "   2.5 : Done with 398, in 76.789 seconds. Error rate 0.719\n",
      "   (434, 7) (434, 7, 2) (434, 7, 2) in 1.502 seconds\n"
     ]
    },
    {
     "name": "stderr",
     "output_type": "stream",
     "text": [
      "/srv/jaybie/archive/spatial-privacy-master/nn_matchers.py:690: FutureWarning: in the future insert will treat boolean arrays and array-likes as a boolean index instead of casting it to integer\n",
      "  if i_o != np.argmax(weighted_scores): #!= i_o:\n"
     ]
    },
    {
     "name": "stdout",
     "output_type": "stream",
     "text": [
      "   2.5 : Done with 464, in 92.274 seconds. Error rate 0.718\n",
      "   (245, 7) (245, 7, 2) (245, 7, 2) in 0.555 seconds\n"
     ]
    },
    {
     "name": "stderr",
     "output_type": "stream",
     "text": [
      "/srv/jaybie/archive/spatial-privacy-master/nn_matchers.py:690: FutureWarning: in the future insert will treat boolean arrays and array-likes as a boolean index instead of casting it to integer\n",
      "  if i_o != np.argmax(weighted_scores): #!= i_o:\n"
     ]
    },
    {
     "name": "stdout",
     "output_type": "stream",
     "text": [
      "   2.5 : Done with 530, in 93.686 seconds. Error rate 0.719\n",
      "   (330, 7) (330, 7, 2) (330, 7, 2) in 0.741 seconds\n"
     ]
    },
    {
     "name": "stderr",
     "output_type": "stream",
     "text": [
      "/srv/jaybie/archive/spatial-privacy-master/nn_matchers.py:690: FutureWarning: in the future insert will treat boolean arrays and array-likes as a boolean index instead of casting it to integer\n",
      "  if i_o != np.argmax(weighted_scores): #!= i_o:\n"
     ]
    },
    {
     "name": "stdout",
     "output_type": "stream",
     "text": [
      "   2.5 : Done with 596, in 99.416 seconds. Error rate 0.723\n",
      "   (263, 7) (263, 7, 2) (263, 7, 2) in 0.620 seconds\n"
     ]
    },
    {
     "name": "stderr",
     "output_type": "stream",
     "text": [
      "/srv/jaybie/archive/spatial-privacy-master/nn_matchers.py:690: FutureWarning: in the future insert will treat boolean arrays and array-likes as a boolean index instead of casting it to integer\n",
      "  if i_o != np.argmax(weighted_scores): #!= i_o:\n"
     ]
    },
    {
     "name": "stdout",
     "output_type": "stream",
     "text": [
      "   2.5 : Done with 662, in 89.326 seconds. Error rate 0.718\n",
      "   (370, 7) (370, 7, 2) (370, 7, 2) in 0.945 seconds\n"
     ]
    },
    {
     "name": "stderr",
     "output_type": "stream",
     "text": [
      "/srv/jaybie/archive/spatial-privacy-master/nn_matchers.py:690: FutureWarning: in the future insert will treat boolean arrays and array-likes as a boolean index instead of casting it to integer\n",
      "  if i_o != np.argmax(weighted_scores): #!= i_o:\n"
     ]
    },
    {
     "name": "stdout",
     "output_type": "stream",
     "text": [
      "   2.5 : Done with 728, in 90.802 seconds. Error rate 0.717\n",
      "   (331, 7) (331, 7, 2) (331, 7, 2) in 0.908 seconds\n"
     ]
    },
    {
     "name": "stderr",
     "output_type": "stream",
     "text": [
      "/srv/jaybie/archive/spatial-privacy-master/nn_matchers.py:690: FutureWarning: in the future insert will treat boolean arrays and array-likes as a boolean index instead of casting it to integer\n",
      "  if i_o != np.argmax(weighted_scores): #!= i_o:\n"
     ]
    },
    {
     "name": "stdout",
     "output_type": "stream",
     "text": [
      "   2.5 : Done with 794, in 97.338 seconds. Error rate 0.715\n",
      "   (547, 7) (547, 7, 2) (547, 7, 2) in 2.624 seconds\n"
     ]
    },
    {
     "name": "stderr",
     "output_type": "stream",
     "text": [
      "/srv/jaybie/archive/spatial-privacy-master/nn_matchers.py:690: FutureWarning: in the future insert will treat boolean arrays and array-likes as a boolean index instead of casting it to integer\n",
      "  if i_o != np.argmax(weighted_scores): #!= i_o:\n"
     ]
    },
    {
     "name": "stdout",
     "output_type": "stream",
     "text": [
      "   2.5 : Done with 860, in 91.748 seconds. Error rate 0.713\n",
      "   (190, 7) (190, 7, 2) (190, 7, 2) in 0.405 seconds\n"
     ]
    },
    {
     "name": "stderr",
     "output_type": "stream",
     "text": [
      "/srv/jaybie/archive/spatial-privacy-master/nn_matchers.py:690: FutureWarning: in the future insert will treat boolean arrays and array-likes as a boolean index instead of casting it to integer\n",
      "  if i_o != np.argmax(weighted_scores): #!= i_o:\n"
     ]
    },
    {
     "name": "stdout",
     "output_type": "stream",
     "text": [
      "   2.5 : Done with 926, in 91.038 seconds. Error rate 0.716\n",
      "   (482, 7) (482, 7, 2) (482, 7, 2) in 1.569 seconds\n"
     ]
    },
    {
     "name": "stderr",
     "output_type": "stream",
     "text": [
      "/srv/jaybie/archive/spatial-privacy-master/nn_matchers.py:690: FutureWarning: in the future insert will treat boolean arrays and array-likes as a boolean index instead of casting it to integer\n",
      "  if i_o != np.argmax(weighted_scores): #!= i_o:\n"
     ]
    },
    {
     "name": "stdout",
     "output_type": "stream",
     "text": [
      "   2.5 : Done with 992, in 84.192 seconds. Error rate 0.709\n",
      "   (295, 7) (295, 7, 2) (295, 7, 2) in 0.638 seconds\n",
      "2.5  Total Time to match 1532.921 seconds.\n",
      "radius = 2.75\n",
      "   2.75 : Done with 2, in 2.391 seconds. Error rate 1.000\n",
      "   (453, 7) (453, 7, 2) (453, 7, 2) in 1.444 seconds\n"
     ]
    },
    {
     "name": "stderr",
     "output_type": "stream",
     "text": [
      "/srv/jaybie/archive/spatial-privacy-master/nn_matchers.py:690: FutureWarning: in the future insert will treat boolean arrays and array-likes as a boolean index instead of casting it to integer\n",
      "  if i_o != np.argmax(weighted_scores): #!= i_o:\n"
     ]
    },
    {
     "name": "stdout",
     "output_type": "stream",
     "text": [
      "   2.75 : Done with 68, in 96.782 seconds. Error rate 0.691\n",
      "   (361, 7) (361, 7, 2) (361, 7, 2) in 0.874 seconds\n"
     ]
    },
    {
     "name": "stderr",
     "output_type": "stream",
     "text": [
      "/srv/jaybie/archive/spatial-privacy-master/nn_matchers.py:690: FutureWarning: in the future insert will treat boolean arrays and array-likes as a boolean index instead of casting it to integer\n",
      "  if i_o != np.argmax(weighted_scores): #!= i_o:\n"
     ]
    },
    {
     "name": "stdout",
     "output_type": "stream",
     "text": [
      "   2.75 : Done with 134, in 100.617 seconds. Error rate 0.642\n",
      "   (647, 7) (647, 7, 2) (647, 7, 2) in 2.167 seconds\n"
     ]
    },
    {
     "name": "stderr",
     "output_type": "stream",
     "text": [
      "/srv/jaybie/archive/spatial-privacy-master/nn_matchers.py:690: FutureWarning: in the future insert will treat boolean arrays and array-likes as a boolean index instead of casting it to integer\n",
      "  if i_o != np.argmax(weighted_scores): #!= i_o:\n"
     ]
    },
    {
     "name": "stdout",
     "output_type": "stream",
     "text": [
      "   2.75 : Done with 200, in 110.705 seconds. Error rate 0.680\n",
      "   (629, 7) (629, 7, 2) (629, 7, 2) in 3.375 seconds\n"
     ]
    },
    {
     "name": "stderr",
     "output_type": "stream",
     "text": [
      "/srv/jaybie/archive/spatial-privacy-master/nn_matchers.py:690: FutureWarning: in the future insert will treat boolean arrays and array-likes as a boolean index instead of casting it to integer\n",
      "  if i_o != np.argmax(weighted_scores): #!= i_o:\n"
     ]
    },
    {
     "name": "stdout",
     "output_type": "stream",
     "text": [
      "   2.75 : Done with 266, in 112.853 seconds. Error rate 0.699\n",
      "   (434, 7) (434, 7, 2) (434, 7, 2) in 1.355 seconds\n"
     ]
    },
    {
     "name": "stderr",
     "output_type": "stream",
     "text": [
      "/srv/jaybie/archive/spatial-privacy-master/nn_matchers.py:690: FutureWarning: in the future insert will treat boolean arrays and array-likes as a boolean index instead of casting it to integer\n",
      "  if i_o != np.argmax(weighted_scores): #!= i_o:\n"
     ]
    },
    {
     "name": "stdout",
     "output_type": "stream",
     "text": [
      "   2.75 : Done with 332, in 102.656 seconds. Error rate 0.714\n",
      "   (298, 7) (298, 7, 2) (298, 7, 2) in 0.817 seconds\n"
     ]
    },
    {
     "name": "stderr",
     "output_type": "stream",
     "text": [
      "/srv/jaybie/archive/spatial-privacy-master/nn_matchers.py:690: FutureWarning: in the future insert will treat boolean arrays and array-likes as a boolean index instead of casting it to integer\n",
      "  if i_o != np.argmax(weighted_scores): #!= i_o:\n"
     ]
    },
    {
     "name": "stdout",
     "output_type": "stream",
     "text": [
      "   2.75 : Done with 398, in 97.164 seconds. Error rate 0.716\n",
      "   (497, 7) (497, 7, 2) (497, 7, 2) in 2.099 seconds\n"
     ]
    },
    {
     "name": "stderr",
     "output_type": "stream",
     "text": [
      "/srv/jaybie/archive/spatial-privacy-master/nn_matchers.py:690: FutureWarning: in the future insert will treat boolean arrays and array-likes as a boolean index instead of casting it to integer\n",
      "  if i_o != np.argmax(weighted_scores): #!= i_o:\n"
     ]
    },
    {
     "name": "stdout",
     "output_type": "stream",
     "text": [
      "   2.75 : Done with 464, in 115.734 seconds. Error rate 0.720\n",
      "   (304, 7) (304, 7, 2) (304, 7, 2) in 0.713 seconds\n"
     ]
    },
    {
     "name": "stderr",
     "output_type": "stream",
     "text": [
      "/srv/jaybie/archive/spatial-privacy-master/nn_matchers.py:690: FutureWarning: in the future insert will treat boolean arrays and array-likes as a boolean index instead of casting it to integer\n",
      "  if i_o != np.argmax(weighted_scores): #!= i_o:\n"
     ]
    },
    {
     "name": "stdout",
     "output_type": "stream",
     "text": [
      "   2.75 : Done with 530, in 116.586 seconds. Error rate 0.715\n",
      "   (437, 7) (437, 7, 2) (437, 7, 2) in 1.128 seconds\n"
     ]
    },
    {
     "name": "stderr",
     "output_type": "stream",
     "text": [
      "/srv/jaybie/archive/spatial-privacy-master/nn_matchers.py:690: FutureWarning: in the future insert will treat boolean arrays and array-likes as a boolean index instead of casting it to integer\n",
      "  if i_o != np.argmax(weighted_scores): #!= i_o:\n"
     ]
    },
    {
     "name": "stdout",
     "output_type": "stream",
     "text": [
      "   2.75 : Done with 596, in 122.044 seconds. Error rate 0.715\n",
      "   (252, 7) (252, 7, 2) (252, 7, 2) in 0.576 seconds\n"
     ]
    },
    {
     "name": "stderr",
     "output_type": "stream",
     "text": [
      "/srv/jaybie/archive/spatial-privacy-master/nn_matchers.py:690: FutureWarning: in the future insert will treat boolean arrays and array-likes as a boolean index instead of casting it to integer\n",
      "  if i_o != np.argmax(weighted_scores): #!= i_o:\n"
     ]
    },
    {
     "name": "stdout",
     "output_type": "stream",
     "text": [
      "   2.75 : Done with 662, in 103.380 seconds. Error rate 0.713\n",
      "   (393, 7) (393, 7, 2) (393, 7, 2) in 0.994 seconds\n"
     ]
    },
    {
     "name": "stderr",
     "output_type": "stream",
     "text": [
      "/srv/jaybie/archive/spatial-privacy-master/nn_matchers.py:690: FutureWarning: in the future insert will treat boolean arrays and array-likes as a boolean index instead of casting it to integer\n",
      "  if i_o != np.argmax(weighted_scores): #!= i_o:\n"
     ]
    },
    {
     "name": "stdout",
     "output_type": "stream",
     "text": [
      "   2.75 : Done with 728, in 102.823 seconds. Error rate 0.720\n",
      "   (412, 7) (412, 7, 2) (412, 7, 2) in 1.182 seconds\n"
     ]
    },
    {
     "name": "stderr",
     "output_type": "stream",
     "text": [
      "/srv/jaybie/archive/spatial-privacy-master/nn_matchers.py:690: FutureWarning: in the future insert will treat boolean arrays and array-likes as a boolean index instead of casting it to integer\n",
      "  if i_o != np.argmax(weighted_scores): #!= i_o:\n"
     ]
    },
    {
     "name": "stdout",
     "output_type": "stream",
     "text": [
      "   2.75 : Done with 794, in 110.655 seconds. Error rate 0.719\n",
      "   (731, 7) (731, 7, 2) (731, 7, 2) in 3.803 seconds\n"
     ]
    },
    {
     "name": "stderr",
     "output_type": "stream",
     "text": [
      "/srv/jaybie/archive/spatial-privacy-master/nn_matchers.py:690: FutureWarning: in the future insert will treat boolean arrays and array-likes as a boolean index instead of casting it to integer\n",
      "  if i_o != np.argmax(weighted_scores): #!= i_o:\n"
     ]
    },
    {
     "name": "stdout",
     "output_type": "stream",
     "text": [
      "   2.75 : Done with 860, in 115.207 seconds. Error rate 0.716\n",
      "   (201, 7) (201, 7, 2) (201, 7, 2) in 0.432 seconds\n"
     ]
    },
    {
     "name": "stderr",
     "output_type": "stream",
     "text": [
      "/srv/jaybie/archive/spatial-privacy-master/nn_matchers.py:690: FutureWarning: in the future insert will treat boolean arrays and array-likes as a boolean index instead of casting it to integer\n",
      "  if i_o != np.argmax(weighted_scores): #!= i_o:\n"
     ]
    },
    {
     "name": "stdout",
     "output_type": "stream",
     "text": [
      "   2.75 : Done with 926, in 114.810 seconds. Error rate 0.716\n",
      "   (572, 7) (572, 7, 2) (572, 7, 2) in 2.145 seconds\n"
     ]
    },
    {
     "name": "stderr",
     "output_type": "stream",
     "text": [
      "/srv/jaybie/archive/spatial-privacy-master/nn_matchers.py:690: FutureWarning: in the future insert will treat boolean arrays and array-likes as a boolean index instead of casting it to integer\n",
      "  if i_o != np.argmax(weighted_scores): #!= i_o:\n"
     ]
    },
    {
     "name": "stdout",
     "output_type": "stream",
     "text": [
      "   2.75 : Done with 992, in 103.017 seconds. Error rate 0.715\n",
      "   (394, 7) (394, 7, 2) (394, 7, 2) in 0.929 seconds\n",
      "2.75  Total Time to match 1864.892 seconds.\n",
      "radius = 3.0\n"
     ]
    },
    {
     "name": "stderr",
     "output_type": "stream",
     "text": [
      "/srv/jaybie/archive/spatial-privacy-master/nn_matchers.py:690: FutureWarning: in the future insert will treat boolean arrays and array-likes as a boolean index instead of casting it to integer\n",
      "  if i_o != np.argmax(weighted_scores): #!= i_o:\n"
     ]
    },
    {
     "name": "stdout",
     "output_type": "stream",
     "text": [
      "   3.0 : Done with 2, in 3.244 seconds. Error rate 0.500\n",
      "   (646, 7) (646, 7, 2) (646, 7, 2) in 2.215 seconds\n"
     ]
    },
    {
     "name": "stderr",
     "output_type": "stream",
     "text": [
      "/srv/jaybie/archive/spatial-privacy-master/nn_matchers.py:690: FutureWarning: in the future insert will treat boolean arrays and array-likes as a boolean index instead of casting it to integer\n",
      "  if i_o != np.argmax(weighted_scores): #!= i_o:\n"
     ]
    },
    {
     "name": "stdout",
     "output_type": "stream",
     "text": [
      "   3.0 : Done with 68, in 119.322 seconds. Error rate 0.647\n",
      "   (427, 7) (427, 7, 2) (427, 7, 2) in 1.196 seconds\n"
     ]
    },
    {
     "name": "stderr",
     "output_type": "stream",
     "text": [
      "/srv/jaybie/archive/spatial-privacy-master/nn_matchers.py:690: FutureWarning: in the future insert will treat boolean arrays and array-likes as a boolean index instead of casting it to integer\n",
      "  if i_o != np.argmax(weighted_scores): #!= i_o:\n"
     ]
    },
    {
     "name": "stdout",
     "output_type": "stream",
     "text": [
      "   3.0 : Done with 134, in 119.277 seconds. Error rate 0.664\n",
      "   (807, 7) (807, 7, 2) (807, 7, 2) in 2.913 seconds\n"
     ]
    },
    {
     "name": "stderr",
     "output_type": "stream",
     "text": [
      "/srv/jaybie/archive/spatial-privacy-master/nn_matchers.py:690: FutureWarning: in the future insert will treat boolean arrays and array-likes as a boolean index instead of casting it to integer\n",
      "  if i_o != np.argmax(weighted_scores): #!= i_o:\n"
     ]
    },
    {
     "name": "stdout",
     "output_type": "stream",
     "text": [
      "   3.0 : Done with 200, in 127.367 seconds. Error rate 0.665\n",
      "   (855, 7) (855, 7, 2) (855, 7, 2) in 2.686 seconds\n"
     ]
    },
    {
     "name": "stderr",
     "output_type": "stream",
     "text": [
      "/srv/jaybie/archive/spatial-privacy-master/nn_matchers.py:690: FutureWarning: in the future insert will treat boolean arrays and array-likes as a boolean index instead of casting it to integer\n",
      "  if i_o != np.argmax(weighted_scores): #!= i_o:\n"
     ]
    },
    {
     "name": "stdout",
     "output_type": "stream",
     "text": [
      "   3.0 : Done with 266, in 134.566 seconds. Error rate 0.692\n",
      "   (491, 7) (491, 7, 2) (491, 7, 2) in 1.511 seconds\n"
     ]
    },
    {
     "name": "stderr",
     "output_type": "stream",
     "text": [
      "/srv/jaybie/archive/spatial-privacy-master/nn_matchers.py:690: FutureWarning: in the future insert will treat boolean arrays and array-likes as a boolean index instead of casting it to integer\n",
      "  if i_o != np.argmax(weighted_scores): #!= i_o:\n"
     ]
    },
    {
     "name": "stdout",
     "output_type": "stream",
     "text": [
      "   3.0 : Done with 332, in 127.062 seconds. Error rate 0.699\n",
      "   (336, 7) (336, 7, 2) (336, 7, 2) in 0.987 seconds\n"
     ]
    },
    {
     "name": "stderr",
     "output_type": "stream",
     "text": [
      "/srv/jaybie/archive/spatial-privacy-master/nn_matchers.py:690: FutureWarning: in the future insert will treat boolean arrays and array-likes as a boolean index instead of casting it to integer\n",
      "  if i_o != np.argmax(weighted_scores): #!= i_o:\n"
     ]
    },
    {
     "name": "stdout",
     "output_type": "stream",
     "text": [
      "   3.0 : Done with 398, in 112.960 seconds. Error rate 0.709\n",
      "   (545, 7) (545, 7, 2) (545, 7, 2) in 2.171 seconds\n"
     ]
    },
    {
     "name": "stderr",
     "output_type": "stream",
     "text": [
      "/srv/jaybie/archive/spatial-privacy-master/nn_matchers.py:690: FutureWarning: in the future insert will treat boolean arrays and array-likes as a boolean index instead of casting it to integer\n",
      "  if i_o != np.argmax(weighted_scores): #!= i_o:\n"
     ]
    },
    {
     "name": "stdout",
     "output_type": "stream",
     "text": [
      "   3.0 : Done with 464, in 141.311 seconds. Error rate 0.707\n",
      "   (329, 7) (329, 7, 2) (329, 7, 2) in 0.939 seconds\n"
     ]
    },
    {
     "name": "stderr",
     "output_type": "stream",
     "text": [
      "/srv/jaybie/archive/spatial-privacy-master/nn_matchers.py:690: FutureWarning: in the future insert will treat boolean arrays and array-likes as a boolean index instead of casting it to integer\n",
      "  if i_o != np.argmax(weighted_scores): #!= i_o:\n"
     ]
    },
    {
     "name": "stdout",
     "output_type": "stream",
     "text": [
      "   3.0 : Done with 530, in 134.690 seconds. Error rate 0.709\n",
      "   (534, 7) (534, 7, 2) (534, 7, 2) in 1.546 seconds\n"
     ]
    },
    {
     "name": "stderr",
     "output_type": "stream",
     "text": [
      "/srv/jaybie/archive/spatial-privacy-master/nn_matchers.py:690: FutureWarning: in the future insert will treat boolean arrays and array-likes as a boolean index instead of casting it to integer\n",
      "  if i_o != np.argmax(weighted_scores): #!= i_o:\n"
     ]
    },
    {
     "name": "stdout",
     "output_type": "stream",
     "text": [
      "   3.0 : Done with 596, in 139.802 seconds. Error rate 0.708\n",
      "   (308, 7) (308, 7, 2) (308, 7, 2) in 0.755 seconds\n"
     ]
    },
    {
     "name": "stderr",
     "output_type": "stream",
     "text": [
      "/srv/jaybie/archive/spatial-privacy-master/nn_matchers.py:690: FutureWarning: in the future insert will treat boolean arrays and array-likes as a boolean index instead of casting it to integer\n",
      "  if i_o != np.argmax(weighted_scores): #!= i_o:\n"
     ]
    },
    {
     "name": "stdout",
     "output_type": "stream",
     "text": [
      "   3.0 : Done with 662, in 123.554 seconds. Error rate 0.705\n",
      "   (424, 7) (424, 7, 2) (424, 7, 2) in 1.080 seconds\n"
     ]
    },
    {
     "name": "stderr",
     "output_type": "stream",
     "text": [
      "/srv/jaybie/archive/spatial-privacy-master/nn_matchers.py:690: FutureWarning: in the future insert will treat boolean arrays and array-likes as a boolean index instead of casting it to integer\n",
      "  if i_o != np.argmax(weighted_scores): #!= i_o:\n"
     ]
    },
    {
     "name": "stdout",
     "output_type": "stream",
     "text": [
      "   3.0 : Done with 728, in 129.014 seconds. Error rate 0.709\n",
      "   (517, 7) (517, 7, 2) (517, 7, 2) in 1.579 seconds\n"
     ]
    },
    {
     "name": "stderr",
     "output_type": "stream",
     "text": [
      "/srv/jaybie/archive/spatial-privacy-master/nn_matchers.py:690: FutureWarning: in the future insert will treat boolean arrays and array-likes as a boolean index instead of casting it to integer\n",
      "  if i_o != np.argmax(weighted_scores): #!= i_o:\n"
     ]
    },
    {
     "name": "stdout",
     "output_type": "stream",
     "text": [
      "   3.0 : Done with 794, in 131.805 seconds. Error rate 0.712\n",
      "   (759, 7) (759, 7, 2) (759, 7, 2) in 2.292 seconds\n"
     ]
    },
    {
     "name": "stderr",
     "output_type": "stream",
     "text": [
      "/srv/jaybie/archive/spatial-privacy-master/nn_matchers.py:690: FutureWarning: in the future insert will treat boolean arrays and array-likes as a boolean index instead of casting it to integer\n",
      "  if i_o != np.argmax(weighted_scores): #!= i_o:\n"
     ]
    },
    {
     "name": "stdout",
     "output_type": "stream",
     "text": [
      "   3.0 : Done with 860, in 136.313 seconds. Error rate 0.708\n",
      "   (216, 7) (216, 7, 2) (216, 7, 2) in 0.444 seconds\n"
     ]
    },
    {
     "name": "stderr",
     "output_type": "stream",
     "text": [
      "/srv/jaybie/archive/spatial-privacy-master/nn_matchers.py:690: FutureWarning: in the future insert will treat boolean arrays and array-likes as a boolean index instead of casting it to integer\n",
      "  if i_o != np.argmax(weighted_scores): #!= i_o:\n"
     ]
    },
    {
     "name": "stdout",
     "output_type": "stream",
     "text": [
      "   3.0 : Done with 926, in 136.457 seconds. Error rate 0.710\n",
      "   (621, 7) (621, 7, 2) (621, 7, 2) in 2.560 seconds\n"
     ]
    },
    {
     "name": "stderr",
     "output_type": "stream",
     "text": [
      "/srv/jaybie/archive/spatial-privacy-master/nn_matchers.py:690: FutureWarning: in the future insert will treat boolean arrays and array-likes as a boolean index instead of casting it to integer\n",
      "  if i_o != np.argmax(weighted_scores): #!= i_o:\n"
     ]
    },
    {
     "name": "stdout",
     "output_type": "stream",
     "text": [
      "   3.0 : Done with 992, in 122.965 seconds. Error rate 0.709\n",
      "   (465, 7) (465, 7, 2) (465, 7, 2) in 1.175 seconds\n",
      "3.0  Total Time to match 2211.016 seconds.\n",
      "radius = 3.25\n",
      "   3.25 : Done with 2, in 3.800 seconds. Error rate 1.000\n",
      "   (684, 7) (684, 7, 2) (684, 7, 2) in 2.546 seconds\n"
     ]
    },
    {
     "name": "stderr",
     "output_type": "stream",
     "text": [
      "/srv/jaybie/archive/spatial-privacy-master/nn_matchers.py:690: FutureWarning: in the future insert will treat boolean arrays and array-likes as a boolean index instead of casting it to integer\n",
      "  if i_o != np.argmax(weighted_scores): #!= i_o:\n"
     ]
    },
    {
     "name": "stdout",
     "output_type": "stream",
     "text": [
      "   3.25 : Done with 68, in 129.828 seconds. Error rate 0.647\n",
      "   (459, 7) (459, 7, 2) (459, 7, 2) in 1.360 seconds\n"
     ]
    },
    {
     "name": "stderr",
     "output_type": "stream",
     "text": [
      "/srv/jaybie/archive/spatial-privacy-master/nn_matchers.py:690: FutureWarning: in the future insert will treat boolean arrays and array-likes as a boolean index instead of casting it to integer\n",
      "  if i_o != np.argmax(weighted_scores): #!= i_o:\n"
     ]
    },
    {
     "name": "stdout",
     "output_type": "stream",
     "text": [
      "   3.25 : Done with 134, in 135.291 seconds. Error rate 0.672\n",
      "   (881, 7) (881, 7, 2) (881, 7, 2) in 3.455 seconds\n"
     ]
    },
    {
     "name": "stderr",
     "output_type": "stream",
     "text": [
      "/srv/jaybie/archive/spatial-privacy-master/nn_matchers.py:690: FutureWarning: in the future insert will treat boolean arrays and array-likes as a boolean index instead of casting it to integer\n",
      "  if i_o != np.argmax(weighted_scores): #!= i_o:\n"
     ]
    },
    {
     "name": "stdout",
     "output_type": "stream",
     "text": [
      "   3.25 : Done with 200, in 153.495 seconds. Error rate 0.670\n",
      "   (871, 7) (871, 7, 2) (871, 7, 2) in 2.863 seconds\n"
     ]
    },
    {
     "name": "stderr",
     "output_type": "stream",
     "text": [
      "/srv/jaybie/archive/spatial-privacy-master/nn_matchers.py:690: FutureWarning: in the future insert will treat boolean arrays and array-likes as a boolean index instead of casting it to integer\n",
      "  if i_o != np.argmax(weighted_scores): #!= i_o:\n"
     ]
    },
    {
     "name": "stdout",
     "output_type": "stream",
     "text": [
      "   3.25 : Done with 266, in 152.952 seconds. Error rate 0.688\n",
      "   (523, 7) (523, 7, 2) (523, 7, 2) in 1.686 seconds\n"
     ]
    },
    {
     "name": "stderr",
     "output_type": "stream",
     "text": [
      "/srv/jaybie/archive/spatial-privacy-master/nn_matchers.py:690: FutureWarning: in the future insert will treat boolean arrays and array-likes as a boolean index instead of casting it to integer\n",
      "  if i_o != np.argmax(weighted_scores): #!= i_o:\n"
     ]
    },
    {
     "name": "stdout",
     "output_type": "stream",
     "text": [
      "   3.25 : Done with 332, in 141.963 seconds. Error rate 0.711\n",
      "   (331, 7) (331, 7, 2) (331, 7, 2) in 0.971 seconds\n"
     ]
    },
    {
     "name": "stderr",
     "output_type": "stream",
     "text": [
      "/srv/jaybie/archive/spatial-privacy-master/nn_matchers.py:690: FutureWarning: in the future insert will treat boolean arrays and array-likes as a boolean index instead of casting it to integer\n",
      "  if i_o != np.argmax(weighted_scores): #!= i_o:\n"
     ]
    },
    {
     "name": "stdout",
     "output_type": "stream",
     "text": [
      "   3.25 : Done with 398, in 127.508 seconds. Error rate 0.716\n",
      "   (600, 7) (600, 7, 2) (600, 7, 2) in 2.487 seconds\n"
     ]
    },
    {
     "name": "stderr",
     "output_type": "stream",
     "text": [
      "/srv/jaybie/archive/spatial-privacy-master/nn_matchers.py:690: FutureWarning: in the future insert will treat boolean arrays and array-likes as a boolean index instead of casting it to integer\n",
      "  if i_o != np.argmax(weighted_scores): #!= i_o:\n"
     ]
    },
    {
     "name": "stdout",
     "output_type": "stream",
     "text": [
      "   3.25 : Done with 464, in 160.506 seconds. Error rate 0.713\n",
      "   (380, 7) (380, 7, 2) (380, 7, 2) in 0.979 seconds\n"
     ]
    },
    {
     "name": "stderr",
     "output_type": "stream",
     "text": [
      "/srv/jaybie/archive/spatial-privacy-master/nn_matchers.py:690: FutureWarning: in the future insert will treat boolean arrays and array-likes as a boolean index instead of casting it to integer\n",
      "  if i_o != np.argmax(weighted_scores): #!= i_o:\n"
     ]
    },
    {
     "name": "stdout",
     "output_type": "stream",
     "text": [
      "   3.25 : Done with 530, in 154.895 seconds. Error rate 0.704\n",
      "   (533, 7) (533, 7, 2) (533, 7, 2) in 1.574 seconds\n"
     ]
    },
    {
     "name": "stderr",
     "output_type": "stream",
     "text": [
      "/srv/jaybie/archive/spatial-privacy-master/nn_matchers.py:690: FutureWarning: in the future insert will treat boolean arrays and array-likes as a boolean index instead of casting it to integer\n",
      "  if i_o != np.argmax(weighted_scores): #!= i_o:\n"
     ]
    },
    {
     "name": "stdout",
     "output_type": "stream",
     "text": [
      "   3.25 : Done with 596, in 156.843 seconds. Error rate 0.706\n",
      "   (359, 7) (359, 7, 2) (359, 7, 2) in 0.913 seconds\n"
     ]
    },
    {
     "name": "stderr",
     "output_type": "stream",
     "text": [
      "/srv/jaybie/archive/spatial-privacy-master/nn_matchers.py:690: FutureWarning: in the future insert will treat boolean arrays and array-likes as a boolean index instead of casting it to integer\n",
      "  if i_o != np.argmax(weighted_scores): #!= i_o:\n"
     ]
    },
    {
     "name": "stdout",
     "output_type": "stream",
     "text": [
      "   3.25 : Done with 662, in 140.342 seconds. Error rate 0.702\n",
      "   (461, 7) (461, 7, 2) (461, 7, 2) in 1.217 seconds\n"
     ]
    },
    {
     "name": "stderr",
     "output_type": "stream",
     "text": [
      "/srv/jaybie/archive/spatial-privacy-master/nn_matchers.py:690: FutureWarning: in the future insert will treat boolean arrays and array-likes as a boolean index instead of casting it to integer\n",
      "  if i_o != np.argmax(weighted_scores): #!= i_o:\n"
     ]
    },
    {
     "name": "stdout",
     "output_type": "stream",
     "text": [
      "   3.25 : Done with 728, in 144.282 seconds. Error rate 0.699\n",
      "   (567, 7) (567, 7, 2) (567, 7, 2) in 1.834 seconds\n"
     ]
    },
    {
     "name": "stderr",
     "output_type": "stream",
     "text": [
      "/srv/jaybie/archive/spatial-privacy-master/nn_matchers.py:690: FutureWarning: in the future insert will treat boolean arrays and array-likes as a boolean index instead of casting it to integer\n",
      "  if i_o != np.argmax(weighted_scores): #!= i_o:\n"
     ]
    },
    {
     "name": "stdout",
     "output_type": "stream",
     "text": [
      "   3.25 : Done with 794, in 153.289 seconds. Error rate 0.705\n",
      "   (1080, 7) (1080, 7, 2) (1080, 7, 2) in 3.478 seconds\n"
     ]
    },
    {
     "name": "stderr",
     "output_type": "stream",
     "text": [
      "/srv/jaybie/archive/spatial-privacy-master/nn_matchers.py:690: FutureWarning: in the future insert will treat boolean arrays and array-likes as a boolean index instead of casting it to integer\n",
      "  if i_o != np.argmax(weighted_scores): #!= i_o:\n"
     ]
    },
    {
     "name": "stdout",
     "output_type": "stream",
     "text": [
      "   3.25 : Done with 860, in 156.474 seconds. Error rate 0.703\n",
      "   (228, 7) (228, 7, 2) (228, 7, 2) in 0.452 seconds\n"
     ]
    },
    {
     "name": "stderr",
     "output_type": "stream",
     "text": [
      "/srv/jaybie/archive/spatial-privacy-master/nn_matchers.py:690: FutureWarning: in the future insert will treat boolean arrays and array-likes as a boolean index instead of casting it to integer\n",
      "  if i_o != np.argmax(weighted_scores): #!= i_o:\n"
     ]
    },
    {
     "name": "stdout",
     "output_type": "stream",
     "text": [
      "   3.25 : Done with 926, in 154.396 seconds. Error rate 0.703\n",
      "   (669, 7) (669, 7, 2) (669, 7, 2) in 3.067 seconds\n"
     ]
    },
    {
     "name": "stderr",
     "output_type": "stream",
     "text": [
      "/srv/jaybie/archive/spatial-privacy-master/nn_matchers.py:690: FutureWarning: in the future insert will treat boolean arrays and array-likes as a boolean index instead of casting it to integer\n",
      "  if i_o != np.argmax(weighted_scores): #!= i_o:\n"
     ]
    },
    {
     "name": "stdout",
     "output_type": "stream",
     "text": [
      "   3.25 : Done with 992, in 148.790 seconds. Error rate 0.703\n",
      "   (466, 7) (466, 7, 2) (466, 7, 2) in 1.329 seconds\n",
      "3.25  Total Time to match 2514.191 seconds.\n",
      "radius = 3.5\n",
      "   3.5 : Done with 2, in 4.773 seconds. Error rate 1.000\n",
      "   (838, 7) (838, 7, 2) (838, 7, 2) in 3.457 seconds\n"
     ]
    },
    {
     "name": "stderr",
     "output_type": "stream",
     "text": [
      "/srv/jaybie/archive/spatial-privacy-master/nn_matchers.py:690: FutureWarning: in the future insert will treat boolean arrays and array-likes as a boolean index instead of casting it to integer\n",
      "  if i_o != np.argmax(weighted_scores): #!= i_o:\n"
     ]
    },
    {
     "name": "stdout",
     "output_type": "stream",
     "text": [
      "   3.5 : Done with 68, in 148.478 seconds. Error rate 0.632\n",
      "   (560, 7) (560, 7, 2) (560, 7, 2) in 1.885 seconds\n"
     ]
    },
    {
     "name": "stderr",
     "output_type": "stream",
     "text": [
      "/srv/jaybie/archive/spatial-privacy-master/nn_matchers.py:690: FutureWarning: in the future insert will treat boolean arrays and array-likes as a boolean index instead of casting it to integer\n",
      "  if i_o != np.argmax(weighted_scores): #!= i_o:\n"
     ]
    },
    {
     "name": "stdout",
     "output_type": "stream",
     "text": [
      "   3.5 : Done with 134, in 151.922 seconds. Error rate 0.664\n",
      "   (1045, 7) (1045, 7, 2) (1045, 7, 2) in 4.558 seconds\n"
     ]
    },
    {
     "name": "stderr",
     "output_type": "stream",
     "text": [
      "/srv/jaybie/archive/spatial-privacy-master/nn_matchers.py:690: FutureWarning: in the future insert will treat boolean arrays and array-likes as a boolean index instead of casting it to integer\n",
      "  if i_o != np.argmax(weighted_scores): #!= i_o:\n"
     ]
    },
    {
     "name": "stdout",
     "output_type": "stream",
     "text": [
      "   3.5 : Done with 200, in 167.371 seconds. Error rate 0.675\n",
      "   (1211, 7) (1211, 7, 2) (1211, 7, 2) in 4.159 seconds\n"
     ]
    },
    {
     "name": "stderr",
     "output_type": "stream",
     "text": [
      "/srv/jaybie/archive/spatial-privacy-master/nn_matchers.py:690: FutureWarning: in the future insert will treat boolean arrays and array-likes as a boolean index instead of casting it to integer\n",
      "  if i_o != np.argmax(weighted_scores): #!= i_o:\n"
     ]
    },
    {
     "name": "stdout",
     "output_type": "stream",
     "text": [
      "   3.5 : Done with 266, in 175.439 seconds. Error rate 0.688\n",
      "   (479, 7) (479, 7, 2) (479, 7, 2) in 1.561 seconds\n"
     ]
    },
    {
     "name": "stderr",
     "output_type": "stream",
     "text": [
      "/srv/jaybie/archive/spatial-privacy-master/nn_matchers.py:690: FutureWarning: in the future insert will treat boolean arrays and array-likes as a boolean index instead of casting it to integer\n",
      "  if i_o != np.argmax(weighted_scores): #!= i_o:\n"
     ]
    },
    {
     "name": "stdout",
     "output_type": "stream",
     "text": [
      "   3.5 : Done with 332, in 160.332 seconds. Error rate 0.699\n",
      "   (363, 7) (363, 7, 2) (363, 7, 2) in 1.121 seconds\n"
     ]
    },
    {
     "name": "stderr",
     "output_type": "stream",
     "text": [
      "/srv/jaybie/archive/spatial-privacy-master/nn_matchers.py:690: FutureWarning: in the future insert will treat boolean arrays and array-likes as a boolean index instead of casting it to integer\n",
      "  if i_o != np.argmax(weighted_scores): #!= i_o:\n"
     ]
    },
    {
     "name": "stdout",
     "output_type": "stream",
     "text": [
      "   3.5 : Done with 398, in 144.904 seconds. Error rate 0.693\n",
      "   (587, 7) (587, 7, 2) (587, 7, 2) in 2.611 seconds\n"
     ]
    },
    {
     "name": "stderr",
     "output_type": "stream",
     "text": [
      "/srv/jaybie/archive/spatial-privacy-master/nn_matchers.py:690: FutureWarning: in the future insert will treat boolean arrays and array-likes as a boolean index instead of casting it to integer\n",
      "  if i_o != np.argmax(weighted_scores): #!= i_o:\n"
     ]
    },
    {
     "name": "stdout",
     "output_type": "stream",
     "text": [
      "   3.5 : Done with 464, in 185.915 seconds. Error rate 0.692\n",
      "   (396, 7) (396, 7, 2) (396, 7, 2) in 1.028 seconds\n"
     ]
    },
    {
     "name": "stderr",
     "output_type": "stream",
     "text": [
      "/srv/jaybie/archive/spatial-privacy-master/nn_matchers.py:690: FutureWarning: in the future insert will treat boolean arrays and array-likes as a boolean index instead of casting it to integer\n",
      "  if i_o != np.argmax(weighted_scores): #!= i_o:\n"
     ]
    },
    {
     "name": "stdout",
     "output_type": "stream",
     "text": [
      "   3.5 : Done with 530, in 164.217 seconds. Error rate 0.692\n",
      "   (569, 7) (569, 7, 2) (569, 7, 2) in 1.835 seconds\n"
     ]
    },
    {
     "name": "stderr",
     "output_type": "stream",
     "text": [
      "/srv/jaybie/archive/spatial-privacy-master/nn_matchers.py:690: FutureWarning: in the future insert will treat boolean arrays and array-likes as a boolean index instead of casting it to integer\n",
      "  if i_o != np.argmax(weighted_scores): #!= i_o:\n"
     ]
    },
    {
     "name": "stdout",
     "output_type": "stream",
     "text": [
      "   3.5 : Done with 596, in 182.693 seconds. Error rate 0.695\n",
      "   (349, 7) (349, 7, 2) (349, 7, 2) in 0.874 seconds\n"
     ]
    },
    {
     "name": "stderr",
     "output_type": "stream",
     "text": [
      "/srv/jaybie/archive/spatial-privacy-master/nn_matchers.py:690: FutureWarning: in the future insert will treat boolean arrays and array-likes as a boolean index instead of casting it to integer\n",
      "  if i_o != np.argmax(weighted_scores): #!= i_o:\n"
     ]
    },
    {
     "name": "stdout",
     "output_type": "stream",
     "text": [
      "   3.5 : Done with 662, in 163.714 seconds. Error rate 0.689\n",
      "   (510, 7) (510, 7, 2) (510, 7, 2) in 1.380 seconds\n"
     ]
    },
    {
     "name": "stderr",
     "output_type": "stream",
     "text": [
      "/srv/jaybie/archive/spatial-privacy-master/nn_matchers.py:690: FutureWarning: in the future insert will treat boolean arrays and array-likes as a boolean index instead of casting it to integer\n",
      "  if i_o != np.argmax(weighted_scores): #!= i_o:\n"
     ]
    },
    {
     "name": "stdout",
     "output_type": "stream",
     "text": [
      "   3.5 : Done with 728, in 158.638 seconds. Error rate 0.692\n",
      "   (633, 7) (633, 7, 2) (633, 7, 2) in 2.287 seconds\n"
     ]
    },
    {
     "name": "stderr",
     "output_type": "stream",
     "text": [
      "/srv/jaybie/archive/spatial-privacy-master/nn_matchers.py:690: FutureWarning: in the future insert will treat boolean arrays and array-likes as a boolean index instead of casting it to integer\n",
      "  if i_o != np.argmax(weighted_scores): #!= i_o:\n"
     ]
    },
    {
     "name": "stdout",
     "output_type": "stream",
     "text": [
      "   3.5 : Done with 794, in 168.958 seconds. Error rate 0.695\n",
      "   (1125, 7) (1125, 7, 2) (1125, 7, 2) in 3.609 seconds\n"
     ]
    },
    {
     "name": "stderr",
     "output_type": "stream",
     "text": [
      "/srv/jaybie/archive/spatial-privacy-master/nn_matchers.py:690: FutureWarning: in the future insert will treat boolean arrays and array-likes as a boolean index instead of casting it to integer\n",
      "  if i_o != np.argmax(weighted_scores): #!= i_o:\n"
     ]
    },
    {
     "name": "stdout",
     "output_type": "stream",
     "text": [
      "   3.5 : Done with 860, in 179.715 seconds. Error rate 0.694\n",
      "   (243, 7) (243, 7, 2) (243, 7, 2) in 0.495 seconds\n"
     ]
    },
    {
     "name": "stderr",
     "output_type": "stream",
     "text": [
      "/srv/jaybie/archive/spatial-privacy-master/nn_matchers.py:690: FutureWarning: in the future insert will treat boolean arrays and array-likes as a boolean index instead of casting it to integer\n",
      "  if i_o != np.argmax(weighted_scores): #!= i_o:\n"
     ]
    },
    {
     "name": "stdout",
     "output_type": "stream",
     "text": [
      "   3.5 : Done with 926, in 177.297 seconds. Error rate 0.698\n",
      "   (734, 7) (734, 7, 2) (734, 7, 2) in 3.630 seconds\n"
     ]
    },
    {
     "name": "stderr",
     "output_type": "stream",
     "text": [
      "/srv/jaybie/archive/spatial-privacy-master/nn_matchers.py:690: FutureWarning: in the future insert will treat boolean arrays and array-likes as a boolean index instead of casting it to integer\n",
      "  if i_o != np.argmax(weighted_scores): #!= i_o:\n"
     ]
    },
    {
     "name": "stdout",
     "output_type": "stream",
     "text": [
      "   3.5 : Done with 992, in 178.506 seconds. Error rate 0.694\n",
      "   (618, 7) (618, 7, 2) (618, 7, 2) in 2.064 seconds\n",
      "3.5  Total Time to match 2845.124 seconds.\n",
      "radius = 3.75\n",
      "   3.75 : Done with 2, in 5.874 seconds. Error rate 1.000\n",
      "   (890, 7) (890, 7, 2) (890, 7, 2) in 4.150 seconds\n"
     ]
    },
    {
     "name": "stderr",
     "output_type": "stream",
     "text": [
      "/srv/jaybie/archive/spatial-privacy-master/nn_matchers.py:690: FutureWarning: in the future insert will treat boolean arrays and array-likes as a boolean index instead of casting it to integer\n",
      "  if i_o != np.argmax(weighted_scores): #!= i_o:\n"
     ]
    },
    {
     "name": "stdout",
     "output_type": "stream",
     "text": [
      "   3.75 : Done with 68, in 162.079 seconds. Error rate 0.647\n",
      "   (631, 7) (631, 7, 2) (631, 7, 2) in 2.326 seconds\n"
     ]
    },
    {
     "name": "stderr",
     "output_type": "stream",
     "text": [
      "/srv/jaybie/archive/spatial-privacy-master/nn_matchers.py:690: FutureWarning: in the future insert will treat boolean arrays and array-likes as a boolean index instead of casting it to integer\n",
      "  if i_o != np.argmax(weighted_scores): #!= i_o:\n"
     ]
    },
    {
     "name": "stdout",
     "output_type": "stream",
     "text": [
      "   3.75 : Done with 134, in 181.065 seconds. Error rate 0.672\n",
      "   (1252, 7) (1252, 7, 2) (1252, 7, 2) in 6.057 seconds\n"
     ]
    },
    {
     "name": "stderr",
     "output_type": "stream",
     "text": [
      "/srv/jaybie/archive/spatial-privacy-master/nn_matchers.py:690: FutureWarning: in the future insert will treat boolean arrays and array-likes as a boolean index instead of casting it to integer\n",
      "  if i_o != np.argmax(weighted_scores): #!= i_o:\n"
     ]
    },
    {
     "name": "stdout",
     "output_type": "stream",
     "text": [
      "   3.75 : Done with 200, in 186.633 seconds. Error rate 0.665\n",
      "   (1422, 7) (1422, 7, 2) (1422, 7, 2) in 5.346 seconds\n"
     ]
    },
    {
     "name": "stderr",
     "output_type": "stream",
     "text": [
      "/srv/jaybie/archive/spatial-privacy-master/nn_matchers.py:690: FutureWarning: in the future insert will treat boolean arrays and array-likes as a boolean index instead of casting it to integer\n",
      "  if i_o != np.argmax(weighted_scores): #!= i_o:\n"
     ]
    },
    {
     "name": "stdout",
     "output_type": "stream",
     "text": [
      "   3.75 : Done with 266, in 189.986 seconds. Error rate 0.684\n",
      "   (488, 7) (488, 7, 2) (488, 7, 2) in 1.537 seconds\n"
     ]
    },
    {
     "name": "stderr",
     "output_type": "stream",
     "text": [
      "/srv/jaybie/archive/spatial-privacy-master/nn_matchers.py:690: FutureWarning: in the future insert will treat boolean arrays and array-likes as a boolean index instead of casting it to integer\n",
      "  if i_o != np.argmax(weighted_scores): #!= i_o:\n"
     ]
    },
    {
     "name": "stdout",
     "output_type": "stream",
     "text": [
      "   3.75 : Done with 332, in 178.981 seconds. Error rate 0.699\n",
      "   (446, 7) (446, 7, 2) (446, 7, 2) in 1.380 seconds\n"
     ]
    },
    {
     "name": "stderr",
     "output_type": "stream",
     "text": [
      "/srv/jaybie/archive/spatial-privacy-master/nn_matchers.py:690: FutureWarning: in the future insert will treat boolean arrays and array-likes as a boolean index instead of casting it to integer\n",
      "  if i_o != np.argmax(weighted_scores): #!= i_o:\n"
     ]
    },
    {
     "name": "stdout",
     "output_type": "stream",
     "text": [
      "   3.75 : Done with 398, in 161.305 seconds. Error rate 0.706\n",
      "   (658, 7) (658, 7, 2) (658, 7, 2) in 3.005 seconds\n"
     ]
    },
    {
     "name": "stderr",
     "output_type": "stream",
     "text": [
      "/srv/jaybie/archive/spatial-privacy-master/nn_matchers.py:690: FutureWarning: in the future insert will treat boolean arrays and array-likes as a boolean index instead of casting it to integer\n",
      "  if i_o != np.argmax(weighted_scores): #!= i_o:\n"
     ]
    },
    {
     "name": "stdout",
     "output_type": "stream",
     "text": [
      "   3.75 : Done with 464, in 204.542 seconds. Error rate 0.703\n",
      "   (446, 7) (446, 7, 2) (446, 7, 2) in 1.194 seconds\n"
     ]
    },
    {
     "name": "stderr",
     "output_type": "stream",
     "text": [
      "/srv/jaybie/archive/spatial-privacy-master/nn_matchers.py:690: FutureWarning: in the future insert will treat boolean arrays and array-likes as a boolean index instead of casting it to integer\n",
      "  if i_o != np.argmax(weighted_scores): #!= i_o:\n"
     ]
    },
    {
     "name": "stdout",
     "output_type": "stream",
     "text": [
      "   3.75 : Done with 530, in 186.703 seconds. Error rate 0.702\n",
      "   (728, 7) (728, 7, 2) (728, 7, 2) in 2.612 seconds\n"
     ]
    },
    {
     "name": "stderr",
     "output_type": "stream",
     "text": [
      "/srv/jaybie/archive/spatial-privacy-master/nn_matchers.py:690: FutureWarning: in the future insert will treat boolean arrays and array-likes as a boolean index instead of casting it to integer\n",
      "  if i_o != np.argmax(weighted_scores): #!= i_o:\n"
     ]
    },
    {
     "name": "stdout",
     "output_type": "stream",
     "text": [
      "   3.75 : Done with 596, in 206.857 seconds. Error rate 0.705\n",
      "   (337, 7) (337, 7, 2) (337, 7, 2) in 0.887 seconds\n"
     ]
    },
    {
     "name": "stderr",
     "output_type": "stream",
     "text": [
      "/srv/jaybie/archive/spatial-privacy-master/nn_matchers.py:690: FutureWarning: in the future insert will treat boolean arrays and array-likes as a boolean index instead of casting it to integer\n",
      "  if i_o != np.argmax(weighted_scores): #!= i_o:\n"
     ]
    },
    {
     "name": "stdout",
     "output_type": "stream",
     "text": [
      "   3.75 : Done with 662, in 191.243 seconds. Error rate 0.704\n",
      "   (528, 7) (528, 7, 2) (528, 7, 2) in 1.441 seconds\n"
     ]
    },
    {
     "name": "stderr",
     "output_type": "stream",
     "text": [
      "/srv/jaybie/archive/spatial-privacy-master/nn_matchers.py:690: FutureWarning: in the future insert will treat boolean arrays and array-likes as a boolean index instead of casting it to integer\n",
      "  if i_o != np.argmax(weighted_scores): #!= i_o:\n"
     ]
    },
    {
     "name": "stdout",
     "output_type": "stream",
     "text": [
      "   3.75 : Done with 728, in 171.217 seconds. Error rate 0.706\n",
      "   (625, 7) (625, 7, 2) (625, 7, 2) in 2.366 seconds\n"
     ]
    },
    {
     "name": "stderr",
     "output_type": "stream",
     "text": [
      "/srv/jaybie/archive/spatial-privacy-master/nn_matchers.py:690: FutureWarning: in the future insert will treat boolean arrays and array-likes as a boolean index instead of casting it to integer\n",
      "  if i_o != np.argmax(weighted_scores): #!= i_o:\n"
     ]
    },
    {
     "name": "stdout",
     "output_type": "stream",
     "text": [
      "   3.75 : Done with 794, in 199.182 seconds. Error rate 0.708\n",
      "   (1444, 7) (1444, 7, 2) (1444, 7, 2) in 5.235 seconds\n"
     ]
    },
    {
     "name": "stderr",
     "output_type": "stream",
     "text": [
      "/srv/jaybie/archive/spatial-privacy-master/nn_matchers.py:690: FutureWarning: in the future insert will treat boolean arrays and array-likes as a boolean index instead of casting it to integer\n",
      "  if i_o != np.argmax(weighted_scores): #!= i_o:\n"
     ]
    },
    {
     "name": "stdout",
     "output_type": "stream",
     "text": [
      "   3.75 : Done with 860, in 192.806 seconds. Error rate 0.703\n",
      "   (293, 7) (293, 7, 2) (293, 7, 2) in 0.634 seconds\n"
     ]
    },
    {
     "name": "stderr",
     "output_type": "stream",
     "text": [
      "/srv/jaybie/archive/spatial-privacy-master/nn_matchers.py:690: FutureWarning: in the future insert will treat boolean arrays and array-likes as a boolean index instead of casting it to integer\n",
      "  if i_o != np.argmax(weighted_scores): #!= i_o:\n"
     ]
    },
    {
     "name": "stdout",
     "output_type": "stream",
     "text": [
      "   3.75 : Done with 926, in 198.583 seconds. Error rate 0.706\n",
      "   (942, 7) (942, 7, 2) (942, 7, 2) in 5.218 seconds\n"
     ]
    },
    {
     "name": "stderr",
     "output_type": "stream",
     "text": [
      "/srv/jaybie/archive/spatial-privacy-master/nn_matchers.py:690: FutureWarning: in the future insert will treat boolean arrays and array-likes as a boolean index instead of casting it to integer\n",
      "  if i_o != np.argmax(weighted_scores): #!= i_o:\n"
     ]
    },
    {
     "name": "stdout",
     "output_type": "stream",
     "text": [
      "   3.75 : Done with 992, in 200.835 seconds. Error rate 0.704\n",
      "   (664, 7) (664, 7, 2) (664, 7, 2) in 2.467 seconds\n",
      "3.75  Total Time to match 3182.089 seconds.\n",
      "radius = 4.0\n",
      "   4.0 : Done with 2, in 6.282 seconds. Error rate 1.000\n",
      "   (934, 7) (934, 7, 2) (934, 7, 2) in 4.666 seconds\n"
     ]
    },
    {
     "name": "stderr",
     "output_type": "stream",
     "text": [
      "/srv/jaybie/archive/spatial-privacy-master/nn_matchers.py:690: FutureWarning: in the future insert will treat boolean arrays and array-likes as a boolean index instead of casting it to integer\n",
      "  if i_o != np.argmax(weighted_scores): #!= i_o:\n"
     ]
    },
    {
     "name": "stdout",
     "output_type": "stream",
     "text": [
      "   4.0 : Done with 68, in 178.706 seconds. Error rate 0.706\n",
      "   (649, 7) (649, 7, 2) (649, 7, 2) in 2.600 seconds\n"
     ]
    },
    {
     "name": "stderr",
     "output_type": "stream",
     "text": [
      "/srv/jaybie/archive/spatial-privacy-master/nn_matchers.py:690: FutureWarning: in the future insert will treat boolean arrays and array-likes as a boolean index instead of casting it to integer\n",
      "  if i_o != np.argmax(weighted_scores): #!= i_o:\n"
     ]
    },
    {
     "name": "stdout",
     "output_type": "stream",
     "text": [
      "   4.0 : Done with 134, in 206.550 seconds. Error rate 0.694\n",
      "   (1438, 7) (1438, 7, 2) (1438, 7, 2) in 7.536 seconds\n"
     ]
    },
    {
     "name": "stderr",
     "output_type": "stream",
     "text": [
      "/srv/jaybie/archive/spatial-privacy-master/nn_matchers.py:690: FutureWarning: in the future insert will treat boolean arrays and array-likes as a boolean index instead of casting it to integer\n",
      "  if i_o != np.argmax(weighted_scores): #!= i_o:\n"
     ]
    },
    {
     "name": "stdout",
     "output_type": "stream",
     "text": [
      "   4.0 : Done with 200, in 202.222 seconds. Error rate 0.690\n",
      "   (1282, 7) (1282, 7, 2) (1282, 7, 2) in 5.328 seconds\n"
     ]
    },
    {
     "name": "stderr",
     "output_type": "stream",
     "text": [
      "/srv/jaybie/archive/spatial-privacy-master/nn_matchers.py:690: FutureWarning: in the future insert will treat boolean arrays and array-likes as a boolean index instead of casting it to integer\n",
      "  if i_o != np.argmax(weighted_scores): #!= i_o:\n"
     ]
    },
    {
     "name": "stdout",
     "output_type": "stream",
     "text": [
      "   4.0 : Done with 266, in 213.227 seconds. Error rate 0.703\n",
      "   (445, 7) (445, 7, 2) (445, 7, 2) in 1.474 seconds\n"
     ]
    },
    {
     "name": "stderr",
     "output_type": "stream",
     "text": [
      "/srv/jaybie/archive/spatial-privacy-master/nn_matchers.py:690: FutureWarning: in the future insert will treat boolean arrays and array-likes as a boolean index instead of casting it to integer\n",
      "  if i_o != np.argmax(weighted_scores): #!= i_o:\n"
     ]
    },
    {
     "name": "stdout",
     "output_type": "stream",
     "text": [
      "   4.0 : Done with 332, in 187.844 seconds. Error rate 0.711\n",
      "   (377, 7) (377, 7, 2) (377, 7, 2) in 1.184 seconds\n"
     ]
    },
    {
     "name": "stderr",
     "output_type": "stream",
     "text": [
      "/srv/jaybie/archive/spatial-privacy-master/nn_matchers.py:690: FutureWarning: in the future insert will treat boolean arrays and array-likes as a boolean index instead of casting it to integer\n",
      "  if i_o != np.argmax(weighted_scores): #!= i_o:\n"
     ]
    },
    {
     "name": "stdout",
     "output_type": "stream",
     "text": [
      "   4.0 : Done with 398, in 188.675 seconds. Error rate 0.709\n",
      "   (624, 7) (624, 7, 2) (624, 7, 2) in 2.923 seconds\n"
     ]
    },
    {
     "name": "stderr",
     "output_type": "stream",
     "text": [
      "/srv/jaybie/archive/spatial-privacy-master/nn_matchers.py:690: FutureWarning: in the future insert will treat boolean arrays and array-likes as a boolean index instead of casting it to integer\n",
      "  if i_o != np.argmax(weighted_scores): #!= i_o:\n"
     ]
    },
    {
     "name": "stdout",
     "output_type": "stream",
     "text": [
      "   4.0 : Done with 464, in 208.383 seconds. Error rate 0.716\n",
      "   (409, 7) (409, 7, 2) (409, 7, 2) in 1.242 seconds\n"
     ]
    },
    {
     "name": "stderr",
     "output_type": "stream",
     "text": [
      "/srv/jaybie/archive/spatial-privacy-master/nn_matchers.py:690: FutureWarning: in the future insert will treat boolean arrays and array-likes as a boolean index instead of casting it to integer\n",
      "  if i_o != np.argmax(weighted_scores): #!= i_o:\n"
     ]
    },
    {
     "name": "stdout",
     "output_type": "stream",
     "text": [
      "   4.0 : Done with 530, in 205.467 seconds. Error rate 0.715\n",
      "   (807, 7) (807, 7, 2) (807, 7, 2) in 3.193 seconds\n"
     ]
    },
    {
     "name": "stderr",
     "output_type": "stream",
     "text": [
      "/srv/jaybie/archive/spatial-privacy-master/nn_matchers.py:690: FutureWarning: in the future insert will treat boolean arrays and array-likes as a boolean index instead of casting it to integer\n",
      "  if i_o != np.argmax(weighted_scores): #!= i_o:\n"
     ]
    },
    {
     "name": "stdout",
     "output_type": "stream",
     "text": [
      "   4.0 : Done with 596, in 223.242 seconds. Error rate 0.715\n",
      "   (384, 7) (384, 7, 2) (384, 7, 2) in 1.084 seconds\n"
     ]
    },
    {
     "name": "stderr",
     "output_type": "stream",
     "text": [
      "/srv/jaybie/archive/spatial-privacy-master/nn_matchers.py:690: FutureWarning: in the future insert will treat boolean arrays and array-likes as a boolean index instead of casting it to integer\n",
      "  if i_o != np.argmax(weighted_scores): #!= i_o:\n"
     ]
    },
    {
     "name": "stdout",
     "output_type": "stream",
     "text": [
      "   4.0 : Done with 662, in 201.107 seconds. Error rate 0.708\n",
      "   (501, 7) (501, 7, 2) (501, 7, 2) in 1.475 seconds\n"
     ]
    },
    {
     "name": "stderr",
     "output_type": "stream",
     "text": [
      "/srv/jaybie/archive/spatial-privacy-master/nn_matchers.py:690: FutureWarning: in the future insert will treat boolean arrays and array-likes as a boolean index instead of casting it to integer\n",
      "  if i_o != np.argmax(weighted_scores): #!= i_o:\n"
     ]
    },
    {
     "name": "stdout",
     "output_type": "stream",
     "text": [
      "   4.0 : Done with 728, in 193.671 seconds. Error rate 0.706\n",
      "   (695, 7) (695, 7, 2) (695, 7, 2) in 2.824 seconds\n"
     ]
    },
    {
     "name": "stderr",
     "output_type": "stream",
     "text": [
      "/srv/jaybie/archive/spatial-privacy-master/nn_matchers.py:690: FutureWarning: in the future insert will treat boolean arrays and array-likes as a boolean index instead of casting it to integer\n",
      "  if i_o != np.argmax(weighted_scores): #!= i_o:\n"
     ]
    },
    {
     "name": "stdout",
     "output_type": "stream",
     "text": [
      "   4.0 : Done with 794, in 213.120 seconds. Error rate 0.705\n",
      "   (1277, 7) (1277, 7, 2) (1277, 7, 2) in 5.261 seconds\n"
     ]
    },
    {
     "name": "stderr",
     "output_type": "stream",
     "text": [
      "/srv/jaybie/archive/spatial-privacy-master/nn_matchers.py:690: FutureWarning: in the future insert will treat boolean arrays and array-likes as a boolean index instead of casting it to integer\n",
      "  if i_o != np.argmax(weighted_scores): #!= i_o:\n"
     ]
    },
    {
     "name": "stdout",
     "output_type": "stream",
     "text": [
      "   4.0 : Done with 860, in 210.323 seconds. Error rate 0.702\n",
      "   (267, 7) (267, 7, 2) (267, 7, 2) in 0.577 seconds\n"
     ]
    },
    {
     "name": "stderr",
     "output_type": "stream",
     "text": [
      "/srv/jaybie/archive/spatial-privacy-master/nn_matchers.py:690: FutureWarning: in the future insert will treat boolean arrays and array-likes as a boolean index instead of casting it to integer\n",
      "  if i_o != np.argmax(weighted_scores): #!= i_o:\n"
     ]
    },
    {
     "name": "stdout",
     "output_type": "stream",
     "text": [
      "   4.0 : Done with 926, in 208.638 seconds. Error rate 0.703\n",
      "   (923, 7) (923, 7, 2) (923, 7, 2) in 2.591 seconds\n"
     ]
    },
    {
     "name": "stderr",
     "output_type": "stream",
     "text": [
      "/srv/jaybie/archive/spatial-privacy-master/nn_matchers.py:690: FutureWarning: in the future insert will treat boolean arrays and array-likes as a boolean index instead of casting it to integer\n",
      "  if i_o != np.argmax(weighted_scores): #!= i_o:\n"
     ]
    },
    {
     "name": "stdout",
     "output_type": "stream",
     "text": [
      "   4.0 : Done with 992, in 213.420 seconds. Error rate 0.703\n",
      "   (769, 7) (769, 7, 2) (769, 7, 2) in 3.290 seconds\n",
      "4.0  Total Time to match 3457.431 seconds.\n",
      "radius = 4.25\n",
      "   4.25 : Done with 2, in 7.753 seconds. Error rate 1.000\n",
      "   (1093, 7) (1093, 7, 2) (1093, 7, 2) in 5.982 seconds\n"
     ]
    },
    {
     "name": "stderr",
     "output_type": "stream",
     "text": [
      "/srv/jaybie/archive/spatial-privacy-master/nn_matchers.py:690: FutureWarning: in the future insert will treat boolean arrays and array-likes as a boolean index instead of casting it to integer\n",
      "  if i_o != np.argmax(weighted_scores): #!= i_o:\n"
     ]
    },
    {
     "name": "stdout",
     "output_type": "stream",
     "text": [
      "   4.25 : Done with 68, in 204.105 seconds. Error rate 0.691\n",
      "   (757, 7) (757, 7, 2) (757, 7, 2) in 3.292 seconds\n"
     ]
    },
    {
     "name": "stderr",
     "output_type": "stream",
     "text": [
      "/srv/jaybie/archive/spatial-privacy-master/nn_matchers.py:690: FutureWarning: in the future insert will treat boolean arrays and array-likes as a boolean index instead of casting it to integer\n",
      "  if i_o != np.argmax(weighted_scores): #!= i_o:\n"
     ]
    },
    {
     "name": "stdout",
     "output_type": "stream",
     "text": [
      "   4.25 : Done with 134, in 204.693 seconds. Error rate 0.701\n",
      "   (1518, 7) (1518, 7, 2) (1518, 7, 2) in 8.457 seconds\n"
     ]
    },
    {
     "name": "stderr",
     "output_type": "stream",
     "text": [
      "/srv/jaybie/archive/spatial-privacy-master/nn_matchers.py:690: FutureWarning: in the future insert will treat boolean arrays and array-likes as a boolean index instead of casting it to integer\n",
      "  if i_o != np.argmax(weighted_scores): #!= i_o:\n"
     ]
    },
    {
     "name": "stdout",
     "output_type": "stream",
     "text": [
      "   4.25 : Done with 200, in 219.991 seconds. Error rate 0.680\n",
      "   (1590, 7) (1590, 7, 2) (1590, 7, 2) in 7.522 seconds\n"
     ]
    },
    {
     "name": "stderr",
     "output_type": "stream",
     "text": [
      "/srv/jaybie/archive/spatial-privacy-master/nn_matchers.py:690: FutureWarning: in the future insert will treat boolean arrays and array-likes as a boolean index instead of casting it to integer\n",
      "  if i_o != np.argmax(weighted_scores): #!= i_o:\n"
     ]
    },
    {
     "name": "stdout",
     "output_type": "stream",
     "text": [
      "   4.25 : Done with 266, in 215.158 seconds. Error rate 0.699\n",
      "   (439, 7) (439, 7, 2) (439, 7, 2) in 1.396 seconds\n"
     ]
    },
    {
     "name": "stderr",
     "output_type": "stream",
     "text": [
      "/srv/jaybie/archive/spatial-privacy-master/nn_matchers.py:690: FutureWarning: in the future insert will treat boolean arrays and array-likes as a boolean index instead of casting it to integer\n",
      "  if i_o != np.argmax(weighted_scores): #!= i_o:\n"
     ]
    },
    {
     "name": "stdout",
     "output_type": "stream",
     "text": [
      "   4.25 : Done with 332, in 212.548 seconds. Error rate 0.714\n",
      "   (379, 7) (379, 7, 2) (379, 7, 2) in 1.182 seconds\n"
     ]
    },
    {
     "name": "stderr",
     "output_type": "stream",
     "text": [
      "/srv/jaybie/archive/spatial-privacy-master/nn_matchers.py:690: FutureWarning: in the future insert will treat boolean arrays and array-likes as a boolean index instead of casting it to integer\n",
      "  if i_o != np.argmax(weighted_scores): #!= i_o:\n"
     ]
    },
    {
     "name": "stdout",
     "output_type": "stream",
     "text": [
      "   4.25 : Done with 398, in 202.603 seconds. Error rate 0.719\n",
      "   (619, 7) (619, 7, 2) (619, 7, 2) in 2.924 seconds\n"
     ]
    },
    {
     "name": "stderr",
     "output_type": "stream",
     "text": [
      "/srv/jaybie/archive/spatial-privacy-master/nn_matchers.py:690: FutureWarning: in the future insert will treat boolean arrays and array-likes as a boolean index instead of casting it to integer\n",
      "  if i_o != np.argmax(weighted_scores): #!= i_o:\n"
     ]
    },
    {
     "name": "stdout",
     "output_type": "stream",
     "text": [
      "   4.25 : Done with 464, in 227.860 seconds. Error rate 0.718\n",
      "   (448, 7) (448, 7, 2) (448, 7, 2) in 1.406 seconds\n"
     ]
    },
    {
     "name": "stderr",
     "output_type": "stream",
     "text": [
      "/srv/jaybie/archive/spatial-privacy-master/nn_matchers.py:690: FutureWarning: in the future insert will treat boolean arrays and array-likes as a boolean index instead of casting it to integer\n",
      "  if i_o != np.argmax(weighted_scores): #!= i_o:\n"
     ]
    },
    {
     "name": "stdout",
     "output_type": "stream",
     "text": [
      "   4.25 : Done with 530, in 223.599 seconds. Error rate 0.717\n",
      "   (799, 7) (799, 7, 2) (799, 7, 2) in 3.294 seconds\n"
     ]
    },
    {
     "name": "stderr",
     "output_type": "stream",
     "text": [
      "/srv/jaybie/archive/spatial-privacy-master/nn_matchers.py:690: FutureWarning: in the future insert will treat boolean arrays and array-likes as a boolean index instead of casting it to integer\n",
      "  if i_o != np.argmax(weighted_scores): #!= i_o:\n"
     ]
    },
    {
     "name": "stdout",
     "output_type": "stream",
     "text": [
      "   4.25 : Done with 596, in 238.004 seconds. Error rate 0.716\n",
      "   (318, 7) (318, 7, 2) (318, 7, 2) in 0.810 seconds\n"
     ]
    },
    {
     "name": "stderr",
     "output_type": "stream",
     "text": [
      "/srv/jaybie/archive/spatial-privacy-master/nn_matchers.py:690: FutureWarning: in the future insert will treat boolean arrays and array-likes as a boolean index instead of casting it to integer\n",
      "  if i_o != np.argmax(weighted_scores): #!= i_o:\n"
     ]
    },
    {
     "name": "stdout",
     "output_type": "stream",
     "text": [
      "   4.25 : Done with 662, in 208.670 seconds. Error rate 0.711\n",
      "   (534, 7) (534, 7, 2) (534, 7, 2) in 1.530 seconds\n"
     ]
    },
    {
     "name": "stderr",
     "output_type": "stream",
     "text": [
      "/srv/jaybie/archive/spatial-privacy-master/nn_matchers.py:690: FutureWarning: in the future insert will treat boolean arrays and array-likes as a boolean index instead of casting it to integer\n",
      "  if i_o != np.argmax(weighted_scores): #!= i_o:\n"
     ]
    },
    {
     "name": "stdout",
     "output_type": "stream",
     "text": [
      "   4.25 : Done with 728, in 213.595 seconds. Error rate 0.707\n",
      "   (901, 7) (901, 7, 2) (901, 7, 2) in 3.978 seconds\n"
     ]
    },
    {
     "name": "stderr",
     "output_type": "stream",
     "text": [
      "/srv/jaybie/archive/spatial-privacy-master/nn_matchers.py:690: FutureWarning: in the future insert will treat boolean arrays and array-likes as a boolean index instead of casting it to integer\n",
      "  if i_o != np.argmax(weighted_scores): #!= i_o:\n"
     ]
    },
    {
     "name": "stdout",
     "output_type": "stream",
     "text": [
      "   4.25 : Done with 794, in 235.139 seconds. Error rate 0.707\n",
      "   (1422, 7) (1422, 7, 2) (1422, 7, 2) in 6.516 seconds\n"
     ]
    },
    {
     "name": "stderr",
     "output_type": "stream",
     "text": [
      "/srv/jaybie/archive/spatial-privacy-master/nn_matchers.py:690: FutureWarning: in the future insert will treat boolean arrays and array-likes as a boolean index instead of casting it to integer\n",
      "  if i_o != np.argmax(weighted_scores): #!= i_o:\n"
     ]
    },
    {
     "name": "stdout",
     "output_type": "stream",
     "text": [
      "   4.25 : Done with 860, in 243.143 seconds. Error rate 0.703\n",
      "   (303, 7) (303, 7, 2) (303, 7, 2) in 0.686 seconds\n"
     ]
    },
    {
     "name": "stderr",
     "output_type": "stream",
     "text": [
      "/srv/jaybie/archive/spatial-privacy-master/nn_matchers.py:690: FutureWarning: in the future insert will treat boolean arrays and array-likes as a boolean index instead of casting it to integer\n",
      "  if i_o != np.argmax(weighted_scores): #!= i_o:\n"
     ]
    },
    {
     "name": "stdout",
     "output_type": "stream",
     "text": [
      "   4.25 : Done with 926, in 241.597 seconds. Error rate 0.703\n",
      "   (1005, 7) (1005, 7, 2) (1005, 7, 2) in 3.153 seconds\n"
     ]
    },
    {
     "name": "stderr",
     "output_type": "stream",
     "text": [
      "/srv/jaybie/archive/spatial-privacy-master/nn_matchers.py:690: FutureWarning: in the future insert will treat boolean arrays and array-likes as a boolean index instead of casting it to integer\n",
      "  if i_o != np.argmax(weighted_scores): #!= i_o:\n"
     ]
    },
    {
     "name": "stdout",
     "output_type": "stream",
     "text": [
      "   4.25 : Done with 992, in 242.882 seconds. Error rate 0.700\n",
      "   (1023, 7) (1023, 7, 2) (1023, 7, 2) in 5.114 seconds\n",
      "4.25  Total Time to match 3769.296 seconds.\n",
      "radius = 4.5\n",
      "   4.5 : Done with 2, in 5.964 seconds. Error rate 1.000\n",
      "   (1232, 7) (1232, 7, 2) (1232, 7, 2) in 3.965 seconds\n"
     ]
    },
    {
     "name": "stderr",
     "output_type": "stream",
     "text": [
      "/srv/jaybie/archive/spatial-privacy-master/nn_matchers.py:690: FutureWarning: in the future insert will treat boolean arrays and array-likes as a boolean index instead of casting it to integer\n",
      "  if i_o != np.argmax(weighted_scores): #!= i_o:\n"
     ]
    },
    {
     "name": "stdout",
     "output_type": "stream",
     "text": [
      "   4.5 : Done with 68, in 217.732 seconds. Error rate 0.647\n",
      "   (796, 7) (796, 7, 2) (796, 7, 2) in 3.675 seconds\n"
     ]
    },
    {
     "name": "stderr",
     "output_type": "stream",
     "text": [
      "/srv/jaybie/archive/spatial-privacy-master/nn_matchers.py:690: FutureWarning: in the future insert will treat boolean arrays and array-likes as a boolean index instead of casting it to integer\n",
      "  if i_o != np.argmax(weighted_scores): #!= i_o:\n"
     ]
    },
    {
     "name": "stdout",
     "output_type": "stream",
     "text": [
      "   4.5 : Done with 134, in 214.531 seconds. Error rate 0.657\n",
      "   (1364, 7) (1364, 7, 2) (1364, 7, 2) in 7.712 seconds\n"
     ]
    },
    {
     "name": "stderr",
     "output_type": "stream",
     "text": [
      "/srv/jaybie/archive/spatial-privacy-master/nn_matchers.py:690: FutureWarning: in the future insert will treat boolean arrays and array-likes as a boolean index instead of casting it to integer\n",
      "  if i_o != np.argmax(weighted_scores): #!= i_o:\n"
     ]
    },
    {
     "name": "stdout",
     "output_type": "stream",
     "text": [
      "   4.5 : Done with 200, in 240.222 seconds. Error rate 0.675\n",
      "   (1828, 7) (1828, 7, 2) (1828, 7, 2) in 8.995 seconds\n"
     ]
    },
    {
     "name": "stderr",
     "output_type": "stream",
     "text": [
      "/srv/jaybie/archive/spatial-privacy-master/nn_matchers.py:690: FutureWarning: in the future insert will treat boolean arrays and array-likes as a boolean index instead of casting it to integer\n",
      "  if i_o != np.argmax(weighted_scores): #!= i_o:\n"
     ]
    },
    {
     "name": "stdout",
     "output_type": "stream",
     "text": [
      "   4.5 : Done with 266, in 240.528 seconds. Error rate 0.688\n",
      "   (435, 7) (435, 7, 2) (435, 7, 2) in 1.464 seconds\n"
     ]
    },
    {
     "name": "stderr",
     "output_type": "stream",
     "text": [
      "/srv/jaybie/archive/spatial-privacy-master/nn_matchers.py:690: FutureWarning: in the future insert will treat boolean arrays and array-likes as a boolean index instead of casting it to integer\n",
      "  if i_o != np.argmax(weighted_scores): #!= i_o:\n"
     ]
    },
    {
     "name": "stdout",
     "output_type": "stream",
     "text": [
      "   4.5 : Done with 332, in 227.609 seconds. Error rate 0.708\n",
      "   (427, 7) (427, 7, 2) (427, 7, 2) in 1.284 seconds\n"
     ]
    },
    {
     "name": "stderr",
     "output_type": "stream",
     "text": [
      "/srv/jaybie/archive/spatial-privacy-master/nn_matchers.py:690: FutureWarning: in the future insert will treat boolean arrays and array-likes as a boolean index instead of casting it to integer\n",
      "  if i_o != np.argmax(weighted_scores): #!= i_o:\n"
     ]
    },
    {
     "name": "stdout",
     "output_type": "stream",
     "text": [
      "   4.5 : Done with 398, in 221.726 seconds. Error rate 0.709\n",
      "   (816, 7) (816, 7, 2) (816, 7, 2) in 4.202 seconds\n"
     ]
    },
    {
     "name": "stderr",
     "output_type": "stream",
     "text": [
      "/srv/jaybie/archive/spatial-privacy-master/nn_matchers.py:690: FutureWarning: in the future insert will treat boolean arrays and array-likes as a boolean index instead of casting it to integer\n",
      "  if i_o != np.argmax(weighted_scores): #!= i_o:\n"
     ]
    },
    {
     "name": "stdout",
     "output_type": "stream",
     "text": [
      "   4.5 : Done with 464, in 261.859 seconds. Error rate 0.705\n",
      "   (607, 7) (607, 7, 2) (607, 7, 2) in 1.963 seconds\n"
     ]
    },
    {
     "name": "stderr",
     "output_type": "stream",
     "text": [
      "/srv/jaybie/archive/spatial-privacy-master/nn_matchers.py:690: FutureWarning: in the future insert will treat boolean arrays and array-likes as a boolean index instead of casting it to integer\n",
      "  if i_o != np.argmax(weighted_scores): #!= i_o:\n"
     ]
    },
    {
     "name": "stdout",
     "output_type": "stream",
     "text": [
      "   4.5 : Done with 530, in 253.149 seconds. Error rate 0.708\n",
      "   (927, 7) (927, 7, 2) (927, 7, 2) in 3.965 seconds\n"
     ]
    },
    {
     "name": "stderr",
     "output_type": "stream",
     "text": [
      "/srv/jaybie/archive/spatial-privacy-master/nn_matchers.py:690: FutureWarning: in the future insert will treat boolean arrays and array-likes as a boolean index instead of casting it to integer\n",
      "  if i_o != np.argmax(weighted_scores): #!= i_o:\n"
     ]
    },
    {
     "name": "stdout",
     "output_type": "stream",
     "text": [
      "   4.5 : Done with 596, in 275.161 seconds. Error rate 0.708\n",
      "   (369, 7) (369, 7, 2) (369, 7, 2) in 0.995 seconds\n"
     ]
    },
    {
     "name": "stderr",
     "output_type": "stream",
     "text": [
      "/srv/jaybie/archive/spatial-privacy-master/nn_matchers.py:690: FutureWarning: in the future insert will treat boolean arrays and array-likes as a boolean index instead of casting it to integer\n",
      "  if i_o != np.argmax(weighted_scores): #!= i_o:\n"
     ]
    },
    {
     "name": "stdout",
     "output_type": "stream",
     "text": [
      "   4.5 : Done with 662, in 230.922 seconds. Error rate 0.704\n",
      "   (581, 7) (581, 7, 2) (581, 7, 2) in 1.705 seconds\n"
     ]
    },
    {
     "name": "stderr",
     "output_type": "stream",
     "text": [
      "/srv/jaybie/archive/spatial-privacy-master/nn_matchers.py:690: FutureWarning: in the future insert will treat boolean arrays and array-likes as a boolean index instead of casting it to integer\n",
      "  if i_o != np.argmax(weighted_scores): #!= i_o:\n"
     ]
    },
    {
     "name": "stdout",
     "output_type": "stream",
     "text": [
      "   4.5 : Done with 728, in 238.314 seconds. Error rate 0.705\n",
      "   (996, 7) (996, 7, 2) (996, 7, 2) in 4.760 seconds\n"
     ]
    },
    {
     "name": "stderr",
     "output_type": "stream",
     "text": [
      "/srv/jaybie/archive/spatial-privacy-master/nn_matchers.py:690: FutureWarning: in the future insert will treat boolean arrays and array-likes as a boolean index instead of casting it to integer\n",
      "  if i_o != np.argmax(weighted_scores): #!= i_o:\n"
     ]
    },
    {
     "name": "stdout",
     "output_type": "stream",
     "text": [
      "   4.5 : Done with 794, in 261.172 seconds. Error rate 0.704\n",
      "   (1831, 7) (1831, 7, 2) (1831, 7, 2) in 8.603 seconds\n"
     ]
    },
    {
     "name": "stderr",
     "output_type": "stream",
     "text": [
      "/srv/jaybie/archive/spatial-privacy-master/nn_matchers.py:690: FutureWarning: in the future insert will treat boolean arrays and array-likes as a boolean index instead of casting it to integer\n",
      "  if i_o != np.argmax(weighted_scores): #!= i_o:\n"
     ]
    },
    {
     "name": "stdout",
     "output_type": "stream",
     "text": [
      "   4.5 : Done with 860, in 262.316 seconds. Error rate 0.701\n",
      "   (306, 7) (306, 7, 2) (306, 7, 2) in 0.671 seconds\n"
     ]
    },
    {
     "name": "stderr",
     "output_type": "stream",
     "text": [
      "/srv/jaybie/archive/spatial-privacy-master/nn_matchers.py:690: FutureWarning: in the future insert will treat boolean arrays and array-likes as a boolean index instead of casting it to integer\n",
      "  if i_o != np.argmax(weighted_scores): #!= i_o:\n"
     ]
    },
    {
     "name": "stdout",
     "output_type": "stream",
     "text": [
      "   4.5 : Done with 926, in 268.363 seconds. Error rate 0.702\n",
      "   (1084, 7) (1084, 7, 2) (1084, 7, 2) in 3.725 seconds\n"
     ]
    },
    {
     "name": "stderr",
     "output_type": "stream",
     "text": [
      "/srv/jaybie/archive/spatial-privacy-master/nn_matchers.py:690: FutureWarning: in the future insert will treat boolean arrays and array-likes as a boolean index instead of casting it to integer\n",
      "  if i_o != np.argmax(weighted_scores): #!= i_o:\n"
     ]
    },
    {
     "name": "stdout",
     "output_type": "stream",
     "text": [
      "   4.5 : Done with 992, in 255.478 seconds. Error rate 0.702\n",
      "   (988, 7) (988, 7, 2) (988, 7, 2) in 3.077 seconds\n",
      "4.5  Total Time to match 4134.650 seconds.\n",
      "radius = 4.75\n",
      "   4.75 : Done with 2, in 5.365 seconds. Error rate 1.000\n",
      "   (1128, 7) (1128, 7, 2) (1128, 7, 2) in 3.491 seconds\n"
     ]
    },
    {
     "name": "stderr",
     "output_type": "stream",
     "text": [
      "/srv/jaybie/archive/spatial-privacy-master/nn_matchers.py:690: FutureWarning: in the future insert will treat boolean arrays and array-likes as a boolean index instead of casting it to integer\n",
      "  if i_o != np.argmax(weighted_scores): #!= i_o:\n"
     ]
    },
    {
     "name": "stdout",
     "output_type": "stream",
     "text": [
      "   4.75 : Done with 68, in 233.986 seconds. Error rate 0.676\n",
      "   (886, 7) (886, 7, 2) (886, 7, 2) in 4.417 seconds\n"
     ]
    },
    {
     "name": "stderr",
     "output_type": "stream",
     "text": [
      "/srv/jaybie/archive/spatial-privacy-master/nn_matchers.py:690: FutureWarning: in the future insert will treat boolean arrays and array-likes as a boolean index instead of casting it to integer\n",
      "  if i_o != np.argmax(weighted_scores): #!= i_o:\n"
     ]
    },
    {
     "name": "stdout",
     "output_type": "stream",
     "text": [
      "   4.75 : Done with 134, in 238.496 seconds. Error rate 0.687\n",
      "   (1172, 7) (1172, 7, 2) (1172, 7, 2) in 6.450 seconds\n"
     ]
    },
    {
     "name": "stderr",
     "output_type": "stream",
     "text": [
      "/srv/jaybie/archive/spatial-privacy-master/nn_matchers.py:690: FutureWarning: in the future insert will treat boolean arrays and array-likes as a boolean index instead of casting it to integer\n",
      "  if i_o != np.argmax(weighted_scores): #!= i_o:\n"
     ]
    },
    {
     "name": "stdout",
     "output_type": "stream",
     "text": [
      "   4.75 : Done with 200, in 252.130 seconds. Error rate 0.690\n",
      "   (2169, 7) (2169, 7, 2) (2169, 7, 2) in 11.692 seconds\n"
     ]
    },
    {
     "name": "stderr",
     "output_type": "stream",
     "text": [
      "/srv/jaybie/archive/spatial-privacy-master/nn_matchers.py:690: FutureWarning: in the future insert will treat boolean arrays and array-likes as a boolean index instead of casting it to integer\n",
      "  if i_o != np.argmax(weighted_scores): #!= i_o:\n"
     ]
    },
    {
     "name": "stdout",
     "output_type": "stream",
     "text": [
      "   4.75 : Done with 266, in 272.466 seconds. Error rate 0.699\n",
      "   (433, 7) (433, 7, 2) (433, 7, 2) in 1.385 seconds\n"
     ]
    },
    {
     "name": "stderr",
     "output_type": "stream",
     "text": [
      "/srv/jaybie/archive/spatial-privacy-master/nn_matchers.py:690: FutureWarning: in the future insert will treat boolean arrays and array-likes as a boolean index instead of casting it to integer\n",
      "  if i_o != np.argmax(weighted_scores): #!= i_o:\n"
     ]
    },
    {
     "name": "stdout",
     "output_type": "stream",
     "text": [
      "   4.75 : Done with 332, in 247.235 seconds. Error rate 0.717\n",
      "   (375, 7) (375, 7, 2) (375, 7, 2) in 1.131 seconds\n"
     ]
    },
    {
     "name": "stderr",
     "output_type": "stream",
     "text": [
      "/srv/jaybie/archive/spatial-privacy-master/nn_matchers.py:690: FutureWarning: in the future insert will treat boolean arrays and array-likes as a boolean index instead of casting it to integer\n",
      "  if i_o != np.argmax(weighted_scores): #!= i_o:\n"
     ]
    },
    {
     "name": "stdout",
     "output_type": "stream",
     "text": [
      "   4.75 : Done with 398, in 241.897 seconds. Error rate 0.714\n",
      "   (754, 7) (754, 7, 2) (754, 7, 2) in 3.921 seconds\n"
     ]
    },
    {
     "name": "stderr",
     "output_type": "stream",
     "text": [
      "/srv/jaybie/archive/spatial-privacy-master/nn_matchers.py:690: FutureWarning: in the future insert will treat boolean arrays and array-likes as a boolean index instead of casting it to integer\n",
      "  if i_o != np.argmax(weighted_scores): #!= i_o:\n"
     ]
    },
    {
     "name": "stdout",
     "output_type": "stream",
     "text": [
      "   4.75 : Done with 464, in 281.217 seconds. Error rate 0.716\n",
      "   (523, 7) (523, 7, 2) (523, 7, 2) in 1.773 seconds\n"
     ]
    },
    {
     "name": "stderr",
     "output_type": "stream",
     "text": [
      "/srv/jaybie/archive/spatial-privacy-master/nn_matchers.py:690: FutureWarning: in the future insert will treat boolean arrays and array-likes as a boolean index instead of casting it to integer\n",
      "  if i_o != np.argmax(weighted_scores): #!= i_o:\n"
     ]
    },
    {
     "name": "stdout",
     "output_type": "stream",
     "text": [
      "   4.75 : Done with 530, in 271.477 seconds. Error rate 0.713\n",
      "   (1078, 7) (1078, 7, 2) (1078, 7, 2) in 5.047 seconds\n"
     ]
    },
    {
     "name": "stderr",
     "output_type": "stream",
     "text": [
      "/srv/jaybie/archive/spatial-privacy-master/nn_matchers.py:690: FutureWarning: in the future insert will treat boolean arrays and array-likes as a boolean index instead of casting it to integer\n",
      "  if i_o != np.argmax(weighted_scores): #!= i_o:\n"
     ]
    },
    {
     "name": "stdout",
     "output_type": "stream",
     "text": [
      "   4.75 : Done with 596, in 305.389 seconds. Error rate 0.713\n",
      "   (315, 7) (315, 7, 2) (315, 7, 2) in 0.813 seconds\n"
     ]
    },
    {
     "name": "stderr",
     "output_type": "stream",
     "text": [
      "/srv/jaybie/archive/spatial-privacy-master/nn_matchers.py:690: FutureWarning: in the future insert will treat boolean arrays and array-likes as a boolean index instead of casting it to integer\n",
      "  if i_o != np.argmax(weighted_scores): #!= i_o:\n"
     ]
    },
    {
     "name": "stdout",
     "output_type": "stream",
     "text": [
      "   4.75 : Done with 662, in 238.035 seconds. Error rate 0.708\n",
      "   (590, 7) (590, 7, 2) (590, 7, 2) in 1.762 seconds\n"
     ]
    },
    {
     "name": "stderr",
     "output_type": "stream",
     "text": [
      "/srv/jaybie/archive/spatial-privacy-master/nn_matchers.py:690: FutureWarning: in the future insert will treat boolean arrays and array-likes as a boolean index instead of casting it to integer\n",
      "  if i_o != np.argmax(weighted_scores): #!= i_o:\n"
     ]
    },
    {
     "name": "stdout",
     "output_type": "stream",
     "text": [
      "   4.75 : Done with 728, in 246.968 seconds. Error rate 0.706\n",
      "   (921, 7) (921, 7, 2) (921, 7, 2) in 4.738 seconds\n"
     ]
    },
    {
     "name": "stderr",
     "output_type": "stream",
     "text": [
      "/srv/jaybie/archive/spatial-privacy-master/nn_matchers.py:690: FutureWarning: in the future insert will treat boolean arrays and array-likes as a boolean index instead of casting it to integer\n",
      "  if i_o != np.argmax(weighted_scores): #!= i_o:\n"
     ]
    },
    {
     "name": "stdout",
     "output_type": "stream",
     "text": [
      "   4.75 : Done with 794, in 253.580 seconds. Error rate 0.707\n",
      "   (1985, 7) (1985, 7, 2) (1985, 7, 2) in 9.566 seconds\n"
     ]
    },
    {
     "name": "stderr",
     "output_type": "stream",
     "text": [
      "/srv/jaybie/archive/spatial-privacy-master/nn_matchers.py:690: FutureWarning: in the future insert will treat boolean arrays and array-likes as a boolean index instead of casting it to integer\n",
      "  if i_o != np.argmax(weighted_scores): #!= i_o:\n"
     ]
    },
    {
     "name": "stdout",
     "output_type": "stream",
     "text": [
      "   4.75 : Done with 860, in 267.576 seconds. Error rate 0.701\n",
      "   (364, 7) (364, 7, 2) (364, 7, 2) in 0.807 seconds\n"
     ]
    },
    {
     "name": "stderr",
     "output_type": "stream",
     "text": [
      "/srv/jaybie/archive/spatial-privacy-master/nn_matchers.py:690: FutureWarning: in the future insert will treat boolean arrays and array-likes as a boolean index instead of casting it to integer\n",
      "  if i_o != np.argmax(weighted_scores): #!= i_o:\n"
     ]
    },
    {
     "name": "stdout",
     "output_type": "stream",
     "text": [
      "   4.75 : Done with 926, in 278.275 seconds. Error rate 0.703\n",
      "   (1488, 7) (1488, 7, 2) (1488, 7, 2) in 5.329 seconds\n"
     ]
    },
    {
     "name": "stderr",
     "output_type": "stream",
     "text": [
      "/srv/jaybie/archive/spatial-privacy-master/nn_matchers.py:690: FutureWarning: in the future insert will treat boolean arrays and array-likes as a boolean index instead of casting it to integer\n",
      "  if i_o != np.argmax(weighted_scores): #!= i_o:\n"
     ]
    },
    {
     "name": "stdout",
     "output_type": "stream",
     "text": [
      "   4.75 : Done with 992, in 267.405 seconds. Error rate 0.699\n",
      "   (1152, 7) (1152, 7, 2) (1152, 7, 2) in 3.708 seconds\n",
      "4.75  Total Time to match 4391.219 seconds.\n",
      "radius = 5.0\n",
      "   5.0 : Done with 2, in 6.456 seconds. Error rate 1.000\n",
      "   (1228, 7) (1228, 7, 2) (1228, 7, 2) in 4.128 seconds\n"
     ]
    },
    {
     "name": "stderr",
     "output_type": "stream",
     "text": [
      "/srv/jaybie/archive/spatial-privacy-master/nn_matchers.py:690: FutureWarning: in the future insert will treat boolean arrays and array-likes as a boolean index instead of casting it to integer\n",
      "  if i_o != np.argmax(weighted_scores): #!= i_o:\n"
     ]
    },
    {
     "name": "stdout",
     "output_type": "stream",
     "text": [
      "   5.0 : Done with 68, in 250.823 seconds. Error rate 0.691\n",
      "   (959, 7) (959, 7, 2) (959, 7, 2) in 5.318 seconds\n"
     ]
    },
    {
     "name": "stderr",
     "output_type": "stream",
     "text": [
      "/srv/jaybie/archive/spatial-privacy-master/nn_matchers.py:690: FutureWarning: in the future insert will treat boolean arrays and array-likes as a boolean index instead of casting it to integer\n",
      "  if i_o != np.argmax(weighted_scores): #!= i_o:\n"
     ]
    },
    {
     "name": "stdout",
     "output_type": "stream",
     "text": [
      "   5.0 : Done with 134, in 248.233 seconds. Error rate 0.701\n",
      "   (1473, 7) (1473, 7, 2) (1473, 7, 2) in 7.770 seconds\n"
     ]
    },
    {
     "name": "stderr",
     "output_type": "stream",
     "text": [
      "/srv/jaybie/archive/spatial-privacy-master/nn_matchers.py:690: FutureWarning: in the future insert will treat boolean arrays and array-likes as a boolean index instead of casting it to integer\n",
      "  if i_o != np.argmax(weighted_scores): #!= i_o:\n"
     ]
    },
    {
     "name": "stdout",
     "output_type": "stream",
     "text": [
      "   5.0 : Done with 200, in 258.120 seconds. Error rate 0.675\n",
      "   (1803, 7) (1803, 7, 2) (1803, 7, 2) in 9.255 seconds\n"
     ]
    },
    {
     "name": "stderr",
     "output_type": "stream",
     "text": [
      "/srv/jaybie/archive/spatial-privacy-master/nn_matchers.py:690: FutureWarning: in the future insert will treat boolean arrays and array-likes as a boolean index instead of casting it to integer\n",
      "  if i_o != np.argmax(weighted_scores): #!= i_o:\n"
     ]
    },
    {
     "name": "stdout",
     "output_type": "stream",
     "text": [
      "   5.0 : Done with 266, in 286.079 seconds. Error rate 0.695\n",
      "   (528, 7) (528, 7, 2) (528, 7, 2) in 1.664 seconds\n"
     ]
    },
    {
     "name": "stderr",
     "output_type": "stream",
     "text": [
      "/srv/jaybie/archive/spatial-privacy-master/nn_matchers.py:690: FutureWarning: in the future insert will treat boolean arrays and array-likes as a boolean index instead of casting it to integer\n",
      "  if i_o != np.argmax(weighted_scores): #!= i_o:\n"
     ]
    },
    {
     "name": "stdout",
     "output_type": "stream",
     "text": [
      "   5.0 : Done with 332, in 264.608 seconds. Error rate 0.714\n",
      "   (400, 7) (400, 7, 2) (400, 7, 2) in 1.250 seconds\n"
     ]
    },
    {
     "name": "stderr",
     "output_type": "stream",
     "text": [
      "/srv/jaybie/archive/spatial-privacy-master/nn_matchers.py:690: FutureWarning: in the future insert will treat boolean arrays and array-likes as a boolean index instead of casting it to integer\n",
      "  if i_o != np.argmax(weighted_scores): #!= i_o:\n"
     ]
    },
    {
     "name": "stdout",
     "output_type": "stream",
     "text": [
      "   5.0 : Done with 398, in 250.293 seconds. Error rate 0.716\n",
      "   (712, 7) (712, 7, 2) (712, 7, 2) in 3.866 seconds\n"
     ]
    },
    {
     "name": "stderr",
     "output_type": "stream",
     "text": [
      "/srv/jaybie/archive/spatial-privacy-master/nn_matchers.py:690: FutureWarning: in the future insert will treat boolean arrays and array-likes as a boolean index instead of casting it to integer\n",
      "  if i_o != np.argmax(weighted_scores): #!= i_o:\n"
     ]
    },
    {
     "name": "stdout",
     "output_type": "stream",
     "text": [
      "   5.0 : Done with 464, in 292.399 seconds. Error rate 0.713\n",
      "   (561, 7) (561, 7, 2) (561, 7, 2) in 2.038 seconds\n"
     ]
    },
    {
     "name": "stderr",
     "output_type": "stream",
     "text": [
      "/srv/jaybie/archive/spatial-privacy-master/nn_matchers.py:690: FutureWarning: in the future insert will treat boolean arrays and array-likes as a boolean index instead of casting it to integer\n",
      "  if i_o != np.argmax(weighted_scores): #!= i_o:\n"
     ]
    },
    {
     "name": "stdout",
     "output_type": "stream",
     "text": [
      "   5.0 : Done with 530, in 276.089 seconds. Error rate 0.709\n",
      "   (951, 7) (951, 7, 2) (951, 7, 2) in 4.654 seconds\n"
     ]
    },
    {
     "name": "stderr",
     "output_type": "stream",
     "text": [
      "/srv/jaybie/archive/spatial-privacy-master/nn_matchers.py:690: FutureWarning: in the future insert will treat boolean arrays and array-likes as a boolean index instead of casting it to integer\n",
      "  if i_o != np.argmax(weighted_scores): #!= i_o:\n"
     ]
    },
    {
     "name": "stdout",
     "output_type": "stream",
     "text": [
      "   5.0 : Done with 596, in 312.275 seconds. Error rate 0.708\n",
      "   (311, 7) (311, 7, 2) (311, 7, 2) in 0.791 seconds\n"
     ]
    },
    {
     "name": "stderr",
     "output_type": "stream",
     "text": [
      "/srv/jaybie/archive/spatial-privacy-master/nn_matchers.py:690: FutureWarning: in the future insert will treat boolean arrays and array-likes as a boolean index instead of casting it to integer\n",
      "  if i_o != np.argmax(weighted_scores): #!= i_o:\n"
     ]
    },
    {
     "name": "stdout",
     "output_type": "stream",
     "text": [
      "   5.0 : Done with 662, in 252.518 seconds. Error rate 0.707\n",
      "   (550, 7) (550, 7, 2) (550, 7, 2) in 1.746 seconds\n"
     ]
    },
    {
     "name": "stderr",
     "output_type": "stream",
     "text": [
      "/srv/jaybie/archive/spatial-privacy-master/nn_matchers.py:690: FutureWarning: in the future insert will treat boolean arrays and array-likes as a boolean index instead of casting it to integer\n",
      "  if i_o != np.argmax(weighted_scores): #!= i_o:\n"
     ]
    },
    {
     "name": "stdout",
     "output_type": "stream",
     "text": [
      "   5.0 : Done with 728, in 269.196 seconds. Error rate 0.707\n",
      "   (1005, 7) (1005, 7, 2) (1005, 7, 2) in 5.496 seconds\n"
     ]
    },
    {
     "name": "stderr",
     "output_type": "stream",
     "text": [
      "/srv/jaybie/archive/spatial-privacy-master/nn_matchers.py:690: FutureWarning: in the future insert will treat boolean arrays and array-likes as a boolean index instead of casting it to integer\n",
      "  if i_o != np.argmax(weighted_scores): #!= i_o:\n"
     ]
    },
    {
     "name": "stdout",
     "output_type": "stream",
     "text": [
      "   5.0 : Done with 794, in 272.595 seconds. Error rate 0.708\n",
      "   (1839, 7) (1839, 7, 2) (1839, 7, 2) in 9.759 seconds\n"
     ]
    },
    {
     "name": "stderr",
     "output_type": "stream",
     "text": [
      "/srv/jaybie/archive/spatial-privacy-master/nn_matchers.py:690: FutureWarning: in the future insert will treat boolean arrays and array-likes as a boolean index instead of casting it to integer\n",
      "  if i_o != np.argmax(weighted_scores): #!= i_o:\n"
     ]
    },
    {
     "name": "stdout",
     "output_type": "stream",
     "text": [
      "   5.0 : Done with 860, in 286.047 seconds. Error rate 0.703\n",
      "   (370, 7) (370, 7, 2) (370, 7, 2) in 0.854 seconds\n"
     ]
    },
    {
     "name": "stderr",
     "output_type": "stream",
     "text": [
      "/srv/jaybie/archive/spatial-privacy-master/nn_matchers.py:690: FutureWarning: in the future insert will treat boolean arrays and array-likes as a boolean index instead of casting it to integer\n",
      "  if i_o != np.argmax(weighted_scores): #!= i_o:\n"
     ]
    },
    {
     "name": "stdout",
     "output_type": "stream",
     "text": [
      "   5.0 : Done with 926, in 286.021 seconds. Error rate 0.707\n",
      "   (1527, 7) (1527, 7, 2) (1527, 7, 2) in 5.617 seconds\n"
     ]
    },
    {
     "name": "stderr",
     "output_type": "stream",
     "text": [
      "/srv/jaybie/archive/spatial-privacy-master/nn_matchers.py:690: FutureWarning: in the future insert will treat boolean arrays and array-likes as a boolean index instead of casting it to integer\n",
      "  if i_o != np.argmax(weighted_scores): #!= i_o:\n"
     ]
    },
    {
     "name": "stdout",
     "output_type": "stream",
     "text": [
      "   5.0 : Done with 992, in 274.747 seconds. Error rate 0.707\n",
      "   (1175, 7) (1175, 7, 2) (1175, 7, 2) in 3.692 seconds\n",
      "5.0  Total Time to match 4601.797 seconds.\n"
     ]
    }
   ],
   "source": [
    "descriptors = arcore_descriptors[:-1]\n",
    "\n",
    "partial_results_path = os.path.join(RESULTS_FOLDER,\"partial\")\n",
    "\n",
    "if not os.path.exists(partial_results_path): os.mkdir(partial_results_path)\n",
    "    \n",
    "exp_eval_propeties = []\n",
    "\n",
    "for radius in np.arange(0.25,5.1,0.25):\n",
    "    \n",
    "    t0 = time.time()\n",
    "    t1 = time.time()\n",
    "    \n",
    "    partial_scores_pool = []\n",
    "    per_radius_properties = []\n",
    "    \n",
    "    print(\"radius =\",radius)\n",
    "    \n",
    "    for obj_, obj_sample, object_name, original_vertex in sample_arcore_points:\n",
    "    #for s_i in sample_points_300:\n",
    "        \n",
    "        t3 = time.time()\n",
    "        \n",
    "        #obj_, object_name, original_vertex = sample_points[s_i]\n",
    "        \n",
    "        pointCloud = []\n",
    "        \n",
    "        try:\n",
    "            object_, ransac_pointCloud, tri_, u_n_ = arcore_spaces[obj_][obj_sample]\n",
    "            \n",
    "            ransac_nbrs = NearestNeighbors(n_neighbors=min(20000,len(ransac_pointCloud)), algorithm='kd_tree').fit(ransac_pointCloud[:,:3])\n",
    "            \n",
    "            dist_, ind_ = ransac_nbrs.kneighbors([original_vertex[:3]])\n",
    "            pointCloud =  ransac_pointCloud[ind_[0,np.where(dist_[0,:]<=radius)[0]]]\n",
    "            \n",
    "        except:\n",
    "            print(\"Can't get ransac samples for\",trial,obj_meta[0],dist_.shape,ind_.shape)\n",
    "            continue\n",
    "            \n",
    "        #if len(gen_planes) == 0: continue\n",
    "        if len(pointCloud) == 0: continue\n",
    "\n",
    "        local_keypoint_matches = []\n",
    "\n",
    "        try:\n",
    "            obj_meta, diff_ratios, diff_indexs, diff_scores, local_keypoint_matches = get_score_kdtree_lean(\n",
    "                [obj_, object_name, original_vertex], \n",
    "                pointCloud, \n",
    "                descriptors,\n",
    "                desc_new=True,\n",
    "                old=True\n",
    "                #key_cap=keypoint_cap,\n",
    "                #strict_cap=True\n",
    "            )\n",
    "            \n",
    "        except Exception as ex:\n",
    "            print(ex)\n",
    "            print(\"skipped\",object_name)\n",
    "            continue\n",
    "        \n",
    "        if len(local_keypoint_matches) == 0: \n",
    "            print(\"skipped\",object_name)\n",
    "            continue\n",
    "\n",
    "        t4 = time.time()\n",
    "\n",
    "        partial_scores_pool.append([\n",
    "            [obj_, object_name, original_vertex], \n",
    "            diff_ratios,\n",
    "            diff_indexs,\n",
    "            diff_scores,\n",
    "            local_keypoint_matches\n",
    "        ])\n",
    "                \n",
    "        per_radius_properties.append([\n",
    "            diff_ratios.shape,\n",
    "            diff_indexs.shape,\n",
    "            diff_scores.shape,\n",
    "            t4 - t3\n",
    "        ])\n",
    "\n",
    "        if len(partial_scores_pool) % 66 == 2:\n",
    "            \n",
    "            partial_errors_pool = ARcore_NNMatcher(partial_scores_pool, descriptors)\n",
    "            print(\"  \",radius,\": Done with {}, in {:.3f} seconds. Error rate {:.3f}\".format(\n",
    "                len(partial_scores_pool),\n",
    "                time.time()-t1,\n",
    "                np.sum(partial_errors_pool[:,1])/len(partial_scores_pool)\n",
    "            ))\n",
    "            print(\"  \",\n",
    "                  diff_ratios.shape,\n",
    "                  diff_indexs.shape,\n",
    "                  diff_scores.shape,\n",
    "                  \"in {:.3f} seconds\".format(t4 - t3)\n",
    "                 )\n",
    "                        \n",
    "            with bz2.BZ2File(RESULTS_FOLDER+'{}_partial_scores.pickle.bz2'.format(radius), 'w') as bz2_f:\n",
    "                pickle.dump(partial_scores_pool, bz2_f)\n",
    "                \n",
    "            t1  = time.time()\n",
    "            \n",
    "    exp_eval_propeties.append([\n",
    "        radius,\n",
    "        per_radius_properties\n",
    "    ])\n",
    "    \n",
    "    with open(RESULTS_FOLDER+'eval_properties.pickle', 'wb') as f:\n",
    "        pickle.dump(exp_eval_propeties, f)\n",
    "\n",
    "    print(radius,\" Total Time to match {:.3f} seconds.\".format(time.time()-t0))\n",
    "    \n",
    "    #print(len(partial_lengths))\n",
    "       "
   ]
  },
  {
   "cell_type": "code",
   "execution_count": 26,
   "metadata": {},
   "outputs": [
    {
     "name": "stdout",
     "output_type": "stream",
     "text": [
      "[ 100  400 1600]\n",
      "radius = 2.0\n",
      "   2.0 : Done with 2, in 2.120 seconds.\n",
      "   2.0 : Done with 68, in 73.996 seconds.\n",
      "   2.0 : Done with 134, in 82.537 seconds.\n",
      "   2.0 : Done with 200, in 82.433 seconds.\n",
      "   2.0 : Done with 266, in 82.305 seconds.\n",
      "   2.0 : Done with 332, in 83.708 seconds.\n",
      "   2.0 : Done with 398, in 80.310 seconds.\n",
      "   2.0 : Done with 464, in 91.236 seconds.\n",
      "   2.0 : Done with 530, in 98.665 seconds.\n",
      "   2.0 : Done with 596, in 92.687 seconds.\n",
      "   2.0 : Done with 662, in 87.719 seconds.\n",
      "   2.0 : Done with 728, in 84.075 seconds.\n",
      "   2.0 : Done with 794, in 87.344 seconds.\n",
      "   2.0 : Done with 860, in 87.578 seconds.\n",
      "   2.0 : Done with 926, in 88.426 seconds.\n",
      "   2.0 : Done with 992, in 79.609 seconds.\n",
      "2.0  Total Time to compute similarities 1293.553 seconds.\n"
     ]
    }
   ],
   "source": [
    "RESULTS_FOLDER=\"testing_results/nn_matcher_arcore/\"\n",
    "\n",
    "neighbor_sizes = 100*2**np.arange(0,5,2)\n",
    "\n",
    "print(neighbor_sizes)\n",
    "\n",
    "for radius in [2.0]:#radius_lrange:\n",
    "    \n",
    "    t0 = time.time()\n",
    "    t1 = t0\n",
    "    \n",
    "    norm_cdf_values = []\n",
    "    \n",
    "    print(\"radius =\",radius)\n",
    "    \n",
    "    for obj_, obj_sample, object_name, original_vertex in sample_arcore_points:\n",
    "        \n",
    "        pointCloud = []\n",
    "        \n",
    "        try:\n",
    "            object_, ransac_pointCloud, tri_, u_n_ = arcore_spaces[obj_][obj_sample]\n",
    "            \n",
    "            ransac_nbrs = NearestNeighbors(n_neighbors=min(20000,len(ransac_pointCloud)), algorithm='kd_tree').fit(ransac_pointCloud[:,:3])\n",
    "            \n",
    "            dist_, ind_ = ransac_nbrs.kneighbors([original_vertex[:3]])\n",
    "            pointCloud =  ransac_pointCloud[ind_[0,np.where(dist_[0,:]<=radius)[0]]]\n",
    "            \n",
    "        except:\n",
    "            print(\"Can't get arcore samples for\",obj_, obj_sample, object_name, original_vertex)\n",
    "            continue\n",
    "            \n",
    "        if len(pointCloud) == 0: continue\n",
    "            \n",
    "        per_space_values = []\n",
    "            \n",
    "        for neighbor_size in neighbor_sizes:\n",
    "\n",
    "            nbrs = NearestNeighbors(n_neighbors=min(neighbor_size,len(pointCloud)), algorithm='kd_tree').fit(pointCloud[:,:3])\n",
    "            distances, indices = nbrs.kneighbors(pointCloud[:,:3])\n",
    "\n",
    "            try:\n",
    "                nearby_normals = pointCloud[indices,3:6]\n",
    "                refrnc_normals = np.reshape(np.repeat(pointCloud[:,3:6],min(neighbor_size,len(pointCloud)),axis=0),nearby_normals.shape)\n",
    "\n",
    "                normal_product = np.sum(np.multiply(refrnc_normals,nearby_normals),axis=2)\n",
    "\n",
    "                #print(nearby_normals.shape, refrnc_normals.shape, normal_product.shape)\n",
    "            except Exception as e1:\n",
    "                print(\"Error while getting normals,\", e1)\n",
    "\n",
    "            color = np.mean(np.abs(normal_product))\n",
    "            hist, values = np.histogram(np.mean(np.abs(normal_product),axis = 1), bins = np.arange(0,1.01,0.01))\n",
    "            hist_all, values_all = np.histogram(np.abs(normal_product), bins = np.arange(0,1.01,0.01))\n",
    "            CY = np.cumsum(hist/np.sum(hist))\n",
    "\n",
    "            per_space_values.append([\n",
    "                hist,\n",
    "                CY,\n",
    "                values,\n",
    "                hist_all, \n",
    "                values_all,\n",
    "                neighbor_size,\n",
    "                len(pointCloud)\n",
    "            ])\n",
    "    \n",
    "        norm_cdf_values.append([\n",
    "            [obj_, object_name, original_vertex],\n",
    "            per_space_values\n",
    "        ])\n",
    "        \n",
    "        if len(norm_cdf_values) % 66 == 2:\n",
    "            \n",
    "            print(\"  \",radius,\": Done with {}, in {:.3f} seconds.\".format(\n",
    "                len(norm_cdf_values),\n",
    "                time.time()-t1\n",
    "            ))\n",
    "                \n",
    "            t1 = time.time()\n",
    "            \n",
    "        with open(RESULTS_FOLDER+'{}_partial_sim_hist.pickle'.format(radius), 'wb') as f:\n",
    "            pickle.dump(norm_cdf_values, f)\n",
    "\n",
    "    print(radius,\" Total Time to compute similarities {:.3f} seconds.\".format(time.time()-t0))\n",
    "    "
   ]
  },
  {
   "cell_type": "markdown",
   "metadata": {},
   "source": [
    "# Step 1.3: Results"
   ]
  },
  {
   "cell_type": "code",
   "execution_count": null,
   "metadata": {},
   "outputs": [],
   "source": [
    "#results_partials = []\n",
    "\n",
    "arcore_errors = []\n",
    "\n",
    "for radius in np.arange(0.5, 3.1, 0.5):\n",
    "\n",
    "    try:\n",
    "        with bz2.BZ2File(RESULTS_FOLDER+'{}_partial_scores.pickle.bz2'.format(radius), 'r') as bz2_f:\n",
    "            partial_scores_pool = pickle.load(bz2_f) \n",
    "\n",
    "    except:\n",
    "        print(\"Error getting Raw scores for\",radius)\n",
    "        continue\n",
    "\n",
    "    partial_errors_pool = ARcore_NNMatcher(partial_scores_pool, descriptors)\n",
    "    correct_interspace_labels_idxs = np.where(partial_errors_pool[:,1]==0)[0]\n",
    "    intraspace_errors  = partial_errors_pool[correct_interspace_labels_idxs,2]\n",
    "\n",
    "    print(radius,\"(Ransac) P1 Error Rate:\",np.sum(partial_errors_pool[:,1])/len(partial_scores_pool)) \n",
    "    print(\"   (Ransac) P2 Error Rate: {:.3f} (± {:.3f})\".format(np.nanmean(intraspace_errors),np.nanstd(intraspace_errors))) \n",
    "\n",
    "    arcore_errors.append([\n",
    "        radius,\n",
    "        np.sum(partial_errors_pool[:,1])/len(partial_scores_pool),\n",
    "        np.nanmean(intraspace_errors),\n",
    "        np.nanstd(intraspace_errors)\n",
    "    ])\n",
    "    \n",
    "with open(RESULTS_FOLDER+'arcore_results_partials_nn_matcher.pickle', 'wb') as f:\n",
    "    pickle.dump(arcore_errors,f)"
   ]
  },
  {
   "cell_type": "code",
   "execution_count": 18,
   "metadata": {
    "scrolled": true
   },
   "outputs": [
    {
     "ename": "EOFError",
     "evalue": "Ran out of input",
     "output_type": "error",
     "traceback": [
      "\u001b[0;31m---------------------------------------------------------------------------\u001b[0m",
      "\u001b[0;31mEOFError\u001b[0m                                  Traceback (most recent call last)",
      "\u001b[0;32m<ipython-input-18-fc80de23dee2>\u001b[0m in \u001b[0;36m<module>\u001b[0;34m\u001b[0m\n\u001b[1;32m      1\u001b[0m \u001b[0;32mwith\u001b[0m \u001b[0mopen\u001b[0m\u001b[0;34m(\u001b[0m\u001b[0mRESULTS_FOLDER\u001b[0m\u001b[0;34m+\u001b[0m\u001b[0;34m'eval_properties_{}.pickle'\u001b[0m\u001b[0;34m.\u001b[0m\u001b[0mformat\u001b[0m\u001b[0;34m(\u001b[0m\u001b[0mkeypoint_cap\u001b[0m\u001b[0;34m)\u001b[0m\u001b[0;34m,\u001b[0m \u001b[0;34m'rb'\u001b[0m\u001b[0;34m)\u001b[0m \u001b[0;32mas\u001b[0m \u001b[0mf\u001b[0m\u001b[0;34m:\u001b[0m\u001b[0;34m\u001b[0m\u001b[0;34m\u001b[0m\u001b[0m\n\u001b[0;32m----> 2\u001b[0;31m     \u001b[0mexp_eval_propeties\u001b[0m \u001b[0;34m=\u001b[0m \u001b[0mpickle\u001b[0m\u001b[0;34m.\u001b[0m\u001b[0mload\u001b[0m\u001b[0;34m(\u001b[0m\u001b[0mf\u001b[0m\u001b[0;34m)\u001b[0m\u001b[0;34m\u001b[0m\u001b[0;34m\u001b[0m\u001b[0m\n\u001b[0m\u001b[1;32m      3\u001b[0m \u001b[0;34m\u001b[0m\u001b[0m\n\u001b[1;32m      4\u001b[0m \u001b[0moverall_simp_properties\u001b[0m \u001b[0;34m=\u001b[0m \u001b[0;34m[\u001b[0m\u001b[0;34m]\u001b[0m\u001b[0;34m\u001b[0m\u001b[0;34m\u001b[0m\u001b[0m\n\u001b[1;32m      5\u001b[0m \u001b[0;34m\u001b[0m\u001b[0m\n",
      "\u001b[0;31mEOFError\u001b[0m: Ran out of input"
     ]
    }
   ],
   "source": [
    "with open(RESULTS_FOLDER+'eval_properties_{}.pickle'.format(keypoint_cap), 'rb') as f:\n",
    "    exp_eval_propeties = pickle.load(f)\n",
    "\n",
    "overall_simp_properties = []\n",
    "\n",
    "for radius, properties in exp_eval_propeties:\n",
    "\n",
    "    properties = np.asarray(properties)\n",
    "\n",
    "    simp_properties = []\n",
    "\n",
    "    for ratio_s, index_s, score_s, [proc_time, extrct_time] in properties:\n",
    "        simp_properties.append([\n",
    "            radius, \n",
    "            ratio_s[0],\n",
    "            proc_time,\n",
    "            extrct_time\n",
    "        ])\n",
    "\n",
    "    simp_properties = np.asarray(simp_properties)\n",
    "\n",
    "    overall_simp_properties.append([\n",
    "        radius,\n",
    "        np.mean(simp_properties[:,1]),\n",
    "        np.std(simp_properties[:,1]),\n",
    "        np.mean(simp_properties[:,2]),\n",
    "        np.std(simp_properties[:,2]),\n",
    "        np.mean(simp_properties[:,3]),\n",
    "        np.std(simp_properties[:,3])\n",
    "    ])\n",
    "    "
   ]
  },
  {
   "cell_type": "code",
   "execution_count": 13,
   "metadata": {},
   "outputs": [
    {
     "data": {
      "text/plain": [
       "Text(0.5, 1.0, 'NN-matcher')"
      ]
     },
     "execution_count": 13,
     "metadata": {},
     "output_type": "execute_result"
    },
    {
     "data": {
      "image/png": "[encoded data removed]",
      "text/plain": [
       "<Figure size 540x504 with 3 Axes>"
      ]
     },
     "metadata": {
      "needs_background": "light"
     },
     "output_type": "display_data"
    }
   ],
   "source": [
    "fig=plt.figure(figsize=(7.5, 7))\n",
    "\n",
    "ARCoreNN = np.asarray(arcore_errors)\n",
    "\n",
    "linewidth = 2.0\n",
    "markersize = 2.0\n",
    "\n",
    "ax2 = fig.add_subplot(212)#, sharex = ax1) \n",
    "\n",
    "ax2.grid(alpha = 0.7)\n",
    "ax2.set_ylim(-0.25,10.25)\n",
    "ax2.set_xlim(0,3)\n",
    "\n",
    "ax2.set_ylabel(\"INTRA-space Privacy (m)\", fontsize = 14);\n",
    "ax2.set_xlabel(\"Partial Radius (m)\", fontsize = 14);\n",
    "#ax2.set_yticklabels(fontsize = 16)\n",
    "#ax2.set_xticklabels(fontsize = 16)\n",
    "\n",
    "#plt.minorticks_on()\n",
    "\n",
    "ax2.plot(\n",
    "    ARCoreNN[:,0],\n",
    "    ARCoreNN[:,2],\n",
    "    '-.s',\n",
    "    linewidth = linewidth,\n",
    "    fillstyle = 'none',\n",
    "    mew = linewidth,markersize = markersize,\n",
    "    label = \"$\\Pi_2$, Generalized\"\n",
    ")\n",
    "\n",
    "ax2.legend(loc = \"upper right\", ncol = 1, fontsize = 10);#, bbox_to_anchor=(1.1, 1.5));\n",
    "\n",
    "ax1 = fig.add_subplot(211, sharex = ax2) \n",
    "\n",
    "ax1.grid(alpha = 0.7)\n",
    "ax1.set_ylim(-0.025,1.025)\n",
    "ax1.set_xlim(0,3.0)\n",
    "ax1.set_ylabel(\"INTER-space Privacy\", fontsize = 14);\n",
    "#ax1.set_xlabel(\"Partial Radius\", fontsize = 14);\n",
    "\n",
    "markersize = 7\n",
    "linewidth = 1.5\n",
    "\n",
    "p2 = ax1.plot(\n",
    "    ARCoreNN[:,0],\n",
    "    ARCoreNN[:,1],\n",
    "    \"-s\",\n",
    "    linewidth = linewidth,\n",
    "    fillstyle = 'none',\n",
    "    mew = linewidth,markersize = markersize,\n",
    "    label = \"$\\Pi_1$, Generalized\"\n",
    ")\n",
    "\n",
    "ax1.legend(loc = \"upper right\", ncol = 1, fontsize = 10);# bbox_to_anchor=(1.1, 1.5));\n",
    "handles, labels = ax1.get_legend_handles_labels()\n",
    "\n",
    "ax3 = ax1.twinx()\n",
    "ax3.set_ylim(-1.25,51.25);\n",
    "#ax1.set_xlim(0,2.0)\n",
    "ax3.set_ylabel(\"Inference Latency (s)\", fontsize = 14, color = 'darkgreen');\n",
    "\n",
    "handles.append(p3), labels.append(\"Latency, Generalized\")\n",
    "ax1.legend(handles, labels,loc = 'upper center', fontsize = 10)\n",
    "#ax1.set_xlabel(\"Partial Radius\")\n",
    "\n",
    "plt.title(\"NN-matcher\")\n",
    "\n",
    "#plt.savefig('plots/one-time-partials-spaces.png', format='png', dpi=300,bbox_inches = 'tight')\n"
   ]
  },
  {
   "cell_type": "code",
   "execution_count": null,
   "metadata": {},
   "outputs": [],
   "source": []
  },
  {
   "cell_type": "code",
   "execution_count": 9,
   "metadata": {},
   "outputs": [
    {
     "name": "stdout",
     "output_type": "stream",
     "text": [
      "[2, 'apartment', '2020.02.17.09.45.56']\n",
      "[1, 'driveway', '2020.02.17.09.52.08']\n",
      "[5, 'hallway', '2020.01.14.12.04.42']\n",
      "[4, 'kitchen', '2020.01.14.13.58.34']\n",
      "[0, 'reception', '2020.01.14.12.13.59']\n",
      "[6, 'stairwell', '2020.01.14.14.11.52']\n",
      "[3, 'workstation', '2020.01.14.11.17.09']\n",
      "[7, 'workstation2', '2020.01.14.11.55.07']\n"
     ]
    }
   ],
   "source": [
    "for object_name, t_d, t_k, t_d_c in arcore_descriptors:\n",
    "    print(object_name)"
   ]
  },
  {
   "cell_type": "code",
   "execution_count": 7,
   "metadata": {},
   "outputs": [],
   "source": [
    "def ARcore_NNMatcher(scores_pool, descriptors):\n",
    "\n",
    "    t0 = time.time()\n",
    "\n",
    "    errors = []\n",
    "\n",
    "    score_map = []\n",
    "\n",
    "    for obj_meta, diff_ratios, diff_indexs, diff_scores, local_keypoint_matches in scores_pool:\n",
    "\n",
    "        #obj_meta = scores[0]\n",
    "        #diff_ratios = scores[1]\n",
    "        #diff_indexs = scores[2]\n",
    "\n",
    "        diff_nn = diff_indexs[:,:,0]\n",
    "\n",
    "        scores_per_object = []\n",
    "\n",
    "        for c_o, c_d in enumerate(diff_ratios.T):\n",
    "            nns = diff_nn[:,c_o]\n",
    "            unq, unq_ind = np.unique(nns[np.argsort(c_d)], return_index=True)\n",
    "            unique_scores = c_d[np.argsort(c_d)][unq_ind]\n",
    "\n",
    "            scores_per_object.append([\n",
    "                len(unique_scores),\n",
    "                1-np.nanmean(unique_scores)\n",
    "            ])\n",
    "\n",
    "        scores_per_object = np.asarray(scores_per_object)\n",
    "        weighted_scores = np.multiply(scores_per_object[:,1],scores_per_object[:,0]/len(diff_ratios))\n",
    "\n",
    "        if np.any(np.isnan(weighted_scores)):\n",
    "            nan_candidates = np.where(np.isnan(weighted_scores)==True)[0]\n",
    "            print(obj_meta,object_labels[nan_candidates],len(diff_ratios))\n",
    "            print(scores_per_object[nan_candidates,0],scores_per_object[nan_candidates,1])\n",
    "\n",
    "        score_map.append(weighted_scores)\n",
    "\n",
    "        # for ARCore, need to check descriptor match label\n",
    "        obj_match = descriptors[np.argmax(weighted_scores)][0][0]\n",
    "\n",
    "        if obj_meta[0] != obj_match: #!= i_o:\n",
    "            errors.append([\n",
    "                obj_meta[0], # object meta information\n",
    "                1, #correct inter-space label or not\n",
    "                np.nan, # distance from correct intra-spae label\n",
    "                obj_match,\n",
    "                np.argsort(weighted_scores)\n",
    "                #np.argmax(weighted_scores)\n",
    "            ])\n",
    "        else: # Correct inter-space label; then, check intra-space label.\n",
    "\n",
    "            #diff_scores = scores[3]\n",
    "            #local_keypoint_matches = scores[4]\n",
    "\n",
    "            best_keypointMatches = local_keypoint_matches[np.argmax(weighted_scores)]\n",
    "            qry_kp = best_keypointMatches[1]\n",
    "            ref_kp = best_keypointMatches[2]\n",
    "\n",
    "            best_ref_kps, best_qry_kps  = get_best_kp_matches(\n",
    "                ref_kp, qry_kp, \n",
    "                diff_ratios[:,np.argmax(weighted_scores)]\n",
    "            )\n",
    "\n",
    "            errors.append([\n",
    "                obj_meta[0],\n",
    "                0,\n",
    "                LA.norm(np.nanmean(best_ref_kps[:,:3], axis = 0) - obj_meta[2][:3]),\n",
    "                obj_match,\n",
    "                np.argsort(weighted_scores)\n",
    "                #np.argmax(weighted_scores)\n",
    "            ])\n",
    "\n",
    "    return np.asarray(errors)\n"
   ]
  },
  {
   "cell_type": "code",
   "execution_count": null,
   "metadata": {},
   "outputs": [],
   "source": []
  }
 ],
 "metadata": {
  "kernelspec": {
   "display_name": "Python [conda env:.conda-3d_env] *",
   "language": "python",
   "name": "conda-env-.conda-3d_env-py"
  },
  "language_info": {
   "codemirror_mode": {
    "name": "ipython",
    "version": 3
   },
   "file_extension": ".py",
   "mimetype": "text/x-python",
   "name": "python",
   "nbconvert_exporter": "python",
   "pygments_lexer": "ipython3",
   "version": "3.7.4"
  }
 },
 "nbformat": 4,
 "nbformat_minor": 2
}
