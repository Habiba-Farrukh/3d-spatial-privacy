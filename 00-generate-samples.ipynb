{
 "cells": [
  {
   "cell_type": "code",
   "execution_count": 24,
   "metadata": {},
   "outputs": [],
   "source": [
    "%matplotlib inline\n",
    "\n",
    "import numpy as np\n",
    "import sys\n",
    "import os\n",
    "import matplotlib.pyplot as plt\n",
    "import math\n",
    "import pickle\n",
    "import pandas as pd\n",
    "import scipy.io\n",
    "import time\n",
    "import h5py\n",
    "\n",
    "from mpl_toolkits.mplot3d import Axes3D\n",
    "from matplotlib.colors import ListedColormap, LinearSegmentedColormap\n",
    "from mpl_toolkits.axes_grid1.axes_divider import make_axes_locatable\n",
    "\n",
    "from numpy import linalg as LA\n",
    "from scipy.spatial import Delaunay\n",
    "from sklearn.neighbors import NearestNeighbors\n",
    "\n",
    "#sys.path.insert(0, \"../\")\n",
    "from info3d import *\n",
    "from nn_matchers import *"
   ]
  },
  {
   "cell_type": "code",
   "execution_count": 10,
   "metadata": {},
   "outputs": [
    {
     "data": {
      "text/plain": [
       "array([0, 1, 2, 3, 4, 5, 6])"
      ]
     },
     "execution_count": 10,
     "metadata": {},
     "output_type": "execute_result"
    }
   ],
   "source": [
    "# Global parameters\n",
    "\n",
    "radius_range = np.arange(0.5,1.6,0.5)\n",
    "\n",
    "with open('point_collection/new_contiguous_point_collection.pickle','rb') as f: \n",
    "    new_contiguous_point_collection = pickle.load(f)\n",
    "\n",
    "point_collection_indices = np.arange(len(new_contiguous_point_collection))\n",
    "point_collection_indices"
   ]
  },
  {
   "cell_type": "markdown",
   "metadata": {},
   "source": [
    "# Step 1 Getting sample points for one-time partial radius"
   ]
  },
  {
   "cell_type": "code",
   "execution_count": 22,
   "metadata": {},
   "outputs": [
    {
     "name": "stdout",
     "output_type": "stream",
     "text": [
      "Done generating 1000 samples in 0.123 seconds.\n"
     ]
    },
    {
     "data": {
      "text/plain": [
       "(array([153., 138., 141., 137., 136., 150., 145.]),\n",
       " array([0, 1, 2, 3, 4, 5, 6, 7]),\n",
       " <a list of 7 Patch objects>)"
      ]
     },
     "execution_count": 22,
     "metadata": {},
     "output_type": "execute_result"
    },
    {
     "data": {
      "image/png": "[encoded data removed]",
      "text/plain": [
       "<Figure size 432x288 with 1 Axes>"
      ]
     },
     "metadata": {
      "needs_background": "light"
     },
     "output_type": "display_data"
    }
   ],
   "source": [
    "samples = 1000\n",
    "\n",
    "sample_points = []\n",
    "\n",
    "samples_indeces = []\n",
    "\n",
    "t0 = time.time()\n",
    "\n",
    "for i in np.arange(samples):\n",
    "\n",
    "    random_object = np.random.choice(point_collection_indices)\n",
    "\n",
    "    object_name = new_contiguous_point_collection[random_object][0]\n",
    "    pointCloud = new_contiguous_point_collection[random_object][1]\n",
    "    triangles = new_contiguous_point_collection[random_object][2]\n",
    "    \n",
    "    triangle_index = np.random.choice(np.arange(len(triangles)))\n",
    "    vertex_index = triangles[triangle_index,1]\n",
    "    original_vertex = pointCloud[vertex_index]\n",
    "\n",
    "    sample_points.append([\n",
    "        random_object, \n",
    "        object_name, \n",
    "        original_vertex\n",
    "    ])\n",
    "    \n",
    "    samples_indeces.append(random_object)\n",
    "    \n",
    "print(\"Done generating\",len(sample_points),\"samples in {:.3f} seconds.\".format(time.time()-t0))\n",
    "\n",
    "with open('sample_points.pickle','wb') as f:\n",
    "    pickle.dump(sample_points,f)\n",
    "    \n",
    "plt.title(\"Distribution of the sample spaces\")\n",
    "plt.xlabel(\"Count\")\n",
    "plt.ylabel(\"Sample space\")\n",
    "plt.hist(samples_indeces,bins = np.arange(0,8))\n"
   ]
  },
  {
   "cell_type": "markdown",
   "metadata": {},
   "source": [
    "# Step 2 Creating a synthetic set of successive partial spaces\n",
    "\n",
    "Similar to the partial case above, we use the same sample points, i.e. centroids, for successive releases but will only vary the size of the partial space for every release.\n"
   ]
  },
  {
   "cell_type": "code",
   "execution_count": 26,
   "metadata": {},
   "outputs": [
    {
     "name": "stdout",
     "output_type": "stream",
     "text": [
      " Done with successive 1 sample_points extraction for radius 0.5 in 1.080 seconds\n",
      " Done with successive 34 sample_points extraction for radius 0.5 in 18.763 seconds\n",
      " Done with successive 67 sample_points extraction for radius 0.5 in 18.948 seconds\n"
     ]
    }
   ],
   "source": [
    "\n",
    "samples = 100\n",
    "releases = 100\n",
    "\n",
    "nearby_range = 2.0\n",
    "    \n",
    "t1 = time.time()\n",
    "\n",
    "successive_sample_points = []\n",
    "\n",
    "for i in np.arange(samples):#\n",
    "\n",
    "    random_object = np.random.choice(point_collection_indices)\n",
    "    #reference_ransac = np.random.randint(5)\n",
    "\n",
    "    object_name = new_contiguous_point_collection[random_object][0]\n",
    "    pointCloud = new_contiguous_point_collection[random_object][1]\n",
    "    triangles = new_contiguous_point_collection[random_object][2]\n",
    "\n",
    "    current_vertex = pointCloud[np.random.randint(len(pointCloud))]\n",
    "\n",
    "    growing_point_collection_vertices = [[\n",
    "        random_object, \n",
    "        object_name, \n",
    "        current_vertex\n",
    "    ]]\n",
    "\n",
    "    nbrs = NearestNeighbors(n_neighbors=min(20000,len(pointCloud)),algorithm='kd_tree').fit(pointCloud[:,:3])\n",
    "\n",
    "    for release in np.arange(releases-1):\n",
    "\n",
    "        distances, indices = nbrs.kneighbors([current_vertex[:3]])\n",
    "\n",
    "        cand_indices = indices[0,np.where(distances[0]<(nearby_range))[0]]\n",
    "\n",
    "        distribution = np.sort(abs(np.random.normal(nearby_range*0.5,nearby_range*0.3,len(cand_indices))))\n",
    "\n",
    "        current_vertex = pointCloud[\n",
    "            np.random.choice(\n",
    "                cand_indices,\n",
    "                p = distribution/np.sum(distribution)\n",
    "            )\n",
    "        ]\n",
    "\n",
    "        growing_point_collection_vertices.append([\n",
    "            random_object, \n",
    "            object_name, \n",
    "            current_vertex\n",
    "        ])\n",
    "\n",
    "    successive_sample_points.append([\n",
    "        [random_object, object_name],\n",
    "        growing_point_collection_vertices\n",
    "    ])\n",
    "\n",
    "    if i % 33 == 1:\n",
    "        print(\" Done with successive {} sample_points extraction in {:.3f} seconds\".format(i,time.time()-t1))\n",
    "        t1 = time.time()\n",
    "\n",
    "    with open('successive_sample_points.pickle','wb') as f:\n",
    "        pickle.dump(successive_sample_points,f)\n"
   ]
  },
  {
   "cell_type": "code",
   "execution_count": 29,
   "metadata": {},
   "outputs": [
    {
     "name": "stdout",
     "output_type": "stream",
     "text": [
      "100 samples for radius 0.5\n",
      "100 releases each\n",
      " Done with successive sample_points extraction in 2.226 seconds\n"
     ]
    }
   ],
   "source": [
    "\n",
    "t1 = time.time()\n",
    "\n",
    "try:\n",
    "    with open('successive_sample_points.pickle','rb') as f:\n",
    "        successive_point_collection = pickle.load(f)\n",
    "\n",
    "    samples = len(successive_point_collection)\n",
    "    releases = len(successive_point_collection[0][1])\n",
    "\n",
    "    print(samples,\"samples for radius\",radius)\n",
    "    print(releases,\"releases each\")\n",
    "\n",
    "except Exception as e1:\n",
    "    print(e1)\n",
    "\n",
    "successive_sample_points_per_release = [[]]\n",
    "\n",
    "for k, [obj_, growing_point_collection] in enumerate(successive_point_collection):\n",
    "\n",
    "    t2 = time.time()\n",
    "\n",
    "    successive_sample_points = []\n",
    "\n",
    "    reference_ransac = np.random.randint(5)\n",
    "\n",
    "    for i, obj_meta in enumerate(growing_point_collection):\n",
    "\n",
    "        successive_sample_points.append([obj_meta, reference_ransac])\n",
    "\n",
    "        try:\n",
    "            successive_sample_points_per_release[i].append(successive_sample_points)\n",
    "        except:\n",
    "            successive_sample_points_per_release.append([successive_sample_points])\n",
    "\n",
    "        #print(len(successive_sample_points_per_release[i]),len(successive_sample_points_per_release[i][k]))\n",
    "\n",
    "    with open('successive_sample_points_per_release.pickle','wb') as f:\n",
    "        pickle.dump(successive_sample_points_per_release,f)\n",
    "\n",
    "print(\" Done with successive sample_points extraction in {:.3f} seconds\".format(time.time()-t1))\n",
    "    "
   ]
  },
  {
   "cell_type": "markdown",
   "metadata": {},
   "source": [
    "# Step 3: Create submaps for pointnetvlad using same partial samples"
   ]
  },
  {
   "cell_type": "code",
   "execution_count": null,
   "metadata": {},
   "outputs": [],
   "source": []
  }
 ],
 "metadata": {
  "kernelspec": {
   "display_name": "Python [conda env:.conda-3d_env] *",
   "language": "python",
   "name": "conda-env-.conda-3d_env-py"
  }
 },
 "nbformat": 4,
 "nbformat_minor": 2
}
