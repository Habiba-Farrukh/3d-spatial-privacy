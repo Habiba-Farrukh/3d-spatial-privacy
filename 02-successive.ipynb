{
 "cells": [
  {
   "cell_type": "code",
   "execution_count": 2,
   "metadata": {},
   "outputs": [],
   "source": [
    "%matplotlib inline\n",
    "\n",
    "import numpy as np\n",
    "import sys\n",
    "import os\n",
    "import matplotlib.pyplot as plt\n",
    "import math\n",
    "import pickle\n",
    "import pandas as pd\n",
    "import scipy.io\n",
    "import time\n",
    "import h5py\n",
    "import bz2\n",
    "import multiprocessing as mp\n",
    "\n",
    "\n",
    "from mpl_toolkits.mplot3d import Axes3D\n",
    "from matplotlib.colors import ListedColormap, LinearSegmentedColormap\n",
    "from mpl_toolkits.axes_grid1.axes_divider import make_axes_locatable\n",
    "\n",
    "from numpy import linalg as LA\n",
    "from scipy.spatial import Delaunay\n",
    "from sklearn.neighbors import NearestNeighbors, KDTree\n",
    "\n",
    "from sklearn.metrics import f1_score\n",
    "from sklearn.metrics import precision_score\n",
    "from sklearn.metrics import recall_score\n",
    "from sklearn.metrics import matthews_corrcoef\n",
    "\n",
    "#sys.path.insert(0, \"../\")\n",
    "from info3d import *\n",
    "from nn_matchers import *"
   ]
  },
  {
   "cell_type": "code",
   "execution_count": 3,
   "metadata": {},
   "outputs": [],
   "source": [
    "with open('point_collection/new_contiguous_point_collection.pickle','rb') as f: \n",
    "    new_contiguous_point_collection = pickle.load(f)\n",
    "    \n",
    "with open('descriptors/new_complete_res5_4by5_descriptors.pickle','rb') as f:\n",
    "    descriptors = pickle.load(f)\n",
    "    \n",
    "with open('descriptors/new_complete_RANSAC_res5_4by5_descriptors.pickle','rb') as f:\n",
    "    ransac_descriptors = pickle.load(f)"
   ]
  },
  {
   "cell_type": "code",
   "execution_count": null,
   "metadata": {},
   "outputs": [
    {
     "name": "stdout",
     "output_type": "stream",
     "text": [
      "New successive scores for radius 0.5\n",
      "   radius = 0.5: Done with 1 releases (32) (33 samples). Time to match 66.820 seconds. ((102, 6))\n",
      "   Error Rate: 0.9090909090909092\n"
     ]
    },
    {
     "name": "stderr",
     "output_type": "stream",
     "text": [
      "/srv/jaybie/archive/spatial-privacy-master/nn_matchers.py:667: FutureWarning: in the future insert will treat boolean arrays and array-likes as a boolean index instead of casting it to integer\n",
      "  good_matches_kp_idx = np.insert(good_matches[good_matches_ref_kp],True,good_matches_ref_kp)\n"
     ]
    },
    {
     "name": "stdout",
     "output_type": "stream",
     "text": [
      "  No pc for release 1 obj 44 with name Reception-Data61-L5.obj\n",
      "   radius = 0.5: Done with 1 releases (66) (66 samples). Time to match 71.352 seconds. ((150, 6))\n",
      "   Error Rate: 0.8484848484848484\n"
     ]
    },
    {
     "name": "stderr",
     "output_type": "stream",
     "text": [
      "/srv/jaybie/archive/spatial-privacy-master/nn_matchers.py:667: FutureWarning: in the future insert will treat boolean arrays and array-likes as a boolean index instead of casting it to integer\n",
      "  good_matches_kp_idx = np.insert(good_matches[good_matches_ref_kp],True,good_matches_ref_kp)\n",
      "/home/jaybie/.conda/envs/3d_env/lib/python3.7/site-packages/numpy/core/fromnumeric.py:3118: RuntimeWarning: Mean of empty slice.\n",
      "  out=out, **kwargs)\n",
      "/home/jaybie/.conda/envs/3d_env/lib/python3.7/site-packages/numpy/core/_methods.py:78: RuntimeWarning: invalid value encountered in true_divide\n",
      "  ret, rcount, out=ret, casting='unsafe', subok=False)\n"
     ]
    },
    {
     "name": "stdout",
     "output_type": "stream",
     "text": [
      "   radius = 0.5: Done with 1 releases (99) (99 samples). Time to match 63.259 seconds. ((113, 6))\n",
      "   Error Rate: 0.8686868686868685\n",
      "0.5 1 Error Rate: 0.8686868686868685\n",
      "  Done with release 1, radius 0.5 (99 actual pcs) in 201.521 seconds\n"
     ]
    },
    {
     "name": "stderr",
     "output_type": "stream",
     "text": [
      "/srv/jaybie/archive/spatial-privacy-master/nn_matchers.py:667: FutureWarning: in the future insert will treat boolean arrays and array-likes as a boolean index instead of casting it to integer\n",
      "  good_matches_kp_idx = np.insert(good_matches[good_matches_ref_kp],True,good_matches_ref_kp)\n",
      "/home/jaybie/.conda/envs/3d_env/lib/python3.7/site-packages/numpy/core/fromnumeric.py:3118: RuntimeWarning: Mean of empty slice.\n",
      "  out=out, **kwargs)\n",
      "/home/jaybie/.conda/envs/3d_env/lib/python3.7/site-packages/numpy/core/_methods.py:78: RuntimeWarning: invalid value encountered in true_divide\n",
      "  ret, rcount, out=ret, casting='unsafe', subok=False)\n"
     ]
    },
    {
     "name": "stdout",
     "output_type": "stream",
     "text": [
      "   radius = 0.5: Done with 11 releases (2) (33 samples). Time to match 63.959 seconds. ((5484, 6))\n",
      "   Error Rate: 0.3333333333333333\n"
     ]
    },
    {
     "name": "stderr",
     "output_type": "stream",
     "text": [
      "/srv/jaybie/archive/spatial-privacy-master/nn_matchers.py:667: FutureWarning: in the future insert will treat boolean arrays and array-likes as a boolean index instead of casting it to integer\n",
      "  good_matches_kp_idx = np.insert(good_matches[good_matches_ref_kp],True,good_matches_ref_kp)\n"
     ]
    },
    {
     "name": "stdout",
     "output_type": "stream",
     "text": [
      "   radius = 0.5: Done with 11 releases (5) (66 samples). Time to match 65.403 seconds. ((2630, 6))\n",
      "   Error Rate: 0.3333333333333333\n"
     ]
    },
    {
     "name": "stderr",
     "output_type": "stream",
     "text": [
      "/srv/jaybie/archive/spatial-privacy-master/nn_matchers.py:667: FutureWarning: in the future insert will treat boolean arrays and array-likes as a boolean index instead of casting it to integer\n",
      "  good_matches_kp_idx = np.insert(good_matches[good_matches_ref_kp],True,good_matches_ref_kp)\n"
     ]
    },
    {
     "name": "stdout",
     "output_type": "stream",
     "text": [
      "   radius = 0.5: Done with 11 releases (8) (99 samples). Time to match 73.935 seconds. ((5328, 6))\n",
      "   Error Rate: 0.4444444444444444\n"
     ]
    },
    {
     "name": "stderr",
     "output_type": "stream",
     "text": [
      "/srv/jaybie/archive/spatial-privacy-master/nn_matchers.py:667: FutureWarning: in the future insert will treat boolean arrays and array-likes as a boolean index instead of casting it to integer\n",
      "  good_matches_kp_idx = np.insert(good_matches[good_matches_ref_kp],True,good_matches_ref_kp)\n"
     ]
    },
    {
     "name": "stdout",
     "output_type": "stream",
     "text": [
      "   radius = 0.5: Done with 11 releases (11) (132 samples). Time to match 51.266 seconds. ((1864, 6))\n",
      "   Error Rate: 0.5833333333333333\n"
     ]
    },
    {
     "name": "stderr",
     "output_type": "stream",
     "text": [
      "/srv/jaybie/archive/spatial-privacy-master/nn_matchers.py:667: FutureWarning: in the future insert will treat boolean arrays and array-likes as a boolean index instead of casting it to integer\n",
      "  good_matches_kp_idx = np.insert(good_matches[good_matches_ref_kp],True,good_matches_ref_kp)\n"
     ]
    },
    {
     "name": "stdout",
     "output_type": "stream",
     "text": [
      "   radius = 0.5: Done with 11 releases (14) (165 samples). Time to match 70.449 seconds. ((5725, 6))\n",
      "   Error Rate: 0.5333333333333333\n"
     ]
    },
    {
     "name": "stderr",
     "output_type": "stream",
     "text": [
      "/srv/jaybie/archive/spatial-privacy-master/nn_matchers.py:667: FutureWarning: in the future insert will treat boolean arrays and array-likes as a boolean index instead of casting it to integer\n",
      "  good_matches_kp_idx = np.insert(good_matches[good_matches_ref_kp],True,good_matches_ref_kp)\n"
     ]
    },
    {
     "name": "stdout",
     "output_type": "stream",
     "text": [
      "   radius = 0.5: Done with 11 releases (17) (198 samples). Time to match 67.223 seconds. ((3868, 6))\n",
      "   Error Rate: 0.5\n"
     ]
    },
    {
     "name": "stderr",
     "output_type": "stream",
     "text": [
      "/srv/jaybie/archive/spatial-privacy-master/nn_matchers.py:667: FutureWarning: in the future insert will treat boolean arrays and array-likes as a boolean index instead of casting it to integer\n",
      "  good_matches_kp_idx = np.insert(good_matches[good_matches_ref_kp],True,good_matches_ref_kp)\n"
     ]
    },
    {
     "name": "stdout",
     "output_type": "stream",
     "text": [
      "   radius = 0.5: Done with 11 releases (20) (231 samples). Time to match 51.555 seconds. ((2162, 6))\n",
      "   Error Rate: 0.47619047619047616\n"
     ]
    },
    {
     "name": "stderr",
     "output_type": "stream",
     "text": [
      "/srv/jaybie/archive/spatial-privacy-master/nn_matchers.py:667: FutureWarning: in the future insert will treat boolean arrays and array-likes as a boolean index instead of casting it to integer\n",
      "  good_matches_kp_idx = np.insert(good_matches[good_matches_ref_kp],True,good_matches_ref_kp)\n"
     ]
    },
    {
     "name": "stdout",
     "output_type": "stream",
     "text": [
      "   radius = 0.5: Done with 11 releases (23) (264 samples). Time to match 49.953 seconds. ((2546, 6))\n",
      "   Error Rate: 0.5416666666666666\n"
     ]
    },
    {
     "name": "stderr",
     "output_type": "stream",
     "text": [
      "/srv/jaybie/archive/spatial-privacy-master/nn_matchers.py:667: FutureWarning: in the future insert will treat boolean arrays and array-likes as a boolean index instead of casting it to integer\n",
      "  good_matches_kp_idx = np.insert(good_matches[good_matches_ref_kp],True,good_matches_ref_kp)\n"
     ]
    },
    {
     "name": "stdout",
     "output_type": "stream",
     "text": [
      "   radius = 0.5: Done with 11 releases (26) (297 samples). Time to match 64.153 seconds. ((3934, 6))\n",
      "   Error Rate: 0.5555555555555556\n"
     ]
    },
    {
     "name": "stderr",
     "output_type": "stream",
     "text": [
      "/srv/jaybie/archive/spatial-privacy-master/nn_matchers.py:667: FutureWarning: in the future insert will treat boolean arrays and array-likes as a boolean index instead of casting it to integer\n",
      "  good_matches_kp_idx = np.insert(good_matches[good_matches_ref_kp],True,good_matches_ref_kp)\n"
     ]
    },
    {
     "name": "stdout",
     "output_type": "stream",
     "text": [
      "   radius = 0.5: Done with 11 releases (29) (330 samples). Time to match 60.265 seconds. ((2841, 6))\n",
      "   Error Rate: 0.6\n"
     ]
    },
    {
     "name": "stderr",
     "output_type": "stream",
     "text": [
      "/srv/jaybie/archive/spatial-privacy-master/nn_matchers.py:667: FutureWarning: in the future insert will treat boolean arrays and array-likes as a boolean index instead of casting it to integer\n",
      "  good_matches_kp_idx = np.insert(good_matches[good_matches_ref_kp],True,good_matches_ref_kp)\n"
     ]
    },
    {
     "name": "stdout",
     "output_type": "stream",
     "text": [
      "   radius = 0.5: Done with 11 releases (32) (363 samples). Time to match 56.029 seconds. ((3634, 6))\n",
      "   Error Rate: 0.5757575757575757\n"
     ]
    },
    {
     "name": "stderr",
     "output_type": "stream",
     "text": [
      "/srv/jaybie/archive/spatial-privacy-master/nn_matchers.py:667: FutureWarning: in the future insert will treat boolean arrays and array-likes as a boolean index instead of casting it to integer\n",
      "  good_matches_kp_idx = np.insert(good_matches[good_matches_ref_kp],True,good_matches_ref_kp)\n"
     ]
    },
    {
     "name": "stdout",
     "output_type": "stream",
     "text": [
      "   radius = 0.5: Done with 11 releases (35) (396 samples). Time to match 79.013 seconds. ((3230, 6))\n",
      "   Error Rate: 0.5833333333333334\n"
     ]
    },
    {
     "name": "stderr",
     "output_type": "stream",
     "text": [
      "/srv/jaybie/archive/spatial-privacy-master/nn_matchers.py:667: FutureWarning: in the future insert will treat boolean arrays and array-likes as a boolean index instead of casting it to integer\n",
      "  good_matches_kp_idx = np.insert(good_matches[good_matches_ref_kp],True,good_matches_ref_kp)\n"
     ]
    },
    {
     "name": "stdout",
     "output_type": "stream",
     "text": [
      "   radius = 0.5: Done with 11 releases (38) (429 samples). Time to match 44.782 seconds. ((1810, 6))\n",
      "   Error Rate: 0.5384615384615385\n"
     ]
    },
    {
     "name": "stderr",
     "output_type": "stream",
     "text": [
      "/srv/jaybie/archive/spatial-privacy-master/nn_matchers.py:667: FutureWarning: in the future insert will treat boolean arrays and array-likes as a boolean index instead of casting it to integer\n",
      "  good_matches_kp_idx = np.insert(good_matches[good_matches_ref_kp],True,good_matches_ref_kp)\n"
     ]
    },
    {
     "name": "stdout",
     "output_type": "stream",
     "text": [
      "   radius = 0.5: Done with 11 releases (41) (462 samples). Time to match 68.909 seconds. ((3020, 6))\n",
      "   Error Rate: 0.5476190476190477\n"
     ]
    },
    {
     "name": "stderr",
     "output_type": "stream",
     "text": [
      "/srv/jaybie/archive/spatial-privacy-master/nn_matchers.py:667: FutureWarning: in the future insert will treat boolean arrays and array-likes as a boolean index instead of casting it to integer\n",
      "  good_matches_kp_idx = np.insert(good_matches[good_matches_ref_kp],True,good_matches_ref_kp)\n",
      "/srv/jaybie/archive/spatial-privacy-master/nn_matchers.py:667: FutureWarning: in the future insert will treat boolean arrays and array-likes as a boolean index instead of casting it to integer\n",
      "  good_matches_kp_idx = np.insert(good_matches[good_matches_ref_kp],True,good_matches_ref_kp)\n"
     ]
    },
    {
     "name": "stdout",
     "output_type": "stream",
     "text": [
      "0.5 11 Error Rate: 0.6500000000000001\n",
      "   radius = 0.5: Done with 21 releases (10) (231 samples). Time to match 1783.006 seconds. ((4512, 6))\n",
      "   Error Rate: 0.4545454545454546\n"
     ]
    },
    {
     "name": "stderr",
     "output_type": "stream",
     "text": [
      "/srv/jaybie/archive/spatial-privacy-master/nn_matchers.py:667: FutureWarning: in the future insert will treat boolean arrays and array-likes as a boolean index instead of casting it to integer\n",
      "  good_matches_kp_idx = np.insert(good_matches[good_matches_ref_kp],True,good_matches_ref_kp)\n"
     ]
    },
    {
     "name": "stdout",
     "output_type": "stream",
     "text": [
      "   radius = 0.5: Done with 21 releases (21) (462 samples). Time to match 511.165 seconds. ((5969, 6))\n"
     ]
    },
    {
     "name": "stderr",
     "output_type": "stream",
     "text": [
      "/srv/jaybie/archive/spatial-privacy-master/nn_matchers.py:667: FutureWarning: in the future insert will treat boolean arrays and array-likes as a boolean index instead of casting it to integer\n",
      "  good_matches_kp_idx = np.insert(good_matches[good_matches_ref_kp],True,good_matches_ref_kp)\n"
     ]
    },
    {
     "name": "stdout",
     "output_type": "stream",
     "text": [
      "   Error Rate: 0.4090909090909091\n",
      "   radius = 0.5: Done with 21 releases (32) (693 samples). Time to match 500.884 seconds. ((5839, 6))\n"
     ]
    },
    {
     "name": "stderr",
     "output_type": "stream",
     "text": [
      "/srv/jaybie/archive/spatial-privacy-master/nn_matchers.py:667: FutureWarning: in the future insert will treat boolean arrays and array-likes as a boolean index instead of casting it to integer\n",
      "  good_matches_kp_idx = np.insert(good_matches[good_matches_ref_kp],True,good_matches_ref_kp)\n"
     ]
    },
    {
     "name": "stdout",
     "output_type": "stream",
     "text": [
      "   Error Rate: 0.4545454545454545\n",
      "   radius = 0.5: Done with 21 releases (43) (924 samples). Time to match 578.456 seconds. ((4150, 6))\n"
     ]
    },
    {
     "name": "stderr",
     "output_type": "stream",
     "text": [
      "/srv/jaybie/archive/spatial-privacy-master/nn_matchers.py:667: FutureWarning: in the future insert will treat boolean arrays and array-likes as a boolean index instead of casting it to integer\n",
      "  good_matches_kp_idx = np.insert(good_matches[good_matches_ref_kp],True,good_matches_ref_kp)\n"
     ]
    },
    {
     "name": "stdout",
     "output_type": "stream",
     "text": [
      "   Error Rate: 0.43181818181818177\n"
     ]
    },
    {
     "name": "stderr",
     "output_type": "stream",
     "text": [
      "/srv/jaybie/archive/spatial-privacy-master/nn_matchers.py:667: FutureWarning: in the future insert will treat boolean arrays and array-likes as a boolean index instead of casting it to integer\n",
      "  good_matches_kp_idx = np.insert(good_matches[good_matches_ref_kp],True,good_matches_ref_kp)\n"
     ]
    },
    {
     "name": "stdout",
     "output_type": "stream",
     "text": [
      "0.5 21 Error Rate: 0.4700000000000001\n",
      "   radius = 0.5: Done with 31 releases (32) (1023 samples). Time to match 4866.165 seconds. ((8308, 6))\n"
     ]
    },
    {
     "name": "stderr",
     "output_type": "stream",
     "text": [
      "/srv/jaybie/archive/spatial-privacy-master/nn_matchers.py:667: FutureWarning: in the future insert will treat boolean arrays and array-likes as a boolean index instead of casting it to integer\n",
      "  good_matches_kp_idx = np.insert(good_matches[good_matches_ref_kp],True,good_matches_ref_kp)\n"
     ]
    },
    {
     "name": "stdout",
     "output_type": "stream",
     "text": [
      "   Error Rate: 0.12121212121212122\n",
      "   radius = 0.5: Done with 31 releases (48) (1518 samples). Time to match 1109.279 seconds. ((7872, 6))\n"
     ]
    },
    {
     "name": "stderr",
     "output_type": "stream",
     "text": [
      "/srv/jaybie/archive/spatial-privacy-master/nn_matchers.py:667: FutureWarning: in the future insert will treat boolean arrays and array-likes as a boolean index instead of casting it to integer\n",
      "  good_matches_kp_idx = np.insert(good_matches[good_matches_ref_kp],True,good_matches_ref_kp)\n"
     ]
    },
    {
     "name": "stdout",
     "output_type": "stream",
     "text": [
      "   Error Rate: 0.22448979591836737\n",
      "   radius = 0.5: Done with 31 releases (64) (2013 samples). Time to match 1082.453 seconds. ((9320, 6))\n"
     ]
    },
    {
     "name": "stderr",
     "output_type": "stream",
     "text": [
      "/srv/jaybie/archive/spatial-privacy-master/nn_matchers.py:667: FutureWarning: in the future insert will treat boolean arrays and array-likes as a boolean index instead of casting it to integer\n",
      "  good_matches_kp_idx = np.insert(good_matches[good_matches_ref_kp],True,good_matches_ref_kp)\n"
     ]
    },
    {
     "name": "stdout",
     "output_type": "stream",
     "text": [
      "   Error Rate: 0.2923076923076923\n",
      "   radius = 0.5: Done with 31 releases (97) (3036 samples). Time to match 2214.241 seconds. ((5708, 6))\n"
     ]
    },
    {
     "name": "stderr",
     "output_type": "stream",
     "text": [
      "/srv/jaybie/archive/spatial-privacy-master/nn_matchers.py:667: FutureWarning: in the future insert will treat boolean arrays and array-likes as a boolean index instead of casting it to integer\n",
      "  good_matches_kp_idx = np.insert(good_matches[good_matches_ref_kp],True,good_matches_ref_kp)\n"
     ]
    },
    {
     "name": "stdout",
     "output_type": "stream",
     "text": [
      "   Error Rate: 0.3469387755102041\n"
     ]
    },
    {
     "name": "stderr",
     "output_type": "stream",
     "text": [
      "/srv/jaybie/archive/spatial-privacy-master/nn_matchers.py:667: FutureWarning: in the future insert will treat boolean arrays and array-likes as a boolean index instead of casting it to integer\n",
      "  good_matches_kp_idx = np.insert(good_matches[good_matches_ref_kp],True,good_matches_ref_kp)\n"
     ]
    },
    {
     "name": "stdout",
     "output_type": "stream",
     "text": [
      "0.5 31 Error Rate: 0.35000000000000003\n",
      "   radius = 0.5: Done with 41 releases (32) (1353 samples). Time to match 2888.478 seconds. ((10449, 6))\n"
     ]
    },
    {
     "name": "stderr",
     "output_type": "stream",
     "text": [
      "/srv/jaybie/archive/spatial-privacy-master/nn_matchers.py:667: FutureWarning: in the future insert will treat boolean arrays and array-likes as a boolean index instead of casting it to integer\n",
      "  good_matches_kp_idx = np.insert(good_matches[good_matches_ref_kp],True,good_matches_ref_kp)\n"
     ]
    },
    {
     "name": "stdout",
     "output_type": "stream",
     "text": [
      "   Error Rate: 0.09090909090909091\n",
      "   radius = 0.5: Done with 41 releases (61) (2541 samples). Time to match 2416.240 seconds. ((7019, 6))\n"
     ]
    },
    {
     "name": "stderr",
     "output_type": "stream",
     "text": [
      "/srv/jaybie/archive/spatial-privacy-master/nn_matchers.py:667: FutureWarning: in the future insert will treat boolean arrays and array-likes as a boolean index instead of casting it to integer\n",
      "  good_matches_kp_idx = np.insert(good_matches[good_matches_ref_kp],True,good_matches_ref_kp)\n"
     ]
    },
    {
     "name": "stdout",
     "output_type": "stream",
     "text": [
      "   Error Rate: 0.16129032258064513\n"
     ]
    }
   ],
   "source": [
    "descriptors = ransac_descriptors\n",
    "\n",
    "skip = 10\n",
    "\n",
    "t0 = time.time()\n",
    "\n",
    "for radius in np.arange(0.5,2.1,0.5):\n",
    "    \n",
    "    t1 = time.time()\n",
    "    t2 = t1\n",
    "    \n",
    "    with open('successive_sample_points_per_release.pickle','rb') as f:\n",
    "        successive_sample_points_per_release = pickle.load(f)\n",
    "        \n",
    "    try:\n",
    "        with open('testing_results/successive/radius_{}_RANSAC_successive_scores.pickle'.format(radius), 'rb') as f:\n",
    "            g_successive_scores = pickle.load(f)\n",
    "            \n",
    "        with open('testing_results/successive/radius_{}_RANSAC_successive_errors.pickle'.format(radius), 'rb') as f:\n",
    "            g_successive_errors = pickle.load(f)\n",
    "            \n",
    "            \n",
    "        if len(g_successive_scores) != len(g_successive_errors): continue\n",
    "            \n",
    "        print(\"Done with\",5*len(g_successive_scores),\"releases for radius\",radius)\n",
    "        \n",
    "    except:\n",
    "\n",
    "        g_successive_scores = []\n",
    "        g_successive_errors = []\n",
    "        \n",
    "        print(\"New successive scores for radius\",radius)\n",
    "\n",
    "    for i in np.arange(1,100,skip)[len(g_successive_scores):]: # releases\n",
    "        \n",
    "        release_scores = []\n",
    "        \n",
    "        g_release_scores = []\n",
    "        \n",
    "        count = 0\n",
    "        \n",
    "        for k, successive_sample_points_per_release_per_obj in enumerate(successive_sample_points_per_release[i]):\n",
    "    \n",
    "            #print(\"  \",len(successive_sample_points_per_release_per_obj),\"releases\")\n",
    "            growing_point_cloud = []\n",
    "            \n",
    "            new_vX = []\n",
    "            new_vZ = []\n",
    "            \n",
    "            ransac_pointCloud = []\n",
    "                \n",
    "            for [obj_, object_name, original_vertex], reference_ransac in successive_sample_points_per_release_per_obj[:i]:\n",
    "\n",
    "                try:\n",
    "                    if len(ransac_pointCloud) == 0: # if empty, open. This only happens at beginning\n",
    "                        with open(\"../ransac_pc/ransac_point_collection_{}.pickle\".format(reference_ransac),'rb') as f:\n",
    "                            ransac_trial_point_collection = pickle.load(f)\n",
    "\n",
    "                        object_, ransac_pointCloud, tri_ = ransac_trial_point_collection[int(obj_)]\n",
    "                        \n",
    "                        ransac_nbrs = NearestNeighbors(n_neighbors=min(20000,len(ransac_pointCloud)), algorithm='kd_tree').fit(ransac_pointCloud[:,:3])\n",
    "\n",
    "                except:\n",
    "                    print(\"Can't get ransac samples for\",i,obj_, object_name)\n",
    "                    continue\n",
    "\n",
    "                dist_, ind_ = ransac_nbrs.kneighbors([original_vertex[:3]])\n",
    "                pointCloud =  ransac_pointCloud[ind_[0,np.where(dist_[0]<=radius)[0]]]\n",
    "\n",
    "                if len(pointCloud) == 0: continue\n",
    "                    \n",
    "                #Regular Accumulation\n",
    "                if len(growing_point_cloud) == 0:\n",
    "                    growing_point_cloud = pointCloud\n",
    "\n",
    "                else:\n",
    "                    growing_point_cloud = np.concatenate(\n",
    "                        (growing_point_cloud,pointCloud),\n",
    "                        axis=0\n",
    "                    )\n",
    "                    \n",
    "                count += 1\n",
    "                    \n",
    "            if len(growing_point_cloud) == 0: \n",
    "                print(\"  No pc for release\",i,\"obj\",k,\"with name\",object_name)\n",
    "                continue\n",
    "                    \n",
    "            #Regular Processing\n",
    "            growing_point_cloud = np.unique(growing_point_cloud,axis=0)\n",
    "            \n",
    "            try:\n",
    "                p_descriptors, p_keypoints, p_d_c = getSpinImageDescriptors(\n",
    "                    growing_point_cloud,\n",
    "                    down_resolution = 5,\n",
    "                    cylindrical_quantization = [4,5]\n",
    "                )\n",
    "            except:\n",
    "                p_descriptors = []\n",
    "                p_keypoints = []\n",
    "\n",
    "            # Resetting the diff_Ratio matrix\n",
    "            diff_scores = np.ones((p_descriptors.shape[0],len(descriptors),2))\n",
    "            diff_ratios = np.ones((p_descriptors.shape[0],len(descriptors)))\n",
    "            diff_indexs = np.ones((p_descriptors.shape[0],len(descriptors),2))\n",
    "\n",
    "            local_keypoint_matches = []\n",
    "\n",
    "            for i_r, ref_descriptor in enumerate(descriptors):\n",
    "\n",
    "                r_descriptors = ref_descriptor[1]\n",
    "                r_keypoints = ref_descriptor[2]\n",
    "\n",
    "                matching_range = np.arange(r_descriptors.shape[1])\n",
    "\n",
    "                try:    \n",
    "                    f_nearestneighbor, diff = getMatches(p_descriptors,r_descriptors,2,range_to_match=matching_range)\n",
    "                    diff = diff/np.amax(diff) # max-normalization of differences\n",
    "                    diff_ratio = diff[:,0]/diff[:,1]\n",
    "                    diff_ratios[:,i_r] = diff_ratio\n",
    "                    diff_scores[:,i_r] = diff\n",
    "                    diff_indexs[:,i_r] = f_nearestneighbor\n",
    "\n",
    "                    # Taking note of the matched keypoints\n",
    "                    local_keypoint_matches.append([\n",
    "                        [obj_, object_name, original_vertex],\n",
    "                        p_keypoints,\n",
    "                        r_keypoints[f_nearestneighbor[:,0]]\n",
    "                    ])\n",
    "\n",
    "                except Exception as ex:\n",
    "                    print(\"Error Matching:\",ex)\n",
    "\n",
    "            # Accumulating the diff_ratio matrix for every partial (rotated) object\n",
    "            g_release_scores.append([\n",
    "                [obj_, object_name, original_vertex],\n",
    "                diff_ratios,\n",
    "                diff_indexs,\n",
    "                diff_scores,\n",
    "                local_keypoint_matches\n",
    "            ])\n",
    "\n",
    "            if count % 33 == 0:\n",
    "                #print('Test')\n",
    "                print(\"   radius = {}: Done with {} releases ({}) ({} samples). Time to match {:.3f} seconds. ({})\".format(\n",
    "                    radius,\n",
    "                    i,\n",
    "                    k,\n",
    "                    count,\n",
    "                    time.time()-t2,\n",
    "                    growing_point_cloud.shape\n",
    "                )\n",
    "                     )\n",
    "                t2 = time.time()\n",
    "\n",
    "                current_errors = NN_matcher(g_release_scores)\n",
    "                print(\"   Error Rate:\",np.sum(current_errors[:,1]/len(g_release_scores)))\n",
    "            \n",
    "        g_release_errors = NN_matcher(g_release_scores)\n",
    "        \n",
    "        try:\n",
    "            print(radius,i,\"Error Rate:\",np.sum(g_release_errors[:,1]/len(g_release_errors)))\n",
    "            #print(radius,i,\"G_Error Rate:\",np.sum(g_iteration_errors[:,1]/len(g_iteration_scores)))\n",
    "        except:\n",
    "            pass\n",
    "        \n",
    "        g_successive_scores.append([\n",
    "            i,\n",
    "            g_release_scores\n",
    "        ])\n",
    "        \n",
    "        g_successive_errors.append([\n",
    "            i,\n",
    "            g_release_errors\n",
    "        ])\n",
    "    \n",
    "        with open('testing_results/successive/radius_{}_RANSAC_successive_scores.pickle'.format(radius), 'wb') as f:\n",
    "            pickle.dump(g_successive_scores,f)\n",
    "\n",
    "        with open('testing_results/successive/radius_{}_RANSAC_successive_errors.pickle'.format(radius), 'wb') as f:\n",
    "            pickle.dump(g_successive_errors,f)\n",
    "            \n",
    "        if i % 40  == 1:\n",
    "            print(\"  Done with release {}, radius {} ({} actual pcs) in {:.3f} seconds\".format(i,radius,count,time.time()-t1))\n",
    "            t1 = time.time()\n",
    "\n",
    "        \n",
    "    print(\" Done with generalized submap generation for radius {} in {:.3f} seconds\".format(radius,time.time()-t0))\n",
    "    t0 = time.time()\n",
    "                "
   ]
  },
  {
   "cell_type": "code",
   "execution_count": null,
   "metadata": {},
   "outputs": [],
   "source": []
  }
 ],
 "metadata": {
  "kernelspec": {
   "display_name": "Python [conda env:.conda-3d_env] *",
   "language": "python",
   "name": "conda-env-.conda-3d_env-py"
  },
  "language_info": {
   "codemirror_mode": {
    "name": "ipython",
    "version": 3
   },
   "file_extension": ".py",
   "mimetype": "text/x-python",
   "name": "python",
   "nbconvert_exporter": "python",
   "pygments_lexer": "ipython3",
   "version": "3.7.4"
  }
 },
 "nbformat": 4,
 "nbformat_minor": 2
}
