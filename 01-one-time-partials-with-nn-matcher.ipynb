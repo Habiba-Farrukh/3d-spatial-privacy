{
 "cells": [
  {
   "cell_type": "code",
   "execution_count": 1,
   "metadata": {},
   "outputs": [],
   "source": [
    "%matplotlib inline\n",
    "\n",
    "import numpy as np\n",
    "import sys\n",
    "import os\n",
    "import matplotlib.pyplot as plt\n",
    "import math\n",
    "import pickle\n",
    "import pandas as pd\n",
    "import scipy.io\n",
    "import time\n",
    "import h5py\n",
    "import bz2\n",
    "import multiprocessing as mp\n",
    "\n",
    "\n",
    "from mpl_toolkits.mplot3d import Axes3D\n",
    "from matplotlib.colors import ListedColormap, LinearSegmentedColormap\n",
    "from mpl_toolkits.axes_grid1.axes_divider import make_axes_locatable\n",
    "\n",
    "from numpy import linalg as LA\n",
    "from scipy.spatial import Delaunay\n",
    "from sklearn.neighbors import NearestNeighbors, KDTree\n",
    "\n",
    "from sklearn.metrics import f1_score\n",
    "from sklearn.metrics import precision_score\n",
    "from sklearn.metrics import recall_score\n",
    "from sklearn.metrics import matthews_corrcoef\n",
    "\n",
    "#sys.path.insert(0, \"../\")\n",
    "from info3d import *\n",
    "from nn_matchers import *\n"
   ]
  },
  {
   "cell_type": "markdown",
   "metadata": {},
   "source": [
    "# Extracting the point collection and the descriptors"
   ]
  },
  {
   "cell_type": "code",
   "execution_count": 3,
   "metadata": {},
   "outputs": [
    {
     "data": {
      "text/plain": [
       "('testing_results/nn_matcher',\n",
       " 'testing_results/nn_matcher/partial',\n",
       " 'testing_results/nn_matcher/successive')"
      ]
     },
     "execution_count": 3,
     "metadata": {},
     "output_type": "execute_result"
    }
   ],
   "source": [
    "with open('point_collection/new_contiguous_point_collection.pickle','rb') as f: \n",
    "    new_contiguous_point_collection = pickle.load(f)\n",
    "    \n",
    "with open('descriptors/new_complete_res5_4by5_descriptors.pickle','rb') as f:\n",
    "    descriptors = pickle.load(f)\n",
    "    \n",
    "with open('descriptors/new_complete_RANSAC_res5_4by5_descriptors.pickle','rb') as f:\n",
    "    ransac_descriptors = pickle.load(f)\n",
    "    \n",
    "with open('point_collection/2_filled_quaternion_vertical_correction_arcore_point_cloud_collection_complete.pickle','rb') as f: \n",
    "    arcore_point_cloud_collection = pickle.load(f)\n",
    "    \n",
    "with open('descriptors/chosen_arcore_res5_4by5_descriptors_complete.pickle','rb') as f:\n",
    "    arcore_descriptors = pickle.load(f)\n",
    "    \n",
    "base_results_path = 'testing_results'\n",
    "results_path = os.path.join(base_results_path,'nn_matcher')\n",
    "\n",
    "if not os.path.exists(base_results_path): os.mkdir(base_results_path)\n",
    "if not os.path.exists(results_path): os.mkdir(results_path)\n",
    "\n",
    "partial_results_path = os.path.join(results_path,\"partial\")\n",
    "successive_results_path = os.path.join(results_path,\"successive\")\n",
    "\n",
    "if not os.path.exists(partial_results_path): os.mkdir(partial_results_path)\n",
    "if not os.path.exists(successive_results_path): os.mkdir(successive_results_path)\n",
    "    \n",
    "results_path, partial_results_path, successive_results_path"
   ]
  },
  {
   "cell_type": "code",
   "execution_count": 4,
   "metadata": {},
   "outputs": [],
   "source": [
    "# We'll use only a 300 samples for this.\n",
    "with open('sample_points.pickle','rb') as f:\n",
    "    sample_points = pickle.load(f)\n",
    "    \n",
    "#sample_points_300 = np.random.choice(1000,300,False)\n",
    "    \n",
    "with open('sample_arcore_points.pickle','rb') as f:\n",
    "    sample_arcore_points = pickle.load(f)\n",
    "    \n",
    "arcore_spaces = [[],[],[],[],[],[],[]]\n",
    "    \n",
    "for [obj_num, name, timestamp], t_pointCloud, triangles in arcore_point_cloud_collection:\n",
    "    \n",
    "    unique_normals = np.unique(np.around(t_pointCloud[:,3:],decimals = 2),axis = 0)\n",
    "    \n",
    "    #print(obj_num, name, timestamp, len(unique_normals))\n",
    "    try:\n",
    "        arcore_spaces[int(obj_num)].append([\n",
    "            [obj_num, name, timestamp],\n",
    "            t_pointCloud, \n",
    "            triangles,\n",
    "            len(unique_normals)\n",
    "        ])\n",
    "    except:\n",
    "        continue"
   ]
  },
  {
   "cell_type": "markdown",
   "metadata": {},
   "source": [
    "# Step 1.1: HoloLens Raw spaces (validation)"
   ]
  },
  {
   "cell_type": "code",
   "execution_count": 8,
   "metadata": {},
   "outputs": [
    {
     "name": "stdout",
     "output_type": "stream",
     "text": [
      "radius = 0.5\n"
     ]
    },
    {
     "name": "stderr",
     "output_type": "stream",
     "text": [
      "/srv/jaybie/archive/spatial-privacy-master/nn_matchers.py:773: FutureWarning: in the future insert will treat boolean arrays and array-likes as a boolean index instead of casting it to integer\n",
      "  good_matches_kp_idx = np.insert(good_matches[good_matches_ref_kp],True,good_matches_ref_kp)\n"
     ]
    },
    {
     "name": "stdout",
     "output_type": "stream",
     "text": [
      "   0.5 : Done with 2, in 0.574 seconds. Error rate 0.500\n"
     ]
    },
    {
     "name": "stderr",
     "output_type": "stream",
     "text": [
      "/srv/jaybie/archive/spatial-privacy-master/nn_matchers.py:773: FutureWarning: in the future insert will treat boolean arrays and array-likes as a boolean index instead of casting it to integer\n",
      "  good_matches_kp_idx = np.insert(good_matches[good_matches_ref_kp],True,good_matches_ref_kp)\n"
     ]
    },
    {
     "name": "stdout",
     "output_type": "stream",
     "text": [
      "   0.5 : Done with 68, in 20.373 seconds. Error rate 0.809\n"
     ]
    },
    {
     "name": "stderr",
     "output_type": "stream",
     "text": [
      "/srv/jaybie/archive/spatial-privacy-master/nn_matchers.py:773: FutureWarning: in the future insert will treat boolean arrays and array-likes as a boolean index instead of casting it to integer\n",
      "  good_matches_kp_idx = np.insert(good_matches[good_matches_ref_kp],True,good_matches_ref_kp)\n",
      "/home/jaybie/.conda/envs/3d_env/lib/python3.7/site-packages/numpy/core/fromnumeric.py:3118: RuntimeWarning: Mean of empty slice.\n",
      "  out=out, **kwargs)\n",
      "/home/jaybie/.conda/envs/3d_env/lib/python3.7/site-packages/numpy/core/_methods.py:78: RuntimeWarning: invalid value encountered in true_divide\n",
      "  ret, rcount, out=ret, casting='unsafe', subok=False)\n"
     ]
    },
    {
     "name": "stdout",
     "output_type": "stream",
     "text": [
      "   0.5 : Done with 134, in 21.464 seconds. Error rate 0.843\n"
     ]
    },
    {
     "name": "stderr",
     "output_type": "stream",
     "text": [
      "/srv/jaybie/archive/spatial-privacy-master/nn_matchers.py:773: FutureWarning: in the future insert will treat boolean arrays and array-likes as a boolean index instead of casting it to integer\n",
      "  good_matches_kp_idx = np.insert(good_matches[good_matches_ref_kp],True,good_matches_ref_kp)\n",
      "/home/jaybie/.conda/envs/3d_env/lib/python3.7/site-packages/numpy/core/fromnumeric.py:3118: RuntimeWarning: Mean of empty slice.\n",
      "  out=out, **kwargs)\n",
      "/home/jaybie/.conda/envs/3d_env/lib/python3.7/site-packages/numpy/core/_methods.py:78: RuntimeWarning: invalid value encountered in true_divide\n",
      "  ret, rcount, out=ret, casting='unsafe', subok=False)\n"
     ]
    },
    {
     "name": "stdout",
     "output_type": "stream",
     "text": [
      "   0.5 : Done with 200, in 20.984 seconds. Error rate 0.835\n"
     ]
    },
    {
     "name": "stderr",
     "output_type": "stream",
     "text": [
      "/srv/jaybie/archive/spatial-privacy-master/nn_matchers.py:773: FutureWarning: in the future insert will treat boolean arrays and array-likes as a boolean index instead of casting it to integer\n",
      "  good_matches_kp_idx = np.insert(good_matches[good_matches_ref_kp],True,good_matches_ref_kp)\n",
      "/home/jaybie/.conda/envs/3d_env/lib/python3.7/site-packages/numpy/core/fromnumeric.py:3118: RuntimeWarning: Mean of empty slice.\n",
      "  out=out, **kwargs)\n",
      "/home/jaybie/.conda/envs/3d_env/lib/python3.7/site-packages/numpy/core/_methods.py:78: RuntimeWarning: invalid value encountered in true_divide\n",
      "  ret, rcount, out=ret, casting='unsafe', subok=False)\n"
     ]
    },
    {
     "name": "stdout",
     "output_type": "stream",
     "text": [
      "   0.5 : Done with 266, in 20.851 seconds. Error rate 0.816\n"
     ]
    },
    {
     "name": "stderr",
     "output_type": "stream",
     "text": [
      "/srv/jaybie/archive/spatial-privacy-master/nn_matchers.py:773: FutureWarning: in the future insert will treat boolean arrays and array-likes as a boolean index instead of casting it to integer\n",
      "  good_matches_kp_idx = np.insert(good_matches[good_matches_ref_kp],True,good_matches_ref_kp)\n",
      "/home/jaybie/.conda/envs/3d_env/lib/python3.7/site-packages/numpy/core/fromnumeric.py:3118: RuntimeWarning: Mean of empty slice.\n",
      "  out=out, **kwargs)\n",
      "/home/jaybie/.conda/envs/3d_env/lib/python3.7/site-packages/numpy/core/_methods.py:78: RuntimeWarning: invalid value encountered in true_divide\n",
      "  ret, rcount, out=ret, casting='unsafe', subok=False)\n"
     ]
    },
    {
     "name": "stdout",
     "output_type": "stream",
     "text": [
      "   0.5 : Done with 332, in 21.338 seconds. Error rate 0.828\n"
     ]
    },
    {
     "name": "stderr",
     "output_type": "stream",
     "text": [
      "/srv/jaybie/archive/spatial-privacy-master/nn_matchers.py:773: FutureWarning: in the future insert will treat boolean arrays and array-likes as a boolean index instead of casting it to integer\n",
      "  good_matches_kp_idx = np.insert(good_matches[good_matches_ref_kp],True,good_matches_ref_kp)\n",
      "/home/jaybie/.conda/envs/3d_env/lib/python3.7/site-packages/numpy/core/fromnumeric.py:3118: RuntimeWarning: Mean of empty slice.\n",
      "  out=out, **kwargs)\n",
      "/home/jaybie/.conda/envs/3d_env/lib/python3.7/site-packages/numpy/core/_methods.py:78: RuntimeWarning: invalid value encountered in true_divide\n",
      "  ret, rcount, out=ret, casting='unsafe', subok=False)\n"
     ]
    },
    {
     "name": "stdout",
     "output_type": "stream",
     "text": [
      "   0.5 : Done with 398, in 21.687 seconds. Error rate 0.832\n"
     ]
    },
    {
     "name": "stderr",
     "output_type": "stream",
     "text": [
      "/srv/jaybie/archive/spatial-privacy-master/nn_matchers.py:773: FutureWarning: in the future insert will treat boolean arrays and array-likes as a boolean index instead of casting it to integer\n",
      "  good_matches_kp_idx = np.insert(good_matches[good_matches_ref_kp],True,good_matches_ref_kp)\n",
      "/home/jaybie/.conda/envs/3d_env/lib/python3.7/site-packages/numpy/core/fromnumeric.py:3118: RuntimeWarning: Mean of empty slice.\n",
      "  out=out, **kwargs)\n",
      "/home/jaybie/.conda/envs/3d_env/lib/python3.7/site-packages/numpy/core/_methods.py:78: RuntimeWarning: invalid value encountered in true_divide\n",
      "  ret, rcount, out=ret, casting='unsafe', subok=False)\n"
     ]
    },
    {
     "name": "stdout",
     "output_type": "stream",
     "text": [
      "   0.5 : Done with 464, in 20.994 seconds. Error rate 0.825\n"
     ]
    },
    {
     "name": "stderr",
     "output_type": "stream",
     "text": [
      "/srv/jaybie/archive/spatial-privacy-master/nn_matchers.py:773: FutureWarning: in the future insert will treat boolean arrays and array-likes as a boolean index instead of casting it to integer\n",
      "  good_matches_kp_idx = np.insert(good_matches[good_matches_ref_kp],True,good_matches_ref_kp)\n",
      "/home/jaybie/.conda/envs/3d_env/lib/python3.7/site-packages/numpy/core/fromnumeric.py:3118: RuntimeWarning: Mean of empty slice.\n",
      "  out=out, **kwargs)\n",
      "/home/jaybie/.conda/envs/3d_env/lib/python3.7/site-packages/numpy/core/_methods.py:78: RuntimeWarning: invalid value encountered in true_divide\n",
      "  ret, rcount, out=ret, casting='unsafe', subok=False)\n"
     ]
    },
    {
     "name": "stdout",
     "output_type": "stream",
     "text": [
      "   0.5 : Done with 530, in 20.956 seconds. Error rate 0.832\n"
     ]
    },
    {
     "name": "stderr",
     "output_type": "stream",
     "text": [
      "/srv/jaybie/archive/spatial-privacy-master/nn_matchers.py:773: FutureWarning: in the future insert will treat boolean arrays and array-likes as a boolean index instead of casting it to integer\n",
      "  good_matches_kp_idx = np.insert(good_matches[good_matches_ref_kp],True,good_matches_ref_kp)\n",
      "/home/jaybie/.conda/envs/3d_env/lib/python3.7/site-packages/numpy/core/fromnumeric.py:3118: RuntimeWarning: Mean of empty slice.\n",
      "  out=out, **kwargs)\n",
      "/home/jaybie/.conda/envs/3d_env/lib/python3.7/site-packages/numpy/core/_methods.py:78: RuntimeWarning: invalid value encountered in true_divide\n",
      "  ret, rcount, out=ret, casting='unsafe', subok=False)\n"
     ]
    },
    {
     "name": "stdout",
     "output_type": "stream",
     "text": [
      "   0.5 : Done with 596, in 21.573 seconds. Error rate 0.827\n"
     ]
    },
    {
     "name": "stderr",
     "output_type": "stream",
     "text": [
      "/srv/jaybie/archive/spatial-privacy-master/nn_matchers.py:773: FutureWarning: in the future insert will treat boolean arrays and array-likes as a boolean index instead of casting it to integer\n",
      "  good_matches_kp_idx = np.insert(good_matches[good_matches_ref_kp],True,good_matches_ref_kp)\n",
      "/home/jaybie/.conda/envs/3d_env/lib/python3.7/site-packages/numpy/core/fromnumeric.py:3118: RuntimeWarning: Mean of empty slice.\n",
      "  out=out, **kwargs)\n",
      "/home/jaybie/.conda/envs/3d_env/lib/python3.7/site-packages/numpy/core/_methods.py:78: RuntimeWarning: invalid value encountered in true_divide\n",
      "  ret, rcount, out=ret, casting='unsafe', subok=False)\n"
     ]
    },
    {
     "name": "stdout",
     "output_type": "stream",
     "text": [
      "   0.5 : Done with 662, in 21.103 seconds. Error rate 0.826\n"
     ]
    },
    {
     "name": "stderr",
     "output_type": "stream",
     "text": [
      "/srv/jaybie/archive/spatial-privacy-master/nn_matchers.py:773: FutureWarning: in the future insert will treat boolean arrays and array-likes as a boolean index instead of casting it to integer\n",
      "  good_matches_kp_idx = np.insert(good_matches[good_matches_ref_kp],True,good_matches_ref_kp)\n",
      "/home/jaybie/.conda/envs/3d_env/lib/python3.7/site-packages/numpy/core/fromnumeric.py:3118: RuntimeWarning: Mean of empty slice.\n",
      "  out=out, **kwargs)\n",
      "/home/jaybie/.conda/envs/3d_env/lib/python3.7/site-packages/numpy/core/_methods.py:78: RuntimeWarning: invalid value encountered in true_divide\n",
      "  ret, rcount, out=ret, casting='unsafe', subok=False)\n"
     ]
    },
    {
     "name": "stdout",
     "output_type": "stream",
     "text": [
      "   0.5 : Done with 728, in 19.960 seconds. Error rate 0.823\n"
     ]
    },
    {
     "name": "stderr",
     "output_type": "stream",
     "text": [
      "/srv/jaybie/archive/spatial-privacy-master/nn_matchers.py:773: FutureWarning: in the future insert will treat boolean arrays and array-likes as a boolean index instead of casting it to integer\n",
      "  good_matches_kp_idx = np.insert(good_matches[good_matches_ref_kp],True,good_matches_ref_kp)\n",
      "/home/jaybie/.conda/envs/3d_env/lib/python3.7/site-packages/numpy/core/fromnumeric.py:3118: RuntimeWarning: Mean of empty slice.\n",
      "  out=out, **kwargs)\n",
      "/home/jaybie/.conda/envs/3d_env/lib/python3.7/site-packages/numpy/core/_methods.py:78: RuntimeWarning: invalid value encountered in true_divide\n",
      "  ret, rcount, out=ret, casting='unsafe', subok=False)\n"
     ]
    },
    {
     "name": "stdout",
     "output_type": "stream",
     "text": [
      "   0.5 : Done with 794, in 19.969 seconds. Error rate 0.825\n"
     ]
    },
    {
     "name": "stderr",
     "output_type": "stream",
     "text": [
      "/srv/jaybie/archive/spatial-privacy-master/nn_matchers.py:773: FutureWarning: in the future insert will treat boolean arrays and array-likes as a boolean index instead of casting it to integer\n",
      "  good_matches_kp_idx = np.insert(good_matches[good_matches_ref_kp],True,good_matches_ref_kp)\n",
      "/home/jaybie/.conda/envs/3d_env/lib/python3.7/site-packages/numpy/core/fromnumeric.py:3118: RuntimeWarning: Mean of empty slice.\n",
      "  out=out, **kwargs)\n",
      "/home/jaybie/.conda/envs/3d_env/lib/python3.7/site-packages/numpy/core/_methods.py:78: RuntimeWarning: invalid value encountered in true_divide\n",
      "  ret, rcount, out=ret, casting='unsafe', subok=False)\n"
     ]
    },
    {
     "name": "stdout",
     "output_type": "stream",
     "text": [
      "   0.5 : Done with 860, in 19.946 seconds. Error rate 0.828\n"
     ]
    },
    {
     "name": "stderr",
     "output_type": "stream",
     "text": [
      "/srv/jaybie/archive/spatial-privacy-master/nn_matchers.py:773: FutureWarning: in the future insert will treat boolean arrays and array-likes as a boolean index instead of casting it to integer\n",
      "  good_matches_kp_idx = np.insert(good_matches[good_matches_ref_kp],True,good_matches_ref_kp)\n",
      "/home/jaybie/.conda/envs/3d_env/lib/python3.7/site-packages/numpy/core/fromnumeric.py:3118: RuntimeWarning: Mean of empty slice.\n",
      "  out=out, **kwargs)\n",
      "/home/jaybie/.conda/envs/3d_env/lib/python3.7/site-packages/numpy/core/_methods.py:78: RuntimeWarning: invalid value encountered in true_divide\n",
      "  ret, rcount, out=ret, casting='unsafe', subok=False)\n"
     ]
    },
    {
     "name": "stdout",
     "output_type": "stream",
     "text": [
      "   0.5 : Done with 926, in 19.843 seconds. Error rate 0.830\n"
     ]
    },
    {
     "name": "stderr",
     "output_type": "stream",
     "text": [
      "/srv/jaybie/archive/spatial-privacy-master/nn_matchers.py:773: FutureWarning: in the future insert will treat boolean arrays and array-likes as a boolean index instead of casting it to integer\n",
      "  good_matches_kp_idx = np.insert(good_matches[good_matches_ref_kp],True,good_matches_ref_kp)\n",
      "/home/jaybie/.conda/envs/3d_env/lib/python3.7/site-packages/numpy/core/fromnumeric.py:3118: RuntimeWarning: Mean of empty slice.\n",
      "  out=out, **kwargs)\n",
      "/home/jaybie/.conda/envs/3d_env/lib/python3.7/site-packages/numpy/core/_methods.py:78: RuntimeWarning: invalid value encountered in true_divide\n",
      "  ret, rcount, out=ret, casting='unsafe', subok=False)\n"
     ]
    },
    {
     "name": "stdout",
     "output_type": "stream",
     "text": [
      "   0.5 : Done with 992, in 20.139 seconds. Error rate 0.836\n",
      "0.5  Total Time to match 338.961 seconds.\n",
      "radius = 1.0\n"
     ]
    },
    {
     "name": "stderr",
     "output_type": "stream",
     "text": [
      "/srv/jaybie/archive/spatial-privacy-master/nn_matchers.py:773: FutureWarning: in the future insert will treat boolean arrays and array-likes as a boolean index instead of casting it to integer\n",
      "  good_matches_kp_idx = np.insert(good_matches[good_matches_ref_kp],True,good_matches_ref_kp)\n"
     ]
    },
    {
     "name": "stdout",
     "output_type": "stream",
     "text": [
      "   1.0 : Done with 2, in 0.828 seconds. Error rate 0.500\n"
     ]
    },
    {
     "name": "stderr",
     "output_type": "stream",
     "text": [
      "/srv/jaybie/archive/spatial-privacy-master/nn_matchers.py:773: FutureWarning: in the future insert will treat boolean arrays and array-likes as a boolean index instead of casting it to integer\n",
      "  good_matches_kp_idx = np.insert(good_matches[good_matches_ref_kp],True,good_matches_ref_kp)\n"
     ]
    },
    {
     "name": "stdout",
     "output_type": "stream",
     "text": [
      "   1.0 : Done with 68, in 40.275 seconds. Error rate 0.279\n"
     ]
    },
    {
     "name": "stderr",
     "output_type": "stream",
     "text": [
      "/srv/jaybie/archive/spatial-privacy-master/nn_matchers.py:773: FutureWarning: in the future insert will treat boolean arrays and array-likes as a boolean index instead of casting it to integer\n",
      "  good_matches_kp_idx = np.insert(good_matches[good_matches_ref_kp],True,good_matches_ref_kp)\n"
     ]
    },
    {
     "name": "stdout",
     "output_type": "stream",
     "text": [
      "   1.0 : Done with 134, in 39.401 seconds. Error rate 0.254\n"
     ]
    },
    {
     "name": "stderr",
     "output_type": "stream",
     "text": [
      "/srv/jaybie/archive/spatial-privacy-master/nn_matchers.py:773: FutureWarning: in the future insert will treat boolean arrays and array-likes as a boolean index instead of casting it to integer\n",
      "  good_matches_kp_idx = np.insert(good_matches[good_matches_ref_kp],True,good_matches_ref_kp)\n"
     ]
    },
    {
     "name": "stdout",
     "output_type": "stream",
     "text": [
      "   1.0 : Done with 200, in 38.573 seconds. Error rate 0.250\n"
     ]
    },
    {
     "name": "stderr",
     "output_type": "stream",
     "text": [
      "/srv/jaybie/archive/spatial-privacy-master/nn_matchers.py:773: FutureWarning: in the future insert will treat boolean arrays and array-likes as a boolean index instead of casting it to integer\n",
      "  good_matches_kp_idx = np.insert(good_matches[good_matches_ref_kp],True,good_matches_ref_kp)\n"
     ]
    },
    {
     "name": "stdout",
     "output_type": "stream",
     "text": [
      "   1.0 : Done with 266, in 38.096 seconds. Error rate 0.248\n"
     ]
    },
    {
     "name": "stderr",
     "output_type": "stream",
     "text": [
      "/srv/jaybie/archive/spatial-privacy-master/nn_matchers.py:773: FutureWarning: in the future insert will treat boolean arrays and array-likes as a boolean index instead of casting it to integer\n",
      "  good_matches_kp_idx = np.insert(good_matches[good_matches_ref_kp],True,good_matches_ref_kp)\n"
     ]
    },
    {
     "name": "stdout",
     "output_type": "stream",
     "text": [
      "   1.0 : Done with 332, in 37.852 seconds. Error rate 0.244\n"
     ]
    },
    {
     "name": "stderr",
     "output_type": "stream",
     "text": [
      "/srv/jaybie/archive/spatial-privacy-master/nn_matchers.py:773: FutureWarning: in the future insert will treat boolean arrays and array-likes as a boolean index instead of casting it to integer\n",
      "  good_matches_kp_idx = np.insert(good_matches[good_matches_ref_kp],True,good_matches_ref_kp)\n"
     ]
    },
    {
     "name": "stdout",
     "output_type": "stream",
     "text": [
      "   1.0 : Done with 398, in 42.092 seconds. Error rate 0.266\n"
     ]
    },
    {
     "name": "stderr",
     "output_type": "stream",
     "text": [
      "/srv/jaybie/archive/spatial-privacy-master/nn_matchers.py:773: FutureWarning: in the future insert will treat boolean arrays and array-likes as a boolean index instead of casting it to integer\n",
      "  good_matches_kp_idx = np.insert(good_matches[good_matches_ref_kp],True,good_matches_ref_kp)\n"
     ]
    },
    {
     "name": "stdout",
     "output_type": "stream",
     "text": [
      "   1.0 : Done with 464, in 41.180 seconds. Error rate 0.280\n"
     ]
    },
    {
     "name": "stderr",
     "output_type": "stream",
     "text": [
      "/srv/jaybie/archive/spatial-privacy-master/nn_matchers.py:773: FutureWarning: in the future insert will treat boolean arrays and array-likes as a boolean index instead of casting it to integer\n",
      "  good_matches_kp_idx = np.insert(good_matches[good_matches_ref_kp],True,good_matches_ref_kp)\n"
     ]
    },
    {
     "name": "stdout",
     "output_type": "stream",
     "text": [
      "   1.0 : Done with 530, in 41.042 seconds. Error rate 0.274\n"
     ]
    },
    {
     "name": "stderr",
     "output_type": "stream",
     "text": [
      "/srv/jaybie/archive/spatial-privacy-master/nn_matchers.py:773: FutureWarning: in the future insert will treat boolean arrays and array-likes as a boolean index instead of casting it to integer\n",
      "  good_matches_kp_idx = np.insert(good_matches[good_matches_ref_kp],True,good_matches_ref_kp)\n"
     ]
    },
    {
     "name": "stdout",
     "output_type": "stream",
     "text": [
      "   1.0 : Done with 596, in 41.688 seconds. Error rate 0.279\n"
     ]
    },
    {
     "name": "stderr",
     "output_type": "stream",
     "text": [
      "/srv/jaybie/archive/spatial-privacy-master/nn_matchers.py:773: FutureWarning: in the future insert will treat boolean arrays and array-likes as a boolean index instead of casting it to integer\n",
      "  good_matches_kp_idx = np.insert(good_matches[good_matches_ref_kp],True,good_matches_ref_kp)\n"
     ]
    },
    {
     "name": "stdout",
     "output_type": "stream",
     "text": [
      "   1.0 : Done with 662, in 39.301 seconds. Error rate 0.278\n"
     ]
    },
    {
     "name": "stderr",
     "output_type": "stream",
     "text": [
      "/srv/jaybie/archive/spatial-privacy-master/nn_matchers.py:773: FutureWarning: in the future insert will treat boolean arrays and array-likes as a boolean index instead of casting it to integer\n",
      "  good_matches_kp_idx = np.insert(good_matches[good_matches_ref_kp],True,good_matches_ref_kp)\n"
     ]
    },
    {
     "name": "stdout",
     "output_type": "stream",
     "text": [
      "   1.0 : Done with 728, in 37.002 seconds. Error rate 0.276\n"
     ]
    },
    {
     "name": "stderr",
     "output_type": "stream",
     "text": [
      "/srv/jaybie/archive/spatial-privacy-master/nn_matchers.py:773: FutureWarning: in the future insert will treat boolean arrays and array-likes as a boolean index instead of casting it to integer\n",
      "  good_matches_kp_idx = np.insert(good_matches[good_matches_ref_kp],True,good_matches_ref_kp)\n"
     ]
    },
    {
     "name": "stdout",
     "output_type": "stream",
     "text": [
      "   1.0 : Done with 794, in 39.082 seconds. Error rate 0.277\n"
     ]
    },
    {
     "name": "stderr",
     "output_type": "stream",
     "text": [
      "/srv/jaybie/archive/spatial-privacy-master/nn_matchers.py:773: FutureWarning: in the future insert will treat boolean arrays and array-likes as a boolean index instead of casting it to integer\n",
      "  good_matches_kp_idx = np.insert(good_matches[good_matches_ref_kp],True,good_matches_ref_kp)\n"
     ]
    },
    {
     "name": "stdout",
     "output_type": "stream",
     "text": [
      "   1.0 : Done with 860, in 38.620 seconds. Error rate 0.274\n"
     ]
    },
    {
     "name": "stderr",
     "output_type": "stream",
     "text": [
      "/srv/jaybie/archive/spatial-privacy-master/nn_matchers.py:773: FutureWarning: in the future insert will treat boolean arrays and array-likes as a boolean index instead of casting it to integer\n",
      "  good_matches_kp_idx = np.insert(good_matches[good_matches_ref_kp],True,good_matches_ref_kp)\n"
     ]
    },
    {
     "name": "stdout",
     "output_type": "stream",
     "text": [
      "   1.0 : Done with 926, in 36.745 seconds. Error rate 0.274\n"
     ]
    },
    {
     "name": "stderr",
     "output_type": "stream",
     "text": [
      "/srv/jaybie/archive/spatial-privacy-master/nn_matchers.py:773: FutureWarning: in the future insert will treat boolean arrays and array-likes as a boolean index instead of casting it to integer\n",
      "  good_matches_kp_idx = np.insert(good_matches[good_matches_ref_kp],True,good_matches_ref_kp)\n"
     ]
    },
    {
     "name": "stdout",
     "output_type": "stream",
     "text": [
      "   1.0 : Done with 992, in 40.726 seconds. Error rate 0.275\n",
      "1.0  Total Time to match 685.070 seconds.\n",
      "radius = 1.5\n"
     ]
    },
    {
     "name": "stderr",
     "output_type": "stream",
     "text": [
      "/srv/jaybie/archive/spatial-privacy-master/nn_matchers.py:773: FutureWarning: in the future insert will treat boolean arrays and array-likes as a boolean index instead of casting it to integer\n",
      "  good_matches_kp_idx = np.insert(good_matches[good_matches_ref_kp],True,good_matches_ref_kp)\n"
     ]
    },
    {
     "name": "stdout",
     "output_type": "stream",
     "text": [
      "   1.5 : Done with 2, in 1.603 seconds. Error rate 0.000\n"
     ]
    },
    {
     "name": "stderr",
     "output_type": "stream",
     "text": [
      "/srv/jaybie/archive/spatial-privacy-master/nn_matchers.py:773: FutureWarning: in the future insert will treat boolean arrays and array-likes as a boolean index instead of casting it to integer\n",
      "  good_matches_kp_idx = np.insert(good_matches[good_matches_ref_kp],True,good_matches_ref_kp)\n"
     ]
    },
    {
     "name": "stdout",
     "output_type": "stream",
     "text": [
      "   1.5 : Done with 68, in 82.769 seconds. Error rate 0.000\n"
     ]
    },
    {
     "name": "stderr",
     "output_type": "stream",
     "text": [
      "/srv/jaybie/archive/spatial-privacy-master/nn_matchers.py:773: FutureWarning: in the future insert will treat boolean arrays and array-likes as a boolean index instead of casting it to integer\n",
      "  good_matches_kp_idx = np.insert(good_matches[good_matches_ref_kp],True,good_matches_ref_kp)\n"
     ]
    },
    {
     "name": "stdout",
     "output_type": "stream",
     "text": [
      "   1.5 : Done with 134, in 77.487 seconds. Error rate 0.000\n"
     ]
    },
    {
     "name": "stderr",
     "output_type": "stream",
     "text": [
      "/srv/jaybie/archive/spatial-privacy-master/nn_matchers.py:773: FutureWarning: in the future insert will treat boolean arrays and array-likes as a boolean index instead of casting it to integer\n",
      "  good_matches_kp_idx = np.insert(good_matches[good_matches_ref_kp],True,good_matches_ref_kp)\n"
     ]
    },
    {
     "name": "stdout",
     "output_type": "stream",
     "text": [
      "   1.5 : Done with 200, in 75.363 seconds. Error rate 0.005\n"
     ]
    },
    {
     "name": "stderr",
     "output_type": "stream",
     "text": [
      "/srv/jaybie/archive/spatial-privacy-master/nn_matchers.py:773: FutureWarning: in the future insert will treat boolean arrays and array-likes as a boolean index instead of casting it to integer\n",
      "  good_matches_kp_idx = np.insert(good_matches[good_matches_ref_kp],True,good_matches_ref_kp)\n"
     ]
    },
    {
     "name": "stdout",
     "output_type": "stream",
     "text": [
      "   1.5 : Done with 266, in 77.240 seconds. Error rate 0.008\n"
     ]
    },
    {
     "name": "stderr",
     "output_type": "stream",
     "text": [
      "/srv/jaybie/archive/spatial-privacy-master/nn_matchers.py:773: FutureWarning: in the future insert will treat boolean arrays and array-likes as a boolean index instead of casting it to integer\n",
      "  good_matches_kp_idx = np.insert(good_matches[good_matches_ref_kp],True,good_matches_ref_kp)\n"
     ]
    },
    {
     "name": "stdout",
     "output_type": "stream",
     "text": [
      "   1.5 : Done with 332, in 76.240 seconds. Error rate 0.009\n"
     ]
    },
    {
     "name": "stderr",
     "output_type": "stream",
     "text": [
      "/srv/jaybie/archive/spatial-privacy-master/nn_matchers.py:773: FutureWarning: in the future insert will treat boolean arrays and array-likes as a boolean index instead of casting it to integer\n",
      "  good_matches_kp_idx = np.insert(good_matches[good_matches_ref_kp],True,good_matches_ref_kp)\n"
     ]
    },
    {
     "name": "stdout",
     "output_type": "stream",
     "text": [
      "   1.5 : Done with 398, in 87.856 seconds. Error rate 0.010\n"
     ]
    },
    {
     "name": "stderr",
     "output_type": "stream",
     "text": [
      "/srv/jaybie/archive/spatial-privacy-master/nn_matchers.py:773: FutureWarning: in the future insert will treat boolean arrays and array-likes as a boolean index instead of casting it to integer\n",
      "  good_matches_kp_idx = np.insert(good_matches[good_matches_ref_kp],True,good_matches_ref_kp)\n"
     ]
    },
    {
     "name": "stdout",
     "output_type": "stream",
     "text": [
      "   1.5 : Done with 464, in 82.508 seconds. Error rate 0.013\n"
     ]
    },
    {
     "name": "stderr",
     "output_type": "stream",
     "text": [
      "/srv/jaybie/archive/spatial-privacy-master/nn_matchers.py:773: FutureWarning: in the future insert will treat boolean arrays and array-likes as a boolean index instead of casting it to integer\n",
      "  good_matches_kp_idx = np.insert(good_matches[good_matches_ref_kp],True,good_matches_ref_kp)\n"
     ]
    },
    {
     "name": "stdout",
     "output_type": "stream",
     "text": [
      "   1.5 : Done with 530, in 87.553 seconds. Error rate 0.011\n"
     ]
    },
    {
     "name": "stderr",
     "output_type": "stream",
     "text": [
      "/srv/jaybie/archive/spatial-privacy-master/nn_matchers.py:773: FutureWarning: in the future insert will treat boolean arrays and array-likes as a boolean index instead of casting it to integer\n",
      "  good_matches_kp_idx = np.insert(good_matches[good_matches_ref_kp],True,good_matches_ref_kp)\n"
     ]
    },
    {
     "name": "stdout",
     "output_type": "stream",
     "text": [
      "   1.5 : Done with 596, in 84.765 seconds. Error rate 0.013\n"
     ]
    },
    {
     "name": "stderr",
     "output_type": "stream",
     "text": [
      "/srv/jaybie/archive/spatial-privacy-master/nn_matchers.py:773: FutureWarning: in the future insert will treat boolean arrays and array-likes as a boolean index instead of casting it to integer\n",
      "  good_matches_kp_idx = np.insert(good_matches[good_matches_ref_kp],True,good_matches_ref_kp)\n"
     ]
    },
    {
     "name": "stdout",
     "output_type": "stream",
     "text": [
      "   1.5 : Done with 662, in 81.674 seconds. Error rate 0.012\n"
     ]
    },
    {
     "name": "stderr",
     "output_type": "stream",
     "text": [
      "/srv/jaybie/archive/spatial-privacy-master/nn_matchers.py:773: FutureWarning: in the future insert will treat boolean arrays and array-likes as a boolean index instead of casting it to integer\n",
      "  good_matches_kp_idx = np.insert(good_matches[good_matches_ref_kp],True,good_matches_ref_kp)\n"
     ]
    },
    {
     "name": "stdout",
     "output_type": "stream",
     "text": [
      "   1.5 : Done with 728, in 73.797 seconds. Error rate 0.011\n"
     ]
    },
    {
     "name": "stderr",
     "output_type": "stream",
     "text": [
      "/srv/jaybie/archive/spatial-privacy-master/nn_matchers.py:773: FutureWarning: in the future insert will treat boolean arrays and array-likes as a boolean index instead of casting it to integer\n",
      "  good_matches_kp_idx = np.insert(good_matches[good_matches_ref_kp],True,good_matches_ref_kp)\n",
      "/srv/jaybie/archive/spatial-privacy-master/nn_matchers.py:751: RuntimeWarning: divide by zero encountered in true_divide\n",
      "  similarity_of_angle = np.sum(np.multiply(unq_diff_qry_kps,unq_diff_ref_kps), axis = -1)/np.multiply(Norm_unq_diff_qry_kps,Norm_unq_diff_ref_kps)\n",
      "/srv/jaybie/archive/spatial-privacy-master/nn_matchers.py:751: RuntimeWarning: invalid value encountered in true_divide\n",
      "  similarity_of_angle = np.sum(np.multiply(unq_diff_qry_kps,unq_diff_ref_kps), axis = -1)/np.multiply(Norm_unq_diff_qry_kps,Norm_unq_diff_ref_kps)\n",
      "/srv/jaybie/archive/spatial-privacy-master/nn_matchers.py:761: RuntimeWarning: invalid value encountered in greater\n",
      "  good_match_threshold*np.ones(similarity_of_shape.shape)\n",
      "/srv/jaybie/archive/spatial-privacy-master/nn_matchers.py:768: RuntimeWarning: invalid value encountered in greater\n",
      "  good_match_threshold*np.ones(similarity_of_shape.shape)\n"
     ]
    },
    {
     "name": "stdout",
     "output_type": "stream",
     "text": [
      "   1.5 : Done with 794, in 81.515 seconds. Error rate 0.010\n"
     ]
    },
    {
     "name": "stderr",
     "output_type": "stream",
     "text": [
      "/srv/jaybie/archive/spatial-privacy-master/nn_matchers.py:773: FutureWarning: in the future insert will treat boolean arrays and array-likes as a boolean index instead of casting it to integer\n",
      "  good_matches_kp_idx = np.insert(good_matches[good_matches_ref_kp],True,good_matches_ref_kp)\n",
      "/srv/jaybie/archive/spatial-privacy-master/nn_matchers.py:751: RuntimeWarning: divide by zero encountered in true_divide\n",
      "  similarity_of_angle = np.sum(np.multiply(unq_diff_qry_kps,unq_diff_ref_kps), axis = -1)/np.multiply(Norm_unq_diff_qry_kps,Norm_unq_diff_ref_kps)\n",
      "/srv/jaybie/archive/spatial-privacy-master/nn_matchers.py:751: RuntimeWarning: invalid value encountered in true_divide\n",
      "  similarity_of_angle = np.sum(np.multiply(unq_diff_qry_kps,unq_diff_ref_kps), axis = -1)/np.multiply(Norm_unq_diff_qry_kps,Norm_unq_diff_ref_kps)\n",
      "/srv/jaybie/archive/spatial-privacy-master/nn_matchers.py:761: RuntimeWarning: invalid value encountered in greater\n",
      "  good_match_threshold*np.ones(similarity_of_shape.shape)\n",
      "/srv/jaybie/archive/spatial-privacy-master/nn_matchers.py:768: RuntimeWarning: invalid value encountered in greater\n",
      "  good_match_threshold*np.ones(similarity_of_shape.shape)\n"
     ]
    },
    {
     "name": "stdout",
     "output_type": "stream",
     "text": [
      "   1.5 : Done with 860, in 77.500 seconds. Error rate 0.010\n"
     ]
    },
    {
     "name": "stderr",
     "output_type": "stream",
     "text": [
      "/srv/jaybie/archive/spatial-privacy-master/nn_matchers.py:773: FutureWarning: in the future insert will treat boolean arrays and array-likes as a boolean index instead of casting it to integer\n",
      "  good_matches_kp_idx = np.insert(good_matches[good_matches_ref_kp],True,good_matches_ref_kp)\n",
      "/srv/jaybie/archive/spatial-privacy-master/nn_matchers.py:751: RuntimeWarning: divide by zero encountered in true_divide\n",
      "  similarity_of_angle = np.sum(np.multiply(unq_diff_qry_kps,unq_diff_ref_kps), axis = -1)/np.multiply(Norm_unq_diff_qry_kps,Norm_unq_diff_ref_kps)\n",
      "/srv/jaybie/archive/spatial-privacy-master/nn_matchers.py:751: RuntimeWarning: invalid value encountered in true_divide\n",
      "  similarity_of_angle = np.sum(np.multiply(unq_diff_qry_kps,unq_diff_ref_kps), axis = -1)/np.multiply(Norm_unq_diff_qry_kps,Norm_unq_diff_ref_kps)\n",
      "/srv/jaybie/archive/spatial-privacy-master/nn_matchers.py:761: RuntimeWarning: invalid value encountered in greater\n",
      "  good_match_threshold*np.ones(similarity_of_shape.shape)\n",
      "/srv/jaybie/archive/spatial-privacy-master/nn_matchers.py:768: RuntimeWarning: invalid value encountered in greater\n",
      "  good_match_threshold*np.ones(similarity_of_shape.shape)\n"
     ]
    },
    {
     "name": "stdout",
     "output_type": "stream",
     "text": [
      "   1.5 : Done with 926, in 76.779 seconds. Error rate 0.010\n"
     ]
    },
    {
     "name": "stderr",
     "output_type": "stream",
     "text": [
      "/srv/jaybie/archive/spatial-privacy-master/nn_matchers.py:773: FutureWarning: in the future insert will treat boolean arrays and array-likes as a boolean index instead of casting it to integer\n",
      "  good_matches_kp_idx = np.insert(good_matches[good_matches_ref_kp],True,good_matches_ref_kp)\n",
      "/srv/jaybie/archive/spatial-privacy-master/nn_matchers.py:751: RuntimeWarning: divide by zero encountered in true_divide\n",
      "  similarity_of_angle = np.sum(np.multiply(unq_diff_qry_kps,unq_diff_ref_kps), axis = -1)/np.multiply(Norm_unq_diff_qry_kps,Norm_unq_diff_ref_kps)\n",
      "/srv/jaybie/archive/spatial-privacy-master/nn_matchers.py:751: RuntimeWarning: invalid value encountered in true_divide\n",
      "  similarity_of_angle = np.sum(np.multiply(unq_diff_qry_kps,unq_diff_ref_kps), axis = -1)/np.multiply(Norm_unq_diff_qry_kps,Norm_unq_diff_ref_kps)\n",
      "/srv/jaybie/archive/spatial-privacy-master/nn_matchers.py:761: RuntimeWarning: invalid value encountered in greater\n",
      "  good_match_threshold*np.ones(similarity_of_shape.shape)\n",
      "/srv/jaybie/archive/spatial-privacy-master/nn_matchers.py:768: RuntimeWarning: invalid value encountered in greater\n",
      "  good_match_threshold*np.ones(similarity_of_shape.shape)\n"
     ]
    },
    {
     "name": "stdout",
     "output_type": "stream",
     "text": [
      "   1.5 : Done with 992, in 86.417 seconds. Error rate 0.010\n",
      "1.5  Total Time to match 1410.476 seconds.\n",
      "radius = 2.0\n"
     ]
    },
    {
     "name": "stderr",
     "output_type": "stream",
     "text": [
      "/srv/jaybie/archive/spatial-privacy-master/nn_matchers.py:773: FutureWarning: in the future insert will treat boolean arrays and array-likes as a boolean index instead of casting it to integer\n",
      "  good_matches_kp_idx = np.insert(good_matches[good_matches_ref_kp],True,good_matches_ref_kp)\n"
     ]
    },
    {
     "name": "stdout",
     "output_type": "stream",
     "text": [
      "   2.0 : Done with 2, in 3.418 seconds. Error rate 0.000\n"
     ]
    },
    {
     "name": "stderr",
     "output_type": "stream",
     "text": [
      "/srv/jaybie/archive/spatial-privacy-master/nn_matchers.py:773: FutureWarning: in the future insert will treat boolean arrays and array-likes as a boolean index instead of casting it to integer\n",
      "  good_matches_kp_idx = np.insert(good_matches[good_matches_ref_kp],True,good_matches_ref_kp)\n"
     ]
    },
    {
     "name": "stdout",
     "output_type": "stream",
     "text": [
      "   2.0 : Done with 68, in 149.865 seconds. Error rate 0.000\n"
     ]
    },
    {
     "name": "stderr",
     "output_type": "stream",
     "text": [
      "/srv/jaybie/archive/spatial-privacy-master/nn_matchers.py:773: FutureWarning: in the future insert will treat boolean arrays and array-likes as a boolean index instead of casting it to integer\n",
      "  good_matches_kp_idx = np.insert(good_matches[good_matches_ref_kp],True,good_matches_ref_kp)\n"
     ]
    },
    {
     "name": "stdout",
     "output_type": "stream",
     "text": [
      "   2.0 : Done with 134, in 142.298 seconds. Error rate 0.000\n"
     ]
    },
    {
     "name": "stderr",
     "output_type": "stream",
     "text": [
      "/srv/jaybie/archive/spatial-privacy-master/nn_matchers.py:773: FutureWarning: in the future insert will treat boolean arrays and array-likes as a boolean index instead of casting it to integer\n",
      "  good_matches_kp_idx = np.insert(good_matches[good_matches_ref_kp],True,good_matches_ref_kp)\n"
     ]
    },
    {
     "name": "stdout",
     "output_type": "stream",
     "text": [
      "   2.0 : Done with 200, in 134.962 seconds. Error rate 0.000\n"
     ]
    },
    {
     "name": "stderr",
     "output_type": "stream",
     "text": [
      "/srv/jaybie/archive/spatial-privacy-master/nn_matchers.py:773: FutureWarning: in the future insert will treat boolean arrays and array-likes as a boolean index instead of casting it to integer\n",
      "  good_matches_kp_idx = np.insert(good_matches[good_matches_ref_kp],True,good_matches_ref_kp)\n"
     ]
    },
    {
     "name": "stdout",
     "output_type": "stream",
     "text": [
      "   2.0 : Done with 266, in 137.180 seconds. Error rate 0.000\n"
     ]
    },
    {
     "name": "stderr",
     "output_type": "stream",
     "text": [
      "/srv/jaybie/archive/spatial-privacy-master/nn_matchers.py:773: FutureWarning: in the future insert will treat boolean arrays and array-likes as a boolean index instead of casting it to integer\n",
      "  good_matches_kp_idx = np.insert(good_matches[good_matches_ref_kp],True,good_matches_ref_kp)\n"
     ]
    },
    {
     "name": "stdout",
     "output_type": "stream",
     "text": [
      "   2.0 : Done with 332, in 140.880 seconds. Error rate 0.000\n"
     ]
    },
    {
     "name": "stderr",
     "output_type": "stream",
     "text": [
      "/srv/jaybie/archive/spatial-privacy-master/nn_matchers.py:773: FutureWarning: in the future insert will treat boolean arrays and array-likes as a boolean index instead of casting it to integer\n",
      "  good_matches_kp_idx = np.insert(good_matches[good_matches_ref_kp],True,good_matches_ref_kp)\n"
     ]
    },
    {
     "name": "stdout",
     "output_type": "stream",
     "text": [
      "   2.0 : Done with 398, in 156.345 seconds. Error rate 0.000\n"
     ]
    },
    {
     "name": "stderr",
     "output_type": "stream",
     "text": [
      "/srv/jaybie/archive/spatial-privacy-master/nn_matchers.py:773: FutureWarning: in the future insert will treat boolean arrays and array-likes as a boolean index instead of casting it to integer\n",
      "  good_matches_kp_idx = np.insert(good_matches[good_matches_ref_kp],True,good_matches_ref_kp)\n"
     ]
    },
    {
     "name": "stdout",
     "output_type": "stream",
     "text": [
      "   2.0 : Done with 464, in 150.608 seconds. Error rate 0.000\n"
     ]
    },
    {
     "name": "stderr",
     "output_type": "stream",
     "text": [
      "/srv/jaybie/archive/spatial-privacy-master/nn_matchers.py:773: FutureWarning: in the future insert will treat boolean arrays and array-likes as a boolean index instead of casting it to integer\n",
      "  good_matches_kp_idx = np.insert(good_matches[good_matches_ref_kp],True,good_matches_ref_kp)\n"
     ]
    },
    {
     "name": "stdout",
     "output_type": "stream",
     "text": [
      "   2.0 : Done with 530, in 167.026 seconds. Error rate 0.000\n"
     ]
    },
    {
     "name": "stderr",
     "output_type": "stream",
     "text": [
      "/srv/jaybie/archive/spatial-privacy-master/nn_matchers.py:773: FutureWarning: in the future insert will treat boolean arrays and array-likes as a boolean index instead of casting it to integer\n",
      "  good_matches_kp_idx = np.insert(good_matches[good_matches_ref_kp],True,good_matches_ref_kp)\n"
     ]
    },
    {
     "name": "stdout",
     "output_type": "stream",
     "text": [
      "   2.0 : Done with 596, in 159.447 seconds. Error rate 0.000\n"
     ]
    },
    {
     "name": "stderr",
     "output_type": "stream",
     "text": [
      "/srv/jaybie/archive/spatial-privacy-master/nn_matchers.py:773: FutureWarning: in the future insert will treat boolean arrays and array-likes as a boolean index instead of casting it to integer\n",
      "  good_matches_kp_idx = np.insert(good_matches[good_matches_ref_kp],True,good_matches_ref_kp)\n"
     ]
    },
    {
     "name": "stdout",
     "output_type": "stream",
     "text": [
      "   2.0 : Done with 662, in 158.287 seconds. Error rate 0.000\n"
     ]
    },
    {
     "name": "stderr",
     "output_type": "stream",
     "text": [
      "/srv/jaybie/archive/spatial-privacy-master/nn_matchers.py:773: FutureWarning: in the future insert will treat boolean arrays and array-likes as a boolean index instead of casting it to integer\n",
      "  good_matches_kp_idx = np.insert(good_matches[good_matches_ref_kp],True,good_matches_ref_kp)\n"
     ]
    },
    {
     "name": "stdout",
     "output_type": "stream",
     "text": [
      "   2.0 : Done with 728, in 140.133 seconds. Error rate 0.000\n"
     ]
    },
    {
     "name": "stderr",
     "output_type": "stream",
     "text": [
      "/srv/jaybie/archive/spatial-privacy-master/nn_matchers.py:773: FutureWarning: in the future insert will treat boolean arrays and array-likes as a boolean index instead of casting it to integer\n",
      "  good_matches_kp_idx = np.insert(good_matches[good_matches_ref_kp],True,good_matches_ref_kp)\n",
      "/srv/jaybie/archive/spatial-privacy-master/nn_matchers.py:761: RuntimeWarning: invalid value encountered in greater\n",
      "  good_match_threshold*np.ones(similarity_of_shape.shape)\n",
      "/srv/jaybie/archive/spatial-privacy-master/nn_matchers.py:768: RuntimeWarning: invalid value encountered in greater\n",
      "  good_match_threshold*np.ones(similarity_of_shape.shape)\n"
     ]
    },
    {
     "name": "stdout",
     "output_type": "stream",
     "text": [
      "   2.0 : Done with 794, in 158.849 seconds. Error rate 0.000\n"
     ]
    },
    {
     "name": "stderr",
     "output_type": "stream",
     "text": [
      "/srv/jaybie/archive/spatial-privacy-master/nn_matchers.py:773: FutureWarning: in the future insert will treat boolean arrays and array-likes as a boolean index instead of casting it to integer\n",
      "  good_matches_kp_idx = np.insert(good_matches[good_matches_ref_kp],True,good_matches_ref_kp)\n",
      "/srv/jaybie/archive/spatial-privacy-master/nn_matchers.py:761: RuntimeWarning: invalid value encountered in greater\n",
      "  good_match_threshold*np.ones(similarity_of_shape.shape)\n",
      "/srv/jaybie/archive/spatial-privacy-master/nn_matchers.py:768: RuntimeWarning: invalid value encountered in greater\n",
      "  good_match_threshold*np.ones(similarity_of_shape.shape)\n"
     ]
    },
    {
     "name": "stdout",
     "output_type": "stream",
     "text": [
      "   2.0 : Done with 860, in 145.275 seconds. Error rate 0.000\n"
     ]
    },
    {
     "name": "stderr",
     "output_type": "stream",
     "text": [
      "/srv/jaybie/archive/spatial-privacy-master/nn_matchers.py:773: FutureWarning: in the future insert will treat boolean arrays and array-likes as a boolean index instead of casting it to integer\n",
      "  good_matches_kp_idx = np.insert(good_matches[good_matches_ref_kp],True,good_matches_ref_kp)\n",
      "/srv/jaybie/archive/spatial-privacy-master/nn_matchers.py:761: RuntimeWarning: invalid value encountered in greater\n",
      "  good_match_threshold*np.ones(similarity_of_shape.shape)\n",
      "/srv/jaybie/archive/spatial-privacy-master/nn_matchers.py:768: RuntimeWarning: invalid value encountered in greater\n",
      "  good_match_threshold*np.ones(similarity_of_shape.shape)\n"
     ]
    },
    {
     "name": "stdout",
     "output_type": "stream",
     "text": [
      "   2.0 : Done with 926, in 148.294 seconds. Error rate 0.000\n"
     ]
    },
    {
     "name": "stderr",
     "output_type": "stream",
     "text": [
      "/srv/jaybie/archive/spatial-privacy-master/nn_matchers.py:773: FutureWarning: in the future insert will treat boolean arrays and array-likes as a boolean index instead of casting it to integer\n",
      "  good_matches_kp_idx = np.insert(good_matches[good_matches_ref_kp],True,good_matches_ref_kp)\n",
      "/srv/jaybie/archive/spatial-privacy-master/nn_matchers.py:761: RuntimeWarning: invalid value encountered in greater\n",
      "  good_match_threshold*np.ones(similarity_of_shape.shape)\n",
      "/srv/jaybie/archive/spatial-privacy-master/nn_matchers.py:768: RuntimeWarning: invalid value encountered in greater\n",
      "  good_match_threshold*np.ones(similarity_of_shape.shape)\n"
     ]
    },
    {
     "name": "stdout",
     "output_type": "stream",
     "text": [
      "   2.0 : Done with 992, in 161.844 seconds. Error rate 0.000\n",
      "2.0  Total Time to match 2596.322 seconds.\n",
      "radius = 2.5\n"
     ]
    },
    {
     "name": "stderr",
     "output_type": "stream",
     "text": [
      "/srv/jaybie/archive/spatial-privacy-master/nn_matchers.py:773: FutureWarning: in the future insert will treat boolean arrays and array-likes as a boolean index instead of casting it to integer\n",
      "  good_matches_kp_idx = np.insert(good_matches[good_matches_ref_kp],True,good_matches_ref_kp)\n"
     ]
    },
    {
     "name": "stdout",
     "output_type": "stream",
     "text": [
      "   2.5 : Done with 2, in 5.353 seconds. Error rate 0.000\n"
     ]
    },
    {
     "name": "stderr",
     "output_type": "stream",
     "text": [
      "/srv/jaybie/archive/spatial-privacy-master/nn_matchers.py:773: FutureWarning: in the future insert will treat boolean arrays and array-likes as a boolean index instead of casting it to integer\n",
      "  good_matches_kp_idx = np.insert(good_matches[good_matches_ref_kp],True,good_matches_ref_kp)\n"
     ]
    },
    {
     "name": "stdout",
     "output_type": "stream",
     "text": [
      "   2.5 : Done with 68, in 242.824 seconds. Error rate 0.000\n"
     ]
    },
    {
     "name": "stderr",
     "output_type": "stream",
     "text": [
      "/srv/jaybie/archive/spatial-privacy-master/nn_matchers.py:773: FutureWarning: in the future insert will treat boolean arrays and array-likes as a boolean index instead of casting it to integer\n",
      "  good_matches_kp_idx = np.insert(good_matches[good_matches_ref_kp],True,good_matches_ref_kp)\n"
     ]
    },
    {
     "name": "stdout",
     "output_type": "stream",
     "text": [
      "   2.5 : Done with 134, in 232.314 seconds. Error rate 0.000\n"
     ]
    },
    {
     "name": "stderr",
     "output_type": "stream",
     "text": [
      "/srv/jaybie/archive/spatial-privacy-master/nn_matchers.py:773: FutureWarning: in the future insert will treat boolean arrays and array-likes as a boolean index instead of casting it to integer\n",
      "  good_matches_kp_idx = np.insert(good_matches[good_matches_ref_kp],True,good_matches_ref_kp)\n"
     ]
    },
    {
     "name": "stdout",
     "output_type": "stream",
     "text": [
      "   2.5 : Done with 200, in 223.121 seconds. Error rate 0.000\n"
     ]
    },
    {
     "name": "stderr",
     "output_type": "stream",
     "text": [
      "/srv/jaybie/archive/spatial-privacy-master/nn_matchers.py:773: FutureWarning: in the future insert will treat boolean arrays and array-likes as a boolean index instead of casting it to integer\n",
      "  good_matches_kp_idx = np.insert(good_matches[good_matches_ref_kp],True,good_matches_ref_kp)\n"
     ]
    },
    {
     "name": "stdout",
     "output_type": "stream",
     "text": [
      "   2.5 : Done with 266, in 233.683 seconds. Error rate 0.000\n"
     ]
    },
    {
     "name": "stderr",
     "output_type": "stream",
     "text": [
      "/srv/jaybie/archive/spatial-privacy-master/nn_matchers.py:773: FutureWarning: in the future insert will treat boolean arrays and array-likes as a boolean index instead of casting it to integer\n",
      "  good_matches_kp_idx = np.insert(good_matches[good_matches_ref_kp],True,good_matches_ref_kp)\n"
     ]
    },
    {
     "name": "stdout",
     "output_type": "stream",
     "text": [
      "   2.5 : Done with 332, in 231.080 seconds. Error rate 0.000\n"
     ]
    },
    {
     "name": "stderr",
     "output_type": "stream",
     "text": [
      "/srv/jaybie/archive/spatial-privacy-master/nn_matchers.py:773: FutureWarning: in the future insert will treat boolean arrays and array-likes as a boolean index instead of casting it to integer\n",
      "  good_matches_kp_idx = np.insert(good_matches[good_matches_ref_kp],True,good_matches_ref_kp)\n"
     ]
    },
    {
     "name": "stdout",
     "output_type": "stream",
     "text": [
      "   2.5 : Done with 398, in 260.974 seconds. Error rate 0.000\n"
     ]
    },
    {
     "name": "stderr",
     "output_type": "stream",
     "text": [
      "/srv/jaybie/archive/spatial-privacy-master/nn_matchers.py:773: FutureWarning: in the future insert will treat boolean arrays and array-likes as a boolean index instead of casting it to integer\n",
      "  good_matches_kp_idx = np.insert(good_matches[good_matches_ref_kp],True,good_matches_ref_kp)\n"
     ]
    },
    {
     "name": "stdout",
     "output_type": "stream",
     "text": [
      "   2.5 : Done with 464, in 250.357 seconds. Error rate 0.000\n"
     ]
    },
    {
     "name": "stderr",
     "output_type": "stream",
     "text": [
      "/srv/jaybie/archive/spatial-privacy-master/nn_matchers.py:773: FutureWarning: in the future insert will treat boolean arrays and array-likes as a boolean index instead of casting it to integer\n",
      "  good_matches_kp_idx = np.insert(good_matches[good_matches_ref_kp],True,good_matches_ref_kp)\n"
     ]
    },
    {
     "name": "stdout",
     "output_type": "stream",
     "text": [
      "   2.5 : Done with 530, in 283.580 seconds. Error rate 0.000\n"
     ]
    },
    {
     "name": "stderr",
     "output_type": "stream",
     "text": [
      "/srv/jaybie/archive/spatial-privacy-master/nn_matchers.py:773: FutureWarning: in the future insert will treat boolean arrays and array-likes as a boolean index instead of casting it to integer\n",
      "  good_matches_kp_idx = np.insert(good_matches[good_matches_ref_kp],True,good_matches_ref_kp)\n"
     ]
    },
    {
     "name": "stdout",
     "output_type": "stream",
     "text": [
      "   2.5 : Done with 596, in 263.144 seconds. Error rate 0.000\n"
     ]
    },
    {
     "name": "stderr",
     "output_type": "stream",
     "text": [
      "/srv/jaybie/archive/spatial-privacy-master/nn_matchers.py:773: FutureWarning: in the future insert will treat boolean arrays and array-likes as a boolean index instead of casting it to integer\n",
      "  good_matches_kp_idx = np.insert(good_matches[good_matches_ref_kp],True,good_matches_ref_kp)\n"
     ]
    },
    {
     "name": "stdout",
     "output_type": "stream",
     "text": [
      "   2.5 : Done with 662, in 305.566 seconds. Error rate 0.000\n"
     ]
    },
    {
     "name": "stderr",
     "output_type": "stream",
     "text": [
      "/srv/jaybie/archive/spatial-privacy-master/nn_matchers.py:773: FutureWarning: in the future insert will treat boolean arrays and array-likes as a boolean index instead of casting it to integer\n",
      "  good_matches_kp_idx = np.insert(good_matches[good_matches_ref_kp],True,good_matches_ref_kp)\n"
     ]
    },
    {
     "name": "stdout",
     "output_type": "stream",
     "text": [
      "   2.5 : Done with 728, in 280.870 seconds. Error rate 0.000\n"
     ]
    },
    {
     "name": "stderr",
     "output_type": "stream",
     "text": [
      "/srv/jaybie/archive/spatial-privacy-master/nn_matchers.py:773: FutureWarning: in the future insert will treat boolean arrays and array-likes as a boolean index instead of casting it to integer\n",
      "  good_matches_kp_idx = np.insert(good_matches[good_matches_ref_kp],True,good_matches_ref_kp)\n",
      "/srv/jaybie/archive/spatial-privacy-master/nn_matchers.py:761: RuntimeWarning: invalid value encountered in greater\n",
      "  good_match_threshold*np.ones(similarity_of_shape.shape)\n",
      "/srv/jaybie/archive/spatial-privacy-master/nn_matchers.py:768: RuntimeWarning: invalid value encountered in greater\n",
      "  good_match_threshold*np.ones(similarity_of_shape.shape)\n"
     ]
    },
    {
     "name": "stdout",
     "output_type": "stream",
     "text": [
      "   2.5 : Done with 794, in 312.563 seconds. Error rate 0.000\n"
     ]
    },
    {
     "name": "stderr",
     "output_type": "stream",
     "text": [
      "/srv/jaybie/archive/spatial-privacy-master/nn_matchers.py:773: FutureWarning: in the future insert will treat boolean arrays and array-likes as a boolean index instead of casting it to integer\n",
      "  good_matches_kp_idx = np.insert(good_matches[good_matches_ref_kp],True,good_matches_ref_kp)\n",
      "/srv/jaybie/archive/spatial-privacy-master/nn_matchers.py:761: RuntimeWarning: invalid value encountered in greater\n",
      "  good_match_threshold*np.ones(similarity_of_shape.shape)\n",
      "/srv/jaybie/archive/spatial-privacy-master/nn_matchers.py:768: RuntimeWarning: invalid value encountered in greater\n",
      "  good_match_threshold*np.ones(similarity_of_shape.shape)\n"
     ]
    },
    {
     "name": "stdout",
     "output_type": "stream",
     "text": [
      "   2.5 : Done with 860, in 299.833 seconds. Error rate 0.000\n"
     ]
    },
    {
     "name": "stderr",
     "output_type": "stream",
     "text": [
      "/srv/jaybie/archive/spatial-privacy-master/nn_matchers.py:773: FutureWarning: in the future insert will treat boolean arrays and array-likes as a boolean index instead of casting it to integer\n",
      "  good_matches_kp_idx = np.insert(good_matches[good_matches_ref_kp],True,good_matches_ref_kp)\n",
      "/srv/jaybie/archive/spatial-privacy-master/nn_matchers.py:761: RuntimeWarning: invalid value encountered in greater\n",
      "  good_match_threshold*np.ones(similarity_of_shape.shape)\n",
      "/srv/jaybie/archive/spatial-privacy-master/nn_matchers.py:768: RuntimeWarning: invalid value encountered in greater\n",
      "  good_match_threshold*np.ones(similarity_of_shape.shape)\n"
     ]
    },
    {
     "name": "stdout",
     "output_type": "stream",
     "text": [
      "   2.5 : Done with 926, in 282.265 seconds. Error rate 0.000\n"
     ]
    },
    {
     "name": "stderr",
     "output_type": "stream",
     "text": [
      "/srv/jaybie/archive/spatial-privacy-master/nn_matchers.py:773: FutureWarning: in the future insert will treat boolean arrays and array-likes as a boolean index instead of casting it to integer\n",
      "  good_matches_kp_idx = np.insert(good_matches[good_matches_ref_kp],True,good_matches_ref_kp)\n",
      "/srv/jaybie/archive/spatial-privacy-master/nn_matchers.py:761: RuntimeWarning: invalid value encountered in greater\n",
      "  good_match_threshold*np.ones(similarity_of_shape.shape)\n",
      "/srv/jaybie/archive/spatial-privacy-master/nn_matchers.py:768: RuntimeWarning: invalid value encountered in greater\n",
      "  good_match_threshold*np.ones(similarity_of_shape.shape)\n"
     ]
    },
    {
     "name": "stdout",
     "output_type": "stream",
     "text": [
      "   2.5 : Done with 992, in 276.536 seconds. Error rate 0.000\n",
      "2.5  Total Time to match 4563.286 seconds.\n",
      "radius = 3.0\n"
     ]
    },
    {
     "name": "stderr",
     "output_type": "stream",
     "text": [
      "/srv/jaybie/archive/spatial-privacy-master/nn_matchers.py:773: FutureWarning: in the future insert will treat boolean arrays and array-likes as a boolean index instead of casting it to integer\n",
      "  good_matches_kp_idx = np.insert(good_matches[good_matches_ref_kp],True,good_matches_ref_kp)\n"
     ]
    },
    {
     "name": "stdout",
     "output_type": "stream",
     "text": [
      "   3.0 : Done with 2, in 7.318 seconds. Error rate 0.000\n"
     ]
    },
    {
     "name": "stderr",
     "output_type": "stream",
     "text": [
      "/srv/jaybie/archive/spatial-privacy-master/nn_matchers.py:773: FutureWarning: in the future insert will treat boolean arrays and array-likes as a boolean index instead of casting it to integer\n",
      "  good_matches_kp_idx = np.insert(good_matches[good_matches_ref_kp],True,good_matches_ref_kp)\n"
     ]
    },
    {
     "name": "stdout",
     "output_type": "stream",
     "text": [
      "   3.0 : Done with 68, in 351.282 seconds. Error rate 0.000\n"
     ]
    },
    {
     "name": "stderr",
     "output_type": "stream",
     "text": [
      "/srv/jaybie/archive/spatial-privacy-master/nn_matchers.py:773: FutureWarning: in the future insert will treat boolean arrays and array-likes as a boolean index instead of casting it to integer\n",
      "  good_matches_kp_idx = np.insert(good_matches[good_matches_ref_kp],True,good_matches_ref_kp)\n"
     ]
    },
    {
     "name": "stdout",
     "output_type": "stream",
     "text": [
      "   3.0 : Done with 134, in 332.397 seconds. Error rate 0.000\n"
     ]
    },
    {
     "name": "stderr",
     "output_type": "stream",
     "text": [
      "/srv/jaybie/archive/spatial-privacy-master/nn_matchers.py:773: FutureWarning: in the future insert will treat boolean arrays and array-likes as a boolean index instead of casting it to integer\n",
      "  good_matches_kp_idx = np.insert(good_matches[good_matches_ref_kp],True,good_matches_ref_kp)\n"
     ]
    },
    {
     "name": "stdout",
     "output_type": "stream",
     "text": [
      "   3.0 : Done with 200, in 344.042 seconds. Error rate 0.000\n"
     ]
    },
    {
     "name": "stderr",
     "output_type": "stream",
     "text": [
      "/srv/jaybie/archive/spatial-privacy-master/nn_matchers.py:773: FutureWarning: in the future insert will treat boolean arrays and array-likes as a boolean index instead of casting it to integer\n",
      "  good_matches_kp_idx = np.insert(good_matches[good_matches_ref_kp],True,good_matches_ref_kp)\n"
     ]
    },
    {
     "name": "stdout",
     "output_type": "stream",
     "text": [
      "   3.0 : Done with 266, in 354.723 seconds. Error rate 0.000\n"
     ]
    },
    {
     "name": "stderr",
     "output_type": "stream",
     "text": [
      "/srv/jaybie/archive/spatial-privacy-master/nn_matchers.py:773: FutureWarning: in the future insert will treat boolean arrays and array-likes as a boolean index instead of casting it to integer\n",
      "  good_matches_kp_idx = np.insert(good_matches[good_matches_ref_kp],True,good_matches_ref_kp)\n"
     ]
    },
    {
     "name": "stdout",
     "output_type": "stream",
     "text": [
      "   3.0 : Done with 332, in 358.191 seconds. Error rate 0.000\n"
     ]
    },
    {
     "name": "stderr",
     "output_type": "stream",
     "text": [
      "/srv/jaybie/archive/spatial-privacy-master/nn_matchers.py:773: FutureWarning: in the future insert will treat boolean arrays and array-likes as a boolean index instead of casting it to integer\n",
      "  good_matches_kp_idx = np.insert(good_matches[good_matches_ref_kp],True,good_matches_ref_kp)\n"
     ]
    },
    {
     "name": "stdout",
     "output_type": "stream",
     "text": [
      "   3.0 : Done with 398, in 415.117 seconds. Error rate 0.000\n"
     ]
    },
    {
     "name": "stderr",
     "output_type": "stream",
     "text": [
      "/srv/jaybie/archive/spatial-privacy-master/nn_matchers.py:773: FutureWarning: in the future insert will treat boolean arrays and array-likes as a boolean index instead of casting it to integer\n",
      "  good_matches_kp_idx = np.insert(good_matches[good_matches_ref_kp],True,good_matches_ref_kp)\n"
     ]
    },
    {
     "name": "stdout",
     "output_type": "stream",
     "text": [
      "   3.0 : Done with 464, in 374.814 seconds. Error rate 0.000\n"
     ]
    },
    {
     "name": "stderr",
     "output_type": "stream",
     "text": [
      "/srv/jaybie/archive/spatial-privacy-master/nn_matchers.py:773: FutureWarning: in the future insert will treat boolean arrays and array-likes as a boolean index instead of casting it to integer\n",
      "  good_matches_kp_idx = np.insert(good_matches[good_matches_ref_kp],True,good_matches_ref_kp)\n"
     ]
    },
    {
     "name": "stdout",
     "output_type": "stream",
     "text": [
      "   3.0 : Done with 530, in 413.567 seconds. Error rate 0.000\n"
     ]
    },
    {
     "name": "stderr",
     "output_type": "stream",
     "text": [
      "/srv/jaybie/archive/spatial-privacy-master/nn_matchers.py:773: FutureWarning: in the future insert will treat boolean arrays and array-likes as a boolean index instead of casting it to integer\n",
      "  good_matches_kp_idx = np.insert(good_matches[good_matches_ref_kp],True,good_matches_ref_kp)\n"
     ]
    },
    {
     "name": "stdout",
     "output_type": "stream",
     "text": [
      "   3.0 : Done with 596, in 386.812 seconds. Error rate 0.000\n"
     ]
    },
    {
     "name": "stderr",
     "output_type": "stream",
     "text": [
      "/srv/jaybie/archive/spatial-privacy-master/nn_matchers.py:773: FutureWarning: in the future insert will treat boolean arrays and array-likes as a boolean index instead of casting it to integer\n",
      "  good_matches_kp_idx = np.insert(good_matches[good_matches_ref_kp],True,good_matches_ref_kp)\n"
     ]
    },
    {
     "name": "stdout",
     "output_type": "stream",
     "text": [
      "   3.0 : Done with 662, in 397.595 seconds. Error rate 0.000\n"
     ]
    },
    {
     "name": "stderr",
     "output_type": "stream",
     "text": [
      "/srv/jaybie/archive/spatial-privacy-master/nn_matchers.py:773: FutureWarning: in the future insert will treat boolean arrays and array-likes as a boolean index instead of casting it to integer\n",
      "  good_matches_kp_idx = np.insert(good_matches[good_matches_ref_kp],True,good_matches_ref_kp)\n"
     ]
    },
    {
     "name": "stdout",
     "output_type": "stream",
     "text": [
      "   3.0 : Done with 728, in 374.588 seconds. Error rate 0.000\n"
     ]
    },
    {
     "name": "stderr",
     "output_type": "stream",
     "text": [
      "/srv/jaybie/archive/spatial-privacy-master/nn_matchers.py:773: FutureWarning: in the future insert will treat boolean arrays and array-likes as a boolean index instead of casting it to integer\n",
      "  good_matches_kp_idx = np.insert(good_matches[good_matches_ref_kp],True,good_matches_ref_kp)\n",
      "/srv/jaybie/archive/spatial-privacy-master/nn_matchers.py:761: RuntimeWarning: invalid value encountered in greater\n",
      "  good_match_threshold*np.ones(similarity_of_shape.shape)\n",
      "/srv/jaybie/archive/spatial-privacy-master/nn_matchers.py:768: RuntimeWarning: invalid value encountered in greater\n",
      "  good_match_threshold*np.ones(similarity_of_shape.shape)\n"
     ]
    },
    {
     "name": "stdout",
     "output_type": "stream",
     "text": [
      "   3.0 : Done with 794, in 425.346 seconds. Error rate 0.000\n"
     ]
    },
    {
     "name": "stderr",
     "output_type": "stream",
     "text": [
      "/srv/jaybie/archive/spatial-privacy-master/nn_matchers.py:773: FutureWarning: in the future insert will treat boolean arrays and array-likes as a boolean index instead of casting it to integer\n",
      "  good_matches_kp_idx = np.insert(good_matches[good_matches_ref_kp],True,good_matches_ref_kp)\n",
      "/srv/jaybie/archive/spatial-privacy-master/nn_matchers.py:761: RuntimeWarning: invalid value encountered in greater\n",
      "  good_match_threshold*np.ones(similarity_of_shape.shape)\n",
      "/srv/jaybie/archive/spatial-privacy-master/nn_matchers.py:768: RuntimeWarning: invalid value encountered in greater\n",
      "  good_match_threshold*np.ones(similarity_of_shape.shape)\n"
     ]
    },
    {
     "name": "stdout",
     "output_type": "stream",
     "text": [
      "   3.0 : Done with 860, in 407.741 seconds. Error rate 0.000\n"
     ]
    },
    {
     "name": "stderr",
     "output_type": "stream",
     "text": [
      "/srv/jaybie/archive/spatial-privacy-master/nn_matchers.py:773: FutureWarning: in the future insert will treat boolean arrays and array-likes as a boolean index instead of casting it to integer\n",
      "  good_matches_kp_idx = np.insert(good_matches[good_matches_ref_kp],True,good_matches_ref_kp)\n",
      "/srv/jaybie/archive/spatial-privacy-master/nn_matchers.py:761: RuntimeWarning: invalid value encountered in greater\n",
      "  good_match_threshold*np.ones(similarity_of_shape.shape)\n",
      "/srv/jaybie/archive/spatial-privacy-master/nn_matchers.py:768: RuntimeWarning: invalid value encountered in greater\n",
      "  good_match_threshold*np.ones(similarity_of_shape.shape)\n"
     ]
    },
    {
     "name": "stdout",
     "output_type": "stream",
     "text": [
      "   3.0 : Done with 926, in 410.537 seconds. Error rate 0.000\n"
     ]
    },
    {
     "name": "stderr",
     "output_type": "stream",
     "text": [
      "/srv/jaybie/archive/spatial-privacy-master/nn_matchers.py:773: FutureWarning: in the future insert will treat boolean arrays and array-likes as a boolean index instead of casting it to integer\n",
      "  good_matches_kp_idx = np.insert(good_matches[good_matches_ref_kp],True,good_matches_ref_kp)\n",
      "/srv/jaybie/archive/spatial-privacy-master/nn_matchers.py:761: RuntimeWarning: invalid value encountered in greater\n",
      "  good_match_threshold*np.ones(similarity_of_shape.shape)\n",
      "/srv/jaybie/archive/spatial-privacy-master/nn_matchers.py:768: RuntimeWarning: invalid value encountered in greater\n",
      "  good_match_threshold*np.ones(similarity_of_shape.shape)\n"
     ]
    },
    {
     "name": "stdout",
     "output_type": "stream",
     "text": [
      "   3.0 : Done with 992, in 406.125 seconds. Error rate 0.000\n",
      "3.0  Total Time to match 6458.775 seconds.\n",
      "radius = 3.5\n"
     ]
    },
    {
     "name": "stderr",
     "output_type": "stream",
     "text": [
      "/srv/jaybie/archive/spatial-privacy-master/nn_matchers.py:773: FutureWarning: in the future insert will treat boolean arrays and array-likes as a boolean index instead of casting it to integer\n",
      "  good_matches_kp_idx = np.insert(good_matches[good_matches_ref_kp],True,good_matches_ref_kp)\n"
     ]
    },
    {
     "name": "stdout",
     "output_type": "stream",
     "text": [
      "   3.5 : Done with 2, in 8.801 seconds. Error rate 0.000\n"
     ]
    },
    {
     "name": "stderr",
     "output_type": "stream",
     "text": [
      "/srv/jaybie/archive/spatial-privacy-master/nn_matchers.py:773: FutureWarning: in the future insert will treat boolean arrays and array-likes as a boolean index instead of casting it to integer\n",
      "  good_matches_kp_idx = np.insert(good_matches[good_matches_ref_kp],True,good_matches_ref_kp)\n"
     ]
    },
    {
     "name": "stdout",
     "output_type": "stream",
     "text": [
      "   3.5 : Done with 68, in 480.259 seconds. Error rate 0.000\n"
     ]
    },
    {
     "name": "stderr",
     "output_type": "stream",
     "text": [
      "/srv/jaybie/archive/spatial-privacy-master/nn_matchers.py:773: FutureWarning: in the future insert will treat boolean arrays and array-likes as a boolean index instead of casting it to integer\n",
      "  good_matches_kp_idx = np.insert(good_matches[good_matches_ref_kp],True,good_matches_ref_kp)\n"
     ]
    },
    {
     "name": "stdout",
     "output_type": "stream",
     "text": [
      "   3.5 : Done with 134, in 448.588 seconds. Error rate 0.000\n"
     ]
    },
    {
     "name": "stderr",
     "output_type": "stream",
     "text": [
      "/srv/jaybie/archive/spatial-privacy-master/nn_matchers.py:773: FutureWarning: in the future insert will treat boolean arrays and array-likes as a boolean index instead of casting it to integer\n",
      "  good_matches_kp_idx = np.insert(good_matches[good_matches_ref_kp],True,good_matches_ref_kp)\n"
     ]
    },
    {
     "name": "stdout",
     "output_type": "stream",
     "text": [
      "   3.5 : Done with 200, in 452.614 seconds. Error rate 0.000\n"
     ]
    },
    {
     "name": "stderr",
     "output_type": "stream",
     "text": [
      "/srv/jaybie/archive/spatial-privacy-master/nn_matchers.py:773: FutureWarning: in the future insert will treat boolean arrays and array-likes as a boolean index instead of casting it to integer\n",
      "  good_matches_kp_idx = np.insert(good_matches[good_matches_ref_kp],True,good_matches_ref_kp)\n"
     ]
    },
    {
     "name": "stdout",
     "output_type": "stream",
     "text": [
      "   3.5 : Done with 266, in 471.946 seconds. Error rate 0.000\n"
     ]
    },
    {
     "name": "stderr",
     "output_type": "stream",
     "text": [
      "/srv/jaybie/archive/spatial-privacy-master/nn_matchers.py:773: FutureWarning: in the future insert will treat boolean arrays and array-likes as a boolean index instead of casting it to integer\n",
      "  good_matches_kp_idx = np.insert(good_matches[good_matches_ref_kp],True,good_matches_ref_kp)\n"
     ]
    },
    {
     "name": "stdout",
     "output_type": "stream",
     "text": [
      "   3.5 : Done with 332, in 498.153 seconds. Error rate 0.000\n"
     ]
    },
    {
     "name": "stderr",
     "output_type": "stream",
     "text": [
      "/srv/jaybie/archive/spatial-privacy-master/nn_matchers.py:773: FutureWarning: in the future insert will treat boolean arrays and array-likes as a boolean index instead of casting it to integer\n",
      "  good_matches_kp_idx = np.insert(good_matches[good_matches_ref_kp],True,good_matches_ref_kp)\n"
     ]
    },
    {
     "name": "stdout",
     "output_type": "stream",
     "text": [
      "   3.5 : Done with 398, in 534.307 seconds. Error rate 0.000\n"
     ]
    },
    {
     "name": "stderr",
     "output_type": "stream",
     "text": [
      "/srv/jaybie/archive/spatial-privacy-master/nn_matchers.py:773: FutureWarning: in the future insert will treat boolean arrays and array-likes as a boolean index instead of casting it to integer\n",
      "  good_matches_kp_idx = np.insert(good_matches[good_matches_ref_kp],True,good_matches_ref_kp)\n"
     ]
    },
    {
     "name": "stdout",
     "output_type": "stream",
     "text": [
      "   3.5 : Done with 464, in 489.489 seconds. Error rate 0.000\n"
     ]
    },
    {
     "name": "stderr",
     "output_type": "stream",
     "text": [
      "/srv/jaybie/archive/spatial-privacy-master/nn_matchers.py:773: FutureWarning: in the future insert will treat boolean arrays and array-likes as a boolean index instead of casting it to integer\n",
      "  good_matches_kp_idx = np.insert(good_matches[good_matches_ref_kp],True,good_matches_ref_kp)\n"
     ]
    },
    {
     "name": "stdout",
     "output_type": "stream",
     "text": [
      "   3.5 : Done with 530, in 542.447 seconds. Error rate 0.000\n"
     ]
    },
    {
     "name": "stderr",
     "output_type": "stream",
     "text": [
      "/srv/jaybie/archive/spatial-privacy-master/nn_matchers.py:773: FutureWarning: in the future insert will treat boolean arrays and array-likes as a boolean index instead of casting it to integer\n",
      "  good_matches_kp_idx = np.insert(good_matches[good_matches_ref_kp],True,good_matches_ref_kp)\n"
     ]
    },
    {
     "name": "stdout",
     "output_type": "stream",
     "text": [
      "   3.5 : Done with 596, in 529.709 seconds. Error rate 0.000\n"
     ]
    },
    {
     "name": "stderr",
     "output_type": "stream",
     "text": [
      "/srv/jaybie/archive/spatial-privacy-master/nn_matchers.py:773: FutureWarning: in the future insert will treat boolean arrays and array-likes as a boolean index instead of casting it to integer\n",
      "  good_matches_kp_idx = np.insert(good_matches[good_matches_ref_kp],True,good_matches_ref_kp)\n"
     ]
    },
    {
     "name": "stdout",
     "output_type": "stream",
     "text": [
      "   3.5 : Done with 662, in 547.943 seconds. Error rate 0.000\n"
     ]
    },
    {
     "name": "stderr",
     "output_type": "stream",
     "text": [
      "/srv/jaybie/archive/spatial-privacy-master/nn_matchers.py:773: FutureWarning: in the future insert will treat boolean arrays and array-likes as a boolean index instead of casting it to integer\n",
      "  good_matches_kp_idx = np.insert(good_matches[good_matches_ref_kp],True,good_matches_ref_kp)\n"
     ]
    },
    {
     "name": "stdout",
     "output_type": "stream",
     "text": [
      "   3.5 : Done with 728, in 494.450 seconds. Error rate 0.000\n"
     ]
    },
    {
     "name": "stderr",
     "output_type": "stream",
     "text": [
      "/srv/jaybie/archive/spatial-privacy-master/nn_matchers.py:773: FutureWarning: in the future insert will treat boolean arrays and array-likes as a boolean index instead of casting it to integer\n",
      "  good_matches_kp_idx = np.insert(good_matches[good_matches_ref_kp],True,good_matches_ref_kp)\n",
      "/srv/jaybie/archive/spatial-privacy-master/nn_matchers.py:761: RuntimeWarning: invalid value encountered in greater\n",
      "  good_match_threshold*np.ones(similarity_of_shape.shape)\n",
      "/srv/jaybie/archive/spatial-privacy-master/nn_matchers.py:768: RuntimeWarning: invalid value encountered in greater\n",
      "  good_match_threshold*np.ones(similarity_of_shape.shape)\n"
     ]
    },
    {
     "name": "stdout",
     "output_type": "stream",
     "text": [
      "   3.5 : Done with 794, in 565.605 seconds. Error rate 0.000\n"
     ]
    },
    {
     "name": "stderr",
     "output_type": "stream",
     "text": [
      "/srv/jaybie/archive/spatial-privacy-master/nn_matchers.py:773: FutureWarning: in the future insert will treat boolean arrays and array-likes as a boolean index instead of casting it to integer\n",
      "  good_matches_kp_idx = np.insert(good_matches[good_matches_ref_kp],True,good_matches_ref_kp)\n",
      "/srv/jaybie/archive/spatial-privacy-master/nn_matchers.py:761: RuntimeWarning: invalid value encountered in greater\n",
      "  good_match_threshold*np.ones(similarity_of_shape.shape)\n",
      "/srv/jaybie/archive/spatial-privacy-master/nn_matchers.py:768: RuntimeWarning: invalid value encountered in greater\n",
      "  good_match_threshold*np.ones(similarity_of_shape.shape)\n"
     ]
    },
    {
     "name": "stdout",
     "output_type": "stream",
     "text": [
      "   3.5 : Done with 860, in 544.339 seconds. Error rate 0.000\n"
     ]
    },
    {
     "name": "stderr",
     "output_type": "stream",
     "text": [
      "/srv/jaybie/archive/spatial-privacy-master/nn_matchers.py:773: FutureWarning: in the future insert will treat boolean arrays and array-likes as a boolean index instead of casting it to integer\n",
      "  good_matches_kp_idx = np.insert(good_matches[good_matches_ref_kp],True,good_matches_ref_kp)\n",
      "/srv/jaybie/archive/spatial-privacy-master/nn_matchers.py:761: RuntimeWarning: invalid value encountered in greater\n",
      "  good_match_threshold*np.ones(similarity_of_shape.shape)\n",
      "/srv/jaybie/archive/spatial-privacy-master/nn_matchers.py:768: RuntimeWarning: invalid value encountered in greater\n",
      "  good_match_threshold*np.ones(similarity_of_shape.shape)\n"
     ]
    },
    {
     "name": "stdout",
     "output_type": "stream",
     "text": [
      "   3.5 : Done with 926, in 555.509 seconds. Error rate 0.000\n"
     ]
    },
    {
     "name": "stderr",
     "output_type": "stream",
     "text": [
      "/srv/jaybie/archive/spatial-privacy-master/nn_matchers.py:773: FutureWarning: in the future insert will treat boolean arrays and array-likes as a boolean index instead of casting it to integer\n",
      "  good_matches_kp_idx = np.insert(good_matches[good_matches_ref_kp],True,good_matches_ref_kp)\n",
      "/srv/jaybie/archive/spatial-privacy-master/nn_matchers.py:761: RuntimeWarning: invalid value encountered in greater\n",
      "  good_match_threshold*np.ones(similarity_of_shape.shape)\n",
      "/srv/jaybie/archive/spatial-privacy-master/nn_matchers.py:768: RuntimeWarning: invalid value encountered in greater\n",
      "  good_match_threshold*np.ones(similarity_of_shape.shape)\n"
     ]
    },
    {
     "name": "stdout",
     "output_type": "stream",
     "text": [
      "   3.5 : Done with 992, in 552.764 seconds. Error rate 0.000\n",
      "3.5  Total Time to match 8586.161 seconds.\n",
      "radius = 4.0\n"
     ]
    },
    {
     "name": "stderr",
     "output_type": "stream",
     "text": [
      "/srv/jaybie/archive/spatial-privacy-master/nn_matchers.py:773: FutureWarning: in the future insert will treat boolean arrays and array-likes as a boolean index instead of casting it to integer\n",
      "  good_matches_kp_idx = np.insert(good_matches[good_matches_ref_kp],True,good_matches_ref_kp)\n"
     ]
    },
    {
     "name": "stdout",
     "output_type": "stream",
     "text": [
      "   4.0 : Done with 2, in 10.436 seconds. Error rate 0.000\n"
     ]
    },
    {
     "name": "stderr",
     "output_type": "stream",
     "text": [
      "/srv/jaybie/archive/spatial-privacy-master/nn_matchers.py:773: FutureWarning: in the future insert will treat boolean arrays and array-likes as a boolean index instead of casting it to integer\n",
      "  good_matches_kp_idx = np.insert(good_matches[good_matches_ref_kp],True,good_matches_ref_kp)\n"
     ]
    },
    {
     "name": "stdout",
     "output_type": "stream",
     "text": [
      "   4.0 : Done with 68, in 596.917 seconds. Error rate 0.000\n"
     ]
    },
    {
     "name": "stderr",
     "output_type": "stream",
     "text": [
      "/srv/jaybie/archive/spatial-privacy-master/nn_matchers.py:773: FutureWarning: in the future insert will treat boolean arrays and array-likes as a boolean index instead of casting it to integer\n",
      "  good_matches_kp_idx = np.insert(good_matches[good_matches_ref_kp],True,good_matches_ref_kp)\n"
     ]
    },
    {
     "name": "stdout",
     "output_type": "stream",
     "text": [
      "   4.0 : Done with 134, in 563.348 seconds. Error rate 0.000\n"
     ]
    },
    {
     "name": "stderr",
     "output_type": "stream",
     "text": [
      "/srv/jaybie/archive/spatial-privacy-master/nn_matchers.py:773: FutureWarning: in the future insert will treat boolean arrays and array-likes as a boolean index instead of casting it to integer\n",
      "  good_matches_kp_idx = np.insert(good_matches[good_matches_ref_kp],True,good_matches_ref_kp)\n"
     ]
    },
    {
     "name": "stdout",
     "output_type": "stream",
     "text": [
      "   4.0 : Done with 200, in 538.667 seconds. Error rate 0.000\n"
     ]
    },
    {
     "name": "stderr",
     "output_type": "stream",
     "text": [
      "/srv/jaybie/archive/spatial-privacy-master/nn_matchers.py:773: FutureWarning: in the future insert will treat boolean arrays and array-likes as a boolean index instead of casting it to integer\n",
      "  good_matches_kp_idx = np.insert(good_matches[good_matches_ref_kp],True,good_matches_ref_kp)\n"
     ]
    },
    {
     "name": "stdout",
     "output_type": "stream",
     "text": [
      "   4.0 : Done with 266, in 564.776 seconds. Error rate 0.000\n"
     ]
    },
    {
     "name": "stderr",
     "output_type": "stream",
     "text": [
      "/srv/jaybie/archive/spatial-privacy-master/nn_matchers.py:773: FutureWarning: in the future insert will treat boolean arrays and array-likes as a boolean index instead of casting it to integer\n",
      "  good_matches_kp_idx = np.insert(good_matches[good_matches_ref_kp],True,good_matches_ref_kp)\n"
     ]
    },
    {
     "name": "stdout",
     "output_type": "stream",
     "text": [
      "   4.0 : Done with 332, in 621.270 seconds. Error rate 0.000\n"
     ]
    },
    {
     "name": "stderr",
     "output_type": "stream",
     "text": [
      "/srv/jaybie/archive/spatial-privacy-master/nn_matchers.py:773: FutureWarning: in the future insert will treat boolean arrays and array-likes as a boolean index instead of casting it to integer\n",
      "  good_matches_kp_idx = np.insert(good_matches[good_matches_ref_kp],True,good_matches_ref_kp)\n"
     ]
    },
    {
     "name": "stdout",
     "output_type": "stream",
     "text": [
      "   4.0 : Done with 398, in 651.038 seconds. Error rate 0.000\n"
     ]
    },
    {
     "name": "stderr",
     "output_type": "stream",
     "text": [
      "/srv/jaybie/archive/spatial-privacy-master/nn_matchers.py:773: FutureWarning: in the future insert will treat boolean arrays and array-likes as a boolean index instead of casting it to integer\n",
      "  good_matches_kp_idx = np.insert(good_matches[good_matches_ref_kp],True,good_matches_ref_kp)\n"
     ]
    },
    {
     "name": "stdout",
     "output_type": "stream",
     "text": [
      "   4.0 : Done with 464, in 625.523 seconds. Error rate 0.000\n"
     ]
    },
    {
     "name": "stderr",
     "output_type": "stream",
     "text": [
      "/srv/jaybie/archive/spatial-privacy-master/nn_matchers.py:773: FutureWarning: in the future insert will treat boolean arrays and array-likes as a boolean index instead of casting it to integer\n",
      "  good_matches_kp_idx = np.insert(good_matches[good_matches_ref_kp],True,good_matches_ref_kp)\n"
     ]
    },
    {
     "name": "stdout",
     "output_type": "stream",
     "text": [
      "   4.0 : Done with 530, in 666.942 seconds. Error rate 0.000\n"
     ]
    },
    {
     "name": "stderr",
     "output_type": "stream",
     "text": [
      "/srv/jaybie/archive/spatial-privacy-master/nn_matchers.py:773: FutureWarning: in the future insert will treat boolean arrays and array-likes as a boolean index instead of casting it to integer\n",
      "  good_matches_kp_idx = np.insert(good_matches[good_matches_ref_kp],True,good_matches_ref_kp)\n"
     ]
    },
    {
     "name": "stdout",
     "output_type": "stream",
     "text": [
      "   4.0 : Done with 596, in 609.834 seconds. Error rate 0.000\n"
     ]
    },
    {
     "name": "stderr",
     "output_type": "stream",
     "text": [
      "/srv/jaybie/archive/spatial-privacy-master/nn_matchers.py:773: FutureWarning: in the future insert will treat boolean arrays and array-likes as a boolean index instead of casting it to integer\n",
      "  good_matches_kp_idx = np.insert(good_matches[good_matches_ref_kp],True,good_matches_ref_kp)\n"
     ]
    },
    {
     "name": "stdout",
     "output_type": "stream",
     "text": [
      "   4.0 : Done with 662, in 670.708 seconds. Error rate 0.000\n"
     ]
    },
    {
     "name": "stderr",
     "output_type": "stream",
     "text": [
      "/srv/jaybie/archive/spatial-privacy-master/nn_matchers.py:773: FutureWarning: in the future insert will treat boolean arrays and array-likes as a boolean index instead of casting it to integer\n",
      "  good_matches_kp_idx = np.insert(good_matches[good_matches_ref_kp],True,good_matches_ref_kp)\n"
     ]
    },
    {
     "name": "stdout",
     "output_type": "stream",
     "text": [
      "   4.0 : Done with 728, in 606.506 seconds. Error rate 0.000\n"
     ]
    },
    {
     "name": "stderr",
     "output_type": "stream",
     "text": [
      "/srv/jaybie/archive/spatial-privacy-master/nn_matchers.py:773: FutureWarning: in the future insert will treat boolean arrays and array-likes as a boolean index instead of casting it to integer\n",
      "  good_matches_kp_idx = np.insert(good_matches[good_matches_ref_kp],True,good_matches_ref_kp)\n",
      "/srv/jaybie/archive/spatial-privacy-master/nn_matchers.py:761: RuntimeWarning: invalid value encountered in greater\n",
      "  good_match_threshold*np.ones(similarity_of_shape.shape)\n",
      "/srv/jaybie/archive/spatial-privacy-master/nn_matchers.py:768: RuntimeWarning: invalid value encountered in greater\n",
      "  good_match_threshold*np.ones(similarity_of_shape.shape)\n"
     ]
    },
    {
     "name": "stdout",
     "output_type": "stream",
     "text": [
      "   4.0 : Done with 794, in 709.111 seconds. Error rate 0.000\n"
     ]
    },
    {
     "name": "stderr",
     "output_type": "stream",
     "text": [
      "/srv/jaybie/archive/spatial-privacy-master/nn_matchers.py:773: FutureWarning: in the future insert will treat boolean arrays and array-likes as a boolean index instead of casting it to integer\n",
      "  good_matches_kp_idx = np.insert(good_matches[good_matches_ref_kp],True,good_matches_ref_kp)\n",
      "/srv/jaybie/archive/spatial-privacy-master/nn_matchers.py:761: RuntimeWarning: invalid value encountered in greater\n",
      "  good_match_threshold*np.ones(similarity_of_shape.shape)\n",
      "/srv/jaybie/archive/spatial-privacy-master/nn_matchers.py:768: RuntimeWarning: invalid value encountered in greater\n",
      "  good_match_threshold*np.ones(similarity_of_shape.shape)\n"
     ]
    },
    {
     "name": "stdout",
     "output_type": "stream",
     "text": [
      "   4.0 : Done with 860, in 662.883 seconds. Error rate 0.000\n"
     ]
    },
    {
     "name": "stderr",
     "output_type": "stream",
     "text": [
      "/srv/jaybie/archive/spatial-privacy-master/nn_matchers.py:773: FutureWarning: in the future insert will treat boolean arrays and array-likes as a boolean index instead of casting it to integer\n",
      "  good_matches_kp_idx = np.insert(good_matches[good_matches_ref_kp],True,good_matches_ref_kp)\n",
      "/srv/jaybie/archive/spatial-privacy-master/nn_matchers.py:761: RuntimeWarning: invalid value encountered in greater\n",
      "  good_match_threshold*np.ones(similarity_of_shape.shape)\n",
      "/srv/jaybie/archive/spatial-privacy-master/nn_matchers.py:768: RuntimeWarning: invalid value encountered in greater\n",
      "  good_match_threshold*np.ones(similarity_of_shape.shape)\n"
     ]
    },
    {
     "name": "stdout",
     "output_type": "stream",
     "text": [
      "   4.0 : Done with 926, in 682.519 seconds. Error rate 0.000\n"
     ]
    },
    {
     "name": "stderr",
     "output_type": "stream",
     "text": [
      "/srv/jaybie/archive/spatial-privacy-master/nn_matchers.py:773: FutureWarning: in the future insert will treat boolean arrays and array-likes as a boolean index instead of casting it to integer\n",
      "  good_matches_kp_idx = np.insert(good_matches[good_matches_ref_kp],True,good_matches_ref_kp)\n",
      "/srv/jaybie/archive/spatial-privacy-master/nn_matchers.py:761: RuntimeWarning: invalid value encountered in greater\n",
      "  good_match_threshold*np.ones(similarity_of_shape.shape)\n",
      "/srv/jaybie/archive/spatial-privacy-master/nn_matchers.py:768: RuntimeWarning: invalid value encountered in greater\n",
      "  good_match_threshold*np.ones(similarity_of_shape.shape)\n"
     ]
    },
    {
     "name": "stdout",
     "output_type": "stream",
     "text": [
      "   4.0 : Done with 992, in 705.766 seconds. Error rate 0.000\n",
      "4.0  Total Time to match 10504.076 seconds.\n",
      "radius = 4.5\n"
     ]
    },
    {
     "name": "stderr",
     "output_type": "stream",
     "text": [
      "/srv/jaybie/archive/spatial-privacy-master/nn_matchers.py:773: FutureWarning: in the future insert will treat boolean arrays and array-likes as a boolean index instead of casting it to integer\n",
      "  good_matches_kp_idx = np.insert(good_matches[good_matches_ref_kp],True,good_matches_ref_kp)\n"
     ]
    },
    {
     "name": "stdout",
     "output_type": "stream",
     "text": [
      "   4.5 : Done with 2, in 12.024 seconds. Error rate 0.000\n"
     ]
    },
    {
     "name": "stderr",
     "output_type": "stream",
     "text": [
      "/srv/jaybie/archive/spatial-privacy-master/nn_matchers.py:773: FutureWarning: in the future insert will treat boolean arrays and array-likes as a boolean index instead of casting it to integer\n",
      "  good_matches_kp_idx = np.insert(good_matches[good_matches_ref_kp],True,good_matches_ref_kp)\n"
     ]
    },
    {
     "name": "stdout",
     "output_type": "stream",
     "text": [
      "   4.5 : Done with 68, in 681.661 seconds. Error rate 0.000\n"
     ]
    },
    {
     "name": "stderr",
     "output_type": "stream",
     "text": [
      "/srv/jaybie/archive/spatial-privacy-master/nn_matchers.py:773: FutureWarning: in the future insert will treat boolean arrays and array-likes as a boolean index instead of casting it to integer\n",
      "  good_matches_kp_idx = np.insert(good_matches[good_matches_ref_kp],True,good_matches_ref_kp)\n"
     ]
    },
    {
     "name": "stdout",
     "output_type": "stream",
     "text": [
      "   4.5 : Done with 134, in 658.098 seconds. Error rate 0.000\n"
     ]
    },
    {
     "name": "stderr",
     "output_type": "stream",
     "text": [
      "/srv/jaybie/archive/spatial-privacy-master/nn_matchers.py:773: FutureWarning: in the future insert will treat boolean arrays and array-likes as a boolean index instead of casting it to integer\n",
      "  good_matches_kp_idx = np.insert(good_matches[good_matches_ref_kp],True,good_matches_ref_kp)\n"
     ]
    },
    {
     "name": "stdout",
     "output_type": "stream",
     "text": [
      "   4.5 : Done with 200, in 616.810 seconds. Error rate 0.000\n"
     ]
    },
    {
     "name": "stderr",
     "output_type": "stream",
     "text": [
      "/srv/jaybie/archive/spatial-privacy-master/nn_matchers.py:773: FutureWarning: in the future insert will treat boolean arrays and array-likes as a boolean index instead of casting it to integer\n",
      "  good_matches_kp_idx = np.insert(good_matches[good_matches_ref_kp],True,good_matches_ref_kp)\n"
     ]
    },
    {
     "name": "stdout",
     "output_type": "stream",
     "text": [
      "   4.5 : Done with 266, in 662.727 seconds. Error rate 0.000\n"
     ]
    },
    {
     "name": "stderr",
     "output_type": "stream",
     "text": [
      "/srv/jaybie/archive/spatial-privacy-master/nn_matchers.py:773: FutureWarning: in the future insert will treat boolean arrays and array-likes as a boolean index instead of casting it to integer\n",
      "  good_matches_kp_idx = np.insert(good_matches[good_matches_ref_kp],True,good_matches_ref_kp)\n"
     ]
    },
    {
     "name": "stdout",
     "output_type": "stream",
     "text": [
      "   4.5 : Done with 332, in 726.302 seconds. Error rate 0.000\n"
     ]
    },
    {
     "name": "stderr",
     "output_type": "stream",
     "text": [
      "/srv/jaybie/archive/spatial-privacy-master/nn_matchers.py:773: FutureWarning: in the future insert will treat boolean arrays and array-likes as a boolean index instead of casting it to integer\n",
      "  good_matches_kp_idx = np.insert(good_matches[good_matches_ref_kp],True,good_matches_ref_kp)\n"
     ]
    },
    {
     "name": "stdout",
     "output_type": "stream",
     "text": [
      "   4.5 : Done with 398, in 753.924 seconds. Error rate 0.000\n"
     ]
    },
    {
     "name": "stderr",
     "output_type": "stream",
     "text": [
      "/srv/jaybie/archive/spatial-privacy-master/nn_matchers.py:773: FutureWarning: in the future insert will treat boolean arrays and array-likes as a boolean index instead of casting it to integer\n",
      "  good_matches_kp_idx = np.insert(good_matches[good_matches_ref_kp],True,good_matches_ref_kp)\n"
     ]
    },
    {
     "name": "stdout",
     "output_type": "stream",
     "text": [
      "   4.5 : Done with 464, in 734.943 seconds. Error rate 0.000\n"
     ]
    },
    {
     "name": "stderr",
     "output_type": "stream",
     "text": [
      "/srv/jaybie/archive/spatial-privacy-master/nn_matchers.py:773: FutureWarning: in the future insert will treat boolean arrays and array-likes as a boolean index instead of casting it to integer\n",
      "  good_matches_kp_idx = np.insert(good_matches[good_matches_ref_kp],True,good_matches_ref_kp)\n"
     ]
    },
    {
     "name": "stdout",
     "output_type": "stream",
     "text": [
      "   4.5 : Done with 530, in 764.048 seconds. Error rate 0.000\n"
     ]
    },
    {
     "name": "stderr",
     "output_type": "stream",
     "text": [
      "/srv/jaybie/archive/spatial-privacy-master/nn_matchers.py:773: FutureWarning: in the future insert will treat boolean arrays and array-likes as a boolean index instead of casting it to integer\n",
      "  good_matches_kp_idx = np.insert(good_matches[good_matches_ref_kp],True,good_matches_ref_kp)\n"
     ]
    },
    {
     "name": "stdout",
     "output_type": "stream",
     "text": [
      "   4.5 : Done with 596, in 720.702 seconds. Error rate 0.000\n"
     ]
    },
    {
     "name": "stderr",
     "output_type": "stream",
     "text": [
      "/srv/jaybie/archive/spatial-privacy-master/nn_matchers.py:773: FutureWarning: in the future insert will treat boolean arrays and array-likes as a boolean index instead of casting it to integer\n",
      "  good_matches_kp_idx = np.insert(good_matches[good_matches_ref_kp],True,good_matches_ref_kp)\n"
     ]
    },
    {
     "name": "stdout",
     "output_type": "stream",
     "text": [
      "   4.5 : Done with 662, in 771.975 seconds. Error rate 0.000\n"
     ]
    },
    {
     "name": "stderr",
     "output_type": "stream",
     "text": [
      "/srv/jaybie/archive/spatial-privacy-master/nn_matchers.py:773: FutureWarning: in the future insert will treat boolean arrays and array-likes as a boolean index instead of casting it to integer\n",
      "  good_matches_kp_idx = np.insert(good_matches[good_matches_ref_kp],True,good_matches_ref_kp)\n"
     ]
    },
    {
     "name": "stdout",
     "output_type": "stream",
     "text": [
      "   4.5 : Done with 728, in 692.043 seconds. Error rate 0.000\n"
     ]
    },
    {
     "name": "stderr",
     "output_type": "stream",
     "text": [
      "/srv/jaybie/archive/spatial-privacy-master/nn_matchers.py:773: FutureWarning: in the future insert will treat boolean arrays and array-likes as a boolean index instead of casting it to integer\n",
      "  good_matches_kp_idx = np.insert(good_matches[good_matches_ref_kp],True,good_matches_ref_kp)\n",
      "/srv/jaybie/archive/spatial-privacy-master/nn_matchers.py:761: RuntimeWarning: invalid value encountered in greater\n",
      "  good_match_threshold*np.ones(similarity_of_shape.shape)\n"
     ]
    },
    {
     "name": "stdout",
     "output_type": "stream",
     "text": [
      "   4.5 : Done with 794, in 794.979 seconds. Error rate 0.000\n"
     ]
    },
    {
     "name": "stderr",
     "output_type": "stream",
     "text": [
      "/srv/jaybie/archive/spatial-privacy-master/nn_matchers.py:773: FutureWarning: in the future insert will treat boolean arrays and array-likes as a boolean index instead of casting it to integer\n",
      "  good_matches_kp_idx = np.insert(good_matches[good_matches_ref_kp],True,good_matches_ref_kp)\n",
      "/srv/jaybie/archive/spatial-privacy-master/nn_matchers.py:761: RuntimeWarning: invalid value encountered in greater\n",
      "  good_match_threshold*np.ones(similarity_of_shape.shape)\n",
      "/srv/jaybie/archive/spatial-privacy-master/nn_matchers.py:768: RuntimeWarning: invalid value encountered in greater\n",
      "  good_match_threshold*np.ones(similarity_of_shape.shape)\n"
     ]
    },
    {
     "name": "stdout",
     "output_type": "stream",
     "text": [
      "   4.5 : Done with 860, in 773.825 seconds. Error rate 0.000\n"
     ]
    },
    {
     "name": "stderr",
     "output_type": "stream",
     "text": [
      "/srv/jaybie/archive/spatial-privacy-master/nn_matchers.py:773: FutureWarning: in the future insert will treat boolean arrays and array-likes as a boolean index instead of casting it to integer\n",
      "  good_matches_kp_idx = np.insert(good_matches[good_matches_ref_kp],True,good_matches_ref_kp)\n",
      "/srv/jaybie/archive/spatial-privacy-master/nn_matchers.py:761: RuntimeWarning: invalid value encountered in greater\n",
      "  good_match_threshold*np.ones(similarity_of_shape.shape)\n",
      "/srv/jaybie/archive/spatial-privacy-master/nn_matchers.py:768: RuntimeWarning: invalid value encountered in greater\n",
      "  good_match_threshold*np.ones(similarity_of_shape.shape)\n"
     ]
    },
    {
     "name": "stdout",
     "output_type": "stream",
     "text": [
      "   4.5 : Done with 926, in 809.297 seconds. Error rate 0.000\n"
     ]
    },
    {
     "name": "stderr",
     "output_type": "stream",
     "text": [
      "/srv/jaybie/archive/spatial-privacy-master/nn_matchers.py:773: FutureWarning: in the future insert will treat boolean arrays and array-likes as a boolean index instead of casting it to integer\n",
      "  good_matches_kp_idx = np.insert(good_matches[good_matches_ref_kp],True,good_matches_ref_kp)\n",
      "/srv/jaybie/archive/spatial-privacy-master/nn_matchers.py:761: RuntimeWarning: invalid value encountered in greater\n",
      "  good_match_threshold*np.ones(similarity_of_shape.shape)\n",
      "/srv/jaybie/archive/spatial-privacy-master/nn_matchers.py:768: RuntimeWarning: invalid value encountered in greater\n",
      "  good_match_threshold*np.ones(similarity_of_shape.shape)\n"
     ]
    },
    {
     "name": "stdout",
     "output_type": "stream",
     "text": [
      "   4.5 : Done with 992, in 812.215 seconds. Error rate 0.000\n",
      "4.5  Total Time to match 12122.845 seconds.\n",
      "radius = 5.0\n"
     ]
    },
    {
     "name": "stderr",
     "output_type": "stream",
     "text": [
      "/srv/jaybie/archive/spatial-privacy-master/nn_matchers.py:773: FutureWarning: in the future insert will treat boolean arrays and array-likes as a boolean index instead of casting it to integer\n",
      "  good_matches_kp_idx = np.insert(good_matches[good_matches_ref_kp],True,good_matches_ref_kp)\n"
     ]
    },
    {
     "name": "stdout",
     "output_type": "stream",
     "text": [
      "   5.0 : Done with 2, in 15.290 seconds. Error rate 0.000\n"
     ]
    },
    {
     "name": "stderr",
     "output_type": "stream",
     "text": [
      "/srv/jaybie/archive/spatial-privacy-master/nn_matchers.py:773: FutureWarning: in the future insert will treat boolean arrays and array-likes as a boolean index instead of casting it to integer\n",
      "  good_matches_kp_idx = np.insert(good_matches[good_matches_ref_kp],True,good_matches_ref_kp)\n"
     ]
    },
    {
     "name": "stdout",
     "output_type": "stream",
     "text": [
      "   5.0 : Done with 68, in 728.172 seconds. Error rate 0.000\n"
     ]
    },
    {
     "name": "stderr",
     "output_type": "stream",
     "text": [
      "/srv/jaybie/archive/spatial-privacy-master/nn_matchers.py:773: FutureWarning: in the future insert will treat boolean arrays and array-likes as a boolean index instead of casting it to integer\n",
      "  good_matches_kp_idx = np.insert(good_matches[good_matches_ref_kp],True,good_matches_ref_kp)\n"
     ]
    },
    {
     "name": "stdout",
     "output_type": "stream",
     "text": [
      "   5.0 : Done with 134, in 726.050 seconds. Error rate 0.000\n"
     ]
    },
    {
     "name": "stderr",
     "output_type": "stream",
     "text": [
      "/srv/jaybie/archive/spatial-privacy-master/nn_matchers.py:773: FutureWarning: in the future insert will treat boolean arrays and array-likes as a boolean index instead of casting it to integer\n",
      "  good_matches_kp_idx = np.insert(good_matches[good_matches_ref_kp],True,good_matches_ref_kp)\n"
     ]
    },
    {
     "name": "stdout",
     "output_type": "stream",
     "text": [
      "   5.0 : Done with 200, in 684.447 seconds. Error rate 0.000\n"
     ]
    },
    {
     "name": "stderr",
     "output_type": "stream",
     "text": [
      "/srv/jaybie/archive/spatial-privacy-master/nn_matchers.py:773: FutureWarning: in the future insert will treat boolean arrays and array-likes as a boolean index instead of casting it to integer\n",
      "  good_matches_kp_idx = np.insert(good_matches[good_matches_ref_kp],True,good_matches_ref_kp)\n"
     ]
    },
    {
     "name": "stdout",
     "output_type": "stream",
     "text": [
      "   5.0 : Done with 266, in 726.866 seconds. Error rate 0.000\n"
     ]
    },
    {
     "name": "stderr",
     "output_type": "stream",
     "text": [
      "/srv/jaybie/archive/spatial-privacy-master/nn_matchers.py:773: FutureWarning: in the future insert will treat boolean arrays and array-likes as a boolean index instead of casting it to integer\n",
      "  good_matches_kp_idx = np.insert(good_matches[good_matches_ref_kp],True,good_matches_ref_kp)\n"
     ]
    },
    {
     "name": "stdout",
     "output_type": "stream",
     "text": [
      "   5.0 : Done with 332, in 799.271 seconds. Error rate 0.000\n"
     ]
    },
    {
     "name": "stderr",
     "output_type": "stream",
     "text": [
      "/srv/jaybie/archive/spatial-privacy-master/nn_matchers.py:773: FutureWarning: in the future insert will treat boolean arrays and array-likes as a boolean index instead of casting it to integer\n",
      "  good_matches_kp_idx = np.insert(good_matches[good_matches_ref_kp],True,good_matches_ref_kp)\n"
     ]
    },
    {
     "name": "stdout",
     "output_type": "stream",
     "text": [
      "   5.0 : Done with 398, in 812.421 seconds. Error rate 0.000\n"
     ]
    },
    {
     "name": "stderr",
     "output_type": "stream",
     "text": [
      "/srv/jaybie/archive/spatial-privacy-master/nn_matchers.py:773: FutureWarning: in the future insert will treat boolean arrays and array-likes as a boolean index instead of casting it to integer\n",
      "  good_matches_kp_idx = np.insert(good_matches[good_matches_ref_kp],True,good_matches_ref_kp)\n"
     ]
    },
    {
     "name": "stdout",
     "output_type": "stream",
     "text": [
      "   5.0 : Done with 464, in 805.805 seconds. Error rate 0.000\n"
     ]
    },
    {
     "name": "stderr",
     "output_type": "stream",
     "text": [
      "/srv/jaybie/archive/spatial-privacy-master/nn_matchers.py:773: FutureWarning: in the future insert will treat boolean arrays and array-likes as a boolean index instead of casting it to integer\n",
      "  good_matches_kp_idx = np.insert(good_matches[good_matches_ref_kp],True,good_matches_ref_kp)\n"
     ]
    },
    {
     "name": "stdout",
     "output_type": "stream",
     "text": [
      "   5.0 : Done with 530, in 834.431 seconds. Error rate 0.000\n"
     ]
    },
    {
     "name": "stderr",
     "output_type": "stream",
     "text": [
      "/srv/jaybie/archive/spatial-privacy-master/nn_matchers.py:773: FutureWarning: in the future insert will treat boolean arrays and array-likes as a boolean index instead of casting it to integer\n",
      "  good_matches_kp_idx = np.insert(good_matches[good_matches_ref_kp],True,good_matches_ref_kp)\n"
     ]
    },
    {
     "name": "stdout",
     "output_type": "stream",
     "text": [
      "   5.0 : Done with 596, in 793.032 seconds. Error rate 0.000\n"
     ]
    },
    {
     "name": "stderr",
     "output_type": "stream",
     "text": [
      "/srv/jaybie/archive/spatial-privacy-master/nn_matchers.py:773: FutureWarning: in the future insert will treat boolean arrays and array-likes as a boolean index instead of casting it to integer\n",
      "  good_matches_kp_idx = np.insert(good_matches[good_matches_ref_kp],True,good_matches_ref_kp)\n"
     ]
    },
    {
     "name": "stdout",
     "output_type": "stream",
     "text": [
      "   5.0 : Done with 662, in 824.697 seconds. Error rate 0.000\n"
     ]
    },
    {
     "name": "stderr",
     "output_type": "stream",
     "text": [
      "/srv/jaybie/archive/spatial-privacy-master/nn_matchers.py:773: FutureWarning: in the future insert will treat boolean arrays and array-likes as a boolean index instead of casting it to integer\n",
      "  good_matches_kp_idx = np.insert(good_matches[good_matches_ref_kp],True,good_matches_ref_kp)\n"
     ]
    },
    {
     "name": "stdout",
     "output_type": "stream",
     "text": [
      "   5.0 : Done with 728, in 784.636 seconds. Error rate 0.000\n"
     ]
    },
    {
     "name": "stderr",
     "output_type": "stream",
     "text": [
      "/srv/jaybie/archive/spatial-privacy-master/nn_matchers.py:773: FutureWarning: in the future insert will treat boolean arrays and array-likes as a boolean index instead of casting it to integer\n",
      "  good_matches_kp_idx = np.insert(good_matches[good_matches_ref_kp],True,good_matches_ref_kp)\n",
      "/srv/jaybie/archive/spatial-privacy-master/nn_matchers.py:761: RuntimeWarning: invalid value encountered in greater\n",
      "  good_match_threshold*np.ones(similarity_of_shape.shape)\n"
     ]
    },
    {
     "name": "stdout",
     "output_type": "stream",
     "text": [
      "   5.0 : Done with 794, in 885.495 seconds. Error rate 0.000\n"
     ]
    },
    {
     "name": "stderr",
     "output_type": "stream",
     "text": [
      "/srv/jaybie/archive/spatial-privacy-master/nn_matchers.py:773: FutureWarning: in the future insert will treat boolean arrays and array-likes as a boolean index instead of casting it to integer\n",
      "  good_matches_kp_idx = np.insert(good_matches[good_matches_ref_kp],True,good_matches_ref_kp)\n",
      "/srv/jaybie/archive/spatial-privacy-master/nn_matchers.py:761: RuntimeWarning: invalid value encountered in greater\n",
      "  good_match_threshold*np.ones(similarity_of_shape.shape)\n",
      "/srv/jaybie/archive/spatial-privacy-master/nn_matchers.py:768: RuntimeWarning: invalid value encountered in greater\n",
      "  good_match_threshold*np.ones(similarity_of_shape.shape)\n"
     ]
    },
    {
     "name": "stdout",
     "output_type": "stream",
     "text": [
      "   5.0 : Done with 860, in 866.175 seconds. Error rate 0.000\n"
     ]
    },
    {
     "name": "stderr",
     "output_type": "stream",
     "text": [
      "/srv/jaybie/archive/spatial-privacy-master/nn_matchers.py:773: FutureWarning: in the future insert will treat boolean arrays and array-likes as a boolean index instead of casting it to integer\n",
      "  good_matches_kp_idx = np.insert(good_matches[good_matches_ref_kp],True,good_matches_ref_kp)\n",
      "/srv/jaybie/archive/spatial-privacy-master/nn_matchers.py:761: RuntimeWarning: invalid value encountered in greater\n",
      "  good_match_threshold*np.ones(similarity_of_shape.shape)\n",
      "/srv/jaybie/archive/spatial-privacy-master/nn_matchers.py:768: RuntimeWarning: invalid value encountered in greater\n",
      "  good_match_threshold*np.ones(similarity_of_shape.shape)\n"
     ]
    },
    {
     "name": "stdout",
     "output_type": "stream",
     "text": [
      "   5.0 : Done with 926, in 902.701 seconds. Error rate 0.000\n"
     ]
    },
    {
     "name": "stderr",
     "output_type": "stream",
     "text": [
      "/srv/jaybie/archive/spatial-privacy-master/nn_matchers.py:773: FutureWarning: in the future insert will treat boolean arrays and array-likes as a boolean index instead of casting it to integer\n",
      "  good_matches_kp_idx = np.insert(good_matches[good_matches_ref_kp],True,good_matches_ref_kp)\n",
      "/srv/jaybie/archive/spatial-privacy-master/nn_matchers.py:761: RuntimeWarning: invalid value encountered in greater\n",
      "  good_match_threshold*np.ones(similarity_of_shape.shape)\n",
      "/srv/jaybie/archive/spatial-privacy-master/nn_matchers.py:768: RuntimeWarning: invalid value encountered in greater\n",
      "  good_match_threshold*np.ones(similarity_of_shape.shape)\n"
     ]
    },
    {
     "name": "stdout",
     "output_type": "stream",
     "text": [
      "   5.0 : Done with 992, in 910.115 seconds. Error rate 0.000\n",
      "5.0  Total Time to match 13319.854 seconds.\n"
     ]
    }
   ],
   "source": [
    "descriptors = descriptors\n",
    "\n",
    "for radius in np.arange(0.5,5.1,0.5):\n",
    "    \n",
    "    t0 = time.time()\n",
    "    t1 = time.time()\n",
    "        \n",
    "    partial_scores_pool = []\n",
    "    \n",
    "    print(\"radius =\",radius)\n",
    "    \n",
    "    for obj_, object_name, original_vertex in sample_points:\n",
    "        \n",
    "        t3 = time.time()\n",
    "        \n",
    "        #obj_, object_name, original_vertex = sample_points[s_i]\n",
    "        \n",
    "        pointCloud = []\n",
    "        \n",
    "        try:\n",
    "            object_, pointCloud_, tri_ = new_contiguous_point_collection[int(obj_)]\n",
    "            \n",
    "            ransac_nbrs = NearestNeighbors(n_neighbors=min(20000,len(pointCloud_)), algorithm='kd_tree').fit(pointCloud_[:,:3])\n",
    "            \n",
    "            dist_, ind_ = ransac_nbrs.kneighbors([original_vertex[:3]])\n",
    "            pointCloud =  pointCloud_[ind_[0,np.where(dist_[0,:]<=radius)[0]]]\n",
    "        except:\n",
    "            print(\"Can't get partial samples for\",obj_meta[0])\n",
    "            continue\n",
    "            \n",
    "        #if len(gen_planes) == 0: continue\n",
    "        if len(pointCloud) == 0: continue\n",
    "\n",
    "        local_keypoint_matches = []\n",
    "\n",
    "        try:\n",
    "            obj_meta, diff_ratios, diff_indexs, diff_scores, local_keypoint_matches = get_score_kdtree_lean(\n",
    "                [obj_, object_name, original_vertex], \n",
    "                pointCloud, \n",
    "                descriptors,\n",
    "                desc_new=True,\n",
    "                old = True\n",
    "            )\n",
    "            \n",
    "        except Exception as ex:\n",
    "            print(ex)\n",
    "            print(\"skipped\",object_name)\n",
    "            continue\n",
    "        \n",
    "        if len(local_keypoint_matches) == 0: \n",
    "            print(0,\"skipped\",object_name)\n",
    "            continue\n",
    "\n",
    "        partial_scores_pool.append([\n",
    "            [obj_, object_name, original_vertex], \n",
    "            diff_ratios,\n",
    "            diff_indexs,\n",
    "            diff_scores,\n",
    "            local_keypoint_matches\n",
    "        ])\n",
    "        \n",
    "        t4 = time.time()\n",
    "\n",
    "        if len(partial_scores_pool) % 66 == 2:\n",
    "            \n",
    "            partial_errors_pool = NN_matcher(partial_scores_pool)\n",
    "            print(\"  \",radius,\": Done with {}, in {:.3f} seconds. Error rate {:.3f}\".format(\n",
    "                len(partial_scores_pool),\n",
    "                time.time()-t1,\n",
    "                np.sum(partial_errors_pool[:,1])/len(partial_scores_pool)\n",
    "            ))\n",
    "                 \n",
    "            with bz2.BZ2File(partial_results_path+'/raw_{}_partial_scores.pickle.bz2'.format(radius), 'w') as bz2_f:\n",
    "                pickle.dump(partial_scores_pool, bz2_f)\n",
    "            \n",
    "            t1  = time.time()\n",
    "\n",
    "    print(radius,\" Total Time to match {:.3f} seconds.\".format(time.time()-t0))\n",
    "    \n",
    "    #print(len(partial_lengths))"
   ]
  },
  {
   "cell_type": "markdown",
   "metadata": {},
   "source": [
    "# Step 1.2: RANSAC-generalized HoloLens spaces evaluation"
   ]
  },
  {
   "cell_type": "code",
   "execution_count": 9,
   "metadata": {
    "scrolled": true
   },
   "outputs": [
    {
     "name": "stdout",
     "output_type": "stream",
     "text": [
      "radius = 0.5\n",
      "0.5 Error Rate:\n",
      "   0.5 : Done with 2, in 0.666 seconds. Error rate 1.000\n"
     ]
    },
    {
     "name": "stderr",
     "output_type": "stream",
     "text": [
      "/srv/jaybie/archive/spatial-privacy-master/nn_matchers.py:773: FutureWarning: in the future insert will treat boolean arrays and array-likes as a boolean index instead of casting it to integer\n",
      "  good_matches_kp_idx = np.insert(good_matches[good_matches_ref_kp],True,good_matches_ref_kp)\n"
     ]
    },
    {
     "name": "stdout",
     "output_type": "stream",
     "text": [
      "0.5 Error Rate:\n",
      "   0.5 : Done with 68, in 21.330 seconds. Error rate 0.941\n"
     ]
    },
    {
     "name": "stderr",
     "output_type": "stream",
     "text": [
      "/srv/jaybie/archive/spatial-privacy-master/nn_matchers.py:773: FutureWarning: in the future insert will treat boolean arrays and array-likes as a boolean index instead of casting it to integer\n",
      "  good_matches_kp_idx = np.insert(good_matches[good_matches_ref_kp],True,good_matches_ref_kp)\n",
      "/home/jaybie/.conda/envs/3d_env/lib/python3.7/site-packages/numpy/core/fromnumeric.py:3118: RuntimeWarning: Mean of empty slice.\n",
      "  out=out, **kwargs)\n",
      "/home/jaybie/.conda/envs/3d_env/lib/python3.7/site-packages/numpy/core/_methods.py:78: RuntimeWarning: invalid value encountered in true_divide\n",
      "  ret, rcount, out=ret, casting='unsafe', subok=False)\n"
     ]
    },
    {
     "name": "stdout",
     "output_type": "stream",
     "text": [
      "0.5 Error Rate:\n",
      "   0.5 : Done with 134, in 20.829 seconds. Error rate 0.888\n"
     ]
    },
    {
     "name": "stderr",
     "output_type": "stream",
     "text": [
      "/srv/jaybie/archive/spatial-privacy-master/nn_matchers.py:773: FutureWarning: in the future insert will treat boolean arrays and array-likes as a boolean index instead of casting it to integer\n",
      "  good_matches_kp_idx = np.insert(good_matches[good_matches_ref_kp],True,good_matches_ref_kp)\n",
      "/home/jaybie/.conda/envs/3d_env/lib/python3.7/site-packages/numpy/core/fromnumeric.py:3118: RuntimeWarning: Mean of empty slice.\n",
      "  out=out, **kwargs)\n",
      "/home/jaybie/.conda/envs/3d_env/lib/python3.7/site-packages/numpy/core/_methods.py:78: RuntimeWarning: invalid value encountered in true_divide\n",
      "  ret, rcount, out=ret, casting='unsafe', subok=False)\n"
     ]
    },
    {
     "name": "stdout",
     "output_type": "stream",
     "text": [
      "0.5 Error Rate:\n",
      "   0.5 : Done with 200, in 21.221 seconds. Error rate 0.850\n"
     ]
    },
    {
     "name": "stderr",
     "output_type": "stream",
     "text": [
      "/srv/jaybie/archive/spatial-privacy-master/nn_matchers.py:773: FutureWarning: in the future insert will treat boolean arrays and array-likes as a boolean index instead of casting it to integer\n",
      "  good_matches_kp_idx = np.insert(good_matches[good_matches_ref_kp],True,good_matches_ref_kp)\n",
      "/home/jaybie/.conda/envs/3d_env/lib/python3.7/site-packages/numpy/core/fromnumeric.py:3118: RuntimeWarning: Mean of empty slice.\n",
      "  out=out, **kwargs)\n",
      "/home/jaybie/.conda/envs/3d_env/lib/python3.7/site-packages/numpy/core/_methods.py:78: RuntimeWarning: invalid value encountered in true_divide\n",
      "  ret, rcount, out=ret, casting='unsafe', subok=False)\n"
     ]
    },
    {
     "name": "stdout",
     "output_type": "stream",
     "text": [
      "0.5 Error Rate:\n",
      "   0.5 : Done with 266, in 21.347 seconds. Error rate 0.850\n"
     ]
    },
    {
     "name": "stderr",
     "output_type": "stream",
     "text": [
      "/srv/jaybie/archive/spatial-privacy-master/nn_matchers.py:773: FutureWarning: in the future insert will treat boolean arrays and array-likes as a boolean index instead of casting it to integer\n",
      "  good_matches_kp_idx = np.insert(good_matches[good_matches_ref_kp],True,good_matches_ref_kp)\n",
      "/home/jaybie/.conda/envs/3d_env/lib/python3.7/site-packages/numpy/core/fromnumeric.py:3118: RuntimeWarning: Mean of empty slice.\n",
      "  out=out, **kwargs)\n",
      "/home/jaybie/.conda/envs/3d_env/lib/python3.7/site-packages/numpy/core/_methods.py:78: RuntimeWarning: invalid value encountered in true_divide\n",
      "  ret, rcount, out=ret, casting='unsafe', subok=False)\n"
     ]
    },
    {
     "name": "stdout",
     "output_type": "stream",
     "text": [
      "0.5 Error Rate:\n",
      "   0.5 : Done with 332, in 21.523 seconds. Error rate 0.849\n"
     ]
    },
    {
     "name": "stderr",
     "output_type": "stream",
     "text": [
      "/srv/jaybie/archive/spatial-privacy-master/nn_matchers.py:773: FutureWarning: in the future insert will treat boolean arrays and array-likes as a boolean index instead of casting it to integer\n",
      "  good_matches_kp_idx = np.insert(good_matches[good_matches_ref_kp],True,good_matches_ref_kp)\n",
      "/home/jaybie/.conda/envs/3d_env/lib/python3.7/site-packages/numpy/core/fromnumeric.py:3118: RuntimeWarning: Mean of empty slice.\n",
      "  out=out, **kwargs)\n",
      "/home/jaybie/.conda/envs/3d_env/lib/python3.7/site-packages/numpy/core/_methods.py:78: RuntimeWarning: invalid value encountered in true_divide\n",
      "  ret, rcount, out=ret, casting='unsafe', subok=False)\n"
     ]
    },
    {
     "name": "stdout",
     "output_type": "stream",
     "text": [
      "0.5 Error Rate:\n",
      "   0.5 : Done with 398, in 22.111 seconds. Error rate 0.849\n"
     ]
    },
    {
     "name": "stderr",
     "output_type": "stream",
     "text": [
      "/srv/jaybie/archive/spatial-privacy-master/nn_matchers.py:773: FutureWarning: in the future insert will treat boolean arrays and array-likes as a boolean index instead of casting it to integer\n",
      "  good_matches_kp_idx = np.insert(good_matches[good_matches_ref_kp],True,good_matches_ref_kp)\n",
      "/home/jaybie/.conda/envs/3d_env/lib/python3.7/site-packages/numpy/core/fromnumeric.py:3118: RuntimeWarning: Mean of empty slice.\n",
      "  out=out, **kwargs)\n",
      "/home/jaybie/.conda/envs/3d_env/lib/python3.7/site-packages/numpy/core/_methods.py:78: RuntimeWarning: invalid value encountered in true_divide\n",
      "  ret, rcount, out=ret, casting='unsafe', subok=False)\n"
     ]
    },
    {
     "name": "stdout",
     "output_type": "stream",
     "text": [
      "0.5 Error Rate:\n",
      "   0.5 : Done with 464, in 21.992 seconds. Error rate 0.851\n"
     ]
    },
    {
     "name": "stderr",
     "output_type": "stream",
     "text": [
      "/srv/jaybie/archive/spatial-privacy-master/nn_matchers.py:773: FutureWarning: in the future insert will treat boolean arrays and array-likes as a boolean index instead of casting it to integer\n",
      "  good_matches_kp_idx = np.insert(good_matches[good_matches_ref_kp],True,good_matches_ref_kp)\n",
      "/home/jaybie/.conda/envs/3d_env/lib/python3.7/site-packages/numpy/core/fromnumeric.py:3118: RuntimeWarning: Mean of empty slice.\n",
      "  out=out, **kwargs)\n",
      "/home/jaybie/.conda/envs/3d_env/lib/python3.7/site-packages/numpy/core/_methods.py:78: RuntimeWarning: invalid value encountered in true_divide\n",
      "  ret, rcount, out=ret, casting='unsafe', subok=False)\n"
     ]
    },
    {
     "name": "stdout",
     "output_type": "stream",
     "text": [
      "0.5 Error Rate:\n",
      "   0.5 : Done with 530, in 22.789 seconds. Error rate 0.851\n"
     ]
    },
    {
     "name": "stderr",
     "output_type": "stream",
     "text": [
      "/srv/jaybie/archive/spatial-privacy-master/nn_matchers.py:773: FutureWarning: in the future insert will treat boolean arrays and array-likes as a boolean index instead of casting it to integer\n",
      "  good_matches_kp_idx = np.insert(good_matches[good_matches_ref_kp],True,good_matches_ref_kp)\n",
      "/home/jaybie/.conda/envs/3d_env/lib/python3.7/site-packages/numpy/core/fromnumeric.py:3118: RuntimeWarning: Mean of empty slice.\n",
      "  out=out, **kwargs)\n",
      "/home/jaybie/.conda/envs/3d_env/lib/python3.7/site-packages/numpy/core/_methods.py:78: RuntimeWarning: invalid value encountered in true_divide\n",
      "  ret, rcount, out=ret, casting='unsafe', subok=False)\n"
     ]
    },
    {
     "name": "stdout",
     "output_type": "stream",
     "text": [
      "0.5 Error Rate:\n",
      "   0.5 : Done with 596, in 22.499 seconds. Error rate 0.856\n"
     ]
    },
    {
     "name": "stderr",
     "output_type": "stream",
     "text": [
      "/srv/jaybie/archive/spatial-privacy-master/nn_matchers.py:773: FutureWarning: in the future insert will treat boolean arrays and array-likes as a boolean index instead of casting it to integer\n",
      "  good_matches_kp_idx = np.insert(good_matches[good_matches_ref_kp],True,good_matches_ref_kp)\n",
      "/home/jaybie/.conda/envs/3d_env/lib/python3.7/site-packages/numpy/core/fromnumeric.py:3118: RuntimeWarning: Mean of empty slice.\n",
      "  out=out, **kwargs)\n",
      "/home/jaybie/.conda/envs/3d_env/lib/python3.7/site-packages/numpy/core/_methods.py:78: RuntimeWarning: invalid value encountered in true_divide\n",
      "  ret, rcount, out=ret, casting='unsafe', subok=False)\n"
     ]
    },
    {
     "name": "stdout",
     "output_type": "stream",
     "text": [
      "0.5 Error Rate:\n",
      "   0.5 : Done with 662, in 22.356 seconds. Error rate 0.860\n"
     ]
    },
    {
     "name": "stderr",
     "output_type": "stream",
     "text": [
      "/srv/jaybie/archive/spatial-privacy-master/nn_matchers.py:773: FutureWarning: in the future insert will treat boolean arrays and array-likes as a boolean index instead of casting it to integer\n",
      "  good_matches_kp_idx = np.insert(good_matches[good_matches_ref_kp],True,good_matches_ref_kp)\n",
      "/home/jaybie/.conda/envs/3d_env/lib/python3.7/site-packages/numpy/core/fromnumeric.py:3118: RuntimeWarning: Mean of empty slice.\n",
      "  out=out, **kwargs)\n",
      "/home/jaybie/.conda/envs/3d_env/lib/python3.7/site-packages/numpy/core/_methods.py:78: RuntimeWarning: invalid value encountered in true_divide\n",
      "  ret, rcount, out=ret, casting='unsafe', subok=False)\n"
     ]
    },
    {
     "name": "stdout",
     "output_type": "stream",
     "text": [
      "0.5 Error Rate:\n",
      "   0.5 : Done with 728, in 22.133 seconds. Error rate 0.857\n"
     ]
    },
    {
     "name": "stderr",
     "output_type": "stream",
     "text": [
      "/srv/jaybie/archive/spatial-privacy-master/nn_matchers.py:773: FutureWarning: in the future insert will treat boolean arrays and array-likes as a boolean index instead of casting it to integer\n",
      "  good_matches_kp_idx = np.insert(good_matches[good_matches_ref_kp],True,good_matches_ref_kp)\n",
      "/home/jaybie/.conda/envs/3d_env/lib/python3.7/site-packages/numpy/core/fromnumeric.py:3118: RuntimeWarning: Mean of empty slice.\n",
      "  out=out, **kwargs)\n",
      "/home/jaybie/.conda/envs/3d_env/lib/python3.7/site-packages/numpy/core/_methods.py:78: RuntimeWarning: invalid value encountered in true_divide\n",
      "  ret, rcount, out=ret, casting='unsafe', subok=False)\n"
     ]
    },
    {
     "name": "stdout",
     "output_type": "stream",
     "text": [
      "0.5 Error Rate:\n",
      "   0.5 : Done with 794, in 22.818 seconds. Error rate 0.853\n"
     ]
    },
    {
     "name": "stderr",
     "output_type": "stream",
     "text": [
      "/srv/jaybie/archive/spatial-privacy-master/nn_matchers.py:773: FutureWarning: in the future insert will treat boolean arrays and array-likes as a boolean index instead of casting it to integer\n",
      "  good_matches_kp_idx = np.insert(good_matches[good_matches_ref_kp],True,good_matches_ref_kp)\n",
      "/home/jaybie/.conda/envs/3d_env/lib/python3.7/site-packages/numpy/core/fromnumeric.py:3118: RuntimeWarning: Mean of empty slice.\n",
      "  out=out, **kwargs)\n",
      "/home/jaybie/.conda/envs/3d_env/lib/python3.7/site-packages/numpy/core/_methods.py:78: RuntimeWarning: invalid value encountered in true_divide\n",
      "  ret, rcount, out=ret, casting='unsafe', subok=False)\n"
     ]
    },
    {
     "name": "stdout",
     "output_type": "stream",
     "text": [
      "0.5 Error Rate:\n",
      "   0.5 : Done with 860, in 23.068 seconds. Error rate 0.853\n"
     ]
    },
    {
     "name": "stderr",
     "output_type": "stream",
     "text": [
      "/srv/jaybie/archive/spatial-privacy-master/nn_matchers.py:773: FutureWarning: in the future insert will treat boolean arrays and array-likes as a boolean index instead of casting it to integer\n",
      "  good_matches_kp_idx = np.insert(good_matches[good_matches_ref_kp],True,good_matches_ref_kp)\n",
      "/home/jaybie/.conda/envs/3d_env/lib/python3.7/site-packages/numpy/core/fromnumeric.py:3118: RuntimeWarning: Mean of empty slice.\n",
      "  out=out, **kwargs)\n",
      "/home/jaybie/.conda/envs/3d_env/lib/python3.7/site-packages/numpy/core/_methods.py:78: RuntimeWarning: invalid value encountered in true_divide\n",
      "  ret, rcount, out=ret, casting='unsafe', subok=False)\n"
     ]
    },
    {
     "name": "stdout",
     "output_type": "stream",
     "text": [
      "0.5 Error Rate:\n",
      "   0.5 : Done with 926, in 23.037 seconds. Error rate 0.855\n"
     ]
    },
    {
     "name": "stderr",
     "output_type": "stream",
     "text": [
      "/srv/jaybie/archive/spatial-privacy-master/nn_matchers.py:773: FutureWarning: in the future insert will treat boolean arrays and array-likes as a boolean index instead of casting it to integer\n",
      "  good_matches_kp_idx = np.insert(good_matches[good_matches_ref_kp],True,good_matches_ref_kp)\n",
      "/home/jaybie/.conda/envs/3d_env/lib/python3.7/site-packages/numpy/core/fromnumeric.py:3118: RuntimeWarning: Mean of empty slice.\n",
      "  out=out, **kwargs)\n",
      "/home/jaybie/.conda/envs/3d_env/lib/python3.7/site-packages/numpy/core/_methods.py:78: RuntimeWarning: invalid value encountered in true_divide\n",
      "  ret, rcount, out=ret, casting='unsafe', subok=False)\n"
     ]
    },
    {
     "name": "stdout",
     "output_type": "stream",
     "text": [
      "0.5 Error Rate:\n",
      "   0.5 : Done with 992, in 24.091 seconds. Error rate 0.851\n",
      "0.5  Total Time to match 340.666 seconds.\n",
      "radius = 1.0\n"
     ]
    },
    {
     "name": "stderr",
     "output_type": "stream",
     "text": [
      "/srv/jaybie/archive/spatial-privacy-master/nn_matchers.py:773: FutureWarning: in the future insert will treat boolean arrays and array-likes as a boolean index instead of casting it to integer\n",
      "  good_matches_kp_idx = np.insert(good_matches[good_matches_ref_kp],True,good_matches_ref_kp)\n"
     ]
    },
    {
     "name": "stdout",
     "output_type": "stream",
     "text": [
      "1.0 Error Rate:\n",
      "   1.0 : Done with 2, in 0.936 seconds. Error rate 0.500\n"
     ]
    },
    {
     "name": "stderr",
     "output_type": "stream",
     "text": [
      "/srv/jaybie/archive/spatial-privacy-master/nn_matchers.py:773: FutureWarning: in the future insert will treat boolean arrays and array-likes as a boolean index instead of casting it to integer\n",
      "  good_matches_kp_idx = np.insert(good_matches[good_matches_ref_kp],True,good_matches_ref_kp)\n"
     ]
    },
    {
     "name": "stdout",
     "output_type": "stream",
     "text": [
      "1.0 Error Rate:\n",
      "   1.0 : Done with 68, in 41.395 seconds. Error rate 0.647\n"
     ]
    },
    {
     "name": "stderr",
     "output_type": "stream",
     "text": [
      "/srv/jaybie/archive/spatial-privacy-master/nn_matchers.py:773: FutureWarning: in the future insert will treat boolean arrays and array-likes as a boolean index instead of casting it to integer\n",
      "  good_matches_kp_idx = np.insert(good_matches[good_matches_ref_kp],True,good_matches_ref_kp)\n"
     ]
    },
    {
     "name": "stdout",
     "output_type": "stream",
     "text": [
      "1.0 Error Rate:\n",
      "   1.0 : Done with 134, in 40.721 seconds. Error rate 0.657\n"
     ]
    },
    {
     "name": "stderr",
     "output_type": "stream",
     "text": [
      "/srv/jaybie/archive/spatial-privacy-master/nn_matchers.py:773: FutureWarning: in the future insert will treat boolean arrays and array-likes as a boolean index instead of casting it to integer\n",
      "  good_matches_kp_idx = np.insert(good_matches[good_matches_ref_kp],True,good_matches_ref_kp)\n"
     ]
    },
    {
     "name": "stdout",
     "output_type": "stream",
     "text": [
      "1.0 Error Rate:\n",
      "   1.0 : Done with 200, in 39.657 seconds. Error rate 0.670\n"
     ]
    },
    {
     "name": "stderr",
     "output_type": "stream",
     "text": [
      "/srv/jaybie/archive/spatial-privacy-master/nn_matchers.py:773: FutureWarning: in the future insert will treat boolean arrays and array-likes as a boolean index instead of casting it to integer\n",
      "  good_matches_kp_idx = np.insert(good_matches[good_matches_ref_kp],True,good_matches_ref_kp)\n"
     ]
    },
    {
     "name": "stdout",
     "output_type": "stream",
     "text": [
      "1.0 Error Rate:\n",
      "   1.0 : Done with 266, in 40.950 seconds. Error rate 0.662\n"
     ]
    },
    {
     "name": "stderr",
     "output_type": "stream",
     "text": [
      "/srv/jaybie/archive/spatial-privacy-master/nn_matchers.py:773: FutureWarning: in the future insert will treat boolean arrays and array-likes as a boolean index instead of casting it to integer\n",
      "  good_matches_kp_idx = np.insert(good_matches[good_matches_ref_kp],True,good_matches_ref_kp)\n"
     ]
    },
    {
     "name": "stdout",
     "output_type": "stream",
     "text": [
      "1.0 Error Rate:\n",
      "   1.0 : Done with 332, in 41.576 seconds. Error rate 0.657\n"
     ]
    },
    {
     "name": "stderr",
     "output_type": "stream",
     "text": [
      "/srv/jaybie/archive/spatial-privacy-master/nn_matchers.py:773: FutureWarning: in the future insert will treat boolean arrays and array-likes as a boolean index instead of casting it to integer\n",
      "  good_matches_kp_idx = np.insert(good_matches[good_matches_ref_kp],True,good_matches_ref_kp)\n"
     ]
    },
    {
     "name": "stdout",
     "output_type": "stream",
     "text": [
      "1.0 Error Rate:\n",
      "   1.0 : Done with 398, in 44.688 seconds. Error rate 0.653\n"
     ]
    },
    {
     "name": "stderr",
     "output_type": "stream",
     "text": [
      "/srv/jaybie/archive/spatial-privacy-master/nn_matchers.py:773: FutureWarning: in the future insert will treat boolean arrays and array-likes as a boolean index instead of casting it to integer\n",
      "  good_matches_kp_idx = np.insert(good_matches[good_matches_ref_kp],True,good_matches_ref_kp)\n"
     ]
    },
    {
     "name": "stdout",
     "output_type": "stream",
     "text": [
      "1.0 Error Rate:\n",
      "   1.0 : Done with 464, in 44.016 seconds. Error rate 0.651\n"
     ]
    },
    {
     "name": "stderr",
     "output_type": "stream",
     "text": [
      "/srv/jaybie/archive/spatial-privacy-master/nn_matchers.py:773: FutureWarning: in the future insert will treat boolean arrays and array-likes as a boolean index instead of casting it to integer\n",
      "  good_matches_kp_idx = np.insert(good_matches[good_matches_ref_kp],True,good_matches_ref_kp)\n"
     ]
    },
    {
     "name": "stdout",
     "output_type": "stream",
     "text": [
      "1.0 Error Rate:\n",
      "   1.0 : Done with 530, in 47.503 seconds. Error rate 0.640\n"
     ]
    },
    {
     "name": "stderr",
     "output_type": "stream",
     "text": [
      "/srv/jaybie/archive/spatial-privacy-master/nn_matchers.py:773: FutureWarning: in the future insert will treat boolean arrays and array-likes as a boolean index instead of casting it to integer\n",
      "  good_matches_kp_idx = np.insert(good_matches[good_matches_ref_kp],True,good_matches_ref_kp)\n"
     ]
    },
    {
     "name": "stdout",
     "output_type": "stream",
     "text": [
      "1.0 Error Rate:\n",
      "   1.0 : Done with 596, in 46.241 seconds. Error rate 0.644\n"
     ]
    },
    {
     "name": "stderr",
     "output_type": "stream",
     "text": [
      "/srv/jaybie/archive/spatial-privacy-master/nn_matchers.py:773: FutureWarning: in the future insert will treat boolean arrays and array-likes as a boolean index instead of casting it to integer\n",
      "  good_matches_kp_idx = np.insert(good_matches[good_matches_ref_kp],True,good_matches_ref_kp)\n"
     ]
    },
    {
     "name": "stdout",
     "output_type": "stream",
     "text": [
      "1.0 Error Rate:\n",
      "   1.0 : Done with 662, in 47.434 seconds. Error rate 0.642\n"
     ]
    },
    {
     "name": "stderr",
     "output_type": "stream",
     "text": [
      "/srv/jaybie/archive/spatial-privacy-master/nn_matchers.py:773: FutureWarning: in the future insert will treat boolean arrays and array-likes as a boolean index instead of casting it to integer\n",
      "  good_matches_kp_idx = np.insert(good_matches[good_matches_ref_kp],True,good_matches_ref_kp)\n"
     ]
    },
    {
     "name": "stdout",
     "output_type": "stream",
     "text": [
      "1.0 Error Rate:\n",
      "   1.0 : Done with 728, in 44.816 seconds. Error rate 0.637\n"
     ]
    },
    {
     "name": "stderr",
     "output_type": "stream",
     "text": [
      "/srv/jaybie/archive/spatial-privacy-master/nn_matchers.py:773: FutureWarning: in the future insert will treat boolean arrays and array-likes as a boolean index instead of casting it to integer\n",
      "  good_matches_kp_idx = np.insert(good_matches[good_matches_ref_kp],True,good_matches_ref_kp)\n"
     ]
    },
    {
     "name": "stdout",
     "output_type": "stream",
     "text": [
      "1.0 Error Rate:\n",
      "   1.0 : Done with 794, in 46.607 seconds. Error rate 0.637\n"
     ]
    },
    {
     "name": "stderr",
     "output_type": "stream",
     "text": [
      "/srv/jaybie/archive/spatial-privacy-master/nn_matchers.py:773: FutureWarning: in the future insert will treat boolean arrays and array-likes as a boolean index instead of casting it to integer\n",
      "  good_matches_kp_idx = np.insert(good_matches[good_matches_ref_kp],True,good_matches_ref_kp)\n"
     ]
    },
    {
     "name": "stdout",
     "output_type": "stream",
     "text": [
      "1.0 Error Rate:\n",
      "   1.0 : Done with 860, in 48.399 seconds. Error rate 0.628\n"
     ]
    },
    {
     "name": "stderr",
     "output_type": "stream",
     "text": [
      "/srv/jaybie/archive/spatial-privacy-master/nn_matchers.py:773: FutureWarning: in the future insert will treat boolean arrays and array-likes as a boolean index instead of casting it to integer\n",
      "  good_matches_kp_idx = np.insert(good_matches[good_matches_ref_kp],True,good_matches_ref_kp)\n"
     ]
    },
    {
     "name": "stdout",
     "output_type": "stream",
     "text": [
      "1.0 Error Rate:\n",
      "   1.0 : Done with 926, in 47.139 seconds. Error rate 0.629\n"
     ]
    },
    {
     "name": "stderr",
     "output_type": "stream",
     "text": [
      "/srv/jaybie/archive/spatial-privacy-master/nn_matchers.py:773: FutureWarning: in the future insert will treat boolean arrays and array-likes as a boolean index instead of casting it to integer\n",
      "  good_matches_kp_idx = np.insert(good_matches[good_matches_ref_kp],True,good_matches_ref_kp)\n"
     ]
    },
    {
     "name": "stdout",
     "output_type": "stream",
     "text": [
      "1.0 Error Rate:\n",
      "   1.0 : Done with 992, in 51.229 seconds. Error rate 0.627\n",
      "1.0  Total Time to match 698.467 seconds.\n",
      "radius = 1.5\n"
     ]
    },
    {
     "name": "stderr",
     "output_type": "stream",
     "text": [
      "/srv/jaybie/archive/spatial-privacy-master/nn_matchers.py:773: FutureWarning: in the future insert will treat boolean arrays and array-likes as a boolean index instead of casting it to integer\n",
      "  good_matches_kp_idx = np.insert(good_matches[good_matches_ref_kp],True,good_matches_ref_kp)\n"
     ]
    },
    {
     "name": "stdout",
     "output_type": "stream",
     "text": [
      "1.5 Error Rate:\n",
      "   1.5 : Done with 2, in 1.740 seconds. Error rate 0.000\n"
     ]
    },
    {
     "name": "stderr",
     "output_type": "stream",
     "text": [
      "/srv/jaybie/archive/spatial-privacy-master/nn_matchers.py:773: FutureWarning: in the future insert will treat boolean arrays and array-likes as a boolean index instead of casting it to integer\n",
      "  good_matches_kp_idx = np.insert(good_matches[good_matches_ref_kp],True,good_matches_ref_kp)\n"
     ]
    },
    {
     "name": "stdout",
     "output_type": "stream",
     "text": [
      "1.5 Error Rate:\n",
      "   1.5 : Done with 68, in 81.863 seconds. Error rate 0.412\n"
     ]
    },
    {
     "name": "stderr",
     "output_type": "stream",
     "text": [
      "/srv/jaybie/archive/spatial-privacy-master/nn_matchers.py:773: FutureWarning: in the future insert will treat boolean arrays and array-likes as a boolean index instead of casting it to integer\n",
      "  good_matches_kp_idx = np.insert(good_matches[good_matches_ref_kp],True,good_matches_ref_kp)\n"
     ]
    },
    {
     "name": "stdout",
     "output_type": "stream",
     "text": [
      "1.5 Error Rate:\n",
      "   1.5 : Done with 134, in 77.673 seconds. Error rate 0.388\n"
     ]
    },
    {
     "name": "stderr",
     "output_type": "stream",
     "text": [
      "/srv/jaybie/archive/spatial-privacy-master/nn_matchers.py:773: FutureWarning: in the future insert will treat boolean arrays and array-likes as a boolean index instead of casting it to integer\n",
      "  good_matches_kp_idx = np.insert(good_matches[good_matches_ref_kp],True,good_matches_ref_kp)\n"
     ]
    },
    {
     "name": "stdout",
     "output_type": "stream",
     "text": [
      "1.5 Error Rate:\n",
      "   1.5 : Done with 200, in 80.350 seconds. Error rate 0.360\n"
     ]
    },
    {
     "name": "stderr",
     "output_type": "stream",
     "text": [
      "/srv/jaybie/archive/spatial-privacy-master/nn_matchers.py:773: FutureWarning: in the future insert will treat boolean arrays and array-likes as a boolean index instead of casting it to integer\n",
      "  good_matches_kp_idx = np.insert(good_matches[good_matches_ref_kp],True,good_matches_ref_kp)\n"
     ]
    },
    {
     "name": "stdout",
     "output_type": "stream",
     "text": [
      "1.5 Error Rate:\n",
      "   1.5 : Done with 266, in 79.853 seconds. Error rate 0.357\n"
     ]
    },
    {
     "name": "stderr",
     "output_type": "stream",
     "text": [
      "/srv/jaybie/archive/spatial-privacy-master/nn_matchers.py:773: FutureWarning: in the future insert will treat boolean arrays and array-likes as a boolean index instead of casting it to integer\n",
      "  good_matches_kp_idx = np.insert(good_matches[good_matches_ref_kp],True,good_matches_ref_kp)\n"
     ]
    },
    {
     "name": "stdout",
     "output_type": "stream",
     "text": [
      "1.5 Error Rate:\n",
      "   1.5 : Done with 332, in 81.407 seconds. Error rate 0.343\n"
     ]
    },
    {
     "name": "stderr",
     "output_type": "stream",
     "text": [
      "/srv/jaybie/archive/spatial-privacy-master/nn_matchers.py:773: FutureWarning: in the future insert will treat boolean arrays and array-likes as a boolean index instead of casting it to integer\n",
      "  good_matches_kp_idx = np.insert(good_matches[good_matches_ref_kp],True,good_matches_ref_kp)\n"
     ]
    },
    {
     "name": "stdout",
     "output_type": "stream",
     "text": [
      "1.5 Error Rate:\n",
      "   1.5 : Done with 398, in 95.703 seconds. Error rate 0.332\n"
     ]
    },
    {
     "name": "stderr",
     "output_type": "stream",
     "text": [
      "/srv/jaybie/archive/spatial-privacy-master/nn_matchers.py:773: FutureWarning: in the future insert will treat boolean arrays and array-likes as a boolean index instead of casting it to integer\n",
      "  good_matches_kp_idx = np.insert(good_matches[good_matches_ref_kp],True,good_matches_ref_kp)\n"
     ]
    },
    {
     "name": "stdout",
     "output_type": "stream",
     "text": [
      "1.5 Error Rate:\n",
      "   1.5 : Done with 464, in 91.269 seconds. Error rate 0.338\n"
     ]
    },
    {
     "name": "stderr",
     "output_type": "stream",
     "text": [
      "/srv/jaybie/archive/spatial-privacy-master/nn_matchers.py:773: FutureWarning: in the future insert will treat boolean arrays and array-likes as a boolean index instead of casting it to integer\n",
      "  good_matches_kp_idx = np.insert(good_matches[good_matches_ref_kp],True,good_matches_ref_kp)\n"
     ]
    },
    {
     "name": "stdout",
     "output_type": "stream",
     "text": [
      "1.5 Error Rate:\n",
      "   1.5 : Done with 530, in 95.553 seconds. Error rate 0.343\n"
     ]
    },
    {
     "name": "stderr",
     "output_type": "stream",
     "text": [
      "/srv/jaybie/archive/spatial-privacy-master/nn_matchers.py:773: FutureWarning: in the future insert will treat boolean arrays and array-likes as a boolean index instead of casting it to integer\n",
      "  good_matches_kp_idx = np.insert(good_matches[good_matches_ref_kp],True,good_matches_ref_kp)\n"
     ]
    },
    {
     "name": "stdout",
     "output_type": "stream",
     "text": [
      "1.5 Error Rate:\n",
      "   1.5 : Done with 596, in 96.290 seconds. Error rate 0.342\n"
     ]
    },
    {
     "name": "stderr",
     "output_type": "stream",
     "text": [
      "/srv/jaybie/archive/spatial-privacy-master/nn_matchers.py:773: FutureWarning: in the future insert will treat boolean arrays and array-likes as a boolean index instead of casting it to integer\n",
      "  good_matches_kp_idx = np.insert(good_matches[good_matches_ref_kp],True,good_matches_ref_kp)\n"
     ]
    },
    {
     "name": "stdout",
     "output_type": "stream",
     "text": [
      "1.5 Error Rate:\n",
      "   1.5 : Done with 662, in 96.903 seconds. Error rate 0.335\n"
     ]
    },
    {
     "name": "stderr",
     "output_type": "stream",
     "text": [
      "/srv/jaybie/archive/spatial-privacy-master/nn_matchers.py:773: FutureWarning: in the future insert will treat boolean arrays and array-likes as a boolean index instead of casting it to integer\n",
      "  good_matches_kp_idx = np.insert(good_matches[good_matches_ref_kp],True,good_matches_ref_kp)\n"
     ]
    },
    {
     "name": "stdout",
     "output_type": "stream",
     "text": [
      "1.5 Error Rate:\n",
      "   1.5 : Done with 728, in 90.393 seconds. Error rate 0.330\n"
     ]
    },
    {
     "name": "stderr",
     "output_type": "stream",
     "text": [
      "/srv/jaybie/archive/spatial-privacy-master/nn_matchers.py:773: FutureWarning: in the future insert will treat boolean arrays and array-likes as a boolean index instead of casting it to integer\n",
      "  good_matches_kp_idx = np.insert(good_matches[good_matches_ref_kp],True,good_matches_ref_kp)\n"
     ]
    },
    {
     "name": "stdout",
     "output_type": "stream",
     "text": [
      "1.5 Error Rate:\n",
      "   1.5 : Done with 794, in 96.660 seconds. Error rate 0.315\n"
     ]
    },
    {
     "name": "stderr",
     "output_type": "stream",
     "text": [
      "/srv/jaybie/archive/spatial-privacy-master/nn_matchers.py:773: FutureWarning: in the future insert will treat boolean arrays and array-likes as a boolean index instead of casting it to integer\n",
      "  good_matches_kp_idx = np.insert(good_matches[good_matches_ref_kp],True,good_matches_ref_kp)\n"
     ]
    },
    {
     "name": "stdout",
     "output_type": "stream",
     "text": [
      "1.5 Error Rate:\n",
      "   1.5 : Done with 860, in 94.044 seconds. Error rate 0.320\n"
     ]
    },
    {
     "name": "stderr",
     "output_type": "stream",
     "text": [
      "/srv/jaybie/archive/spatial-privacy-master/nn_matchers.py:773: FutureWarning: in the future insert will treat boolean arrays and array-likes as a boolean index instead of casting it to integer\n",
      "  good_matches_kp_idx = np.insert(good_matches[good_matches_ref_kp],True,good_matches_ref_kp)\n"
     ]
    },
    {
     "name": "stdout",
     "output_type": "stream",
     "text": [
      "1.5 Error Rate:\n",
      "   1.5 : Done with 926, in 92.196 seconds. Error rate 0.332\n"
     ]
    },
    {
     "name": "stderr",
     "output_type": "stream",
     "text": [
      "/srv/jaybie/archive/spatial-privacy-master/nn_matchers.py:773: FutureWarning: in the future insert will treat boolean arrays and array-likes as a boolean index instead of casting it to integer\n",
      "  good_matches_kp_idx = np.insert(good_matches[good_matches_ref_kp],True,good_matches_ref_kp)\n"
     ]
    },
    {
     "name": "stdout",
     "output_type": "stream",
     "text": [
      "1.5 Error Rate:\n",
      "   1.5 : Done with 992, in 103.712 seconds. Error rate 0.334\n",
      "1.5  Total Time to match 1408.350 seconds.\n",
      "radius = 2.0\n"
     ]
    },
    {
     "name": "stderr",
     "output_type": "stream",
     "text": [
      "/srv/jaybie/archive/spatial-privacy-master/nn_matchers.py:773: FutureWarning: in the future insert will treat boolean arrays and array-likes as a boolean index instead of casting it to integer\n",
      "  good_matches_kp_idx = np.insert(good_matches[good_matches_ref_kp],True,good_matches_ref_kp)\n"
     ]
    },
    {
     "name": "stdout",
     "output_type": "stream",
     "text": [
      "2.0 Error Rate:\n",
      "   2.0 : Done with 2, in 3.498 seconds. Error rate 0.000\n"
     ]
    },
    {
     "name": "stderr",
     "output_type": "stream",
     "text": [
      "/srv/jaybie/archive/spatial-privacy-master/nn_matchers.py:773: FutureWarning: in the future insert will treat boolean arrays and array-likes as a boolean index instead of casting it to integer\n",
      "  good_matches_kp_idx = np.insert(good_matches[good_matches_ref_kp],True,good_matches_ref_kp)\n"
     ]
    },
    {
     "name": "stdout",
     "output_type": "stream",
     "text": [
      "2.0 Error Rate:\n",
      "   2.0 : Done with 68, in 141.672 seconds. Error rate 0.221\n"
     ]
    },
    {
     "name": "stderr",
     "output_type": "stream",
     "text": [
      "/srv/jaybie/archive/spatial-privacy-master/nn_matchers.py:773: FutureWarning: in the future insert will treat boolean arrays and array-likes as a boolean index instead of casting it to integer\n",
      "  good_matches_kp_idx = np.insert(good_matches[good_matches_ref_kp],True,good_matches_ref_kp)\n"
     ]
    },
    {
     "name": "stdout",
     "output_type": "stream",
     "text": [
      "2.0 Error Rate:\n",
      "   2.0 : Done with 134, in 142.881 seconds. Error rate 0.209\n"
     ]
    },
    {
     "name": "stderr",
     "output_type": "stream",
     "text": [
      "/srv/jaybie/archive/spatial-privacy-master/nn_matchers.py:773: FutureWarning: in the future insert will treat boolean arrays and array-likes as a boolean index instead of casting it to integer\n",
      "  good_matches_kp_idx = np.insert(good_matches[good_matches_ref_kp],True,good_matches_ref_kp)\n"
     ]
    },
    {
     "name": "stdout",
     "output_type": "stream",
     "text": [
      "2.0 Error Rate:\n",
      "   2.0 : Done with 200, in 139.375 seconds. Error rate 0.215\n"
     ]
    },
    {
     "name": "stderr",
     "output_type": "stream",
     "text": [
      "/srv/jaybie/archive/spatial-privacy-master/nn_matchers.py:773: FutureWarning: in the future insert will treat boolean arrays and array-likes as a boolean index instead of casting it to integer\n",
      "  good_matches_kp_idx = np.insert(good_matches[good_matches_ref_kp],True,good_matches_ref_kp)\n"
     ]
    },
    {
     "name": "stdout",
     "output_type": "stream",
     "text": [
      "2.0 Error Rate:\n",
      "   2.0 : Done with 266, in 141.578 seconds. Error rate 0.192\n"
     ]
    },
    {
     "name": "stderr",
     "output_type": "stream",
     "text": [
      "/srv/jaybie/archive/spatial-privacy-master/nn_matchers.py:773: FutureWarning: in the future insert will treat boolean arrays and array-likes as a boolean index instead of casting it to integer\n",
      "  good_matches_kp_idx = np.insert(good_matches[good_matches_ref_kp],True,good_matches_ref_kp)\n"
     ]
    },
    {
     "name": "stdout",
     "output_type": "stream",
     "text": [
      "2.0 Error Rate:\n",
      "   2.0 : Done with 332, in 145.538 seconds. Error rate 0.196\n"
     ]
    },
    {
     "name": "stderr",
     "output_type": "stream",
     "text": [
      "/srv/jaybie/archive/spatial-privacy-master/nn_matchers.py:773: FutureWarning: in the future insert will treat boolean arrays and array-likes as a boolean index instead of casting it to integer\n",
      "  good_matches_kp_idx = np.insert(good_matches[good_matches_ref_kp],True,good_matches_ref_kp)\n"
     ]
    },
    {
     "name": "stdout",
     "output_type": "stream",
     "text": [
      "2.0 Error Rate:\n",
      "   2.0 : Done with 398, in 167.915 seconds. Error rate 0.191\n"
     ]
    },
    {
     "name": "stderr",
     "output_type": "stream",
     "text": [
      "/srv/jaybie/archive/spatial-privacy-master/nn_matchers.py:773: FutureWarning: in the future insert will treat boolean arrays and array-likes as a boolean index instead of casting it to integer\n",
      "  good_matches_kp_idx = np.insert(good_matches[good_matches_ref_kp],True,good_matches_ref_kp)\n"
     ]
    },
    {
     "name": "stdout",
     "output_type": "stream",
     "text": [
      "2.0 Error Rate:\n",
      "   2.0 : Done with 464, in 160.709 seconds. Error rate 0.190\n"
     ]
    },
    {
     "name": "stderr",
     "output_type": "stream",
     "text": [
      "/srv/jaybie/archive/spatial-privacy-master/nn_matchers.py:773: FutureWarning: in the future insert will treat boolean arrays and array-likes as a boolean index instead of casting it to integer\n",
      "  good_matches_kp_idx = np.insert(good_matches[good_matches_ref_kp],True,good_matches_ref_kp)\n"
     ]
    },
    {
     "name": "stdout",
     "output_type": "stream",
     "text": [
      "2.0 Error Rate:\n",
      "   2.0 : Done with 530, in 177.679 seconds. Error rate 0.183\n"
     ]
    },
    {
     "name": "stderr",
     "output_type": "stream",
     "text": [
      "/srv/jaybie/archive/spatial-privacy-master/nn_matchers.py:773: FutureWarning: in the future insert will treat boolean arrays and array-likes as a boolean index instead of casting it to integer\n",
      "  good_matches_kp_idx = np.insert(good_matches[good_matches_ref_kp],True,good_matches_ref_kp)\n"
     ]
    },
    {
     "name": "stdout",
     "output_type": "stream",
     "text": [
      "2.0 Error Rate:\n",
      "   2.0 : Done with 596, in 177.651 seconds. Error rate 0.185\n"
     ]
    },
    {
     "name": "stderr",
     "output_type": "stream",
     "text": [
      "/srv/jaybie/archive/spatial-privacy-master/nn_matchers.py:773: FutureWarning: in the future insert will treat boolean arrays and array-likes as a boolean index instead of casting it to integer\n",
      "  good_matches_kp_idx = np.insert(good_matches[good_matches_ref_kp],True,good_matches_ref_kp)\n"
     ]
    },
    {
     "name": "stdout",
     "output_type": "stream",
     "text": [
      "2.0 Error Rate:\n",
      "   2.0 : Done with 662, in 180.138 seconds. Error rate 0.186\n"
     ]
    },
    {
     "name": "stderr",
     "output_type": "stream",
     "text": [
      "/srv/jaybie/archive/spatial-privacy-master/nn_matchers.py:773: FutureWarning: in the future insert will treat boolean arrays and array-likes as a boolean index instead of casting it to integer\n",
      "  good_matches_kp_idx = np.insert(good_matches[good_matches_ref_kp],True,good_matches_ref_kp)\n"
     ]
    },
    {
     "name": "stdout",
     "output_type": "stream",
     "text": [
      "2.0 Error Rate:\n",
      "   2.0 : Done with 728, in 162.993 seconds. Error rate 0.185\n"
     ]
    },
    {
     "name": "stderr",
     "output_type": "stream",
     "text": [
      "/srv/jaybie/archive/spatial-privacy-master/nn_matchers.py:773: FutureWarning: in the future insert will treat boolean arrays and array-likes as a boolean index instead of casting it to integer\n",
      "  good_matches_kp_idx = np.insert(good_matches[good_matches_ref_kp],True,good_matches_ref_kp)\n"
     ]
    },
    {
     "name": "stdout",
     "output_type": "stream",
     "text": [
      "2.0 Error Rate:\n",
      "   2.0 : Done with 794, in 181.146 seconds. Error rate 0.180\n"
     ]
    },
    {
     "name": "stderr",
     "output_type": "stream",
     "text": [
      "/srv/jaybie/archive/spatial-privacy-master/nn_matchers.py:773: FutureWarning: in the future insert will treat boolean arrays and array-likes as a boolean index instead of casting it to integer\n",
      "  good_matches_kp_idx = np.insert(good_matches[good_matches_ref_kp],True,good_matches_ref_kp)\n"
     ]
    },
    {
     "name": "stdout",
     "output_type": "stream",
     "text": [
      "2.0 Error Rate:\n",
      "   2.0 : Done with 860, in 172.936 seconds. Error rate 0.183\n"
     ]
    },
    {
     "name": "stderr",
     "output_type": "stream",
     "text": [
      "/srv/jaybie/archive/spatial-privacy-master/nn_matchers.py:773: FutureWarning: in the future insert will treat boolean arrays and array-likes as a boolean index instead of casting it to integer\n",
      "  good_matches_kp_idx = np.insert(good_matches[good_matches_ref_kp],True,good_matches_ref_kp)\n"
     ]
    },
    {
     "name": "stdout",
     "output_type": "stream",
     "text": [
      "2.0 Error Rate:\n",
      "   2.0 : Done with 926, in 173.438 seconds. Error rate 0.187\n"
     ]
    },
    {
     "name": "stderr",
     "output_type": "stream",
     "text": [
      "/srv/jaybie/archive/spatial-privacy-master/nn_matchers.py:773: FutureWarning: in the future insert will treat boolean arrays and array-likes as a boolean index instead of casting it to integer\n",
      "  good_matches_kp_idx = np.insert(good_matches[good_matches_ref_kp],True,good_matches_ref_kp)\n"
     ]
    },
    {
     "name": "stdout",
     "output_type": "stream",
     "text": [
      "2.0 Error Rate:\n",
      "   2.0 : Done with 992, in 190.911 seconds. Error rate 0.185\n",
      "2.0  Total Time to match 2552.178 seconds.\n",
      "radius = 2.5\n"
     ]
    },
    {
     "name": "stderr",
     "output_type": "stream",
     "text": [
      "/srv/jaybie/archive/spatial-privacy-master/nn_matchers.py:773: FutureWarning: in the future insert will treat boolean arrays and array-likes as a boolean index instead of casting it to integer\n",
      "  good_matches_kp_idx = np.insert(good_matches[good_matches_ref_kp],True,good_matches_ref_kp)\n"
     ]
    },
    {
     "name": "stdout",
     "output_type": "stream",
     "text": [
      "2.5 Error Rate:\n",
      "   2.5 : Done with 2, in 5.346 seconds. Error rate 0.000\n"
     ]
    },
    {
     "name": "stderr",
     "output_type": "stream",
     "text": [
      "/srv/jaybie/archive/spatial-privacy-master/nn_matchers.py:773: FutureWarning: in the future insert will treat boolean arrays and array-likes as a boolean index instead of casting it to integer\n",
      "  good_matches_kp_idx = np.insert(good_matches[good_matches_ref_kp],True,good_matches_ref_kp)\n"
     ]
    },
    {
     "name": "stdout",
     "output_type": "stream",
     "text": [
      "2.5 Error Rate:\n",
      "   2.5 : Done with 68, in 236.130 seconds. Error rate 0.206\n"
     ]
    },
    {
     "name": "stderr",
     "output_type": "stream",
     "text": [
      "/srv/jaybie/archive/spatial-privacy-master/nn_matchers.py:773: FutureWarning: in the future insert will treat boolean arrays and array-likes as a boolean index instead of casting it to integer\n",
      "  good_matches_kp_idx = np.insert(good_matches[good_matches_ref_kp],True,good_matches_ref_kp)\n"
     ]
    },
    {
     "name": "stdout",
     "output_type": "stream",
     "text": [
      "2.5 Error Rate:\n",
      "   2.5 : Done with 134, in 229.970 seconds. Error rate 0.187\n"
     ]
    },
    {
     "name": "stderr",
     "output_type": "stream",
     "text": [
      "/srv/jaybie/archive/spatial-privacy-master/nn_matchers.py:773: FutureWarning: in the future insert will treat boolean arrays and array-likes as a boolean index instead of casting it to integer\n",
      "  good_matches_kp_idx = np.insert(good_matches[good_matches_ref_kp],True,good_matches_ref_kp)\n"
     ]
    },
    {
     "name": "stdout",
     "output_type": "stream",
     "text": [
      "2.5 Error Rate:\n",
      "   2.5 : Done with 200, in 221.803 seconds. Error rate 0.170\n"
     ]
    },
    {
     "name": "stderr",
     "output_type": "stream",
     "text": [
      "/srv/jaybie/archive/spatial-privacy-master/nn_matchers.py:773: FutureWarning: in the future insert will treat boolean arrays and array-likes as a boolean index instead of casting it to integer\n",
      "  good_matches_kp_idx = np.insert(good_matches[good_matches_ref_kp],True,good_matches_ref_kp)\n"
     ]
    },
    {
     "name": "stdout",
     "output_type": "stream",
     "text": [
      "2.5 Error Rate:\n",
      "   2.5 : Done with 266, in 236.125 seconds. Error rate 0.154\n"
     ]
    },
    {
     "name": "stderr",
     "output_type": "stream",
     "text": [
      "/srv/jaybie/archive/spatial-privacy-master/nn_matchers.py:773: FutureWarning: in the future insert will treat boolean arrays and array-likes as a boolean index instead of casting it to integer\n",
      "  good_matches_kp_idx = np.insert(good_matches[good_matches_ref_kp],True,good_matches_ref_kp)\n"
     ]
    },
    {
     "name": "stdout",
     "output_type": "stream",
     "text": [
      "2.5 Error Rate:\n",
      "   2.5 : Done with 332, in 235.985 seconds. Error rate 0.157\n"
     ]
    },
    {
     "name": "stderr",
     "output_type": "stream",
     "text": [
      "/srv/jaybie/archive/spatial-privacy-master/nn_matchers.py:773: FutureWarning: in the future insert will treat boolean arrays and array-likes as a boolean index instead of casting it to integer\n",
      "  good_matches_kp_idx = np.insert(good_matches[good_matches_ref_kp],True,good_matches_ref_kp)\n"
     ]
    },
    {
     "name": "stdout",
     "output_type": "stream",
     "text": [
      "2.5 Error Rate:\n",
      "   2.5 : Done with 398, in 267.603 seconds. Error rate 0.148\n"
     ]
    },
    {
     "name": "stderr",
     "output_type": "stream",
     "text": [
      "/srv/jaybie/archive/spatial-privacy-master/nn_matchers.py:773: FutureWarning: in the future insert will treat boolean arrays and array-likes as a boolean index instead of casting it to integer\n",
      "  good_matches_kp_idx = np.insert(good_matches[good_matches_ref_kp],True,good_matches_ref_kp)\n"
     ]
    },
    {
     "name": "stdout",
     "output_type": "stream",
     "text": [
      "2.5 Error Rate:\n",
      "   2.5 : Done with 464, in 266.706 seconds. Error rate 0.144\n"
     ]
    },
    {
     "name": "stderr",
     "output_type": "stream",
     "text": [
      "/srv/jaybie/archive/spatial-privacy-master/nn_matchers.py:773: FutureWarning: in the future insert will treat boolean arrays and array-likes as a boolean index instead of casting it to integer\n",
      "  good_matches_kp_idx = np.insert(good_matches[good_matches_ref_kp],True,good_matches_ref_kp)\n"
     ]
    },
    {
     "name": "stdout",
     "output_type": "stream",
     "text": [
      "2.5 Error Rate:\n",
      "   2.5 : Done with 530, in 298.280 seconds. Error rate 0.136\n"
     ]
    },
    {
     "name": "stderr",
     "output_type": "stream",
     "text": [
      "/srv/jaybie/archive/spatial-privacy-master/nn_matchers.py:773: FutureWarning: in the future insert will treat boolean arrays and array-likes as a boolean index instead of casting it to integer\n",
      "  good_matches_kp_idx = np.insert(good_matches[good_matches_ref_kp],True,good_matches_ref_kp)\n"
     ]
    },
    {
     "name": "stdout",
     "output_type": "stream",
     "text": [
      "2.5 Error Rate:\n",
      "   2.5 : Done with 596, in 287.942 seconds. Error rate 0.134\n"
     ]
    },
    {
     "name": "stderr",
     "output_type": "stream",
     "text": [
      "/srv/jaybie/archive/spatial-privacy-master/nn_matchers.py:773: FutureWarning: in the future insert will treat boolean arrays and array-likes as a boolean index instead of casting it to integer\n",
      "  good_matches_kp_idx = np.insert(good_matches[good_matches_ref_kp],True,good_matches_ref_kp)\n"
     ]
    },
    {
     "name": "stdout",
     "output_type": "stream",
     "text": [
      "2.5 Error Rate:\n",
      "   2.5 : Done with 662, in 293.221 seconds. Error rate 0.133\n"
     ]
    },
    {
     "name": "stderr",
     "output_type": "stream",
     "text": [
      "/srv/jaybie/archive/spatial-privacy-master/nn_matchers.py:773: FutureWarning: in the future insert will treat boolean arrays and array-likes as a boolean index instead of casting it to integer\n",
      "  good_matches_kp_idx = np.insert(good_matches[good_matches_ref_kp],True,good_matches_ref_kp)\n"
     ]
    },
    {
     "name": "stdout",
     "output_type": "stream",
     "text": [
      "2.5 Error Rate:\n",
      "   2.5 : Done with 728, in 269.699 seconds. Error rate 0.130\n"
     ]
    },
    {
     "name": "stderr",
     "output_type": "stream",
     "text": [
      "/srv/jaybie/archive/spatial-privacy-master/nn_matchers.py:773: FutureWarning: in the future insert will treat boolean arrays and array-likes as a boolean index instead of casting it to integer\n",
      "  good_matches_kp_idx = np.insert(good_matches[good_matches_ref_kp],True,good_matches_ref_kp)\n"
     ]
    },
    {
     "name": "stdout",
     "output_type": "stream",
     "text": [
      "2.5 Error Rate:\n",
      "   2.5 : Done with 794, in 302.935 seconds. Error rate 0.123\n"
     ]
    },
    {
     "name": "stderr",
     "output_type": "stream",
     "text": [
      "/srv/jaybie/archive/spatial-privacy-master/nn_matchers.py:773: FutureWarning: in the future insert will treat boolean arrays and array-likes as a boolean index instead of casting it to integer\n",
      "  good_matches_kp_idx = np.insert(good_matches[good_matches_ref_kp],True,good_matches_ref_kp)\n"
     ]
    },
    {
     "name": "stdout",
     "output_type": "stream",
     "text": [
      "2.5 Error Rate:\n",
      "   2.5 : Done with 860, in 295.089 seconds. Error rate 0.121\n"
     ]
    },
    {
     "name": "stderr",
     "output_type": "stream",
     "text": [
      "/srv/jaybie/archive/spatial-privacy-master/nn_matchers.py:773: FutureWarning: in the future insert will treat boolean arrays and array-likes as a boolean index instead of casting it to integer\n",
      "  good_matches_kp_idx = np.insert(good_matches[good_matches_ref_kp],True,good_matches_ref_kp)\n"
     ]
    },
    {
     "name": "stdout",
     "output_type": "stream",
     "text": [
      "2.5 Error Rate:\n",
      "   2.5 : Done with 926, in 302.889 seconds. Error rate 0.127\n"
     ]
    },
    {
     "name": "stderr",
     "output_type": "stream",
     "text": [
      "/srv/jaybie/archive/spatial-privacy-master/nn_matchers.py:773: FutureWarning: in the future insert will treat boolean arrays and array-likes as a boolean index instead of casting it to integer\n",
      "  good_matches_kp_idx = np.insert(good_matches[good_matches_ref_kp],True,good_matches_ref_kp)\n"
     ]
    },
    {
     "name": "stdout",
     "output_type": "stream",
     "text": [
      "2.5 Error Rate:\n",
      "   2.5 : Done with 992, in 315.662 seconds. Error rate 0.129\n",
      "2.5  Total Time to match 4206.049 seconds.\n",
      "radius = 3.0\n"
     ]
    },
    {
     "name": "stderr",
     "output_type": "stream",
     "text": [
      "/srv/jaybie/archive/spatial-privacy-master/nn_matchers.py:773: FutureWarning: in the future insert will treat boolean arrays and array-likes as a boolean index instead of casting it to integer\n",
      "  good_matches_kp_idx = np.insert(good_matches[good_matches_ref_kp],True,good_matches_ref_kp)\n"
     ]
    },
    {
     "name": "stdout",
     "output_type": "stream",
     "text": [
      "3.0 Error Rate:\n",
      "   3.0 : Done with 2, in 7.400 seconds. Error rate 0.000\n"
     ]
    },
    {
     "name": "stderr",
     "output_type": "stream",
     "text": [
      "/srv/jaybie/archive/spatial-privacy-master/nn_matchers.py:773: FutureWarning: in the future insert will treat boolean arrays and array-likes as a boolean index instead of casting it to integer\n",
      "  good_matches_kp_idx = np.insert(good_matches[good_matches_ref_kp],True,good_matches_ref_kp)\n"
     ]
    },
    {
     "name": "stdout",
     "output_type": "stream",
     "text": [
      "3.0 Error Rate:\n",
      "   3.0 : Done with 68, in 343.313 seconds. Error rate 0.118\n"
     ]
    },
    {
     "name": "stderr",
     "output_type": "stream",
     "text": [
      "/srv/jaybie/archive/spatial-privacy-master/nn_matchers.py:773: FutureWarning: in the future insert will treat boolean arrays and array-likes as a boolean index instead of casting it to integer\n",
      "  good_matches_kp_idx = np.insert(good_matches[good_matches_ref_kp],True,good_matches_ref_kp)\n"
     ]
    },
    {
     "name": "stdout",
     "output_type": "stream",
     "text": [
      "3.0 Error Rate:\n",
      "   3.0 : Done with 134, in 337.608 seconds. Error rate 0.112\n"
     ]
    },
    {
     "name": "stderr",
     "output_type": "stream",
     "text": [
      "/srv/jaybie/archive/spatial-privacy-master/nn_matchers.py:773: FutureWarning: in the future insert will treat boolean arrays and array-likes as a boolean index instead of casting it to integer\n",
      "  good_matches_kp_idx = np.insert(good_matches[good_matches_ref_kp],True,good_matches_ref_kp)\n"
     ]
    },
    {
     "name": "stdout",
     "output_type": "stream",
     "text": [
      "3.0 Error Rate:\n",
      "   3.0 : Done with 200, in 340.138 seconds. Error rate 0.110\n"
     ]
    },
    {
     "name": "stderr",
     "output_type": "stream",
     "text": [
      "/srv/jaybie/archive/spatial-privacy-master/nn_matchers.py:773: FutureWarning: in the future insert will treat boolean arrays and array-likes as a boolean index instead of casting it to integer\n",
      "  good_matches_kp_idx = np.insert(good_matches[good_matches_ref_kp],True,good_matches_ref_kp)\n"
     ]
    },
    {
     "name": "stdout",
     "output_type": "stream",
     "text": [
      "3.0 Error Rate:\n",
      "   3.0 : Done with 266, in 359.197 seconds. Error rate 0.098\n"
     ]
    },
    {
     "name": "stderr",
     "output_type": "stream",
     "text": [
      "/srv/jaybie/archive/spatial-privacy-master/nn_matchers.py:773: FutureWarning: in the future insert will treat boolean arrays and array-likes as a boolean index instead of casting it to integer\n",
      "  good_matches_kp_idx = np.insert(good_matches[good_matches_ref_kp],True,good_matches_ref_kp)\n"
     ]
    },
    {
     "name": "stdout",
     "output_type": "stream",
     "text": [
      "3.0 Error Rate:\n",
      "   3.0 : Done with 332, in 380.606 seconds. Error rate 0.099\n"
     ]
    },
    {
     "name": "stderr",
     "output_type": "stream",
     "text": [
      "/srv/jaybie/archive/spatial-privacy-master/nn_matchers.py:773: FutureWarning: in the future insert will treat boolean arrays and array-likes as a boolean index instead of casting it to integer\n",
      "  good_matches_kp_idx = np.insert(good_matches[good_matches_ref_kp],True,good_matches_ref_kp)\n"
     ]
    },
    {
     "name": "stdout",
     "output_type": "stream",
     "text": [
      "3.0 Error Rate:\n",
      "   3.0 : Done with 398, in 483.879 seconds. Error rate 0.101\n"
     ]
    },
    {
     "name": "stderr",
     "output_type": "stream",
     "text": [
      "/srv/jaybie/archive/spatial-privacy-master/nn_matchers.py:773: FutureWarning: in the future insert will treat boolean arrays and array-likes as a boolean index instead of casting it to integer\n",
      "  good_matches_kp_idx = np.insert(good_matches[good_matches_ref_kp],True,good_matches_ref_kp)\n"
     ]
    },
    {
     "name": "stdout",
     "output_type": "stream",
     "text": [
      "3.0 Error Rate:\n",
      "   3.0 : Done with 464, in 449.420 seconds. Error rate 0.101\n"
     ]
    },
    {
     "name": "stderr",
     "output_type": "stream",
     "text": [
      "/srv/jaybie/archive/spatial-privacy-master/nn_matchers.py:773: FutureWarning: in the future insert will treat boolean arrays and array-likes as a boolean index instead of casting it to integer\n",
      "  good_matches_kp_idx = np.insert(good_matches[good_matches_ref_kp],True,good_matches_ref_kp)\n"
     ]
    },
    {
     "name": "stdout",
     "output_type": "stream",
     "text": [
      "3.0 Error Rate:\n",
      "   3.0 : Done with 530, in 496.616 seconds. Error rate 0.100\n"
     ]
    },
    {
     "name": "stderr",
     "output_type": "stream",
     "text": [
      "/srv/jaybie/archive/spatial-privacy-master/nn_matchers.py:773: FutureWarning: in the future insert will treat boolean arrays and array-likes as a boolean index instead of casting it to integer\n",
      "  good_matches_kp_idx = np.insert(good_matches[good_matches_ref_kp],True,good_matches_ref_kp)\n"
     ]
    },
    {
     "name": "stdout",
     "output_type": "stream",
     "text": [
      "3.0 Error Rate:\n",
      "   3.0 : Done with 596, in 421.354 seconds. Error rate 0.102\n"
     ]
    },
    {
     "name": "stderr",
     "output_type": "stream",
     "text": [
      "/srv/jaybie/archive/spatial-privacy-master/nn_matchers.py:773: FutureWarning: in the future insert will treat boolean arrays and array-likes as a boolean index instead of casting it to integer\n",
      "  good_matches_kp_idx = np.insert(good_matches[good_matches_ref_kp],True,good_matches_ref_kp)\n"
     ]
    },
    {
     "name": "stdout",
     "output_type": "stream",
     "text": [
      "3.0 Error Rate:\n",
      "   3.0 : Done with 662, in 438.558 seconds. Error rate 0.100\n"
     ]
    },
    {
     "name": "stderr",
     "output_type": "stream",
     "text": [
      "/srv/jaybie/archive/spatial-privacy-master/nn_matchers.py:773: FutureWarning: in the future insert will treat boolean arrays and array-likes as a boolean index instead of casting it to integer\n",
      "  good_matches_kp_idx = np.insert(good_matches[good_matches_ref_kp],True,good_matches_ref_kp)\n"
     ]
    },
    {
     "name": "stdout",
     "output_type": "stream",
     "text": [
      "3.0 Error Rate:\n",
      "   3.0 : Done with 728, in 407.007 seconds. Error rate 0.100\n"
     ]
    },
    {
     "name": "stderr",
     "output_type": "stream",
     "text": [
      "/srv/jaybie/archive/spatial-privacy-master/nn_matchers.py:773: FutureWarning: in the future insert will treat boolean arrays and array-likes as a boolean index instead of casting it to integer\n",
      "  good_matches_kp_idx = np.insert(good_matches[good_matches_ref_kp],True,good_matches_ref_kp)\n"
     ]
    },
    {
     "name": "stdout",
     "output_type": "stream",
     "text": [
      "3.0 Error Rate:\n",
      "   3.0 : Done with 794, in 451.632 seconds. Error rate 0.099\n"
     ]
    },
    {
     "name": "stderr",
     "output_type": "stream",
     "text": [
      "/srv/jaybie/archive/spatial-privacy-master/nn_matchers.py:773: FutureWarning: in the future insert will treat boolean arrays and array-likes as a boolean index instead of casting it to integer\n",
      "  good_matches_kp_idx = np.insert(good_matches[good_matches_ref_kp],True,good_matches_ref_kp)\n"
     ]
    },
    {
     "name": "stdout",
     "output_type": "stream",
     "text": [
      "3.0 Error Rate:\n",
      "   3.0 : Done with 860, in 441.112 seconds. Error rate 0.100\n"
     ]
    },
    {
     "name": "stderr",
     "output_type": "stream",
     "text": [
      "/srv/jaybie/archive/spatial-privacy-master/nn_matchers.py:773: FutureWarning: in the future insert will treat boolean arrays and array-likes as a boolean index instead of casting it to integer\n",
      "  good_matches_kp_idx = np.insert(good_matches[good_matches_ref_kp],True,good_matches_ref_kp)\n"
     ]
    },
    {
     "name": "stdout",
     "output_type": "stream",
     "text": [
      "3.0 Error Rate:\n",
      "   3.0 : Done with 926, in 454.538 seconds. Error rate 0.098\n"
     ]
    },
    {
     "name": "stderr",
     "output_type": "stream",
     "text": [
      "/srv/jaybie/archive/spatial-privacy-master/nn_matchers.py:773: FutureWarning: in the future insert will treat boolean arrays and array-likes as a boolean index instead of casting it to integer\n",
      "  good_matches_kp_idx = np.insert(good_matches[good_matches_ref_kp],True,good_matches_ref_kp)\n"
     ]
    },
    {
     "name": "stdout",
     "output_type": "stream",
     "text": [
      "3.0 Error Rate:\n",
      "   3.0 : Done with 992, in 457.486 seconds. Error rate 0.099\n",
      "3.0  Total Time to match 6460.929 seconds.\n",
      "radius = 3.5\n"
     ]
    },
    {
     "name": "stderr",
     "output_type": "stream",
     "text": [
      "/srv/jaybie/archive/spatial-privacy-master/nn_matchers.py:773: FutureWarning: in the future insert will treat boolean arrays and array-likes as a boolean index instead of casting it to integer\n",
      "  good_matches_kp_idx = np.insert(good_matches[good_matches_ref_kp],True,good_matches_ref_kp)\n"
     ]
    },
    {
     "name": "stdout",
     "output_type": "stream",
     "text": [
      "3.5 Error Rate:\n",
      "   3.5 : Done with 2, in 7.989 seconds. Error rate 0.000\n"
     ]
    },
    {
     "name": "stderr",
     "output_type": "stream",
     "text": [
      "/srv/jaybie/archive/spatial-privacy-master/nn_matchers.py:773: FutureWarning: in the future insert will treat boolean arrays and array-likes as a boolean index instead of casting it to integer\n",
      "  good_matches_kp_idx = np.insert(good_matches[good_matches_ref_kp],True,good_matches_ref_kp)\n"
     ]
    },
    {
     "name": "stdout",
     "output_type": "stream",
     "text": [
      "3.5 Error Rate:\n",
      "   3.5 : Done with 68, in 466.284 seconds. Error rate 0.103\n"
     ]
    },
    {
     "name": "stderr",
     "output_type": "stream",
     "text": [
      "/srv/jaybie/archive/spatial-privacy-master/nn_matchers.py:773: FutureWarning: in the future insert will treat boolean arrays and array-likes as a boolean index instead of casting it to integer\n",
      "  good_matches_kp_idx = np.insert(good_matches[good_matches_ref_kp],True,good_matches_ref_kp)\n"
     ]
    },
    {
     "name": "stdout",
     "output_type": "stream",
     "text": [
      "3.5 Error Rate:\n",
      "   3.5 : Done with 134, in 434.406 seconds. Error rate 0.104\n"
     ]
    },
    {
     "name": "stderr",
     "output_type": "stream",
     "text": [
      "/srv/jaybie/archive/spatial-privacy-master/nn_matchers.py:773: FutureWarning: in the future insert will treat boolean arrays and array-likes as a boolean index instead of casting it to integer\n",
      "  good_matches_kp_idx = np.insert(good_matches[good_matches_ref_kp],True,good_matches_ref_kp)\n"
     ]
    },
    {
     "name": "stdout",
     "output_type": "stream",
     "text": [
      "3.5 Error Rate:\n",
      "   3.5 : Done with 200, in 449.930 seconds. Error rate 0.075\n"
     ]
    },
    {
     "name": "stderr",
     "output_type": "stream",
     "text": [
      "/srv/jaybie/archive/spatial-privacy-master/nn_matchers.py:773: FutureWarning: in the future insert will treat boolean arrays and array-likes as a boolean index instead of casting it to integer\n",
      "  good_matches_kp_idx = np.insert(good_matches[good_matches_ref_kp],True,good_matches_ref_kp)\n"
     ]
    },
    {
     "name": "stdout",
     "output_type": "stream",
     "text": [
      "3.5 Error Rate:\n",
      "   3.5 : Done with 266, in 475.856 seconds. Error rate 0.068\n"
     ]
    },
    {
     "name": "stderr",
     "output_type": "stream",
     "text": [
      "/srv/jaybie/archive/spatial-privacy-master/nn_matchers.py:773: FutureWarning: in the future insert will treat boolean arrays and array-likes as a boolean index instead of casting it to integer\n",
      "  good_matches_kp_idx = np.insert(good_matches[good_matches_ref_kp],True,good_matches_ref_kp)\n"
     ]
    },
    {
     "name": "stdout",
     "output_type": "stream",
     "text": [
      "3.5 Error Rate:\n",
      "   3.5 : Done with 332, in 509.021 seconds. Error rate 0.078\n"
     ]
    },
    {
     "name": "stderr",
     "output_type": "stream",
     "text": [
      "/srv/jaybie/archive/spatial-privacy-master/nn_matchers.py:773: FutureWarning: in the future insert will treat boolean arrays and array-likes as a boolean index instead of casting it to integer\n",
      "  good_matches_kp_idx = np.insert(good_matches[good_matches_ref_kp],True,good_matches_ref_kp)\n"
     ]
    },
    {
     "name": "stdout",
     "output_type": "stream",
     "text": [
      "3.5 Error Rate:\n",
      "   3.5 : Done with 398, in 561.559 seconds. Error rate 0.078\n"
     ]
    },
    {
     "name": "stderr",
     "output_type": "stream",
     "text": [
      "/srv/jaybie/archive/spatial-privacy-master/nn_matchers.py:773: FutureWarning: in the future insert will treat boolean arrays and array-likes as a boolean index instead of casting it to integer\n",
      "  good_matches_kp_idx = np.insert(good_matches[good_matches_ref_kp],True,good_matches_ref_kp)\n"
     ]
    },
    {
     "name": "stdout",
     "output_type": "stream",
     "text": [
      "3.5 Error Rate:\n",
      "   3.5 : Done with 464, in 513.930 seconds. Error rate 0.080\n"
     ]
    },
    {
     "name": "stderr",
     "output_type": "stream",
     "text": [
      "/srv/jaybie/archive/spatial-privacy-master/nn_matchers.py:773: FutureWarning: in the future insert will treat boolean arrays and array-likes as a boolean index instead of casting it to integer\n",
      "  good_matches_kp_idx = np.insert(good_matches[good_matches_ref_kp],True,good_matches_ref_kp)\n"
     ]
    },
    {
     "name": "stdout",
     "output_type": "stream",
     "text": [
      "3.5 Error Rate:\n",
      "   3.5 : Done with 530, in 575.751 seconds. Error rate 0.079\n"
     ]
    },
    {
     "name": "stderr",
     "output_type": "stream",
     "text": [
      "/srv/jaybie/archive/spatial-privacy-master/nn_matchers.py:773: FutureWarning: in the future insert will treat boolean arrays and array-likes as a boolean index instead of casting it to integer\n",
      "  good_matches_kp_idx = np.insert(good_matches[good_matches_ref_kp],True,good_matches_ref_kp)\n"
     ]
    },
    {
     "name": "stdout",
     "output_type": "stream",
     "text": [
      "3.5 Error Rate:\n",
      "   3.5 : Done with 596, in 558.232 seconds. Error rate 0.084\n"
     ]
    },
    {
     "name": "stderr",
     "output_type": "stream",
     "text": [
      "/srv/jaybie/archive/spatial-privacy-master/nn_matchers.py:773: FutureWarning: in the future insert will treat boolean arrays and array-likes as a boolean index instead of casting it to integer\n",
      "  good_matches_kp_idx = np.insert(good_matches[good_matches_ref_kp],True,good_matches_ref_kp)\n"
     ]
    },
    {
     "name": "stdout",
     "output_type": "stream",
     "text": [
      "3.5 Error Rate:\n",
      "   3.5 : Done with 662, in 582.237 seconds. Error rate 0.083\n"
     ]
    },
    {
     "name": "stderr",
     "output_type": "stream",
     "text": [
      "/srv/jaybie/archive/spatial-privacy-master/nn_matchers.py:773: FutureWarning: in the future insert will treat boolean arrays and array-likes as a boolean index instead of casting it to integer\n",
      "  good_matches_kp_idx = np.insert(good_matches[good_matches_ref_kp],True,good_matches_ref_kp)\n"
     ]
    },
    {
     "name": "stdout",
     "output_type": "stream",
     "text": [
      "3.5 Error Rate:\n",
      "   3.5 : Done with 728, in 532.270 seconds. Error rate 0.078\n"
     ]
    },
    {
     "name": "stderr",
     "output_type": "stream",
     "text": [
      "/srv/jaybie/archive/spatial-privacy-master/nn_matchers.py:773: FutureWarning: in the future insert will treat boolean arrays and array-likes as a boolean index instead of casting it to integer\n",
      "  good_matches_kp_idx = np.insert(good_matches[good_matches_ref_kp],True,good_matches_ref_kp)\n"
     ]
    },
    {
     "name": "stdout",
     "output_type": "stream",
     "text": [
      "3.5 Error Rate:\n",
      "   3.5 : Done with 794, in 608.979 seconds. Error rate 0.077\n"
     ]
    },
    {
     "name": "stderr",
     "output_type": "stream",
     "text": [
      "/srv/jaybie/archive/spatial-privacy-master/nn_matchers.py:773: FutureWarning: in the future insert will treat boolean arrays and array-likes as a boolean index instead of casting it to integer\n",
      "  good_matches_kp_idx = np.insert(good_matches[good_matches_ref_kp],True,good_matches_ref_kp)\n"
     ]
    },
    {
     "name": "stdout",
     "output_type": "stream",
     "text": [
      "3.5 Error Rate:\n",
      "   3.5 : Done with 860, in 593.087 seconds. Error rate 0.073\n"
     ]
    },
    {
     "name": "stderr",
     "output_type": "stream",
     "text": [
      "/srv/jaybie/archive/spatial-privacy-master/nn_matchers.py:773: FutureWarning: in the future insert will treat boolean arrays and array-likes as a boolean index instead of casting it to integer\n",
      "  good_matches_kp_idx = np.insert(good_matches[good_matches_ref_kp],True,good_matches_ref_kp)\n"
     ]
    },
    {
     "name": "stdout",
     "output_type": "stream",
     "text": [
      "3.5 Error Rate:\n",
      "   3.5 : Done with 926, in 613.406 seconds. Error rate 0.077\n"
     ]
    },
    {
     "name": "stderr",
     "output_type": "stream",
     "text": [
      "/srv/jaybie/archive/spatial-privacy-master/nn_matchers.py:773: FutureWarning: in the future insert will treat boolean arrays and array-likes as a boolean index instead of casting it to integer\n",
      "  good_matches_kp_idx = np.insert(good_matches[good_matches_ref_kp],True,good_matches_ref_kp)\n"
     ]
    },
    {
     "name": "stdout",
     "output_type": "stream",
     "text": [
      "3.5 Error Rate:\n",
      "   3.5 : Done with 992, in 604.391 seconds. Error rate 0.077\n",
      "3.5  Total Time to match 8330.484 seconds.\n",
      "radius = 4.0\n"
     ]
    },
    {
     "name": "stderr",
     "output_type": "stream",
     "text": [
      "/srv/jaybie/archive/spatial-privacy-master/nn_matchers.py:773: FutureWarning: in the future insert will treat boolean arrays and array-likes as a boolean index instead of casting it to integer\n",
      "  good_matches_kp_idx = np.insert(good_matches[good_matches_ref_kp],True,good_matches_ref_kp)\n"
     ]
    },
    {
     "name": "stdout",
     "output_type": "stream",
     "text": [
      "4.0 Error Rate:\n",
      "   4.0 : Done with 2, in 10.081 seconds. Error rate 0.000\n"
     ]
    },
    {
     "name": "stderr",
     "output_type": "stream",
     "text": [
      "/srv/jaybie/archive/spatial-privacy-master/nn_matchers.py:773: FutureWarning: in the future insert will treat boolean arrays and array-likes as a boolean index instead of casting it to integer\n",
      "  good_matches_kp_idx = np.insert(good_matches[good_matches_ref_kp],True,good_matches_ref_kp)\n"
     ]
    },
    {
     "name": "stdout",
     "output_type": "stream",
     "text": [
      "4.0 Error Rate:\n",
      "   4.0 : Done with 68, in 578.125 seconds. Error rate 0.074\n"
     ]
    },
    {
     "name": "stderr",
     "output_type": "stream",
     "text": [
      "/srv/jaybie/archive/spatial-privacy-master/nn_matchers.py:773: FutureWarning: in the future insert will treat boolean arrays and array-likes as a boolean index instead of casting it to integer\n",
      "  good_matches_kp_idx = np.insert(good_matches[good_matches_ref_kp],True,good_matches_ref_kp)\n"
     ]
    },
    {
     "name": "stdout",
     "output_type": "stream",
     "text": [
      "4.0 Error Rate:\n",
      "   4.0 : Done with 134, in 556.558 seconds. Error rate 0.060\n"
     ]
    },
    {
     "name": "stderr",
     "output_type": "stream",
     "text": [
      "/srv/jaybie/archive/spatial-privacy-master/nn_matchers.py:773: FutureWarning: in the future insert will treat boolean arrays and array-likes as a boolean index instead of casting it to integer\n",
      "  good_matches_kp_idx = np.insert(good_matches[good_matches_ref_kp],True,good_matches_ref_kp)\n"
     ]
    },
    {
     "name": "stdout",
     "output_type": "stream",
     "text": [
      "4.0 Error Rate:\n",
      "   4.0 : Done with 200, in 547.347 seconds. Error rate 0.075\n"
     ]
    },
    {
     "name": "stderr",
     "output_type": "stream",
     "text": [
      "/srv/jaybie/archive/spatial-privacy-master/nn_matchers.py:773: FutureWarning: in the future insert will treat boolean arrays and array-likes as a boolean index instead of casting it to integer\n",
      "  good_matches_kp_idx = np.insert(good_matches[good_matches_ref_kp],True,good_matches_ref_kp)\n"
     ]
    },
    {
     "name": "stdout",
     "output_type": "stream",
     "text": [
      "4.0 Error Rate:\n",
      "   4.0 : Done with 266, in 567.160 seconds. Error rate 0.071\n"
     ]
    },
    {
     "name": "stderr",
     "output_type": "stream",
     "text": [
      "/srv/jaybie/archive/spatial-privacy-master/nn_matchers.py:773: FutureWarning: in the future insert will treat boolean arrays and array-likes as a boolean index instead of casting it to integer\n",
      "  good_matches_kp_idx = np.insert(good_matches[good_matches_ref_kp],True,good_matches_ref_kp)\n"
     ]
    },
    {
     "name": "stdout",
     "output_type": "stream",
     "text": [
      "4.0 Error Rate:\n",
      "   4.0 : Done with 332, in 621.556 seconds. Error rate 0.066\n"
     ]
    },
    {
     "name": "stderr",
     "output_type": "stream",
     "text": [
      "/srv/jaybie/archive/spatial-privacy-master/nn_matchers.py:773: FutureWarning: in the future insert will treat boolean arrays and array-likes as a boolean index instead of casting it to integer\n",
      "  good_matches_kp_idx = np.insert(good_matches[good_matches_ref_kp],True,good_matches_ref_kp)\n"
     ]
    },
    {
     "name": "stdout",
     "output_type": "stream",
     "text": [
      "4.0 Error Rate:\n",
      "   4.0 : Done with 398, in 674.441 seconds. Error rate 0.070\n"
     ]
    },
    {
     "name": "stderr",
     "output_type": "stream",
     "text": [
      "/srv/jaybie/archive/spatial-privacy-master/nn_matchers.py:773: FutureWarning: in the future insert will treat boolean arrays and array-likes as a boolean index instead of casting it to integer\n",
      "  good_matches_kp_idx = np.insert(good_matches[good_matches_ref_kp],True,good_matches_ref_kp)\n"
     ]
    },
    {
     "name": "stdout",
     "output_type": "stream",
     "text": [
      "4.0 Error Rate:\n",
      "   4.0 : Done with 464, in 640.660 seconds. Error rate 0.073\n"
     ]
    },
    {
     "name": "stderr",
     "output_type": "stream",
     "text": [
      "/srv/jaybie/archive/spatial-privacy-master/nn_matchers.py:773: FutureWarning: in the future insert will treat boolean arrays and array-likes as a boolean index instead of casting it to integer\n",
      "  good_matches_kp_idx = np.insert(good_matches[good_matches_ref_kp],True,good_matches_ref_kp)\n"
     ]
    },
    {
     "name": "stdout",
     "output_type": "stream",
     "text": [
      "4.0 Error Rate:\n",
      "   4.0 : Done with 530, in 689.364 seconds. Error rate 0.074\n"
     ]
    },
    {
     "name": "stderr",
     "output_type": "stream",
     "text": [
      "/srv/jaybie/archive/spatial-privacy-master/nn_matchers.py:773: FutureWarning: in the future insert will treat boolean arrays and array-likes as a boolean index instead of casting it to integer\n",
      "  good_matches_kp_idx = np.insert(good_matches[good_matches_ref_kp],True,good_matches_ref_kp)\n"
     ]
    },
    {
     "name": "stdout",
     "output_type": "stream",
     "text": [
      "4.0 Error Rate:\n",
      "   4.0 : Done with 596, in 656.670 seconds. Error rate 0.074\n"
     ]
    },
    {
     "name": "stderr",
     "output_type": "stream",
     "text": [
      "/srv/jaybie/archive/spatial-privacy-master/nn_matchers.py:773: FutureWarning: in the future insert will treat boolean arrays and array-likes as a boolean index instead of casting it to integer\n",
      "  good_matches_kp_idx = np.insert(good_matches[good_matches_ref_kp],True,good_matches_ref_kp)\n"
     ]
    },
    {
     "name": "stdout",
     "output_type": "stream",
     "text": [
      "4.0 Error Rate:\n",
      "   4.0 : Done with 662, in 706.713 seconds. Error rate 0.073\n"
     ]
    },
    {
     "name": "stderr",
     "output_type": "stream",
     "text": [
      "/srv/jaybie/archive/spatial-privacy-master/nn_matchers.py:773: FutureWarning: in the future insert will treat boolean arrays and array-likes as a boolean index instead of casting it to integer\n",
      "  good_matches_kp_idx = np.insert(good_matches[good_matches_ref_kp],True,good_matches_ref_kp)\n"
     ]
    },
    {
     "name": "stdout",
     "output_type": "stream",
     "text": [
      "4.0 Error Rate:\n",
      "   4.0 : Done with 728, in 647.880 seconds. Error rate 0.074\n"
     ]
    },
    {
     "name": "stderr",
     "output_type": "stream",
     "text": [
      "/srv/jaybie/archive/spatial-privacy-master/nn_matchers.py:773: FutureWarning: in the future insert will treat boolean arrays and array-likes as a boolean index instead of casting it to integer\n",
      "  good_matches_kp_idx = np.insert(good_matches[good_matches_ref_kp],True,good_matches_ref_kp)\n"
     ]
    },
    {
     "name": "stdout",
     "output_type": "stream",
     "text": [
      "4.0 Error Rate:\n",
      "   4.0 : Done with 794, in 733.216 seconds. Error rate 0.078\n"
     ]
    },
    {
     "name": "stderr",
     "output_type": "stream",
     "text": [
      "/srv/jaybie/archive/spatial-privacy-master/nn_matchers.py:773: FutureWarning: in the future insert will treat boolean arrays and array-likes as a boolean index instead of casting it to integer\n",
      "  good_matches_kp_idx = np.insert(good_matches[good_matches_ref_kp],True,good_matches_ref_kp)\n"
     ]
    },
    {
     "name": "stdout",
     "output_type": "stream",
     "text": [
      "4.0 Error Rate:\n",
      "   4.0 : Done with 860, in 709.232 seconds. Error rate 0.078\n"
     ]
    },
    {
     "name": "stderr",
     "output_type": "stream",
     "text": [
      "/srv/jaybie/archive/spatial-privacy-master/nn_matchers.py:773: FutureWarning: in the future insert will treat boolean arrays and array-likes as a boolean index instead of casting it to integer\n",
      "  good_matches_kp_idx = np.insert(good_matches[good_matches_ref_kp],True,good_matches_ref_kp)\n"
     ]
    },
    {
     "name": "stdout",
     "output_type": "stream",
     "text": [
      "4.0 Error Rate:\n",
      "   4.0 : Done with 926, in 728.792 seconds. Error rate 0.079\n"
     ]
    },
    {
     "name": "stderr",
     "output_type": "stream",
     "text": [
      "/srv/jaybie/archive/spatial-privacy-master/nn_matchers.py:773: FutureWarning: in the future insert will treat boolean arrays and array-likes as a boolean index instead of casting it to integer\n",
      "  good_matches_kp_idx = np.insert(good_matches[good_matches_ref_kp],True,good_matches_ref_kp)\n"
     ]
    },
    {
     "name": "stdout",
     "output_type": "stream",
     "text": [
      "4.0 Error Rate:\n",
      "   4.0 : Done with 992, in 740.543 seconds. Error rate 0.082\n",
      "4.0  Total Time to match 10093.982 seconds.\n",
      "radius = 4.5\n"
     ]
    },
    {
     "name": "stderr",
     "output_type": "stream",
     "text": [
      "/srv/jaybie/archive/spatial-privacy-master/nn_matchers.py:773: FutureWarning: in the future insert will treat boolean arrays and array-likes as a boolean index instead of casting it to integer\n",
      "  good_matches_kp_idx = np.insert(good_matches[good_matches_ref_kp],True,good_matches_ref_kp)\n"
     ]
    },
    {
     "name": "stdout",
     "output_type": "stream",
     "text": [
      "4.5 Error Rate:\n",
      "   4.5 : Done with 2, in 12.216 seconds. Error rate 0.000\n"
     ]
    },
    {
     "name": "stderr",
     "output_type": "stream",
     "text": [
      "/srv/jaybie/archive/spatial-privacy-master/nn_matchers.py:773: FutureWarning: in the future insert will treat boolean arrays and array-likes as a boolean index instead of casting it to integer\n",
      "  good_matches_kp_idx = np.insert(good_matches[good_matches_ref_kp],True,good_matches_ref_kp)\n"
     ]
    },
    {
     "name": "stdout",
     "output_type": "stream",
     "text": [
      "4.5 Error Rate:\n",
      "   4.5 : Done with 68, in 678.452 seconds. Error rate 0.103\n"
     ]
    },
    {
     "name": "stderr",
     "output_type": "stream",
     "text": [
      "/srv/jaybie/archive/spatial-privacy-master/nn_matchers.py:773: FutureWarning: in the future insert will treat boolean arrays and array-likes as a boolean index instead of casting it to integer\n",
      "  good_matches_kp_idx = np.insert(good_matches[good_matches_ref_kp],True,good_matches_ref_kp)\n"
     ]
    },
    {
     "name": "stdout",
     "output_type": "stream",
     "text": [
      "4.5 Error Rate:\n",
      "   4.5 : Done with 134, in 653.481 seconds. Error rate 0.067\n"
     ]
    },
    {
     "name": "stderr",
     "output_type": "stream",
     "text": [
      "/srv/jaybie/archive/spatial-privacy-master/nn_matchers.py:773: FutureWarning: in the future insert will treat boolean arrays and array-likes as a boolean index instead of casting it to integer\n",
      "  good_matches_kp_idx = np.insert(good_matches[good_matches_ref_kp],True,good_matches_ref_kp)\n"
     ]
    },
    {
     "name": "stdout",
     "output_type": "stream",
     "text": [
      "4.5 Error Rate:\n",
      "   4.5 : Done with 200, in 617.889 seconds. Error rate 0.075\n"
     ]
    },
    {
     "name": "stderr",
     "output_type": "stream",
     "text": [
      "/srv/jaybie/archive/spatial-privacy-master/nn_matchers.py:773: FutureWarning: in the future insert will treat boolean arrays and array-likes as a boolean index instead of casting it to integer\n",
      "  good_matches_kp_idx = np.insert(good_matches[good_matches_ref_kp],True,good_matches_ref_kp)\n"
     ]
    },
    {
     "name": "stdout",
     "output_type": "stream",
     "text": [
      "4.5 Error Rate:\n",
      "   4.5 : Done with 266, in 656.517 seconds. Error rate 0.075\n"
     ]
    },
    {
     "name": "stderr",
     "output_type": "stream",
     "text": [
      "/srv/jaybie/archive/spatial-privacy-master/nn_matchers.py:773: FutureWarning: in the future insert will treat boolean arrays and array-likes as a boolean index instead of casting it to integer\n",
      "  good_matches_kp_idx = np.insert(good_matches[good_matches_ref_kp],True,good_matches_ref_kp)\n"
     ]
    },
    {
     "name": "stdout",
     "output_type": "stream",
     "text": [
      "4.5 Error Rate:\n",
      "   4.5 : Done with 332, in 723.285 seconds. Error rate 0.081\n"
     ]
    },
    {
     "name": "stderr",
     "output_type": "stream",
     "text": [
      "/srv/jaybie/archive/spatial-privacy-master/nn_matchers.py:773: FutureWarning: in the future insert will treat boolean arrays and array-likes as a boolean index instead of casting it to integer\n",
      "  good_matches_kp_idx = np.insert(good_matches[good_matches_ref_kp],True,good_matches_ref_kp)\n"
     ]
    },
    {
     "name": "stdout",
     "output_type": "stream",
     "text": [
      "4.5 Error Rate:\n",
      "   4.5 : Done with 398, in 767.983 seconds. Error rate 0.083\n"
     ]
    },
    {
     "name": "stderr",
     "output_type": "stream",
     "text": [
      "/srv/jaybie/archive/spatial-privacy-master/nn_matchers.py:773: FutureWarning: in the future insert will treat boolean arrays and array-likes as a boolean index instead of casting it to integer\n",
      "  good_matches_kp_idx = np.insert(good_matches[good_matches_ref_kp],True,good_matches_ref_kp)\n"
     ]
    },
    {
     "name": "stdout",
     "output_type": "stream",
     "text": [
      "4.5 Error Rate:\n",
      "   4.5 : Done with 464, in 751.595 seconds. Error rate 0.082\n"
     ]
    },
    {
     "name": "stderr",
     "output_type": "stream",
     "text": [
      "/srv/jaybie/archive/spatial-privacy-master/nn_matchers.py:773: FutureWarning: in the future insert will treat boolean arrays and array-likes as a boolean index instead of casting it to integer\n",
      "  good_matches_kp_idx = np.insert(good_matches[good_matches_ref_kp],True,good_matches_ref_kp)\n"
     ]
    },
    {
     "name": "stdout",
     "output_type": "stream",
     "text": [
      "4.5 Error Rate:\n",
      "   4.5 : Done with 530, in 801.826 seconds. Error rate 0.077\n"
     ]
    },
    {
     "name": "stderr",
     "output_type": "stream",
     "text": [
      "/srv/jaybie/archive/spatial-privacy-master/nn_matchers.py:773: FutureWarning: in the future insert will treat boolean arrays and array-likes as a boolean index instead of casting it to integer\n",
      "  good_matches_kp_idx = np.insert(good_matches[good_matches_ref_kp],True,good_matches_ref_kp)\n"
     ]
    },
    {
     "name": "stdout",
     "output_type": "stream",
     "text": [
      "4.5 Error Rate:\n",
      "   4.5 : Done with 596, in 760.417 seconds. Error rate 0.077\n"
     ]
    },
    {
     "name": "stderr",
     "output_type": "stream",
     "text": [
      "/srv/jaybie/archive/spatial-privacy-master/nn_matchers.py:773: FutureWarning: in the future insert will treat boolean arrays and array-likes as a boolean index instead of casting it to integer\n",
      "  good_matches_kp_idx = np.insert(good_matches[good_matches_ref_kp],True,good_matches_ref_kp)\n"
     ]
    },
    {
     "name": "stdout",
     "output_type": "stream",
     "text": [
      "4.5 Error Rate:\n",
      "   4.5 : Done with 662, in 824.948 seconds. Error rate 0.074\n"
     ]
    },
    {
     "name": "stderr",
     "output_type": "stream",
     "text": [
      "/srv/jaybie/archive/spatial-privacy-master/nn_matchers.py:773: FutureWarning: in the future insert will treat boolean arrays and array-likes as a boolean index instead of casting it to integer\n",
      "  good_matches_kp_idx = np.insert(good_matches[good_matches_ref_kp],True,good_matches_ref_kp)\n"
     ]
    },
    {
     "name": "stdout",
     "output_type": "stream",
     "text": [
      "4.5 Error Rate:\n",
      "   4.5 : Done with 728, in 745.036 seconds. Error rate 0.073\n"
     ]
    },
    {
     "name": "stderr",
     "output_type": "stream",
     "text": [
      "/srv/jaybie/archive/spatial-privacy-master/nn_matchers.py:773: FutureWarning: in the future insert will treat boolean arrays and array-likes as a boolean index instead of casting it to integer\n",
      "  good_matches_kp_idx = np.insert(good_matches[good_matches_ref_kp],True,good_matches_ref_kp)\n"
     ]
    },
    {
     "name": "stdout",
     "output_type": "stream",
     "text": [
      "4.5 Error Rate:\n",
      "   4.5 : Done with 794, in 851.309 seconds. Error rate 0.074\n"
     ]
    },
    {
     "name": "stderr",
     "output_type": "stream",
     "text": [
      "/srv/jaybie/archive/spatial-privacy-master/nn_matchers.py:773: FutureWarning: in the future insert will treat boolean arrays and array-likes as a boolean index instead of casting it to integer\n",
      "  good_matches_kp_idx = np.insert(good_matches[good_matches_ref_kp],True,good_matches_ref_kp)\n"
     ]
    },
    {
     "name": "stdout",
     "output_type": "stream",
     "text": [
      "4.5 Error Rate:\n",
      "   4.5 : Done with 860, in 817.723 seconds. Error rate 0.073\n"
     ]
    },
    {
     "name": "stderr",
     "output_type": "stream",
     "text": [
      "/srv/jaybie/archive/spatial-privacy-master/nn_matchers.py:773: FutureWarning: in the future insert will treat boolean arrays and array-likes as a boolean index instead of casting it to integer\n",
      "  good_matches_kp_idx = np.insert(good_matches[good_matches_ref_kp],True,good_matches_ref_kp)\n"
     ]
    },
    {
     "name": "stdout",
     "output_type": "stream",
     "text": [
      "4.5 Error Rate:\n",
      "   4.5 : Done with 926, in 869.301 seconds. Error rate 0.077\n"
     ]
    },
    {
     "name": "stderr",
     "output_type": "stream",
     "text": [
      "/srv/jaybie/archive/spatial-privacy-master/nn_matchers.py:773: FutureWarning: in the future insert will treat boolean arrays and array-likes as a boolean index instead of casting it to integer\n",
      "  good_matches_kp_idx = np.insert(good_matches[good_matches_ref_kp],True,good_matches_ref_kp)\n"
     ]
    },
    {
     "name": "stdout",
     "output_type": "stream",
     "text": [
      "4.5 Error Rate:\n",
      "   4.5 : Done with 992, in 859.948 seconds. Error rate 0.078\n",
      "4.5  Total Time to match 11726.457 seconds.\n",
      "radius = 5.0\n"
     ]
    },
    {
     "name": "stderr",
     "output_type": "stream",
     "text": [
      "/srv/jaybie/archive/spatial-privacy-master/nn_matchers.py:773: FutureWarning: in the future insert will treat boolean arrays and array-likes as a boolean index instead of casting it to integer\n",
      "  good_matches_kp_idx = np.insert(good_matches[good_matches_ref_kp],True,good_matches_ref_kp)\n"
     ]
    },
    {
     "name": "stdout",
     "output_type": "stream",
     "text": [
      "5.0 Error Rate:\n",
      "   5.0 : Done with 2, in 14.782 seconds. Error rate 0.000\n"
     ]
    },
    {
     "name": "stderr",
     "output_type": "stream",
     "text": [
      "/srv/jaybie/archive/spatial-privacy-master/nn_matchers.py:773: FutureWarning: in the future insert will treat boolean arrays and array-likes as a boolean index instead of casting it to integer\n",
      "  good_matches_kp_idx = np.insert(good_matches[good_matches_ref_kp],True,good_matches_ref_kp)\n"
     ]
    },
    {
     "name": "stdout",
     "output_type": "stream",
     "text": [
      "5.0 Error Rate:\n",
      "   5.0 : Done with 68, in 715.862 seconds. Error rate 0.103\n"
     ]
    },
    {
     "name": "stderr",
     "output_type": "stream",
     "text": [
      "/srv/jaybie/archive/spatial-privacy-master/nn_matchers.py:773: FutureWarning: in the future insert will treat boolean arrays and array-likes as a boolean index instead of casting it to integer\n",
      "  good_matches_kp_idx = np.insert(good_matches[good_matches_ref_kp],True,good_matches_ref_kp)\n"
     ]
    },
    {
     "name": "stdout",
     "output_type": "stream",
     "text": [
      "5.0 Error Rate:\n",
      "   5.0 : Done with 134, in 732.443 seconds. Error rate 0.112\n"
     ]
    },
    {
     "name": "stderr",
     "output_type": "stream",
     "text": [
      "/srv/jaybie/archive/spatial-privacy-master/nn_matchers.py:773: FutureWarning: in the future insert will treat boolean arrays and array-likes as a boolean index instead of casting it to integer\n",
      "  good_matches_kp_idx = np.insert(good_matches[good_matches_ref_kp],True,good_matches_ref_kp)\n"
     ]
    },
    {
     "name": "stdout",
     "output_type": "stream",
     "text": [
      "5.0 Error Rate:\n",
      "   5.0 : Done with 200, in 686.804 seconds. Error rate 0.105\n"
     ]
    },
    {
     "name": "stderr",
     "output_type": "stream",
     "text": [
      "/srv/jaybie/archive/spatial-privacy-master/nn_matchers.py:773: FutureWarning: in the future insert will treat boolean arrays and array-likes as a boolean index instead of casting it to integer\n",
      "  good_matches_kp_idx = np.insert(good_matches[good_matches_ref_kp],True,good_matches_ref_kp)\n"
     ]
    },
    {
     "name": "stdout",
     "output_type": "stream",
     "text": [
      "5.0 Error Rate:\n",
      "   5.0 : Done with 266, in 736.149 seconds. Error rate 0.102\n"
     ]
    },
    {
     "name": "stderr",
     "output_type": "stream",
     "text": [
      "/srv/jaybie/archive/spatial-privacy-master/nn_matchers.py:773: FutureWarning: in the future insert will treat boolean arrays and array-likes as a boolean index instead of casting it to integer\n",
      "  good_matches_kp_idx = np.insert(good_matches[good_matches_ref_kp],True,good_matches_ref_kp)\n"
     ]
    },
    {
     "name": "stdout",
     "output_type": "stream",
     "text": [
      "5.0 Error Rate:\n",
      "   5.0 : Done with 332, in 814.508 seconds. Error rate 0.108\n"
     ]
    },
    {
     "name": "stderr",
     "output_type": "stream",
     "text": [
      "/srv/jaybie/archive/spatial-privacy-master/nn_matchers.py:773: FutureWarning: in the future insert will treat boolean arrays and array-likes as a boolean index instead of casting it to integer\n",
      "  good_matches_kp_idx = np.insert(good_matches[good_matches_ref_kp],True,good_matches_ref_kp)\n"
     ]
    },
    {
     "name": "stdout",
     "output_type": "stream",
     "text": [
      "5.0 Error Rate:\n",
      "   5.0 : Done with 398, in 841.780 seconds. Error rate 0.103\n"
     ]
    },
    {
     "name": "stderr",
     "output_type": "stream",
     "text": [
      "/srv/jaybie/archive/spatial-privacy-master/nn_matchers.py:773: FutureWarning: in the future insert will treat boolean arrays and array-likes as a boolean index instead of casting it to integer\n",
      "  good_matches_kp_idx = np.insert(good_matches[good_matches_ref_kp],True,good_matches_ref_kp)\n"
     ]
    },
    {
     "name": "stdout",
     "output_type": "stream",
     "text": [
      "5.0 Error Rate:\n",
      "   5.0 : Done with 464, in 859.260 seconds. Error rate 0.099\n"
     ]
    },
    {
     "name": "stderr",
     "output_type": "stream",
     "text": [
      "/srv/jaybie/archive/spatial-privacy-master/nn_matchers.py:773: FutureWarning: in the future insert will treat boolean arrays and array-likes as a boolean index instead of casting it to integer\n",
      "  good_matches_kp_idx = np.insert(good_matches[good_matches_ref_kp],True,good_matches_ref_kp)\n"
     ]
    },
    {
     "name": "stdout",
     "output_type": "stream",
     "text": [
      "5.0 Error Rate:\n",
      "   5.0 : Done with 530, in 865.050 seconds. Error rate 0.096\n"
     ]
    },
    {
     "name": "stderr",
     "output_type": "stream",
     "text": [
      "/srv/jaybie/archive/spatial-privacy-master/nn_matchers.py:773: FutureWarning: in the future insert will treat boolean arrays and array-likes as a boolean index instead of casting it to integer\n",
      "  good_matches_kp_idx = np.insert(good_matches[good_matches_ref_kp],True,good_matches_ref_kp)\n"
     ]
    },
    {
     "name": "stdout",
     "output_type": "stream",
     "text": [
      "5.0 Error Rate:\n",
      "   5.0 : Done with 596, in 847.439 seconds. Error rate 0.096\n"
     ]
    },
    {
     "name": "stderr",
     "output_type": "stream",
     "text": [
      "/srv/jaybie/archive/spatial-privacy-master/nn_matchers.py:773: FutureWarning: in the future insert will treat boolean arrays and array-likes as a boolean index instead of casting it to integer\n",
      "  good_matches_kp_idx = np.insert(good_matches[good_matches_ref_kp],True,good_matches_ref_kp)\n"
     ]
    },
    {
     "name": "stdout",
     "output_type": "stream",
     "text": [
      "5.0 Error Rate:\n",
      "   5.0 : Done with 662, in 889.947 seconds. Error rate 0.100\n"
     ]
    },
    {
     "name": "stderr",
     "output_type": "stream",
     "text": [
      "/srv/jaybie/archive/spatial-privacy-master/nn_matchers.py:773: FutureWarning: in the future insert will treat boolean arrays and array-likes as a boolean index instead of casting it to integer\n",
      "  good_matches_kp_idx = np.insert(good_matches[good_matches_ref_kp],True,good_matches_ref_kp)\n"
     ]
    },
    {
     "name": "stdout",
     "output_type": "stream",
     "text": [
      "5.0 Error Rate:\n",
      "   5.0 : Done with 728, in 837.874 seconds. Error rate 0.099\n"
     ]
    },
    {
     "name": "stderr",
     "output_type": "stream",
     "text": [
      "/srv/jaybie/archive/spatial-privacy-master/nn_matchers.py:773: FutureWarning: in the future insert will treat boolean arrays and array-likes as a boolean index instead of casting it to integer\n",
      "  good_matches_kp_idx = np.insert(good_matches[good_matches_ref_kp],True,good_matches_ref_kp)\n"
     ]
    },
    {
     "name": "stdout",
     "output_type": "stream",
     "text": [
      "5.0 Error Rate:\n",
      "   5.0 : Done with 794, in 950.987 seconds. Error rate 0.099\n"
     ]
    },
    {
     "name": "stderr",
     "output_type": "stream",
     "text": [
      "/srv/jaybie/archive/spatial-privacy-master/nn_matchers.py:773: FutureWarning: in the future insert will treat boolean arrays and array-likes as a boolean index instead of casting it to integer\n",
      "  good_matches_kp_idx = np.insert(good_matches[good_matches_ref_kp],True,good_matches_ref_kp)\n"
     ]
    },
    {
     "name": "stdout",
     "output_type": "stream",
     "text": [
      "5.0 Error Rate:\n",
      "   5.0 : Done with 860, in 903.738 seconds. Error rate 0.099\n"
     ]
    },
    {
     "name": "stderr",
     "output_type": "stream",
     "text": [
      "/srv/jaybie/archive/spatial-privacy-master/nn_matchers.py:773: FutureWarning: in the future insert will treat boolean arrays and array-likes as a boolean index instead of casting it to integer\n",
      "  good_matches_kp_idx = np.insert(good_matches[good_matches_ref_kp],True,good_matches_ref_kp)\n"
     ]
    },
    {
     "name": "stdout",
     "output_type": "stream",
     "text": [
      "5.0 Error Rate:\n",
      "   5.0 : Done with 926, in 958.625 seconds. Error rate 0.099\n"
     ]
    },
    {
     "name": "stderr",
     "output_type": "stream",
     "text": [
      "/srv/jaybie/archive/spatial-privacy-master/nn_matchers.py:773: FutureWarning: in the future insert will treat boolean arrays and array-likes as a boolean index instead of casting it to integer\n",
      "  good_matches_kp_idx = np.insert(good_matches[good_matches_ref_kp],True,good_matches_ref_kp)\n"
     ]
    },
    {
     "name": "stdout",
     "output_type": "stream",
     "text": [
      "5.0 Error Rate:\n",
      "   5.0 : Done with 992, in 944.673 seconds. Error rate 0.100\n",
      "5.0  Total Time to match 12961.571 seconds.\n"
     ]
    }
   ],
   "source": [
    "descriptors = descriptors\n",
    "\n",
    "for radius in np.arange(0.5,5.1,0.5):\n",
    "    \n",
    "    t0 = time.time()\n",
    "    t1 = time.time()\n",
    "    \n",
    "    partial_scores_pool = []\n",
    "    \n",
    "    print(\"radius =\",radius)\n",
    "    \n",
    "    for obj_, object_name, original_vertex in sample_points: #[s_i]\n",
    "        \n",
    "        pointCloud = []\n",
    "        \n",
    "        try:\n",
    "            trial = np.random.randint(5)\n",
    "            \n",
    "            with open(\"../ransac_pc/ransac_point_collection_{}.pickle\".format(trial),'rb') as f:\n",
    "                ransac_trial_point_collection = pickle.load(f)\n",
    "\n",
    "            object_, pointCloud_, tri_ = ransac_trial_point_collection[int(obj_)]\n",
    "            \n",
    "            ransac_nbrs = NearestNeighbors(n_neighbors=min(20000,len(pointCloud_)), algorithm='kd_tree').fit(pointCloud_[:,:3])\n",
    "            \n",
    "            dist_, ind_ = ransac_nbrs.kneighbors([original_vertex[:3]])\n",
    "            pointCloud =  pointCloud_[ind_[0,np.where(dist_[0,:]<=radius)[0]]]\n",
    "        except:\n",
    "            print(\"Can't get ransac samples for\",trial,obj_meta[0],dist_.shape,ind_.shape)\n",
    "            continue\n",
    "            \n",
    "        #if len(gen_planes) == 0: continue\n",
    "        if len(pointCloud) == 0: continue\n",
    "\n",
    "        local_keypoint_matches = []\n",
    "\n",
    "        try:\n",
    "            obj_meta, diff_ratios, diff_indexs, diff_scores, local_keypoint_matches = get_score_kdtree_lean(\n",
    "                [obj_, object_name, original_vertex], \n",
    "                pointCloud, \n",
    "                descriptors,\n",
    "                desc_new=True,\n",
    "                old = True\n",
    "            )\n",
    "            \n",
    "        except Exception as ex:\n",
    "            print(ex)\n",
    "            print(\"skipped\",object_name)\n",
    "            continue\n",
    "        \n",
    "        if len(local_keypoint_matches) == 0: \n",
    "            print(\"skipped\",object_name)\n",
    "            continue\n",
    "\n",
    "        partial_scores_pool.append([\n",
    "            [obj_, object_name, original_vertex], \n",
    "            diff_ratios,\n",
    "            diff_indexs,\n",
    "            diff_scores,\n",
    "            local_keypoint_matches\n",
    "        ])\n",
    "\n",
    "        if len(partial_scores_pool) % 66 == 2:\n",
    "            \n",
    "            partial_errors_pool = NN_matcher(partial_scores_pool)\n",
    "            print(radius,\"Error Rate:\",)\n",
    "            \n",
    "            print(\"  \",radius,\": Done with {}, in {:.3f} seconds. Error rate {:.3f}\".format(\n",
    "                len(partial_scores_pool),\n",
    "                time.time()-t1,\n",
    "                np.sum(partial_errors_pool[:,1])/len(partial_scores_pool)\n",
    "            ))\n",
    "\n",
    "            t1  = time.time()\n",
    "                        \n",
    "            with bz2.BZ2File(partial_results_path+'/ransac_{}_partial_scores.pickle.bz2'.format(radius), 'w') as bz2_f:\n",
    "                pickle.dump(partial_scores_pool, bz2_f)\n",
    "                \n",
    "    with bz2.BZ2File(partial_results_path+'/ransac_{}_partial_scores.pickle.bz2'.format(radius), 'w') as bz2_f:\n",
    "        pickle.dump(partial_scores_pool, bz2_f)\n",
    "\n",
    "    print(radius,\" Total Time to match {:.3f} seconds.\".format(time.time()-t0))\n",
    "    "
   ]
  },
  {
   "cell_type": "markdown",
   "metadata": {},
   "source": [
    "# Step 1.3: ARCore spaces evaluation"
   ]
  },
  {
   "cell_type": "code",
   "execution_count": 10,
   "metadata": {},
   "outputs": [
    {
     "name": "stdout",
     "output_type": "stream",
     "text": [
      "radius = 0.5\n",
      "   0.5 : Done with 2, in 0.252 seconds. Error rate 1.000\n",
      "   (24, 7) (24, 7, 2) (24, 7, 2) in 0.110 seconds\n"
     ]
    },
    {
     "name": "stderr",
     "output_type": "stream",
     "text": [
      "/srv/jaybie/archive/spatial-privacy-master/nn_matchers.py:773: FutureWarning: in the future insert will treat boolean arrays and array-likes as a boolean index instead of casting it to integer\n",
      "  good_matches_kp_idx = np.insert(good_matches[good_matches_ref_kp],True,good_matches_ref_kp)\n"
     ]
    },
    {
     "name": "stdout",
     "output_type": "stream",
     "text": [
      "   0.5 : Done with 68, in 3.951 seconds. Error rate 0.868\n",
      "   (20, 7) (20, 7, 2) (20, 7, 2) in 0.055 seconds\n"
     ]
    },
    {
     "name": "stderr",
     "output_type": "stream",
     "text": [
      "/srv/jaybie/archive/spatial-privacy-master/nn_matchers.py:773: FutureWarning: in the future insert will treat boolean arrays and array-likes as a boolean index instead of casting it to integer\n",
      "  good_matches_kp_idx = np.insert(good_matches[good_matches_ref_kp],True,good_matches_ref_kp)\n",
      "/srv/jaybie/archive/spatial-privacy-master/nn_matchers.py:386: RuntimeWarning: Mean of empty slice\n",
      "  LA.norm(np.nanmean(best_ref_kps[:,:3], axis = 0) - obj_meta[2][:3]),\n"
     ]
    },
    {
     "name": "stdout",
     "output_type": "stream",
     "text": [
      "   0.5 : Done with 134, in 4.065 seconds. Error rate 0.851\n",
      "   (28, 7) (28, 7, 2) (28, 7, 2) in 0.086 seconds\n"
     ]
    },
    {
     "name": "stderr",
     "output_type": "stream",
     "text": [
      "/srv/jaybie/archive/spatial-privacy-master/nn_matchers.py:773: FutureWarning: in the future insert will treat boolean arrays and array-likes as a boolean index instead of casting it to integer\n",
      "  good_matches_kp_idx = np.insert(good_matches[good_matches_ref_kp],True,good_matches_ref_kp)\n",
      "/srv/jaybie/archive/spatial-privacy-master/nn_matchers.py:386: RuntimeWarning: Mean of empty slice\n",
      "  LA.norm(np.nanmean(best_ref_kps[:,:3], axis = 0) - obj_meta[2][:3]),\n"
     ]
    },
    {
     "name": "stdout",
     "output_type": "stream",
     "text": [
      "   0.5 : Done with 200, in 4.154 seconds. Error rate 0.855\n",
      "   (36, 7) (36, 7, 2) (36, 7, 2) in 0.079 seconds\n"
     ]
    },
    {
     "name": "stderr",
     "output_type": "stream",
     "text": [
      "/srv/jaybie/archive/spatial-privacy-master/nn_matchers.py:773: FutureWarning: in the future insert will treat boolean arrays and array-likes as a boolean index instead of casting it to integer\n",
      "  good_matches_kp_idx = np.insert(good_matches[good_matches_ref_kp],True,good_matches_ref_kp)\n",
      "/srv/jaybie/archive/spatial-privacy-master/nn_matchers.py:386: RuntimeWarning: Mean of empty slice\n",
      "  LA.norm(np.nanmean(best_ref_kps[:,:3], axis = 0) - obj_meta[2][:3]),\n"
     ]
    },
    {
     "name": "stdout",
     "output_type": "stream",
     "text": [
      "   0.5 : Done with 266, in 4.069 seconds. Error rate 0.846\n",
      "   (28, 7) (28, 7, 2) (28, 7, 2) in 0.056 seconds\n"
     ]
    },
    {
     "name": "stderr",
     "output_type": "stream",
     "text": [
      "/srv/jaybie/archive/spatial-privacy-master/nn_matchers.py:773: FutureWarning: in the future insert will treat boolean arrays and array-likes as a boolean index instead of casting it to integer\n",
      "  good_matches_kp_idx = np.insert(good_matches[good_matches_ref_kp],True,good_matches_ref_kp)\n",
      "/srv/jaybie/archive/spatial-privacy-master/nn_matchers.py:386: RuntimeWarning: Mean of empty slice\n",
      "  LA.norm(np.nanmean(best_ref_kps[:,:3], axis = 0) - obj_meta[2][:3]),\n"
     ]
    },
    {
     "name": "stdout",
     "output_type": "stream",
     "text": [
      "   0.5 : Done with 332, in 4.039 seconds. Error rate 0.858\n",
      "   (28, 7) (28, 7, 2) (28, 7, 2) in 0.053 seconds\n"
     ]
    },
    {
     "name": "stderr",
     "output_type": "stream",
     "text": [
      "/srv/jaybie/archive/spatial-privacy-master/nn_matchers.py:773: FutureWarning: in the future insert will treat boolean arrays and array-likes as a boolean index instead of casting it to integer\n",
      "  good_matches_kp_idx = np.insert(good_matches[good_matches_ref_kp],True,good_matches_ref_kp)\n",
      "/srv/jaybie/archive/spatial-privacy-master/nn_matchers.py:386: RuntimeWarning: Mean of empty slice\n",
      "  LA.norm(np.nanmean(best_ref_kps[:,:3], axis = 0) - obj_meta[2][:3]),\n"
     ]
    },
    {
     "name": "stdout",
     "output_type": "stream",
     "text": [
      "   0.5 : Done with 398, in 4.107 seconds. Error rate 0.852\n",
      "   (34, 7) (34, 7, 2) (34, 7, 2) in 0.059 seconds\n"
     ]
    },
    {
     "name": "stderr",
     "output_type": "stream",
     "text": [
      "/srv/jaybie/archive/spatial-privacy-master/nn_matchers.py:773: FutureWarning: in the future insert will treat boolean arrays and array-likes as a boolean index instead of casting it to integer\n",
      "  good_matches_kp_idx = np.insert(good_matches[good_matches_ref_kp],True,good_matches_ref_kp)\n",
      "/srv/jaybie/archive/spatial-privacy-master/nn_matchers.py:386: RuntimeWarning: Mean of empty slice\n",
      "  LA.norm(np.nanmean(best_ref_kps[:,:3], axis = 0) - obj_meta[2][:3]),\n"
     ]
    },
    {
     "name": "stdout",
     "output_type": "stream",
     "text": [
      "   0.5 : Done with 464, in 4.189 seconds. Error rate 0.847\n",
      "   (30, 7) (30, 7, 2) (30, 7, 2) in 0.060 seconds\n"
     ]
    },
    {
     "name": "stderr",
     "output_type": "stream",
     "text": [
      "/srv/jaybie/archive/spatial-privacy-master/nn_matchers.py:773: FutureWarning: in the future insert will treat boolean arrays and array-likes as a boolean index instead of casting it to integer\n",
      "  good_matches_kp_idx = np.insert(good_matches[good_matches_ref_kp],True,good_matches_ref_kp)\n",
      "/srv/jaybie/archive/spatial-privacy-master/nn_matchers.py:386: RuntimeWarning: Mean of empty slice\n",
      "  LA.norm(np.nanmean(best_ref_kps[:,:3], axis = 0) - obj_meta[2][:3]),\n"
     ]
    },
    {
     "name": "stdout",
     "output_type": "stream",
     "text": [
      "   0.5 : Done with 530, in 4.298 seconds. Error rate 0.845\n",
      "   (24, 7) (24, 7, 2) (24, 7, 2) in 0.066 seconds\n"
     ]
    },
    {
     "name": "stderr",
     "output_type": "stream",
     "text": [
      "/srv/jaybie/archive/spatial-privacy-master/nn_matchers.py:773: FutureWarning: in the future insert will treat boolean arrays and array-likes as a boolean index instead of casting it to integer\n",
      "  good_matches_kp_idx = np.insert(good_matches[good_matches_ref_kp],True,good_matches_ref_kp)\n",
      "/srv/jaybie/archive/spatial-privacy-master/nn_matchers.py:386: RuntimeWarning: Mean of empty slice\n",
      "  LA.norm(np.nanmean(best_ref_kps[:,:3], axis = 0) - obj_meta[2][:3]),\n"
     ]
    },
    {
     "name": "stdout",
     "output_type": "stream",
     "text": [
      "   0.5 : Done with 596, in 4.306 seconds. Error rate 0.844\n",
      "   (29, 7) (29, 7, 2) (29, 7, 2) in 0.051 seconds\n"
     ]
    },
    {
     "name": "stderr",
     "output_type": "stream",
     "text": [
      "/srv/jaybie/archive/spatial-privacy-master/nn_matchers.py:773: FutureWarning: in the future insert will treat boolean arrays and array-likes as a boolean index instead of casting it to integer\n",
      "  good_matches_kp_idx = np.insert(good_matches[good_matches_ref_kp],True,good_matches_ref_kp)\n",
      "/srv/jaybie/archive/spatial-privacy-master/nn_matchers.py:386: RuntimeWarning: Mean of empty slice\n",
      "  LA.norm(np.nanmean(best_ref_kps[:,:3], axis = 0) - obj_meta[2][:3]),\n"
     ]
    },
    {
     "name": "stdout",
     "output_type": "stream",
     "text": [
      "   0.5 : Done with 662, in 4.071 seconds. Error rate 0.843\n",
      "   (26, 7) (26, 7, 2) (26, 7, 2) in 0.051 seconds\n"
     ]
    },
    {
     "name": "stderr",
     "output_type": "stream",
     "text": [
      "/srv/jaybie/archive/spatial-privacy-master/nn_matchers.py:773: FutureWarning: in the future insert will treat boolean arrays and array-likes as a boolean index instead of casting it to integer\n",
      "  good_matches_kp_idx = np.insert(good_matches[good_matches_ref_kp],True,good_matches_ref_kp)\n",
      "/srv/jaybie/archive/spatial-privacy-master/nn_matchers.py:386: RuntimeWarning: Mean of empty slice\n",
      "  LA.norm(np.nanmean(best_ref_kps[:,:3], axis = 0) - obj_meta[2][:3]),\n"
     ]
    },
    {
     "name": "stdout",
     "output_type": "stream",
     "text": [
      "   0.5 : Done with 728, in 4.158 seconds. Error rate 0.839\n",
      "   (20, 7) (20, 7, 2) (20, 7, 2) in 0.054 seconds\n"
     ]
    },
    {
     "name": "stderr",
     "output_type": "stream",
     "text": [
      "/srv/jaybie/archive/spatial-privacy-master/nn_matchers.py:773: FutureWarning: in the future insert will treat boolean arrays and array-likes as a boolean index instead of casting it to integer\n",
      "  good_matches_kp_idx = np.insert(good_matches[good_matches_ref_kp],True,good_matches_ref_kp)\n",
      "/srv/jaybie/archive/spatial-privacy-master/nn_matchers.py:386: RuntimeWarning: Mean of empty slice\n",
      "  LA.norm(np.nanmean(best_ref_kps[:,:3], axis = 0) - obj_meta[2][:3]),\n"
     ]
    },
    {
     "name": "stdout",
     "output_type": "stream",
     "text": [
      "   0.5 : Done with 794, in 4.158 seconds. Error rate 0.831\n",
      "   (29, 7) (29, 7, 2) (29, 7, 2) in 0.071 seconds\n"
     ]
    },
    {
     "name": "stderr",
     "output_type": "stream",
     "text": [
      "/srv/jaybie/archive/spatial-privacy-master/nn_matchers.py:773: FutureWarning: in the future insert will treat boolean arrays and array-likes as a boolean index instead of casting it to integer\n",
      "  good_matches_kp_idx = np.insert(good_matches[good_matches_ref_kp],True,good_matches_ref_kp)\n",
      "/srv/jaybie/archive/spatial-privacy-master/nn_matchers.py:386: RuntimeWarning: Mean of empty slice\n",
      "  LA.norm(np.nanmean(best_ref_kps[:,:3], axis = 0) - obj_meta[2][:3]),\n"
     ]
    },
    {
     "name": "stdout",
     "output_type": "stream",
     "text": [
      "   0.5 : Done with 860, in 4.312 seconds. Error rate 0.824\n",
      "   (19, 7) (19, 7, 2) (19, 7, 2) in 0.041 seconds\n"
     ]
    },
    {
     "name": "stderr",
     "output_type": "stream",
     "text": [
      "/srv/jaybie/archive/spatial-privacy-master/nn_matchers.py:773: FutureWarning: in the future insert will treat boolean arrays and array-likes as a boolean index instead of casting it to integer\n",
      "  good_matches_kp_idx = np.insert(good_matches[good_matches_ref_kp],True,good_matches_ref_kp)\n",
      "/srv/jaybie/archive/spatial-privacy-master/nn_matchers.py:386: RuntimeWarning: Mean of empty slice\n",
      "  LA.norm(np.nanmean(best_ref_kps[:,:3], axis = 0) - obj_meta[2][:3]),\n"
     ]
    },
    {
     "name": "stdout",
     "output_type": "stream",
     "text": [
      "   0.5 : Done with 926, in 4.509 seconds. Error rate 0.825\n",
      "   (36, 7) (36, 7, 2) (36, 7, 2) in 0.076 seconds\n"
     ]
    },
    {
     "name": "stderr",
     "output_type": "stream",
     "text": [
      "/srv/jaybie/archive/spatial-privacy-master/nn_matchers.py:773: FutureWarning: in the future insert will treat boolean arrays and array-likes as a boolean index instead of casting it to integer\n",
      "  good_matches_kp_idx = np.insert(good_matches[good_matches_ref_kp],True,good_matches_ref_kp)\n",
      "/srv/jaybie/archive/spatial-privacy-master/nn_matchers.py:386: RuntimeWarning: Mean of empty slice\n",
      "  LA.norm(np.nanmean(best_ref_kps[:,:3], axis = 0) - obj_meta[2][:3]),\n"
     ]
    },
    {
     "name": "stdout",
     "output_type": "stream",
     "text": [
      "   0.5 : Done with 992, in 4.434 seconds. Error rate 0.825\n",
      "   (31, 7) (31, 7, 2) (31, 7, 2) in 0.058 seconds\n",
      "0.5  Total Time to match 81.841 seconds.\n",
      "radius = 1.0\n",
      "   1.0 : Done with 2, in 0.262 seconds. Error rate 1.000\n",
      "   (81, 7) (81, 7, 2) (81, 7, 2) in 0.120 seconds\n"
     ]
    },
    {
     "name": "stderr",
     "output_type": "stream",
     "text": [
      "/srv/jaybie/archive/spatial-privacy-master/nn_matchers.py:773: FutureWarning: in the future insert will treat boolean arrays and array-likes as a boolean index instead of casting it to integer\n",
      "  good_matches_kp_idx = np.insert(good_matches[good_matches_ref_kp],True,good_matches_ref_kp)\n"
     ]
    },
    {
     "name": "stdout",
     "output_type": "stream",
     "text": [
      "   1.0 : Done with 68, in 9.440 seconds. Error rate 0.824\n",
      "   (75, 7) (75, 7, 2) (75, 7, 2) in 0.110 seconds\n"
     ]
    },
    {
     "name": "stderr",
     "output_type": "stream",
     "text": [
      "/srv/jaybie/archive/spatial-privacy-master/nn_matchers.py:773: FutureWarning: in the future insert will treat boolean arrays and array-likes as a boolean index instead of casting it to integer\n",
      "  good_matches_kp_idx = np.insert(good_matches[good_matches_ref_kp],True,good_matches_ref_kp)\n"
     ]
    },
    {
     "name": "stdout",
     "output_type": "stream",
     "text": [
      "   1.0 : Done with 134, in 10.203 seconds. Error rate 0.843\n",
      "   (112, 7) (112, 7, 2) (112, 7, 2) in 0.268 seconds\n"
     ]
    },
    {
     "name": "stderr",
     "output_type": "stream",
     "text": [
      "/srv/jaybie/archive/spatial-privacy-master/nn_matchers.py:773: FutureWarning: in the future insert will treat boolean arrays and array-likes as a boolean index instead of casting it to integer\n",
      "  good_matches_kp_idx = np.insert(good_matches[good_matches_ref_kp],True,good_matches_ref_kp)\n"
     ]
    },
    {
     "name": "stdout",
     "output_type": "stream",
     "text": [
      "   1.0 : Done with 200, in 10.236 seconds. Error rate 0.825\n",
      "   (92, 7) (92, 7, 2) (92, 7, 2) in 0.184 seconds\n"
     ]
    },
    {
     "name": "stderr",
     "output_type": "stream",
     "text": [
      "/srv/jaybie/archive/spatial-privacy-master/nn_matchers.py:773: FutureWarning: in the future insert will treat boolean arrays and array-likes as a boolean index instead of casting it to integer\n",
      "  good_matches_kp_idx = np.insert(good_matches[good_matches_ref_kp],True,good_matches_ref_kp)\n"
     ]
    },
    {
     "name": "stdout",
     "output_type": "stream",
     "text": [
      "   1.0 : Done with 266, in 9.947 seconds. Error rate 0.850\n",
      "   (108, 7) (108, 7, 2) (108, 7, 2) in 0.186 seconds\n"
     ]
    },
    {
     "name": "stderr",
     "output_type": "stream",
     "text": [
      "/srv/jaybie/archive/spatial-privacy-master/nn_matchers.py:773: FutureWarning: in the future insert will treat boolean arrays and array-likes as a boolean index instead of casting it to integer\n",
      "  good_matches_kp_idx = np.insert(good_matches[good_matches_ref_kp],True,good_matches_ref_kp)\n"
     ]
    },
    {
     "name": "stdout",
     "output_type": "stream",
     "text": [
      "   1.0 : Done with 332, in 10.098 seconds. Error rate 0.861\n",
      "   (80, 7) (80, 7, 2) (80, 7, 2) in 0.148 seconds\n"
     ]
    },
    {
     "name": "stderr",
     "output_type": "stream",
     "text": [
      "/srv/jaybie/archive/spatial-privacy-master/nn_matchers.py:773: FutureWarning: in the future insert will treat boolean arrays and array-likes as a boolean index instead of casting it to integer\n",
      "  good_matches_kp_idx = np.insert(good_matches[good_matches_ref_kp],True,good_matches_ref_kp)\n"
     ]
    },
    {
     "name": "stdout",
     "output_type": "stream",
     "text": [
      "   1.0 : Done with 398, in 10.703 seconds. Error rate 0.847\n",
      "   (102, 7) (102, 7, 2) (102, 7, 2) in 0.166 seconds\n"
     ]
    },
    {
     "name": "stderr",
     "output_type": "stream",
     "text": [
      "/srv/jaybie/archive/spatial-privacy-master/nn_matchers.py:773: FutureWarning: in the future insert will treat boolean arrays and array-likes as a boolean index instead of casting it to integer\n",
      "  good_matches_kp_idx = np.insert(good_matches[good_matches_ref_kp],True,good_matches_ref_kp)\n"
     ]
    },
    {
     "name": "stdout",
     "output_type": "stream",
     "text": [
      "   1.0 : Done with 464, in 11.199 seconds. Error rate 0.851\n",
      "   (113, 7) (113, 7, 2) (113, 7, 2) in 0.190 seconds\n"
     ]
    },
    {
     "name": "stderr",
     "output_type": "stream",
     "text": [
      "/srv/jaybie/archive/spatial-privacy-master/nn_matchers.py:773: FutureWarning: in the future insert will treat boolean arrays and array-likes as a boolean index instead of casting it to integer\n",
      "  good_matches_kp_idx = np.insert(good_matches[good_matches_ref_kp],True,good_matches_ref_kp)\n"
     ]
    },
    {
     "name": "stdout",
     "output_type": "stream",
     "text": [
      "   1.0 : Done with 530, in 11.614 seconds. Error rate 0.843\n",
      "   (76, 7) (76, 7, 2) (76, 7, 2) in 0.131 seconds\n"
     ]
    },
    {
     "name": "stderr",
     "output_type": "stream",
     "text": [
      "/srv/jaybie/archive/spatial-privacy-master/nn_matchers.py:773: FutureWarning: in the future insert will treat boolean arrays and array-likes as a boolean index instead of casting it to integer\n",
      "  good_matches_kp_idx = np.insert(good_matches[good_matches_ref_kp],True,good_matches_ref_kp)\n"
     ]
    },
    {
     "name": "stdout",
     "output_type": "stream",
     "text": [
      "   1.0 : Done with 596, in 11.189 seconds. Error rate 0.847\n",
      "   (68, 7) (68, 7, 2) (68, 7, 2) in 0.112 seconds\n"
     ]
    },
    {
     "name": "stderr",
     "output_type": "stream",
     "text": [
      "/srv/jaybie/archive/spatial-privacy-master/nn_matchers.py:773: FutureWarning: in the future insert will treat boolean arrays and array-likes as a boolean index instead of casting it to integer\n",
      "  good_matches_kp_idx = np.insert(good_matches[good_matches_ref_kp],True,good_matches_ref_kp)\n"
     ]
    },
    {
     "name": "stdout",
     "output_type": "stream",
     "text": [
      "   1.0 : Done with 662, in 11.281 seconds. Error rate 0.847\n",
      "   (89, 7) (89, 7, 2) (89, 7, 2) in 0.153 seconds\n"
     ]
    },
    {
     "name": "stderr",
     "output_type": "stream",
     "text": [
      "/srv/jaybie/archive/spatial-privacy-master/nn_matchers.py:773: FutureWarning: in the future insert will treat boolean arrays and array-likes as a boolean index instead of casting it to integer\n",
      "  good_matches_kp_idx = np.insert(good_matches[good_matches_ref_kp],True,good_matches_ref_kp)\n"
     ]
    },
    {
     "name": "stdout",
     "output_type": "stream",
     "text": [
      "   1.0 : Done with 728, in 10.994 seconds. Error rate 0.850\n",
      "   (95, 7) (95, 7, 2) (95, 7, 2) in 0.153 seconds\n"
     ]
    },
    {
     "name": "stderr",
     "output_type": "stream",
     "text": [
      "/srv/jaybie/archive/spatial-privacy-master/nn_matchers.py:773: FutureWarning: in the future insert will treat boolean arrays and array-likes as a boolean index instead of casting it to integer\n",
      "  good_matches_kp_idx = np.insert(good_matches[good_matches_ref_kp],True,good_matches_ref_kp)\n"
     ]
    },
    {
     "name": "stdout",
     "output_type": "stream",
     "text": [
      "   1.0 : Done with 794, in 10.964 seconds. Error rate 0.851\n",
      "   (103, 7) (103, 7, 2) (103, 7, 2) in 0.217 seconds\n"
     ]
    },
    {
     "name": "stderr",
     "output_type": "stream",
     "text": [
      "/srv/jaybie/archive/spatial-privacy-master/nn_matchers.py:773: FutureWarning: in the future insert will treat boolean arrays and array-likes as a boolean index instead of casting it to integer\n",
      "  good_matches_kp_idx = np.insert(good_matches[good_matches_ref_kp],True,good_matches_ref_kp)\n"
     ]
    },
    {
     "name": "stdout",
     "output_type": "stream",
     "text": [
      "   1.0 : Done with 860, in 11.114 seconds. Error rate 0.847\n",
      "   (51, 7) (51, 7, 2) (51, 7, 2) in 0.086 seconds\n"
     ]
    },
    {
     "name": "stderr",
     "output_type": "stream",
     "text": [
      "/srv/jaybie/archive/spatial-privacy-master/nn_matchers.py:773: FutureWarning: in the future insert will treat boolean arrays and array-likes as a boolean index instead of casting it to integer\n",
      "  good_matches_kp_idx = np.insert(good_matches[good_matches_ref_kp],True,good_matches_ref_kp)\n"
     ]
    },
    {
     "name": "stdout",
     "output_type": "stream",
     "text": [
      "   1.0 : Done with 926, in 11.323 seconds. Error rate 0.847\n",
      "   (91, 7) (91, 7, 2) (91, 7, 2) in 0.182 seconds\n"
     ]
    },
    {
     "name": "stderr",
     "output_type": "stream",
     "text": [
      "/srv/jaybie/archive/spatial-privacy-master/nn_matchers.py:773: FutureWarning: in the future insert will treat boolean arrays and array-likes as a boolean index instead of casting it to integer\n",
      "  good_matches_kp_idx = np.insert(good_matches[good_matches_ref_kp],True,good_matches_ref_kp)\n"
     ]
    },
    {
     "name": "stdout",
     "output_type": "stream",
     "text": [
      "   1.0 : Done with 992, in 10.737 seconds. Error rate 0.849\n",
      "   (58, 7) (58, 7, 2) (58, 7, 2) in 0.099 seconds\n",
      "1.0  Total Time to match 213.312 seconds.\n",
      "radius = 1.5\n",
      "   1.5 : Done with 2, in 0.654 seconds. Error rate 1.000\n",
      "   (167, 7) (167, 7, 2) (167, 7, 2) in 0.318 seconds\n"
     ]
    },
    {
     "name": "stderr",
     "output_type": "stream",
     "text": [
      "/srv/jaybie/archive/spatial-privacy-master/nn_matchers.py:773: FutureWarning: in the future insert will treat boolean arrays and array-likes as a boolean index instead of casting it to integer\n",
      "  good_matches_kp_idx = np.insert(good_matches[good_matches_ref_kp],True,good_matches_ref_kp)\n"
     ]
    },
    {
     "name": "stdout",
     "output_type": "stream",
     "text": [
      "   1.5 : Done with 68, in 22.576 seconds. Error rate 0.750\n",
      "   (111, 7) (111, 7, 2) (111, 7, 2) in 0.182 seconds\n"
     ]
    },
    {
     "name": "stderr",
     "output_type": "stream",
     "text": [
      "/srv/jaybie/archive/spatial-privacy-master/nn_matchers.py:773: FutureWarning: in the future insert will treat boolean arrays and array-likes as a boolean index instead of casting it to integer\n",
      "  good_matches_kp_idx = np.insert(good_matches[good_matches_ref_kp],True,good_matches_ref_kp)\n"
     ]
    },
    {
     "name": "stdout",
     "output_type": "stream",
     "text": [
      "   1.5 : Done with 134, in 24.868 seconds. Error rate 0.746\n",
      "   (175, 7) (175, 7, 2) (175, 7, 2) in 0.579 seconds\n"
     ]
    },
    {
     "name": "stderr",
     "output_type": "stream",
     "text": [
      "/srv/jaybie/archive/spatial-privacy-master/nn_matchers.py:773: FutureWarning: in the future insert will treat boolean arrays and array-likes as a boolean index instead of casting it to integer\n",
      "  good_matches_kp_idx = np.insert(good_matches[good_matches_ref_kp],True,good_matches_ref_kp)\n"
     ]
    },
    {
     "name": "stdout",
     "output_type": "stream",
     "text": [
      "   1.5 : Done with 200, in 25.172 seconds. Error rate 0.750\n",
      "   (250, 7) (250, 7, 2) (250, 7, 2) in 0.643 seconds\n"
     ]
    },
    {
     "name": "stderr",
     "output_type": "stream",
     "text": [
      "/srv/jaybie/archive/spatial-privacy-master/nn_matchers.py:773: FutureWarning: in the future insert will treat boolean arrays and array-likes as a boolean index instead of casting it to integer\n",
      "  good_matches_kp_idx = np.insert(good_matches[good_matches_ref_kp],True,good_matches_ref_kp)\n"
     ]
    },
    {
     "name": "stdout",
     "output_type": "stream",
     "text": [
      "   1.5 : Done with 266, in 24.814 seconds. Error rate 0.756\n",
      "   (209, 7) (209, 7, 2) (209, 7, 2) in 0.486 seconds\n"
     ]
    },
    {
     "name": "stderr",
     "output_type": "stream",
     "text": [
      "/srv/jaybie/archive/spatial-privacy-master/nn_matchers.py:773: FutureWarning: in the future insert will treat boolean arrays and array-likes as a boolean index instead of casting it to integer\n",
      "  good_matches_kp_idx = np.insert(good_matches[good_matches_ref_kp],True,good_matches_ref_kp)\n"
     ]
    },
    {
     "name": "stdout",
     "output_type": "stream",
     "text": [
      "   1.5 : Done with 332, in 25.261 seconds. Error rate 0.762\n",
      "   (164, 7) (164, 7, 2) (164, 7, 2) in 0.352 seconds\n"
     ]
    },
    {
     "name": "stderr",
     "output_type": "stream",
     "text": [
      "/srv/jaybie/archive/spatial-privacy-master/nn_matchers.py:773: FutureWarning: in the future insert will treat boolean arrays and array-likes as a boolean index instead of casting it to integer\n",
      "  good_matches_kp_idx = np.insert(good_matches[good_matches_ref_kp],True,good_matches_ref_kp)\n"
     ]
    },
    {
     "name": "stdout",
     "output_type": "stream",
     "text": [
      "   1.5 : Done with 398, in 24.911 seconds. Error rate 0.759\n",
      "   (155, 7) (155, 7, 2) (155, 7, 2) in 0.357 seconds\n"
     ]
    },
    {
     "name": "stderr",
     "output_type": "stream",
     "text": [
      "/srv/jaybie/archive/spatial-privacy-master/nn_matchers.py:773: FutureWarning: in the future insert will treat boolean arrays and array-likes as a boolean index instead of casting it to integer\n",
      "  good_matches_kp_idx = np.insert(good_matches[good_matches_ref_kp],True,good_matches_ref_kp)\n"
     ]
    },
    {
     "name": "stdout",
     "output_type": "stream",
     "text": [
      "   1.5 : Done with 464, in 27.358 seconds. Error rate 0.763\n",
      "   (160, 7) (160, 7, 2) (160, 7, 2) in 0.315 seconds\n"
     ]
    },
    {
     "name": "stderr",
     "output_type": "stream",
     "text": [
      "/srv/jaybie/archive/spatial-privacy-master/nn_matchers.py:773: FutureWarning: in the future insert will treat boolean arrays and array-likes as a boolean index instead of casting it to integer\n",
      "  good_matches_kp_idx = np.insert(good_matches[good_matches_ref_kp],True,good_matches_ref_kp)\n"
     ]
    },
    {
     "name": "stdout",
     "output_type": "stream",
     "text": [
      "   1.5 : Done with 530, in 28.037 seconds. Error rate 0.774\n",
      "   (149, 7) (149, 7, 2) (149, 7, 2) in 0.267 seconds\n"
     ]
    },
    {
     "name": "stderr",
     "output_type": "stream",
     "text": [
      "/srv/jaybie/archive/spatial-privacy-master/nn_matchers.py:773: FutureWarning: in the future insert will treat boolean arrays and array-likes as a boolean index instead of casting it to integer\n",
      "  good_matches_kp_idx = np.insert(good_matches[good_matches_ref_kp],True,good_matches_ref_kp)\n"
     ]
    },
    {
     "name": "stdout",
     "output_type": "stream",
     "text": [
      "   1.5 : Done with 596, in 25.059 seconds. Error rate 0.782\n",
      "   (143, 7) (143, 7, 2) (143, 7, 2) in 0.246 seconds\n"
     ]
    },
    {
     "name": "stderr",
     "output_type": "stream",
     "text": [
      "/srv/jaybie/archive/spatial-privacy-master/nn_matchers.py:773: FutureWarning: in the future insert will treat boolean arrays and array-likes as a boolean index instead of casting it to integer\n",
      "  good_matches_kp_idx = np.insert(good_matches[good_matches_ref_kp],True,good_matches_ref_kp)\n"
     ]
    },
    {
     "name": "stdout",
     "output_type": "stream",
     "text": [
      "   1.5 : Done with 662, in 25.430 seconds. Error rate 0.778\n",
      "   (200, 7) (200, 7, 2) (200, 7, 2) in 0.383 seconds\n"
     ]
    },
    {
     "name": "stderr",
     "output_type": "stream",
     "text": [
      "/srv/jaybie/archive/spatial-privacy-master/nn_matchers.py:773: FutureWarning: in the future insert will treat boolean arrays and array-likes as a boolean index instead of casting it to integer\n",
      "  good_matches_kp_idx = np.insert(good_matches[good_matches_ref_kp],True,good_matches_ref_kp)\n"
     ]
    },
    {
     "name": "stdout",
     "output_type": "stream",
     "text": [
      "   1.5 : Done with 728, in 23.790 seconds. Error rate 0.782\n",
      "   (153, 7) (153, 7, 2) (153, 7, 2) in 0.268 seconds\n"
     ]
    },
    {
     "name": "stderr",
     "output_type": "stream",
     "text": [
      "/srv/jaybie/archive/spatial-privacy-master/nn_matchers.py:773: FutureWarning: in the future insert will treat boolean arrays and array-likes as a boolean index instead of casting it to integer\n",
      "  good_matches_kp_idx = np.insert(good_matches[good_matches_ref_kp],True,good_matches_ref_kp)\n"
     ]
    },
    {
     "name": "stdout",
     "output_type": "stream",
     "text": [
      "   1.5 : Done with 794, in 26.087 seconds. Error rate 0.782\n",
      "   (233, 7) (233, 7, 2) (233, 7, 2) in 0.601 seconds\n"
     ]
    },
    {
     "name": "stderr",
     "output_type": "stream",
     "text": [
      "/srv/jaybie/archive/spatial-privacy-master/nn_matchers.py:773: FutureWarning: in the future insert will treat boolean arrays and array-likes as a boolean index instead of casting it to integer\n",
      "  good_matches_kp_idx = np.insert(good_matches[good_matches_ref_kp],True,good_matches_ref_kp)\n"
     ]
    },
    {
     "name": "stdout",
     "output_type": "stream",
     "text": [
      "   1.5 : Done with 860, in 25.892 seconds. Error rate 0.772\n",
      "   (136, 7) (136, 7, 2) (136, 7, 2) in 0.233 seconds\n"
     ]
    },
    {
     "name": "stderr",
     "output_type": "stream",
     "text": [
      "/srv/jaybie/archive/spatial-privacy-master/nn_matchers.py:773: FutureWarning: in the future insert will treat boolean arrays and array-likes as a boolean index instead of casting it to integer\n",
      "  good_matches_kp_idx = np.insert(good_matches[good_matches_ref_kp],True,good_matches_ref_kp)\n"
     ]
    },
    {
     "name": "stdout",
     "output_type": "stream",
     "text": [
      "   1.5 : Done with 926, in 26.568 seconds. Error rate 0.772\n",
      "   (222, 7) (222, 7, 2) (222, 7, 2) in 0.480 seconds\n"
     ]
    },
    {
     "name": "stderr",
     "output_type": "stream",
     "text": [
      "/srv/jaybie/archive/spatial-privacy-master/nn_matchers.py:773: FutureWarning: in the future insert will treat boolean arrays and array-likes as a boolean index instead of casting it to integer\n",
      "  good_matches_kp_idx = np.insert(good_matches[good_matches_ref_kp],True,good_matches_ref_kp)\n"
     ]
    },
    {
     "name": "stdout",
     "output_type": "stream",
     "text": [
      "   1.5 : Done with 992, in 22.843 seconds. Error rate 0.774\n",
      "   (120, 7) (120, 7, 2) (120, 7, 2) in 0.179 seconds\n",
      "1.5  Total Time to match 482.073 seconds.\n",
      "radius = 2.0\n",
      "   2.0 : Done with 2, in 1.257 seconds. Error rate 1.000\n",
      "   (308, 7) (308, 7, 2) (308, 7, 2) in 0.723 seconds\n"
     ]
    },
    {
     "name": "stderr",
     "output_type": "stream",
     "text": [
      "/srv/jaybie/archive/spatial-privacy-master/nn_matchers.py:773: FutureWarning: in the future insert will treat boolean arrays and array-likes as a boolean index instead of casting it to integer\n",
      "  good_matches_kp_idx = np.insert(good_matches[good_matches_ref_kp],True,good_matches_ref_kp)\n"
     ]
    },
    {
     "name": "stdout",
     "output_type": "stream",
     "text": [
      "   2.0 : Done with 68, in 42.744 seconds. Error rate 0.632\n",
      "   (189, 7) (189, 7, 2) (189, 7, 2) in 0.323 seconds\n"
     ]
    },
    {
     "name": "stderr",
     "output_type": "stream",
     "text": [
      "/srv/jaybie/archive/spatial-privacy-master/nn_matchers.py:773: FutureWarning: in the future insert will treat boolean arrays and array-likes as a boolean index instead of casting it to integer\n",
      "  good_matches_kp_idx = np.insert(good_matches[good_matches_ref_kp],True,good_matches_ref_kp)\n"
     ]
    },
    {
     "name": "stdout",
     "output_type": "stream",
     "text": [
      "   2.0 : Done with 134, in 49.534 seconds. Error rate 0.672\n",
      "   (347, 7) (347, 7, 2) (347, 7, 2) in 1.502 seconds\n"
     ]
    },
    {
     "name": "stderr",
     "output_type": "stream",
     "text": [
      "/srv/jaybie/archive/spatial-privacy-master/nn_matchers.py:773: FutureWarning: in the future insert will treat boolean arrays and array-likes as a boolean index instead of casting it to integer\n",
      "  good_matches_kp_idx = np.insert(good_matches[good_matches_ref_kp],True,good_matches_ref_kp)\n"
     ]
    },
    {
     "name": "stdout",
     "output_type": "stream",
     "text": [
      "   2.0 : Done with 200, in 48.635 seconds. Error rate 0.695\n",
      "   (388, 7) (388, 7, 2) (388, 7, 2) in 1.318 seconds\n"
     ]
    },
    {
     "name": "stderr",
     "output_type": "stream",
     "text": [
      "/srv/jaybie/archive/spatial-privacy-master/nn_matchers.py:773: FutureWarning: in the future insert will treat boolean arrays and array-likes as a boolean index instead of casting it to integer\n",
      "  good_matches_kp_idx = np.insert(good_matches[good_matches_ref_kp],True,good_matches_ref_kp)\n"
     ]
    },
    {
     "name": "stdout",
     "output_type": "stream",
     "text": [
      "   2.0 : Done with 266, in 47.286 seconds. Error rate 0.692\n",
      "   (271, 7) (271, 7, 2) (271, 7, 2) in 0.699 seconds\n"
     ]
    },
    {
     "name": "stderr",
     "output_type": "stream",
     "text": [
      "/srv/jaybie/archive/spatial-privacy-master/nn_matchers.py:773: FutureWarning: in the future insert will treat boolean arrays and array-likes as a boolean index instead of casting it to integer\n",
      "  good_matches_kp_idx = np.insert(good_matches[good_matches_ref_kp],True,good_matches_ref_kp)\n"
     ]
    },
    {
     "name": "stdout",
     "output_type": "stream",
     "text": [
      "   2.0 : Done with 332, in 46.763 seconds. Error rate 0.711\n",
      "   (286, 7) (286, 7, 2) (286, 7, 2) in 0.677 seconds\n"
     ]
    },
    {
     "name": "stderr",
     "output_type": "stream",
     "text": [
      "/srv/jaybie/archive/spatial-privacy-master/nn_matchers.py:773: FutureWarning: in the future insert will treat boolean arrays and array-likes as a boolean index instead of casting it to integer\n",
      "  good_matches_kp_idx = np.insert(good_matches[good_matches_ref_kp],True,good_matches_ref_kp)\n"
     ]
    },
    {
     "name": "stdout",
     "output_type": "stream",
     "text": [
      "   2.0 : Done with 398, in 45.406 seconds. Error rate 0.731\n",
      "   (239, 7) (239, 7, 2) (239, 7, 2) in 0.677 seconds\n"
     ]
    },
    {
     "name": "stderr",
     "output_type": "stream",
     "text": [
      "/srv/jaybie/archive/spatial-privacy-master/nn_matchers.py:773: FutureWarning: in the future insert will treat boolean arrays and array-likes as a boolean index instead of casting it to integer\n",
      "  good_matches_kp_idx = np.insert(good_matches[good_matches_ref_kp],True,good_matches_ref_kp)\n"
     ]
    },
    {
     "name": "stdout",
     "output_type": "stream",
     "text": [
      "   2.0 : Done with 464, in 52.312 seconds. Error rate 0.728\n",
      "   (266, 7) (266, 7, 2) (266, 7, 2) in 0.546 seconds\n"
     ]
    },
    {
     "name": "stderr",
     "output_type": "stream",
     "text": [
      "/srv/jaybie/archive/spatial-privacy-master/nn_matchers.py:773: FutureWarning: in the future insert will treat boolean arrays and array-likes as a boolean index instead of casting it to integer\n",
      "  good_matches_kp_idx = np.insert(good_matches[good_matches_ref_kp],True,good_matches_ref_kp)\n"
     ]
    },
    {
     "name": "stdout",
     "output_type": "stream",
     "text": [
      "   2.0 : Done with 530, in 56.655 seconds. Error rate 0.730\n",
      "   (265, 7) (265, 7, 2) (265, 7, 2) in 0.510 seconds\n"
     ]
    },
    {
     "name": "stderr",
     "output_type": "stream",
     "text": [
      "/srv/jaybie/archive/spatial-privacy-master/nn_matchers.py:773: FutureWarning: in the future insert will treat boolean arrays and array-likes as a boolean index instead of casting it to integer\n",
      "  good_matches_kp_idx = np.insert(good_matches[good_matches_ref_kp],True,good_matches_ref_kp)\n"
     ]
    },
    {
     "name": "stdout",
     "output_type": "stream",
     "text": [
      "   2.0 : Done with 596, in 54.408 seconds. Error rate 0.730\n",
      "   (171, 7) (171, 7, 2) (171, 7, 2) in 0.355 seconds\n"
     ]
    },
    {
     "name": "stderr",
     "output_type": "stream",
     "text": [
      "/srv/jaybie/archive/spatial-privacy-master/nn_matchers.py:773: FutureWarning: in the future insert will treat boolean arrays and array-likes as a boolean index instead of casting it to integer\n",
      "  good_matches_kp_idx = np.insert(good_matches[good_matches_ref_kp],True,good_matches_ref_kp)\n"
     ]
    },
    {
     "name": "stdout",
     "output_type": "stream",
     "text": [
      "   2.0 : Done with 662, in 50.931 seconds. Error rate 0.734\n",
      "   (323, 7) (323, 7, 2) (323, 7, 2) in 0.758 seconds\n"
     ]
    },
    {
     "name": "stderr",
     "output_type": "stream",
     "text": [
      "/srv/jaybie/archive/spatial-privacy-master/nn_matchers.py:773: FutureWarning: in the future insert will treat boolean arrays and array-likes as a boolean index instead of casting it to integer\n",
      "  good_matches_kp_idx = np.insert(good_matches[good_matches_ref_kp],True,good_matches_ref_kp)\n"
     ]
    },
    {
     "name": "stdout",
     "output_type": "stream",
     "text": [
      "   2.0 : Done with 728, in 47.107 seconds. Error rate 0.739\n",
      "   (236, 7) (236, 7, 2) (236, 7, 2) in 0.479 seconds\n"
     ]
    },
    {
     "name": "stderr",
     "output_type": "stream",
     "text": [
      "/srv/jaybie/archive/spatial-privacy-master/nn_matchers.py:773: FutureWarning: in the future insert will treat boolean arrays and array-likes as a boolean index instead of casting it to integer\n",
      "  good_matches_kp_idx = np.insert(good_matches[good_matches_ref_kp],True,good_matches_ref_kp)\n"
     ]
    },
    {
     "name": "stdout",
     "output_type": "stream",
     "text": [
      "   2.0 : Done with 794, in 51.274 seconds. Error rate 0.730\n",
      "   (365, 7) (365, 7, 2) (365, 7, 2) in 1.293 seconds\n"
     ]
    },
    {
     "name": "stderr",
     "output_type": "stream",
     "text": [
      "/srv/jaybie/archive/spatial-privacy-master/nn_matchers.py:773: FutureWarning: in the future insert will treat boolean arrays and array-likes as a boolean index instead of casting it to integer\n",
      "  good_matches_kp_idx = np.insert(good_matches[good_matches_ref_kp],True,good_matches_ref_kp)\n"
     ]
    },
    {
     "name": "stdout",
     "output_type": "stream",
     "text": [
      "   2.0 : Done with 860, in 51.568 seconds. Error rate 0.722\n",
      "   (157, 7) (157, 7, 2) (157, 7, 2) in 0.286 seconds\n"
     ]
    },
    {
     "name": "stderr",
     "output_type": "stream",
     "text": [
      "/srv/jaybie/archive/spatial-privacy-master/nn_matchers.py:773: FutureWarning: in the future insert will treat boolean arrays and array-likes as a boolean index instead of casting it to integer\n",
      "  good_matches_kp_idx = np.insert(good_matches[good_matches_ref_kp],True,good_matches_ref_kp)\n"
     ]
    },
    {
     "name": "stdout",
     "output_type": "stream",
     "text": [
      "   2.0 : Done with 926, in 51.649 seconds. Error rate 0.722\n",
      "   (290, 7) (290, 7, 2) (290, 7, 2) in 0.788 seconds\n"
     ]
    },
    {
     "name": "stderr",
     "output_type": "stream",
     "text": [
      "/srv/jaybie/archive/spatial-privacy-master/nn_matchers.py:773: FutureWarning: in the future insert will treat boolean arrays and array-likes as a boolean index instead of casting it to integer\n",
      "  good_matches_kp_idx = np.insert(good_matches[good_matches_ref_kp],True,good_matches_ref_kp)\n"
     ]
    },
    {
     "name": "stdout",
     "output_type": "stream",
     "text": [
      "   2.0 : Done with 992, in 46.759 seconds. Error rate 0.723\n",
      "   (207, 7) (207, 7, 2) (207, 7, 2) in 0.367 seconds\n",
      "2.0  Total Time to match 909.943 seconds.\n",
      "radius = 2.5\n",
      "   2.5 : Done with 2, in 2.037 seconds. Error rate 1.000\n",
      "   (461, 7) (461, 7, 2) (461, 7, 2) in 1.352 seconds\n"
     ]
    },
    {
     "name": "stderr",
     "output_type": "stream",
     "text": [
      "/srv/jaybie/archive/spatial-privacy-master/nn_matchers.py:773: FutureWarning: in the future insert will treat boolean arrays and array-likes as a boolean index instead of casting it to integer\n",
      "  good_matches_kp_idx = np.insert(good_matches[good_matches_ref_kp],True,good_matches_ref_kp)\n"
     ]
    },
    {
     "name": "stdout",
     "output_type": "stream",
     "text": [
      "   2.5 : Done with 68, in 78.961 seconds. Error rate 0.676\n",
      "   (267, 7) (267, 7, 2) (267, 7, 2) in 0.599 seconds\n"
     ]
    },
    {
     "name": "stderr",
     "output_type": "stream",
     "text": [
      "/srv/jaybie/archive/spatial-privacy-master/nn_matchers.py:773: FutureWarning: in the future insert will treat boolean arrays and array-likes as a boolean index instead of casting it to integer\n",
      "  good_matches_kp_idx = np.insert(good_matches[good_matches_ref_kp],True,good_matches_ref_kp)\n"
     ]
    },
    {
     "name": "stdout",
     "output_type": "stream",
     "text": [
      "   2.5 : Done with 134, in 81.604 seconds. Error rate 0.679\n",
      "   (565, 7) (565, 7, 2) (565, 7, 2) in 3.214 seconds\n"
     ]
    },
    {
     "name": "stderr",
     "output_type": "stream",
     "text": [
      "/srv/jaybie/archive/spatial-privacy-master/nn_matchers.py:773: FutureWarning: in the future insert will treat boolean arrays and array-likes as a boolean index instead of casting it to integer\n",
      "  good_matches_kp_idx = np.insert(good_matches[good_matches_ref_kp],True,good_matches_ref_kp)\n"
     ]
    },
    {
     "name": "stdout",
     "output_type": "stream",
     "text": [
      "   2.5 : Done with 200, in 86.806 seconds. Error rate 0.695\n",
      "   (606, 7) (606, 7, 2) (606, 7, 2) in 2.784 seconds\n"
     ]
    },
    {
     "name": "stderr",
     "output_type": "stream",
     "text": [
      "/srv/jaybie/archive/spatial-privacy-master/nn_matchers.py:773: FutureWarning: in the future insert will treat boolean arrays and array-likes as a boolean index instead of casting it to integer\n",
      "  good_matches_kp_idx = np.insert(good_matches[good_matches_ref_kp],True,good_matches_ref_kp)\n"
     ]
    },
    {
     "name": "stdout",
     "output_type": "stream",
     "text": [
      "   2.5 : Done with 266, in 83.487 seconds. Error rate 0.714\n",
      "   (426, 7) (426, 7, 2) (426, 7, 2) in 1.207 seconds\n"
     ]
    },
    {
     "name": "stderr",
     "output_type": "stream",
     "text": [
      "/srv/jaybie/archive/spatial-privacy-master/nn_matchers.py:773: FutureWarning: in the future insert will treat boolean arrays and array-likes as a boolean index instead of casting it to integer\n",
      "  good_matches_kp_idx = np.insert(good_matches[good_matches_ref_kp],True,good_matches_ref_kp)\n"
     ]
    },
    {
     "name": "stdout",
     "output_type": "stream",
     "text": [
      "   2.5 : Done with 332, in 81.198 seconds. Error rate 0.726\n",
      "   (320, 7) (320, 7, 2) (320, 7, 2) in 0.866 seconds\n"
     ]
    },
    {
     "name": "stderr",
     "output_type": "stream",
     "text": [
      "/srv/jaybie/archive/spatial-privacy-master/nn_matchers.py:773: FutureWarning: in the future insert will treat boolean arrays and array-likes as a boolean index instead of casting it to integer\n",
      "  good_matches_kp_idx = np.insert(good_matches[good_matches_ref_kp],True,good_matches_ref_kp)\n"
     ]
    },
    {
     "name": "stdout",
     "output_type": "stream",
     "text": [
      "   2.5 : Done with 398, in 78.971 seconds. Error rate 0.731\n",
      "   (375, 7) (375, 7, 2) (375, 7, 2) in 1.345 seconds\n"
     ]
    },
    {
     "name": "stderr",
     "output_type": "stream",
     "text": [
      "/srv/jaybie/archive/spatial-privacy-master/nn_matchers.py:773: FutureWarning: in the future insert will treat boolean arrays and array-likes as a boolean index instead of casting it to integer\n",
      "  good_matches_kp_idx = np.insert(good_matches[good_matches_ref_kp],True,good_matches_ref_kp)\n"
     ]
    },
    {
     "name": "stdout",
     "output_type": "stream",
     "text": [
      "   2.5 : Done with 464, in 93.007 seconds. Error rate 0.728\n",
      "   (250, 7) (250, 7, 2) (250, 7, 2) in 0.582 seconds\n"
     ]
    },
    {
     "name": "stderr",
     "output_type": "stream",
     "text": [
      "/srv/jaybie/archive/spatial-privacy-master/nn_matchers.py:773: FutureWarning: in the future insert will treat boolean arrays and array-likes as a boolean index instead of casting it to integer\n",
      "  good_matches_kp_idx = np.insert(good_matches[good_matches_ref_kp],True,good_matches_ref_kp)\n"
     ]
    },
    {
     "name": "stdout",
     "output_type": "stream",
     "text": [
      "   2.5 : Done with 530, in 91.672 seconds. Error rate 0.730\n",
      "   (324, 7) (324, 7, 2) (324, 7, 2) in 0.727 seconds\n"
     ]
    },
    {
     "name": "stderr",
     "output_type": "stream",
     "text": [
      "/srv/jaybie/archive/spatial-privacy-master/nn_matchers.py:773: FutureWarning: in the future insert will treat boolean arrays and array-likes as a boolean index instead of casting it to integer\n",
      "  good_matches_kp_idx = np.insert(good_matches[good_matches_ref_kp],True,good_matches_ref_kp)\n"
     ]
    },
    {
     "name": "stdout",
     "output_type": "stream",
     "text": [
      "   2.5 : Done with 596, in 94.505 seconds. Error rate 0.728\n",
      "   (223, 7) (223, 7, 2) (223, 7, 2) in 0.510 seconds\n"
     ]
    },
    {
     "name": "stderr",
     "output_type": "stream",
     "text": [
      "/srv/jaybie/archive/spatial-privacy-master/nn_matchers.py:773: FutureWarning: in the future insert will treat boolean arrays and array-likes as a boolean index instead of casting it to integer\n",
      "  good_matches_kp_idx = np.insert(good_matches[good_matches_ref_kp],True,good_matches_ref_kp)\n"
     ]
    },
    {
     "name": "stdout",
     "output_type": "stream",
     "text": [
      "   2.5 : Done with 662, in 81.528 seconds. Error rate 0.719\n",
      "   (371, 7) (371, 7, 2) (371, 7, 2) in 0.944 seconds\n"
     ]
    },
    {
     "name": "stderr",
     "output_type": "stream",
     "text": [
      "/srv/jaybie/archive/spatial-privacy-master/nn_matchers.py:773: FutureWarning: in the future insert will treat boolean arrays and array-likes as a boolean index instead of casting it to integer\n",
      "  good_matches_kp_idx = np.insert(good_matches[good_matches_ref_kp],True,good_matches_ref_kp)\n"
     ]
    },
    {
     "name": "stdout",
     "output_type": "stream",
     "text": [
      "   2.5 : Done with 728, in 82.361 seconds. Error rate 0.718\n",
      "   (368, 7) (368, 7, 2) (368, 7, 2) in 0.940 seconds\n"
     ]
    },
    {
     "name": "stderr",
     "output_type": "stream",
     "text": [
      "/srv/jaybie/archive/spatial-privacy-master/nn_matchers.py:773: FutureWarning: in the future insert will treat boolean arrays and array-likes as a boolean index instead of casting it to integer\n",
      "  good_matches_kp_idx = np.insert(good_matches[good_matches_ref_kp],True,good_matches_ref_kp)\n"
     ]
    },
    {
     "name": "stdout",
     "output_type": "stream",
     "text": [
      "   2.5 : Done with 794, in 90.112 seconds. Error rate 0.718\n",
      "   (684, 7) (684, 7, 2) (684, 7, 2) in 3.115 seconds\n"
     ]
    },
    {
     "name": "stderr",
     "output_type": "stream",
     "text": [
      "/srv/jaybie/archive/spatial-privacy-master/nn_matchers.py:773: FutureWarning: in the future insert will treat boolean arrays and array-likes as a boolean index instead of casting it to integer\n",
      "  good_matches_kp_idx = np.insert(good_matches[good_matches_ref_kp],True,good_matches_ref_kp)\n"
     ]
    },
    {
     "name": "stdout",
     "output_type": "stream",
     "text": [
      "   2.5 : Done with 860, in 88.067 seconds. Error rate 0.712\n",
      "   (196, 7) (196, 7, 2) (196, 7, 2) in 0.384 seconds\n"
     ]
    },
    {
     "name": "stderr",
     "output_type": "stream",
     "text": [
      "/srv/jaybie/archive/spatial-privacy-master/nn_matchers.py:773: FutureWarning: in the future insert will treat boolean arrays and array-likes as a boolean index instead of casting it to integer\n",
      "  good_matches_kp_idx = np.insert(good_matches[good_matches_ref_kp],True,good_matches_ref_kp)\n"
     ]
    },
    {
     "name": "stdout",
     "output_type": "stream",
     "text": [
      "   2.5 : Done with 926, in 89.648 seconds. Error rate 0.712\n",
      "   (525, 7) (525, 7, 2) (525, 7, 2) in 1.734 seconds\n"
     ]
    },
    {
     "name": "stderr",
     "output_type": "stream",
     "text": [
      "/srv/jaybie/archive/spatial-privacy-master/nn_matchers.py:773: FutureWarning: in the future insert will treat boolean arrays and array-likes as a boolean index instead of casting it to integer\n",
      "  good_matches_kp_idx = np.insert(good_matches[good_matches_ref_kp],True,good_matches_ref_kp)\n"
     ]
    },
    {
     "name": "stdout",
     "output_type": "stream",
     "text": [
      "   2.5 : Done with 992, in 81.710 seconds. Error rate 0.708\n",
      "   (299, 7) (299, 7, 2) (299, 7, 2) in 0.640 seconds\n",
      "2.5  Total Time to match 1516.514 seconds.\n",
      "radius = 3.0\n"
     ]
    },
    {
     "name": "stderr",
     "output_type": "stream",
     "text": [
      "/srv/jaybie/archive/spatial-privacy-master/nn_matchers.py:773: FutureWarning: in the future insert will treat boolean arrays and array-likes as a boolean index instead of casting it to integer\n",
      "  good_matches_kp_idx = np.insert(good_matches[good_matches_ref_kp],True,good_matches_ref_kp)\n"
     ]
    },
    {
     "name": "stdout",
     "output_type": "stream",
     "text": [
      "   3.0 : Done with 2, in 3.220 seconds. Error rate 0.500\n",
      "   (530, 7) (530, 7, 2) (530, 7, 2) in 2.010 seconds\n"
     ]
    },
    {
     "name": "stderr",
     "output_type": "stream",
     "text": [
      "/srv/jaybie/archive/spatial-privacy-master/nn_matchers.py:773: FutureWarning: in the future insert will treat boolean arrays and array-likes as a boolean index instead of casting it to integer\n",
      "  good_matches_kp_idx = np.insert(good_matches[good_matches_ref_kp],True,good_matches_ref_kp)\n"
     ]
    },
    {
     "name": "stdout",
     "output_type": "stream",
     "text": [
      "   3.0 : Done with 68, in 111.623 seconds. Error rate 0.676\n",
      "   (365, 7) (365, 7, 2) (365, 7, 2) in 0.972 seconds\n"
     ]
    },
    {
     "name": "stderr",
     "output_type": "stream",
     "text": [
      "/srv/jaybie/archive/spatial-privacy-master/nn_matchers.py:773: FutureWarning: in the future insert will treat boolean arrays and array-likes as a boolean index instead of casting it to integer\n",
      "  good_matches_kp_idx = np.insert(good_matches[good_matches_ref_kp],True,good_matches_ref_kp)\n"
     ]
    },
    {
     "name": "stdout",
     "output_type": "stream",
     "text": [
      "   3.0 : Done with 134, in 115.526 seconds. Error rate 0.672\n",
      "   (619, 7) (619, 7, 2) (619, 7, 2) in 2.140 seconds\n"
     ]
    },
    {
     "name": "stderr",
     "output_type": "stream",
     "text": [
      "/srv/jaybie/archive/spatial-privacy-master/nn_matchers.py:773: FutureWarning: in the future insert will treat boolean arrays and array-likes as a boolean index instead of casting it to integer\n",
      "  good_matches_kp_idx = np.insert(good_matches[good_matches_ref_kp],True,good_matches_ref_kp)\n"
     ]
    },
    {
     "name": "stdout",
     "output_type": "stream",
     "text": [
      "   3.0 : Done with 200, in 127.409 seconds. Error rate 0.690\n",
      "   (922, 7) (922, 7, 2) (922, 7, 2) in 2.753 seconds\n"
     ]
    },
    {
     "name": "stderr",
     "output_type": "stream",
     "text": [
      "/srv/jaybie/archive/spatial-privacy-master/nn_matchers.py:773: FutureWarning: in the future insert will treat boolean arrays and array-likes as a boolean index instead of casting it to integer\n",
      "  good_matches_kp_idx = np.insert(good_matches[good_matches_ref_kp],True,good_matches_ref_kp)\n"
     ]
    },
    {
     "name": "stdout",
     "output_type": "stream",
     "text": [
      "   3.0 : Done with 266, in 132.987 seconds. Error rate 0.707\n",
      "   (491, 7) (491, 7, 2) (491, 7, 2) in 1.497 seconds\n"
     ]
    },
    {
     "name": "stderr",
     "output_type": "stream",
     "text": [
      "/srv/jaybie/archive/spatial-privacy-master/nn_matchers.py:773: FutureWarning: in the future insert will treat boolean arrays and array-likes as a boolean index instead of casting it to integer\n",
      "  good_matches_kp_idx = np.insert(good_matches[good_matches_ref_kp],True,good_matches_ref_kp)\n"
     ]
    },
    {
     "name": "stdout",
     "output_type": "stream",
     "text": [
      "   3.0 : Done with 332, in 121.587 seconds. Error rate 0.720\n",
      "   (323, 7) (323, 7, 2) (323, 7, 2) in 0.904 seconds\n"
     ]
    },
    {
     "name": "stderr",
     "output_type": "stream",
     "text": [
      "/srv/jaybie/archive/spatial-privacy-master/nn_matchers.py:773: FutureWarning: in the future insert will treat boolean arrays and array-likes as a boolean index instead of casting it to integer\n",
      "  good_matches_kp_idx = np.insert(good_matches[good_matches_ref_kp],True,good_matches_ref_kp)\n"
     ]
    },
    {
     "name": "stdout",
     "output_type": "stream",
     "text": [
      "   3.0 : Done with 398, in 111.884 seconds. Error rate 0.724\n",
      "   (536, 7) (536, 7, 2) (536, 7, 2) in 2.110 seconds\n"
     ]
    },
    {
     "name": "stderr",
     "output_type": "stream",
     "text": [
      "/srv/jaybie/archive/spatial-privacy-master/nn_matchers.py:773: FutureWarning: in the future insert will treat boolean arrays and array-likes as a boolean index instead of casting it to integer\n",
      "  good_matches_kp_idx = np.insert(good_matches[good_matches_ref_kp],True,good_matches_ref_kp)\n"
     ]
    },
    {
     "name": "stdout",
     "output_type": "stream",
     "text": [
      "   3.0 : Done with 464, in 131.065 seconds. Error rate 0.718\n",
      "   (290, 7) (290, 7, 2) (290, 7, 2) in 0.694 seconds\n"
     ]
    },
    {
     "name": "stderr",
     "output_type": "stream",
     "text": [
      "/srv/jaybie/archive/spatial-privacy-master/nn_matchers.py:773: FutureWarning: in the future insert will treat boolean arrays and array-likes as a boolean index instead of casting it to integer\n",
      "  good_matches_kp_idx = np.insert(good_matches[good_matches_ref_kp],True,good_matches_ref_kp)\n"
     ]
    },
    {
     "name": "stdout",
     "output_type": "stream",
     "text": [
      "   3.0 : Done with 530, in 132.835 seconds. Error rate 0.711\n",
      "   (448, 7) (448, 7, 2) (448, 7, 2) in 1.247 seconds\n"
     ]
    },
    {
     "name": "stderr",
     "output_type": "stream",
     "text": [
      "/srv/jaybie/archive/spatial-privacy-master/nn_matchers.py:773: FutureWarning: in the future insert will treat boolean arrays and array-likes as a boolean index instead of casting it to integer\n",
      "  good_matches_kp_idx = np.insert(good_matches[good_matches_ref_kp],True,good_matches_ref_kp)\n"
     ]
    },
    {
     "name": "stdout",
     "output_type": "stream",
     "text": [
      "   3.0 : Done with 596, in 136.405 seconds. Error rate 0.715\n",
      "   (292, 7) (292, 7, 2) (292, 7, 2) in 0.709 seconds\n"
     ]
    },
    {
     "name": "stderr",
     "output_type": "stream",
     "text": [
      "/srv/jaybie/archive/spatial-privacy-master/nn_matchers.py:773: FutureWarning: in the future insert will treat boolean arrays and array-likes as a boolean index instead of casting it to integer\n",
      "  good_matches_kp_idx = np.insert(good_matches[good_matches_ref_kp],True,good_matches_ref_kp)\n"
     ]
    },
    {
     "name": "stdout",
     "output_type": "stream",
     "text": [
      "   3.0 : Done with 662, in 121.214 seconds. Error rate 0.708\n",
      "   (434, 7) (434, 7, 2) (434, 7, 2) in 1.158 seconds\n"
     ]
    },
    {
     "name": "stderr",
     "output_type": "stream",
     "text": [
      "/srv/jaybie/archive/spatial-privacy-master/nn_matchers.py:773: FutureWarning: in the future insert will treat boolean arrays and array-likes as a boolean index instead of casting it to integer\n",
      "  good_matches_kp_idx = np.insert(good_matches[good_matches_ref_kp],True,good_matches_ref_kp)\n"
     ]
    },
    {
     "name": "stdout",
     "output_type": "stream",
     "text": [
      "   3.0 : Done with 728, in 125.540 seconds. Error rate 0.703\n",
      "   (489, 7) (489, 7, 2) (489, 7, 2) in 1.502 seconds\n"
     ]
    },
    {
     "name": "stderr",
     "output_type": "stream",
     "text": [
      "/srv/jaybie/archive/spatial-privacy-master/nn_matchers.py:773: FutureWarning: in the future insert will treat boolean arrays and array-likes as a boolean index instead of casting it to integer\n",
      "  good_matches_kp_idx = np.insert(good_matches[good_matches_ref_kp],True,good_matches_ref_kp)\n"
     ]
    },
    {
     "name": "stdout",
     "output_type": "stream",
     "text": [
      "   3.0 : Done with 794, in 128.893 seconds. Error rate 0.705\n",
      "   (740, 7) (740, 7, 2) (740, 7, 2) in 2.146 seconds\n"
     ]
    },
    {
     "name": "stderr",
     "output_type": "stream",
     "text": [
      "/srv/jaybie/archive/spatial-privacy-master/nn_matchers.py:773: FutureWarning: in the future insert will treat boolean arrays and array-likes as a boolean index instead of casting it to integer\n",
      "  good_matches_kp_idx = np.insert(good_matches[good_matches_ref_kp],True,good_matches_ref_kp)\n"
     ]
    },
    {
     "name": "stdout",
     "output_type": "stream",
     "text": [
      "   3.0 : Done with 860, in 137.398 seconds. Error rate 0.700\n",
      "   (227, 7) (227, 7, 2) (227, 7, 2) in 0.463 seconds\n"
     ]
    },
    {
     "name": "stderr",
     "output_type": "stream",
     "text": [
      "/srv/jaybie/archive/spatial-privacy-master/nn_matchers.py:773: FutureWarning: in the future insert will treat boolean arrays and array-likes as a boolean index instead of casting it to integer\n",
      "  good_matches_kp_idx = np.insert(good_matches[good_matches_ref_kp],True,good_matches_ref_kp)\n"
     ]
    },
    {
     "name": "stdout",
     "output_type": "stream",
     "text": [
      "   3.0 : Done with 926, in 133.346 seconds. Error rate 0.702\n",
      "   (716, 7) (716, 7, 2) (716, 7, 2) in 2.928 seconds\n"
     ]
    },
    {
     "name": "stderr",
     "output_type": "stream",
     "text": [
      "/srv/jaybie/archive/spatial-privacy-master/nn_matchers.py:773: FutureWarning: in the future insert will treat boolean arrays and array-likes as a boolean index instead of casting it to integer\n",
      "  good_matches_kp_idx = np.insert(good_matches[good_matches_ref_kp],True,good_matches_ref_kp)\n"
     ]
    },
    {
     "name": "stdout",
     "output_type": "stream",
     "text": [
      "   3.0 : Done with 992, in 119.725 seconds. Error rate 0.701\n",
      "   (408, 7) (408, 7, 2) (408, 7, 2) in 1.020 seconds\n",
      "3.0  Total Time to match 2195.910 seconds.\n",
      "radius = 3.5\n",
      "   3.5 : Done with 2, in 4.307 seconds. Error rate 1.000\n",
      "   (681, 7) (681, 7, 2) (681, 7, 2) in 2.921 seconds\n"
     ]
    },
    {
     "name": "stderr",
     "output_type": "stream",
     "text": [
      "/srv/jaybie/archive/spatial-privacy-master/nn_matchers.py:773: FutureWarning: in the future insert will treat boolean arrays and array-likes as a boolean index instead of casting it to integer\n",
      "  good_matches_kp_idx = np.insert(good_matches[good_matches_ref_kp],True,good_matches_ref_kp)\n"
     ]
    },
    {
     "name": "stdout",
     "output_type": "stream",
     "text": [
      "   3.5 : Done with 68, in 150.188 seconds. Error rate 0.662\n",
      "   (492, 7) (492, 7, 2) (492, 7, 2) in 1.655 seconds\n"
     ]
    },
    {
     "name": "stderr",
     "output_type": "stream",
     "text": [
      "/srv/jaybie/archive/spatial-privacy-master/nn_matchers.py:773: FutureWarning: in the future insert will treat boolean arrays and array-likes as a boolean index instead of casting it to integer\n",
      "  good_matches_kp_idx = np.insert(good_matches[good_matches_ref_kp],True,good_matches_ref_kp)\n"
     ]
    },
    {
     "name": "stdout",
     "output_type": "stream",
     "text": [
      "   3.5 : Done with 134, in 150.151 seconds. Error rate 0.649\n",
      "   (876, 7) (876, 7, 2) (876, 7, 2) in 3.851 seconds\n"
     ]
    },
    {
     "name": "stderr",
     "output_type": "stream",
     "text": [
      "/srv/jaybie/archive/spatial-privacy-master/nn_matchers.py:773: FutureWarning: in the future insert will treat boolean arrays and array-likes as a boolean index instead of casting it to integer\n",
      "  good_matches_kp_idx = np.insert(good_matches[good_matches_ref_kp],True,good_matches_ref_kp)\n"
     ]
    },
    {
     "name": "stdout",
     "output_type": "stream",
     "text": [
      "   3.5 : Done with 200, in 167.643 seconds. Error rate 0.670\n",
      "   (1262, 7) (1262, 7, 2) (1262, 7, 2) in 4.353 seconds\n"
     ]
    },
    {
     "name": "stderr",
     "output_type": "stream",
     "text": [
      "/srv/jaybie/archive/spatial-privacy-master/nn_matchers.py:773: FutureWarning: in the future insert will treat boolean arrays and array-likes as a boolean index instead of casting it to integer\n",
      "  good_matches_kp_idx = np.insert(good_matches[good_matches_ref_kp],True,good_matches_ref_kp)\n"
     ]
    },
    {
     "name": "stdout",
     "output_type": "stream",
     "text": [
      "   3.5 : Done with 266, in 176.589 seconds. Error rate 0.680\n",
      "   (517, 7) (517, 7, 2) (517, 7, 2) in 1.677 seconds\n"
     ]
    },
    {
     "name": "stderr",
     "output_type": "stream",
     "text": [
      "/srv/jaybie/archive/spatial-privacy-master/nn_matchers.py:773: FutureWarning: in the future insert will treat boolean arrays and array-likes as a boolean index instead of casting it to integer\n",
      "  good_matches_kp_idx = np.insert(good_matches[good_matches_ref_kp],True,good_matches_ref_kp)\n"
     ]
    },
    {
     "name": "stdout",
     "output_type": "stream",
     "text": [
      "   3.5 : Done with 332, in 159.682 seconds. Error rate 0.699\n",
      "   (355, 7) (355, 7, 2) (355, 7, 2) in 1.080 seconds\n"
     ]
    },
    {
     "name": "stderr",
     "output_type": "stream",
     "text": [
      "/srv/jaybie/archive/spatial-privacy-master/nn_matchers.py:773: FutureWarning: in the future insert will treat boolean arrays and array-likes as a boolean index instead of casting it to integer\n",
      "  good_matches_kp_idx = np.insert(good_matches[good_matches_ref_kp],True,good_matches_ref_kp)\n"
     ]
    },
    {
     "name": "stdout",
     "output_type": "stream",
     "text": [
      "   3.5 : Done with 398, in 150.901 seconds. Error rate 0.706\n",
      "   (627, 7) (627, 7, 2) (627, 7, 2) in 2.678 seconds\n"
     ]
    },
    {
     "name": "stderr",
     "output_type": "stream",
     "text": [
      "/srv/jaybie/archive/spatial-privacy-master/nn_matchers.py:773: FutureWarning: in the future insert will treat boolean arrays and array-likes as a boolean index instead of casting it to integer\n",
      "  good_matches_kp_idx = np.insert(good_matches[good_matches_ref_kp],True,good_matches_ref_kp)\n"
     ]
    },
    {
     "name": "stdout",
     "output_type": "stream",
     "text": [
      "   3.5 : Done with 464, in 189.922 seconds. Error rate 0.707\n",
      "   (389, 7) (389, 7, 2) (389, 7, 2) in 1.043 seconds\n"
     ]
    },
    {
     "name": "stderr",
     "output_type": "stream",
     "text": [
      "/srv/jaybie/archive/spatial-privacy-master/nn_matchers.py:773: FutureWarning: in the future insert will treat boolean arrays and array-likes as a boolean index instead of casting it to integer\n",
      "  good_matches_kp_idx = np.insert(good_matches[good_matches_ref_kp],True,good_matches_ref_kp)\n"
     ]
    },
    {
     "name": "stdout",
     "output_type": "stream",
     "text": [
      "   3.5 : Done with 530, in 163.005 seconds. Error rate 0.706\n",
      "   (583, 7) (583, 7, 2) (583, 7, 2) in 1.887 seconds\n"
     ]
    },
    {
     "name": "stderr",
     "output_type": "stream",
     "text": [
      "/srv/jaybie/archive/spatial-privacy-master/nn_matchers.py:773: FutureWarning: in the future insert will treat boolean arrays and array-likes as a boolean index instead of casting it to integer\n",
      "  good_matches_kp_idx = np.insert(good_matches[good_matches_ref_kp],True,good_matches_ref_kp)\n"
     ]
    },
    {
     "name": "stdout",
     "output_type": "stream",
     "text": [
      "   3.5 : Done with 596, in 182.023 seconds. Error rate 0.703\n",
      "   (306, 7) (306, 7, 2) (306, 7, 2) in 0.794 seconds\n"
     ]
    },
    {
     "name": "stderr",
     "output_type": "stream",
     "text": [
      "/srv/jaybie/archive/spatial-privacy-master/nn_matchers.py:773: FutureWarning: in the future insert will treat boolean arrays and array-likes as a boolean index instead of casting it to integer\n",
      "  good_matches_kp_idx = np.insert(good_matches[good_matches_ref_kp],True,good_matches_ref_kp)\n"
     ]
    },
    {
     "name": "stdout",
     "output_type": "stream",
     "text": [
      "   3.5 : Done with 662, in 165.585 seconds. Error rate 0.698\n",
      "   (445, 7) (445, 7, 2) (445, 7, 2) in 1.231 seconds\n"
     ]
    },
    {
     "name": "stderr",
     "output_type": "stream",
     "text": [
      "/srv/jaybie/archive/spatial-privacy-master/nn_matchers.py:773: FutureWarning: in the future insert will treat boolean arrays and array-likes as a boolean index instead of casting it to integer\n",
      "  good_matches_kp_idx = np.insert(good_matches[good_matches_ref_kp],True,good_matches_ref_kp)\n"
     ]
    },
    {
     "name": "stdout",
     "output_type": "stream",
     "text": [
      "   3.5 : Done with 728, in 162.676 seconds. Error rate 0.698\n",
      "   (560, 7) (560, 7, 2) (560, 7, 2) in 2.030 seconds\n"
     ]
    },
    {
     "name": "stderr",
     "output_type": "stream",
     "text": [
      "/srv/jaybie/archive/spatial-privacy-master/nn_matchers.py:773: FutureWarning: in the future insert will treat boolean arrays and array-likes as a boolean index instead of casting it to integer\n",
      "  good_matches_kp_idx = np.insert(good_matches[good_matches_ref_kp],True,good_matches_ref_kp)\n"
     ]
    },
    {
     "name": "stdout",
     "output_type": "stream",
     "text": [
      "   3.5 : Done with 794, in 175.568 seconds. Error rate 0.699\n",
      "   (1076, 7) (1076, 7, 2) (1076, 7, 2) in 3.681 seconds\n"
     ]
    },
    {
     "name": "stderr",
     "output_type": "stream",
     "text": [
      "/srv/jaybie/archive/spatial-privacy-master/nn_matchers.py:773: FutureWarning: in the future insert will treat boolean arrays and array-likes as a boolean index instead of casting it to integer\n",
      "  good_matches_kp_idx = np.insert(good_matches[good_matches_ref_kp],True,good_matches_ref_kp)\n"
     ]
    },
    {
     "name": "stdout",
     "output_type": "stream",
     "text": [
      "   3.5 : Done with 860, in 183.635 seconds. Error rate 0.699\n",
      "   (272, 7) (272, 7, 2) (272, 7, 2) in 0.558 seconds\n"
     ]
    },
    {
     "name": "stderr",
     "output_type": "stream",
     "text": [
      "/srv/jaybie/archive/spatial-privacy-master/nn_matchers.py:773: FutureWarning: in the future insert will treat boolean arrays and array-likes as a boolean index instead of casting it to integer\n",
      "  good_matches_kp_idx = np.insert(good_matches[good_matches_ref_kp],True,good_matches_ref_kp)\n"
     ]
    },
    {
     "name": "stdout",
     "output_type": "stream",
     "text": [
      "   3.5 : Done with 926, in 184.629 seconds. Error rate 0.702\n",
      "   (918, 7) (918, 7, 2) (918, 7, 2) in 4.606 seconds\n"
     ]
    },
    {
     "name": "stderr",
     "output_type": "stream",
     "text": [
      "/srv/jaybie/archive/spatial-privacy-master/nn_matchers.py:773: FutureWarning: in the future insert will treat boolean arrays and array-likes as a boolean index instead of casting it to integer\n",
      "  good_matches_kp_idx = np.insert(good_matches[good_matches_ref_kp],True,good_matches_ref_kp)\n"
     ]
    },
    {
     "name": "stdout",
     "output_type": "stream",
     "text": [
      "   3.5 : Done with 992, in 168.365 seconds. Error rate 0.701\n",
      "   (556, 7) (556, 7, 2) (556, 7, 2) in 1.801 seconds\n",
      "3.5  Total Time to match 2907.051 seconds.\n",
      "radius = 4.0\n",
      "   4.0 : Done with 2, in 7.805 seconds. Error rate 1.000\n",
      "   (1127, 7) (1127, 7, 2) (1127, 7, 2) in 5.837 seconds\n"
     ]
    },
    {
     "name": "stderr",
     "output_type": "stream",
     "text": [
      "/srv/jaybie/archive/spatial-privacy-master/nn_matchers.py:773: FutureWarning: in the future insert will treat boolean arrays and array-likes as a boolean index instead of casting it to integer\n",
      "  good_matches_kp_idx = np.insert(good_matches[good_matches_ref_kp],True,good_matches_ref_kp)\n"
     ]
    },
    {
     "name": "stdout",
     "output_type": "stream",
     "text": [
      "   4.0 : Done with 68, in 185.917 seconds. Error rate 0.676\n",
      "   (575, 7) (575, 7, 2) (575, 7, 2) in 2.225 seconds\n"
     ]
    },
    {
     "name": "stderr",
     "output_type": "stream",
     "text": [
      "/srv/jaybie/archive/spatial-privacy-master/nn_matchers.py:773: FutureWarning: in the future insert will treat boolean arrays and array-likes as a boolean index instead of casting it to integer\n",
      "  good_matches_kp_idx = np.insert(good_matches[good_matches_ref_kp],True,good_matches_ref_kp)\n"
     ]
    },
    {
     "name": "stdout",
     "output_type": "stream",
     "text": [
      "   4.0 : Done with 134, in 189.283 seconds. Error rate 0.687\n",
      "   (1109, 7) (1109, 7, 2) (1109, 7, 2) in 5.607 seconds\n"
     ]
    },
    {
     "name": "stderr",
     "output_type": "stream",
     "text": [
      "/srv/jaybie/archive/spatial-privacy-master/nn_matchers.py:773: FutureWarning: in the future insert will treat boolean arrays and array-likes as a boolean index instead of casting it to integer\n",
      "  good_matches_kp_idx = np.insert(good_matches[good_matches_ref_kp],True,good_matches_ref_kp)\n"
     ]
    },
    {
     "name": "stdout",
     "output_type": "stream",
     "text": [
      "   4.0 : Done with 200, in 205.428 seconds. Error rate 0.685\n",
      "   (1276, 7) (1276, 7, 2) (1276, 7, 2) in 5.698 seconds\n"
     ]
    },
    {
     "name": "stderr",
     "output_type": "stream",
     "text": [
      "/srv/jaybie/archive/spatial-privacy-master/nn_matchers.py:773: FutureWarning: in the future insert will treat boolean arrays and array-likes as a boolean index instead of casting it to integer\n",
      "  good_matches_kp_idx = np.insert(good_matches[good_matches_ref_kp],True,good_matches_ref_kp)\n"
     ]
    },
    {
     "name": "stdout",
     "output_type": "stream",
     "text": [
      "   4.0 : Done with 266, in 207.669 seconds. Error rate 0.684\n",
      "   (491, 7) (491, 7, 2) (491, 7, 2) in 1.537 seconds\n"
     ]
    },
    {
     "name": "stderr",
     "output_type": "stream",
     "text": [
      "/srv/jaybie/archive/spatial-privacy-master/nn_matchers.py:773: FutureWarning: in the future insert will treat boolean arrays and array-likes as a boolean index instead of casting it to integer\n",
      "  good_matches_kp_idx = np.insert(good_matches[good_matches_ref_kp],True,good_matches_ref_kp)\n"
     ]
    },
    {
     "name": "stdout",
     "output_type": "stream",
     "text": [
      "   4.0 : Done with 332, in 188.292 seconds. Error rate 0.705\n",
      "   (372, 7) (372, 7, 2) (372, 7, 2) in 1.157 seconds\n"
     ]
    },
    {
     "name": "stderr",
     "output_type": "stream",
     "text": [
      "/srv/jaybie/archive/spatial-privacy-master/nn_matchers.py:773: FutureWarning: in the future insert will treat boolean arrays and array-likes as a boolean index instead of casting it to integer\n",
      "  good_matches_kp_idx = np.insert(good_matches[good_matches_ref_kp],True,good_matches_ref_kp)\n"
     ]
    },
    {
     "name": "stdout",
     "output_type": "stream",
     "text": [
      "   4.0 : Done with 398, in 187.717 seconds. Error rate 0.706\n",
      "   (692, 7) (692, 7, 2) (692, 7, 2) in 3.221 seconds\n"
     ]
    },
    {
     "name": "stderr",
     "output_type": "stream",
     "text": [
      "/srv/jaybie/archive/spatial-privacy-master/nn_matchers.py:773: FutureWarning: in the future insert will treat boolean arrays and array-likes as a boolean index instead of casting it to integer\n",
      "  good_matches_kp_idx = np.insert(good_matches[good_matches_ref_kp],True,good_matches_ref_kp)\n"
     ]
    },
    {
     "name": "stdout",
     "output_type": "stream",
     "text": [
      "   4.0 : Done with 464, in 210.127 seconds. Error rate 0.709\n",
      "   (399, 7) (399, 7, 2) (399, 7, 2) in 1.175 seconds\n"
     ]
    },
    {
     "name": "stderr",
     "output_type": "stream",
     "text": [
      "/srv/jaybie/archive/spatial-privacy-master/nn_matchers.py:773: FutureWarning: in the future insert will treat boolean arrays and array-likes as a boolean index instead of casting it to integer\n",
      "  good_matches_kp_idx = np.insert(good_matches[good_matches_ref_kp],True,good_matches_ref_kp)\n"
     ]
    },
    {
     "name": "stdout",
     "output_type": "stream",
     "text": [
      "   4.0 : Done with 530, in 205.420 seconds. Error rate 0.708\n",
      "   (836, 7) (836, 7, 2) (836, 7, 2) in 3.206 seconds\n"
     ]
    },
    {
     "name": "stderr",
     "output_type": "stream",
     "text": [
      "/srv/jaybie/archive/spatial-privacy-master/nn_matchers.py:773: FutureWarning: in the future insert will treat boolean arrays and array-likes as a boolean index instead of casting it to integer\n",
      "  good_matches_kp_idx = np.insert(good_matches[good_matches_ref_kp],True,good_matches_ref_kp)\n"
     ]
    },
    {
     "name": "stdout",
     "output_type": "stream",
     "text": [
      "   4.0 : Done with 596, in 212.387 seconds. Error rate 0.708\n",
      "   (319, 7) (319, 7, 2) (319, 7, 2) in 0.802 seconds\n"
     ]
    },
    {
     "name": "stderr",
     "output_type": "stream",
     "text": [
      "/srv/jaybie/archive/spatial-privacy-master/nn_matchers.py:773: FutureWarning: in the future insert will treat boolean arrays and array-likes as a boolean index instead of casting it to integer\n",
      "  good_matches_kp_idx = np.insert(good_matches[good_matches_ref_kp],True,good_matches_ref_kp)\n"
     ]
    },
    {
     "name": "stdout",
     "output_type": "stream",
     "text": [
      "   4.0 : Done with 662, in 202.507 seconds. Error rate 0.704\n",
      "   (564, 7) (564, 7, 2) (564, 7, 2) in 1.562 seconds\n"
     ]
    },
    {
     "name": "stderr",
     "output_type": "stream",
     "text": [
      "/srv/jaybie/archive/spatial-privacy-master/nn_matchers.py:773: FutureWarning: in the future insert will treat boolean arrays and array-likes as a boolean index instead of casting it to integer\n",
      "  good_matches_kp_idx = np.insert(good_matches[good_matches_ref_kp],True,good_matches_ref_kp)\n"
     ]
    },
    {
     "name": "stdout",
     "output_type": "stream",
     "text": [
      "   4.0 : Done with 728, in 191.161 seconds. Error rate 0.702\n",
      "   (699, 7) (699, 7, 2) (699, 7, 2) in 2.798 seconds\n"
     ]
    },
    {
     "name": "stderr",
     "output_type": "stream",
     "text": [
      "/srv/jaybie/archive/spatial-privacy-master/nn_matchers.py:773: FutureWarning: in the future insert will treat boolean arrays and array-likes as a boolean index instead of casting it to integer\n",
      "  good_matches_kp_idx = np.insert(good_matches[good_matches_ref_kp],True,good_matches_ref_kp)\n"
     ]
    },
    {
     "name": "stdout",
     "output_type": "stream",
     "text": [
      "   4.0 : Done with 794, in 211.606 seconds. Error rate 0.703\n",
      "   (1676, 7) (1676, 7, 2) (1676, 7, 2) in 6.742 seconds\n"
     ]
    },
    {
     "name": "stderr",
     "output_type": "stream",
     "text": [
      "/srv/jaybie/archive/spatial-privacy-master/nn_matchers.py:773: FutureWarning: in the future insert will treat boolean arrays and array-likes as a boolean index instead of casting it to integer\n",
      "  good_matches_kp_idx = np.insert(good_matches[good_matches_ref_kp],True,good_matches_ref_kp)\n"
     ]
    },
    {
     "name": "stdout",
     "output_type": "stream",
     "text": [
      "   4.0 : Done with 860, in 203.601 seconds. Error rate 0.702\n",
      "   (295, 7) (295, 7, 2) (295, 7, 2) in 0.661 seconds\n"
     ]
    },
    {
     "name": "stderr",
     "output_type": "stream",
     "text": [
      "/srv/jaybie/archive/spatial-privacy-master/nn_matchers.py:773: FutureWarning: in the future insert will treat boolean arrays and array-likes as a boolean index instead of casting it to integer\n",
      "  good_matches_kp_idx = np.insert(good_matches[good_matches_ref_kp],True,good_matches_ref_kp)\n"
     ]
    },
    {
     "name": "stdout",
     "output_type": "stream",
     "text": [
      "   4.0 : Done with 926, in 207.722 seconds. Error rate 0.703\n",
      "   (1086, 7) (1086, 7, 2) (1086, 7, 2) in 3.156 seconds\n"
     ]
    },
    {
     "name": "stderr",
     "output_type": "stream",
     "text": [
      "/srv/jaybie/archive/spatial-privacy-master/nn_matchers.py:773: FutureWarning: in the future insert will treat boolean arrays and array-likes as a boolean index instead of casting it to integer\n",
      "  good_matches_kp_idx = np.insert(good_matches[good_matches_ref_kp],True,good_matches_ref_kp)\n"
     ]
    },
    {
     "name": "stdout",
     "output_type": "stream",
     "text": [
      "   4.0 : Done with 992, in 210.968 seconds. Error rate 0.701\n",
      "   (759, 7) (759, 7, 2) (759, 7, 2) in 3.289 seconds\n",
      "4.0  Total Time to match 3475.891 seconds.\n",
      "radius = 4.5\n",
      "   4.5 : Done with 2, in 5.628 seconds. Error rate 1.000\n",
      "   (1213, 7) (1213, 7, 2) (1213, 7, 2) in 3.609 seconds\n"
     ]
    },
    {
     "name": "stderr",
     "output_type": "stream",
     "text": [
      "/srv/jaybie/archive/spatial-privacy-master/nn_matchers.py:773: FutureWarning: in the future insert will treat boolean arrays and array-likes as a boolean index instead of casting it to integer\n",
      "  good_matches_kp_idx = np.insert(good_matches[good_matches_ref_kp],True,good_matches_ref_kp)\n"
     ]
    },
    {
     "name": "stdout",
     "output_type": "stream",
     "text": [
      "   4.5 : Done with 68, in 215.092 seconds. Error rate 0.662\n",
      "   (707, 7) (707, 7, 2) (707, 7, 2) in 3.235 seconds\n"
     ]
    },
    {
     "name": "stderr",
     "output_type": "stream",
     "text": [
      "/srv/jaybie/archive/spatial-privacy-master/nn_matchers.py:773: FutureWarning: in the future insert will treat boolean arrays and array-likes as a boolean index instead of casting it to integer\n",
      "  good_matches_kp_idx = np.insert(good_matches[good_matches_ref_kp],True,good_matches_ref_kp)\n"
     ]
    },
    {
     "name": "stdout",
     "output_type": "stream",
     "text": [
      "   4.5 : Done with 134, in 208.251 seconds. Error rate 0.679\n",
      "   (1448, 7) (1448, 7, 2) (1448, 7, 2) in 8.081 seconds\n"
     ]
    },
    {
     "name": "stderr",
     "output_type": "stream",
     "text": [
      "/srv/jaybie/archive/spatial-privacy-master/nn_matchers.py:773: FutureWarning: in the future insert will treat boolean arrays and array-likes as a boolean index instead of casting it to integer\n",
      "  good_matches_kp_idx = np.insert(good_matches[good_matches_ref_kp],True,good_matches_ref_kp)\n"
     ]
    },
    {
     "name": "stdout",
     "output_type": "stream",
     "text": [
      "   4.5 : Done with 200, in 227.921 seconds. Error rate 0.675\n",
      "   (1925, 7) (1925, 7, 2) (1925, 7, 2) in 9.026 seconds\n"
     ]
    },
    {
     "name": "stderr",
     "output_type": "stream",
     "text": [
      "/srv/jaybie/archive/spatial-privacy-master/nn_matchers.py:773: FutureWarning: in the future insert will treat boolean arrays and array-likes as a boolean index instead of casting it to integer\n",
      "  good_matches_kp_idx = np.insert(good_matches[good_matches_ref_kp],True,good_matches_ref_kp)\n"
     ]
    },
    {
     "name": "stdout",
     "output_type": "stream",
     "text": [
      "   4.5 : Done with 266, in 240.285 seconds. Error rate 0.699\n",
      "   (430, 7) (430, 7, 2) (430, 7, 2) in 1.354 seconds\n"
     ]
    },
    {
     "name": "stderr",
     "output_type": "stream",
     "text": [
      "/srv/jaybie/archive/spatial-privacy-master/nn_matchers.py:773: FutureWarning: in the future insert will treat boolean arrays and array-likes as a boolean index instead of casting it to integer\n",
      "  good_matches_kp_idx = np.insert(good_matches[good_matches_ref_kp],True,good_matches_ref_kp)\n"
     ]
    },
    {
     "name": "stdout",
     "output_type": "stream",
     "text": [
      "   4.5 : Done with 332, in 222.263 seconds. Error rate 0.717\n",
      "   (392, 7) (392, 7, 2) (392, 7, 2) in 1.172 seconds\n"
     ]
    },
    {
     "name": "stderr",
     "output_type": "stream",
     "text": [
      "/srv/jaybie/archive/spatial-privacy-master/nn_matchers.py:773: FutureWarning: in the future insert will treat boolean arrays and array-likes as a boolean index instead of casting it to integer\n",
      "  good_matches_kp_idx = np.insert(good_matches[good_matches_ref_kp],True,good_matches_ref_kp)\n"
     ]
    },
    {
     "name": "stdout",
     "output_type": "stream",
     "text": [
      "   4.5 : Done with 398, in 216.760 seconds. Error rate 0.719\n",
      "   (657, 7) (657, 7, 2) (657, 7, 2) in 3.297 seconds\n"
     ]
    },
    {
     "name": "stderr",
     "output_type": "stream",
     "text": [
      "/srv/jaybie/archive/spatial-privacy-master/nn_matchers.py:773: FutureWarning: in the future insert will treat boolean arrays and array-likes as a boolean index instead of casting it to integer\n",
      "  good_matches_kp_idx = np.insert(good_matches[good_matches_ref_kp],True,good_matches_ref_kp)\n"
     ]
    },
    {
     "name": "stdout",
     "output_type": "stream",
     "text": [
      "   4.5 : Done with 464, in 249.842 seconds. Error rate 0.722\n",
      "   (489, 7) (489, 7, 2) (489, 7, 2) in 1.539 seconds\n"
     ]
    },
    {
     "name": "stderr",
     "output_type": "stream",
     "text": [
      "/srv/jaybie/archive/spatial-privacy-master/nn_matchers.py:773: FutureWarning: in the future insert will treat boolean arrays and array-likes as a boolean index instead of casting it to integer\n",
      "  good_matches_kp_idx = np.insert(good_matches[good_matches_ref_kp],True,good_matches_ref_kp)\n"
     ]
    },
    {
     "name": "stdout",
     "output_type": "stream",
     "text": [
      "   4.5 : Done with 530, in 234.336 seconds. Error rate 0.721\n",
      "   (938, 7) (938, 7, 2) (938, 7, 2) in 4.015 seconds\n"
     ]
    },
    {
     "name": "stderr",
     "output_type": "stream",
     "text": [
      "/srv/jaybie/archive/spatial-privacy-master/nn_matchers.py:773: FutureWarning: in the future insert will treat boolean arrays and array-likes as a boolean index instead of casting it to integer\n",
      "  good_matches_kp_idx = np.insert(good_matches[good_matches_ref_kp],True,good_matches_ref_kp)\n"
     ]
    },
    {
     "name": "stdout",
     "output_type": "stream",
     "text": [
      "   4.5 : Done with 596, in 269.634 seconds. Error rate 0.720\n",
      "   (312, 7) (312, 7, 2) (312, 7, 2) in 0.783 seconds\n"
     ]
    },
    {
     "name": "stderr",
     "output_type": "stream",
     "text": [
      "/srv/jaybie/archive/spatial-privacy-master/nn_matchers.py:773: FutureWarning: in the future insert will treat boolean arrays and array-likes as a boolean index instead of casting it to integer\n",
      "  good_matches_kp_idx = np.insert(good_matches[good_matches_ref_kp],True,good_matches_ref_kp)\n"
     ]
    },
    {
     "name": "stdout",
     "output_type": "stream",
     "text": [
      "   4.5 : Done with 662, in 225.705 seconds. Error rate 0.715\n",
      "   (591, 7) (591, 7, 2) (591, 7, 2) in 1.817 seconds\n"
     ]
    },
    {
     "name": "stderr",
     "output_type": "stream",
     "text": [
      "/srv/jaybie/archive/spatial-privacy-master/nn_matchers.py:773: FutureWarning: in the future insert will treat boolean arrays and array-likes as a boolean index instead of casting it to integer\n",
      "  good_matches_kp_idx = np.insert(good_matches[good_matches_ref_kp],True,good_matches_ref_kp)\n"
     ]
    },
    {
     "name": "stdout",
     "output_type": "stream",
     "text": [
      "   4.5 : Done with 728, in 229.253 seconds. Error rate 0.710\n",
      "   (865, 7) (865, 7, 2) (865, 7, 2) in 4.777 seconds\n"
     ]
    },
    {
     "name": "stderr",
     "output_type": "stream",
     "text": [
      "/srv/jaybie/archive/spatial-privacy-master/nn_matchers.py:773: FutureWarning: in the future insert will treat boolean arrays and array-likes as a boolean index instead of casting it to integer\n",
      "  good_matches_kp_idx = np.insert(good_matches[good_matches_ref_kp],True,good_matches_ref_kp)\n"
     ]
    },
    {
     "name": "stdout",
     "output_type": "stream",
     "text": [
      "   4.5 : Done with 794, in 242.791 seconds. Error rate 0.713\n",
      "   (1553, 7) (1553, 7, 2) (1553, 7, 2) in 7.150 seconds\n"
     ]
    },
    {
     "name": "stderr",
     "output_type": "stream",
     "text": [
      "/srv/jaybie/archive/spatial-privacy-master/nn_matchers.py:773: FutureWarning: in the future insert will treat boolean arrays and array-likes as a boolean index instead of casting it to integer\n",
      "  good_matches_kp_idx = np.insert(good_matches[good_matches_ref_kp],True,good_matches_ref_kp)\n"
     ]
    },
    {
     "name": "stdout",
     "output_type": "stream",
     "text": [
      "   4.5 : Done with 860, in 242.842 seconds. Error rate 0.708\n",
      "   (340, 7) (340, 7, 2) (340, 7, 2) in 0.753 seconds\n"
     ]
    },
    {
     "name": "stderr",
     "output_type": "stream",
     "text": [
      "/srv/jaybie/archive/spatial-privacy-master/nn_matchers.py:773: FutureWarning: in the future insert will treat boolean arrays and array-likes as a boolean index instead of casting it to integer\n",
      "  good_matches_kp_idx = np.insert(good_matches[good_matches_ref_kp],True,good_matches_ref_kp)\n"
     ]
    },
    {
     "name": "stdout",
     "output_type": "stream",
     "text": [
      "   4.5 : Done with 926, in 245.081 seconds. Error rate 0.708\n",
      "   (1085, 7) (1085, 7, 2) (1085, 7, 2) in 3.519 seconds\n"
     ]
    },
    {
     "name": "stderr",
     "output_type": "stream",
     "text": [
      "/srv/jaybie/archive/spatial-privacy-master/nn_matchers.py:773: FutureWarning: in the future insert will treat boolean arrays and array-likes as a boolean index instead of casting it to integer\n",
      "  good_matches_kp_idx = np.insert(good_matches[good_matches_ref_kp],True,good_matches_ref_kp)\n"
     ]
    },
    {
     "name": "stdout",
     "output_type": "stream",
     "text": [
      "   4.5 : Done with 992, in 244.478 seconds. Error rate 0.708\n",
      "   (1119, 7) (1119, 7, 2) (1119, 7, 2) in 3.388 seconds\n",
      "4.5  Total Time to match 4037.026 seconds.\n",
      "radius = 5.0\n",
      "   5.0 : Done with 2, in 6.012 seconds. Error rate 1.000\n",
      "   (1229, 7) (1229, 7, 2) (1229, 7, 2) in 3.817 seconds\n"
     ]
    },
    {
     "name": "stderr",
     "output_type": "stream",
     "text": [
      "/srv/jaybie/archive/spatial-privacy-master/nn_matchers.py:773: FutureWarning: in the future insert will treat boolean arrays and array-likes as a boolean index instead of casting it to integer\n",
      "  good_matches_kp_idx = np.insert(good_matches[good_matches_ref_kp],True,good_matches_ref_kp)\n"
     ]
    },
    {
     "name": "stdout",
     "output_type": "stream",
     "text": [
      "   5.0 : Done with 68, in 241.271 seconds. Error rate 0.676\n",
      "   (827, 7) (827, 7, 2) (827, 7, 2) in 4.407 seconds\n"
     ]
    },
    {
     "name": "stderr",
     "output_type": "stream",
     "text": [
      "/srv/jaybie/archive/spatial-privacy-master/nn_matchers.py:773: FutureWarning: in the future insert will treat boolean arrays and array-likes as a boolean index instead of casting it to integer\n",
      "  good_matches_kp_idx = np.insert(good_matches[good_matches_ref_kp],True,good_matches_ref_kp)\n"
     ]
    },
    {
     "name": "stdout",
     "output_type": "stream",
     "text": [
      "   5.0 : Done with 134, in 246.183 seconds. Error rate 0.694\n",
      "   (1355, 7) (1355, 7, 2) (1355, 7, 2) in 7.435 seconds\n"
     ]
    },
    {
     "name": "stderr",
     "output_type": "stream",
     "text": [
      "/srv/jaybie/archive/spatial-privacy-master/nn_matchers.py:773: FutureWarning: in the future insert will treat boolean arrays and array-likes as a boolean index instead of casting it to integer\n",
      "  good_matches_kp_idx = np.insert(good_matches[good_matches_ref_kp],True,good_matches_ref_kp)\n"
     ]
    },
    {
     "name": "stdout",
     "output_type": "stream",
     "text": [
      "   5.0 : Done with 200, in 260.776 seconds. Error rate 0.685\n",
      "   (1797, 7) (1797, 7, 2) (1797, 7, 2) in 9.512 seconds\n"
     ]
    },
    {
     "name": "stderr",
     "output_type": "stream",
     "text": [
      "/srv/jaybie/archive/spatial-privacy-master/nn_matchers.py:773: FutureWarning: in the future insert will treat boolean arrays and array-likes as a boolean index instead of casting it to integer\n",
      "  good_matches_kp_idx = np.insert(good_matches[good_matches_ref_kp],True,good_matches_ref_kp)\n"
     ]
    },
    {
     "name": "stdout",
     "output_type": "stream",
     "text": [
      "   5.0 : Done with 266, in 273.729 seconds. Error rate 0.703\n",
      "   (497, 7) (497, 7, 2) (497, 7, 2) in 1.612 seconds\n"
     ]
    },
    {
     "name": "stderr",
     "output_type": "stream",
     "text": [
      "/srv/jaybie/archive/spatial-privacy-master/nn_matchers.py:773: FutureWarning: in the future insert will treat boolean arrays and array-likes as a boolean index instead of casting it to integer\n",
      "  good_matches_kp_idx = np.insert(good_matches[good_matches_ref_kp],True,good_matches_ref_kp)\n"
     ]
    },
    {
     "name": "stdout",
     "output_type": "stream",
     "text": [
      "   5.0 : Done with 332, in 252.814 seconds. Error rate 0.717\n",
      "   (459, 7) (459, 7, 2) (459, 7, 2) in 1.413 seconds\n"
     ]
    },
    {
     "name": "stderr",
     "output_type": "stream",
     "text": [
      "/srv/jaybie/archive/spatial-privacy-master/nn_matchers.py:773: FutureWarning: in the future insert will treat boolean arrays and array-likes as a boolean index instead of casting it to integer\n",
      "  good_matches_kp_idx = np.insert(good_matches[good_matches_ref_kp],True,good_matches_ref_kp)\n"
     ]
    },
    {
     "name": "stdout",
     "output_type": "stream",
     "text": [
      "   5.0 : Done with 398, in 236.455 seconds. Error rate 0.716\n",
      "   (703, 7) (703, 7, 2) (703, 7, 2) in 3.639 seconds\n"
     ]
    },
    {
     "name": "stderr",
     "output_type": "stream",
     "text": [
      "/srv/jaybie/archive/spatial-privacy-master/nn_matchers.py:773: FutureWarning: in the future insert will treat boolean arrays and array-likes as a boolean index instead of casting it to integer\n",
      "  good_matches_kp_idx = np.insert(good_matches[good_matches_ref_kp],True,good_matches_ref_kp)\n"
     ]
    },
    {
     "name": "stdout",
     "output_type": "stream",
     "text": [
      "   5.0 : Done with 464, in 283.540 seconds. Error rate 0.718\n",
      "   (626, 7) (626, 7, 2) (626, 7, 2) in 2.172 seconds\n"
     ]
    },
    {
     "name": "stderr",
     "output_type": "stream",
     "text": [
      "/srv/jaybie/archive/spatial-privacy-master/nn_matchers.py:773: FutureWarning: in the future insert will treat boolean arrays and array-likes as a boolean index instead of casting it to integer\n",
      "  good_matches_kp_idx = np.insert(good_matches[good_matches_ref_kp],True,good_matches_ref_kp)\n"
     ]
    },
    {
     "name": "stdout",
     "output_type": "stream",
     "text": [
      "   5.0 : Done with 530, in 279.617 seconds. Error rate 0.715\n",
      "   (958, 7) (958, 7, 2) (958, 7, 2) in 4.820 seconds\n"
     ]
    },
    {
     "name": "stderr",
     "output_type": "stream",
     "text": [
      "/srv/jaybie/archive/spatial-privacy-master/nn_matchers.py:773: FutureWarning: in the future insert will treat boolean arrays and array-likes as a boolean index instead of casting it to integer\n",
      "  good_matches_kp_idx = np.insert(good_matches[good_matches_ref_kp],True,good_matches_ref_kp)\n"
     ]
    },
    {
     "name": "stdout",
     "output_type": "stream",
     "text": [
      "   5.0 : Done with 596, in 316.850 seconds. Error rate 0.716\n",
      "   (388, 7) (388, 7, 2) (388, 7, 2) in 0.970 seconds\n"
     ]
    },
    {
     "name": "stderr",
     "output_type": "stream",
     "text": [
      "/srv/jaybie/archive/spatial-privacy-master/nn_matchers.py:773: FutureWarning: in the future insert will treat boolean arrays and array-likes as a boolean index instead of casting it to integer\n",
      "  good_matches_kp_idx = np.insert(good_matches[good_matches_ref_kp],True,good_matches_ref_kp)\n"
     ]
    },
    {
     "name": "stdout",
     "output_type": "stream",
     "text": [
      "   5.0 : Done with 662, in 258.461 seconds. Error rate 0.711\n",
      "   (583, 7) (583, 7, 2) (583, 7, 2) in 1.921 seconds\n"
     ]
    },
    {
     "name": "stderr",
     "output_type": "stream",
     "text": [
      "/srv/jaybie/archive/spatial-privacy-master/nn_matchers.py:773: FutureWarning: in the future insert will treat boolean arrays and array-likes as a boolean index instead of casting it to integer\n",
      "  good_matches_kp_idx = np.insert(good_matches[good_matches_ref_kp],True,good_matches_ref_kp)\n"
     ]
    },
    {
     "name": "stdout",
     "output_type": "stream",
     "text": [
      "   5.0 : Done with 728, in 269.312 seconds. Error rate 0.709\n",
      "   (1101, 7) (1101, 7, 2) (1101, 7, 2) in 6.111 seconds\n"
     ]
    },
    {
     "name": "stderr",
     "output_type": "stream",
     "text": [
      "/srv/jaybie/archive/spatial-privacy-master/nn_matchers.py:773: FutureWarning: in the future insert will treat boolean arrays and array-likes as a boolean index instead of casting it to integer\n",
      "  good_matches_kp_idx = np.insert(good_matches[good_matches_ref_kp],True,good_matches_ref_kp)\n"
     ]
    },
    {
     "name": "stdout",
     "output_type": "stream",
     "text": [
      "   5.0 : Done with 794, in 271.651 seconds. Error rate 0.709\n",
      "   (2216, 7) (2216, 7, 2) (2216, 7, 2) in 11.198 seconds\n"
     ]
    },
    {
     "name": "stderr",
     "output_type": "stream",
     "text": [
      "/srv/jaybie/archive/spatial-privacy-master/nn_matchers.py:773: FutureWarning: in the future insert will treat boolean arrays and array-likes as a boolean index instead of casting it to integer\n",
      "  good_matches_kp_idx = np.insert(good_matches[good_matches_ref_kp],True,good_matches_ref_kp)\n"
     ]
    },
    {
     "name": "stdout",
     "output_type": "stream",
     "text": [
      "   5.0 : Done with 860, in 288.378 seconds. Error rate 0.705\n",
      "   (373, 7) (373, 7, 2) (373, 7, 2) in 0.913 seconds\n"
     ]
    },
    {
     "name": "stderr",
     "output_type": "stream",
     "text": [
      "/srv/jaybie/archive/spatial-privacy-master/nn_matchers.py:773: FutureWarning: in the future insert will treat boolean arrays and array-likes as a boolean index instead of casting it to integer\n",
      "  good_matches_kp_idx = np.insert(good_matches[good_matches_ref_kp],True,good_matches_ref_kp)\n"
     ]
    },
    {
     "name": "stdout",
     "output_type": "stream",
     "text": [
      "   5.0 : Done with 926, in 280.898 seconds. Error rate 0.708\n",
      "   (1540, 7) (1540, 7, 2) (1540, 7, 2) in 5.421 seconds\n"
     ]
    },
    {
     "name": "stderr",
     "output_type": "stream",
     "text": [
      "/srv/jaybie/archive/spatial-privacy-master/nn_matchers.py:773: FutureWarning: in the future insert will treat boolean arrays and array-likes as a boolean index instead of casting it to integer\n",
      "  good_matches_kp_idx = np.insert(good_matches[good_matches_ref_kp],True,good_matches_ref_kp)\n"
     ]
    },
    {
     "name": "stdout",
     "output_type": "stream",
     "text": [
      "   5.0 : Done with 992, in 270.043 seconds. Error rate 0.707\n",
      "   (1198, 7) (1198, 7, 2) (1198, 7, 2) in 3.717 seconds\n",
      "5.0  Total Time to match 4608.730 seconds.\n"
     ]
    }
   ],
   "source": [
    "descriptors = arcore_descriptors[:-1]\n",
    "    \n",
    "exp_eval_propeties = []\n",
    "\n",
    "for radius in np.arange(0.5,5.1,0.5):\n",
    "    \n",
    "    t0 = time.time()\n",
    "    t1 = time.time()\n",
    "    \n",
    "    partial_scores_pool = []\n",
    "    per_radius_properties = []\n",
    "    \n",
    "    print(\"radius =\",radius)\n",
    "    \n",
    "    for obj_, obj_sample, object_name, original_vertex in sample_arcore_points:\n",
    "    #for s_i in sample_points_300:\n",
    "        \n",
    "        t3 = time.time()\n",
    "        \n",
    "        #obj_, object_name, original_vertex = sample_points[s_i]\n",
    "        \n",
    "        pointCloud = []\n",
    "        \n",
    "        try:\n",
    "            object_, ransac_pointCloud, tri_, u_n_ = arcore_spaces[obj_][obj_sample]\n",
    "            \n",
    "            ransac_nbrs = NearestNeighbors(n_neighbors=min(20000,len(ransac_pointCloud)), algorithm='kd_tree').fit(ransac_pointCloud[:,:3])\n",
    "            \n",
    "            dist_, ind_ = ransac_nbrs.kneighbors([original_vertex[:3]])\n",
    "            pointCloud =  ransac_pointCloud[ind_[0,np.where(dist_[0,:]<=radius)[0]]]\n",
    "            \n",
    "        except:\n",
    "            print(\"Can't get ransac samples for\",trial,obj_meta[0],dist_.shape,ind_.shape)\n",
    "            continue\n",
    "            \n",
    "        #if len(gen_planes) == 0: continue\n",
    "        if len(pointCloud) == 0: continue\n",
    "\n",
    "        local_keypoint_matches = []\n",
    "\n",
    "        try:\n",
    "            obj_meta, diff_ratios, diff_indexs, diff_scores, local_keypoint_matches = get_score_kdtree_lean(\n",
    "                [obj_, object_name, original_vertex], \n",
    "                pointCloud, \n",
    "                descriptors,\n",
    "                desc_new=True,\n",
    "                old=True\n",
    "            )\n",
    "            \n",
    "        except Exception as ex:\n",
    "            print(ex)\n",
    "            print(\"skipped\",object_name)\n",
    "            continue\n",
    "        \n",
    "        if len(local_keypoint_matches) == 0: \n",
    "            print(\"skipped\",object_name)\n",
    "            continue\n",
    "\n",
    "        t4 = time.time()\n",
    "\n",
    "        partial_scores_pool.append([\n",
    "            [obj_, object_name, original_vertex], \n",
    "            diff_ratios,\n",
    "            diff_indexs,\n",
    "            diff_scores,\n",
    "            local_keypoint_matches\n",
    "        ])\n",
    "                \n",
    "        per_radius_properties.append([\n",
    "            diff_ratios.shape,\n",
    "            diff_indexs.shape,\n",
    "            diff_scores.shape,\n",
    "            t4 - t3\n",
    "        ])\n",
    "\n",
    "        if len(partial_scores_pool) % 66 == 2:\n",
    "            \n",
    "            partial_errors_pool = ARcore_NNMatcher(partial_scores_pool, descriptors)\n",
    "            print(\"  \",radius,\": Done with {}, in {:.3f} seconds. Error rate {:.3f}\".format(\n",
    "                len(partial_scores_pool),\n",
    "                time.time()-t1,\n",
    "                np.sum(partial_errors_pool[:,1])/len(partial_scores_pool)\n",
    "            ))\n",
    "            print(\"  \",\n",
    "                  diff_ratios.shape,\n",
    "                  diff_indexs.shape,\n",
    "                  diff_scores.shape,\n",
    "                  \"in {:.3f} seconds\".format(t4 - t3)\n",
    "                 )\n",
    "                        \n",
    "            with bz2.BZ2File(partial_results_path+'/arcore_{}_partial_scores.pickle.bz2'.format(radius), 'w') as bz2_f:\n",
    "                pickle.dump(partial_scores_pool, bz2_f)\n",
    "                \n",
    "            t1  = time.time()\n",
    "            \n",
    "    with bz2.BZ2File(partial_results_path+'/arcore_{}_partial_scores.pickle.bz2'.format(radius), 'w') as bz2_f:\n",
    "        pickle.dump(partial_scores_pool, bz2_f)\n",
    "\n",
    "    print(radius,\" Total Time to match {:.3f} seconds.\".format(time.time()-t0))\n",
    "    \n",
    "    #print(len(partial_lengths))\n",
    "       "
   ]
  },
  {
   "cell_type": "markdown",
   "metadata": {},
   "source": [
    "# Step 1.4: Results"
   ]
  },
  {
   "cell_type": "code",
   "execution_count": 12,
   "metadata": {
    "scrolled": true
   },
   "outputs": [
    {
     "name": "stderr",
     "output_type": "stream",
     "text": [
      "/srv/jaybie/archive/spatial-privacy-master/nn_matchers.py:773: FutureWarning: in the future insert will treat boolean arrays and array-likes as a boolean index instead of casting it to integer\n",
      "  good_matches_kp_idx = np.insert(good_matches[good_matches_ref_kp],True,good_matches_ref_kp)\n",
      "/home/jaybie/.conda/envs/3d_env/lib/python3.7/site-packages/numpy/core/fromnumeric.py:3118: RuntimeWarning: Mean of empty slice.\n",
      "  out=out, **kwargs)\n",
      "/home/jaybie/.conda/envs/3d_env/lib/python3.7/site-packages/numpy/core/_methods.py:78: RuntimeWarning: invalid value encountered in true_divide\n",
      "  ret, rcount, out=ret, casting='unsafe', subok=False)\n"
     ]
    },
    {
     "name": "stdout",
     "output_type": "stream",
     "text": [
      "0.5 (Ransac) P1 Error Rate: 0.8514056224899599\n",
      "   (Ransac) P2 Error Rate: 5.596 (± 2.932)\n",
      "0.5 (Raw) P1 Error Rate: 0.8356854838709677\n",
      "   (Raw) P2 Error Rate: 5.577 (± 3.082)\n",
      "1.0 (Ransac) P1 Error Rate: 0.6282565130260521\n",
      "   (Ransac) P2 Error Rate: 2.583 (± 2.938)\n",
      "1.0 (Raw) P1 Error Rate: 0.2752016129032258\n",
      "   (Raw) P2 Error Rate: 1.534 (± 1.950)\n",
      "1.5 (Ransac) P1 Error Rate: 0.33433433433433435\n",
      "   (Ransac) P2 Error Rate: 1.568 (± 1.875)\n"
     ]
    },
    {
     "name": "stderr",
     "output_type": "stream",
     "text": [
      "/srv/jaybie/archive/spatial-privacy-master/nn_matchers.py:751: RuntimeWarning: divide by zero encountered in true_divide\n",
      "  similarity_of_angle = np.sum(np.multiply(unq_diff_qry_kps,unq_diff_ref_kps), axis = -1)/np.multiply(Norm_unq_diff_qry_kps,Norm_unq_diff_ref_kps)\n",
      "/srv/jaybie/archive/spatial-privacy-master/nn_matchers.py:751: RuntimeWarning: invalid value encountered in true_divide\n",
      "  similarity_of_angle = np.sum(np.multiply(unq_diff_qry_kps,unq_diff_ref_kps), axis = -1)/np.multiply(Norm_unq_diff_qry_kps,Norm_unq_diff_ref_kps)\n",
      "/srv/jaybie/archive/spatial-privacy-master/nn_matchers.py:761: RuntimeWarning: invalid value encountered in greater\n",
      "  good_match_threshold*np.ones(similarity_of_shape.shape)\n",
      "/srv/jaybie/archive/spatial-privacy-master/nn_matchers.py:768: RuntimeWarning: invalid value encountered in greater\n",
      "  good_match_threshold*np.ones(similarity_of_shape.shape)\n"
     ]
    },
    {
     "name": "stdout",
     "output_type": "stream",
     "text": [
      "1.5 (Raw) P1 Error Rate: 0.010080645161290322\n",
      "   (Raw) P2 Error Rate: 0.826 (± 0.829)\n",
      "2.0 (Ransac) P1 Error Rate: 0.185\n",
      "   (Ransac) P2 Error Rate: 1.353 (± 1.268)\n",
      "2.0 (Raw) P1 Error Rate: 0.0\n",
      "   (Raw) P2 Error Rate: 0.826 (± 0.572)\n",
      "2.5 (Ransac) P1 Error Rate: 0.129\n",
      "   (Ransac) P2 Error Rate: 1.475 (± 1.120)\n",
      "2.5 (Raw) P1 Error Rate: 0.0\n",
      "   (Raw) P2 Error Rate: 0.934 (± 0.600)\n",
      "3.0 (Ransac) P1 Error Rate: 0.099\n",
      "   (Ransac) P2 Error Rate: 1.638 (± 1.186)\n",
      "3.0 (Raw) P1 Error Rate: 0.0\n",
      "   (Raw) P2 Error Rate: 1.066 (± 0.597)\n",
      "3.5 (Ransac) P1 Error Rate: 0.076\n",
      "   (Ransac) P2 Error Rate: 1.778 (± 1.003)\n",
      "3.5 (Raw) P1 Error Rate: 0.0\n",
      "   (Raw) P2 Error Rate: 1.243 (± 0.662)\n",
      "4.0 (Ransac) P1 Error Rate: 0.082\n",
      "   (Ransac) P2 Error Rate: 1.900 (± 1.018)\n",
      "4.0 (Raw) P1 Error Rate: 0.0\n",
      "   (Raw) P2 Error Rate: 1.372 (± 0.720)\n",
      "4.5 (Ransac) P1 Error Rate: 0.078\n",
      "   (Ransac) P2 Error Rate: 2.031 (± 1.069)\n",
      "4.5 (Raw) P1 Error Rate: 0.0\n",
      "   (Raw) P2 Error Rate: 1.491 (± 0.796)\n",
      "5.0 (Ransac) P1 Error Rate: 0.1\n",
      "   (Ransac) P2 Error Rate: 2.134 (± 1.079)\n",
      "5.0 (Raw) P1 Error Rate: 0.0\n",
      "   (Raw) P2 Error Rate: 1.592 (± 0.868)\n"
     ]
    }
   ],
   "source": [
    "# Hololens data\n",
    "\n",
    "results_partials = [[],[]] \n",
    "\n",
    "raw_errors = []    \n",
    "ransac_errors = []\n",
    "\n",
    "for radius in np.arange(0.5, 5.1, 0.5):\n",
    "\n",
    "    try:\n",
    "        with bz2.BZ2File(partial_results_path+'/ransac_{}_partial_scores.pickle.bz2'.format(radius), 'r') as bz2_f:\n",
    "            partial_scores_pool = pickle.load(bz2_f) \n",
    "\n",
    "    except:\n",
    "        print(\"Error getting Ransac scores for\",radius)\n",
    "        continue\n",
    "\n",
    "    partial_errors_pool = NN_matcher(partial_scores_pool)\n",
    "    correct_interspace_labels_idxs = np.where(partial_errors_pool[:,1]==0)[0]\n",
    "    intraspace_errors  = partial_errors_pool[correct_interspace_labels_idxs,2]\n",
    "\n",
    "    print(radius,\"(Ransac) P1 Error Rate:\",np.sum(partial_errors_pool[:,1])/len(partial_scores_pool)) \n",
    "    print(\"   (Ransac) P2 Error Rate: {:.3f} (± {:.3f})\".format(np.nanmean(intraspace_errors),np.nanstd(intraspace_errors))) \n",
    "    \n",
    "    ransac_errors.append([\n",
    "        radius,\n",
    "        partial_errors_pool\n",
    "    ])\n",
    "    \n",
    "    results_partials[1].append([\n",
    "        radius,\n",
    "        np.sum(partial_errors_pool[:,1])/len(partial_scores_pool),\n",
    "        np.nanmean(intraspace_errors),\n",
    "        np.nanstd(intraspace_errors)\n",
    "    ])\n",
    "    \n",
    "    try:\n",
    "        with bz2.BZ2File(partial_results_path+'/raw_{}_partial_scores.pickle.bz2'.format(radius), 'r') as bz2_f:\n",
    "            partial_scores_pool = pickle.load(bz2_f) \n",
    "            \n",
    "    except:\n",
    "        print(\"Error getting Raw scores for\",radius)\n",
    "        continue\n",
    "\n",
    "    partial_errors_pool = NN_matcher(partial_scores_pool)\n",
    "    correct_interspace_labels_idxs = np.where(partial_errors_pool[:,1]==0)[0]\n",
    "    intraspace_errors  = partial_errors_pool[correct_interspace_labels_idxs,2]\n",
    "\n",
    "    print(radius,\"(Raw) P1 Error Rate:\",np.sum(partial_errors_pool[:,1])/len(partial_scores_pool)) \n",
    "    print(\"   (Raw) P2 Error Rate: {:.3f} (± {:.3f})\".format(np.nanmean(intraspace_errors),np.nanstd(intraspace_errors))) \n",
    "    \n",
    "    results_partials[0].append([\n",
    "        radius,\n",
    "        np.sum(partial_errors_pool[:,1])/len(partial_scores_pool),\n",
    "        np.nanmean(intraspace_errors),\n",
    "        np.nanstd(intraspace_errors)\n",
    "    ])\n",
    "    \n",
    "    raw_errors.append([\n",
    "        radius,\n",
    "        partial_errors_pool\n",
    "    ])\n",
    "    \n",
    "with open(results_path+'/hololens_results_partials_nn_matcher.pickle', 'wb') as f:\n",
    "    pickle.dump([results_partials, raw_errors, ransac_errors],f)\n"
   ]
  },
  {
   "cell_type": "code",
   "execution_count": 15,
   "metadata": {},
   "outputs": [
    {
     "name": "stderr",
     "output_type": "stream",
     "text": [
      "/srv/jaybie/archive/spatial-privacy-master/nn_matchers.py:386: RuntimeWarning: Mean of empty slice\n",
      "  LA.norm(np.nanmean(best_ref_kps[:,:3], axis = 0) - obj_meta[2][:3]),\n"
     ]
    },
    {
     "name": "stdout",
     "output_type": "stream",
     "text": [
      "0.5 (Ransac) P1 Error Rate: 0.825\n",
      "   (Ransac) P2 Error Rate: 7.336 (± 4.235)\n",
      "1.0 (Ransac) P1 Error Rate: 0.85\n",
      "   (Ransac) P2 Error Rate: 5.808 (± 4.138)\n",
      "1.5 (Ransac) P1 Error Rate: 0.775\n",
      "   (Ransac) P2 Error Rate: 4.836 (± 4.674)\n",
      "2.0 (Ransac) P1 Error Rate: 0.723\n",
      "   (Ransac) P2 Error Rate: 4.224 (± 4.353)\n",
      "2.5 (Ransac) P1 Error Rate: 0.709\n",
      "   (Ransac) P2 Error Rate: 3.755 (± 3.816)\n",
      "3.0 (Ransac) P1 Error Rate: 0.701\n",
      "   (Ransac) P2 Error Rate: 4.020 (± 3.962)\n",
      "3.5 (Ransac) P1 Error Rate: 0.702\n",
      "   (Ransac) P2 Error Rate: 3.990 (± 3.986)\n",
      "4.0 (Ransac) P1 Error Rate: 0.702\n",
      "   (Ransac) P2 Error Rate: 3.935 (± 3.712)\n",
      "4.5 (Ransac) P1 Error Rate: 0.709\n",
      "   (Ransac) P2 Error Rate: 3.614 (± 3.165)\n",
      "5.0 (Ransac) P1 Error Rate: 0.708\n",
      "   (Ransac) P2 Error Rate: 3.694 (± 3.109)\n"
     ]
    }
   ],
   "source": [
    "# Results for ARCore dataset\n",
    "\n",
    "arcore_results_partials = []\n",
    "\n",
    "arcore_errors = []\n",
    "\n",
    "for radius in np.arange(0.5, 5.1, 0.5):\n",
    "\n",
    "    try:\n",
    "        with bz2.BZ2File(partial_results_path+\"/arcore_{}_partial_scores.pickle.bz2\".format(radius), 'r') as bz2_f:\n",
    "            partial_scores_pool = pickle.load(bz2_f) \n",
    "\n",
    "    except:\n",
    "        print(\"Error getting arcore scores for\",radius)\n",
    "        continue\n",
    "\n",
    "    partial_errors_pool = ARcore_NNMatcher(partial_scores_pool, arcore_descriptors[:-1])\n",
    "    correct_interspace_labels_idxs = np.where(partial_errors_pool[:,1]==0)[0]\n",
    "    intraspace_errors  = partial_errors_pool[correct_interspace_labels_idxs,2]\n",
    "\n",
    "    print(radius,\"(Ransac) P1 Error Rate:\",np.sum(partial_errors_pool[:,1])/len(partial_scores_pool)) \n",
    "    print(\"   (Ransac) P2 Error Rate: {:.3f} (± {:.3f})\".format(np.nanmean(intraspace_errors),np.nanstd(intraspace_errors))) \n",
    "\n",
    "    arcore_results_partials.append([\n",
    "        radius,\n",
    "        np.sum(partial_errors_pool[:,1])/len(partial_scores_pool),\n",
    "        np.nanmean(intraspace_errors),\n",
    "        np.nanstd(intraspace_errors)\n",
    "    ])\n",
    "    \n",
    "    arcore_errors.append([\n",
    "        radius,\n",
    "        partial_errors_pool\n",
    "    ])\n",
    "    \n",
    "with open(results_path+'/arcore_results_partials_nn_matcher.pickle', 'wb') as f:\n",
    "    pickle.dump([arcore_results_partials, arcore_errors],f)\n",
    "    "
   ]
  },
  {
   "cell_type": "code",
   "execution_count": 17,
   "metadata": {},
   "outputs": [
    {
     "data": {
      "image/png": "[encoded data removed]",
      "text/plain": [
       "<Figure size 540x504 with 2 Axes>"
      ]
     },
     "metadata": {
      "needs_background": "light"
     },
     "output_type": "display_data"
    }
   ],
   "source": [
    "fig=plt.figure(figsize=(7.5, 7))\n",
    "\n",
    "with open(results_path+'/hololens_results_partials_nn_matcher.pickle', 'rb') as f:\n",
    "    results_partials, raw_errors, ransac_errors = pickle.load(f)\n",
    "    \n",
    "with open(results_path+'/arcore_results_partials_nn_matcher.pickle', 'rb') as f:\n",
    "    arcore_results_partials, arcore_errors = pickle.load(f)\n",
    "\n",
    "RawNN = np.asarray(results_partials[0])\n",
    "RansacNN = np.asarray(results_partials[1])\n",
    "ARCoreNN = np.asarray(arcore_results_partials)\n",
    "\n",
    "ax1 = fig.add_subplot(211) \n",
    "\n",
    "ax1.grid(alpha = 0.7)\n",
    "ax1.set_ylim(-0.025,1.025)\n",
    "ax1.set_xlim(0,3.0)\n",
    "ax1.set_ylabel(\"INTER-space Privacy\")\n",
    "ax1.set_xlabel(\"Partial Radius\")\n",
    "\n",
    "markersize = 7\n",
    "linewidth = 1.5\n",
    "\n",
    "ax1.plot(\n",
    "    RawNN[:,0],RawNN[:,1],\n",
    "    \":o\",\n",
    "    linewidth = linewidth,fillstyle = 'left',\n",
    "    mew = linewidth,markersize = markersize,\n",
    "    label = \"NN-matcher, Holo-Raw\"\n",
    ")\n",
    "ax1.plot(\n",
    "    RansacNN[:,0],\n",
    "    RansacNN[:,1],\n",
    "    \"-s\",\n",
    "    linewidth = linewidth,\n",
    "    fillstyle = 'none',\n",
    "    mew = linewidth,markersize = markersize,\n",
    "    label = \"NN-matcher, Holo-Gen\"\n",
    ")\n",
    "ax1.plot(\n",
    "    ARCoreNN[:,0],\n",
    "    ARCoreNN[:,1],\n",
    "    \"-^\",\n",
    "    linewidth = linewidth,\n",
    "    fillstyle = 'none',\n",
    "    mew = linewidth,markersize = markersize,\n",
    "    label = \"NN-matcher, ARCore\"\n",
    ")\n",
    "\n",
    "ax1.legend(loc = \"lower left\", ncol = 1, fontsize = 10);# bbox_to_anchor=(1.1, 1.5));\n",
    "\n",
    "ax2 = fig.add_subplot(212) \n",
    "\n",
    "ax2.grid(alpha = 0.7)\n",
    "ax2.set_ylim(-0.25,10.25)\n",
    "ax2.set_xlim(0,2)\n",
    "\n",
    "ax2.set_ylabel(\"INTRA-space Privacy (m)\")\n",
    "ax2.set_xlabel(\"Partial Radius (m)\")\n",
    "#ax2.set_yticklabels(fontsize = 16)\n",
    "#ax2.set_xticklabels(fontsize = 16)\n",
    "\n",
    "#plt.minorticks_on()\n",
    "\n",
    "ax2.plot(\n",
    "    RawNN[:,0],\n",
    "    RawNN[:,2], \n",
    "    linewidth = linewidth, \n",
    "    marker = 'o',fillstyle = 'none',\n",
    "    mew = linewidth,markersize = markersize,\n",
    "    label = \"NN-matcher, Holo-Raw\"\n",
    ")\n",
    "ax2.plot(\n",
    "    RansacNN[:,0],\n",
    "    RansacNN[:,2],\n",
    "    '-.s',\n",
    "    linewidth = linewidth,\n",
    "    fillstyle = 'none',\n",
    "    mew = linewidth,markersize = markersize,\n",
    "    label = \"NN-matcher, Holo-Gen\"\n",
    ")\n",
    "ax2.plot(\n",
    "    ARCoreNN[:,0],\n",
    "    ARCoreNN[:,2],\n",
    "    '-.^',\n",
    "    linewidth = linewidth,\n",
    "    fillstyle = 'none',\n",
    "    mew = linewidth,markersize = markersize,\n",
    "    label = \"NN-matcher, ARCore\"\n",
    ")\n",
    "\n",
    "ax2.legend(loc = \"upper right\", ncol = 1, fontsize = 10);\n",
    "#plt.savefig('plots/one-time-partials-spaces.png', format='png', dpi=300,bbox_inches = 'tight')\n"
   ]
  },
  {
   "cell_type": "code",
   "execution_count": 18,
   "metadata": {},
   "outputs": [],
   "source": [
    "\n",
    "with open('testing_results/nn_matcher/hololens_results_partials_nn_matcher.pickle', 'rb') as f:\n",
    "    results_partials, raw_errors, ransac_errors = pickle.load(f)\n",
    "\n",
    "per_space_score = []\n",
    "perf_scores = []\n",
    "\n",
    "#desired_r = [0.5, 1.0, 3.0]\n",
    "\n",
    "for radius, partial_errors in ransac_errors:\n",
    "\n",
    "    score_map = np.zeros((7,7))\n",
    "\n",
    "    for score in partial_errors:\n",
    "        score_map[int(score[0]),int(score[3])]+=1\n",
    "        \n",
    "    macro_score = f1_score(partial_errors[:,0],partial_errors[:,3],average='macro')\n",
    "    micro_score = f1_score(partial_errors[:,0],partial_errors[:,3],average='micro')\n",
    "    mcc = matthews_corrcoef(partial_errors[:,0],partial_errors[:,3])\n",
    "    ave_prec_score = precision_score(partial_errors[:,0],partial_errors[:,3],average='macro')\n",
    "    prec_score = precision_score(partial_errors[:,0],partial_errors[:,3],average=None)\n",
    "    ave_recl_score = recall_score(partial_errors[:,0],partial_errors[:,3],average='macro')\n",
    "    recl_score = recall_score(partial_errors[:,0],partial_errors[:,3],average=None)\n",
    "    \n",
    "    per_space_score.append([\n",
    "        f1_score(partial_errors[:,0],partial_errors[:,3],average=None),\n",
    "        prec_score,\n",
    "        recl_score\n",
    "    ])\n",
    "    \n",
    "    perf_scores.append([\n",
    "        radius,\n",
    "        macro_score,\n",
    "        micro_score,\n",
    "        mcc,\n",
    "        (np.sum(score_map) - np.trace(score_map))/np.sum(score_map)\n",
    "    ])\n",
    "    \n",
    "per_space_score = np.asarray(per_space_score)\n",
    "perf_scores = np.asarray(perf_scores)\n",
    "\n",
    "with open(\"testing_results/nn_matcher/hololens_partials_summary_results.pickle\",'wb') as f:\n",
    "    pickle.dump([results_partials, per_space_score, perf_scores],f)\n",
    "    "
   ]
  },
  {
   "cell_type": "code",
   "execution_count": 19,
   "metadata": {},
   "outputs": [],
   "source": [
    "with open(\"testing_results/nn_matcher/arcore_results_partials_nn_matcher.pickle\", 'rb') as f:\n",
    "    [arcore_results_partials, arcore_errors] = pickle.load(f)\n",
    "    \n",
    "arcore_nn_per_space_score = []\n",
    "arcore_nn_perf_scores = []\n",
    "\n",
    "#desired_r = [0.5, 1.0, 3.0]\n",
    "\n",
    "for radius, partial_errors in arcore_errors:\n",
    "    \n",
    "    partial_errors = np.asarray(partial_errors[:,[0,3]], dtype=int)\n",
    "\n",
    "    score_map = np.zeros((7,7))\n",
    "\n",
    "    for score in partial_errors:\n",
    "        score_map[int(score[0]),int(score[1])]+=1\n",
    "        \n",
    "    macro_score = f1_score(partial_errors[:,0],partial_errors[:,1],average='macro')\n",
    "    micro_score = f1_score(partial_errors[:,0],partial_errors[:,1],average='micro')\n",
    "    mcc = matthews_corrcoef(partial_errors[:,0],partial_errors[:,1])\n",
    "    ave_prec_score = precision_score(partial_errors[:,0],partial_errors[:,1],average='macro')\n",
    "    prec_score = precision_score(partial_errors[:,0],partial_errors[:,1],average=None)\n",
    "    ave_recl_score = recall_score(partial_errors[:,0],partial_errors[:,1],average='macro')\n",
    "    recl_score = recall_score(partial_errors[:,0],partial_errors[:,1],average=None)\n",
    "\n",
    "    arcore_nn_per_space_score.append([\n",
    "        f1_score(partial_errors[:,0],partial_errors[:,1],average=None),\n",
    "        prec_score,\n",
    "        recl_score\n",
    "    ])\n",
    "\n",
    "    arcore_nn_perf_scores.append([\n",
    "        radius,\n",
    "        macro_score,\n",
    "        micro_score,\n",
    "        mcc,\n",
    "        (np.sum(score_map) - np.trace(score_map))/np.sum(score_map)\n",
    "    ])\n",
    "\n",
    "    \n",
    "arcore_nn_per_space_score = np.asarray(arcore_nn_per_space_score)\n",
    "arcore_nn_perf_scores = np.asarray(arcore_nn_perf_scores)\n",
    "\n",
    "with open(\"testing_results/nn_matcher/arcore_partials_summary_results.pickle\",'wb') as f:\n",
    "    pickle.dump([arcore_results_partials, arcore_nn_per_space_score, arcore_nn_perf_scores],f)\n",
    "    "
   ]
  },
  {
   "cell_type": "markdown",
   "metadata": {},
   "source": [
    "# Scratch"
   ]
  },
  {
   "cell_type": "code",
   "execution_count": null,
   "metadata": {},
   "outputs": [],
   "source": [
    "# Hololens data\n",
    "\n",
    "results_partials = [[],[]] \n",
    "\n",
    "raw_errors = []    \n",
    "ransac_errors = []\n",
    "\n",
    "for radius in np.arange(0.25, 5.1, 0.25):\n",
    "\n",
    "    try:\n",
    "        with bz2.BZ2File('testing_results/partial/ransac_{}_partial_scores_parallel_sample_points_2.pickle.bz2'.format(radius), 'r') as bz2_f:\n",
    "            partial_scores_pool = pickle.load(bz2_f) \n",
    "\n",
    "    except:\n",
    "        print(\"Error getting Raw scores for\",radius)\n",
    "        continue\n",
    "\n",
    "    partial_errors_pool = NN_matcher(partial_scores_pool)\n",
    "    correct_interspace_labels_idxs = np.where(partial_errors_pool[:,1]==0)[0]\n",
    "    intraspace_errors  = partial_errors_pool[correct_interspace_labels_idxs,2]\n",
    "\n",
    "    print(radius,\"(Ransac) P1 Error Rate:\",np.sum(partial_errors_pool[:,1])/len(partial_scores_pool)) \n",
    "    print(\"   (Ransac) P2 Error Rate: {:.3f} (± {:.3f})\".format(np.nanmean(intraspace_errors),np.nanstd(intraspace_errors))) \n",
    "    \n",
    "    ransac_errors.append([\n",
    "        radius,\n",
    "        partial_errors_pool\n",
    "    ])\n",
    "    \n",
    "    results_partials[1].append([\n",
    "        radius,\n",
    "        np.sum(partial_errors_pool[:,1])/len(partial_scores_pool),\n",
    "        np.nanmean(intraspace_errors),\n",
    "        np.nanstd(intraspace_errors)\n",
    "    ])\n",
    "    \n",
    "    try:\n",
    "        with bz2.BZ2File('testing_results/partial/raw_{}_partial_scores.pickle.bz2'.format(radius), 'r') as bz2_f:\n",
    "            partial_scores_pool = pickle.load(bz2_f) \n",
    "            \n",
    "    except:\n",
    "        print(\"Error getting Raw scores for\",radius)\n",
    "        continue\n",
    "\n",
    "    partial_errors_pool = NN_matcher(partial_scores_pool)\n",
    "    correct_interspace_labels_idxs = np.where(partial_errors_pool[:,1]==0)[0]\n",
    "    intraspace_errors  = partial_errors_pool[correct_interspace_labels_idxs,2]\n",
    "\n",
    "    print(radius,\"(Raw) P1 Error Rate:\",np.sum(partial_errors_pool[:,1])/len(partial_scores_pool)) \n",
    "    print(\"   (Raw) P2 Error Rate: {:.3f} (± {:.3f})\".format(np.nanmean(intraspace_errors),np.nanstd(intraspace_errors))) \n",
    "    \n",
    "    results_partials[0].append([\n",
    "        radius,\n",
    "        np.sum(partial_errors_pool[:,1])/len(partial_scores_pool),\n",
    "        np.nanmean(intraspace_errors),\n",
    "        np.nanstd(intraspace_errors)\n",
    "    ])\n",
    "    \n",
    "    raw_errors.append([\n",
    "        radius,\n",
    "        partial_errors_pool\n",
    "    ])\n",
    "    \n",
    "with open('testing_results/partial/results_partials_nn_matcher_1000.pickle', 'wb') as f:\n",
    "    pickle.dump([results_partials, raw_errors, ransac_errors],f)\n"
   ]
  },
  {
   "cell_type": "code",
   "execution_count": null,
   "metadata": {},
   "outputs": [],
   "source": [
    "# Results for ARCore dataset\n",
    "\n",
    "arcore_results_partials = []\n",
    "\n",
    "#raw_errors = []    \n",
    "arcore_ransac_errors = []\n",
    "\n",
    "with open('../../spatial-privacy/descriptors/chosen_arcore_res5_4by5_descriptors_complete.pickle','rb') as f:\n",
    "    arcore_descriptors = pickle.load(f)\n",
    "\n",
    "for radius in np.arange(0.25, 3.1, 0.25):\n",
    "\n",
    "    try:\n",
    "        with bz2.BZ2File(\"testing_results/nn_matcher_arcore/{}_partial_scores.pickle.bz2\".format(radius), 'r') as bz2_f:\n",
    "            partial_scores_pool = pickle.load(bz2_f) \n",
    "\n",
    "    except:\n",
    "        print(\"Error getting arcore scores for\",radius)\n",
    "        continue\n",
    "\n",
    "    partial_errors_pool = ARcore_NNMatcher(partial_scores_pool, arcore_descriptors[:-1])\n",
    "    correct_interspace_labels_idxs = np.where(partial_errors_pool[:,1]==0)[0]\n",
    "    intraspace_errors  = partial_errors_pool[correct_interspace_labels_idxs,2]\n",
    "\n",
    "    print(radius,\"(Ransac) P1 Error Rate:\",np.sum(partial_errors_pool[:,1])/len(partial_scores_pool)) \n",
    "    print(\"   (Ransac) P2 Error Rate: {:.3f} (± {:.3f})\".format(np.nanmean(intraspace_errors),np.nanstd(intraspace_errors))) \n",
    "\n",
    "    arcore_results_partials.append([\n",
    "        radius,\n",
    "        np.sum(partial_errors_pool[:,1])/len(partial_scores_pool),\n",
    "        np.nanmean(intraspace_errors),\n",
    "        np.nanstd(intraspace_errors)\n",
    "    ])\n",
    "    \n",
    "    arcore_ransac_errors.append([\n",
    "        radius,\n",
    "        partial_errors_pool\n",
    "    ])\n",
    "    \n",
    "with open(\"testing_results/nn_matcher_arcore/results_partials_nn_matcher.pickle\", 'wb') as f:\n",
    "    pickle.dump([arcore_results_partials, arcore_ransac_errors],f)"
   ]
  }
 ],
 "metadata": {
  "kernelspec": {
   "display_name": "Python [conda env:.conda-3d_env] *",
   "language": "python",
   "name": "conda-env-.conda-3d_env-py"
  },
  "language_info": {
   "codemirror_mode": {
    "name": "ipython",
    "version": 3
   },
   "file_extension": ".py",
   "mimetype": "text/x-python",
   "name": "python",
   "nbconvert_exporter": "python",
   "pygments_lexer": "ipython3",
   "version": "3.7.4"
  }
 },
 "nbformat": 4,
 "nbformat_minor": 2
}
